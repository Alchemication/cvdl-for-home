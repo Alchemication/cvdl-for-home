{
 "cells": [
  {
   "cell_type": "code",
   "execution_count": 1,
   "metadata": {},
   "outputs": [],
   "source": [
    "import pandas as pd\n",
    "import numpy as np\n",
    "import GPy\n",
    "import matplotlib.pyplot as plt\n",
    "from sklearn.model_selection import train_test_split\n",
    "from sklearn.preprocessing import StandardScaler"
   ]
  },
  {
   "cell_type": "code",
   "execution_count": 2,
   "metadata": {},
   "outputs": [],
   "source": [
    "dataset = pd.read_csv('./Datasets/merged.csv')"
   ]
  },
  {
   "cell_type": "code",
   "execution_count": 3,
   "metadata": {},
   "outputs": [
    {
     "data": {
      "text/html": [
       "<div>\n",
       "<style scoped>\n",
       "    .dataframe tbody tr th:only-of-type {\n",
       "        vertical-align: middle;\n",
       "    }\n",
       "\n",
       "    .dataframe tbody tr th {\n",
       "        vertical-align: top;\n",
       "    }\n",
       "\n",
       "    .dataframe thead th {\n",
       "        text-align: right;\n",
       "    }\n",
       "</style>\n",
       "<table border=\"1\" class=\"dataframe\">\n",
       "  <thead>\n",
       "    <tr style=\"text-align: right;\">\n",
       "      <th></th>\n",
       "      <th>date</th>\n",
       "      <th>hour</th>\n",
       "      <th>obs_count</th>\n",
       "      <th>n_month</th>\n",
       "      <th>n_week_in_month</th>\n",
       "      <th>day_of_week</th>\n",
       "      <th>day_of_week_name</th>\n",
       "      <th>is_weekend_day</th>\n",
       "      <th>day_of_week_name_short</th>\n",
       "      <th>ts</th>\n",
       "      <th>...</th>\n",
       "      <th>cur__windGust</th>\n",
       "      <th>cur__windBearing</th>\n",
       "      <th>cur__cloudCover</th>\n",
       "      <th>cur__uvIndex</th>\n",
       "      <th>cur__visibility</th>\n",
       "      <th>daily__summary</th>\n",
       "      <th>daily__sunriseTime</th>\n",
       "      <th>daily__sunsetTime</th>\n",
       "      <th>daily__temperatureHigh</th>\n",
       "      <th>daily__temperatureLow</th>\n",
       "    </tr>\n",
       "  </thead>\n",
       "  <tbody>\n",
       "    <tr>\n",
       "      <th>0</th>\n",
       "      <td>2019-09-09 00:00:00</td>\n",
       "      <td>7</td>\n",
       "      <td>2</td>\n",
       "      <td>9</td>\n",
       "      <td>2</td>\n",
       "      <td>0</td>\n",
       "      <td>Monday</td>\n",
       "      <td>0</td>\n",
       "      <td>WeekDay</td>\n",
       "      <td>1568010600</td>\n",
       "      <td>...</td>\n",
       "      <td>43.38</td>\n",
       "      <td>311</td>\n",
       "      <td>0.26</td>\n",
       "      <td>0</td>\n",
       "      <td>16.093</td>\n",
       "      <td>Possible drizzle in the morning.</td>\n",
       "      <td>1568008740</td>\n",
       "      <td>1568055900</td>\n",
       "      <td>16.6</td>\n",
       "      <td>7.01</td>\n",
       "    </tr>\n",
       "    <tr>\n",
       "      <th>1</th>\n",
       "      <td>2019-09-09 00:00:00</td>\n",
       "      <td>8</td>\n",
       "      <td>3</td>\n",
       "      <td>9</td>\n",
       "      <td>2</td>\n",
       "      <td>0</td>\n",
       "      <td>Monday</td>\n",
       "      <td>0</td>\n",
       "      <td>WeekDay</td>\n",
       "      <td>1568014200</td>\n",
       "      <td>...</td>\n",
       "      <td>44.96</td>\n",
       "      <td>316</td>\n",
       "      <td>0.26</td>\n",
       "      <td>0</td>\n",
       "      <td>16.093</td>\n",
       "      <td>Possible drizzle in the morning.</td>\n",
       "      <td>1568008740</td>\n",
       "      <td>1568055900</td>\n",
       "      <td>16.6</td>\n",
       "      <td>7.01</td>\n",
       "    </tr>\n",
       "  </tbody>\n",
       "</table>\n",
       "<p>2 rows × 29 columns</p>\n",
       "</div>"
      ],
      "text/plain": [
       "                  date  hour  obs_count  n_month  n_week_in_month  \\\n",
       "0  2019-09-09 00:00:00     7          2        9                2   \n",
       "1  2019-09-09 00:00:00     8          3        9                2   \n",
       "\n",
       "   day_of_week day_of_week_name  is_weekend_day day_of_week_name_short  \\\n",
       "0            0           Monday               0                WeekDay   \n",
       "1            0           Monday               0                WeekDay   \n",
       "\n",
       "           ts  ... cur__windGust cur__windBearing  cur__cloudCover  \\\n",
       "0  1568010600  ...         43.38              311             0.26   \n",
       "1  1568014200  ...         44.96              316             0.26   \n",
       "\n",
       "   cur__uvIndex cur__visibility                    daily__summary  \\\n",
       "0             0          16.093  Possible drizzle in the morning.   \n",
       "1             0          16.093  Possible drizzle in the morning.   \n",
       "\n",
       "   daily__sunriseTime  daily__sunsetTime  daily__temperatureHigh  \\\n",
       "0          1568008740         1568055900                    16.6   \n",
       "1          1568008740         1568055900                    16.6   \n",
       "\n",
       "   daily__temperatureLow  \n",
       "0                   7.01  \n",
       "1                   7.01  \n",
       "\n",
       "[2 rows x 29 columns]"
      ]
     },
     "execution_count": 3,
     "metadata": {},
     "output_type": "execute_result"
    }
   ],
   "source": [
    "dataset.head(2)"
   ]
  },
  {
   "cell_type": "code",
   "execution_count": 4,
   "metadata": {},
   "outputs": [],
   "source": [
    "num_features = ['hour', 'n_month', 'day_of_week', 'is_weekend_day', 'cur__precipIntensity', 'cur__precipProbability',\n",
    "     'cur__temperature', 'cur__apparentTemperature', 'cur__humidity', 'cur__windSpeed', 'cur__windGust',\n",
    "     'cur__cloudCover', 'cur__uvIndex', 'cur__visibility', 'daily__temperatureHigh']\n",
    "X = dataset[num_features]\n",
    "y = dataset['obs_count']"
   ]
  },
  {
   "cell_type": "code",
   "execution_count": 5,
   "metadata": {},
   "outputs": [],
   "source": [
    "X_train, X_test, y_train, y_test = train_test_split(X, y, test_size=0.2, random_state=42)"
   ]
  },
  {
   "cell_type": "code",
   "execution_count": 9,
   "metadata": {},
   "outputs": [
    {
     "name": "stdout",
     "output_type": "stream",
     "text": [
      "now optimizing with all data\n"
     ]
    },
    {
     "data": {
      "text/plain": [
       "<paramz.optimization.optimization.opt_lbfgsb at 0x7f22d869dcc0>"
      ]
     },
     "execution_count": 9,
     "metadata": {},
     "output_type": "execute_result"
    }
   ],
   "source": [
    "# choose subset of features to improve speed and accuracy\n",
    "use_feats = 'hour,cur__precipIntensity,cur__apparentTemperature,cur__uvIndex,is_weekend_day'.split(',')\n",
    "\n",
    "# scale data using standard scaler\n",
    "scaler = StandardScaler()\n",
    "X_train_scaled = scaler.fit_transform(X_train[use_feats])\n",
    "y_train_reshaped = np.expand_dims(y_train, axis=1)\n",
    "\n",
    "# create kernel (tried adding periodic kernel Matern52 and it did not improve the performance)\n",
    "kernel_radial = GPy.kern.RBF(X_train_scaled.shape[1], ARD=True)\n",
    "\n",
    "# create likelihood for the model and inference method\n",
    "poisson_likelihood = GPy.likelihoods.Poisson()\n",
    "laplace_inf = GPy.inference.latent_function_inference.Laplace()\n",
    "\n",
    "# run Gaussian process and optimize parameters\n",
    "m = GPy.core.GP(X=X_train_scaled, Y=y_train_reshaped, likelihood=poisson_likelihood,\n",
    "                inference_method=laplace_inf, kernel=kernel_radial)\n",
    "m.optimize()  # more th"
   ]
  },
  {
   "cell_type": "code",
   "execution_count": 10,
   "metadata": {},
   "outputs": [
    {
     "data": {
      "text/html": [
       "<style type=\"text/css\">\n",
       ".tg  {font-family:\"Courier New\", Courier, monospace !important;padding:2px 3px;word-break:normal;border-collapse:collapse;border-spacing:0;border-color:#DCDCDC;margin:0px auto;width:100%;}\n",
       ".tg td{font-family:\"Courier New\", Courier, monospace !important;font-weight:bold;color:#444;background-color:#F7FDFA;border-style:solid;border-width:1px;overflow:hidden;word-break:normal;border-color:#DCDCDC;}\n",
       ".tg th{font-family:\"Courier New\", Courier, monospace !important;font-weight:normal;color:#fff;background-color:#26ADE4;border-style:solid;border-width:1px;overflow:hidden;word-break:normal;border-color:#DCDCDC;}\n",
       ".tg .tg-left{font-family:\"Courier New\", Courier, monospace !important;font-weight:normal;text-align:left;}\n",
       ".tg .tg-center{font-family:\"Courier New\", Courier, monospace !important;font-weight:normal;text-align:center;}\n",
       ".tg .tg-right{font-family:\"Courier New\", Courier, monospace !important;font-weight:normal;text-align:right;}\n",
       "</style>\n",
       "<table class=\"tg\"><tr><th><b>  rbf.       </b></th><th><b>            value</b></th><th><b>constraints</b></th><th><b>priors</b></th></tr>\n",
       "<tr><td class=tg-left>  variance   </td><td class=tg-right>2.946813195311062</td><td class=tg-center>    +ve    </td><td class=tg-center>      </td></tr>\n",
       "<tr><td class=tg-left>  lengthscale</td><td class=tg-right>             (5,)</td><td class=tg-center>    +ve    </td><td class=tg-center>      </td></tr>\n",
       "</table>"
      ],
      "text/plain": [
       "<GPy.kern.src.rbf.RBF at 0x7f22d86ef198>"
      ]
     },
     "execution_count": 10,
     "metadata": {},
     "output_type": "execute_result"
    }
   ],
   "source": [
    "#check the estimated parameters\n",
    "m.kern"
   ]
  },
  {
   "cell_type": "code",
   "execution_count": 11,
   "metadata": {},
   "outputs": [],
   "source": [
    "# generate predictions from the scaled test data,\n",
    "# GPy returns a tuple of 2 lists (means and variances)\n",
    "X_test_scaled = scaler.transform(X_test[use_feats])\n",
    "preds1 = m.predict(Xnew=X_test_scaled, include_likelihood=True)"
   ]
  },
  {
   "cell_type": "code",
   "execution_count": 15,
   "metadata": {},
   "outputs": [
    {
     "data": {
      "text/plain": [
       "(828, 1)"
      ]
     },
     "execution_count": 15,
     "metadata": {},
     "output_type": "execute_result"
    }
   ],
   "source": [
    "preds1[1].shape"
   ]
  },
  {
   "cell_type": "code",
   "execution_count": 17,
   "metadata": {},
   "outputs": [
    {
     "data": {
      "image/png": "[encoded data removed]",
      "text/plain": [
       "<Figure size 432x288 with 1 Axes>"
      ]
     },
     "metadata": {
      "needs_background": "light"
     },
     "output_type": "display_data"
    }
   ],
   "source": [
    "#I now predict directly the mean function (just for your understanding)\n",
    "preds = m.predict_noiseless(Xnew=X_test_scaled, full_cov=True)\n",
    "plt.hist(preds[0]); #this is the mean function of the GP\n",
    "sampled_functions = np.random.multivariate_normal(preds[0][:,0], preds[1], 500)#sampling from the posterior"
   ]
  },
  {
   "cell_type": "code",
   "execution_count": 22,
   "metadata": {},
   "outputs": [
    {
     "data": {
      "text/plain": [
       "(828,)"
      ]
     },
     "execution_count": 22,
     "metadata": {},
     "output_type": "execute_result"
    }
   ],
   "source": [
    "preds[0][:,0].shape"
   ]
  },
  {
   "cell_type": "code",
   "execution_count": 24,
   "metadata": {},
   "outputs": [
    {
     "data": {
      "text/plain": [
       "(828,)"
      ]
     },
     "execution_count": 24,
     "metadata": {},
     "output_type": "execute_result"
    }
   ],
   "source": [
    "preds[1][0].shape"
   ]
  },
  {
   "cell_type": "code",
   "execution_count": 18,
   "metadata": {},
   "outputs": [
    {
     "data": {
      "text/plain": [
       "(500, 828)"
      ]
     },
     "execution_count": 18,
     "metadata": {},
     "output_type": "execute_result"
    }
   ],
   "source": [
    "sampled_functions.shape"
   ]
  },
  {
   "cell_type": "code",
   "execution_count": 26,
   "metadata": {},
   "outputs": [
    {
     "data": {
      "text/plain": [
       "array([[2.2890736 ],\n",
       "       [0.01191219],\n",
       "       [0.26697525],\n",
       "       [3.58635602],\n",
       "       [3.62768336],\n",
       "       [0.02371747],\n",
       "       [1.80726426],\n",
       "       [0.45637528],\n",
       "       [0.18264659],\n",
       "       [0.73816629]])"
      ]
     },
     "execution_count": 26,
     "metadata": {},
     "output_type": "execute_result"
    }
   ],
   "source": [
    "preds1[0][:10]"
   ]
  },
  {
   "cell_type": "code",
   "execution_count": 25,
   "metadata": {},
   "outputs": [
    {
     "data": {
      "text/plain": [
       "array([[2.27390536],\n",
       "       [0.01179618],\n",
       "       [0.27024181],\n",
       "       [3.62701047],\n",
       "       [3.59648424],\n",
       "       [0.02309901],\n",
       "       [1.81352887],\n",
       "       [0.45178288],\n",
       "       [0.18246848],\n",
       "       [0.77925775]])"
      ]
     },
     "execution_count": 25,
     "metadata": {},
     "output_type": "execute_result"
    }
   ],
   "source": [
    "# the Poisson intensity is defined as exp(f), so\n",
    "exp_sampled_functions=np.exp(sampled_functions)\n",
    "mean_intensity=np.mean(exp_sampled_functions,axis=0).reshape(-1,1) # approximatively this is what is in preds1[0]\n",
    "mean_intensity[:10] #this is the mean intensity function estimated by the GP"
   ]
  },
  {
   "cell_type": "code",
   "execution_count": 27,
   "metadata": {},
   "outputs": [
    {
     "data": {
      "text/plain": [
       "array([3.59648424])"
      ]
     },
     "execution_count": 27,
     "metadata": {},
     "output_type": "execute_result"
    }
   ],
   "source": [
    "mean_intensity[4]"
   ]
  },
  {
   "cell_type": "code",
   "execution_count": 32,
   "metadata": {},
   "outputs": [
    {
     "data": {
      "text/plain": [
       "6"
      ]
     },
     "execution_count": 32,
     "metadata": {},
     "output_type": "execute_result"
    }
   ],
   "source": [
    "y_test.values[4]"
   ]
  },
  {
   "cell_type": "code",
   "execution_count": 30,
   "metadata": {},
   "outputs": [
    {
     "data": {
      "text/plain": [
       "array([0.02741996, 0.09861544, 0.17733443, 0.2125935 , 0.19114729,\n",
       "       0.13749164, 0.08241442])"
      ]
     },
     "execution_count": 30,
     "metadata": {},
     "output_type": "execute_result"
    }
   ],
   "source": [
    "import scipy as sp\n",
    "sp.stats.poisson(mean_intensity[4]).pmf([0,1,2,3,4,5,6])"
   ]
  },
  {
   "cell_type": "markdown",
   "metadata": {},
   "source": [
    "the mean intensity gives you the mean rate of the posson distribution, as higher as larger is the number of events for that relative row (X_test)"
   ]
  },
  {
   "cell_type": "code",
   "execution_count": 35,
   "metadata": {},
   "outputs": [
    {
     "data": {
      "text/plain": [
       "<matplotlib.collections.PathCollection at 0x7f22d7c75160>"
      ]
     },
     "execution_count": 35,
     "metadata": {},
     "output_type": "execute_result"
    },
    {
     "data": {
      "image/png": "[encoded data removed]",
      "text/plain": [
       "<Figure size 432x288 with 1 Axes>"
      ]
     },
     "metadata": {
      "needs_background": "light"
     },
     "output_type": "display_data"
    }
   ],
   "source": [
    "import scipy as sp\n",
    "xx= np.arange(0,20)\n",
    "i=3#let's fix one test point\n",
    "plt.stem(xx, sp.stats.poisson(mean_intensity[i]).pmf(xx), use_line_collection=True)\n",
    "plt.ylabel('probability')\n",
    "plt.xlabel('number of events')\n",
    "plt.scatter(y_test.values[i], 0, color='r')#true event"
   ]
  },
  {
   "cell_type": "code",
   "execution_count": 46,
   "metadata": {},
   "outputs": [
    {
     "name": "stdout",
     "output_type": "stream",
     "text": [
      "3.6270104264822027 3.6270104678460924\n"
     ]
    }
   ],
   "source": [
    "#your point estimator of the counts should be mean intensity \n",
    "estimator = mean_intensity[i][0] #this the average of the above distribution\n",
    "print(np.sum(xx*sp.stats.poisson(mean_intensity[i]).pmf(xx)), estimator) # note that they are equal"
   ]
  },
  {
   "cell_type": "code",
   "execution_count": 41,
   "metadata": {},
   "outputs": [
    {
     "data": {
      "text/plain": [
       "array([2.65955740e-02, 9.64624253e-02, 1.74935113e-01, 2.11497162e-01,\n",
       "       1.91775605e-01, 1.39114426e-01, 8.40949130e-02, 4.35733042e-02,\n",
       "       1.97551038e-02, 7.96132982e-03, 2.88758266e-03, 9.52117503e-04,\n",
       "       2.87778346e-04, 8.02903902e-05, 2.08010061e-05, 5.02969780e-06,\n",
       "       1.14017291e-06, 2.43259946e-07, 4.90170206e-08, 9.35711824e-09])"
      ]
     },
     "execution_count": 41,
     "metadata": {},
     "output_type": "execute_result"
    }
   ],
   "source": [
    "sp.stats.poisson(mean_intensity[i]).pmf(xx)"
   ]
  },
  {
   "cell_type": "code",
   "execution_count": 47,
   "metadata": {},
   "outputs": [
    {
     "data": {
      "text/plain": [
       "2.3496432687649373"
      ]
     },
     "execution_count": 47,
     "metadata": {},
     "output_type": "execute_result"
    }
   ],
   "source": [
    "#you can then compute the MSE as\n",
    "np.mean((mean_intensity[:,0] - y_test.values)**2)"
   ]
  },
  {
   "cell_type": "code",
   "execution_count": 58,
   "metadata": {},
   "outputs": [
    {
     "data": {
      "text/plain": [
       "0.06353774673455517"
      ]
     },
     "execution_count": 58,
     "metadata": {},
     "output_type": "execute_result"
    }
   ],
   "source": [
    "np.std(exp_sampled_functions, axis=0)[2]"
   ]
  },
  {
   "cell_type": "code",
   "execution_count": 68,
   "metadata": {},
   "outputs": [
    {
     "data": {
      "text/plain": [
       "hour                        16.0000\n",
       "n_month                      9.0000\n",
       "day_of_week                  5.0000\n",
       "is_weekend_day               1.0000\n",
       "cur__precipIntensity         2.7909\n",
       "cur__precipProbability       0.8400\n",
       "cur__temperature            13.2400\n",
       "cur__apparentTemperature    13.2400\n",
       "cur__humidity                0.9600\n",
       "cur__windSpeed              20.3200\n",
       "cur__windGust               26.0600\n",
       "cur__cloudCover              0.9900\n",
       "cur__uvIndex                 1.0000\n",
       "cur__visibility             11.7840\n",
       "daily__temperatureHigh      15.3500\n",
       "Name: 465, dtype: float64"
      ]
     },
     "execution_count": 68,
     "metadata": {},
     "output_type": "execute_result"
    }
   ],
   "source": [
    "X_test.iloc[418]"
   ]
  },
  {
   "cell_type": "code",
   "execution_count": 67,
   "metadata": {},
   "outputs": [
    {
     "data": {
      "text/plain": [
       "418"
      ]
     },
     "execution_count": 67,
     "metadata": {},
     "output_type": "execute_result"
    }
   ],
   "source": [
    "ind=np.argsort(np.std(exp_sampled_functions, axis=0))#sort instances with higher variance\n",
    "\n",
    "ind[-1]\n",
    "\n",
    "# #this is an instance with low uncertainty, can you explain it from the values of Xtest?\n",
    "# i=ind[0]#is it night?\n",
    "# plt.stem(xx,sp.stats.poisson(mean_intensity[i]).pmf(xx))\n",
    "# plt.ylabel('probability')\n",
    "# plt.xlabel('number of events')\n",
    "# plt.scatter(y_test.values[i],0,color='r')#true event\n",
    "\n",
    "# plt.figure()\n",
    "# #this is an instance with high uncertainty, can you explain it from the values of Xtest?\n",
    "# i=ind[-2]\n",
    "# plt.stem(xx,sp.stats.poisson(mean_intensity[i]).pmf(xx))\n",
    "# plt.ylabel('probability')\n",
    "# plt.xlabel('number of events')\n",
    "# plt.scatter(y_test.values[i],0,color='r')#true event"
   ]
  },
  {
   "cell_type": "code",
   "execution_count": null,
   "metadata": {},
   "outputs": [],
   "source": []
  },
  {
   "cell_type": "code",
   "execution_count": null,
   "metadata": {},
   "outputs": [],
   "source": []
  },
  {
   "cell_type": "code",
   "execution_count": null,
   "metadata": {},
   "outputs": [],
   "source": []
  },
  {
   "cell_type": "code",
   "execution_count": null,
   "metadata": {},
   "outputs": [],
   "source": []
  },
  {
   "cell_type": "code",
   "execution_count": 112,
   "metadata": {},
   "outputs": [
    {
     "data": {
      "application/vnd.jupyter.widget-view+json": {
       "model_id": "8694033044c24b3e888b4cdfefb3d5bd",
       "version_major": 2,
       "version_minor": 0
      },
      "text/plain": [
       "HBox(children=(VBox(children=(IntProgress(value=0), HTML(value=''))), Box(children=(HTML(value=''),))))"
      ]
     },
     "metadata": {},
     "output_type": "display_data"
    },
    {
     "data": {
      "text/plain": [
       "<paramz.optimization.optimization.opt_lbfgsb at 0x7f22d6570550>"
      ]
     },
     "execution_count": 112,
     "metadata": {},
     "output_type": "execute_result"
    }
   ],
   "source": [
    "kernel1 = GPy.kern.RBF(X_train_scaled.shape[1], ARD=True) + GPy.kern.StdPeriodic(\n",
    "    X_train_scaled.shape[1], ARD1=True, ARD2=True)\n",
    "\n",
    "# create likelihood for the model and inference method\n",
    "poisson_likelihood = GPy.likelihoods.Poisson()\n",
    "laplace_inf = GPy.inference.latent_function_inference.Laplace()\n",
    "\n",
    "# run Gaussian process and optimize parameters\n",
    "m = GPy.core.GP(X=X_train_scaled, Y=y_train_reshaped, likelihood=poisson_likelihood,\n",
    "                inference_method=laplace_inf, kernel=kernel1)\n",
    "m.optimize(max_iters=100, messages=True)"
   ]
  },
  {
   "cell_type": "markdown",
   "metadata": {},
   "source": [
    "predict noiseless"
   ]
  },
  {
   "cell_type": "code",
   "execution_count": 113,
   "metadata": {},
   "outputs": [],
   "source": [
    "# I now predict directly the mean function (just for your understanding)\n",
    "preds = m.predict_noiseless(Xnew=X_test_scaled, full_cov=True)\n",
    "sampled_functions = np.random.multivariate_normal(preds[0][:,0], preds[1], 500)#sampling from the posterior\n",
    "\n",
    "# the Poisson intensity is defined as exp(f), so\n",
    "exp_sampled_functions=np.exp(sampled_functions)\n",
    "mean_intensity=np.mean(exp_sampled_functions,axis=0).reshape(-1,1) # approximatively this is what is in preds1[0]"
   ]
  },
  {
   "cell_type": "code",
   "execution_count": 114,
   "metadata": {},
   "outputs": [
    {
     "data": {
      "text/plain": [
       "2.515243110931229"
      ]
     },
     "execution_count": 114,
     "metadata": {},
     "output_type": "execute_result"
    }
   ],
   "source": [
    "np.mean((mean_intensity[:,0]-y_test.values)**2)"
   ]
  },
  {
   "cell_type": "code",
   "execution_count": 89,
   "metadata": {},
   "outputs": [],
   "source": [
    "uncertainties = np.std(exp_sampled_functions, axis=0)"
   ]
  },
  {
   "cell_type": "code",
   "execution_count": 93,
   "metadata": {},
   "outputs": [
    {
     "data": {
      "text/plain": [
       "(0.004565093601253444, 8.238560414382555)"
      ]
     },
     "execution_count": 93,
     "metadata": {},
     "output_type": "execute_result"
    }
   ],
   "source": [
    "np.min(uncertainties), np.max(uncertainties)"
   ]
  },
  {
   "cell_type": "code",
   "execution_count": 103,
   "metadata": {},
   "outputs": [
    {
     "data": {
      "text/plain": [
       "(22,)"
      ]
     },
     "execution_count": 103,
     "metadata": {},
     "output_type": "execute_result"
    }
   ],
   "source": [
    "uncertainties[uncertainties > 0.8].shape"
   ]
  },
  {
   "cell_type": "code",
   "execution_count": 102,
   "metadata": {},
   "outputs": [
    {
     "data": {
      "image/png": "[encoded data removed]",
      "text/plain": [
       "<Figure size 432x288 with 1 Axes>"
      ]
     },
     "metadata": {
      "needs_background": "light"
     },
     "output_type": "display_data"
    }
   ],
   "source": [
    "plt.plot(uncertainties[uncertainties > 0.8]);"
   ]
  },
  {
   "cell_type": "code",
   "execution_count": null,
   "metadata": {},
   "outputs": [],
   "source": []
  }
 ],
 "metadata": {
  "kernelspec": {
   "display_name": "Python 3",
   "language": "python",
   "name": "python3"
  },
  "language_info": {
   "codemirror_mode": {
    "name": "ipython",
    "version": 3
   },
   "file_extension": ".py",
   "mimetype": "text/x-python",
   "name": "python",
   "nbconvert_exporter": "python",
   "pygments_lexer": "ipython3",
   "version": "3.7.0"
  },
  "toc": {
   "base_numbering": 1,
   "nav_menu": {},
   "number_sections": true,
   "sideBar": true,
   "skip_h1_title": false,
   "title_cell": "Table of Contents",
   "title_sidebar": "Contents",
   "toc_cell": false,
   "toc_position": {},
   "toc_section_display": true,
   "toc_window_display": false
  }
 },
 "nbformat": 4,
 "nbformat_minor": 4
}
