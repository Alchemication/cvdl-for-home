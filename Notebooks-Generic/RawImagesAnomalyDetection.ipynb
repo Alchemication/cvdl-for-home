{
 "cells": [
  {
   "cell_type": "markdown",
   "metadata": {},
   "source": [
    "# Anomaly detection from raw images (all objects)\n",
    "\n",
    "This Notebook serves a purpose to identify anomalies based on the patterns encoded in the raw images.\n",
    "\n",
    "The current state of affairs in terms of using DL for anomaly detection is described well in [this paper](https://arxiv.org/abs/1901.03407)\n",
    "\n",
    "### General idea\n",
    "\n",
    "The general idea here is as follows: Can we use an unsupervised ML technique to train a model without giving it any labels to pick up the images, which are different from the majority of images?\n",
    "\n",
    "It turns out that AutoEncoders can do it and have been used in the industry for mainly 3 purposes:\n",
    "- compressing datasets\n",
    "- denosing images\n",
    "- anomaly detection\n",
    "\n",
    "My strategy to automatically find the anomalous images will follow these steps:\n",
    "- load raw images from the disk\n",
    "- preprocess images\n",
    "- split dataset into train and test sets\n",
    "- define autoencoder architecture\n",
    "- train autoencoder and analyse training results\n",
    "- use test set and see which results produce highest error\n",
    "- ability to find the error threshold based on the percentage of anomalies (if we know that number)\n",
    "\n",
    "### Challenges / experiments to perform:\n",
    "\n",
    "There are many questions about this experiment and many ways of trying it. Here are the main questions, which I will try to answer in my analysis:\n",
    "- should we split the datsets by class or perform one training for all classes and let algorithm find anomalies?\n",
    "- how many images do we need to be representative? (whole dataset is over 300K samples)?\n",
    "- what resolution should images be?\n",
    "- should other image preprocessing tricks be applied (thresholding for example)?\n",
    "- what is the impact of including only the area of interest and hiding the terrain outside of the parking slot?\n",
    "- if vanila autoencoder does not do a good job, can variational autoencoder do it better?\n",
    "\n",
    "Paper on AutoEncoders to review [here](https://arxiv.org/pdf/1606.08921.pdf)"
   ]
  },
  {
   "cell_type": "code",
   "execution_count": 1,
   "metadata": {},
   "outputs": [
    {
     "name": "stdout",
     "output_type": "stream",
     "text": [
      "TF -> Using GPU ->  PhysicalDevice(name='/physical_device:GPU:0', device_type='GPU')\n"
     ]
    }
   ],
   "source": [
    "# import ConfigImports Notebook to import and configure libs\n",
    "%run ../ConfigImports.ipynb"
   ]
  },
  {
   "cell_type": "markdown",
   "metadata": {},
   "source": [
    "### Load dataset and clean it up\n",
    "\n",
    "First, lets load a dataframe with all image dates and filenames from a previously stored parquet file.\n",
    "\n",
    "Then lets remove the outage dates."
   ]
  },
  {
   "cell_type": "code",
   "execution_count": 3,
   "metadata": {},
   "outputs": [
    {
     "data": {
      "text/html": [
       "<div>\n",
       "<style scoped>\n",
       "    .dataframe tbody tr th:only-of-type {\n",
       "        vertical-align: middle;\n",
       "    }\n",
       "\n",
       "    .dataframe tbody tr th {\n",
       "        vertical-align: top;\n",
       "    }\n",
       "\n",
       "    .dataframe thead th {\n",
       "        text-align: right;\n",
       "    }\n",
       "</style>\n",
       "<table border=\"1\" class=\"dataframe\">\n",
       "  <thead>\n",
       "    <tr style=\"text-align: right;\">\n",
       "      <th></th>\n",
       "      <th>img_idx</th>\n",
       "      <th>label</th>\n",
       "      <th>confidence</th>\n",
       "      <th>x1</th>\n",
       "      <th>y1</th>\n",
       "      <th>x2</th>\n",
       "      <th>y2</th>\n",
       "      <th>date</th>\n",
       "      <th>time</th>\n",
       "      <th>filename</th>\n",
       "      <th>img_n_boxes</th>\n",
       "      <th>time_ms</th>\n",
       "      <th>date_time</th>\n",
       "      <th>week_day</th>\n",
       "      <th>is_weekend</th>\n",
       "      <th>month</th>\n",
       "      <th>hour</th>\n",
       "      <th>min</th>\n",
       "    </tr>\n",
       "  </thead>\n",
       "  <tbody>\n",
       "    <tr>\n",
       "      <th>0</th>\n",
       "      <td>72846</td>\n",
       "      <td>car</td>\n",
       "      <td>0.523175</td>\n",
       "      <td>298</td>\n",
       "      <td>7</td>\n",
       "      <td>426</td>\n",
       "      <td>71</td>\n",
       "      <td>2019-09-09</td>\n",
       "      <td>07.02.40</td>\n",
       "      <td>07.02.40.270_34c99836_car-car-car.jpg</td>\n",
       "      <td>1</td>\n",
       "      <td>270</td>\n",
       "      <td>2019-09-09 07:02:40.270</td>\n",
       "      <td>Monday</td>\n",
       "      <td>False</td>\n",
       "      <td>9</td>\n",
       "      <td>7</td>\n",
       "      <td>2</td>\n",
       "    </tr>\n",
       "    <tr>\n",
       "      <th>1</th>\n",
       "      <td>72847</td>\n",
       "      <td>person</td>\n",
       "      <td>0.759682</td>\n",
       "      <td>489</td>\n",
       "      <td>31</td>\n",
       "      <td>518</td>\n",
       "      <td>106</td>\n",
       "      <td>2019-09-09</td>\n",
       "      <td>12.02.42</td>\n",
       "      <td>12.02.42.921_ea6c9143_person-bicycle.jpg</td>\n",
       "      <td>2</td>\n",
       "      <td>921</td>\n",
       "      <td>2019-09-09 12:02:42.921</td>\n",
       "      <td>Monday</td>\n",
       "      <td>False</td>\n",
       "      <td>9</td>\n",
       "      <td>12</td>\n",
       "      <td>2</td>\n",
       "    </tr>\n",
       "  </tbody>\n",
       "</table>\n",
       "</div>"
      ],
      "text/plain": [
       "   img_idx   label  confidence   x1  y1   x2   y2        date      time                                  filename  img_n_boxes time_ms               date_time week_day  is_weekend  month  hour  min\n",
       "0    72846     car    0.523175  298   7  426   71  2019-09-09  07.02.40     07.02.40.270_34c99836_car-car-car.jpg            1     270 2019-09-09 07:02:40.270   Monday       False      9     7    2\n",
       "1    72847  person    0.759682  489  31  518  106  2019-09-09  12.02.42  12.02.42.921_ea6c9143_person-bicycle.jpg            2     921 2019-09-09 12:02:42.921   Monday       False      9    12    2"
      ]
     },
     "execution_count": 3,
     "metadata": {},
     "output_type": "execute_result"
    }
   ],
   "source": [
    "df = pd.read_parquet('../Datasets/AllObjectDetections_2019-09-09_2020-03-02.parquet.gzip')\n",
    "df = df.drop(labels=['index'], axis=1)\n",
    "df.head(2)"
   ]
  },
  {
   "cell_type": "code",
   "execution_count": 4,
   "metadata": {},
   "outputs": [
    {
     "data": {
      "text/plain": [
       "(643471, 18)"
      ]
     },
     "execution_count": 4,
     "metadata": {},
     "output_type": "execute_result"
    }
   ],
   "source": [
    "FAULTY_DATES = ['2020-01-13', '2020-01-14', '2020-02-28']\n",
    "idx = df['date'].isin(FAULTY_DATES)\n",
    "df = df.loc[~idx]\n",
    "df.shape"
   ]
  },
  {
   "cell_type": "markdown",
   "metadata": {},
   "source": [
    "### Define helper functions using Computer Vision techniques\n",
    "\n",
    "First of, we need a quick way of displaying images in the Notebook. This is handled by the `imshow` function below, which is flexible enough to handle 3 types of inputs to display an image:\n",
    "- image file path\n",
    "- image as numpy array\n",
    "- grayscale and color images\n",
    "\n",
    "Next, I have defined the `process_frame` function, which allows to perform following operations on an image using flags as function arguments:\n",
    "- convert to gray scale \n",
    "- apply Gaussian blur\n",
    "- apply thresholding\n",
    "- crop region of interest using polyfill"
   ]
  },
  {
   "cell_type": "code",
   "execution_count": 6,
   "metadata": {},
   "outputs": [],
   "source": [
    "def imshow(img, width=12, height=6):\n",
    "    \"\"\"\n",
    "    Show image using matplotlib. Function takes a path or a \n",
    "    numpy image and renders it in RBG color-space\n",
    "    \"\"\"\n",
    "    if isinstance(img, str):\n",
    "        img = cv2.imread(img)\n",
    "    rcParams['figure.figsize'] = width, height\n",
    "    plt.axis('off')\n",
    "    print(img.shape)\n",
    "    plt.imshow(cv2.cvtColor(img, cv2.COLOR_BGR2RGB));\n",
    "    plt.show()\n",
    "\n",
    "def process_frame(frame, dims, is_gray=True, is_blur=False, is_thresh=False, is_polyfill=False,\n",
    "                  poly_values=None, debug_poly=False):\n",
    "    \"\"\"\n",
    "    Preprocess frame for Machine Learning:    \n",
    "    - resize to desired size to improve performance and reduce noise\n",
    "    - change to gray scale to improve performance and remove color variances\n",
    "    - apply Gaussian blur to remove noise\n",
    "    - threshold to partition an image into foreground and background\n",
    "    - mask out an area of an image bases on a poly shape\n",
    "    \"\"\"\n",
    "    if frame is None or frame.shape[0] == 0:\n",
    "        raise ValueError('Error: issue with frame!')\n",
    "    frame = cv2.resize(frame, dims)\n",
    "    if is_gray:\n",
    "        frame = cv2.cvtColor(frame, cv2.COLOR_RGB2GRAY)\n",
    "    if is_blur:\n",
    "        frame = cv2.GaussianBlur(frame, (5, 5), 0)\n",
    "    if is_thresh:\n",
    "        _, frame = cv2.threshold(frame, 0, 255, cv2.THRESH_BINARY_INV + cv2.THRESH_OTSU)\n",
    "    if is_polyfill:\n",
    "        wh  = np.array([frame.shape[0], frame.shape[1]])\n",
    "        poly_shape = np.array([poly_values * wh]).astype(np.int32)\n",
    "        cv2.fillConvexPoly(frame, poly_shape, (0, 0, 0))\n",
    "        if debug_poly:\n",
    "            for points in poly_shape:\n",
    "                for i, p in enumerate(points):\n",
    "                    text_points = (p[0] + 2 if p[0] < wh[0] else p[0] - 18, p[1] + 24)\n",
    "                    frame = cv2.circle(frame, tuple(p), 3, (0,255,0), 3)\n",
    "                    cv2.putText(frame, str(i), text_points, cv2.FONT_HERSHEY_SIMPLEX, \n",
    "                            0.7, (0,0,255), 2)\n",
    "    return frame"
   ]
  },
  {
   "cell_type": "markdown",
   "metadata": {},
   "source": [
    "### Example frame processed"
   ]
  },
  {
   "cell_type": "code",
   "execution_count": 14,
   "metadata": {},
   "outputs": [
    {
     "data": {
      "text/plain": [
       "9.0"
      ]
     },
     "execution_count": 14,
     "metadata": {},
     "output_type": "execute_result"
    }
   ],
   "source": [
    "# Todo: show all possible image processing based on the same image (render as 2x2 plot-grid)\n",
    "72 / 8"
   ]
  },
  {
   "cell_type": "markdown",
   "metadata": {},
   "source": [
    "### Automated parameter test\n",
    "\n",
    "There is so many permutations of potential options to select here that it cna get overwheling very quickly.\n",
    "\n",
    "What I have decided to do is to define a list of all parameters I would like to test and use Pythons `itertools.product` function to create a cartesian product of all parameters, and then test them all in a single loop, which can run overnight without a need to manually re-run the model."
   ]
  },
  {
   "cell_type": "code",
   "execution_count": 7,
   "metadata": {},
   "outputs": [],
   "source": [
    "from tensorflow.keras.layers import BatchNormalization\n",
    "from tensorflow.keras.layers import Conv2D\n",
    "from tensorflow.keras.layers import Conv2DTranspose\n",
    "from tensorflow.keras.layers import LeakyReLU\n",
    "from tensorflow.keras.layers import Activation\n",
    "from tensorflow.keras.layers import Flatten\n",
    "from tensorflow.keras.layers import Dense\n",
    "from tensorflow.keras.layers import Reshape\n",
    "from tensorflow.keras.layers import Input\n",
    "from tensorflow.keras.models import Model\n",
    "from tensorflow.keras import backend as K\n",
    "from tensorflow.keras.optimizers import Adam"
   ]
  },
  {
   "cell_type": "code",
   "execution_count": 9,
   "metadata": {},
   "outputs": [
    {
     "name": "stdout",
     "output_type": "stream",
     "text": [
      "Running model: *nsamples10000_res28_blurFalse_threshFalse_polyFalse*\n",
      "Time is: 2020-05-31 08:46:08.143371\n"
     ]
    },
    {
     "data": {
      "application/vnd.jupyter.widget-view+json": {
       "model_id": "f019e97406264484939f1ccb27a3758a",
       "version_major": 2,
       "version_minor": 0
      },
      "text/plain": [
       "HBox(children=(FloatProgress(value=1.0, bar_style='info', max=1.0), HTML(value='')))"
      ]
     },
     "metadata": {},
     "output_type": "display_data"
    },
    {
     "name": "stdout",
     "output_type": "stream",
     "text": [
      "\n",
      "Sampled 2.0 % of data, 10000 out of 643471 data points\n",
      "Data shape: (10000, 28, 28)\n",
      "Data size in RAM: 7.48 MB\n",
      "Data reshaped shape: (10000, 28, 28, 1)\n",
      "Train shape: (8000, 28, 28, 1), test shape: (2000, 28, 28, 1)\n",
      "Mse threshold: 0.030151297187432567\n",
      "Outliers found: 6\n",
      "*******************************\n",
      "Running model: *nsamples10000_res28_blurFalse_threshFalse_polyTrue*\n",
      "Time is: 2020-05-31 08:49:23.081301\n"
     ]
    },
    {
     "data": {
      "application/vnd.jupyter.widget-view+json": {
       "model_id": "464e9b03fdc84ba4afbc300f4b88845f",
       "version_major": 2,
       "version_minor": 0
      },
      "text/plain": [
       "HBox(children=(FloatProgress(value=1.0, bar_style='info', max=1.0), HTML(value='')))"
      ]
     },
     "metadata": {},
     "output_type": "display_data"
    },
    {
     "name": "stdout",
     "output_type": "stream",
     "text": [
      "\n",
      "Sampled 2.0 % of data, 10000 out of 643471 data points\n",
      "Data shape: (10000, 28, 28)\n",
      "Data size in RAM: 7.48 MB\n",
      "Data reshaped shape: (10000, 28, 28, 1)\n",
      "Train shape: (8000, 28, 28, 1), test shape: (2000, 28, 28, 1)\n",
      "Mse threshold: 0.02641601513884939\n",
      "Outliers found: 6\n",
      "*******************************\n",
      "Running model: *nsamples10000_res28_blurFalse_threshTrue_polyFalse*\n",
      "Time is: 2020-05-31 08:52:35.226835\n"
     ]
    },
    {
     "data": {
      "application/vnd.jupyter.widget-view+json": {
       "model_id": "1cd69fb8e9394bf1ac7b0b83e8bdf77f",
       "version_major": 2,
       "version_minor": 0
      },
      "text/plain": [
       "HBox(children=(FloatProgress(value=1.0, bar_style='info', max=1.0), HTML(value='')))"
      ]
     },
     "metadata": {},
     "output_type": "display_data"
    },
    {
     "name": "stdout",
     "output_type": "stream",
     "text": [
      "\n",
      "Sampled 2.0 % of data, 10000 out of 643471 data points\n",
      "Data shape: (10000, 28, 28)\n",
      "Data size in RAM: 7.48 MB\n",
      "Data reshaped shape: (10000, 28, 28, 1)\n",
      "Train shape: (8000, 28, 28, 1), test shape: (2000, 28, 28, 1)\n",
      "Mse threshold: 0.12844278384745098\n",
      "Outliers found: 6\n",
      "*******************************\n",
      "Running model: *nsamples10000_res28_blurFalse_threshTrue_polyTrue*\n",
      "Time is: 2020-05-31 08:55:45.842360\n"
     ]
    },
    {
     "data": {
      "application/vnd.jupyter.widget-view+json": {
       "model_id": "4b9a0f8635504a10a19ed6d2884b9f0e",
       "version_major": 2,
       "version_minor": 0
      },
      "text/plain": [
       "HBox(children=(FloatProgress(value=1.0, bar_style='info', max=1.0), HTML(value='')))"
      ]
     },
     "metadata": {},
     "output_type": "display_data"
    },
    {
     "name": "stdout",
     "output_type": "stream",
     "text": [
      "\n",
      "Sampled 2.0 % of data, 10000 out of 643471 data points\n",
      "Data shape: (10000, 28, 28)\n",
      "Data size in RAM: 7.48 MB\n",
      "Data reshaped shape: (10000, 28, 28, 1)\n",
      "Train shape: (8000, 28, 28, 1), test shape: (2000, 28, 28, 1)\n",
      "Mse threshold: 0.11257517378032166\n",
      "Outliers found: 6\n",
      "*******************************\n",
      "Running model: *nsamples10000_res28_blurTrue_threshFalse_polyFalse*\n",
      "Time is: 2020-05-31 08:58:57.021529\n"
     ]
    },
    {
     "data": {
      "application/vnd.jupyter.widget-view+json": {
       "model_id": "d2e923944ddf4ad981cd6dc28267ce1a",
       "version_major": 2,
       "version_minor": 0
      },
      "text/plain": [
       "HBox(children=(FloatProgress(value=1.0, bar_style='info', max=1.0), HTML(value='')))"
      ]
     },
     "metadata": {},
     "output_type": "display_data"
    },
    {
     "name": "stdout",
     "output_type": "stream",
     "text": [
      "\n",
      "Sampled 2.0 % of data, 10000 out of 643471 data points\n",
      "Data shape: (10000, 28, 28)\n",
      "Data size in RAM: 7.48 MB\n",
      "Data reshaped shape: (10000, 28, 28, 1)\n",
      "Train shape: (8000, 28, 28, 1), test shape: (2000, 28, 28, 1)\n",
      "Mse threshold: 0.0066356908311135995\n",
      "Outliers found: 6\n",
      "*******************************\n",
      "Running model: *nsamples10000_res28_blurTrue_threshFalse_polyTrue*\n",
      "Time is: 2020-05-31 09:02:07.526526\n"
     ]
    },
    {
     "data": {
      "application/vnd.jupyter.widget-view+json": {
       "model_id": "ea758a54af034bc0bd62a3ccfa409024",
       "version_major": 2,
       "version_minor": 0
      },
      "text/plain": [
       "HBox(children=(FloatProgress(value=1.0, bar_style='info', max=1.0), HTML(value='')))"
      ]
     },
     "metadata": {},
     "output_type": "display_data"
    },
    {
     "name": "stdout",
     "output_type": "stream",
     "text": [
      "\n",
      "Sampled 2.0 % of data, 10000 out of 643471 data points\n",
      "Data shape: (10000, 28, 28)\n",
      "Data size in RAM: 7.48 MB\n",
      "Data reshaped shape: (10000, 28, 28, 1)\n",
      "Train shape: (8000, 28, 28, 1), test shape: (2000, 28, 28, 1)\n",
      "Mse threshold: 0.006196196097414931\n",
      "Outliers found: 6\n",
      "*******************************\n",
      "Running model: *nsamples10000_res28_blurTrue_threshTrue_polyFalse*\n",
      "Time is: 2020-05-31 09:05:18.694185\n"
     ]
    },
    {
     "data": {
      "application/vnd.jupyter.widget-view+json": {
       "model_id": "335a7368f88440a19091183acbcfb643",
       "version_major": 2,
       "version_minor": 0
      },
      "text/plain": [
       "HBox(children=(FloatProgress(value=1.0, bar_style='info', max=1.0), HTML(value='')))"
      ]
     },
     "metadata": {},
     "output_type": "display_data"
    },
    {
     "name": "stdout",
     "output_type": "stream",
     "text": [
      "\n",
      "Sampled 2.0 % of data, 10000 out of 643471 data points\n",
      "Data shape: (10000, 28, 28)\n",
      "Data size in RAM: 7.48 MB\n",
      "Data reshaped shape: (10000, 28, 28, 1)\n",
      "Train shape: (8000, 28, 28, 1), test shape: (2000, 28, 28, 1)\n",
      "Mse threshold: 0.09182971655577414\n",
      "Outliers found: 6\n",
      "*******************************\n",
      "Running model: *nsamples10000_res28_blurTrue_threshTrue_polyTrue*\n",
      "Time is: 2020-05-31 09:08:30.387377\n"
     ]
    },
    {
     "data": {
      "application/vnd.jupyter.widget-view+json": {
       "model_id": "b0a804ccd8374ab39d3a90fa63bf0ed5",
       "version_major": 2,
       "version_minor": 0
      },
      "text/plain": [
       "HBox(children=(FloatProgress(value=1.0, bar_style='info', max=1.0), HTML(value='')))"
      ]
     },
     "metadata": {},
     "output_type": "display_data"
    },
    {
     "name": "stdout",
     "output_type": "stream",
     "text": [
      "\n",
      "Sampled 2.0 % of data, 10000 out of 643471 data points\n",
      "Data shape: (10000, 28, 28)\n",
      "Data size in RAM: 7.48 MB\n",
      "Data reshaped shape: (10000, 28, 28, 1)\n",
      "Train shape: (8000, 28, 28, 1), test shape: (2000, 28, 28, 1)\n",
      "Mse threshold: 0.08234064362198067\n",
      "Outliers found: 6\n",
      "*******************************\n",
      "Running model: *nsamples10000_res56_blurFalse_threshFalse_polyFalse*\n",
      "Time is: 2020-05-31 09:11:42.902396\n"
     ]
    },
    {
     "data": {
      "application/vnd.jupyter.widget-view+json": {
       "model_id": "1bfc9c15cbcd4a66884b8d7f52fc02d1",
       "version_major": 2,
       "version_minor": 0
      },
      "text/plain": [
       "HBox(children=(FloatProgress(value=1.0, bar_style='info', max=1.0), HTML(value='')))"
      ]
     },
     "metadata": {},
     "output_type": "display_data"
    },
    {
     "name": "stdout",
     "output_type": "stream",
     "text": [
      "\n",
      "Sampled 2.0 % of data, 10000 out of 643471 data points\n",
      "Data shape: (10000, 56, 56)\n",
      "Data size in RAM: 29.91 MB\n",
      "Data reshaped shape: (10000, 56, 56, 1)\n",
      "Train shape: (8000, 56, 56, 1), test shape: (2000, 56, 56, 1)\n",
      "Mse threshold: 0.03275439545139667\n",
      "Outliers found: 6\n",
      "*******************************\n",
      "Running model: *nsamples10000_res56_blurFalse_threshFalse_polyTrue*\n",
      "Time is: 2020-05-31 09:15:10.788513\n"
     ]
    },
    {
     "data": {
      "application/vnd.jupyter.widget-view+json": {
       "model_id": "9d7211abccfb431696e812569a0e9017",
       "version_major": 2,
       "version_minor": 0
      },
      "text/plain": [
       "HBox(children=(FloatProgress(value=1.0, bar_style='info', max=1.0), HTML(value='')))"
      ]
     },
     "metadata": {},
     "output_type": "display_data"
    },
    {
     "name": "stdout",
     "output_type": "stream",
     "text": [
      "\n",
      "Sampled 2.0 % of data, 10000 out of 643471 data points\n",
      "Data shape: (10000, 56, 56)\n",
      "Data size in RAM: 29.91 MB\n",
      "Data reshaped shape: (10000, 56, 56, 1)\n",
      "Train shape: (8000, 56, 56, 1), test shape: (2000, 56, 56, 1)\n",
      "Mse threshold: 0.028697996666654887\n",
      "Outliers found: 6\n",
      "*******************************\n",
      "Running model: *nsamples10000_res56_blurFalse_threshTrue_polyFalse*\n",
      "Time is: 2020-05-31 09:18:33.345452\n"
     ]
    },
    {
     "data": {
      "application/vnd.jupyter.widget-view+json": {
       "model_id": "b0234c2e9c98456ea2f09eb640b8c4e1",
       "version_major": 2,
       "version_minor": 0
      },
      "text/plain": [
       "HBox(children=(FloatProgress(value=1.0, bar_style='info', max=1.0), HTML(value='')))"
      ]
     },
     "metadata": {},
     "output_type": "display_data"
    },
    {
     "name": "stdout",
     "output_type": "stream",
     "text": [
      "Exception, will use previous image instead. Error: issue with frame! /data/security_cam_detections_v2/Front-Parking/2020-02-08/23.33.41.278_955bc21c_person.jpg\n",
      "\n",
      "Sampled 2.0 % of data, 10000 out of 643471 data points\n",
      "Data shape: (10000, 56, 56)\n",
      "Data size in RAM: 29.91 MB\n",
      "Data reshaped shape: (10000, 56, 56, 1)\n",
      "Train shape: (8000, 56, 56, 1), test shape: (2000, 56, 56, 1)\n",
      "Mse threshold: 0.12242201250046483\n",
      "Outliers found: 6\n",
      "*******************************\n",
      "Running model: *nsamples10000_res56_blurFalse_threshTrue_polyTrue*\n",
      "Time is: 2020-05-31 09:21:56.575836\n"
     ]
    },
    {
     "data": {
      "application/vnd.jupyter.widget-view+json": {
       "model_id": "92c690ca703d4c3bae4989f8fec20028",
       "version_major": 2,
       "version_minor": 0
      },
      "text/plain": [
       "HBox(children=(FloatProgress(value=1.0, bar_style='info', max=1.0), HTML(value='')))"
      ]
     },
     "metadata": {},
     "output_type": "display_data"
    },
    {
     "name": "stdout",
     "output_type": "stream",
     "text": [
      "\n",
      "Sampled 2.0 % of data, 10000 out of 643471 data points\n",
      "Data shape: (10000, 56, 56)\n",
      "Data size in RAM: 29.91 MB\n",
      "Data reshaped shape: (10000, 56, 56, 1)\n",
      "Train shape: (8000, 56, 56, 1), test shape: (2000, 56, 56, 1)\n",
      "Mse threshold: 0.09791737712919707\n",
      "Outliers found: 6\n",
      "*******************************\n",
      "Running model: *nsamples10000_res56_blurTrue_threshFalse_polyFalse*\n",
      "Time is: 2020-05-31 09:25:41.799927\n"
     ]
    },
    {
     "data": {
      "application/vnd.jupyter.widget-view+json": {
       "model_id": "75b397805059445a983fd0955bb4ebe7",
       "version_major": 2,
       "version_minor": 0
      },
      "text/plain": [
       "HBox(children=(FloatProgress(value=1.0, bar_style='info', max=1.0), HTML(value='')))"
      ]
     },
     "metadata": {},
     "output_type": "display_data"
    },
    {
     "name": "stdout",
     "output_type": "stream",
     "text": [
      "\n",
      "Sampled 2.0 % of data, 10000 out of 643471 data points\n",
      "Data shape: (10000, 56, 56)\n",
      "Data size in RAM: 29.91 MB\n",
      "Data reshaped shape: (10000, 56, 56, 1)\n",
      "Train shape: (8000, 56, 56, 1), test shape: (2000, 56, 56, 1)\n",
      "Mse threshold: 0.012739982211962339\n",
      "Outliers found: 6\n",
      "*******************************\n",
      "Running model: *nsamples10000_res56_blurTrue_threshFalse_polyTrue*\n",
      "Time is: 2020-05-31 09:29:23.179365\n"
     ]
    },
    {
     "data": {
      "application/vnd.jupyter.widget-view+json": {
       "model_id": "9117304c04534f56af9bc7adcfa59fb2",
       "version_major": 2,
       "version_minor": 0
      },
      "text/plain": [
       "HBox(children=(FloatProgress(value=1.0, bar_style='info', max=1.0), HTML(value='')))"
      ]
     },
     "metadata": {},
     "output_type": "display_data"
    },
    {
     "name": "stdout",
     "output_type": "stream",
     "text": [
      "Exception, will use previous image instead. Error: issue with frame! /data/security_cam_detections_v2/Front-Parking/2020-01-25/23.32.10.480_afdcd96f_car.jpg\n",
      "\n",
      "Sampled 2.0 % of data, 10000 out of 643471 data points\n",
      "Data shape: (10000, 56, 56)\n",
      "Data size in RAM: 29.91 MB\n",
      "Data reshaped shape: (10000, 56, 56, 1)\n",
      "Train shape: (8000, 56, 56, 1), test shape: (2000, 56, 56, 1)\n",
      "Mse threshold: 0.012064086535014156\n",
      "Outliers found: 6\n",
      "*******************************\n",
      "Running model: *nsamples10000_res56_blurTrue_threshTrue_polyFalse*\n",
      "Time is: 2020-05-31 09:33:06.865564\n"
     ]
    },
    {
     "data": {
      "application/vnd.jupyter.widget-view+json": {
       "model_id": "28f2957f1a8545ffba77c41f382a5fa0",
       "version_major": 2,
       "version_minor": 0
      },
      "text/plain": [
       "HBox(children=(FloatProgress(value=1.0, bar_style='info', max=1.0), HTML(value='')))"
      ]
     },
     "metadata": {},
     "output_type": "display_data"
    },
    {
     "name": "stdout",
     "output_type": "stream",
     "text": [
      "\n",
      "Sampled 2.0 % of data, 10000 out of 643471 data points\n",
      "Data shape: (10000, 56, 56)\n",
      "Data size in RAM: 29.91 MB\n",
      "Data reshaped shape: (10000, 56, 56, 1)\n",
      "Train shape: (8000, 56, 56, 1), test shape: (2000, 56, 56, 1)\n",
      "Mse threshold: 0.1023946270942687\n",
      "Outliers found: 6\n",
      "*******************************\n",
      "Running model: *nsamples10000_res56_blurTrue_threshTrue_polyTrue*\n",
      "Time is: 2020-05-31 09:36:51.386676\n"
     ]
    },
    {
     "data": {
      "application/vnd.jupyter.widget-view+json": {
       "model_id": "8072119bfc2c45488dbce6171b47ddf0",
       "version_major": 2,
       "version_minor": 0
      },
      "text/plain": [
       "HBox(children=(FloatProgress(value=1.0, bar_style='info', max=1.0), HTML(value='')))"
      ]
     },
     "metadata": {},
     "output_type": "display_data"
    },
    {
     "name": "stdout",
     "output_type": "stream",
     "text": [
      "\n",
      "Sampled 2.0 % of data, 10000 out of 643471 data points\n",
      "Data shape: (10000, 56, 56)\n",
      "Data size in RAM: 29.91 MB\n",
      "Data reshaped shape: (10000, 56, 56, 1)\n",
      "Train shape: (8000, 56, 56, 1), test shape: (2000, 56, 56, 1)\n",
      "Mse threshold: 0.08426738838106385\n",
      "Outliers found: 6\n",
      "*******************************\n",
      "Running model: *nsamples10000_res112_blurFalse_threshFalse_polyFalse*\n",
      "Time is: 2020-05-31 09:40:35.603504\n"
     ]
    },
    {
     "data": {
      "application/vnd.jupyter.widget-view+json": {
       "model_id": "74694140e50349a2afb00a5cbeba84e8",
       "version_major": 2,
       "version_minor": 0
      },
      "text/plain": [
       "HBox(children=(FloatProgress(value=1.0, bar_style='info', max=1.0), HTML(value='')))"
      ]
     },
     "metadata": {},
     "output_type": "display_data"
    },
    {
     "name": "stdout",
     "output_type": "stream",
     "text": [
      "\n",
      "Sampled 2.0 % of data, 10000 out of 643471 data points\n",
      "Data shape: (10000, 112, 112)\n",
      "Data size in RAM: 119.63 MB\n",
      "Data reshaped shape: (10000, 112, 112, 1)\n",
      "Train shape: (8000, 112, 112, 1), test shape: (2000, 112, 112, 1)\n",
      "Mse threshold: 0.028746331680566048\n",
      "Outliers found: 6\n",
      "*******************************\n",
      "Running model: *nsamples10000_res112_blurFalse_threshFalse_polyTrue*\n",
      "Time is: 2020-05-31 09:46:54.107277\n"
     ]
    },
    {
     "data": {
      "application/vnd.jupyter.widget-view+json": {
       "model_id": "c6442844ae774e3297b58036d01578a1",
       "version_major": 2,
       "version_minor": 0
      },
      "text/plain": [
       "HBox(children=(FloatProgress(value=1.0, bar_style='info', max=1.0), HTML(value='')))"
      ]
     },
     "metadata": {},
     "output_type": "display_data"
    },
    {
     "name": "stdout",
     "output_type": "stream",
     "text": [
      "\n",
      "Sampled 2.0 % of data, 10000 out of 643471 data points\n",
      "Data shape: (10000, 112, 112)\n",
      "Data size in RAM: 119.63 MB\n",
      "Data reshaped shape: (10000, 112, 112, 1)\n",
      "Train shape: (8000, 112, 112, 1), test shape: (2000, 112, 112, 1)\n",
      "Mse threshold: 0.023956486996263165\n",
      "Outliers found: 6\n",
      "*******************************\n",
      "Running model: *nsamples10000_res112_blurFalse_threshTrue_polyFalse*\n",
      "Time is: 2020-05-31 09:53:12.969590\n"
     ]
    },
    {
     "data": {
      "application/vnd.jupyter.widget-view+json": {
       "model_id": "3091e90e8d4149aea4ce3b5d46db5c7e",
       "version_major": 2,
       "version_minor": 0
      },
      "text/plain": [
       "HBox(children=(FloatProgress(value=1.0, bar_style='info', max=1.0), HTML(value='')))"
      ]
     },
     "metadata": {},
     "output_type": "display_data"
    },
    {
     "name": "stdout",
     "output_type": "stream",
     "text": [
      "\n",
      "Sampled 2.0 % of data, 10000 out of 643471 data points\n",
      "Data shape: (10000, 112, 112)\n",
      "Data size in RAM: 119.63 MB\n",
      "Data reshaped shape: (10000, 112, 112, 1)\n",
      "Train shape: (8000, 112, 112, 1), test shape: (2000, 112, 112, 1)\n",
      "Mse threshold: 0.1080172287300227\n",
      "Outliers found: 6\n",
      "*******************************\n",
      "Running model: *nsamples10000_res112_blurFalse_threshTrue_polyTrue*\n",
      "Time is: 2020-05-31 09:59:32.021380\n"
     ]
    },
    {
     "data": {
      "application/vnd.jupyter.widget-view+json": {
       "model_id": "a4b68d3a8ab6415a855cda2bd57fb288",
       "version_major": 2,
       "version_minor": 0
      },
      "text/plain": [
       "HBox(children=(FloatProgress(value=1.0, bar_style='info', max=1.0), HTML(value='')))"
      ]
     },
     "metadata": {},
     "output_type": "display_data"
    },
    {
     "name": "stdout",
     "output_type": "stream",
     "text": [
      "\n",
      "Sampled 2.0 % of data, 10000 out of 643471 data points\n",
      "Data shape: (10000, 112, 112)\n",
      "Data size in RAM: 119.63 MB\n",
      "Data reshaped shape: (10000, 112, 112, 1)\n",
      "Train shape: (8000, 112, 112, 1), test shape: (2000, 112, 112, 1)\n",
      "Mse threshold: 0.10136733427643772\n",
      "Outliers found: 6\n",
      "*******************************\n",
      "Running model: *nsamples10000_res112_blurTrue_threshFalse_polyFalse*\n",
      "Time is: 2020-05-31 10:05:51.572274\n"
     ]
    },
    {
     "data": {
      "application/vnd.jupyter.widget-view+json": {
       "model_id": "11d379e3c0f74f888047fe590fb38a64",
       "version_major": 2,
       "version_minor": 0
      },
      "text/plain": [
       "HBox(children=(FloatProgress(value=1.0, bar_style='info', max=1.0), HTML(value='')))"
      ]
     },
     "metadata": {},
     "output_type": "display_data"
    },
    {
     "name": "stdout",
     "output_type": "stream",
     "text": [
      "\n",
      "Sampled 2.0 % of data, 10000 out of 643471 data points\n",
      "Data shape: (10000, 112, 112)\n",
      "Data size in RAM: 119.63 MB\n",
      "Data reshaped shape: (10000, 112, 112, 1)\n",
      "Train shape: (8000, 112, 112, 1), test shape: (2000, 112, 112, 1)\n",
      "Mse threshold: 0.016775282131507942\n",
      "Outliers found: 6\n",
      "*******************************\n",
      "Running model: *nsamples10000_res112_blurTrue_threshFalse_polyTrue*\n",
      "Time is: 2020-05-31 10:12:11.744040\n"
     ]
    },
    {
     "data": {
      "application/vnd.jupyter.widget-view+json": {
       "model_id": "92b931f660fe47b58a183b7eb927b578",
       "version_major": 2,
       "version_minor": 0
      },
      "text/plain": [
       "HBox(children=(FloatProgress(value=1.0, bar_style='info', max=1.0), HTML(value='')))"
      ]
     },
     "metadata": {},
     "output_type": "display_data"
    },
    {
     "name": "stdout",
     "output_type": "stream",
     "text": [
      "\n",
      "Sampled 2.0 % of data, 10000 out of 643471 data points\n",
      "Data shape: (10000, 112, 112)\n",
      "Data size in RAM: 119.63 MB\n",
      "Data reshaped shape: (10000, 112, 112, 1)\n",
      "Train shape: (8000, 112, 112, 1), test shape: (2000, 112, 112, 1)\n",
      "Mse threshold: 0.0167347288560122\n",
      "Outliers found: 6\n",
      "*******************************\n",
      "Running model: *nsamples10000_res112_blurTrue_threshTrue_polyFalse*\n",
      "Time is: 2020-05-31 10:18:31.789920\n"
     ]
    },
    {
     "data": {
      "application/vnd.jupyter.widget-view+json": {
       "model_id": "e51bc6b3fe8c4b2089b3398eba35061f",
       "version_major": 2,
       "version_minor": 0
      },
      "text/plain": [
       "HBox(children=(FloatProgress(value=1.0, bar_style='info', max=1.0), HTML(value='')))"
      ]
     },
     "metadata": {},
     "output_type": "display_data"
    },
    {
     "name": "stdout",
     "output_type": "stream",
     "text": [
      "\n",
      "Sampled 2.0 % of data, 10000 out of 643471 data points\n",
      "Data shape: (10000, 112, 112)\n",
      "Data size in RAM: 119.63 MB\n",
      "Data reshaped shape: (10000, 112, 112, 1)\n",
      "Train shape: (8000, 112, 112, 1), test shape: (2000, 112, 112, 1)\n",
      "Mse threshold: 0.11818515797704447\n",
      "Outliers found: 6\n",
      "*******************************\n",
      "Running model: *nsamples10000_res112_blurTrue_threshTrue_polyTrue*\n",
      "Time is: 2020-05-31 10:24:52.436819\n"
     ]
    },
    {
     "data": {
      "application/vnd.jupyter.widget-view+json": {
       "model_id": "92a363ff0f184ba88e61522dfc53941d",
       "version_major": 2,
       "version_minor": 0
      },
      "text/plain": [
       "HBox(children=(FloatProgress(value=1.0, bar_style='info', max=1.0), HTML(value='')))"
      ]
     },
     "metadata": {},
     "output_type": "display_data"
    },
    {
     "name": "stdout",
     "output_type": "stream",
     "text": [
      "\n",
      "Sampled 2.0 % of data, 10000 out of 643471 data points\n",
      "Data shape: (10000, 112, 112)\n",
      "Data size in RAM: 119.63 MB\n",
      "Data reshaped shape: (10000, 112, 112, 1)\n",
      "Train shape: (8000, 112, 112, 1), test shape: (2000, 112, 112, 1)\n",
      "Mse threshold: 0.08583414074033478\n",
      "Outliers found: 6\n",
      "*******************************\n",
      "Running model: *nsamples25000_res28_blurFalse_threshFalse_polyFalse*\n",
      "Time is: 2020-05-31 10:31:12.906143\n"
     ]
    },
    {
     "data": {
      "application/vnd.jupyter.widget-view+json": {
       "model_id": "3e608d7546274c2d969b5ccee7a0eb41",
       "version_major": 2,
       "version_minor": 0
      },
      "text/plain": [
       "HBox(children=(FloatProgress(value=1.0, bar_style='info', max=1.0), HTML(value='')))"
      ]
     },
     "metadata": {},
     "output_type": "display_data"
    },
    {
     "name": "stdout",
     "output_type": "stream",
     "text": [
      "\n",
      "Sampled 4.0 % of data, 25000 out of 643471 data points\n",
      "Data shape: (25000, 28, 28)\n",
      "Data size in RAM: 18.69 MB\n",
      "Data reshaped shape: (25000, 28, 28, 1)\n",
      "Train shape: (20000, 28, 28, 1), test shape: (5000, 28, 28, 1)\n",
      "Mse threshold: 0.026877195367589472\n",
      "Outliers found: 15\n",
      "*******************************\n",
      "Running model: *nsamples25000_res28_blurFalse_threshFalse_polyTrue*\n",
      "Time is: 2020-05-31 10:39:30.119804\n"
     ]
    },
    {
     "data": {
      "application/vnd.jupyter.widget-view+json": {
       "model_id": "ba79c9d78f1a42bcbe67149942952d41",
       "version_major": 2,
       "version_minor": 0
      },
      "text/plain": [
       "HBox(children=(FloatProgress(value=1.0, bar_style='info', max=1.0), HTML(value='')))"
      ]
     },
     "metadata": {},
     "output_type": "display_data"
    },
    {
     "name": "stdout",
     "output_type": "stream",
     "text": [
      "\n",
      "Sampled 4.0 % of data, 25000 out of 643471 data points\n",
      "Data shape: (25000, 28, 28)\n",
      "Data size in RAM: 18.69 MB\n",
      "Data reshaped shape: (25000, 28, 28, 1)\n",
      "Train shape: (20000, 28, 28, 1), test shape: (5000, 28, 28, 1)\n",
      "Mse threshold: 0.024165811579674304\n",
      "Outliers found: 15\n",
      "*******************************\n",
      "Running model: *nsamples25000_res28_blurFalse_threshTrue_polyFalse*\n",
      "Time is: 2020-05-31 10:47:49.438767\n"
     ]
    },
    {
     "data": {
      "application/vnd.jupyter.widget-view+json": {
       "model_id": "9042e8ce37a742bc8287c0b4399318b7",
       "version_major": 2,
       "version_minor": 0
      },
      "text/plain": [
       "HBox(children=(FloatProgress(value=1.0, bar_style='info', max=1.0), HTML(value='')))"
      ]
     },
     "metadata": {},
     "output_type": "display_data"
    },
    {
     "name": "stdout",
     "output_type": "stream",
     "text": [
      "\n",
      "Sampled 4.0 % of data, 25000 out of 643471 data points\n",
      "Data shape: (25000, 28, 28)\n",
      "Data size in RAM: 18.69 MB\n",
      "Data reshaped shape: (25000, 28, 28, 1)\n",
      "Train shape: (20000, 28, 28, 1), test shape: (5000, 28, 28, 1)\n",
      "Mse threshold: 0.11095449588447794\n",
      "Outliers found: 15\n",
      "*******************************\n",
      "Running model: *nsamples25000_res28_blurFalse_threshTrue_polyTrue*\n",
      "Time is: 2020-05-31 10:56:11.652770\n"
     ]
    },
    {
     "data": {
      "application/vnd.jupyter.widget-view+json": {
       "model_id": "b9483adaf0784f31975c9eb65e2fffbc",
       "version_major": 2,
       "version_minor": 0
      },
      "text/plain": [
       "HBox(children=(FloatProgress(value=1.0, bar_style='info', max=1.0), HTML(value='')))"
      ]
     },
     "metadata": {},
     "output_type": "display_data"
    },
    {
     "name": "stdout",
     "output_type": "stream",
     "text": [
      "Exception, will use previous image instead. Error: issue with frame! /data/security_cam_detections_v2/Front-Parking/2020-01-25/23.32.10.990_4c062cda_car.jpg\n",
      "\n",
      "Sampled 4.0 % of data, 25000 out of 643471 data points\n",
      "Data shape: (25000, 28, 28)\n",
      "Data size in RAM: 18.69 MB\n",
      "Data reshaped shape: (25000, 28, 28, 1)\n",
      "Train shape: (20000, 28, 28, 1), test shape: (5000, 28, 28, 1)\n",
      "Mse threshold: 0.08937916464358543\n",
      "Outliers found: 15\n",
      "*******************************\n",
      "Running model: *nsamples25000_res28_blurTrue_threshFalse_polyFalse*\n",
      "Time is: 2020-05-31 11:04:35.832475\n"
     ]
    },
    {
     "data": {
      "application/vnd.jupyter.widget-view+json": {
       "model_id": "d6a8d179a7b841b5b39f9ea42d0c1c86",
       "version_major": 2,
       "version_minor": 0
      },
      "text/plain": [
       "HBox(children=(FloatProgress(value=1.0, bar_style='info', max=1.0), HTML(value='')))"
      ]
     },
     "metadata": {},
     "output_type": "display_data"
    },
    {
     "name": "stdout",
     "output_type": "stream",
     "text": [
      "\n",
      "Sampled 4.0 % of data, 25000 out of 643471 data points\n",
      "Data shape: (25000, 28, 28)\n",
      "Data size in RAM: 18.69 MB\n",
      "Data reshaped shape: (25000, 28, 28, 1)\n",
      "Train shape: (20000, 28, 28, 1), test shape: (5000, 28, 28, 1)\n",
      "Mse threshold: 0.00612341901380566\n",
      "Outliers found: 15\n",
      "*******************************\n",
      "Running model: *nsamples25000_res28_blurTrue_threshFalse_polyTrue*\n",
      "Time is: 2020-05-31 11:12:24.178298\n"
     ]
    },
    {
     "data": {
      "application/vnd.jupyter.widget-view+json": {
       "model_id": "19da20402f52443e859aca2cc67541f9",
       "version_major": 2,
       "version_minor": 0
      },
      "text/plain": [
       "HBox(children=(FloatProgress(value=1.0, bar_style='info', max=1.0), HTML(value='')))"
      ]
     },
     "metadata": {},
     "output_type": "display_data"
    },
    {
     "name": "stdout",
     "output_type": "stream",
     "text": [
      "\n",
      "Sampled 4.0 % of data, 25000 out of 643471 data points\n",
      "Data shape: (25000, 28, 28)\n",
      "Data size in RAM: 18.69 MB\n",
      "Data reshaped shape: (25000, 28, 28, 1)\n",
      "Train shape: (20000, 28, 28, 1), test shape: (5000, 28, 28, 1)\n",
      "Mse threshold: 0.004626421972643579\n",
      "Outliers found: 15\n",
      "*******************************\n",
      "Running model: *nsamples25000_res28_blurTrue_threshTrue_polyFalse*\n",
      "Time is: 2020-05-31 11:20:20.818446\n"
     ]
    },
    {
     "data": {
      "application/vnd.jupyter.widget-view+json": {
       "model_id": "58553b708d594d95a2956cdc9722e451",
       "version_major": 2,
       "version_minor": 0
      },
      "text/plain": [
       "HBox(children=(FloatProgress(value=1.0, bar_style='info', max=1.0), HTML(value='')))"
      ]
     },
     "metadata": {},
     "output_type": "display_data"
    },
    {
     "name": "stdout",
     "output_type": "stream",
     "text": [
      "\n",
      "Sampled 4.0 % of data, 25000 out of 643471 data points\n",
      "Data shape: (25000, 28, 28)\n",
      "Data size in RAM: 18.69 MB\n",
      "Data reshaped shape: (25000, 28, 28, 1)\n",
      "Train shape: (20000, 28, 28, 1), test shape: (5000, 28, 28, 1)\n",
      "Mse threshold: 0.08949109727889239\n",
      "Outliers found: 15\n",
      "*******************************\n",
      "Running model: *nsamples25000_res28_blurTrue_threshTrue_polyTrue*\n",
      "Time is: 2020-05-31 11:28:16.925692\n"
     ]
    },
    {
     "data": {
      "application/vnd.jupyter.widget-view+json": {
       "model_id": "c97326c926a04e74b467598aaa2864b0",
       "version_major": 2,
       "version_minor": 0
      },
      "text/plain": [
       "HBox(children=(FloatProgress(value=1.0, bar_style='info', max=1.0), HTML(value='')))"
      ]
     },
     "metadata": {},
     "output_type": "display_data"
    },
    {
     "name": "stdout",
     "output_type": "stream",
     "text": [
      "\n",
      "Sampled 4.0 % of data, 25000 out of 643471 data points\n",
      "Data shape: (25000, 28, 28)\n",
      "Data size in RAM: 18.69 MB\n",
      "Data reshaped shape: (25000, 28, 28, 1)\n",
      "Train shape: (20000, 28, 28, 1), test shape: (5000, 28, 28, 1)\n",
      "Mse threshold: 0.07008396092802263\n",
      "Outliers found: 15\n",
      "*******************************\n",
      "Running model: *nsamples25000_res56_blurFalse_threshFalse_polyFalse*\n",
      "Time is: 2020-05-31 11:36:10.815416\n"
     ]
    },
    {
     "data": {
      "application/vnd.jupyter.widget-view+json": {
       "model_id": "50d16aecac824e339ccd1cdd205a1bc4",
       "version_major": 2,
       "version_minor": 0
      },
      "text/plain": [
       "HBox(children=(FloatProgress(value=1.0, bar_style='info', max=1.0), HTML(value='')))"
      ]
     },
     "metadata": {},
     "output_type": "display_data"
    },
    {
     "name": "stdout",
     "output_type": "stream",
     "text": [
      "\n",
      "Sampled 4.0 % of data, 25000 out of 643471 data points\n",
      "Data shape: (25000, 56, 56)\n",
      "Data size in RAM: 74.77 MB\n",
      "Data reshaped shape: (25000, 56, 56, 1)\n",
      "Train shape: (20000, 56, 56, 1), test shape: (5000, 56, 56, 1)\n",
      "Mse threshold: 0.027343688230961536\n",
      "Outliers found: 15\n",
      "*******************************\n",
      "Running model: *nsamples25000_res56_blurFalse_threshFalse_polyTrue*\n",
      "Time is: 2020-05-31 11:45:11.219424\n"
     ]
    },
    {
     "data": {
      "application/vnd.jupyter.widget-view+json": {
       "model_id": "9dbd9c7c05904e5e842a0ed903ee0f02",
       "version_major": 2,
       "version_minor": 0
      },
      "text/plain": [
       "HBox(children=(FloatProgress(value=1.0, bar_style='info', max=1.0), HTML(value='')))"
      ]
     },
     "metadata": {},
     "output_type": "display_data"
    },
    {
     "name": "stdout",
     "output_type": "stream",
     "text": [
      "\n",
      "Sampled 4.0 % of data, 25000 out of 643471 data points\n",
      "Data shape: (25000, 56, 56)\n",
      "Data size in RAM: 74.77 MB\n",
      "Data reshaped shape: (25000, 56, 56, 1)\n",
      "Train shape: (20000, 56, 56, 1), test shape: (5000, 56, 56, 1)\n",
      "Mse threshold: 0.024945608850568454\n",
      "Outliers found: 15\n",
      "*******************************\n",
      "Running model: *nsamples25000_res56_blurFalse_threshTrue_polyFalse*\n",
      "Time is: 2020-05-31 11:54:10.912374\n"
     ]
    },
    {
     "data": {
      "application/vnd.jupyter.widget-view+json": {
       "model_id": "6923b84acfd64fa48339405c79d02de1",
       "version_major": 2,
       "version_minor": 0
      },
      "text/plain": [
       "HBox(children=(FloatProgress(value=1.0, bar_style='info', max=1.0), HTML(value='')))"
      ]
     },
     "metadata": {},
     "output_type": "display_data"
    },
    {
     "name": "stdout",
     "output_type": "stream",
     "text": [
      "\n",
      "Sampled 4.0 % of data, 25000 out of 643471 data points\n",
      "Data shape: (25000, 56, 56)\n",
      "Data size in RAM: 74.77 MB\n",
      "Data reshaped shape: (25000, 56, 56, 1)\n",
      "Train shape: (20000, 56, 56, 1), test shape: (5000, 56, 56, 1)\n",
      "Mse threshold: 0.10350213849544519\n",
      "Outliers found: 15\n",
      "*******************************\n",
      "Running model: *nsamples25000_res56_blurFalse_threshTrue_polyTrue*\n",
      "Time is: 2020-05-31 12:03:11.304032\n"
     ]
    },
    {
     "data": {
      "application/vnd.jupyter.widget-view+json": {
       "model_id": "b268da1ed85e4a7d88128ab07d2ac0e9",
       "version_major": 2,
       "version_minor": 0
      },
      "text/plain": [
       "HBox(children=(FloatProgress(value=1.0, bar_style='info', max=1.0), HTML(value='')))"
      ]
     },
     "metadata": {},
     "output_type": "display_data"
    },
    {
     "name": "stdout",
     "output_type": "stream",
     "text": [
      "\n",
      "Sampled 4.0 % of data, 25000 out of 643471 data points\n",
      "Data shape: (25000, 56, 56)\n",
      "Data size in RAM: 74.77 MB\n",
      "Data reshaped shape: (25000, 56, 56, 1)\n",
      "Train shape: (20000, 56, 56, 1), test shape: (5000, 56, 56, 1)\n",
      "Mse threshold: 0.0929753070026632\n",
      "Outliers found: 15\n",
      "*******************************\n",
      "Running model: *nsamples25000_res56_blurTrue_threshFalse_polyFalse*\n",
      "Time is: 2020-05-31 12:12:06.343658\n"
     ]
    },
    {
     "data": {
      "application/vnd.jupyter.widget-view+json": {
       "model_id": "786b26e169c14f868d7375c015e98e41",
       "version_major": 2,
       "version_minor": 0
      },
      "text/plain": [
       "HBox(children=(FloatProgress(value=1.0, bar_style='info', max=1.0), HTML(value='')))"
      ]
     },
     "metadata": {},
     "output_type": "display_data"
    },
    {
     "name": "stdout",
     "output_type": "stream",
     "text": [
      "\n",
      "Sampled 4.0 % of data, 25000 out of 643471 data points\n",
      "Data shape: (25000, 56, 56)\n",
      "Data size in RAM: 74.77 MB\n",
      "Data reshaped shape: (25000, 56, 56, 1)\n",
      "Train shape: (20000, 56, 56, 1), test shape: (5000, 56, 56, 1)\n",
      "Mse threshold: 0.011171493042260373\n",
      "Outliers found: 15\n",
      "*******************************\n",
      "Running model: *nsamples25000_res56_blurTrue_threshFalse_polyTrue*\n",
      "Time is: 2020-05-31 12:20:55.917881\n"
     ]
    },
    {
     "data": {
      "application/vnd.jupyter.widget-view+json": {
       "model_id": "e5099e6fca8c46168f5e52e76fa88eca",
       "version_major": 2,
       "version_minor": 0
      },
      "text/plain": [
       "HBox(children=(FloatProgress(value=1.0, bar_style='info', max=1.0), HTML(value='')))"
      ]
     },
     "metadata": {},
     "output_type": "display_data"
    },
    {
     "name": "stdout",
     "output_type": "stream",
     "text": [
      "\n",
      "Sampled 4.0 % of data, 25000 out of 643471 data points\n",
      "Data shape: (25000, 56, 56)\n",
      "Data size in RAM: 74.77 MB\n",
      "Data reshaped shape: (25000, 56, 56, 1)\n",
      "Train shape: (20000, 56, 56, 1), test shape: (5000, 56, 56, 1)\n",
      "Mse threshold: 0.00866927228122946\n",
      "Outliers found: 15\n",
      "*******************************\n",
      "Running model: *nsamples25000_res56_blurTrue_threshTrue_polyFalse*\n",
      "Time is: 2020-05-31 12:29:25.472997\n"
     ]
    },
    {
     "data": {
      "application/vnd.jupyter.widget-view+json": {
       "model_id": "dff57def5c914c518afcdf99dfcd158f",
       "version_major": 2,
       "version_minor": 0
      },
      "text/plain": [
       "HBox(children=(FloatProgress(value=1.0, bar_style='info', max=1.0), HTML(value='')))"
      ]
     },
     "metadata": {},
     "output_type": "display_data"
    },
    {
     "name": "stdout",
     "output_type": "stream",
     "text": [
      "\n",
      "Sampled 4.0 % of data, 25000 out of 643471 data points\n",
      "Data shape: (25000, 56, 56)\n",
      "Data size in RAM: 74.77 MB\n",
      "Data reshaped shape: (25000, 56, 56, 1)\n",
      "Train shape: (20000, 56, 56, 1), test shape: (5000, 56, 56, 1)\n",
      "Mse threshold: 0.09949837638437742\n",
      "Outliers found: 15\n",
      "*******************************\n",
      "Running model: *nsamples25000_res56_blurTrue_threshTrue_polyTrue*\n",
      "Time is: 2020-05-31 12:38:18.557580\n"
     ]
    },
    {
     "data": {
      "application/vnd.jupyter.widget-view+json": {
       "model_id": "a0af807bd7b741dba5af7a9739603d5f",
       "version_major": 2,
       "version_minor": 0
      },
      "text/plain": [
       "HBox(children=(FloatProgress(value=1.0, bar_style='info', max=1.0), HTML(value='')))"
      ]
     },
     "metadata": {},
     "output_type": "display_data"
    },
    {
     "name": "stdout",
     "output_type": "stream",
     "text": [
      "\n",
      "Sampled 4.0 % of data, 25000 out of 643471 data points\n",
      "Data shape: (25000, 56, 56)\n",
      "Data size in RAM: 74.77 MB\n",
      "Data reshaped shape: (25000, 56, 56, 1)\n",
      "Train shape: (20000, 56, 56, 1), test shape: (5000, 56, 56, 1)\n",
      "Mse threshold: 0.08359585653245398\n",
      "Outliers found: 15\n",
      "*******************************\n",
      "Running model: *nsamples25000_res112_blurFalse_threshFalse_polyFalse*\n",
      "Time is: 2020-05-31 12:46:59.911893\n"
     ]
    },
    {
     "data": {
      "application/vnd.jupyter.widget-view+json": {
       "model_id": "9fa59376543d438c9967f6497c7a4e78",
       "version_major": 2,
       "version_minor": 0
      },
      "text/plain": [
       "HBox(children=(FloatProgress(value=1.0, bar_style='info', max=1.0), HTML(value='')))"
      ]
     },
     "metadata": {},
     "output_type": "display_data"
    },
    {
     "name": "stdout",
     "output_type": "stream",
     "text": [
      "\n",
      "Sampled 4.0 % of data, 25000 out of 643471 data points\n",
      "Data shape: (25000, 112, 112)\n",
      "Data size in RAM: 299.07 MB\n",
      "Data reshaped shape: (25000, 112, 112, 1)\n",
      "Train shape: (20000, 112, 112, 1), test shape: (5000, 112, 112, 1)\n",
      "Mse threshold: 0.026399997495114763\n",
      "Outliers found: 15\n",
      "*******************************\n",
      "Running model: *nsamples25000_res112_blurFalse_threshFalse_polyTrue*\n",
      "Time is: 2020-05-31 13:02:49.080364\n"
     ]
    },
    {
     "data": {
      "application/vnd.jupyter.widget-view+json": {
       "model_id": "27a9c2051d9a4bd4b1b2598c3fa36eb4",
       "version_major": 2,
       "version_minor": 0
      },
      "text/plain": [
       "HBox(children=(FloatProgress(value=1.0, bar_style='info', max=1.0), HTML(value='')))"
      ]
     },
     "metadata": {},
     "output_type": "display_data"
    },
    {
     "name": "stdout",
     "output_type": "stream",
     "text": [
      "\n",
      "Sampled 4.0 % of data, 25000 out of 643471 data points\n",
      "Data shape: (25000, 112, 112)\n",
      "Data size in RAM: 299.07 MB\n",
      "Data reshaped shape: (25000, 112, 112, 1)\n",
      "Train shape: (20000, 112, 112, 1), test shape: (5000, 112, 112, 1)\n",
      "Mse threshold: 0.02389924278110255\n",
      "Outliers found: 15\n",
      "*******************************\n",
      "Running model: *nsamples25000_res112_blurFalse_threshTrue_polyFalse*\n",
      "Time is: 2020-05-31 13:18:37.966908\n"
     ]
    },
    {
     "data": {
      "application/vnd.jupyter.widget-view+json": {
       "model_id": "c0230fa312ea4260be9c9f88401f5009",
       "version_major": 2,
       "version_minor": 0
      },
      "text/plain": [
       "HBox(children=(FloatProgress(value=1.0, bar_style='info', max=1.0), HTML(value='')))"
      ]
     },
     "metadata": {},
     "output_type": "display_data"
    },
    {
     "name": "stdout",
     "output_type": "stream",
     "text": [
      "Exception, will use previous image instead. Error: issue with frame! /data/security_cam_detections_v2/Front-Parking/2020-01-22/23.44.56.334_9153465f_car.jpg\n",
      "\n",
      "Sampled 4.0 % of data, 25000 out of 643471 data points\n",
      "Data shape: (25000, 112, 112)\n",
      "Data size in RAM: 299.07 MB\n",
      "Data reshaped shape: (25000, 112, 112, 1)\n",
      "Train shape: (20000, 112, 112, 1), test shape: (5000, 112, 112, 1)\n",
      "Mse threshold: 0.10205888702720395\n",
      "Outliers found: 15\n",
      "*******************************\n",
      "Running model: *nsamples25000_res112_blurFalse_threshTrue_polyTrue*\n",
      "Time is: 2020-05-31 13:35:06.494246\n"
     ]
    },
    {
     "data": {
      "application/vnd.jupyter.widget-view+json": {
       "model_id": "afdded5eb2f34086ac53d180f62a9b22",
       "version_major": 2,
       "version_minor": 0
      },
      "text/plain": [
       "HBox(children=(FloatProgress(value=1.0, bar_style='info', max=1.0), HTML(value='')))"
      ]
     },
     "metadata": {},
     "output_type": "display_data"
    },
    {
     "name": "stdout",
     "output_type": "stream",
     "text": [
      "\n",
      "Sampled 4.0 % of data, 25000 out of 643471 data points\n",
      "Data shape: (25000, 112, 112)\n",
      "Data size in RAM: 299.07 MB\n",
      "Data reshaped shape: (25000, 112, 112, 1)\n",
      "Train shape: (20000, 112, 112, 1), test shape: (5000, 112, 112, 1)\n",
      "Mse threshold: 0.08668422760069365\n",
      "Outliers found: 15\n",
      "*******************************\n",
      "Running model: *nsamples25000_res112_blurTrue_threshFalse_polyFalse*\n",
      "Time is: 2020-05-31 13:50:57.585020\n"
     ]
    },
    {
     "data": {
      "application/vnd.jupyter.widget-view+json": {
       "model_id": "dc61ab8e8cb1452d8ab1ee2ca4d2ae77",
       "version_major": 2,
       "version_minor": 0
      },
      "text/plain": [
       "HBox(children=(FloatProgress(value=1.0, bar_style='info', max=1.0), HTML(value='')))"
      ]
     },
     "metadata": {},
     "output_type": "display_data"
    },
    {
     "name": "stdout",
     "output_type": "stream",
     "text": [
      "\n",
      "Sampled 4.0 % of data, 25000 out of 643471 data points\n",
      "Data shape: (25000, 112, 112)\n",
      "Data size in RAM: 299.07 MB\n",
      "Data reshaped shape: (25000, 112, 112, 1)\n",
      "Train shape: (20000, 112, 112, 1), test shape: (5000, 112, 112, 1)\n",
      "Mse threshold: 0.016456498907878987\n",
      "Outliers found: 15\n",
      "*******************************\n",
      "Running model: *nsamples25000_res112_blurTrue_threshFalse_polyTrue*\n",
      "Time is: 2020-05-31 14:06:53.204942\n"
     ]
    },
    {
     "data": {
      "application/vnd.jupyter.widget-view+json": {
       "model_id": "7d357a2c801b4b10984a88db0176dcc7",
       "version_major": 2,
       "version_minor": 0
      },
      "text/plain": [
       "HBox(children=(FloatProgress(value=1.0, bar_style='info', max=1.0), HTML(value='')))"
      ]
     },
     "metadata": {},
     "output_type": "display_data"
    },
    {
     "name": "stdout",
     "output_type": "stream",
     "text": [
      "\n",
      "Sampled 4.0 % of data, 25000 out of 643471 data points\n",
      "Data shape: (25000, 112, 112)\n",
      "Data size in RAM: 299.07 MB\n",
      "Data reshaped shape: (25000, 112, 112, 1)\n",
      "Train shape: (20000, 112, 112, 1), test shape: (5000, 112, 112, 1)\n",
      "Mse threshold: 0.0137542036632075\n",
      "Outliers found: 15\n",
      "*******************************\n",
      "Running model: *nsamples25000_res112_blurTrue_threshTrue_polyFalse*\n",
      "Time is: 2020-05-31 14:22:44.539415\n"
     ]
    },
    {
     "data": {
      "application/vnd.jupyter.widget-view+json": {
       "model_id": "503c509b9b894905b9c6ae98711830b1",
       "version_major": 2,
       "version_minor": 0
      },
      "text/plain": [
       "HBox(children=(FloatProgress(value=1.0, bar_style='info', max=1.0), HTML(value='')))"
      ]
     },
     "metadata": {},
     "output_type": "display_data"
    },
    {
     "name": "stdout",
     "output_type": "stream",
     "text": [
      "\n",
      "Sampled 4.0 % of data, 25000 out of 643471 data points\n",
      "Data shape: (25000, 112, 112)\n",
      "Data size in RAM: 299.07 MB\n",
      "Data reshaped shape: (25000, 112, 112, 1)\n",
      "Train shape: (20000, 112, 112, 1), test shape: (5000, 112, 112, 1)\n",
      "Mse threshold: 0.09107830797135809\n",
      "Outliers found: 15\n",
      "*******************************\n",
      "Running model: *nsamples25000_res112_blurTrue_threshTrue_polyTrue*\n",
      "Time is: 2020-05-31 14:38:43.060296\n"
     ]
    },
    {
     "data": {
      "application/vnd.jupyter.widget-view+json": {
       "model_id": "76f4a8907acb4d53abd5f18511c5d2c1",
       "version_major": 2,
       "version_minor": 0
      },
      "text/plain": [
       "HBox(children=(FloatProgress(value=1.0, bar_style='info', max=1.0), HTML(value='')))"
      ]
     },
     "metadata": {},
     "output_type": "display_data"
    },
    {
     "name": "stdout",
     "output_type": "stream",
     "text": [
      "\n",
      "Sampled 4.0 % of data, 25000 out of 643471 data points\n",
      "Data shape: (25000, 112, 112)\n",
      "Data size in RAM: 299.07 MB\n",
      "Data reshaped shape: (25000, 112, 112, 1)\n",
      "Train shape: (20000, 112, 112, 1), test shape: (5000, 112, 112, 1)\n",
      "Mse threshold: 0.07718850255012483\n",
      "Outliers found: 15\n",
      "*******************************\n",
      "Running model: *nsamples50000_res28_blurFalse_threshFalse_polyFalse*\n",
      "Time is: 2020-05-31 14:54:27.750150\n"
     ]
    },
    {
     "data": {
      "application/vnd.jupyter.widget-view+json": {
       "model_id": "a5d5c6073d2e4c89bac2547331161aa9",
       "version_major": 2,
       "version_minor": 0
      },
      "text/plain": [
       "HBox(children=(FloatProgress(value=1.0, bar_style='info', max=1.0), HTML(value='')))"
      ]
     },
     "metadata": {},
     "output_type": "display_data"
    },
    {
     "name": "stdout",
     "output_type": "stream",
     "text": [
      "\n",
      "Sampled 8.0 % of data, 50000 out of 643471 data points\n",
      "Data shape: (50000, 28, 28)\n",
      "Data size in RAM: 37.38 MB\n",
      "Data reshaped shape: (50000, 28, 28, 1)\n",
      "Train shape: (40000, 28, 28, 1), test shape: (10000, 28, 28, 1)\n",
      "Mse threshold: 0.0261735676527025\n",
      "Outliers found: 30\n",
      "*******************************\n",
      "Running model: *nsamples50000_res28_blurFalse_threshFalse_polyTrue*\n",
      "Time is: 2020-05-31 15:07:15.715850\n"
     ]
    },
    {
     "data": {
      "application/vnd.jupyter.widget-view+json": {
       "model_id": "ce07bd350f264dee809f4878505a35ee",
       "version_major": 2,
       "version_minor": 0
      },
      "text/plain": [
       "HBox(children=(FloatProgress(value=1.0, bar_style='info', max=1.0), HTML(value='')))"
      ]
     },
     "metadata": {},
     "output_type": "display_data"
    },
    {
     "name": "stdout",
     "output_type": "stream",
     "text": [
      "Exception, will use previous image instead. Error: issue with frame! /data/security_cam_detections_v2/Front-Parking/2020-02-08/23.33.41.278_955bc21c_person.jpg\n",
      "\n",
      "Sampled 8.0 % of data, 50000 out of 643471 data points\n",
      "Data shape: (50000, 28, 28)\n",
      "Data size in RAM: 37.38 MB\n",
      "Data reshaped shape: (50000, 28, 28, 1)\n",
      "Train shape: (40000, 28, 28, 1), test shape: (10000, 28, 28, 1)\n",
      "Mse threshold: 0.023497307827696247\n",
      "Outliers found: 30\n",
      "*******************************\n",
      "Running model: *nsamples50000_res28_blurFalse_threshTrue_polyFalse*\n",
      "Time is: 2020-05-31 15:22:12.337288\n"
     ]
    },
    {
     "data": {
      "application/vnd.jupyter.widget-view+json": {
       "model_id": "b3b73105784c4d6191d72977998e0aca",
       "version_major": 2,
       "version_minor": 0
      },
      "text/plain": [
       "HBox(children=(FloatProgress(value=1.0, bar_style='info', max=1.0), HTML(value='')))"
      ]
     },
     "metadata": {},
     "output_type": "display_data"
    },
    {
     "name": "stdout",
     "output_type": "stream",
     "text": [
      "Exception, will use previous image instead. Error: issue with frame! /data/security_cam_detections_v2/Front-Parking/2020-02-08/23.33.41.278_955bc21c_person.jpg\n",
      "\n",
      "Sampled 8.0 % of data, 50000 out of 643471 data points\n",
      "Data shape: (50000, 28, 28)\n",
      "Data size in RAM: 37.38 MB\n",
      "Data reshaped shape: (50000, 28, 28, 1)\n",
      "Train shape: (40000, 28, 28, 1), test shape: (10000, 28, 28, 1)\n",
      "Mse threshold: 0.10536933574825535\n",
      "Outliers found: 30\n",
      "*******************************\n",
      "Running model: *nsamples50000_res28_blurFalse_threshTrue_polyTrue*\n",
      "Time is: 2020-05-31 15:37:01.767757\n"
     ]
    },
    {
     "data": {
      "application/vnd.jupyter.widget-view+json": {
       "model_id": "be694ae3e9f94457b9ea2a271edc6e37",
       "version_major": 2,
       "version_minor": 0
      },
      "text/plain": [
       "HBox(children=(FloatProgress(value=1.0, bar_style='info', max=1.0), HTML(value='')))"
      ]
     },
     "metadata": {},
     "output_type": "display_data"
    },
    {
     "name": "stdout",
     "output_type": "stream",
     "text": [
      "\n",
      "Sampled 8.0 % of data, 50000 out of 643471 data points\n",
      "Data shape: (50000, 28, 28)\n",
      "Data size in RAM: 37.38 MB\n",
      "Data reshaped shape: (50000, 28, 28, 1)\n",
      "Train shape: (40000, 28, 28, 1), test shape: (10000, 28, 28, 1)\n",
      "Mse threshold: 0.08562995991855886\n",
      "Outliers found: 30\n",
      "*******************************\n",
      "Running model: *nsamples50000_res28_blurTrue_threshFalse_polyFalse*\n",
      "Time is: 2020-05-31 15:54:13.874685\n"
     ]
    },
    {
     "data": {
      "application/vnd.jupyter.widget-view+json": {
       "model_id": "e43567004911412fadefb6ae2b3be470",
       "version_major": 2,
       "version_minor": 0
      },
      "text/plain": [
       "HBox(children=(FloatProgress(value=1.0, bar_style='info', max=1.0), HTML(value='')))"
      ]
     },
     "metadata": {},
     "output_type": "display_data"
    },
    {
     "name": "stdout",
     "output_type": "stream",
     "text": [
      "\n",
      "Sampled 8.0 % of data, 50000 out of 643471 data points\n",
      "Data shape: (50000, 28, 28)\n",
      "Data size in RAM: 37.38 MB\n",
      "Data reshaped shape: (50000, 28, 28, 1)\n",
      "Train shape: (40000, 28, 28, 1), test shape: (10000, 28, 28, 1)\n",
      "Mse threshold: 0.005708286367356797\n",
      "Outliers found: 30\n",
      "*******************************\n",
      "Running model: *nsamples50000_res28_blurTrue_threshFalse_polyTrue*\n",
      "Time is: 2020-05-31 16:11:41.973137\n"
     ]
    },
    {
     "data": {
      "application/vnd.jupyter.widget-view+json": {
       "model_id": "87e5bb71dc58473fa4b63b20d965ab22",
       "version_major": 2,
       "version_minor": 0
      },
      "text/plain": [
       "HBox(children=(FloatProgress(value=1.0, bar_style='info', max=1.0), HTML(value='')))"
      ]
     },
     "metadata": {},
     "output_type": "display_data"
    },
    {
     "name": "stdout",
     "output_type": "stream",
     "text": [
      "Exception, will use previous image instead. Error: issue with frame! /data/security_cam_detections_v2/Front-Parking/2020-01-25/23.32.10.835_4fa7e649_car.jpg\n",
      "\n",
      "Sampled 8.0 % of data, 50000 out of 643471 data points\n",
      "Data shape: (50000, 28, 28)\n",
      "Data size in RAM: 37.38 MB\n",
      "Data reshaped shape: (50000, 28, 28, 1)\n",
      "Train shape: (40000, 28, 28, 1), test shape: (10000, 28, 28, 1)\n",
      "Mse threshold: 0.004468954239971968\n",
      "Outliers found: 30\n",
      "*******************************\n",
      "Running model: *nsamples50000_res28_blurTrue_threshTrue_polyFalse*\n",
      "Time is: 2020-05-31 16:29:13.631750\n"
     ]
    },
    {
     "data": {
      "application/vnd.jupyter.widget-view+json": {
       "model_id": "f1e79e173d0a4d9b8ed97a205a8ed150",
       "version_major": 2,
       "version_minor": 0
      },
      "text/plain": [
       "HBox(children=(FloatProgress(value=1.0, bar_style='info', max=1.0), HTML(value='')))"
      ]
     },
     "metadata": {},
     "output_type": "display_data"
    },
    {
     "name": "stdout",
     "output_type": "stream",
     "text": [
      "Exception, will use previous image instead. Error: issue with frame! /data/security_cam_detections_v2/Front-Parking/2020-02-08/23.33.40.184_2c97eae7_person.jpg\n",
      "\n",
      "Sampled 8.0 % of data, 50000 out of 643471 data points\n",
      "Data shape: (50000, 28, 28)\n",
      "Data size in RAM: 37.38 MB\n",
      "Data reshaped shape: (50000, 28, 28, 1)\n",
      "Train shape: (40000, 28, 28, 1), test shape: (10000, 28, 28, 1)\n",
      "Mse threshold: 0.07784174690395611\n",
      "Outliers found: 30\n",
      "*******************************\n",
      "Running model: *nsamples50000_res28_blurTrue_threshTrue_polyTrue*\n",
      "Time is: 2020-05-31 16:46:36.673064\n"
     ]
    },
    {
     "data": {
      "application/vnd.jupyter.widget-view+json": {
       "model_id": "7e66395d5a184f8094aafe56db492e7d",
       "version_major": 2,
       "version_minor": 0
      },
      "text/plain": [
       "HBox(children=(FloatProgress(value=1.0, bar_style='info', max=1.0), HTML(value='')))"
      ]
     },
     "metadata": {},
     "output_type": "display_data"
    },
    {
     "name": "stdout",
     "output_type": "stream",
     "text": [
      "Exception, will use previous image instead. Error: issue with frame! /data/security_cam_detections_v2/Front-Parking/2020-02-08/23.33.40.184_2c97eae7_person.jpg\n",
      "\n",
      "Sampled 8.0 % of data, 50000 out of 643471 data points\n",
      "Data shape: (50000, 28, 28)\n",
      "Data size in RAM: 37.38 MB\n",
      "Data reshaped shape: (50000, 28, 28, 1)\n",
      "Train shape: (40000, 28, 28, 1), test shape: (10000, 28, 28, 1)\n",
      "Mse threshold: 0.05955434598028689\n",
      "Outliers found: 30\n",
      "*******************************\n",
      "Running model: *nsamples50000_res56_blurFalse_threshFalse_polyFalse*\n",
      "Time is: 2020-05-31 17:03:56.095461\n"
     ]
    },
    {
     "data": {
      "application/vnd.jupyter.widget-view+json": {
       "model_id": "d8ba1800b0cd47bf82bfb4d84e894517",
       "version_major": 2,
       "version_minor": 0
      },
      "text/plain": [
       "HBox(children=(FloatProgress(value=1.0, bar_style='info', max=1.0), HTML(value='')))"
      ]
     },
     "metadata": {},
     "output_type": "display_data"
    },
    {
     "name": "stdout",
     "output_type": "stream",
     "text": [
      "\n",
      "Sampled 8.0 % of data, 50000 out of 643471 data points\n",
      "Data shape: (50000, 56, 56)\n",
      "Data size in RAM: 149.54 MB\n",
      "Data reshaped shape: (50000, 56, 56, 1)\n",
      "Train shape: (40000, 56, 56, 1), test shape: (10000, 56, 56, 1)\n",
      "Mse threshold: 0.027620661776512994\n",
      "Outliers found: 30\n",
      "*******************************\n",
      "Running model: *nsamples50000_res56_blurFalse_threshFalse_polyTrue*\n",
      "Time is: 2020-05-31 17:22:39.115226\n"
     ]
    },
    {
     "data": {
      "application/vnd.jupyter.widget-view+json": {
       "model_id": "dbda1f05a70c433c9a5c4d8ffc2b2cc8",
       "version_major": 2,
       "version_minor": 0
      },
      "text/plain": [
       "HBox(children=(FloatProgress(value=1.0, bar_style='info', max=1.0), HTML(value='')))"
      ]
     },
     "metadata": {},
     "output_type": "display_data"
    },
    {
     "name": "stdout",
     "output_type": "stream",
     "text": [
      "\n",
      "Sampled 8.0 % of data, 50000 out of 643471 data points\n",
      "Data shape: (50000, 56, 56)\n",
      "Data size in RAM: 149.54 MB\n",
      "Data reshaped shape: (50000, 56, 56, 1)\n",
      "Train shape: (40000, 56, 56, 1), test shape: (10000, 56, 56, 1)\n",
      "Mse threshold: 0.024020547181367893\n",
      "Outliers found: 30\n",
      "*******************************\n",
      "Running model: *nsamples50000_res56_blurFalse_threshTrue_polyFalse*\n",
      "Time is: 2020-05-31 17:41:31.756034\n"
     ]
    },
    {
     "data": {
      "application/vnd.jupyter.widget-view+json": {
       "model_id": "fec86d239999487f816f41b1b511a39f",
       "version_major": 2,
       "version_minor": 0
      },
      "text/plain": [
       "HBox(children=(FloatProgress(value=1.0, bar_style='info', max=1.0), HTML(value='')))"
      ]
     },
     "metadata": {},
     "output_type": "display_data"
    },
    {
     "name": "stdout",
     "output_type": "stream",
     "text": [
      "Exception, will use previous image instead. Error: issue with frame! /data/security_cam_detections_v2/Front-Parking/2020-02-01/23.46.24.903_33c7d43d_car.jpg\n",
      "\n",
      "Sampled 8.0 % of data, 50000 out of 643471 data points\n",
      "Data shape: (50000, 56, 56)\n",
      "Data size in RAM: 149.54 MB\n",
      "Data reshaped shape: (50000, 56, 56, 1)\n",
      "Train shape: (40000, 56, 56, 1), test shape: (10000, 56, 56, 1)\n",
      "Mse threshold: 0.10271805647015574\n",
      "Outliers found: 30\n",
      "*******************************\n",
      "Running model: *nsamples50000_res56_blurFalse_threshTrue_polyTrue*\n",
      "Time is: 2020-05-31 18:00:15.775903\n"
     ]
    },
    {
     "data": {
      "application/vnd.jupyter.widget-view+json": {
       "model_id": "2674766ab25c43b1905869a1463927cb",
       "version_major": 2,
       "version_minor": 0
      },
      "text/plain": [
       "HBox(children=(FloatProgress(value=1.0, bar_style='info', max=1.0), HTML(value='')))"
      ]
     },
     "metadata": {},
     "output_type": "display_data"
    },
    {
     "name": "stdout",
     "output_type": "stream",
     "text": [
      "\n",
      "Sampled 8.0 % of data, 50000 out of 643471 data points\n",
      "Data shape: (50000, 56, 56)\n",
      "Data size in RAM: 149.54 MB\n",
      "Data reshaped shape: (50000, 56, 56, 1)\n",
      "Train shape: (40000, 56, 56, 1), test shape: (10000, 56, 56, 1)\n",
      "Mse threshold: 0.08550813137739907\n",
      "Outliers found: 30\n",
      "*******************************\n",
      "Running model: *nsamples50000_res56_blurTrue_threshFalse_polyFalse*\n",
      "Time is: 2020-05-31 18:19:11.910942\n"
     ]
    },
    {
     "data": {
      "application/vnd.jupyter.widget-view+json": {
       "model_id": "ff9a5574d61647e6be5086ab269b621e",
       "version_major": 2,
       "version_minor": 0
      },
      "text/plain": [
       "HBox(children=(FloatProgress(value=1.0, bar_style='info', max=1.0), HTML(value='')))"
      ]
     },
     "metadata": {},
     "output_type": "display_data"
    },
    {
     "name": "stdout",
     "output_type": "stream",
     "text": [
      "Exception, will use previous image instead. Error: issue with frame! /data/security_cam_detections_v2/Front-Parking/2020-02-01/23.46.24.903_33c7d43d_car.jpg\n",
      "\n",
      "Sampled 8.0 % of data, 50000 out of 643471 data points\n",
      "Data shape: (50000, 56, 56)\n",
      "Data size in RAM: 149.54 MB\n",
      "Data reshaped shape: (50000, 56, 56, 1)\n",
      "Train shape: (40000, 56, 56, 1), test shape: (10000, 56, 56, 1)\n",
      "Mse threshold: 0.010222769326530408\n",
      "Outliers found: 30\n",
      "*******************************\n",
      "Running model: *nsamples50000_res56_blurTrue_threshFalse_polyTrue*\n",
      "Time is: 2020-05-31 18:37:29.201094\n"
     ]
    },
    {
     "data": {
      "application/vnd.jupyter.widget-view+json": {
       "model_id": "83c587b88d0941ac911fb8ccf93f20fc",
       "version_major": 2,
       "version_minor": 0
      },
      "text/plain": [
       "HBox(children=(FloatProgress(value=1.0, bar_style='info', max=1.0), HTML(value='')))"
      ]
     },
     "metadata": {},
     "output_type": "display_data"
    },
    {
     "name": "stdout",
     "output_type": "stream",
     "text": [
      "Exception, will use previous image instead. Error: issue with frame! /data/security_cam_detections_v2/Front-Parking/2020-01-22/23.44.56.334_9153465f_car.jpg\n",
      "\n",
      "Sampled 8.0 % of data, 50000 out of 643471 data points\n",
      "Data shape: (50000, 56, 56)\n",
      "Data size in RAM: 149.54 MB\n",
      "Data reshaped shape: (50000, 56, 56, 1)\n",
      "Train shape: (40000, 56, 56, 1), test shape: (10000, 56, 56, 1)\n",
      "Mse threshold: 0.008490424035117064\n",
      "Outliers found: 30\n",
      "*******************************\n",
      "Running model: *nsamples50000_res56_blurTrue_threshTrue_polyFalse*\n",
      "Time is: 2020-05-31 18:56:17.550541\n"
     ]
    },
    {
     "data": {
      "application/vnd.jupyter.widget-view+json": {
       "model_id": "dbf86b0023824dcf9c89bdc6e13518ef",
       "version_major": 2,
       "version_minor": 0
      },
      "text/plain": [
       "HBox(children=(FloatProgress(value=1.0, bar_style='info', max=1.0), HTML(value='')))"
      ]
     },
     "metadata": {},
     "output_type": "display_data"
    },
    {
     "name": "stdout",
     "output_type": "stream",
     "text": [
      "\n",
      "Sampled 8.0 % of data, 50000 out of 643471 data points\n",
      "Data shape: (50000, 56, 56)\n",
      "Data size in RAM: 149.54 MB\n",
      "Data reshaped shape: (50000, 56, 56, 1)\n",
      "Train shape: (40000, 56, 56, 1), test shape: (10000, 56, 56, 1)\n",
      "Mse threshold: 0.08238628645986332\n",
      "Outliers found: 30\n",
      "*******************************\n",
      "Running model: *nsamples50000_res56_blurTrue_threshTrue_polyTrue*\n",
      "Time is: 2020-05-31 19:14:33.398745\n"
     ]
    },
    {
     "data": {
      "application/vnd.jupyter.widget-view+json": {
       "model_id": "7926a35d0db34fb687eb8dab0423f337",
       "version_major": 2,
       "version_minor": 0
      },
      "text/plain": [
       "HBox(children=(FloatProgress(value=1.0, bar_style='info', max=1.0), HTML(value='')))"
      ]
     },
     "metadata": {},
     "output_type": "display_data"
    },
    {
     "name": "stdout",
     "output_type": "stream",
     "text": [
      "Exception, will use previous image instead. Error: issue with frame! /data/security_cam_detections_v2/Front-Parking/2020-01-25/23.32.10.990_4c062cda_car.jpg\n",
      "\n",
      "Sampled 8.0 % of data, 50000 out of 643471 data points\n",
      "Data shape: (50000, 56, 56)\n",
      "Data size in RAM: 149.54 MB\n",
      "Data reshaped shape: (50000, 56, 56, 1)\n",
      "Train shape: (40000, 56, 56, 1), test shape: (10000, 56, 56, 1)\n",
      "Mse threshold: 0.074545423604548\n",
      "Outliers found: 30\n",
      "*******************************\n",
      "Running model: *nsamples50000_res112_blurFalse_threshFalse_polyFalse*\n",
      "Time is: 2020-05-31 19:32:56.175589\n"
     ]
    },
    {
     "data": {
      "application/vnd.jupyter.widget-view+json": {
       "model_id": "0bf16d2f61b44e9b90e21c9366c5f69a",
       "version_major": 2,
       "version_minor": 0
      },
      "text/plain": [
       "HBox(children=(FloatProgress(value=1.0, bar_style='info', max=1.0), HTML(value='')))"
      ]
     },
     "metadata": {},
     "output_type": "display_data"
    },
    {
     "name": "stdout",
     "output_type": "stream",
     "text": [
      "\n",
      "Sampled 8.0 % of data, 50000 out of 643471 data points\n",
      "Data shape: (50000, 112, 112)\n",
      "Data size in RAM: 598.14 MB\n",
      "Data reshaped shape: (50000, 112, 112, 1)\n",
      "Train shape: (40000, 112, 112, 1), test shape: (10000, 112, 112, 1)\n",
      "Mse threshold: 0.02547318059206039\n",
      "Outliers found: 30\n",
      "*******************************\n",
      "Running model: *nsamples50000_res112_blurFalse_threshFalse_polyTrue*\n",
      "Time is: 2020-05-31 20:04:48.639110\n"
     ]
    },
    {
     "data": {
      "application/vnd.jupyter.widget-view+json": {
       "model_id": "5844cc33e38849718a34e7eb2a054aff",
       "version_major": 2,
       "version_minor": 0
      },
      "text/plain": [
       "HBox(children=(FloatProgress(value=1.0, bar_style='info', max=1.0), HTML(value='')))"
      ]
     },
     "metadata": {},
     "output_type": "display_data"
    },
    {
     "name": "stdout",
     "output_type": "stream",
     "text": [
      "\n",
      "Sampled 8.0 % of data, 50000 out of 643471 data points\n",
      "Data shape: (50000, 112, 112)\n",
      "Data size in RAM: 598.14 MB\n",
      "Data reshaped shape: (50000, 112, 112, 1)\n",
      "Train shape: (40000, 112, 112, 1), test shape: (10000, 112, 112, 1)\n",
      "Mse threshold: 0.02301630987040699\n",
      "Outliers found: 30\n",
      "*******************************\n",
      "Running model: *nsamples50000_res112_blurFalse_threshTrue_polyFalse*\n",
      "Time is: 2020-05-31 20:36:20.460344\n"
     ]
    },
    {
     "data": {
      "application/vnd.jupyter.widget-view+json": {
       "model_id": "5382f49b67814ddaabc8913f3d0ae213",
       "version_major": 2,
       "version_minor": 0
      },
      "text/plain": [
       "HBox(children=(FloatProgress(value=1.0, bar_style='info', max=1.0), HTML(value='')))"
      ]
     },
     "metadata": {},
     "output_type": "display_data"
    },
    {
     "name": "stdout",
     "output_type": "stream",
     "text": [
      "\n",
      "Sampled 8.0 % of data, 50000 out of 643471 data points\n",
      "Data shape: (50000, 112, 112)\n",
      "Data size in RAM: 598.14 MB\n",
      "Data reshaped shape: (50000, 112, 112, 1)\n",
      "Train shape: (40000, 112, 112, 1), test shape: (10000, 112, 112, 1)\n",
      "Mse threshold: 0.0997571442201735\n",
      "Outliers found: 30\n",
      "*******************************\n",
      "Running model: *nsamples50000_res112_blurFalse_threshTrue_polyTrue*\n",
      "Time is: 2020-05-31 21:08:08.720107\n"
     ]
    },
    {
     "data": {
      "application/vnd.jupyter.widget-view+json": {
       "model_id": "2b6df20aec8c4c72ab49a4c000495f08",
       "version_major": 2,
       "version_minor": 0
      },
      "text/plain": [
       "HBox(children=(FloatProgress(value=1.0, bar_style='info', max=1.0), HTML(value='')))"
      ]
     },
     "metadata": {},
     "output_type": "display_data"
    },
    {
     "name": "stdout",
     "output_type": "stream",
     "text": [
      "\n",
      "Sampled 8.0 % of data, 50000 out of 643471 data points\n",
      "Data shape: (50000, 112, 112)\n",
      "Data size in RAM: 598.14 MB\n",
      "Data reshaped shape: (50000, 112, 112, 1)\n",
      "Train shape: (40000, 112, 112, 1), test shape: (10000, 112, 112, 1)\n",
      "Mse threshold: 0.08334846816957002\n",
      "Outliers found: 30\n",
      "*******************************\n",
      "Running model: *nsamples50000_res112_blurTrue_threshFalse_polyFalse*\n",
      "Time is: 2020-05-31 21:39:47.673098\n"
     ]
    },
    {
     "data": {
      "application/vnd.jupyter.widget-view+json": {
       "model_id": "3bfd1b8e4ea54affa6387230aa1ad0bb",
       "version_major": 2,
       "version_minor": 0
      },
      "text/plain": [
       "HBox(children=(FloatProgress(value=1.0, bar_style='info', max=1.0), HTML(value='')))"
      ]
     },
     "metadata": {},
     "output_type": "display_data"
    },
    {
     "name": "stdout",
     "output_type": "stream",
     "text": [
      "Exception, will use previous image instead. Error: issue with frame! /data/security_cam_detections_v2/Front-Parking/2020-01-25/23.32.10.835_4fa7e649_car.jpg\n",
      "\n",
      "Sampled 8.0 % of data, 50000 out of 643471 data points\n",
      "Data shape: (50000, 112, 112)\n",
      "Data size in RAM: 598.14 MB\n",
      "Data reshaped shape: (50000, 112, 112, 1)\n",
      "Train shape: (40000, 112, 112, 1), test shape: (10000, 112, 112, 1)\n",
      "Mse threshold: 0.014380609516985828\n",
      "Outliers found: 30\n",
      "*******************************\n",
      "Running model: *nsamples50000_res112_blurTrue_threshFalse_polyTrue*\n",
      "Time is: 2020-05-31 22:11:32.423071\n"
     ]
    },
    {
     "data": {
      "application/vnd.jupyter.widget-view+json": {
       "model_id": "157bbc44b7a54f2ea89c74d866e1ded0",
       "version_major": 2,
       "version_minor": 0
      },
      "text/plain": [
       "HBox(children=(FloatProgress(value=1.0, bar_style='info', max=1.0), HTML(value='')))"
      ]
     },
     "metadata": {},
     "output_type": "display_data"
    },
    {
     "name": "stdout",
     "output_type": "stream",
     "text": [
      "\n",
      "Sampled 8.0 % of data, 50000 out of 643471 data points\n",
      "Data shape: (50000, 112, 112)\n",
      "Data size in RAM: 598.14 MB\n",
      "Data reshaped shape: (50000, 112, 112, 1)\n",
      "Train shape: (40000, 112, 112, 1), test shape: (10000, 112, 112, 1)\n",
      "Mse threshold: 0.011778641268610973\n",
      "Outliers found: 30\n",
      "*******************************\n",
      "Running model: *nsamples50000_res112_blurTrue_threshTrue_polyFalse*\n",
      "Time is: 2020-05-31 22:43:20.379707\n"
     ]
    },
    {
     "data": {
      "application/vnd.jupyter.widget-view+json": {
       "model_id": "926d140efe7e4b1da2873066d7913f8c",
       "version_major": 2,
       "version_minor": 0
      },
      "text/plain": [
       "HBox(children=(FloatProgress(value=1.0, bar_style='info', max=1.0), HTML(value='')))"
      ]
     },
     "metadata": {},
     "output_type": "display_data"
    },
    {
     "name": "stdout",
     "output_type": "stream",
     "text": [
      "\n",
      "Sampled 8.0 % of data, 50000 out of 643471 data points\n",
      "Data shape: (50000, 112, 112)\n",
      "Data size in RAM: 598.14 MB\n",
      "Data reshaped shape: (50000, 112, 112, 1)\n",
      "Train shape: (40000, 112, 112, 1), test shape: (10000, 112, 112, 1)\n",
      "Mse threshold: 0.08484504243731507\n",
      "Outliers found: 30\n",
      "*******************************\n",
      "Running model: *nsamples50000_res112_blurTrue_threshTrue_polyTrue*\n",
      "Time is: 2020-05-31 23:15:07.601751\n"
     ]
    },
    {
     "data": {
      "application/vnd.jupyter.widget-view+json": {
       "model_id": "b3121350d52b4fca82d1ad1d004d9366",
       "version_major": 2,
       "version_minor": 0
      },
      "text/plain": [
       "HBox(children=(FloatProgress(value=1.0, bar_style='info', max=1.0), HTML(value='')))"
      ]
     },
     "metadata": {},
     "output_type": "display_data"
    },
    {
     "name": "stdout",
     "output_type": "stream",
     "text": [
      "Exception, will use previous image instead. Error: issue with frame! /data/security_cam_detections_v2/Front-Parking/2020-01-22/23.44.56.510_02e043e7_car.jpg\n",
      "\n",
      "Sampled 8.0 % of data, 50000 out of 643471 data points\n",
      "Data shape: (50000, 112, 112)\n",
      "Data size in RAM: 598.14 MB\n",
      "Data reshaped shape: (50000, 112, 112, 1)\n",
      "Train shape: (40000, 112, 112, 1), test shape: (10000, 112, 112, 1)\n",
      "Mse threshold: 0.07764179100096258\n",
      "Outliers found: 30\n",
      "*******************************\n",
      "Done. Time is 2020-05-31 23:46:56.650149\n"
     ]
    }
   ],
   "source": [
    "# test parameters automatically and see what is classified as anomaly\n",
    "import itertools\n",
    "\n",
    "histories = {}\n",
    "real_params = ((10000, 25000, 50000), (28, 56, 112), (False, True), (False, True), (False, True))\n",
    "test_params = ((200, 300), (28, 56), (False, True), (False, True), (False, True))\n",
    "\n",
    "IMG_BASE_DIR = '/data/security_cam_detections_v2/Front-Parking'\n",
    "\n",
    "for n_samples, dim, is_blur, is_thresh, is_poly in itertools.product(*real_params):\n",
    "    model_name = f'nsamples{n_samples}_res{dim}_blur{is_blur}_thresh{is_thresh}_poly{is_poly}'\n",
    "    print(f'Running model: *{model_name}*')\n",
    "    print(f'Time is: {str(dt.now())}')\n",
    "    \n",
    "    dest_file_data = f'../Datasets/raw_images_processed/img__{model_name}.npy'\n",
    "    dest_file_filenames = f'../Datasets/raw_images_processed/filepaths__{model_name}.npy'\n",
    "\n",
    "    # how many rows to sample from dataframe\n",
    "    NUM_ROWS = n_samples\n",
    "\n",
    "    # resize images from 1080p to these dimensions\n",
    "    WIDTH, HEIGHT = dim, dim\n",
    "    \n",
    "    # if polyfill is used, use this percentage mask to cover the top area of image\n",
    "    POLY_VALUES = np.array([[0, 0], [1, 0], [1, 0.37], [0.5, 0.21], [0.25, 0.13], [0, 0.09]])  # poly-shape to mask\n",
    "    \n",
    "    # try:\n",
    "    #     # load files from disk, if don't exist, generate samples from the dataframe\n",
    "    #     im_data = np.load(dest_file_data)\n",
    "    #     im_filepaths = np.load(dest_file_filenames)\n",
    "    # except Exception as e:\n",
    "        # pre-allocate memory for the numpy array\n",
    "    im_data = np.zeros((NUM_ROWS, WIDTH, HEIGHT), dtype='uint8')\n",
    "    im_filepaths = []\n",
    "\n",
    "    # sample rows from the dataframe\n",
    "    samples = df.sample(NUM_ROWS)\n",
    "\n",
    "    # iterate through images and store in previously defined numpy array\n",
    "    im_processed_prev = None\n",
    "    im_path_prev = None\n",
    "    for i, (im_date, im_filename) in tqdm(enumerate(samples[['date', 'filename']].to_numpy())):\n",
    "        im_path = f'{IMG_BASE_DIR}/{im_date}/{im_filename}'\n",
    "        im_raw = cv2.imread(im_path)\n",
    "        try:\n",
    "            im_processed = process_frame(im_raw, (WIDTH, HEIGHT), is_gray=True, is_blur=is_blur,\n",
    "                                         is_thresh=is_thresh, is_polyfill=is_poly, poly_values=POLY_VALUES)\n",
    "        except Exception as e:\n",
    "            # if exception occurs when reading image, use previous image again\n",
    "            print('Exception, will use previous image instead.', str(e), im_path)\n",
    "            im_data[i] = im_processed_prev\n",
    "            im_filepaths.append(im_path_prev)\n",
    "            continue\n",
    "        im_processed_prev = im_processed.copy()\n",
    "        im_path_prev = im_path\n",
    "        im_data[i] = im_processed\n",
    "        im_filepaths.append(im_path)\n",
    "    im_filepaths = np.array(im_filepaths)\n",
    "\n",
    "    # save numpy arrays in the Datasets (efficient binary format)\n",
    "    np.save(dest_file_data, im_data)\n",
    "    np.save(dest_file_filenames, im_filepaths)\n",
    "\n",
    "    # print useful info\n",
    "    print(f\"Sampled {round(NUM_ROWS / df.shape[0], 2) * 100} % of data, {NUM_ROWS} out of {df.shape[0]} data points\")\n",
    "    print(f'Data shape: {im_data.shape}')\n",
    "    print(f'Data size in RAM: {round((im_data.size * im_data.itemsize) / 1024 / 1024, 2)} MB')\n",
    "    \n",
    "    # add a channel dimension to every image in the dataset, then scale\n",
    "    # the pixel intensities to the range [0, 1]\n",
    "    im_data = np.squeeze(im_data)\n",
    "    im_data = np.expand_dims(im_data, axis=-1)\n",
    "    im_data = im_data.astype(\"float32\") / 255.0\n",
    "    print(f'Data reshaped shape: {im_data.shape}')\n",
    "\n",
    "    # construct the training and testing split\n",
    "    X_train, X_test, y_train, y_test = train_test_split(im_data, im_filepaths, test_size=0.2, random_state=42)\n",
    "    print(f'Train shape: {X_train.shape}, test shape: {X_test.shape}')\n",
    "    \n",
    "    # define model params\n",
    "    latent_dim=16\n",
    "    depth = 1\n",
    "    input_shape = (HEIGHT, WIDTH, depth)\n",
    "    chan_dim = -1\n",
    "\n",
    "    # CNN filters\n",
    "    filters=(32, 64)\n",
    "\n",
    "    # define the input to the encoder\n",
    "    inputs = Input(shape=input_shape)\n",
    "    x = inputs\n",
    "    # loop over the number of filters\n",
    "    for f in filters:\n",
    "        # apply a CONV => RELU => BN operation\n",
    "        x = Conv2D(f, (3, 3), strides=2, padding=\"same\")(x)\n",
    "        x = LeakyReLU(alpha=0.2)(x)\n",
    "        x = BatchNormalization(axis=chan_dim)(x)\n",
    "    # flatten the network and then construct our latent vector\n",
    "    volume_size = K.int_shape(x)\n",
    "    x = Flatten()(x)\n",
    "    latent = Dense(latent_dim)(x)\n",
    "    # build the encoder model\n",
    "    encoder = Model(inputs, latent, name=\"encoder\")\n",
    "\n",
    "    # start building the decoder model which will accept the\n",
    "    # output of the encoder as its inputs\n",
    "    latent_inputs = Input(shape=(latent_dim,))\n",
    "    x = Dense(np.prod(volume_size[1:]))(latent_inputs)\n",
    "    x = Reshape((volume_size[1], volume_size[2], volume_size[3]))(x)\n",
    "    # loop over our number of filters again, but this time in\n",
    "    # reverse order\n",
    "    for f in filters[::-1]:\n",
    "        # apply a CONV_TRANSPOSE => RELU => BN operation\n",
    "        x = Conv2DTranspose(f, (3, 3), strides=2, padding=\"same\")(x)\n",
    "        x = LeakyReLU(alpha=0.2)(x)\n",
    "        x = BatchNormalization(axis=chan_dim)(x)\n",
    "    # apply a single CONV_TRANSPOSE layer used to recover the\n",
    "    # original depth of the image\n",
    "    x = Conv2DTranspose(depth, (3, 3), padding=\"same\")(x)\n",
    "    outputs = Activation(\"sigmoid\")(x)\n",
    "    # build the decoder model\n",
    "    decoder = Model(latent_inputs, outputs, name=\"decoder\")\n",
    "\n",
    "    # our autoencoder is the encoder + decoder\n",
    "    autoencoder = Model(inputs, decoder(encoder(inputs)), name=\"autoencoder\")\n",
    "\n",
    "    # initialize the number of epochs to train for, initial learning rate,\n",
    "    # and batch size\n",
    "    EPOCHS = 50\n",
    "    INIT_LR = 1e-3\n",
    "    BS = 32\n",
    "\n",
    "    opt = Adam(lr=INIT_LR, decay=INIT_LR / EPOCHS)\n",
    "    autoencoder.compile(loss=\"mse\", optimizer=opt)\n",
    "    \n",
    "    # train the convolutional autoencoder,\n",
    "    # note that the labels are actually the same\n",
    "    # as the training data\n",
    "    # save history data for later analysis\n",
    "    H = autoencoder.fit(X_train, X_train, validation_data=(X_test, X_test),\n",
    "                        epochs=EPOCHS, batch_size=BS, verbose=0)  # verbose to 0 to silence it\n",
    "    histories[model_name] = {'loss': H.history[\"loss\"], 'val_loss': H.history[\"val_loss\"], 'ts': str(dt.now())}\n",
    "    \n",
    "    # reconstruct data\n",
    "    reconstructed_data = autoencoder.predict(X_test)\n",
    "    \n",
    "    # calculate errors for test-set\n",
    "    errors = []\n",
    "    for (image, recon) in zip(X_test, reconstructed_data):\n",
    "        # compute the mean squared error between the ground-truth image\n",
    "        # and the reconstructed image, then add it to our list of errors\n",
    "        mse = np.mean((image - recon) ** 2)\n",
    "        errors.append(mse)\n",
    "    errors = np.array(errors)\n",
    "    \n",
    "    # compute the q-th quantile of the errors which serves as our\n",
    "    # threshold to identify anomalies -- any data point that our model\n",
    "    # reconstructed with > threshold error will be marked as an outlier\n",
    "    thresh = np.quantile(errors, 0.997)\n",
    "    idxs = np.where(np.array(errors) >= thresh)[0]\n",
    "    print(f\"Mse threshold: {thresh}\")\n",
    "    print(f\"Outliers found: {len(idxs)}\")\n",
    "    \n",
    "    # take a look at a few images with highest error\n",
    "    errors_df = pd.DataFrame({'mse': errors, 'y_test': y_test})\n",
    "    errors_df['is_anomaly'] = 'N'\n",
    "    errors_df.loc[errors_df['mse'] >= thresh, 'is_anomaly'] = 'Y'\n",
    "    errors_df = errors_df.sort_values('mse', ascending=False)\n",
    "    csv_filename = f'../Datasets/anomaly_results/{model_name}.csv'\n",
    "    errors_df.head(10).to_csv(csv_filename, index=False)\n",
    "    print('*******************************')\n",
    "\n",
    "now = str(dt.now())\n",
    "filename = f'../Datasets/histories/history_run_{now}.pickle'\n",
    "outfile = open(filename, 'wb')\n",
    "pickle.dump(histories, outfile)\n",
    "outfile.close()\n",
    "print(f'Done. Time is {now}')"
   ]
  },
  {
   "cell_type": "markdown",
   "metadata": {},
   "source": [
    "### Verify results"
   ]
  },
  {
   "cell_type": "code",
   "execution_count": 12,
   "metadata": {},
   "outputs": [
    {
     "data": {
      "text/plain": [
       "72"
      ]
     },
     "execution_count": 12,
     "metadata": {},
     "output_type": "execute_result"
    }
   ],
   "source": [
    "len(histories.keys())"
   ]
  },
  {
   "cell_type": "code",
   "execution_count": 221,
   "metadata": {},
   "outputs": [
    {
     "name": "stdout",
     "output_type": "stream",
     "text": [
      "../Datasets/anomalies_labelled/yes/11.49.52.975_06f3ace1_dog.jpg\n",
      "(112, 112)\n"
     ]
    },
    {
     "data": {
      "image/png": "[encoded data removed]",
      "text/plain": [
       "<Figure size 864x432 with 1 Axes>"
      ]
     },
     "metadata": {},
     "output_type": "display_data"
    },
    {
     "name": "stdout",
     "output_type": "stream",
     "text": [
      "*************\n"
     ]
    }
   ],
   "source": [
    "# test preprocessing\n",
    "WIDTH, HEIGHT = 112, 112\n",
    "POLY_VALUES = np.array([[0, 0], [1, 0], [1, 0.37], [0.5, 0.21], [0.25, 0.13], [0, 0.09]])  # poly-shape to mask\n",
    "im_dir_anom = '../Datasets/anomalies_labelled/yes'\n",
    "im_dir_normal = '../Datasets/anomalies_labelled/yes'\n",
    "for f in os.listdir(im_dir_anom)[2:]:\n",
    "    im_path = f'{im_dir_anom}/{f}'\n",
    "    print(im_path)\n",
    "    im_raw = cv2.imread(im_path)\n",
    "    im_processed = process_frame(im_raw, (WIDTH, HEIGHT), is_gray=True, is_blur=True, is_thresh=False,\n",
    "                                 is_polyfill=True, poly_values=POLY_VALUES, debug_poly=False)\n",
    "    #imshow(im_raw)\n",
    "    imshow(im_processed)\n",
    "    print('*************')\n",
    "    break"
   ]
  },
  {
   "cell_type": "markdown",
   "metadata": {},
   "source": [
    "### Process images\n",
    "\n",
    "Take `NUM_ROWS` random samples from the DataFrame and follow the pipeline:\n",
    "- intialize numpy array (pre-allocate required memory)\n",
    "- take samples from dataframe\n",
    "- iterate through samples and for each data point:\n",
    "    - open image based on date and filename\n",
    "    - resize image\n",
    "    - convert to gray scale\n",
    "    - add to numpy data structure\n",
    "- print useful statistics about data shape and size\n",
    "- save numpy array on the disk in an efficient, binary format"
   ]
  },
  {
   "cell_type": "markdown",
   "metadata": {},
   "source": [
    "### Prepare training set"
   ]
  },
  {
   "cell_type": "markdown",
   "metadata": {},
   "source": [
    "### Define autoencoder architecture\n",
    "\n",
    "Inspired by [PyImageSearch blog](https://www.pyimagesearch.com/2020/03/02/anomaly-detection-with-keras-tensorflow-and-deep-learning/)"
   ]
  }
 ],
 "metadata": {
  "kernelspec": {
   "display_name": "Python 3",
   "language": "python",
   "name": "python3"
  },
  "language_info": {
   "codemirror_mode": {
    "name": "ipython",
    "version": 3
   },
   "file_extension": ".py",
   "mimetype": "text/x-python",
   "name": "python",
   "nbconvert_exporter": "python",
   "pygments_lexer": "ipython3",
   "version": "3.7.0"
  }
 },
 "nbformat": 4,
 "nbformat_minor": 4
}
