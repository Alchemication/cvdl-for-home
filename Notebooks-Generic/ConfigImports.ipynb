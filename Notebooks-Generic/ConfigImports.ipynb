{
 "cells": [
  {
   "cell_type": "markdown",
   "metadata": {},
   "source": [
    "### Libraries"
   ]
  },
  {
   "cell_type": "code",
   "execution_count": 4,
   "metadata": {},
   "outputs": [],
   "source": [
    "import os\n",
    "import numpy as np\n",
    "from sklearn.model_selection import train_test_split\n",
    "from sklearn.metrics import (mean_squared_error, r2_score,\n",
    "                             mean_absolute_error, accuracy_score)\n",
    "from sklearn.preprocessing import MinMaxScaler, StandardScaler\n",
    "from sklearn.model_selection import KFold\n",
    "import requests\n",
    "from datetime import datetime\n",
    "from tqdm.notebook import tqdm\n",
    "import nmap\n",
    "from scipy.spatial import distance as dist\n",
    "from imutils import build_montages\n",
    "import cv2\n",
    "import pickle\n",
    "import time\n",
    "from datetime import datetime as dt\n",
    "import tensorflow as tf\n",
    "\n",
    "import pandas as pd\n",
    "pd.set_option('display.max_rows', 500)\n",
    "pd.set_option('display.max_columns', 500)\n",
    "pd.set_option('display.width', 1000)\n",
    "pd.set_option('max_colwidth', 80)\n",
    "\n",
    "import matplotlib.pyplot as plt\n",
    "from pylab import rcParams\n",
    "import seaborn as sns\n",
    "%matplotlib inline\n",
    "sns.set_style('darkgrid')\n",
    "\n",
    "import plotly.graph_objects as go\n",
    "import plotly.express as px\n",
    "import plotly.io as pio\n",
    "pio.templates.default = 'plotly_white'  # 'plotly' | 'plotly_dark'\n",
    "pio.renderers.default = \"jupyterlab\"  # 'svg' | 'jupyterlab'"
   ]
  },
  {
   "cell_type": "code",
   "execution_count": 6,
   "metadata": {},
   "outputs": [],
   "source": [
    "CONFIG = {\n",
    "    'IMG_BASE_DIR': '/data/security_cam_detections_v2/Front-Parking',\n",
    "    'DOWNTIME_DATES': ['2020-01-13', '2020-01-14', '2020-02-28'],\n",
    "    'RANDOM_STATE': 42\n",
    "}"
   ]
  },
  {
   "cell_type": "code",
   "execution_count": 7,
   "metadata": {},
   "outputs": [
    {
     "name": "stdout",
     "output_type": "stream",
     "text": [
      "TF -> Using GPU ->  PhysicalDevice(name='/physical_device:GPU:0', device_type='GPU')\n"
     ]
    }
   ],
   "source": [
    "# GPU code only, skip if no GPU is available!\n",
    "# make sure we don't run out of memory by running multiple Notebooks together\n",
    "# https://www.tensorflow.org/api_docs/python/tf/config/experimental/set_memory_growth\n",
    "physical_devices = tf.config.list_physical_devices('GPU') \n",
    "try:\n",
    "    print('TF -> Using GPU -> ', physical_devices[0])\n",
    "    tf.config.experimental.set_memory_growth(physical_devices[0], True) \n",
    "except Exception as e: \n",
    "    # Invalid device or cannot modify virtual devices once initialized. \n",
    "    print('GPU Error, if you have no GPU it is not a problem', e)\n",
    "    pass"
   ]
  },
  {
   "cell_type": "code",
   "execution_count": null,
   "metadata": {},
   "outputs": [],
   "source": []
  }
 ],
 "metadata": {
  "kernelspec": {
   "display_name": "Python 3",
   "language": "python",
   "name": "python3"
  },
  "language_info": {
   "codemirror_mode": {
    "name": "ipython",
    "version": 3
   },
   "file_extension": ".py",
   "mimetype": "text/x-python",
   "name": "python",
   "nbconvert_exporter": "python",
   "pygments_lexer": "ipython3",
   "version": "3.7.0"
  }
 },
 "nbformat": 4,
 "nbformat_minor": 4
}
