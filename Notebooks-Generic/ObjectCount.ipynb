{
 "cells": [
  {
   "cell_type": "markdown",
   "metadata": {},
   "source": [
    "## Pre-processing (object count)\n",
    "\n",
    "The purpose of this Notebook is to split the dataset by object (person, cat, dog, car etc.)\n",
    "\n",
    "The trick is that a single observation of a cat passing across the carpark can generate up to 100 images. But we only need a single image from all these, as we want to count unique observations.\n",
    "\n",
    "This will help answering questions like: How many cars passed in front of the house in a day?\n",
    "\n",
    "Eventually we want to save a parquet file with preprocessed data for each object. Object-specific analysis will happen in another Notebooks."
   ]
  },
  {
   "cell_type": "code",
   "execution_count": 1,
   "metadata": {},
   "outputs": [],
   "source": [
    "# import ConfigImports Notebook to import and configure libs\n",
    "%run ../ConfigImports.ipynb"
   ]
  },
  {
   "cell_type": "code",
   "execution_count": 2,
   "metadata": {},
   "outputs": [],
   "source": [
    "def imshow(img, width=12, height=6):\n",
    "    \"\"\"\n",
    "    Show image using matplotlib. Function takes a path or a \n",
    "    numpy image and renders it in RBG color-space\n",
    "    \"\"\"\n",
    "    if isinstance(img, str):\n",
    "        img = cv2.imread(img)\n",
    "    rcParams['figure.figsize'] = width, height\n",
    "    plt.axis('off')\n",
    "    plt.imshow(cv2.cvtColor(img, cv2.COLOR_BGR2RGB));\n",
    "    plt.show()"
   ]
  },
  {
   "cell_type": "code",
   "execution_count": 3,
   "metadata": {},
   "outputs": [],
   "source": [
    "def monshow(images_to_show, rows=3, cols=3, width=10, height=10):\n",
    "    \"\"\"Show montage of images in rows and columns\"\"\"\n",
    "    montages = build_montages(images_to_show, (700, 420), (cols, rows))\n",
    "    for montage in montages:\n",
    "        imshow(montage, width, height)"
   ]
  },
  {
   "cell_type": "code",
   "execution_count": 4,
   "metadata": {},
   "outputs": [],
   "source": [
    "def draw_boxes(img, boxes):\n",
    "    colors = [(38,119,176),(177,222,143),(225,36,41),(252,190,118),\n",
    "          (255,255,160),(55,74,93),(103,192,165),(165,205,225)]\n",
    "    objects = [\"dog\", \"person\", \"car\", \"cat\", \"bird\", \"bicycle\", \"motorbike\", \"truck\"]\n",
    "    colormap = dict(zip(objects, colors))\n",
    "    img_cp = img.copy()\n",
    "    legit_boxes_info = []\n",
    "    for b in boxes:\n",
    "        if b['label'] in objects:\n",
    "            \n",
    "            # Remove any cars parked right outside of the house,\n",
    "            # the assumption here is that the bottomright y property will\n",
    "            # be greater than 120 (for now)\n",
    "            if b['label'] == 'car' and b['bottomright']['y'] > 120:\n",
    "                continue\n",
    "                \n",
    "            x1, y1 = b['topleft']['x'], b['topleft']['y']\n",
    "            x2, y2 = b['bottomright']['x'], b['bottomright']['y']\n",
    "            cv2.rectangle(img_cp, (x1, y1), (x2, y2), colormap[b['label']], 2)\n",
    "            \n",
    "            # add data elements\n",
    "            legit_boxes_info.append([b['label'], b['confidence'], x1, y1, x2, y2])\n",
    "            \n",
    "            #put text in the bottom or on top of the bounding box\n",
    "            cv2.putText(img_cp, '{}-{:.1f}%'.format(b['label'], b['confidence']), \n",
    "                               (int(x1+4), int(y1+8)), cv2.FONT_HERSHEY_SIMPLEX, 0.75, (0, 255, 0), \n",
    "                               1, cv2.LINE_AA)\n",
    "    return img_cp, legit_boxes_info"
   ]
  },
  {
   "cell_type": "markdown",
   "metadata": {},
   "source": [
    "### Load dataset\n",
    "\n",
    "Raw images with the detections were preprocessed in another Notebook (TODO: pull this Notebook into this repo and give it a name).\n",
    "\n",
    "Each detection was saved as individual record and then all this data was saves in a compressed .parquet file (very efficient and modern way of data storage for large datasets).\n",
    "\n",
    "There is a total of 600K+ records here."
   ]
  },
  {
   "cell_type": "code",
   "execution_count": 5,
   "metadata": {},
   "outputs": [
    {
     "data": {
      "text/html": [
       "<div>\n",
       "<style scoped>\n",
       "    .dataframe tbody tr th:only-of-type {\n",
       "        vertical-align: middle;\n",
       "    }\n",
       "\n",
       "    .dataframe tbody tr th {\n",
       "        vertical-align: top;\n",
       "    }\n",
       "\n",
       "    .dataframe thead th {\n",
       "        text-align: right;\n",
       "    }\n",
       "</style>\n",
       "<table border=\"1\" class=\"dataframe\">\n",
       "  <thead>\n",
       "    <tr style=\"text-align: right;\">\n",
       "      <th></th>\n",
       "      <th>img_idx</th>\n",
       "      <th>label</th>\n",
       "      <th>confidence</th>\n",
       "      <th>x1</th>\n",
       "      <th>y1</th>\n",
       "      <th>x2</th>\n",
       "      <th>y2</th>\n",
       "      <th>date</th>\n",
       "      <th>time</th>\n",
       "      <th>filename</th>\n",
       "      <th>img_n_boxes</th>\n",
       "      <th>time_ms</th>\n",
       "      <th>date_time</th>\n",
       "      <th>week_day</th>\n",
       "      <th>is_weekend</th>\n",
       "      <th>month</th>\n",
       "      <th>hour</th>\n",
       "      <th>min</th>\n",
       "    </tr>\n",
       "  </thead>\n",
       "  <tbody>\n",
       "    <tr>\n",
       "      <th>0</th>\n",
       "      <td>72846</td>\n",
       "      <td>car</td>\n",
       "      <td>0.523175</td>\n",
       "      <td>298</td>\n",
       "      <td>7</td>\n",
       "      <td>426</td>\n",
       "      <td>71</td>\n",
       "      <td>2019-09-09</td>\n",
       "      <td>07.02.40</td>\n",
       "      <td>07.02.40.270_34c99836_car-car-car.jpg</td>\n",
       "      <td>1</td>\n",
       "      <td>270</td>\n",
       "      <td>2019-09-09 07:02:40.270</td>\n",
       "      <td>Monday</td>\n",
       "      <td>False</td>\n",
       "      <td>9</td>\n",
       "      <td>7</td>\n",
       "      <td>2</td>\n",
       "    </tr>\n",
       "    <tr>\n",
       "      <th>1</th>\n",
       "      <td>72847</td>\n",
       "      <td>person</td>\n",
       "      <td>0.759682</td>\n",
       "      <td>489</td>\n",
       "      <td>31</td>\n",
       "      <td>518</td>\n",
       "      <td>106</td>\n",
       "      <td>2019-09-09</td>\n",
       "      <td>12.02.42</td>\n",
       "      <td>12.02.42.921_ea6c9143_person-bicycle.jpg</td>\n",
       "      <td>2</td>\n",
       "      <td>921</td>\n",
       "      <td>2019-09-09 12:02:42.921</td>\n",
       "      <td>Monday</td>\n",
       "      <td>False</td>\n",
       "      <td>9</td>\n",
       "      <td>12</td>\n",
       "      <td>2</td>\n",
       "    </tr>\n",
       "  </tbody>\n",
       "</table>\n",
       "</div>"
      ],
      "text/plain": [
       "   img_idx   label  confidence   x1  y1   x2   y2        date      time                                  filename  img_n_boxes time_ms               date_time week_day  is_weekend  month  hour  min\n",
       "0    72846     car    0.523175  298   7  426   71  2019-09-09  07.02.40     07.02.40.270_34c99836_car-car-car.jpg            1     270 2019-09-09 07:02:40.270   Monday       False      9     7    2\n",
       "1    72847  person    0.759682  489  31  518  106  2019-09-09  12.02.42  12.02.42.921_ea6c9143_person-bicycle.jpg            2     921 2019-09-09 12:02:42.921   Monday       False      9    12    2"
      ]
     },
     "execution_count": 5,
     "metadata": {},
     "output_type": "execute_result"
    }
   ],
   "source": [
    "df = pd.read_parquet('../Datasets/AllObjectDetections_2019-09-09_2020-03-02.parquet.gzip')\n",
    "df = df.drop(labels=['index'], axis=1)\n",
    "df.head(2)"
   ]
  },
  {
   "cell_type": "code",
   "execution_count": 7,
   "metadata": {},
   "outputs": [
    {
     "data": {
      "text/plain": [
       "(333894, 18)"
      ]
     },
     "execution_count": 7,
     "metadata": {},
     "output_type": "execute_result"
    }
   ],
   "source": [
    "df[df['label'] == 'person'].shape"
   ]
  },
  {
   "cell_type": "markdown",
   "metadata": {},
   "source": [
    "Data definition:\n",
    "- img_idx - index of image\n",
    "- label - detected object type\n",
    "- confidence - metric returned by the object detector, the lower it is, the more probability the detection is incorrect\n",
    "- x1,y1,x2,y2 - x,y coordinates of object detected in the image\n",
    "- date, time - date and time of the detection\n",
    "- filename - original image filename\n",
    "- img_n_boxes - how many objects were detected in this particular image\n",
    "- date_time - more precise date time (with mili seconds)\n",
    "- week_day ... min - calendar information related to date_time column"
   ]
  },
  {
   "cell_type": "markdown",
   "metadata": {},
   "source": [
    "### Delete data with issues\n",
    "\n",
    "There will be scenarios, where data either was corrupted or an unexpected event has happened (power outage or hardware failure).\n",
    "\n",
    "It is important to keep in mind these dates and remove from the dataset if it can not be corrected.\n",
    "\n",
    "Power outages:\n",
    "- 2020-01-13\n",
    "- 2020-01-14\n",
    "\n",
    "Contractors onsite:\n",
    "- 2020-02-28"
   ]
  },
  {
   "cell_type": "code",
   "execution_count": 8,
   "metadata": {},
   "outputs": [],
   "source": [
    "idx = df['date'].isin(['2020-01-13', '2020-01-14', '2020-02-28'])\n",
    "df = df.loc[~idx]"
   ]
  },
  {
   "cell_type": "markdown",
   "metadata": {},
   "source": [
    "### Verify detected objects\n",
    "\n",
    "We should have an idea about the distribution of detected objects. The expectation is that people and vehicles are the most common objects outside of the house."
   ]
  },
  {
   "cell_type": "code",
   "execution_count": 9,
   "metadata": {},
   "outputs": [
    {
     "data": {
      "application/vnd.plotly.v1+json": {
       "config": {
        "plotlyServerURL": "https://plot.ly"
       },
       "data": [
        {
         "alignmentgroup": "True",
         "hovertemplate": "index=%{x}<br>label=%{y}<extra></extra>",
         "legendgroup": "",
         "marker": {
          "color": "#636efa"
         },
         "name": "",
         "offsetgroup": "",
         "orientation": "v",
         "showlegend": false,
         "textposition": "auto",
         "type": "bar",
         "x": [
          "person",
          "car",
          "truck",
          "dog",
          "bicycle",
          "cat",
          "bird",
          "motorbike"
         ],
         "xaxis": "x",
         "y": [
          325498,
          237322,
          49430,
          14659,
          7234,
          5021,
          2345,
          1962
         ],
         "yaxis": "y"
        }
       ],
       "layout": {
        "barmode": "relative",
        "height": 300,
        "legend": {
         "tracegroupgap": 0
        },
        "margin": {
         "t": 60
        },
        "template": {
         "data": {
          "bar": [
           {
            "error_x": {
             "color": "#f2f5fa"
            },
            "error_y": {
             "color": "#f2f5fa"
            },
            "marker": {
             "line": {
              "color": "rgb(17,17,17)",
              "width": 0.5
             }
            },
            "type": "bar"
           }
          ],
          "barpolar": [
           {
            "marker": {
             "line": {
              "color": "rgb(17,17,17)",
              "width": 0.5
             }
            },
            "type": "barpolar"
           }
          ],
          "carpet": [
           {
            "aaxis": {
             "endlinecolor": "#A2B1C6",
             "gridcolor": "#506784",
             "linecolor": "#506784",
             "minorgridcolor": "#506784",
             "startlinecolor": "#A2B1C6"
            },
            "baxis": {
             "endlinecolor": "#A2B1C6",
             "gridcolor": "#506784",
             "linecolor": "#506784",
             "minorgridcolor": "#506784",
             "startlinecolor": "#A2B1C6"
            },
            "type": "carpet"
           }
          ],
          "choropleth": [
           {
            "colorbar": {
             "outlinewidth": 0,
             "ticks": ""
            },
            "type": "choropleth"
           }
          ],
          "contour": [
           {
            "colorbar": {
             "outlinewidth": 0,
             "ticks": ""
            },
            "colorscale": [
             [
              0,
              "#0d0887"
             ],
             [
              0.1111111111111111,
              "#46039f"
             ],
             [
              0.2222222222222222,
              "#7201a8"
             ],
             [
              0.3333333333333333,
              "#9c179e"
             ],
             [
              0.4444444444444444,
              "#bd3786"
             ],
             [
              0.5555555555555556,
              "#d8576b"
             ],
             [
              0.6666666666666666,
              "#ed7953"
             ],
             [
              0.7777777777777778,
              "#fb9f3a"
             ],
             [
              0.8888888888888888,
              "#fdca26"
             ],
             [
              1,
              "#f0f921"
             ]
            ],
            "type": "contour"
           }
          ],
          "contourcarpet": [
           {
            "colorbar": {
             "outlinewidth": 0,
             "ticks": ""
            },
            "type": "contourcarpet"
           }
          ],
          "heatmap": [
           {
            "colorbar": {
             "outlinewidth": 0,
             "ticks": ""
            },
            "colorscale": [
             [
              0,
              "#0d0887"
             ],
             [
              0.1111111111111111,
              "#46039f"
             ],
             [
              0.2222222222222222,
              "#7201a8"
             ],
             [
              0.3333333333333333,
              "#9c179e"
             ],
             [
              0.4444444444444444,
              "#bd3786"
             ],
             [
              0.5555555555555556,
              "#d8576b"
             ],
             [
              0.6666666666666666,
              "#ed7953"
             ],
             [
              0.7777777777777778,
              "#fb9f3a"
             ],
             [
              0.8888888888888888,
              "#fdca26"
             ],
             [
              1,
              "#f0f921"
             ]
            ],
            "type": "heatmap"
           }
          ],
          "heatmapgl": [
           {
            "colorbar": {
             "outlinewidth": 0,
             "ticks": ""
            },
            "colorscale": [
             [
              0,
              "#0d0887"
             ],
             [
              0.1111111111111111,
              "#46039f"
             ],
             [
              0.2222222222222222,
              "#7201a8"
             ],
             [
              0.3333333333333333,
              "#9c179e"
             ],
             [
              0.4444444444444444,
              "#bd3786"
             ],
             [
              0.5555555555555556,
              "#d8576b"
             ],
             [
              0.6666666666666666,
              "#ed7953"
             ],
             [
              0.7777777777777778,
              "#fb9f3a"
             ],
             [
              0.8888888888888888,
              "#fdca26"
             ],
             [
              1,
              "#f0f921"
             ]
            ],
            "type": "heatmapgl"
           }
          ],
          "histogram": [
           {
            "marker": {
             "colorbar": {
              "outlinewidth": 0,
              "ticks": ""
             }
            },
            "type": "histogram"
           }
          ],
          "histogram2d": [
           {
            "colorbar": {
             "outlinewidth": 0,
             "ticks": ""
            },
            "colorscale": [
             [
              0,
              "#0d0887"
             ],
             [
              0.1111111111111111,
              "#46039f"
             ],
             [
              0.2222222222222222,
              "#7201a8"
             ],
             [
              0.3333333333333333,
              "#9c179e"
             ],
             [
              0.4444444444444444,
              "#bd3786"
             ],
             [
              0.5555555555555556,
              "#d8576b"
             ],
             [
              0.6666666666666666,
              "#ed7953"
             ],
             [
              0.7777777777777778,
              "#fb9f3a"
             ],
             [
              0.8888888888888888,
              "#fdca26"
             ],
             [
              1,
              "#f0f921"
             ]
            ],
            "type": "histogram2d"
           }
          ],
          "histogram2dcontour": [
           {
            "colorbar": {
             "outlinewidth": 0,
             "ticks": ""
            },
            "colorscale": [
             [
              0,
              "#0d0887"
             ],
             [
              0.1111111111111111,
              "#46039f"
             ],
             [
              0.2222222222222222,
              "#7201a8"
             ],
             [
              0.3333333333333333,
              "#9c179e"
             ],
             [
              0.4444444444444444,
              "#bd3786"
             ],
             [
              0.5555555555555556,
              "#d8576b"
             ],
             [
              0.6666666666666666,
              "#ed7953"
             ],
             [
              0.7777777777777778,
              "#fb9f3a"
             ],
             [
              0.8888888888888888,
              "#fdca26"
             ],
             [
              1,
              "#f0f921"
             ]
            ],
            "type": "histogram2dcontour"
           }
          ],
          "mesh3d": [
           {
            "colorbar": {
             "outlinewidth": 0,
             "ticks": ""
            },
            "type": "mesh3d"
           }
          ],
          "parcoords": [
           {
            "line": {
             "colorbar": {
              "outlinewidth": 0,
              "ticks": ""
             }
            },
            "type": "parcoords"
           }
          ],
          "pie": [
           {
            "automargin": true,
            "type": "pie"
           }
          ],
          "scatter": [
           {
            "marker": {
             "line": {
              "color": "#283442"
             }
            },
            "type": "scatter"
           }
          ],
          "scatter3d": [
           {
            "line": {
             "colorbar": {
              "outlinewidth": 0,
              "ticks": ""
             }
            },
            "marker": {
             "colorbar": {
              "outlinewidth": 0,
              "ticks": ""
             }
            },
            "type": "scatter3d"
           }
          ],
          "scattercarpet": [
           {
            "marker": {
             "colorbar": {
              "outlinewidth": 0,
              "ticks": ""
             }
            },
            "type": "scattercarpet"
           }
          ],
          "scattergeo": [
           {
            "marker": {
             "colorbar": {
              "outlinewidth": 0,
              "ticks": ""
             }
            },
            "type": "scattergeo"
           }
          ],
          "scattergl": [
           {
            "marker": {
             "line": {
              "color": "#283442"
             }
            },
            "type": "scattergl"
           }
          ],
          "scattermapbox": [
           {
            "marker": {
             "colorbar": {
              "outlinewidth": 0,
              "ticks": ""
             }
            },
            "type": "scattermapbox"
           }
          ],
          "scatterpolar": [
           {
            "marker": {
             "colorbar": {
              "outlinewidth": 0,
              "ticks": ""
             }
            },
            "type": "scatterpolar"
           }
          ],
          "scatterpolargl": [
           {
            "marker": {
             "colorbar": {
              "outlinewidth": 0,
              "ticks": ""
             }
            },
            "type": "scatterpolargl"
           }
          ],
          "scatterternary": [
           {
            "marker": {
             "colorbar": {
              "outlinewidth": 0,
              "ticks": ""
             }
            },
            "type": "scatterternary"
           }
          ],
          "surface": [
           {
            "colorbar": {
             "outlinewidth": 0,
             "ticks": ""
            },
            "colorscale": [
             [
              0,
              "#0d0887"
             ],
             [
              0.1111111111111111,
              "#46039f"
             ],
             [
              0.2222222222222222,
              "#7201a8"
             ],
             [
              0.3333333333333333,
              "#9c179e"
             ],
             [
              0.4444444444444444,
              "#bd3786"
             ],
             [
              0.5555555555555556,
              "#d8576b"
             ],
             [
              0.6666666666666666,
              "#ed7953"
             ],
             [
              0.7777777777777778,
              "#fb9f3a"
             ],
             [
              0.8888888888888888,
              "#fdca26"
             ],
             [
              1,
              "#f0f921"
             ]
            ],
            "type": "surface"
           }
          ],
          "table": [
           {
            "cells": {
             "fill": {
              "color": "#506784"
             },
             "line": {
              "color": "rgb(17,17,17)"
             }
            },
            "header": {
             "fill": {
              "color": "#2a3f5f"
             },
             "line": {
              "color": "rgb(17,17,17)"
             }
            },
            "type": "table"
           }
          ]
         },
         "layout": {
          "annotationdefaults": {
           "arrowcolor": "#f2f5fa",
           "arrowhead": 0,
           "arrowwidth": 1
          },
          "coloraxis": {
           "colorbar": {
            "outlinewidth": 0,
            "ticks": ""
           }
          },
          "colorscale": {
           "diverging": [
            [
             0,
             "#8e0152"
            ],
            [
             0.1,
             "#c51b7d"
            ],
            [
             0.2,
             "#de77ae"
            ],
            [
             0.3,
             "#f1b6da"
            ],
            [
             0.4,
             "#fde0ef"
            ],
            [
             0.5,
             "#f7f7f7"
            ],
            [
             0.6,
             "#e6f5d0"
            ],
            [
             0.7,
             "#b8e186"
            ],
            [
             0.8,
             "#7fbc41"
            ],
            [
             0.9,
             "#4d9221"
            ],
            [
             1,
             "#276419"
            ]
           ],
           "sequential": [
            [
             0,
             "#0d0887"
            ],
            [
             0.1111111111111111,
             "#46039f"
            ],
            [
             0.2222222222222222,
             "#7201a8"
            ],
            [
             0.3333333333333333,
             "#9c179e"
            ],
            [
             0.4444444444444444,
             "#bd3786"
            ],
            [
             0.5555555555555556,
             "#d8576b"
            ],
            [
             0.6666666666666666,
             "#ed7953"
            ],
            [
             0.7777777777777778,
             "#fb9f3a"
            ],
            [
             0.8888888888888888,
             "#fdca26"
            ],
            [
             1,
             "#f0f921"
            ]
           ],
           "sequentialminus": [
            [
             0,
             "#0d0887"
            ],
            [
             0.1111111111111111,
             "#46039f"
            ],
            [
             0.2222222222222222,
             "#7201a8"
            ],
            [
             0.3333333333333333,
             "#9c179e"
            ],
            [
             0.4444444444444444,
             "#bd3786"
            ],
            [
             0.5555555555555556,
             "#d8576b"
            ],
            [
             0.6666666666666666,
             "#ed7953"
            ],
            [
             0.7777777777777778,
             "#fb9f3a"
            ],
            [
             0.8888888888888888,
             "#fdca26"
            ],
            [
             1,
             "#f0f921"
            ]
           ]
          },
          "colorway": [
           "#636efa",
           "#EF553B",
           "#00cc96",
           "#ab63fa",
           "#FFA15A",
           "#19d3f3",
           "#FF6692",
           "#B6E880",
           "#FF97FF",
           "#FECB52"
          ],
          "font": {
           "color": "#f2f5fa"
          },
          "geo": {
           "bgcolor": "rgb(17,17,17)",
           "lakecolor": "rgb(17,17,17)",
           "landcolor": "rgb(17,17,17)",
           "showlakes": true,
           "showland": true,
           "subunitcolor": "#506784"
          },
          "hoverlabel": {
           "align": "left"
          },
          "hovermode": "closest",
          "mapbox": {
           "style": "dark"
          },
          "paper_bgcolor": "rgb(17,17,17)",
          "plot_bgcolor": "rgb(17,17,17)",
          "polar": {
           "angularaxis": {
            "gridcolor": "#506784",
            "linecolor": "#506784",
            "ticks": ""
           },
           "bgcolor": "rgb(17,17,17)",
           "radialaxis": {
            "gridcolor": "#506784",
            "linecolor": "#506784",
            "ticks": ""
           }
          },
          "scene": {
           "xaxis": {
            "backgroundcolor": "rgb(17,17,17)",
            "gridcolor": "#506784",
            "gridwidth": 2,
            "linecolor": "#506784",
            "showbackground": true,
            "ticks": "",
            "zerolinecolor": "#C8D4E3"
           },
           "yaxis": {
            "backgroundcolor": "rgb(17,17,17)",
            "gridcolor": "#506784",
            "gridwidth": 2,
            "linecolor": "#506784",
            "showbackground": true,
            "ticks": "",
            "zerolinecolor": "#C8D4E3"
           },
           "zaxis": {
            "backgroundcolor": "rgb(17,17,17)",
            "gridcolor": "#506784",
            "gridwidth": 2,
            "linecolor": "#506784",
            "showbackground": true,
            "ticks": "",
            "zerolinecolor": "#C8D4E3"
           }
          },
          "shapedefaults": {
           "line": {
            "color": "#f2f5fa"
           }
          },
          "sliderdefaults": {
           "bgcolor": "#C8D4E3",
           "bordercolor": "rgb(17,17,17)",
           "borderwidth": 1,
           "tickwidth": 0
          },
          "ternary": {
           "aaxis": {
            "gridcolor": "#506784",
            "linecolor": "#506784",
            "ticks": ""
           },
           "baxis": {
            "gridcolor": "#506784",
            "linecolor": "#506784",
            "ticks": ""
           },
           "bgcolor": "rgb(17,17,17)",
           "caxis": {
            "gridcolor": "#506784",
            "linecolor": "#506784",
            "ticks": ""
           }
          },
          "title": {
           "x": 0.05
          },
          "updatemenudefaults": {
           "bgcolor": "#506784",
           "borderwidth": 0
          },
          "xaxis": {
           "automargin": true,
           "gridcolor": "#283442",
           "linecolor": "#506784",
           "ticks": "",
           "title": {
            "standoff": 15
           },
           "zerolinecolor": "#283442",
           "zerolinewidth": 2
          },
          "yaxis": {
           "automargin": true,
           "gridcolor": "#283442",
           "linecolor": "#506784",
           "ticks": "",
           "title": {
            "standoff": 15
           },
           "zerolinecolor": "#283442",
           "zerolinewidth": 2
          }
         }
        },
        "width": 500,
        "xaxis": {
         "anchor": "y",
         "autorange": true,
         "domain": [
          0,
          1
         ],
         "range": [
          -0.5,
          7.5
         ],
         "title": {
          "text": "index"
         },
         "type": "category"
        },
        "yaxis": {
         "anchor": "x",
         "autorange": true,
         "domain": [
          0,
          1
         ],
         "range": [
          0,
          342629.4736842105
         ],
         "title": {
          "text": "label"
         },
         "type": "linear"
        }
       }
      },
      "image/png": "[encoded data removed]"
     },
     "metadata": {},
     "output_type": "display_data"
    }
   ],
   "source": [
    "v_counts = df['label'].value_counts().reset_index()\n",
    "px.bar(v_counts, y='label', x='index', height=300, width=500)"
   ]
  },
  {
   "cell_type": "markdown",
   "metadata": {},
   "source": [
    "We can see that people and vehicles represent the vast majority of the dataset.\n",
    "\n",
    "One idea would be to join cars and trucks into vehicles, the code for this operation is defined below."
   ]
  },
  {
   "cell_type": "code",
   "execution_count": 10,
   "metadata": {},
   "outputs": [],
   "source": [
    "idx = df['label'].isin(['car', 'truck'])\n",
    "df.loc[idx, 'label'] = 'vehicle'"
   ]
  },
  {
   "cell_type": "markdown",
   "metadata": {},
   "source": [
    "Now the vehicle class contains both object types: car and truck"
   ]
  },
  {
   "cell_type": "markdown",
   "metadata": {},
   "source": [
    "### Keep only a single frame from the event's frame sequence\n",
    "\n",
    "Let's assume that we have a person walking along the footpath. That person will be recognised in many frames, therefore many images of the same object will be captured. What we are interested in is only a single frame out of this sequence.\n",
    "\n",
    "There are many methods to solve this, and it can get extremely complicated in a noisy environment with multiple objects inside the camera view.\n",
    "\n",
    "Luckily in the case of studied dataset, the number of objects is relatevely low, so there is no need for any advanced movement tracking (for example using Kalman Filter method). \n",
    "\n",
    "This was one of the most challenging aspects of the project, and the algorithm I have used can be defined as below:\n",
    "- sort data by time\n",
    "- divide dataset by object type (label) and perform following tasks:\n",
    "    - calculate difference in time between consecutive object observations\n",
    "    - calculate **euclidean distance** between object centroids in consecutive frames, if it's the same observation in a sequence, then the center will be close to the previous center\n",
    "    - keep only objects where the difference in time and distance are greater than the predefined thresholds (these have been set using heuristics)\n",
    "    \n",
    "Why Eucledian distance? It's the most common and simple measure of distance between $N$ points.\n",
    "\n",
    "As defined in [iq.opengenus.org](https://iq.opengenus.org/euclidean-distance/):\n",
    "Euclidean distance is the shortest distance between two points in an $N$ dimensional space also known as Euclidean space. It is used as a common metric to measure the similarity between two data points and used in various fields such as geometry, data mining, deep learning and others.\n",
    "\n",
    "It is, also, known as Euclidean norm, Euclidean metric, L2 norm, L2 metric and Pythagorean metric.\n",
    "\n",
    "$$\n",
    "\\sqrt{(x1-x2)^2+(y1-y2)^2}\n",
    "$$"
   ]
  },
  {
   "cell_type": "code",
   "execution_count": 11,
   "metadata": {},
   "outputs": [],
   "source": [
    "# dictionary to hold a dataframe per detected object class\n",
    "dfs = {}"
   ]
  },
  {
   "cell_type": "code",
   "execution_count": 12,
   "metadata": {},
   "outputs": [],
   "source": [
    "# these values seem to reject duplicates the best\n",
    "THRESH_NEW_EVENT_SECS = 10  # how many seconds needs to elapse until we treat detection as a new observation\n",
    "THRESH_NEW_EVENT_MIN_DISTANCE = 30  # min distance between 2 detections until we treat it as a new observation"
   ]
  },
  {
   "cell_type": "code",
   "execution_count": 13,
   "metadata": {},
   "outputs": [],
   "source": [
    "# use this function to calculate euclidean distance between coordinates\n",
    "def calc_distance(x):\n",
    "    x_cur, y_cur, x_prev, y_prev = x\n",
    "    return dist.cdist([[x_cur, y_cur]], [[x_prev, y_prev]], metric='euclidean')[0][0]"
   ]
  },
  {
   "cell_type": "code",
   "execution_count": 14,
   "metadata": {},
   "outputs": [
    {
     "name": "stdout",
     "output_type": "stream",
     "text": [
      "Processing label: vehicle\n",
      "Processing label: person\n"
     ]
    }
   ],
   "source": [
    "# sort observations chronologically\n",
    "df = df.sort_values('date_time', ascending=True)\n",
    "\n",
    "# create a separate DataFrame for each label of interest and save as a csv file\n",
    "for l in ['vehicle', 'person']:\n",
    "    \n",
    "    print('Processing label: {}'.format(l))\n",
    "    \n",
    "    # filter out other objects from the data frame\n",
    "    analysed_label_df = df.loc[df['label'].isin([l])].reset_index(drop=True).copy()\n",
    "    \n",
    "    # add a dummy variable, which we can use to count objects, there are most likely\n",
    "    # better ways of doing this, but this one is simple and it works\n",
    "    analysed_label_df['dummy_var'] = 1\n",
    "    \n",
    "    # calculate time difference between consecutive rows\n",
    "    analysed_label_df['time_diff'] = analysed_label_df['date_time'].diff().fillna(pd.Timedelta(seconds=0))\n",
    "    analysed_label_df['sec_diff'] = analysed_label_df['time_diff'].dt.total_seconds().fillna(0)\n",
    "    analysed_label_df['x_center'] = analysed_label_df[['x1', 'x2']].mean(axis=1)\n",
    "    analysed_label_df['y_center'] = analysed_label_df[['y1', 'y2']].mean(axis=1)\n",
    "\n",
    "    # calculate euclidian distance between consecutive centroids (using x,y coordinates centroids)\n",
    "    analysed_label_df['prev_x_center'] = analysed_label_df['x_center'].shift(1).fillna(0)\n",
    "    analysed_label_df['prev_y_center'] = analysed_label_df['y_center'].shift(1).fillna(0)\n",
    "    analysed_label_df['euc_distance'] = analysed_label_df[['x_center', 'y_center', \n",
    "        'prev_x_center', 'prev_y_center']].apply(calc_distance, axis=1)\n",
    "\n",
    "    # keep only records within the rejection threshold\n",
    "    idx = ((analysed_label_df['sec_diff'] > THRESH_NEW_EVENT_SECS) & \n",
    "           (analysed_label_df['euc_distance'] > THRESH_NEW_EVENT_MIN_DISTANCE))\n",
    "    dfs[l] = analysed_label_df.loc[idx].reset_index(drop=True).copy()\n",
    "    dfs[l].to_csv(f'../Datasets/UniqueObjectDetections__{l}__2019-09-09_2020-03-02.csv', index=False)"
   ]
  },
  {
   "cell_type": "code",
   "execution_count": null,
   "metadata": {},
   "outputs": [],
   "source": []
  }
 ],
 "metadata": {
  "kernelspec": {
   "display_name": "Python 3",
   "language": "python",
   "name": "python3"
  },
  "language_info": {
   "codemirror_mode": {
    "name": "ipython",
    "version": 3
   },
   "file_extension": ".py",
   "mimetype": "text/x-python",
   "name": "python",
   "nbconvert_exporter": "python",
   "pygments_lexer": "ipython3",
   "version": "3.7.0"
  }
 },
 "nbformat": 4,
 "nbformat_minor": 4
}
