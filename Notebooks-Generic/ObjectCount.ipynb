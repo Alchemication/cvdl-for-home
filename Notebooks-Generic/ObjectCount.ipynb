{
 "cells": [
  {
   "cell_type": "markdown",
   "metadata": {},
   "source": [
    "## Pre-processing (object count)\n",
    "\n",
    "### Notebook Purpose:\n",
    "\n",
    "- For each object of interest: From a set of images of a single event, choose only one\n",
    "- Save a parquet file with preprocessed data for each object, so object-specific analysis can happen in another Notebooks"
   ]
  },
  {
   "cell_type": "code",
   "execution_count": 5,
   "metadata": {},
   "outputs": [],
   "source": [
    "#!pip install -r requirements.txt"
   ]
  },
  {
   "cell_type": "code",
   "execution_count": 1,
   "metadata": {},
   "outputs": [
    {
     "name": "stdin",
     "output_type": "stream",
     "text": [
      "Once deleted, variables cannot be recovered. Proceed (y/[n])?  y\n"
     ]
    }
   ],
   "source": [
    "%reset"
   ]
  },
  {
   "cell_type": "code",
   "execution_count": 1,
   "metadata": {},
   "outputs": [],
   "source": [
    "from datetime import datetime\n",
    "import numpy as np\n",
    "from imutils import resize\n",
    "import argparse\n",
    "import cv2\n",
    "import requests\n",
    "import time\n",
    "import base64\n",
    "import os\n",
    "from os.path import isfile, isdir, join\n",
    "import uuid\n",
    "import matplotlib.pyplot as plt\n",
    "import pandas as pd\n",
    "#from darkflow.net.build import TFNet\n",
    "from pylab import rcParams\n",
    "import random\n",
    "from imutils import build_montages\n",
    "from tqdm import *\n",
    "import glob\n",
    "import math\n",
    "import pandas as pd\n",
    "import seaborn as sns\n",
    "from sklearn.model_selection import train_test_split\n",
    "from scipy import stats\n",
    "from scipy.spatial import distance as dist\n",
    "from sklearn.metrics import mean_squared_error\n",
    "from sklearn.metrics import r2_score\n",
    "sns.set_style('whitegrid')\n",
    "%matplotlib inline\n",
    "pd.set_option('display.max_rows', 500)\n",
    "pd.set_option('display.max_columns', 500)\n",
    "pd.set_option('display.width', 1000)"
   ]
  },
  {
   "cell_type": "code",
   "execution_count": 2,
   "metadata": {},
   "outputs": [],
   "source": [
    "def imshow(img, width=12, height=6):\n",
    "    \"\"\"\n",
    "    Show image using matplotlib. Function takes a path or a \n",
    "    numpy image and renders it in RBG color-space\n",
    "    \"\"\"\n",
    "    if isinstance(img, str):\n",
    "        img = cv2.imread(img)\n",
    "    rcParams['figure.figsize'] = width, height\n",
    "    plt.axis('off')\n",
    "    plt.imshow(cv2.cvtColor(img, cv2.COLOR_BGR2RGB));\n",
    "    plt.show()"
   ]
  },
  {
   "cell_type": "code",
   "execution_count": 3,
   "metadata": {},
   "outputs": [],
   "source": [
    "def monshow(images_to_show, rows=3, cols=3, width=10, height=10):\n",
    "    \"\"\"Show montage of images in rows and columns\"\"\"\n",
    "    montages = build_montages(images_to_show, (700, 420), (cols, rows))\n",
    "    for montage in montages:\n",
    "        imshow(montage, width, height)"
   ]
  },
  {
   "cell_type": "code",
   "execution_count": 4,
   "metadata": {},
   "outputs": [],
   "source": [
    "def draw_boxes(img, boxes):\n",
    "    colors = [(38,119,176),(177,222,143),(225,36,41),(252,190,118),\n",
    "          (255,255,160),(55,74,93),(103,192,165),(165,205,225)]\n",
    "    objects = [\"dog\", \"person\", \"car\", \"cat\", \"bird\", \"bicycle\", \"motorbike\", \"truck\"]\n",
    "    colormap = dict(zip(objects, colors))\n",
    "    img_cp = img.copy()\n",
    "    legit_boxes_info = []\n",
    "    for b in boxes:\n",
    "        if b['label'] in objects:\n",
    "            \n",
    "            # Remove any cars parked right outside of the house,\n",
    "            # the assumption here is that the bottomright y property will\n",
    "            # be greater than 120 (for now)\n",
    "            if b['label'] == 'car' and b['bottomright']['y'] > 120:\n",
    "                continue\n",
    "                \n",
    "            x1, y1 = b['topleft']['x'], b['topleft']['y']\n",
    "            x2, y2 = b['bottomright']['x'], b['bottomright']['y']\n",
    "            cv2.rectangle(img_cp, (x1, y1), (x2, y2), colormap[b['label']], 2)\n",
    "            \n",
    "            # add data elements\n",
    "            legit_boxes_info.append([b['label'], b['confidence'], x1, y1, x2, y2])\n",
    "            \n",
    "            #put text in the bottom or on top of the bounding box\n",
    "            cv2.putText(img_cp, '{}-{:.1f}%'.format(b['label'], b['confidence']), \n",
    "                               (int(x1+4), int(y1+8)), cv2.FONT_HERSHEY_SIMPLEX, 0.75, (0, 255, 0), \n",
    "                               1, cv2.LINE_AA)\n",
    "    return img_cp, legit_boxes_info"
   ]
  },
  {
   "cell_type": "markdown",
   "metadata": {},
   "source": [
    "### Join good images data after clean up and first look\n",
    "\n",
    "Single row represents a sigle object detected in a frame, so we can have multiple records representing a single frame if multiple objects were detected"
   ]
  },
  {
   "cell_type": "code",
   "execution_count": 5,
   "metadata": {},
   "outputs": [
    {
     "data": {
      "text/html": [
       "<div>\n",
       "<style scoped>\n",
       "    .dataframe tbody tr th:only-of-type {\n",
       "        vertical-align: middle;\n",
       "    }\n",
       "\n",
       "    .dataframe tbody tr th {\n",
       "        vertical-align: top;\n",
       "    }\n",
       "\n",
       "    .dataframe thead th {\n",
       "        text-align: right;\n",
       "    }\n",
       "</style>\n",
       "<table border=\"1\" class=\"dataframe\">\n",
       "  <thead>\n",
       "    <tr style=\"text-align: right;\">\n",
       "      <th></th>\n",
       "      <th>img_idx</th>\n",
       "      <th>label</th>\n",
       "      <th>confidence</th>\n",
       "      <th>x1</th>\n",
       "      <th>y1</th>\n",
       "      <th>x2</th>\n",
       "      <th>y2</th>\n",
       "      <th>date</th>\n",
       "      <th>time</th>\n",
       "      <th>filename</th>\n",
       "      <th>img_n_boxes</th>\n",
       "      <th>time_ms</th>\n",
       "      <th>date_time</th>\n",
       "      <th>week_day</th>\n",
       "      <th>is_weekend</th>\n",
       "      <th>month</th>\n",
       "      <th>hour</th>\n",
       "      <th>min</th>\n",
       "    </tr>\n",
       "  </thead>\n",
       "  <tbody>\n",
       "    <tr>\n",
       "      <th>78</th>\n",
       "      <td>72919</td>\n",
       "      <td>car</td>\n",
       "      <td>0.683013</td>\n",
       "      <td>299</td>\n",
       "      <td>20</td>\n",
       "      <td>423</td>\n",
       "      <td>75</td>\n",
       "      <td>2019-09-09</td>\n",
       "      <td>05.20.54</td>\n",
       "      <td>05.20.54.048_5a365eb8_car.jpg</td>\n",
       "      <td>1</td>\n",
       "      <td>048</td>\n",
       "      <td>2019-09-09 05:20:54.048</td>\n",
       "      <td>Monday</td>\n",
       "      <td>False</td>\n",
       "      <td>9</td>\n",
       "      <td>5</td>\n",
       "      <td>20</td>\n",
       "    </tr>\n",
       "    <tr>\n",
       "      <th>279</th>\n",
       "      <td>73092</td>\n",
       "      <td>person</td>\n",
       "      <td>0.886713</td>\n",
       "      <td>270</td>\n",
       "      <td>184</td>\n",
       "      <td>439</td>\n",
       "      <td>339</td>\n",
       "      <td>2019-09-09</td>\n",
       "      <td>05.51.53</td>\n",
       "      <td>05.51.53.437_bb9a559e_person.jpg</td>\n",
       "      <td>1</td>\n",
       "      <td>437</td>\n",
       "      <td>2019-09-09 05:51:53.437</td>\n",
       "      <td>Monday</td>\n",
       "      <td>False</td>\n",
       "      <td>9</td>\n",
       "      <td>5</td>\n",
       "      <td>51</td>\n",
       "    </tr>\n",
       "    <tr>\n",
       "      <th>542</th>\n",
       "      <td>73337</td>\n",
       "      <td>person</td>\n",
       "      <td>0.879273</td>\n",
       "      <td>295</td>\n",
       "      <td>177</td>\n",
       "      <td>461</td>\n",
       "      <td>341</td>\n",
       "      <td>2019-09-09</td>\n",
       "      <td>05.51.53</td>\n",
       "      <td>05.51.53.614_2c112e1b_person.jpg</td>\n",
       "      <td>1</td>\n",
       "      <td>614</td>\n",
       "      <td>2019-09-09 05:51:53.614</td>\n",
       "      <td>Monday</td>\n",
       "      <td>False</td>\n",
       "      <td>9</td>\n",
       "      <td>5</td>\n",
       "      <td>51</td>\n",
       "    </tr>\n",
       "    <tr>\n",
       "      <th>44</th>\n",
       "      <td>72885</td>\n",
       "      <td>person</td>\n",
       "      <td>0.760198</td>\n",
       "      <td>327</td>\n",
       "      <td>141</td>\n",
       "      <td>476</td>\n",
       "      <td>341</td>\n",
       "      <td>2019-09-09</td>\n",
       "      <td>05.51.53</td>\n",
       "      <td>05.51.53.825_ec838624_person.jpg</td>\n",
       "      <td>1</td>\n",
       "      <td>825</td>\n",
       "      <td>2019-09-09 05:51:53.825</td>\n",
       "      <td>Monday</td>\n",
       "      <td>False</td>\n",
       "      <td>9</td>\n",
       "      <td>5</td>\n",
       "      <td>51</td>\n",
       "    </tr>\n",
       "    <tr>\n",
       "      <th>1624</th>\n",
       "      <td>74312</td>\n",
       "      <td>person</td>\n",
       "      <td>0.496198</td>\n",
       "      <td>417</td>\n",
       "      <td>103</td>\n",
       "      <td>509</td>\n",
       "      <td>312</td>\n",
       "      <td>2019-09-09</td>\n",
       "      <td>05.51.54</td>\n",
       "      <td>05.51.54.553_70aa8959_person.jpg</td>\n",
       "      <td>1</td>\n",
       "      <td>553</td>\n",
       "      <td>2019-09-09 05:51:54.553</td>\n",
       "      <td>Monday</td>\n",
       "      <td>False</td>\n",
       "      <td>9</td>\n",
       "      <td>5</td>\n",
       "      <td>51</td>\n",
       "    </tr>\n",
       "  </tbody>\n",
       "</table>\n",
       "</div>"
      ],
      "text/plain": [
       "      img_idx   label  confidence   x1   y1   x2   y2        date      time                          filename  img_n_boxes time_ms               date_time week_day  is_weekend  month  hour  min\n",
       "78      72919     car    0.683013  299   20  423   75  2019-09-09  05.20.54     05.20.54.048_5a365eb8_car.jpg            1     048 2019-09-09 05:20:54.048   Monday       False      9     5   20\n",
       "279     73092  person    0.886713  270  184  439  339  2019-09-09  05.51.53  05.51.53.437_bb9a559e_person.jpg            1     437 2019-09-09 05:51:53.437   Monday       False      9     5   51\n",
       "542     73337  person    0.879273  295  177  461  341  2019-09-09  05.51.53  05.51.53.614_2c112e1b_person.jpg            1     614 2019-09-09 05:51:53.614   Monday       False      9     5   51\n",
       "44      72885  person    0.760198  327  141  476  341  2019-09-09  05.51.53  05.51.53.825_ec838624_person.jpg            1     825 2019-09-09 05:51:53.825   Monday       False      9     5   51\n",
       "1624    74312  person    0.496198  417  103  509  312  2019-09-09  05.51.54  05.51.54.553_70aa8959_person.jpg            1     553 2019-09-09 05:51:54.553   Monday       False      9     5   51"
      ]
     },
     "execution_count": 5,
     "metadata": {},
     "output_type": "execute_result"
    }
   ],
   "source": [
    "df = pd.read_parquet('../Datasets/AllObjectDetections_2019-09-09_2020-03-02.parquet.gzip')\n",
    "df = df.sort_values('date_time', ascending=True)\n",
    "df = df.drop(labels=['index'], axis=1)\n",
    "df.head()"
   ]
  },
  {
   "cell_type": "code",
   "execution_count": 6,
   "metadata": {},
   "outputs": [
    {
     "data": {
      "text/plain": [
       "(657894, 18)"
      ]
     },
     "execution_count": 6,
     "metadata": {},
     "output_type": "execute_result"
    }
   ],
   "source": [
    "df.shape"
   ]
  },
  {
   "cell_type": "code",
   "execution_count": 7,
   "metadata": {},
   "outputs": [
    {
     "data": {
      "text/plain": [
       "('2019-09-09', '2020-03-02')"
      ]
     },
     "execution_count": 7,
     "metadata": {},
     "output_type": "execute_result"
    }
   ],
   "source": [
    "df['date'].min(), df['date'].max()"
   ]
  },
  {
   "cell_type": "code",
   "execution_count": 8,
   "metadata": {},
   "outputs": [
    {
     "data": {
      "text/html": [
       "<div>\n",
       "<style scoped>\n",
       "    .dataframe tbody tr th:only-of-type {\n",
       "        vertical-align: middle;\n",
       "    }\n",
       "\n",
       "    .dataframe tbody tr th {\n",
       "        vertical-align: top;\n",
       "    }\n",
       "\n",
       "    .dataframe thead th {\n",
       "        text-align: right;\n",
       "    }\n",
       "</style>\n",
       "<table border=\"1\" class=\"dataframe\">\n",
       "  <thead>\n",
       "    <tr style=\"text-align: right;\">\n",
       "      <th></th>\n",
       "      <th>img_idx</th>\n",
       "      <th>label</th>\n",
       "      <th>confidence</th>\n",
       "      <th>x1</th>\n",
       "      <th>y1</th>\n",
       "      <th>x2</th>\n",
       "      <th>y2</th>\n",
       "      <th>date</th>\n",
       "      <th>time</th>\n",
       "      <th>filename</th>\n",
       "      <th>img_n_boxes</th>\n",
       "      <th>time_ms</th>\n",
       "      <th>date_time</th>\n",
       "      <th>week_day</th>\n",
       "      <th>is_weekend</th>\n",
       "      <th>month</th>\n",
       "      <th>hour</th>\n",
       "      <th>min</th>\n",
       "    </tr>\n",
       "  </thead>\n",
       "  <tbody>\n",
       "    <tr>\n",
       "      <th>355484</th>\n",
       "      <td>5482</td>\n",
       "      <td>person</td>\n",
       "      <td>0.380006</td>\n",
       "      <td>203</td>\n",
       "      <td>4</td>\n",
       "      <td>218</td>\n",
       "      <td>26</td>\n",
       "      <td>2019-12-23</td>\n",
       "      <td>15.01.53</td>\n",
       "      <td>15.01.53.425_deeaf9f2_person-person.jpg</td>\n",
       "      <td>2</td>\n",
       "      <td>425</td>\n",
       "      <td>2019-12-23 15:01:53.425</td>\n",
       "      <td>Monday</td>\n",
       "      <td>False</td>\n",
       "      <td>12</td>\n",
       "      <td>15</td>\n",
       "      <td>1</td>\n",
       "    </tr>\n",
       "    <tr>\n",
       "      <th>347606</th>\n",
       "      <td>31617</td>\n",
       "      <td>person</td>\n",
       "      <td>0.380018</td>\n",
       "      <td>157</td>\n",
       "      <td>0</td>\n",
       "      <td>170</td>\n",
       "      <td>19</td>\n",
       "      <td>2019-12-16</td>\n",
       "      <td>08.41.04</td>\n",
       "      <td>08.41.04.199_a5726939_person.jpg</td>\n",
       "      <td>2</td>\n",
       "      <td>199</td>\n",
       "      <td>2019-12-16 08:41:04.199</td>\n",
       "      <td>Monday</td>\n",
       "      <td>False</td>\n",
       "      <td>12</td>\n",
       "      <td>8</td>\n",
       "      <td>41</td>\n",
       "    </tr>\n",
       "    <tr>\n",
       "      <th>346310</th>\n",
       "      <td>30530</td>\n",
       "      <td>person</td>\n",
       "      <td>0.380044</td>\n",
       "      <td>559</td>\n",
       "      <td>30</td>\n",
       "      <td>578</td>\n",
       "      <td>69</td>\n",
       "      <td>2019-12-15</td>\n",
       "      <td>15.08.14</td>\n",
       "      <td>15.08.14.935_7f65daa0_person-car.jpg</td>\n",
       "      <td>3</td>\n",
       "      <td>935</td>\n",
       "      <td>2019-12-15 15:08:14.935</td>\n",
       "      <td>Sunday</td>\n",
       "      <td>True</td>\n",
       "      <td>12</td>\n",
       "      <td>15</td>\n",
       "      <td>8</td>\n",
       "    </tr>\n",
       "    <tr>\n",
       "      <th>366165</th>\n",
       "      <td>13359</td>\n",
       "      <td>person</td>\n",
       "      <td>0.380050</td>\n",
       "      <td>179</td>\n",
       "      <td>3</td>\n",
       "      <td>191</td>\n",
       "      <td>21</td>\n",
       "      <td>2019-12-24</td>\n",
       "      <td>10.50.43</td>\n",
       "      <td>10.50.43.779_e6a31246_person.jpg</td>\n",
       "      <td>2</td>\n",
       "      <td>779</td>\n",
       "      <td>2019-12-24 10:50:43.779</td>\n",
       "      <td>Tuesday</td>\n",
       "      <td>False</td>\n",
       "      <td>12</td>\n",
       "      <td>10</td>\n",
       "      <td>50</td>\n",
       "    </tr>\n",
       "    <tr>\n",
       "      <th>352505</th>\n",
       "      <td>2774</td>\n",
       "      <td>person</td>\n",
       "      <td>0.380055</td>\n",
       "      <td>70</td>\n",
       "      <td>148</td>\n",
       "      <td>114</td>\n",
       "      <td>226</td>\n",
       "      <td>2019-12-21</td>\n",
       "      <td>17.15.35</td>\n",
       "      <td>17.15.35.163_5a73e292_person.jpg</td>\n",
       "      <td>2</td>\n",
       "      <td>163</td>\n",
       "      <td>2019-12-21 17:15:35.163</td>\n",
       "      <td>Saturday</td>\n",
       "      <td>True</td>\n",
       "      <td>12</td>\n",
       "      <td>17</td>\n",
       "      <td>15</td>\n",
       "    </tr>\n",
       "  </tbody>\n",
       "</table>\n",
       "</div>"
      ],
      "text/plain": [
       "        img_idx   label  confidence   x1   y1   x2   y2        date      time                                 filename  img_n_boxes time_ms               date_time  week_day  is_weekend  month  hour  min\n",
       "355484     5482  person    0.380006  203    4  218   26  2019-12-23  15.01.53  15.01.53.425_deeaf9f2_person-person.jpg            2     425 2019-12-23 15:01:53.425    Monday       False     12    15    1\n",
       "347606    31617  person    0.380018  157    0  170   19  2019-12-16  08.41.04         08.41.04.199_a5726939_person.jpg            2     199 2019-12-16 08:41:04.199    Monday       False     12     8   41\n",
       "346310    30530  person    0.380044  559   30  578   69  2019-12-15  15.08.14     15.08.14.935_7f65daa0_person-car.jpg            3     935 2019-12-15 15:08:14.935    Sunday        True     12    15    8\n",
       "366165    13359  person    0.380050  179    3  191   21  2019-12-24  10.50.43         10.50.43.779_e6a31246_person.jpg            2     779 2019-12-24 10:50:43.779   Tuesday       False     12    10   50\n",
       "352505     2774  person    0.380055   70  148  114  226  2019-12-21  17.15.35         17.15.35.163_5a73e292_person.jpg            2     163 2019-12-21 17:15:35.163  Saturday        True     12    17   15"
      ]
     },
     "execution_count": 8,
     "metadata": {},
     "output_type": "execute_result"
    }
   ],
   "source": [
    "df.sort_values('confidence', ascending=True).head()"
   ]
  },
  {
   "cell_type": "markdown",
   "metadata": {},
   "source": [
    "### Keep only a single frame from the event's frame sequence\n",
    "\n",
    "Let's assume that we have a person walking along the footpath. We should assume that this person will be recognised in many frames, therefore many images of the same object will be captured.\n",
    "\n",
    "Algorithm to solve this:\n",
    "- sort data by time\n",
    "- divide dataset by object type (label) and perform following tasks:\n",
    "    - calculate difference in time between consecutive object observations\n",
    "    - calculate euclidean distance between consecutive frames centroids (using x,y coordinates), if it's the same object, then the center will be close to the previous center\n",
    "    - keep only objects where time and distance differences are greater than predefined thresholds (defined using heuristics)"
   ]
  },
  {
   "cell_type": "code",
   "execution_count": 9,
   "metadata": {},
   "outputs": [
    {
     "data": {
      "text/plain": [
       "array(['car', 'person', 'truck', 'dog', 'bird', 'bicycle', 'cat',\n",
       "       'motorbike'], dtype=object)"
      ]
     },
     "execution_count": 9,
     "metadata": {},
     "output_type": "execute_result"
    }
   ],
   "source": [
    "df['label'].unique()"
   ]
  },
  {
   "cell_type": "code",
   "execution_count": 10,
   "metadata": {},
   "outputs": [],
   "source": [
    "# dictionary holding a dataframe per predicted class\n",
    "dfs = {}"
   ]
  },
  {
   "cell_type": "code",
   "execution_count": 11,
   "metadata": {},
   "outputs": [],
   "source": [
    "# these values seem to reject duplicates the best\n",
    "# NOTE: can this be learned from the data?\n",
    "# NOTE2: this should be in a config file\n",
    "THRESH_NEW_EVENT_SECS = 10\n",
    "THRESH_NEW_EVENT_MIN_DISTANCE = 30"
   ]
  },
  {
   "cell_type": "code",
   "execution_count": 12,
   "metadata": {},
   "outputs": [],
   "source": [
    "# use this function to calculate euclidean distance between coordinates\n",
    "def calc_distance(x):\n",
    "    x_cur, y_cur, x_prev, y_prev = x\n",
    "    return dist.cdist([[x_cur, y_cur]], [[x_prev, y_prev]], metric='euclidean')[0][0]"
   ]
  },
  {
   "cell_type": "code",
   "execution_count": 15,
   "metadata": {},
   "outputs": [
    {
     "name": "stdout",
     "output_type": "stream",
     "text": [
      "Processing label: car\n",
      "Processing label: person\n",
      "Processing label: dog\n",
      "Processing label: cat\n",
      "Processing label: truck\n"
     ]
    }
   ],
   "source": [
    "# create a separate DataFrame for each label of interest and save as a csv file\n",
    "for l in ['car', 'person', 'dog', 'cat', 'truck']:\n",
    "    \n",
    "    print('Processing label: {}'.format(l))\n",
    "    \n",
    "    # filter out other objects from the data frame\n",
    "    analysed_label_df = df.loc[df['label'].isin([l])].reset_index(drop=True).copy()\n",
    "    \n",
    "    # add a dummy variable, which we can use to count objects,\n",
    "    # there are most likely better ways of doing this, but this one is simple\n",
    "    analysed_label_df['dummy_var'] = 1\n",
    "    \n",
    "    # calculate time difference between consecutive rows\n",
    "    analysed_label_df['time_diff'] = analysed_label_df['date_time'].diff().fillna(pd.Timedelta(seconds=0))\n",
    "    analysed_label_df['sec_diff'] = analysed_label_df['time_diff'].dt.total_seconds().fillna(0)\n",
    "    analysed_label_df['x_center'] = analysed_label_df[['x1', 'x2']].mean(axis=1)\n",
    "    analysed_label_df['y_center'] = analysed_label_df[['y1', 'y2']].mean(axis=1)\n",
    "\n",
    "    # calculate euclidian distance between consecutive centroids (using x,y coordinates centroids)\n",
    "    analysed_label_df['prev_x_center'] = analysed_label_df['x_center'].shift(1).fillna(0)\n",
    "    analysed_label_df['prev_y_center'] = analysed_label_df['y_center'].shift(1).fillna(0)\n",
    "    analysed_label_df['euc_distance'] = analysed_label_df[['x_center', 'y_center', \n",
    "        'prev_x_center', 'prev_y_center']].apply(calc_distance, axis=1)\n",
    "\n",
    "    # keep only records within the rejection threshold\n",
    "    idx = ((analysed_label_df['sec_diff'] > THRESH_NEW_EVENT_SECS) & \n",
    "           (analysed_label_df['euc_distance'] > THRESH_NEW_EVENT_MIN_DISTANCE))\n",
    "    dfs[l] = analysed_label_df.loc[idx].reset_index(drop=True).copy()\n",
    "    dfs[l].to_csv(f'../Datasets/UniqueObjectDetections__{l}__2019-09-09_2020-03-02.csv', index=False)"
   ]
  },
  {
   "cell_type": "code",
   "execution_count": 15,
   "metadata": {},
   "outputs": [
    {
     "data": {
      "text/html": [
       "<div>\n",
       "<style scoped>\n",
       "    .dataframe tbody tr th:only-of-type {\n",
       "        vertical-align: middle;\n",
       "    }\n",
       "\n",
       "    .dataframe tbody tr th {\n",
       "        vertical-align: top;\n",
       "    }\n",
       "\n",
       "    .dataframe thead th {\n",
       "        text-align: right;\n",
       "    }\n",
       "</style>\n",
       "<table border=\"1\" class=\"dataframe\">\n",
       "  <thead>\n",
       "    <tr style=\"text-align: right;\">\n",
       "      <th></th>\n",
       "      <th>img_idx</th>\n",
       "      <th>label</th>\n",
       "      <th>confidence</th>\n",
       "      <th>x1</th>\n",
       "      <th>y1</th>\n",
       "      <th>x2</th>\n",
       "      <th>y2</th>\n",
       "      <th>date</th>\n",
       "      <th>time</th>\n",
       "      <th>filename</th>\n",
       "      <th>img_n_boxes</th>\n",
       "      <th>time_ms</th>\n",
       "      <th>date_time</th>\n",
       "      <th>week_day</th>\n",
       "      <th>is_weekend</th>\n",
       "      <th>month</th>\n",
       "      <th>hour</th>\n",
       "      <th>min</th>\n",
       "      <th>dummy_var</th>\n",
       "      <th>time_diff</th>\n",
       "      <th>sec_diff</th>\n",
       "      <th>x_center</th>\n",
       "      <th>y_center</th>\n",
       "      <th>prev_x_center</th>\n",
       "      <th>prev_y_center</th>\n",
       "      <th>euc_distance</th>\n",
       "    </tr>\n",
       "  </thead>\n",
       "  <tbody>\n",
       "    <tr>\n",
       "      <th>0</th>\n",
       "      <td>74204</td>\n",
       "      <td>car</td>\n",
       "      <td>0.765957</td>\n",
       "      <td>551</td>\n",
       "      <td>42</td>\n",
       "      <td>606</td>\n",
       "      <td>75</td>\n",
       "      <td>2019-09-09</td>\n",
       "      <td>07.02.38</td>\n",
       "      <td>07.02.38.965_0353490f_car-car-car.jpg</td>\n",
       "      <td>1</td>\n",
       "      <td>965</td>\n",
       "      <td>2019-09-09 07:02:38.965</td>\n",
       "      <td>Monday</td>\n",
       "      <td>False</td>\n",
       "      <td>9</td>\n",
       "      <td>7</td>\n",
       "      <td>2</td>\n",
       "      <td>1</td>\n",
       "      <td>00:32:53.382000</td>\n",
       "      <td>1973.382</td>\n",
       "      <td>578.5</td>\n",
       "      <td>58.5</td>\n",
       "      <td>456.0</td>\n",
       "      <td>53.0</td>\n",
       "      <td>122.623407</td>\n",
       "    </tr>\n",
       "    <tr>\n",
       "      <th>1</th>\n",
       "      <td>74375</td>\n",
       "      <td>car</td>\n",
       "      <td>0.675785</td>\n",
       "      <td>111</td>\n",
       "      <td>2</td>\n",
       "      <td>226</td>\n",
       "      <td>26</td>\n",
       "      <td>2019-09-09</td>\n",
       "      <td>07.03.02</td>\n",
       "      <td>07.03.02.473_599df73a_car-car-car.jpg</td>\n",
       "      <td>1</td>\n",
       "      <td>473</td>\n",
       "      <td>2019-09-09 07:03:02.473</td>\n",
       "      <td>Monday</td>\n",
       "      <td>False</td>\n",
       "      <td>9</td>\n",
       "      <td>7</td>\n",
       "      <td>3</td>\n",
       "      <td>1</td>\n",
       "      <td>00:00:20.255000</td>\n",
       "      <td>20.255</td>\n",
       "      <td>168.5</td>\n",
       "      <td>14.0</td>\n",
       "      <td>89.5</td>\n",
       "      <td>11.5</td>\n",
       "      <td>79.039547</td>\n",
       "    </tr>\n",
       "    <tr>\n",
       "      <th>2</th>\n",
       "      <td>73090</td>\n",
       "      <td>car</td>\n",
       "      <td>0.515128</td>\n",
       "      <td>71</td>\n",
       "      <td>7</td>\n",
       "      <td>166</td>\n",
       "      <td>23</td>\n",
       "      <td>2019-09-09</td>\n",
       "      <td>07.13.23</td>\n",
       "      <td>07.13.23.268_84646f26_car-car-car.jpg</td>\n",
       "      <td>1</td>\n",
       "      <td>268</td>\n",
       "      <td>2019-09-09 07:13:23.268</td>\n",
       "      <td>Monday</td>\n",
       "      <td>False</td>\n",
       "      <td>9</td>\n",
       "      <td>7</td>\n",
       "      <td>13</td>\n",
       "      <td>1</td>\n",
       "      <td>00:10:18.653000</td>\n",
       "      <td>618.653</td>\n",
       "      <td>118.5</td>\n",
       "      <td>15.0</td>\n",
       "      <td>577.5</td>\n",
       "      <td>47.5</td>\n",
       "      <td>460.149161</td>\n",
       "    </tr>\n",
       "    <tr>\n",
       "      <th>3</th>\n",
       "      <td>72992</td>\n",
       "      <td>car</td>\n",
       "      <td>0.866409</td>\n",
       "      <td>373</td>\n",
       "      <td>34</td>\n",
       "      <td>504</td>\n",
       "      <td>118</td>\n",
       "      <td>2019-09-09</td>\n",
       "      <td>07.30.31</td>\n",
       "      <td>07.30.31.103_ffc1dea9_car-car.jpg</td>\n",
       "      <td>1</td>\n",
       "      <td>103</td>\n",
       "      <td>2019-09-09 07:30:31.103</td>\n",
       "      <td>Monday</td>\n",
       "      <td>False</td>\n",
       "      <td>9</td>\n",
       "      <td>7</td>\n",
       "      <td>30</td>\n",
       "      <td>1</td>\n",
       "      <td>00:17:04.296000</td>\n",
       "      <td>1024.296</td>\n",
       "      <td>438.5</td>\n",
       "      <td>76.0</td>\n",
       "      <td>587.0</td>\n",
       "      <td>60.5</td>\n",
       "      <td>149.306731</td>\n",
       "    </tr>\n",
       "    <tr>\n",
       "      <th>4</th>\n",
       "      <td>73234</td>\n",
       "      <td>car</td>\n",
       "      <td>0.837546</td>\n",
       "      <td>274</td>\n",
       "      <td>38</td>\n",
       "      <td>436</td>\n",
       "      <td>120</td>\n",
       "      <td>2019-09-09</td>\n",
       "      <td>08.08.23</td>\n",
       "      <td>08.08.23.248_7173a1f9_car.jpg</td>\n",
       "      <td>1</td>\n",
       "      <td>248</td>\n",
       "      <td>2019-09-09 08:08:23.248</td>\n",
       "      <td>Monday</td>\n",
       "      <td>False</td>\n",
       "      <td>9</td>\n",
       "      <td>8</td>\n",
       "      <td>8</td>\n",
       "      <td>1</td>\n",
       "      <td>00:37:50.165000</td>\n",
       "      <td>2270.165</td>\n",
       "      <td>355.0</td>\n",
       "      <td>79.0</td>\n",
       "      <td>536.5</td>\n",
       "      <td>67.0</td>\n",
       "      <td>181.896262</td>\n",
       "    </tr>\n",
       "  </tbody>\n",
       "</table>\n",
       "</div>"
      ],
      "text/plain": [
       "   img_idx label  confidence   x1  y1   x2   y2        date      time                               filename  img_n_boxes time_ms               date_time week_day  is_weekend  month  hour  min  dummy_var       time_diff  sec_diff  x_center  y_center  prev_x_center  prev_y_center  euc_distance\n",
       "0    74204   car    0.765957  551  42  606   75  2019-09-09  07.02.38  07.02.38.965_0353490f_car-car-car.jpg            1     965 2019-09-09 07:02:38.965   Monday       False      9     7    2          1 00:32:53.382000  1973.382     578.5      58.5          456.0           53.0    122.623407\n",
       "1    74375   car    0.675785  111   2  226   26  2019-09-09  07.03.02  07.03.02.473_599df73a_car-car-car.jpg            1     473 2019-09-09 07:03:02.473   Monday       False      9     7    3          1 00:00:20.255000    20.255     168.5      14.0           89.5           11.5     79.039547\n",
       "2    73090   car    0.515128   71   7  166   23  2019-09-09  07.13.23  07.13.23.268_84646f26_car-car-car.jpg            1     268 2019-09-09 07:13:23.268   Monday       False      9     7   13          1 00:10:18.653000   618.653     118.5      15.0          577.5           47.5    460.149161\n",
       "3    72992   car    0.866409  373  34  504  118  2019-09-09  07.30.31      07.30.31.103_ffc1dea9_car-car.jpg            1     103 2019-09-09 07:30:31.103   Monday       False      9     7   30          1 00:17:04.296000  1024.296     438.5      76.0          587.0           60.5    149.306731\n",
       "4    73234   car    0.837546  274  38  436  120  2019-09-09  08.08.23          08.08.23.248_7173a1f9_car.jpg            1     248 2019-09-09 08:08:23.248   Monday       False      9     8    8          1 00:37:50.165000  2270.165     355.0      79.0          536.5           67.0    181.896262"
      ]
     },
     "execution_count": 15,
     "metadata": {},
     "output_type": "execute_result"
    }
   ],
   "source": [
    "unique_obs_df = dfs['car']\n",
    "unique_obs_df.head(5)"
   ]
  },
  {
   "cell_type": "code",
   "execution_count": 17,
   "metadata": {},
   "outputs": [
    {
     "data": {
      "text/html": [
       "<div>\n",
       "<style scoped>\n",
       "    .dataframe tbody tr th:only-of-type {\n",
       "        vertical-align: middle;\n",
       "    }\n",
       "\n",
       "    .dataframe tbody tr th {\n",
       "        vertical-align: top;\n",
       "    }\n",
       "\n",
       "    .dataframe thead th {\n",
       "        text-align: right;\n",
       "    }\n",
       "</style>\n",
       "<table border=\"1\" class=\"dataframe\">\n",
       "  <thead>\n",
       "    <tr style=\"text-align: right;\">\n",
       "      <th></th>\n",
       "      <th>label</th>\n",
       "      <th>confidence</th>\n",
       "      <th>date_time</th>\n",
       "      <th>week_day</th>\n",
       "      <th>month</th>\n",
       "      <th>hour</th>\n",
       "      <th>min</th>\n",
       "      <th>is_weekend</th>\n",
       "    </tr>\n",
       "  </thead>\n",
       "  <tbody>\n",
       "    <tr>\n",
       "      <th>0</th>\n",
       "      <td>car</td>\n",
       "      <td>0.765957</td>\n",
       "      <td>2019-09-09 07:02:38.965</td>\n",
       "      <td>Monday</td>\n",
       "      <td>9</td>\n",
       "      <td>7</td>\n",
       "      <td>2</td>\n",
       "      <td>False</td>\n",
       "    </tr>\n",
       "    <tr>\n",
       "      <th>1</th>\n",
       "      <td>car</td>\n",
       "      <td>0.675785</td>\n",
       "      <td>2019-09-09 07:03:02.473</td>\n",
       "      <td>Monday</td>\n",
       "      <td>9</td>\n",
       "      <td>7</td>\n",
       "      <td>3</td>\n",
       "      <td>False</td>\n",
       "    </tr>\n",
       "  </tbody>\n",
       "</table>\n",
       "</div>"
      ],
      "text/plain": [
       "  label  confidence               date_time week_day  month  hour  min  is_weekend\n",
       "0   car    0.765957 2019-09-09 07:02:38.965   Monday      9     7    2       False\n",
       "1   car    0.675785 2019-09-09 07:03:02.473   Monday      9     7    3       False"
      ]
     },
     "execution_count": 17,
     "metadata": {},
     "output_type": "execute_result"
    }
   ],
   "source": [
    "use_cols = ['label', 'confidence', 'date_time', 'week_day', 'month', 'hour', 'min', 'is_weekend']\n",
    "unique_obs_df[use_cols].head(2)"
   ]
  },
  {
   "cell_type": "markdown",
   "metadata": {},
   "source": [
    "### Analyse Yolo confidence"
   ]
  },
  {
   "cell_type": "code",
   "execution_count": 18,
   "metadata": {},
   "outputs": [
    {
     "data": {
      "image/png": "[encoded data removed]",
      "text/plain": [
       "<Figure size 720x288 with 1 Axes>"
      ]
     },
     "metadata": {
      "needs_background": "light"
     },
     "output_type": "display_data"
    }
   ],
   "source": [
    "# out of curiosity, check confidence for analysed label\n",
    "plt.figure(figsize=(10, 4))\n",
    "sns.distplot(unique_obs_df['confidence'], kde=False);"
   ]
  },
  {
   "cell_type": "markdown",
   "metadata": {},
   "source": [
    "We can see that Yolo is actually not that confident in the predictions"
   ]
  },
  {
   "cell_type": "markdown",
   "metadata": {},
   "source": [
    "### Analyse dataset for a predefined time interval: 60 minutes"
   ]
  },
  {
   "cell_type": "code",
   "execution_count": 19,
   "metadata": {},
   "outputs": [],
   "source": [
    "# define human readable field names to use below\n",
    "dt_field, minute_interval = 'time_interval', '60min'"
   ]
  },
  {
   "cell_type": "code",
   "execution_count": 20,
   "metadata": {},
   "outputs": [
    {
     "data": {
      "text/html": [
       "<div>\n",
       "<style scoped>\n",
       "    .dataframe tbody tr th:only-of-type {\n",
       "        vertical-align: middle;\n",
       "    }\n",
       "\n",
       "    .dataframe tbody tr th {\n",
       "        vertical-align: top;\n",
       "    }\n",
       "\n",
       "    .dataframe thead th {\n",
       "        text-align: right;\n",
       "    }\n",
       "</style>\n",
       "<table border=\"1\" class=\"dataframe\">\n",
       "  <thead>\n",
       "    <tr style=\"text-align: right;\">\n",
       "      <th></th>\n",
       "      <th>img_idx</th>\n",
       "      <th>label</th>\n",
       "      <th>confidence</th>\n",
       "      <th>x1</th>\n",
       "      <th>y1</th>\n",
       "      <th>x2</th>\n",
       "      <th>y2</th>\n",
       "      <th>date</th>\n",
       "      <th>time</th>\n",
       "      <th>filename</th>\n",
       "      <th>img_n_boxes</th>\n",
       "      <th>time_ms</th>\n",
       "      <th>date_time</th>\n",
       "      <th>week_day</th>\n",
       "      <th>is_weekend</th>\n",
       "      <th>month</th>\n",
       "      <th>hour</th>\n",
       "      <th>min</th>\n",
       "      <th>dummy_var</th>\n",
       "      <th>time_diff</th>\n",
       "      <th>sec_diff</th>\n",
       "      <th>x_center</th>\n",
       "      <th>y_center</th>\n",
       "      <th>prev_x_center</th>\n",
       "      <th>prev_y_center</th>\n",
       "      <th>euc_distance</th>\n",
       "      <th>time_interval</th>\n",
       "      <th>60min</th>\n",
       "      <th>hour_60min</th>\n",
       "    </tr>\n",
       "  </thead>\n",
       "  <tbody>\n",
       "    <tr>\n",
       "      <th>0</th>\n",
       "      <td>74204</td>\n",
       "      <td>car</td>\n",
       "      <td>0.765957</td>\n",
       "      <td>551</td>\n",
       "      <td>42</td>\n",
       "      <td>606</td>\n",
       "      <td>75</td>\n",
       "      <td>2019-09-09</td>\n",
       "      <td>07.02.38</td>\n",
       "      <td>07.02.38.965_0353490f_car-car-car.jpg</td>\n",
       "      <td>1</td>\n",
       "      <td>965</td>\n",
       "      <td>2019-09-09 07:02:38.965</td>\n",
       "      <td>Monday</td>\n",
       "      <td>False</td>\n",
       "      <td>9</td>\n",
       "      <td>07</td>\n",
       "      <td>2</td>\n",
       "      <td>1</td>\n",
       "      <td>00:32:53.382000</td>\n",
       "      <td>1973.382</td>\n",
       "      <td>578.5</td>\n",
       "      <td>58.5</td>\n",
       "      <td>456.0</td>\n",
       "      <td>53.0</td>\n",
       "      <td>122.623407</td>\n",
       "      <td>2019-09-09 07:00:00</td>\n",
       "      <td>00</td>\n",
       "      <td>07-00</td>\n",
       "    </tr>\n",
       "    <tr>\n",
       "      <th>1</th>\n",
       "      <td>74375</td>\n",
       "      <td>car</td>\n",
       "      <td>0.675785</td>\n",
       "      <td>111</td>\n",
       "      <td>2</td>\n",
       "      <td>226</td>\n",
       "      <td>26</td>\n",
       "      <td>2019-09-09</td>\n",
       "      <td>07.03.02</td>\n",
       "      <td>07.03.02.473_599df73a_car-car-car.jpg</td>\n",
       "      <td>1</td>\n",
       "      <td>473</td>\n",
       "      <td>2019-09-09 07:03:02.473</td>\n",
       "      <td>Monday</td>\n",
       "      <td>False</td>\n",
       "      <td>9</td>\n",
       "      <td>07</td>\n",
       "      <td>3</td>\n",
       "      <td>1</td>\n",
       "      <td>00:00:20.255000</td>\n",
       "      <td>20.255</td>\n",
       "      <td>168.5</td>\n",
       "      <td>14.0</td>\n",
       "      <td>89.5</td>\n",
       "      <td>11.5</td>\n",
       "      <td>79.039547</td>\n",
       "      <td>2019-09-09 07:00:00</td>\n",
       "      <td>00</td>\n",
       "      <td>07-00</td>\n",
       "    </tr>\n",
       "  </tbody>\n",
       "</table>\n",
       "</div>"
      ],
      "text/plain": [
       "   img_idx label  confidence   x1  y1   x2  y2        date      time                               filename  img_n_boxes time_ms               date_time week_day  is_weekend  month hour  min  dummy_var       time_diff  sec_diff  x_center  y_center  prev_x_center  prev_y_center  euc_distance       time_interval 60min hour_60min\n",
       "0    74204   car    0.765957  551  42  606  75  2019-09-09  07.02.38  07.02.38.965_0353490f_car-car-car.jpg            1     965 2019-09-09 07:02:38.965   Monday       False      9   07    2          1 00:32:53.382000  1973.382     578.5      58.5          456.0           53.0    122.623407 2019-09-09 07:00:00    00      07-00\n",
       "1    74375   car    0.675785  111   2  226  26  2019-09-09  07.03.02  07.03.02.473_599df73a_car-car-car.jpg            1     473 2019-09-09 07:03:02.473   Monday       False      9   07    3          1 00:00:20.255000    20.255     168.5      14.0           89.5           11.5     79.039547 2019-09-09 07:00:00    00      07-00"
      ]
     },
     "execution_count": 20,
     "metadata": {},
     "output_type": "execute_result"
    }
   ],
   "source": [
    "unique_obs_df[dt_field] = unique_obs_df['date_time'].dt.round(minute_interval)\n",
    "unique_obs_df['hour'] = (unique_obs_df[dt_field].dt.hour).astype(str).str.zfill(2)\n",
    "unique_obs_df[minute_interval] = (unique_obs_df[dt_field].dt.minute).astype(str).str.zfill(2)\n",
    "unique_obs_df[f'hour_{minute_interval}'] = unique_obs_df['hour'] + '-' + unique_obs_df[minute_interval]\n",
    "unique_obs_df.head(2)"
   ]
  },
  {
   "cell_type": "code",
   "execution_count": 21,
   "metadata": {},
   "outputs": [
    {
     "data": {
      "text/plain": [
       "27.136363636363637"
      ]
     },
     "execution_count": 21,
     "metadata": {},
     "output_type": "execute_result"
    }
   ],
   "source": [
    "# calculate mean ob observations per day\n",
    "unique_obs_df.groupby('date')['img_idx'].count().reset_index().sort_values('img_idx', ascending=False)['img_idx'].mean()"
   ]
  },
  {
   "cell_type": "code",
   "execution_count": 22,
   "metadata": {},
   "outputs": [
    {
     "data": {
      "text/plain": [
       "(4776, 29)"
      ]
     },
     "execution_count": 22,
     "metadata": {},
     "output_type": "execute_result"
    }
   ],
   "source": [
    "unique_obs_df.shape"
   ]
  },
  {
   "cell_type": "markdown",
   "metadata": {},
   "source": [
    "### Count mean observations between predefined time intervals"
   ]
  },
  {
   "cell_type": "code",
   "execution_count": 23,
   "metadata": {},
   "outputs": [],
   "source": [
    "# rename dummy_var to something more representative\n",
    "unique_obs_df = unique_obs_df.rename(columns={'dummy_var': 'object_count'})"
   ]
  },
  {
   "cell_type": "code",
   "execution_count": 24,
   "metadata": {},
   "outputs": [],
   "source": [
    "def resample_by_interval(df, date_time_field, minutes_interval, reset_index=True):\n",
    "    resampled = (df\n",
    "         .groupby([date_time_field])['object_count']\n",
    "         .sum()\n",
    "         .resample(minutes_interval)\n",
    "         .sum()\n",
    "         .reset_index())\n",
    "    resampled['hour'] = (resampled[date_time_field].dt.hour).astype(str).str.zfill(2)\n",
    "    resampled[minutes_interval] = (resampled[date_time_field].dt.minute).astype(str).str.zfill(2)\n",
    "    resampled[f'{minutes_interval}_bucket'] = resampled['hour'] + '-' + resampled[minutes_interval]\n",
    "    resampled = resampled.groupby(f'{minutes_interval}_bucket')['object_count'].mean()\n",
    "    if reset_index == True:\n",
    "        resampled = resampled.reset_index()\n",
    "    return resampled"
   ]
  },
  {
   "cell_type": "code",
   "execution_count": 31,
   "metadata": {},
   "outputs": [
    {
     "data": {
      "image/png": "[encoded data removed]",
      "text/plain": [
       "<Figure size 1152x288 with 1 Axes>"
      ]
     },
     "metadata": {
      "needs_background": "light"
     },
     "output_type": "display_data"
    }
   ],
   "source": [
    "resampled = resample_by_interval(unique_obs_df, dt_field, minute_interval, False)\n",
    "resampled.plot(figsize=(16, 4), kind='bar');"
   ]
  },
  {
   "cell_type": "markdown",
   "metadata": {},
   "source": [
    "#### Note:\n",
    "\n",
    "We can see **almost** a Gaussian distribution here"
   ]
  },
  {
   "cell_type": "markdown",
   "metadata": {},
   "source": [
    "### Now break down by weekend / week-days"
   ]
  },
  {
   "cell_type": "code",
   "execution_count": 26,
   "metadata": {},
   "outputs": [
    {
     "data": {
      "image/png": "[encoded data removed]",
      "text/plain": [
       "<Figure size 1440x432 with 1 Axes>"
      ]
     },
     "metadata": {
      "needs_background": "light"
     },
     "output_type": "display_data"
    }
   ],
   "source": [
    "# resample weekend data\n",
    "idx = unique_obs_df['is_weekend'] == True\n",
    "filtered = unique_obs_df.loc[idx].copy()\n",
    "resampled_mean_weekend = resample_by_interval(filtered, dt_field, minute_interval, True)\n",
    "\n",
    "# resample non-weekend data\n",
    "idx = unique_obs_df['is_weekend'] == False\n",
    "filtered = unique_obs_df.loc[idx].copy()\n",
    "resampled_mean_weekday = resample_by_interval(filtered, dt_field, minute_interval, True)\n",
    "\n",
    "# merge dataframes\n",
    "merged = (resampled_mean_weekend.merge(resampled_mean_weekday, on=f'{minute_interval}_bucket', \n",
    "                                        suffixes=('_Weekend', '_WeekDays')))\n",
    "merged.columns = [f'{minute_interval}Bucket', 'Weekend', 'WeekDays']\n",
    "merged = merged.set_index(f'{minute_interval}Bucket')\n",
    "\n",
    "# plot\n",
    "plt.figure(figsize=(20, 6))\n",
    "ax = sns.lineplot(data=merged)\n",
    "ax.set_xticklabels(merged.index, rotation=90);"
   ]
  },
  {
   "cell_type": "markdown",
   "metadata": {},
   "source": [
    "### Analyse outliers\n",
    "\n",
    "Here we can group by dataset by date and time interval. This will be the basis to verify the accuracy based on the historical data.\n",
    "\n",
    "Then we can roll up this data to the time intervals only (drop the date field). We can use these averages as a crude way to generate the forecast based on the historical data.\n",
    "\n",
    "**Important:**\n",
    "\n",
    "Need to think about the actual data to include in the training/testing data samples. Since we can't really see any observations in the night hours, we should perhaps exclude these hours (like between 10PM and 5AM) from the dataset.\n",
    "\n",
    "#### Note:\n",
    "We could also use something like moving averages algorithm for the forecast baseline. I will leave it out for now, but if time permits I will come back to it and try several ways of using moving averages (with and without exponential smoothing for example)."
   ]
  },
  {
   "cell_type": "code",
   "execution_count": 32,
   "metadata": {},
   "outputs": [
    {
     "data": {
      "text/html": [
       "<div>\n",
       "<style scoped>\n",
       "    .dataframe tbody tr th:only-of-type {\n",
       "        vertical-align: middle;\n",
       "    }\n",
       "\n",
       "    .dataframe tbody tr th {\n",
       "        vertical-align: top;\n",
       "    }\n",
       "\n",
       "    .dataframe thead th {\n",
       "        text-align: right;\n",
       "    }\n",
       "</style>\n",
       "<table border=\"1\" class=\"dataframe\">\n",
       "  <thead>\n",
       "    <tr style=\"text-align: right;\">\n",
       "      <th></th>\n",
       "      <th>time_interval</th>\n",
       "      <th>object_count</th>\n",
       "    </tr>\n",
       "  </thead>\n",
       "  <tbody>\n",
       "    <tr>\n",
       "      <th>4210</th>\n",
       "      <td>2020-03-02 17:00:00</td>\n",
       "      <td>7</td>\n",
       "    </tr>\n",
       "    <tr>\n",
       "      <th>4211</th>\n",
       "      <td>2020-03-02 18:00:00</td>\n",
       "      <td>5</td>\n",
       "    </tr>\n",
       "  </tbody>\n",
       "</table>\n",
       "</div>"
      ],
      "text/plain": [
       "           time_interval  object_count\n",
       "4210 2020-03-02 17:00:00             7\n",
       "4211 2020-03-02 18:00:00             5"
      ]
     },
     "execution_count": 32,
     "metadata": {},
     "output_type": "execute_result"
    }
   ],
   "source": [
    "# group data by date & time interval\n",
    "resampled = (unique_obs_df\n",
    "    .groupby([dt_field])['object_count']\n",
    "    .sum()\n",
    "    .resample(minute_interval)\n",
    "    .sum()\n",
    "    .reset_index())\n",
    "resampled.tail(2)"
   ]
  },
  {
   "cell_type": "code",
   "execution_count": 33,
   "metadata": {},
   "outputs": [
    {
     "data": {
      "text/plain": [
       "(4212, 2)"
      ]
     },
     "execution_count": 33,
     "metadata": {},
     "output_type": "execute_result"
    }
   ],
   "source": [
    "resampled.shape"
   ]
  },
  {
   "cell_type": "code",
   "execution_count": 34,
   "metadata": {},
   "outputs": [
    {
     "data": {
      "text/html": [
       "<div>\n",
       "<style scoped>\n",
       "    .dataframe tbody tr th:only-of-type {\n",
       "        vertical-align: middle;\n",
       "    }\n",
       "\n",
       "    .dataframe tbody tr th {\n",
       "        vertical-align: top;\n",
       "    }\n",
       "\n",
       "    .dataframe thead th {\n",
       "        text-align: right;\n",
       "    }\n",
       "</style>\n",
       "<table border=\"1\" class=\"dataframe\">\n",
       "  <thead>\n",
       "    <tr style=\"text-align: right;\">\n",
       "      <th></th>\n",
       "      <th>time_interval</th>\n",
       "      <th>object_count</th>\n",
       "      <th>hour</th>\n",
       "      <th>week</th>\n",
       "      <th>week_in_month</th>\n",
       "      <th>month</th>\n",
       "      <th>day_of_week</th>\n",
       "      <th>is_weekend</th>\n",
       "    </tr>\n",
       "  </thead>\n",
       "  <tbody>\n",
       "    <tr>\n",
       "      <th>0</th>\n",
       "      <td>2019-09-09 07:00:00</td>\n",
       "      <td>3</td>\n",
       "      <td>7</td>\n",
       "      <td>37</td>\n",
       "      <td>2</td>\n",
       "      <td>9</td>\n",
       "      <td>0</td>\n",
       "      <td>0</td>\n",
       "    </tr>\n",
       "    <tr>\n",
       "      <th>1</th>\n",
       "      <td>2019-09-09 08:00:00</td>\n",
       "      <td>2</td>\n",
       "      <td>8</td>\n",
       "      <td>37</td>\n",
       "      <td>2</td>\n",
       "      <td>9</td>\n",
       "      <td>0</td>\n",
       "      <td>0</td>\n",
       "    </tr>\n",
       "  </tbody>\n",
       "</table>\n",
       "</div>"
      ],
      "text/plain": [
       "        time_interval  object_count  hour  week  week_in_month  month  day_of_week  is_weekend\n",
       "0 2019-09-09 07:00:00             3     7    37              2      9            0           0\n",
       "1 2019-09-09 08:00:00             2     8    37              2      9            0           0"
      ]
     },
     "execution_count": 34,
     "metadata": {},
     "output_type": "execute_result"
    }
   ],
   "source": [
    "# add new features, which can be used for modelling\n",
    "resampled['hour'] = resampled[dt_field].dt.hour\n",
    "resampled['week'] = resampled[dt_field].dt.week\n",
    "resampled['week_in_month'] = pd.to_numeric(resampled[dt_field].dt.day / 7)\n",
    "resampled['week_in_month'] = resampled['week_in_month'].apply(lambda x: math.ceil(x))\n",
    "resampled['month'] = resampled[dt_field].dt.month\n",
    "resampled['day_of_week'] = resampled[dt_field].dt.weekday\n",
    "resampled['is_weekend'] = ((resampled[dt_field].dt.weekday) // 5 == 1).astype(int)\n",
    "resampled.head(2)"
   ]
  },
  {
   "cell_type": "markdown",
   "metadata": {},
   "source": [
    "#### Remove outages"
   ]
  },
  {
   "cell_type": "code",
   "execution_count": 38,
   "metadata": {},
   "outputs": [
    {
     "data": {
      "text/plain": [
       "(4164, 8)"
      ]
     },
     "execution_count": 38,
     "metadata": {},
     "output_type": "execute_result"
    }
   ],
   "source": [
    "resampled.shape"
   ]
  },
  {
   "cell_type": "code",
   "execution_count": 39,
   "metadata": {},
   "outputs": [],
   "source": [
    "# first outage, storm - power outage\n",
    "idx = (resampled['time_interval'] >= '2020-01-13 00:00:00') & (resampled['time_interval'] <= '2020-01-14 23:59:59')\n",
    "resampled = resampled.loc[~idx]\n",
    "\n",
    "# 2nd outage, issue with boiler, plumber disconnected a switch\n",
    "# and services did not pick up themselves\n",
    "idx = (resampled['time_interval'] >= '2020-03-03 00:00:00') & (resampled['time_interval'] <= '2020-03-07 23:59:59')\n",
    "resampled = resampled.loc[~idx]"
   ]
  },
  {
   "cell_type": "code",
   "execution_count": 40,
   "metadata": {},
   "outputs": [
    {
     "data": {
      "text/plain": [
       "(4164, 8)"
      ]
     },
     "execution_count": 40,
     "metadata": {},
     "output_type": "execute_result"
    }
   ],
   "source": [
    "resampled.shape"
   ]
  },
  {
   "cell_type": "markdown",
   "metadata": {},
   "source": [
    "### Find suspicious time intervals\n",
    "\n",
    "These would be days without any observations or with huge number of observations"
   ]
  },
  {
   "cell_type": "code",
   "execution_count": 41,
   "metadata": {},
   "outputs": [
    {
     "data": {
      "text/html": [
       "<div>\n",
       "<style scoped>\n",
       "    .dataframe tbody tr th:only-of-type {\n",
       "        vertical-align: middle;\n",
       "    }\n",
       "\n",
       "    .dataframe tbody tr th {\n",
       "        vertical-align: top;\n",
       "    }\n",
       "\n",
       "    .dataframe thead th {\n",
       "        text-align: right;\n",
       "    }\n",
       "</style>\n",
       "<table border=\"1\" class=\"dataframe\">\n",
       "  <thead>\n",
       "    <tr style=\"text-align: right;\">\n",
       "      <th></th>\n",
       "      <th>time_interval</th>\n",
       "      <th>object_count</th>\n",
       "    </tr>\n",
       "  </thead>\n",
       "  <tbody>\n",
       "    <tr>\n",
       "      <th>127</th>\n",
       "      <td>2020-01-14</td>\n",
       "      <td>0</td>\n",
       "    </tr>\n",
       "    <tr>\n",
       "      <th>126</th>\n",
       "      <td>2020-01-13</td>\n",
       "      <td>0</td>\n",
       "    </tr>\n",
       "    <tr>\n",
       "      <th>49</th>\n",
       "      <td>2019-10-28</td>\n",
       "      <td>7</td>\n",
       "    </tr>\n",
       "    <tr>\n",
       "      <th>146</th>\n",
       "      <td>2020-02-02</td>\n",
       "      <td>8</td>\n",
       "    </tr>\n",
       "    <tr>\n",
       "      <th>114</th>\n",
       "      <td>2020-01-01</td>\n",
       "      <td>10</td>\n",
       "    </tr>\n",
       "  </tbody>\n",
       "</table>\n",
       "</div>"
      ],
      "text/plain": [
       "    time_interval  object_count\n",
       "127    2020-01-14             0\n",
       "126    2020-01-13             0\n",
       "49     2019-10-28             7\n",
       "146    2020-02-02             8\n",
       "114    2020-01-01            10"
      ]
     },
     "execution_count": 41,
     "metadata": {},
     "output_type": "execute_result"
    }
   ],
   "source": [
    "by_day = resampled.set_index('time_interval').groupby(pd.Grouper(freq='D'))['object_count'].sum()\n",
    "by_day.reset_index().sort_values('object_count', ascending=True).head(5)"
   ]
  },
  {
   "cell_type": "markdown",
   "metadata": {},
   "source": [
    "Note: the first 2 days have been removed from the Frame, so it's fine"
   ]
  },
  {
   "cell_type": "code",
   "execution_count": 46,
   "metadata": {},
   "outputs": [
    {
     "data": {
      "text/html": [
       "<div>\n",
       "<style scoped>\n",
       "    .dataframe tbody tr th:only-of-type {\n",
       "        vertical-align: middle;\n",
       "    }\n",
       "\n",
       "    .dataframe tbody tr th {\n",
       "        vertical-align: top;\n",
       "    }\n",
       "\n",
       "    .dataframe thead th {\n",
       "        text-align: right;\n",
       "    }\n",
       "</style>\n",
       "<table border=\"1\" class=\"dataframe\">\n",
       "  <thead>\n",
       "    <tr style=\"text-align: right;\">\n",
       "      <th></th>\n",
       "      <th>time_interval</th>\n",
       "      <th>object_count</th>\n",
       "    </tr>\n",
       "  </thead>\n",
       "  <tbody>\n",
       "    <tr>\n",
       "      <th>21</th>\n",
       "      <td>2019-09-30</td>\n",
       "      <td>48</td>\n",
       "    </tr>\n",
       "    <tr>\n",
       "      <th>46</th>\n",
       "      <td>2019-10-25</td>\n",
       "      <td>47</td>\n",
       "    </tr>\n",
       "    <tr>\n",
       "      <th>37</th>\n",
       "      <td>2019-10-16</td>\n",
       "      <td>46</td>\n",
       "    </tr>\n",
       "    <tr>\n",
       "      <th>129</th>\n",
       "      <td>2020-01-16</td>\n",
       "      <td>45</td>\n",
       "    </tr>\n",
       "    <tr>\n",
       "      <th>24</th>\n",
       "      <td>2019-10-03</td>\n",
       "      <td>44</td>\n",
       "    </tr>\n",
       "  </tbody>\n",
       "</table>\n",
       "</div>"
      ],
      "text/plain": [
       "    time_interval  object_count\n",
       "21     2019-09-30            48\n",
       "46     2019-10-25            47\n",
       "37     2019-10-16            46\n",
       "129    2020-01-16            45\n",
       "24     2019-10-03            44"
      ]
     },
     "execution_count": 46,
     "metadata": {},
     "output_type": "execute_result"
    }
   ],
   "source": [
    "by_day.reset_index().sort_values('object_count', ascending=False).head(5)"
   ]
  },
  {
   "cell_type": "markdown",
   "metadata": {},
   "source": [
    "Note: Looks like we have a single very heavy day on 28 Feb. Need to take a look at the images from that day to understand what happened. It will most likely be cought as an outlier in the subsequent section of the analysis."
   ]
  },
  {
   "cell_type": "markdown",
   "metadata": {},
   "source": [
    "### Set X and y"
   ]
  },
  {
   "cell_type": "code",
   "execution_count": 143,
   "metadata": {},
   "outputs": [],
   "source": [
    "# # uncomment to remove nighlty hours\n",
    "# idx = (resampled['hour'] > 4) & (resampled['hour'] < 23)\n",
    "# resampled_filtered = resampled.loc[idx].reset_index().copy()\n",
    "# resampled_filtered.head(2)"
   ]
  },
  {
   "cell_type": "code",
   "execution_count": 43,
   "metadata": {},
   "outputs": [],
   "source": [
    "# now we are ready to define features (X) and actual values (object counts) to predict (y)\n",
    "X = resampled[['hour', 'day_of_week', 'week_in_month', 'is_weekend', 'month']]\n",
    "y = resampled['object_count']"
   ]
  },
  {
   "cell_type": "markdown",
   "metadata": {},
   "source": [
    "#### Outlier analysis\n",
    "\n",
    "Before we can dive into the ML activities, we need to take a look at the dataset and see if the values fall in an acceptable range."
   ]
  },
  {
   "cell_type": "code",
   "execution_count": 44,
   "metadata": {},
   "outputs": [
    {
     "data": {
      "image/png": "[encoded data removed]",
      "text/plain": [
       "<Figure size 864x288 with 1 Axes>"
      ]
     },
     "metadata": {
      "needs_background": "light"
     },
     "output_type": "display_data"
    }
   ],
   "source": [
    "# take a quick look at object counts\n",
    "y.value_counts().plot(kind='bar', figsize=(12,4));"
   ]
  },
  {
   "cell_type": "code",
   "execution_count": 47,
   "metadata": {},
   "outputs": [
    {
     "data": {
      "image/png": "[encoded data removed]",
      "text/plain": [
       "<Figure size 432x288 with 1 Axes>"
      ]
     },
     "metadata": {
      "needs_background": "light"
     },
     "output_type": "display_data"
    }
   ],
   "source": [
    "sns.boxplot(x=y);"
   ]
  },
  {
   "cell_type": "code",
   "execution_count": 162,
   "metadata": {},
   "outputs": [
    {
     "data": {
      "image/png": "[encoded data removed]",
      "text/plain": [
       "<Figure size 720x360 with 1 Axes>"
      ]
     },
     "metadata": {
      "needs_background": "light"
     },
     "output_type": "display_data"
    }
   ],
   "source": [
    "fig, ax = plt.subplots(figsize=(10, 5))\n",
    "ax.scatter(X['hour'], y, s=5, c='g')\n",
    "ax.set_xlabel('Hour')\n",
    "ax.set_ylabel('Object count')\n",
    "plt.show()"
   ]
  },
  {
   "cell_type": "markdown",
   "metadata": {},
   "source": [
    "### Note:\n",
    "\n",
    "3 plots above show us that we have some outliers in the dataset.\n",
    "\n",
    "These were most likely caused by an error in measurement, or just a time interval with abnormal number of objects.\n",
    "\n",
    "### Z-score\n",
    "\n",
    "We need a method to identify these outliers statistically and then decide on the action against them (keep, remove or correct).\n",
    "\n",
    "Wikipedia: The Z-score is the signed number of standard deviations by which the value of an observation or data point is above the mean value of what is being observed or measured.\n",
    "\n",
    "Web article: https://towardsdatascience.com/ways-to-detect-and-remove-the-outliers-404d16608dba:\n",
    "\n",
    "When calculating the Z-score we re-scale and center the data and look for data points which are too far from zero. These data points which are way too far from zero will be treated as the outliers. In most of the cases a threshold of 3 or -3 is used"
   ]
  },
  {
   "cell_type": "code",
   "execution_count": 163,
   "metadata": {},
   "outputs": [
    {
     "name": "stdout",
     "output_type": "stream",
     "text": [
      "[0.38659975 0.08573465 0.85893415 0.55806905 0.55806905 1.33126855\n",
      " 0.08573465 0.08573465 0.38659975 0.55806905]\n"
     ]
    }
   ],
   "source": [
    "# calculate Z-score\n",
    "z = np.abs(stats.zscore(y))\n",
    "print(z[:10])"
   ]
  },
  {
   "cell_type": "code",
   "execution_count": 164,
   "metadata": {},
   "outputs": [
    {
     "name": "stdout",
     "output_type": "stream",
     "text": [
      "[ 38 124 126 130 172]\n"
     ]
    }
   ],
   "source": [
    "# identify outliers by Z-score greater than 3\n",
    "threshold = 3\n",
    "outliers_idx = np.where(z > threshold)[0]\n",
    "print(outliers_idx[:5])"
   ]
  },
  {
   "cell_type": "code",
   "execution_count": 165,
   "metadata": {},
   "outputs": [
    {
     "data": {
      "text/plain": [
       "38      9\n",
       "124     8\n",
       "126    16\n",
       "130    20\n",
       "Name: object_count, dtype: int64"
      ]
     },
     "execution_count": 165,
     "metadata": {},
     "output_type": "execute_result"
    }
   ],
   "source": [
    "# show a few outliers\n",
    "y[outliers_idx[0:4]]"
   ]
  },
  {
   "cell_type": "markdown",
   "metadata": {},
   "source": [
    "#### Method:\n",
    "\n",
    "For now we can remove these outliers and later on we can decide if there is a better way of dealing with them. We can also play around with the threshold to see at which point we can treat observations as outliers."
   ]
  },
  {
   "cell_type": "code",
   "execution_count": 166,
   "metadata": {},
   "outputs": [
    {
     "data": {
      "text/plain": [
       "1.1815126050420168"
      ]
     },
     "execution_count": 166,
     "metadata": {},
     "output_type": "execute_result"
    }
   ],
   "source": [
    "# avg object count before outlier rejection\n",
    "y.mean()"
   ]
  },
  {
   "cell_type": "code",
   "execution_count": 167,
   "metadata": {},
   "outputs": [],
   "source": [
    "# keep only values where Z-score is lower than 3\n",
    "# this will significantly affect the mean of the data\n",
    "y = y[z < 3]\n",
    "X = X[z < 3]"
   ]
  },
  {
   "cell_type": "code",
   "execution_count": 168,
   "metadata": {},
   "outputs": [
    {
     "data": {
      "text/plain": [
       "1.0009777560498656"
      ]
     },
     "execution_count": 168,
     "metadata": {},
     "output_type": "execute_result"
    }
   ],
   "source": [
    "# avg object count after outlier rejection\n",
    "y.mean()"
   ]
  },
  {
   "cell_type": "code",
   "execution_count": 175,
   "metadata": {},
   "outputs": [
    {
     "data": {
      "image/png": "[encoded data removed]",
      "text/plain": [
       "<Figure size 432x288 with 1 Axes>"
      ]
     },
     "metadata": {
      "needs_background": "light"
     },
     "output_type": "display_data"
    }
   ],
   "source": [
    "# verify that outliers have been removed on the boxplot\n",
    "sns.boxplot(x=y);"
   ]
  },
  {
   "cell_type": "markdown",
   "metadata": {},
   "source": [
    "### Simple averaging model error rates"
   ]
  },
  {
   "cell_type": "code",
   "execution_count": 169,
   "metadata": {},
   "outputs": [],
   "source": [
    "# create a train/test split for the dataset\n",
    "X_train, X_test, y_train, y_test = train_test_split(\n",
    "    X, y, test_size=0.33, random_state=41)"
   ]
  },
  {
   "cell_type": "code",
   "execution_count": 170,
   "metadata": {},
   "outputs": [],
   "source": [
    "# add back true values, so we can calculate the average for an hour\n",
    "avg_X_train = pd.merge(X_train, y_train, left_index=True, right_index=True)\n",
    "mean_obj_counts = avg_X_train.groupby('hour')['object_count'].mean()"
   ]
  },
  {
   "cell_type": "code",
   "execution_count": 171,
   "metadata": {},
   "outputs": [],
   "source": [
    "# now we can generate the predictions for the test set\n",
    "y_pred = X_test['hour'].map(mean_obj_counts)"
   ]
  },
  {
   "cell_type": "code",
   "execution_count": 173,
   "metadata": {},
   "outputs": [
    {
     "data": {
      "text/plain": [
       "0.31451494662183554"
      ]
     },
     "execution_count": 173,
     "metadata": {},
     "output_type": "execute_result"
    }
   ],
   "source": [
    "# calculate root mean squared error\n",
    "r2_score(y_test, y_pred)"
   ]
  },
  {
   "cell_type": "code",
   "execution_count": 174,
   "metadata": {},
   "outputs": [
    {
     "name": "stdout",
     "output_type": "stream",
     "text": [
      "[0 0 2 1 0]\n",
      "[0.72477064 0.00892857 0.72477064 0.76106195 0.31775701]\n"
     ]
    }
   ],
   "source": [
    "# eye-ball a few values\n",
    "print(np.array(y_test[:5]))\n",
    "print(np.array(y_pred[:5]))"
   ]
  },
  {
   "cell_type": "markdown",
   "metadata": {},
   "source": [
    "#### Note\n",
    "\n",
    "At this stage it's difficult to say if this is as good as we can get with the features used. We must try a few other more advanced models and then see if the improvement is actually worth adding the complexity of Machine Learning."
   ]
  },
  {
   "cell_type": "markdown",
   "metadata": {},
   "source": [
    "### Sklearn models error rates"
   ]
  },
  {
   "cell_type": "markdown",
   "metadata": {},
   "source": [
    "#### Method 1: No normalisation, no dummies"
   ]
  },
  {
   "cell_type": "code",
   "execution_count": 115,
   "metadata": {},
   "outputs": [
    {
     "data": {
      "text/plain": [
       "2.3647814658049624"
      ]
     },
     "execution_count": 115,
     "metadata": {},
     "output_type": "execute_result"
    }
   ],
   "source": [
    "from sklearn.linear_model import LinearRegression\n",
    "reg = LinearRegression().fit(X_train, y_train)\n",
    "y_pred = reg.predict(X_test)\n",
    "mean_squared_error(y_test, y_pred, squared=False)"
   ]
  },
  {
   "cell_type": "code",
   "execution_count": 116,
   "metadata": {},
   "outputs": [
    {
     "data": {
      "text/plain": [
       "2.3657778763127193"
      ]
     },
     "execution_count": 116,
     "metadata": {},
     "output_type": "execute_result"
    }
   ],
   "source": [
    "from sklearn.gaussian_process import GaussianProcessRegressor\n",
    "from sklearn.gaussian_process.kernels import DotProduct, WhiteKernel\n",
    "reg = GaussianProcessRegressor(kernel=DotProduct() + WhiteKernel(), random_state=0).fit(X_train, y_train)\n",
    "y_pred = reg.predict(X_test)\n",
    "mean_squared_error(y_test, y_pred, squared=False)"
   ]
  },
  {
   "cell_type": "code",
   "execution_count": 117,
   "metadata": {},
   "outputs": [
    {
     "data": {
      "text/plain": [
       "1.9233432696279509"
      ]
     },
     "execution_count": 117,
     "metadata": {},
     "output_type": "execute_result"
    }
   ],
   "source": [
    "from sklearn.svm import SVR\n",
    "reg = SVR().fit(X_train, y_train)\n",
    "y_pred = reg.predict(X_test)\n",
    "mean_squared_error(y_test, y_pred, squared=False)"
   ]
  },
  {
   "cell_type": "markdown",
   "metadata": {},
   "source": [
    "### Note\n",
    "\n",
    "Based on the results above, all sklearn models are worse than the crude averages model"
   ]
  },
  {
   "cell_type": "markdown",
   "metadata": {},
   "source": [
    "#### Method 2: Normalisation, no dummies"
   ]
  },
  {
   "cell_type": "code",
   "execution_count": 118,
   "metadata": {},
   "outputs": [
    {
     "data": {
      "text/plain": [
       "2.016178215229602"
      ]
     },
     "execution_count": 118,
     "metadata": {},
     "output_type": "execute_result"
    }
   ],
   "source": [
    "from sklearn.svm import SVR\n",
    "from sklearn import preprocessing\n",
    "reg = SVR().fit(preprocessing.scale(X_train), y_train)\n",
    "y_pred = reg.predict(preprocessing.scale(X_test))\n",
    "mean_squared_error(y_test, y_pred, squared=False)"
   ]
  },
  {
   "cell_type": "code",
   "execution_count": 119,
   "metadata": {},
   "outputs": [
    {
     "data": {
      "text/plain": [
       "2.0082822115940546"
      ]
     },
     "execution_count": 119,
     "metadata": {},
     "output_type": "execute_result"
    }
   ],
   "source": [
    "from sklearn.svm import SVR\n",
    "from sklearn import preprocessing\n",
    "scaler = preprocessing.StandardScaler().fit(X_train)\n",
    "reg = SVR().fit(scaler.transform(X_train), y_train)\n",
    "y_pred = reg.predict(scaler.transform(X_test))\n",
    "mean_squared_error(y_test, y_pred, squared=False)"
   ]
  },
  {
   "cell_type": "markdown",
   "metadata": {},
   "source": [
    "#### Method 3: No Normalisation, dummies"
   ]
  },
  {
   "cell_type": "code",
   "execution_count": 120,
   "metadata": {},
   "outputs": [
    {
     "data": {
      "text/html": [
       "<div>\n",
       "<style scoped>\n",
       "    .dataframe tbody tr th:only-of-type {\n",
       "        vertical-align: middle;\n",
       "    }\n",
       "\n",
       "    .dataframe tbody tr th {\n",
       "        vertical-align: top;\n",
       "    }\n",
       "\n",
       "    .dataframe thead th {\n",
       "        text-align: right;\n",
       "    }\n",
       "</style>\n",
       "<table border=\"1\" class=\"dataframe\">\n",
       "  <thead>\n",
       "    <tr style=\"text-align: right;\">\n",
       "      <th></th>\n",
       "      <th>hour_0</th>\n",
       "      <th>hour_2</th>\n",
       "      <th>hour_4</th>\n",
       "      <th>hour_6</th>\n",
       "      <th>hour_8</th>\n",
       "      <th>hour_10</th>\n",
       "      <th>hour_12</th>\n",
       "      <th>hour_14</th>\n",
       "      <th>hour_16</th>\n",
       "      <th>hour_18</th>\n",
       "      <th>hour_20</th>\n",
       "      <th>hour_22</th>\n",
       "      <th>day_of_week_0</th>\n",
       "      <th>day_of_week_1</th>\n",
       "      <th>day_of_week_2</th>\n",
       "      <th>day_of_week_3</th>\n",
       "      <th>day_of_week_4</th>\n",
       "      <th>day_of_week_5</th>\n",
       "      <th>day_of_week_6</th>\n",
       "      <th>week_in_month_1</th>\n",
       "      <th>week_in_month_2</th>\n",
       "      <th>week_in_month_3</th>\n",
       "      <th>week_in_month_4</th>\n",
       "      <th>week_in_month_5</th>\n",
       "      <th>is_weekend_0</th>\n",
       "      <th>is_weekend_1</th>\n",
       "      <th>month_9</th>\n",
       "      <th>month_10</th>\n",
       "      <th>month_11</th>\n",
       "      <th>month_12</th>\n",
       "    </tr>\n",
       "  </thead>\n",
       "  <tbody>\n",
       "    <tr>\n",
       "      <th>0</th>\n",
       "      <td>0</td>\n",
       "      <td>0</td>\n",
       "      <td>0</td>\n",
       "      <td>0</td>\n",
       "      <td>1</td>\n",
       "      <td>0</td>\n",
       "      <td>0</td>\n",
       "      <td>0</td>\n",
       "      <td>0</td>\n",
       "      <td>0</td>\n",
       "      <td>0</td>\n",
       "      <td>0</td>\n",
       "      <td>1</td>\n",
       "      <td>0</td>\n",
       "      <td>0</td>\n",
       "      <td>0</td>\n",
       "      <td>0</td>\n",
       "      <td>0</td>\n",
       "      <td>0</td>\n",
       "      <td>0</td>\n",
       "      <td>1</td>\n",
       "      <td>0</td>\n",
       "      <td>0</td>\n",
       "      <td>0</td>\n",
       "      <td>1</td>\n",
       "      <td>0</td>\n",
       "      <td>1</td>\n",
       "      <td>0</td>\n",
       "      <td>0</td>\n",
       "      <td>0</td>\n",
       "    </tr>\n",
       "    <tr>\n",
       "      <th>1</th>\n",
       "      <td>0</td>\n",
       "      <td>0</td>\n",
       "      <td>0</td>\n",
       "      <td>0</td>\n",
       "      <td>0</td>\n",
       "      <td>1</td>\n",
       "      <td>0</td>\n",
       "      <td>0</td>\n",
       "      <td>0</td>\n",
       "      <td>0</td>\n",
       "      <td>0</td>\n",
       "      <td>0</td>\n",
       "      <td>1</td>\n",
       "      <td>0</td>\n",
       "      <td>0</td>\n",
       "      <td>0</td>\n",
       "      <td>0</td>\n",
       "      <td>0</td>\n",
       "      <td>0</td>\n",
       "      <td>0</td>\n",
       "      <td>1</td>\n",
       "      <td>0</td>\n",
       "      <td>0</td>\n",
       "      <td>0</td>\n",
       "      <td>1</td>\n",
       "      <td>0</td>\n",
       "      <td>1</td>\n",
       "      <td>0</td>\n",
       "      <td>0</td>\n",
       "      <td>0</td>\n",
       "    </tr>\n",
       "  </tbody>\n",
       "</table>\n",
       "</div>"
      ],
      "text/plain": [
       "   hour_0  hour_2  hour_4  hour_6  hour_8  hour_10  hour_12  hour_14  hour_16  hour_18  hour_20  hour_22  day_of_week_0  day_of_week_1  day_of_week_2  day_of_week_3  day_of_week_4  day_of_week_5  day_of_week_6  week_in_month_1  week_in_month_2  week_in_month_3  week_in_month_4  week_in_month_5  is_weekend_0  is_weekend_1  month_9  month_10  month_11  month_12\n",
       "0       0       0       0       0       1        0        0        0        0        0        0        0              1              0              0              0              0              0              0                0                1                0                0                0             1             0        1         0         0         0\n",
       "1       0       0       0       0       0        1        0        0        0        0        0        0              1              0              0              0              0              0              0                0                1                0                0                0             1             0        1         0         0         0"
      ]
     },
     "execution_count": 120,
     "metadata": {},
     "output_type": "execute_result"
    }
   ],
   "source": [
    "# dummies can only be created when features are not-numerical,\n",
    "# so we can convert those to categorical\n",
    "X_dum = pd.get_dummies(X.astype('category'))\n",
    "X_dum.head(2)"
   ]
  },
  {
   "cell_type": "code",
   "execution_count": 121,
   "metadata": {},
   "outputs": [],
   "source": [
    "X_train, X_test, y_train, y_test = train_test_split(\n",
    "    X_dum, y, test_size=0.33, random_state=43)"
   ]
  },
  {
   "cell_type": "code",
   "execution_count": 122,
   "metadata": {},
   "outputs": [
    {
     "data": {
      "text/plain": [
       "1.9254226177982672"
      ]
     },
     "execution_count": 122,
     "metadata": {},
     "output_type": "execute_result"
    }
   ],
   "source": [
    "from sklearn.svm import SVR\n",
    "reg = SVR().fit(X_train, y_train)\n",
    "y_pred = reg.predict(X_test)\n",
    "mean_squared_error(y_test, y_pred, squared=False)"
   ]
  },
  {
   "cell_type": "markdown",
   "metadata": {},
   "source": [
    "### Note\n",
    "\n",
    "This error rate is quite random and varies quite a bit when **random_state** changes in the train/test split.\n",
    "\n",
    "We need to change the model or think about additional features to improve the accuracy.\n",
    "\n",
    "Let's use the best model so far - the SVR model with dummies - and play with the features below."
   ]
  },
  {
   "cell_type": "markdown",
   "metadata": {},
   "source": [
    "### Feature selection\n",
    "\n",
    "Let's try to select individual features and see which combination gives us the best results.\n",
    "\n",
    "Since error varies a lot based on the random state in train/test split, let's run it for a number of random_states and then take an average of errors."
   ]
  },
  {
   "cell_type": "code",
   "execution_count": 123,
   "metadata": {},
   "outputs": [
    {
     "data": {
      "text/plain": [
       "1.835129140307776"
      ]
     },
     "execution_count": 123,
     "metadata": {},
     "output_type": "execute_result"
    }
   ],
   "source": [
    "use_cols = ['hour', 'month', 'is_weekend']\n",
    "\n",
    "from sklearn.svm import SVR\n",
    "errors = []\n",
    "for i in range(64):\n",
    "    X_train, X_test, y_train, y_test = train_test_split(\n",
    "        X[use_cols], y, test_size=0.33, random_state=i)\n",
    "    \n",
    "    X_train_dum = pd.get_dummies(X_train.astype('category'))\n",
    "    reg = SVR().fit(X_train_dum, y_train)\n",
    "    \n",
    "    X_test_dum = pd.get_dummies(X_test.astype('category'))\n",
    "    y_pred = reg.predict(X_test_dum)\n",
    "    y_pred = y_pred.clip(min=0) # make sure no negative predictions are generated\n",
    "    \n",
    "    msre = mean_squared_error(y_test, y_pred, squared=False)\n",
    "    errors.append(msre)\n",
    "    \n",
    "np.mean(errors)"
   ]
  },
  {
   "cell_type": "markdown",
   "metadata": {},
   "source": [
    "### TODO:\n",
    "\n",
    "Let's try to generate a few sample data-points and verify the object count, which the model predicts to see if it all makes sense."
   ]
  },
  {
   "cell_type": "code",
   "execution_count": 124,
   "metadata": {},
   "outputs": [
    {
     "data": {
      "text/html": [
       "<div>\n",
       "<style scoped>\n",
       "    .dataframe tbody tr th:only-of-type {\n",
       "        vertical-align: middle;\n",
       "    }\n",
       "\n",
       "    .dataframe tbody tr th {\n",
       "        vertical-align: top;\n",
       "    }\n",
       "\n",
       "    .dataframe thead th {\n",
       "        text-align: right;\n",
       "    }\n",
       "</style>\n",
       "<table border=\"1\" class=\"dataframe\">\n",
       "  <thead>\n",
       "    <tr style=\"text-align: right;\">\n",
       "      <th></th>\n",
       "      <th>hour</th>\n",
       "      <th>month</th>\n",
       "      <th>is_weekend</th>\n",
       "    </tr>\n",
       "  </thead>\n",
       "  <tbody>\n",
       "    <tr>\n",
       "      <th>26</th>\n",
       "      <td>12</td>\n",
       "      <td>9</td>\n",
       "      <td>0</td>\n",
       "    </tr>\n",
       "    <tr>\n",
       "      <th>1153</th>\n",
       "      <td>10</td>\n",
       "      <td>12</td>\n",
       "      <td>1</td>\n",
       "    </tr>\n",
       "  </tbody>\n",
       "</table>\n",
       "</div>"
      ],
      "text/plain": [
       "      hour  month  is_weekend\n",
       "26      12      9           0\n",
       "1153    10     12           1"
      ]
     },
     "execution_count": 124,
     "metadata": {},
     "output_type": "execute_result"
    }
   ],
   "source": [
    "X_test.head(2)"
   ]
  },
  {
   "cell_type": "code",
   "execution_count": 125,
   "metadata": {},
   "outputs": [
    {
     "data": {
      "text/plain": [
       "array([1.9696779])"
      ]
     },
     "execution_count": 125,
     "metadata": {},
     "output_type": "execute_result"
    }
   ],
   "source": [
    "use_cols = ['hour', 'month', 'is_weekend']\n",
    "X_train, X_test, y_train, y_test = train_test_split(\n",
    "    X[use_cols], y, test_size=0.33, random_state=41)\n",
    "reg = SVR().fit(X_train, y_train)\n",
    "\n",
    "points = pd.DataFrame([{'hour': 8, 'month': 9, 'is_weekend': 1}])\n",
    "y_pred = reg.predict(points)\n",
    "\n",
    "y_pred"
   ]
  },
  {
   "cell_type": "markdown",
   "metadata": {},
   "source": [
    "### TODO: \n",
    "\n",
    "Define Keras NN and test errors"
   ]
  },
  {
   "cell_type": "markdown",
   "metadata": {},
   "source": [
    "### TODO:\n",
    "\n",
    "Define probabilistic model and test errors and uncertainty"
   ]
  },
  {
   "cell_type": "markdown",
   "metadata": {},
   "source": [
    "### Bring weather data"
   ]
  },
  {
   "cell_type": "code",
   "execution_count": 78,
   "metadata": {},
   "outputs": [
    {
     "data": {
      "text/html": [
       "<div>\n",
       "<style scoped>\n",
       "    .dataframe tbody tr th:only-of-type {\n",
       "        vertical-align: middle;\n",
       "    }\n",
       "\n",
       "    .dataframe tbody tr th {\n",
       "        vertical-align: top;\n",
       "    }\n",
       "\n",
       "    .dataframe thead th {\n",
       "        text-align: right;\n",
       "    }\n",
       "</style>\n",
       "<table border=\"1\" class=\"dataframe\">\n",
       "  <thead>\n",
       "    <tr style=\"text-align: right;\">\n",
       "      <th></th>\n",
       "      <th>ts</th>\n",
       "      <th>dt</th>\n",
       "      <th>cur__summary</th>\n",
       "      <th>cur__precipIntensity</th>\n",
       "      <th>cur__precipProbability</th>\n",
       "      <th>cur__precipType</th>\n",
       "      <th>cur__temperature</th>\n",
       "      <th>cur__apparentTemperature</th>\n",
       "      <th>cur__humidity</th>\n",
       "      <th>cur__windSpeed</th>\n",
       "      <th>cur__windGust</th>\n",
       "      <th>cur__windBearing</th>\n",
       "      <th>cur__cloudCover</th>\n",
       "      <th>cur__uvIndex</th>\n",
       "      <th>cur__visibility</th>\n",
       "      <th>daily__summary</th>\n",
       "      <th>daily__sunriseTime</th>\n",
       "      <th>daily__sunsetTime</th>\n",
       "      <th>daily__temperatureHigh</th>\n",
       "      <th>daily__temperatureLow</th>\n",
       "    </tr>\n",
       "  </thead>\n",
       "  <tbody>\n",
       "    <tr>\n",
       "      <th>0</th>\n",
       "      <td>1567985400</td>\n",
       "      <td>2019-09-09 00:30:00</td>\n",
       "      <td>Possible Light Rain</td>\n",
       "      <td>0.7929</td>\n",
       "      <td>0.47</td>\n",
       "      <td>rain</td>\n",
       "      <td>14.06</td>\n",
       "      <td>14.08</td>\n",
       "      <td>0.96</td>\n",
       "      <td>21.30</td>\n",
       "      <td>35.13</td>\n",
       "      <td>241</td>\n",
       "      <td>0.99</td>\n",
       "      <td>0</td>\n",
       "      <td>10.796</td>\n",
       "      <td>Possible drizzle in the morning.</td>\n",
       "      <td>1568008740</td>\n",
       "      <td>1568055900</td>\n",
       "      <td>16.6</td>\n",
       "      <td>7.01</td>\n",
       "    </tr>\n",
       "    <tr>\n",
       "      <th>1</th>\n",
       "      <td>1567989000</td>\n",
       "      <td>2019-09-09 01:30:00</td>\n",
       "      <td>Possible Light Rain</td>\n",
       "      <td>0.8310</td>\n",
       "      <td>0.45</td>\n",
       "      <td>rain</td>\n",
       "      <td>13.99</td>\n",
       "      <td>13.99</td>\n",
       "      <td>0.93</td>\n",
       "      <td>22.49</td>\n",
       "      <td>35.87</td>\n",
       "      <td>215</td>\n",
       "      <td>0.96</td>\n",
       "      <td>0</td>\n",
       "      <td>10.945</td>\n",
       "      <td>Possible drizzle in the morning.</td>\n",
       "      <td>1568008740</td>\n",
       "      <td>1568055900</td>\n",
       "      <td>16.6</td>\n",
       "      <td>7.01</td>\n",
       "    </tr>\n",
       "  </tbody>\n",
       "</table>\n",
       "</div>"
      ],
      "text/plain": [
       "           ts                  dt         cur__summary  cur__precipIntensity  cur__precipProbability cur__precipType  cur__temperature  cur__apparentTemperature  cur__humidity  cur__windSpeed  cur__windGust  cur__windBearing  cur__cloudCover  cur__uvIndex  cur__visibility                    daily__summary  daily__sunriseTime  daily__sunsetTime  daily__temperatureHigh  daily__temperatureLow\n",
       "0  1567985400 2019-09-09 00:30:00  Possible Light Rain                0.7929                    0.47            rain             14.06                     14.08           0.96           21.30          35.13               241             0.99             0           10.796  Possible drizzle in the morning.          1568008740         1568055900                    16.6                   7.01\n",
       "1  1567989000 2019-09-09 01:30:00  Possible Light Rain                0.8310                    0.45            rain             13.99                     13.99           0.93           22.49          35.87               215             0.96             0           10.945  Possible drizzle in the morning.          1568008740         1568055900                    16.6                   7.01"
      ]
     },
     "execution_count": 78,
     "metadata": {},
     "output_type": "execute_result"
    }
   ],
   "source": [
    "# bring weather data\n",
    "weather_df = pd.read_csv('dark_sky_data_2019-09-09_2019-12-26.csv')\n",
    "weather_df['dt'] = pd.to_datetime(weather_df['dt'])\n",
    "weather_df.head(2)"
   ]
  },
  {
   "cell_type": "code",
   "execution_count": 126,
   "metadata": {},
   "outputs": [
    {
     "data": {
      "text/html": [
       "<div>\n",
       "<style scoped>\n",
       "    .dataframe tbody tr th:only-of-type {\n",
       "        vertical-align: middle;\n",
       "    }\n",
       "\n",
       "    .dataframe tbody tr th {\n",
       "        vertical-align: top;\n",
       "    }\n",
       "\n",
       "    .dataframe thead th {\n",
       "        text-align: right;\n",
       "    }\n",
       "</style>\n",
       "<table border=\"1\" class=\"dataframe\">\n",
       "  <thead>\n",
       "    <tr style=\"text-align: right;\">\n",
       "      <th></th>\n",
       "      <th>time_interval</th>\n",
       "      <th>object_count</th>\n",
       "      <th>hour</th>\n",
       "      <th>week</th>\n",
       "      <th>week_in_month</th>\n",
       "      <th>month</th>\n",
       "      <th>day_of_week</th>\n",
       "      <th>is_weekend</th>\n",
       "      <th>time_interval-60min</th>\n",
       "    </tr>\n",
       "  </thead>\n",
       "  <tbody>\n",
       "    <tr>\n",
       "      <th>0</th>\n",
       "      <td>2019-09-09 08:00:00</td>\n",
       "      <td>5</td>\n",
       "      <td>8</td>\n",
       "      <td>37</td>\n",
       "      <td>2</td>\n",
       "      <td>9</td>\n",
       "      <td>0</td>\n",
       "      <td>0</td>\n",
       "      <td>2019-09-09 07:00:00</td>\n",
       "    </tr>\n",
       "    <tr>\n",
       "      <th>1</th>\n",
       "      <td>2019-09-09 10:00:00</td>\n",
       "      <td>1</td>\n",
       "      <td>10</td>\n",
       "      <td>37</td>\n",
       "      <td>2</td>\n",
       "      <td>9</td>\n",
       "      <td>0</td>\n",
       "      <td>0</td>\n",
       "      <td>2019-09-09 09:00:00</td>\n",
       "    </tr>\n",
       "  </tbody>\n",
       "</table>\n",
       "</div>"
      ],
      "text/plain": [
       "        time_interval  object_count  hour  week  week_in_month  month  day_of_week  is_weekend time_interval-60min\n",
       "0 2019-09-09 08:00:00             5     8    37              2      9            0           0 2019-09-09 07:00:00\n",
       "1 2019-09-09 10:00:00             1    10    37              2      9            0           0 2019-09-09 09:00:00"
      ]
     },
     "execution_count": 126,
     "metadata": {},
     "output_type": "execute_result"
    }
   ],
   "source": [
    "# subtract 30 minutes from the time interval to match with the weather data\n",
    "resampled['time_interval-30min'] = resampled['time_interval'] - pd.Timedelta(minutes=30)\n",
    "resampled.head(2)"
   ]
  },
  {
   "cell_type": "code",
   "execution_count": 127,
   "metadata": {},
   "outputs": [
    {
     "data": {
      "text/plain": [
       "(1303, 9)"
      ]
     },
     "execution_count": 127,
     "metadata": {},
     "output_type": "execute_result"
    }
   ],
   "source": [
    "resampled.shape "
   ]
  },
  {
   "cell_type": "code",
   "execution_count": 129,
   "metadata": {},
   "outputs": [
    {
     "data": {
      "text/plain": [
       "(0, 29)"
      ]
     },
     "execution_count": 129,
     "metadata": {},
     "output_type": "execute_result"
    }
   ],
   "source": [
    "# merge results with weather data\n",
    "merged = resampled.merge(weather_df, left_on='time_interval-30min', right_on='dt', how='inner')\n",
    "merged.shape"
   ]
  },
  {
   "cell_type": "code",
   "execution_count": 82,
   "metadata": {},
   "outputs": [
    {
     "data": {
      "text/html": [
       "<div>\n",
       "<style scoped>\n",
       "    .dataframe tbody tr th:only-of-type {\n",
       "        vertical-align: middle;\n",
       "    }\n",
       "\n",
       "    .dataframe tbody tr th {\n",
       "        vertical-align: top;\n",
       "    }\n",
       "\n",
       "    .dataframe thead th {\n",
       "        text-align: right;\n",
       "    }\n",
       "</style>\n",
       "<table border=\"1\" class=\"dataframe\">\n",
       "  <thead>\n",
       "    <tr style=\"text-align: right;\">\n",
       "      <th></th>\n",
       "      <th>cur__temperature</th>\n",
       "      <th>cur__precipProbability</th>\n",
       "      <th>day_of_week</th>\n",
       "      <th>hour</th>\n",
       "      <th>object_count</th>\n",
       "    </tr>\n",
       "  </thead>\n",
       "  <tbody>\n",
       "    <tr>\n",
       "      <th>cur__temperature</th>\n",
       "      <td>1.000000</td>\n",
       "      <td>0.133898</td>\n",
       "      <td>-0.030028</td>\n",
       "      <td>0.152799</td>\n",
       "      <td>0.201575</td>\n",
       "    </tr>\n",
       "    <tr>\n",
       "      <th>cur__precipProbability</th>\n",
       "      <td>0.133898</td>\n",
       "      <td>1.000000</td>\n",
       "      <td>0.000422</td>\n",
       "      <td>0.053601</td>\n",
       "      <td>-0.084803</td>\n",
       "    </tr>\n",
       "    <tr>\n",
       "      <th>day_of_week</th>\n",
       "      <td>-0.030028</td>\n",
       "      <td>0.000422</td>\n",
       "      <td>1.000000</td>\n",
       "      <td>-0.004937</td>\n",
       "      <td>0.071600</td>\n",
       "    </tr>\n",
       "    <tr>\n",
       "      <th>hour</th>\n",
       "      <td>0.152799</td>\n",
       "      <td>0.053601</td>\n",
       "      <td>-0.004937</td>\n",
       "      <td>1.000000</td>\n",
       "      <td>0.183218</td>\n",
       "    </tr>\n",
       "    <tr>\n",
       "      <th>object_count</th>\n",
       "      <td>0.201575</td>\n",
       "      <td>-0.084803</td>\n",
       "      <td>0.071600</td>\n",
       "      <td>0.183218</td>\n",
       "      <td>1.000000</td>\n",
       "    </tr>\n",
       "  </tbody>\n",
       "</table>\n",
       "</div>"
      ],
      "text/plain": [
       "                        cur__temperature  cur__precipProbability  day_of_week      hour  object_count\n",
       "cur__temperature                1.000000                0.133898    -0.030028  0.152799      0.201575\n",
       "cur__precipProbability          0.133898                1.000000     0.000422  0.053601     -0.084803\n",
       "day_of_week                    -0.030028                0.000422     1.000000 -0.004937      0.071600\n",
       "hour                            0.152799                0.053601    -0.004937  1.000000      0.183218\n",
       "object_count                    0.201575               -0.084803     0.071600  0.183218      1.000000"
      ]
     },
     "execution_count": 82,
     "metadata": {},
     "output_type": "execute_result"
    }
   ],
   "source": [
    "# verify correlations between features\n",
    "merged[['cur__temperature', 'cur__precipProbability', 'day_of_week', 'hour', 'object_count']].corr()"
   ]
  },
  {
   "cell_type": "code",
   "execution_count": 84,
   "metadata": {},
   "outputs": [],
   "source": [
    "merged.to_csv('Person_Hourly_preds_with_DarkSky_data.csv', index=False)"
   ]
  },
  {
   "cell_type": "markdown",
   "metadata": {},
   "source": [
    "### Run sklearn predictions with weather data"
   ]
  },
  {
   "cell_type": "code",
   "execution_count": 85,
   "metadata": {},
   "outputs": [
    {
     "data": {
      "text/plain": [
       "1.1799485846104163"
      ]
     },
     "execution_count": 85,
     "metadata": {},
     "output_type": "execute_result"
    }
   ],
   "source": [
    "X = merged[['hour', 'day_of_week', 'is_weekend', 'month', 'cur__temperature', 'cur__precipProbability', \n",
    "            'cur__cloudCover', 'cur__summary', 'cur__precipType', 'cur__windSpeed', 'cur__windGust']]\n",
    "y = merged['object_count']\n",
    "\n",
    "###### REMOVE OUTLIERS ######\n",
    "\n",
    "z = np.abs(stats.zscore(y))\n",
    "threshold = 3\n",
    "outliers_idx = np.where(z > threshold)[0]\n",
    "y = y[z < 3]\n",
    "X = X[z < 3]\n",
    "\n",
    "###### SPLIT DATASET INTO TRAIN/TEST ######\n",
    "\n",
    "X_train, X_test, y_train, y_test = train_test_split(\n",
    "    X, y, test_size=0.33, random_state=42)\n",
    "num_cols = ['cur__temperature', 'cur__precipProbability']\n",
    "cat_cols = ['hour', 'day_of_week', 'is_weekend', 'month']\n",
    "\n",
    "###### PREP TRAIN DATA ######\n",
    "\n",
    "# scale numerical features\n",
    "from sklearn.preprocessing import StandardScaler\n",
    "numerical_features = X_train[num_cols]\n",
    "scaler = StandardScaler()\n",
    "scaler.fit(numerical_features)\n",
    "numerical_features_scaled = pd.DataFrame(scaler.transform(numerical_features), columns=num_cols)\n",
    "# make dummies from categorical features\n",
    "cat_features = X_train[cat_cols].astype('category')\n",
    "cat_features_dum = pd.get_dummies(cat_features).reset_index(drop=True)\n",
    "# concat numerical and dummy features\n",
    "X_train_concat = pd.merge(numerical_features_scaled, cat_features_dum, left_index=True, right_index=True)\n",
    "\n",
    "###### PREP TEST DATA ######\n",
    "\n",
    "numerical_features = X_test[num_cols]\n",
    "numerical_features_scaled = pd.DataFrame(scaler.transform(numerical_features), columns=num_cols)\n",
    "# make dummies from categorical features\n",
    "cat_features = X_test[cat_cols].astype('category')\n",
    "cat_features_dum = pd.get_dummies(cat_features).reset_index(drop=True)\n",
    "# concat numerical and dummy features\n",
    "X_test_concat = pd.merge(numerical_features_scaled, cat_features_dum, left_index=True, right_index=True)\n",
    "\n",
    "###### TRAIN MODEL / VERIFY ERROR ######\n",
    "\n",
    "from sklearn.svm import SVR\n",
    "reg = SVR().fit(X_train_concat, y_train)\n",
    "y_pred = reg.predict(X_test_concat)\n",
    "y_pred = y_pred.clip(min=0)\n",
    "mean_squared_error(y_test, y_pred, squared=False)"
   ]
  },
  {
   "cell_type": "markdown",
   "metadata": {},
   "source": [
    "### Conclusion\n",
    "\n",
    "The Machine Learning model is a little bit better than just a crude averages model, however it's not that much better (only a fraction). I think that this will improve when more data is collected.\n",
    "\n",
    "We should always strive for a simpler solution though, so at this stage choosing plain historical average solution seems to be a better option.\n",
    "\n",
    "Next, we can try a more complex NN model to see if we can decrease the error rate further. Then we can explore a probabilistic model, which should be able to tell us where the uncertainty occurs and we can think about further improvements then.\n",
    "\n",
    "In terms of probabilistic models, we can try 2 approaches:\n",
    "- Poission likelyhood\n",
    "- Exponential likelyhood\n",
    "\n",
    "Both have their merits and need to be tried first."
   ]
  },
  {
   "cell_type": "code",
   "execution_count": null,
   "metadata": {},
   "outputs": [],
   "source": []
  }
 ],
 "metadata": {
  "kernelspec": {
   "display_name": "Python 3",
   "language": "python",
   "name": "python3"
  },
  "language_info": {
   "codemirror_mode": {
    "name": "ipython",
    "version": 3
   },
   "file_extension": ".py",
   "mimetype": "text/x-python",
   "name": "python",
   "nbconvert_exporter": "python",
   "pygments_lexer": "ipython3",
   "version": "3.7.0"
  }
 },
 "nbformat": 4,
 "nbformat_minor": 4
}
