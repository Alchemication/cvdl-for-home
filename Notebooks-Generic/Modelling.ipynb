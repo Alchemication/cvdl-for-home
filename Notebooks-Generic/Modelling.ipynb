{
 "cells": [
  {
   "cell_type": "code",
   "execution_count": 405,
   "metadata": {},
   "outputs": [],
   "source": [
    "from datetime import datetime\n",
    "import numpy as np\n",
    "import matplotlib.pyplot as plt\n",
    "import pandas as pd\n",
    "from pylab import rcParams\n",
    "from tqdm import *\n",
    "import seaborn as sns\n",
    "import pymc3 as pm\n",
    "import pylab as pb\n",
    "sns.set_style('whitegrid')\n",
    "%matplotlib inline\n",
    "from scipy import stats\n",
    "from sklearn.metrics import accuracy_score\n",
    "\n",
    "pd.set_option('display.max_rows', 500)\n",
    "pd.set_option('display.max_columns', 500)\n",
    "pd.set_option('display.width', 1000)"
   ]
  },
  {
   "cell_type": "code",
   "execution_count": 212,
   "metadata": {},
   "outputs": [],
   "source": [
    "df = pd.read_csv('Person_Hourly_preds_with_DarkSky_data.csv')\n",
    "df.head(2)\n",
    "\n",
    "# calculate day length in hours\n",
    "df['daily__sunriseTime'] = pd.to_datetime(df['daily__sunriseTime'], unit='s')\n",
    "df['daily__sunsetTime'] = pd.to_datetime(df['daily__sunsetTime'], unit='s')\n",
    "df['day_length'] = (df['daily__sunsetTime'] - df['daily__sunriseTime']).astype('timedelta64[h]')\n",
    "\n",
    "use_cols = ['dt', 'object_count', 'hour', 'week_in_month', \n",
    "            'month', 'day_of_week', 'is_weekend', \n",
    "            'cur__precipIntensity', 'cur__precipProbability', \n",
    "            'cur__temperature', 'cur__apparentTemperature',\n",
    "            'cur__windSpeed', 'cur__windGust', 'cur__cloudCover', \n",
    "            'day_length', 'daily__temperatureHigh', \n",
    "            'daily__temperatureLow']\n",
    "\n",
    "df = df[use_cols].copy()"
   ]
  },
  {
   "cell_type": "code",
   "execution_count": 213,
   "metadata": {},
   "outputs": [
    {
     "data": {
      "image/png": "[encoded data removed]",
      "text/plain": [
       "<Figure size 720x288 with 1 Axes>"
      ]
     },
     "metadata": {
      "needs_background": "light"
     },
     "output_type": "display_data"
    }
   ],
   "source": [
    "df[df.object_count != 0].object_count.value_counts().plot(figsize=(10, 4), kind='bar');"
   ]
  },
  {
   "cell_type": "code",
   "execution_count": 214,
   "metadata": {},
   "outputs": [
    {
     "data": {
      "text/plain": [
       "1.1607828089025327"
      ]
     },
     "execution_count": 214,
     "metadata": {},
     "output_type": "execute_result"
    }
   ],
   "source": [
    "df['object_count'].mean()"
   ]
  },
  {
   "cell_type": "code",
   "execution_count": 215,
   "metadata": {},
   "outputs": [
    {
     "data": {
      "text/plain": [
       "1.9470566400902949"
      ]
     },
     "execution_count": 215,
     "metadata": {},
     "output_type": "execute_result"
    }
   ],
   "source": [
    "df['object_count'].std()"
   ]
  },
  {
   "cell_type": "code",
   "execution_count": 216,
   "metadata": {},
   "outputs": [
    {
     "data": {
      "text/plain": [
       "hour\n",
       "0     0.018519\n",
       "1     0.009259\n",
       "2     0.027778\n",
       "3     0.000000\n",
       "4     0.000000\n",
       "5     0.000000\n",
       "6     0.509259\n",
       "7     0.844037\n",
       "8     0.899083\n",
       "9     2.678899\n",
       "10    1.486239\n",
       "11    2.568807\n",
       "12    2.027523\n",
       "13    2.633028\n",
       "14    2.229358\n",
       "15    2.064220\n",
       "16    2.321101\n",
       "17    2.311927\n",
       "18    2.000000\n",
       "19    1.651376\n",
       "20    0.816514\n",
       "21    0.509259\n",
       "22    0.101852\n",
       "23    0.055556\n",
       "Name: object_count, dtype: float64"
      ]
     },
     "execution_count": 216,
     "metadata": {},
     "output_type": "execute_result"
    }
   ],
   "source": [
    "df.groupby('hour')['object_count'].mean()"
   ]
  },
  {
   "cell_type": "code",
   "execution_count": 217,
   "metadata": {},
   "outputs": [
    {
     "data": {
      "text/plain": [
       "hour\n",
       "0     0.135445\n",
       "1     0.096225\n",
       "2     0.165102\n",
       "3     0.000000\n",
       "4     0.000000\n",
       "5     0.000000\n",
       "6     1.072122\n",
       "7     1.115333\n",
       "8     1.088194\n",
       "9     1.990164\n",
       "10    1.878803\n",
       "11    2.229296\n",
       "12    2.258559\n",
       "13    2.551908\n",
       "14    2.110964\n",
       "15    2.073980\n",
       "16    2.376119\n",
       "17    3.140822\n",
       "18    2.325383\n",
       "19    2.510630\n",
       "20    1.292178\n",
       "21    1.218973\n",
       "22    0.360161\n",
       "23    0.230129\n",
       "Name: object_count, dtype: float64"
      ]
     },
     "execution_count": 217,
     "metadata": {},
     "output_type": "execute_result"
    }
   ],
   "source": [
    "df.groupby('hour')['object_count'].std()"
   ]
  },
  {
   "cell_type": "code",
   "execution_count": 218,
   "metadata": {},
   "outputs": [],
   "source": [
    "use_cols = ['hour', 'week_in_month', 'day_of_week', 'is_weekend',\n",
    "           'cur__precipIntensity', 'cur__precipProbability', 'cur__temperature',\n",
    "           'cur__windSpeed', 'cur__windGust', 'cur__cloudCover', 'day_length',\n",
    "           'daily__temperatureHigh', 'daily__temperatureLow', 'object_count']\n",
    "X = df[use_cols].values\n",
    "Y = df['object_count'].values[:, None]"
   ]
  },
  {
   "cell_type": "code",
   "execution_count": 219,
   "metadata": {},
   "outputs": [
    {
     "data": {
      "text/plain": [
       "1.9466830323654527"
      ]
     },
     "execution_count": 219,
     "metadata": {},
     "output_type": "execute_result"
    }
   ],
   "source": [
    "Y.std()"
   ]
  },
  {
   "cell_type": "code",
   "execution_count": 220,
   "metadata": {},
   "outputs": [
    {
     "data": {
      "text/plain": [
       "1.1607828089025327"
      ]
     },
     "execution_count": 220,
     "metadata": {},
     "output_type": "execute_result"
    }
   ],
   "source": [
    "Y.mean()"
   ]
  },
  {
   "cell_type": "code",
   "execution_count": 13,
   "metadata": {},
   "outputs": [
    {
     "data": {
      "text/html": [
       "<div>\n",
       "<style scoped>\n",
       "    .dataframe tbody tr th:only-of-type {\n",
       "        vertical-align: middle;\n",
       "    }\n",
       "\n",
       "    .dataframe tbody tr th {\n",
       "        vertical-align: top;\n",
       "    }\n",
       "\n",
       "    .dataframe thead th {\n",
       "        text-align: right;\n",
       "    }\n",
       "</style>\n",
       "<table border=\"1\" class=\"dataframe\">\n",
       "  <thead>\n",
       "    <tr style=\"text-align: right;\">\n",
       "      <th></th>\n",
       "      <th>hour</th>\n",
       "      <th>week_in_month</th>\n",
       "      <th>day_of_week</th>\n",
       "      <th>is_weekend</th>\n",
       "      <th>cur__precipIntensity</th>\n",
       "      <th>cur__precipProbability</th>\n",
       "      <th>cur__temperature</th>\n",
       "      <th>cur__windSpeed</th>\n",
       "      <th>cur__windGust</th>\n",
       "      <th>cur__cloudCover</th>\n",
       "      <th>day_length</th>\n",
       "      <th>daily__temperatureHigh</th>\n",
       "      <th>daily__temperatureLow</th>\n",
       "      <th>object_count</th>\n",
       "    </tr>\n",
       "  </thead>\n",
       "  <tbody>\n",
       "    <tr>\n",
       "      <th>0</th>\n",
       "      <td>7</td>\n",
       "      <td>2</td>\n",
       "      <td>0</td>\n",
       "      <td>0</td>\n",
       "      <td>0.01</td>\n",
       "      <td>0.08</td>\n",
       "      <td>11.30</td>\n",
       "      <td>26.13</td>\n",
       "      <td>43.99</td>\n",
       "      <td>0.43</td>\n",
       "      <td>13.0</td>\n",
       "      <td>16.6</td>\n",
       "      <td>7.01</td>\n",
       "      <td>2</td>\n",
       "    </tr>\n",
       "    <tr>\n",
       "      <th>1</th>\n",
       "      <td>8</td>\n",
       "      <td>2</td>\n",
       "      <td>0</td>\n",
       "      <td>0</td>\n",
       "      <td>0.00</td>\n",
       "      <td>0.00</td>\n",
       "      <td>11.37</td>\n",
       "      <td>26.73</td>\n",
       "      <td>43.38</td>\n",
       "      <td>0.26</td>\n",
       "      <td>13.0</td>\n",
       "      <td>16.6</td>\n",
       "      <td>7.01</td>\n",
       "      <td>1</td>\n",
       "    </tr>\n",
       "  </tbody>\n",
       "</table>\n",
       "</div>"
      ],
      "text/plain": [
       "   hour  week_in_month  day_of_week  is_weekend  cur__precipIntensity  cur__precipProbability  cur__temperature  cur__windSpeed  cur__windGust  cur__cloudCover  day_length  daily__temperatureHigh  daily__temperatureLow  object_count\n",
       "0     7              2            0           0                  0.01                    0.08             11.30           26.13          43.99             0.43        13.0                    16.6                   7.01             2\n",
       "1     8              2            0           0                  0.00                    0.00             11.37           26.73          43.38             0.26        13.0                    16.6                   7.01             1"
      ]
     },
     "execution_count": 13,
     "metadata": {},
     "output_type": "execute_result"
    }
   ],
   "source": [
    "df[use_cols].head(2)"
   ]
  },
  {
   "cell_type": "markdown",
   "metadata": {},
   "source": [
    "### PyMC3 simple naive Poisson"
   ]
  },
  {
   "cell_type": "code",
   "execution_count": 17,
   "metadata": {},
   "outputs": [],
   "source": [
    "with pm.Model() as constant_count_model:\n",
    "    \n",
    "    # prior\n",
    "    lambda_prior = pm.Uniform('lambda_prior', 0, 20)\n",
    "\n",
    "    # likelihood\n",
    "    Y_obs = pm.Poisson('Y_obs', mu=lambda_prior, observed=Y)"
   ]
  },
  {
   "cell_type": "code",
   "execution_count": 18,
   "metadata": {},
   "outputs": [
    {
     "name": "stderr",
     "output_type": "stream",
     "text": [
      "Auto-assigning NUTS sampler...\n",
      "Initializing NUTS using jitter+adapt_diag...\n",
      "Multiprocess sampling (2 chains in 6 jobs)\n",
      "NUTS: [lambda_prior]\n",
      "Sampling 2 chains, 0 divergences: 100%|██████████| 6000/6000 [00:01<00:00, 3799.80draws/s]\n"
     ]
    },
    {
     "data": {
      "image/png": "[encoded data removed]",
      "text/plain": [
       "<Figure size 864x144 with 2 Axes>"
      ]
     },
     "metadata": {
      "needs_background": "light"
     },
     "output_type": "display_data"
    }
   ],
   "source": [
    "with constant_count_model:\n",
    "    trace = pm.sample(2000, cores=6, chains=2, tune=1000)\n",
    "    pm.traceplot(trace)\n",
    "    plt.show()"
   ]
  },
  {
   "cell_type": "code",
   "execution_count": 19,
   "metadata": {},
   "outputs": [
    {
     "data": {
      "image/png": "[encoded data removed]",
      "text/plain": [
       "<Figure size 432x288 with 1 Axes>"
      ]
     },
     "metadata": {
      "needs_background": "light"
     },
     "output_type": "display_data"
    }
   ],
   "source": [
    "pm.plot_posterior(trace);"
   ]
  },
  {
   "cell_type": "code",
   "execution_count": 20,
   "metadata": {},
   "outputs": [
    {
     "data": {
      "text/html": [
       "<div>\n",
       "<style scoped>\n",
       "    .dataframe tbody tr th:only-of-type {\n",
       "        vertical-align: middle;\n",
       "    }\n",
       "\n",
       "    .dataframe tbody tr th {\n",
       "        vertical-align: top;\n",
       "    }\n",
       "\n",
       "    .dataframe thead th {\n",
       "        text-align: right;\n",
       "    }\n",
       "</style>\n",
       "<table border=\"1\" class=\"dataframe\">\n",
       "  <thead>\n",
       "    <tr style=\"text-align: right;\">\n",
       "      <th></th>\n",
       "      <th>dt</th>\n",
       "      <th>object_count</th>\n",
       "      <th>hour</th>\n",
       "      <th>week_in_month</th>\n",
       "      <th>month</th>\n",
       "      <th>day_of_week</th>\n",
       "      <th>is_weekend</th>\n",
       "      <th>cur__precipIntensity</th>\n",
       "      <th>cur__precipProbability</th>\n",
       "      <th>cur__temperature</th>\n",
       "      <th>cur__apparentTemperature</th>\n",
       "      <th>cur__windSpeed</th>\n",
       "      <th>cur__windGust</th>\n",
       "      <th>cur__cloudCover</th>\n",
       "      <th>day_length</th>\n",
       "      <th>daily__temperatureHigh</th>\n",
       "      <th>daily__temperatureLow</th>\n",
       "    </tr>\n",
       "  </thead>\n",
       "  <tbody>\n",
       "    <tr>\n",
       "      <th>0</th>\n",
       "      <td>2019-09-09 06:30:00</td>\n",
       "      <td>2</td>\n",
       "      <td>7</td>\n",
       "      <td>2</td>\n",
       "      <td>9</td>\n",
       "      <td>0</td>\n",
       "      <td>0</td>\n",
       "      <td>0.01</td>\n",
       "      <td>0.08</td>\n",
       "      <td>11.30</td>\n",
       "      <td>11.30</td>\n",
       "      <td>26.13</td>\n",
       "      <td>43.99</td>\n",
       "      <td>0.43</td>\n",
       "      <td>13.0</td>\n",
       "      <td>16.6</td>\n",
       "      <td>7.01</td>\n",
       "    </tr>\n",
       "    <tr>\n",
       "      <th>1</th>\n",
       "      <td>2019-09-09 07:30:00</td>\n",
       "      <td>1</td>\n",
       "      <td>8</td>\n",
       "      <td>2</td>\n",
       "      <td>9</td>\n",
       "      <td>0</td>\n",
       "      <td>0</td>\n",
       "      <td>0.00</td>\n",
       "      <td>0.00</td>\n",
       "      <td>11.37</td>\n",
       "      <td>11.37</td>\n",
       "      <td>26.73</td>\n",
       "      <td>43.38</td>\n",
       "      <td>0.26</td>\n",
       "      <td>13.0</td>\n",
       "      <td>16.6</td>\n",
       "      <td>7.01</td>\n",
       "    </tr>\n",
       "  </tbody>\n",
       "</table>\n",
       "</div>"
      ],
      "text/plain": [
       "                    dt  object_count  hour  week_in_month  month  day_of_week  is_weekend  cur__precipIntensity  cur__precipProbability  cur__temperature  cur__apparentTemperature  cur__windSpeed  cur__windGust  cur__cloudCover  day_length  daily__temperatureHigh  daily__temperatureLow\n",
       "0  2019-09-09 06:30:00             2     7              2      9            0           0                  0.01                    0.08             11.30                     11.30           26.13          43.99             0.43        13.0                    16.6                   7.01\n",
       "1  2019-09-09 07:30:00             1     8              2      9            0           0                  0.00                    0.00             11.37                     11.37           26.73          43.38             0.26        13.0                    16.6                   7.01"
      ]
     },
     "execution_count": 20,
     "metadata": {},
     "output_type": "execute_result"
    }
   ],
   "source": [
    "df.head(2)"
   ]
  },
  {
   "cell_type": "code",
   "execution_count": 221,
   "metadata": {},
   "outputs": [],
   "source": [
    "X = df[['hour', 'week_in_month', 'month', 'day_of_week', 'is_weekend', \n",
    "        'cur__precipIntensity', 'cur__precipProbability', 'cur__temperature',\n",
    "        'cur__windSpeed', 'day_length']].values\n",
    "Y = df['object_count'].values[:, None]"
   ]
  },
  {
   "cell_type": "code",
   "execution_count": 222,
   "metadata": {},
   "outputs": [],
   "source": [
    "from sklearn.model_selection import train_test_split\n",
    "X_train, X_test, y_train, y_test = train_test_split(\n",
    "        X, Y, test_size=0.33, random_state=42)"
   ]
  },
  {
   "cell_type": "code",
   "execution_count": 223,
   "metadata": {},
   "outputs": [],
   "source": [
    "# from sklearn.preprocessing import StandardScaler\n",
    "# scaler = StandardScaler()\n",
    "# scaler.fit(X_train)\n",
    "# X_train_scalled = scaler.transform(X_train)"
   ]
  },
  {
   "cell_type": "markdown",
   "metadata": {},
   "source": [
    "### Poisson model"
   ]
  },
  {
   "cell_type": "code",
   "execution_count": 562,
   "metadata": {},
   "outputs": [],
   "source": [
    "# https://towardsdatascience.com/an-illustrated-guide-to-the-poisson-regression-model-50cccba15958\n",
    "import pandas as pd\n",
    "from patsy import dmatrices\n",
    "import numpy as np\n",
    "import statsmodels.api as sm\n",
    "import matplotlib.pyplot as plt"
   ]
  },
  {
   "cell_type": "code",
   "execution_count": 737,
   "metadata": {},
   "outputs": [
    {
     "data": {
      "text/html": [
       "<div>\n",
       "<style scoped>\n",
       "    .dataframe tbody tr th:only-of-type {\n",
       "        vertical-align: middle;\n",
       "    }\n",
       "\n",
       "    .dataframe tbody tr th {\n",
       "        vertical-align: top;\n",
       "    }\n",
       "\n",
       "    .dataframe thead th {\n",
       "        text-align: right;\n",
       "    }\n",
       "</style>\n",
       "<table border=\"1\" class=\"dataframe\">\n",
       "  <thead>\n",
       "    <tr style=\"text-align: right;\">\n",
       "      <th></th>\n",
       "      <th>time_interval</th>\n",
       "      <th>object_count</th>\n",
       "      <th>hour</th>\n",
       "      <th>week</th>\n",
       "      <th>week_in_month</th>\n",
       "      <th>month</th>\n",
       "      <th>day_of_week</th>\n",
       "      <th>is_weekend</th>\n",
       "      <th>time_interval-30min</th>\n",
       "      <th>ts</th>\n",
       "      <th>dt</th>\n",
       "      <th>cur__summary</th>\n",
       "      <th>cur__precipIntensity</th>\n",
       "      <th>cur__precipProbability</th>\n",
       "      <th>cur__precipType</th>\n",
       "      <th>cur__temperature</th>\n",
       "      <th>cur__apparentTemperature</th>\n",
       "      <th>cur__humidity</th>\n",
       "      <th>cur__windSpeed</th>\n",
       "      <th>cur__windGust</th>\n",
       "      <th>cur__windBearing</th>\n",
       "      <th>cur__cloudCover</th>\n",
       "      <th>cur__uvIndex</th>\n",
       "      <th>cur__visibility</th>\n",
       "      <th>daily__summary</th>\n",
       "      <th>daily__sunriseTime</th>\n",
       "      <th>daily__sunsetTime</th>\n",
       "      <th>daily__temperatureHigh</th>\n",
       "      <th>daily__temperatureLow</th>\n",
       "    </tr>\n",
       "  </thead>\n",
       "  <tbody>\n",
       "    <tr>\n",
       "      <th>0</th>\n",
       "      <td>2019-09-09 07:00:00</td>\n",
       "      <td>2</td>\n",
       "      <td>7</td>\n",
       "      <td>37</td>\n",
       "      <td>2</td>\n",
       "      <td>9</td>\n",
       "      <td>0</td>\n",
       "      <td>0</td>\n",
       "      <td>2019-09-09 06:30:00</td>\n",
       "      <td>1568007000</td>\n",
       "      <td>2019-09-09 06:30:00</td>\n",
       "      <td>Partly Cloudy</td>\n",
       "      <td>0.01</td>\n",
       "      <td>0.08</td>\n",
       "      <td>rain</td>\n",
       "      <td>11.30</td>\n",
       "      <td>11.30</td>\n",
       "      <td>0.89</td>\n",
       "      <td>26.13</td>\n",
       "      <td>43.99</td>\n",
       "      <td>329</td>\n",
       "      <td>0.43</td>\n",
       "      <td>0</td>\n",
       "      <td>16.093</td>\n",
       "      <td>Possible drizzle in the morning.</td>\n",
       "      <td>1568008740</td>\n",
       "      <td>1568055900</td>\n",
       "      <td>16.6</td>\n",
       "      <td>7.01</td>\n",
       "    </tr>\n",
       "    <tr>\n",
       "      <th>1</th>\n",
       "      <td>2019-09-09 08:00:00</td>\n",
       "      <td>1</td>\n",
       "      <td>8</td>\n",
       "      <td>37</td>\n",
       "      <td>2</td>\n",
       "      <td>9</td>\n",
       "      <td>0</td>\n",
       "      <td>0</td>\n",
       "      <td>2019-09-09 07:30:00</td>\n",
       "      <td>1568010600</td>\n",
       "      <td>2019-09-09 07:30:00</td>\n",
       "      <td>Clear</td>\n",
       "      <td>0.00</td>\n",
       "      <td>0.00</td>\n",
       "      <td>rain</td>\n",
       "      <td>11.37</td>\n",
       "      <td>11.37</td>\n",
       "      <td>0.86</td>\n",
       "      <td>26.73</td>\n",
       "      <td>43.38</td>\n",
       "      <td>311</td>\n",
       "      <td>0.26</td>\n",
       "      <td>0</td>\n",
       "      <td>16.093</td>\n",
       "      <td>Possible drizzle in the morning.</td>\n",
       "      <td>1568008740</td>\n",
       "      <td>1568055900</td>\n",
       "      <td>16.6</td>\n",
       "      <td>7.01</td>\n",
       "    </tr>\n",
       "  </tbody>\n",
       "</table>\n",
       "</div>"
      ],
      "text/plain": [
       "         time_interval  object_count  hour  week  week_in_month  month  day_of_week  is_weekend  time_interval-30min          ts                   dt   cur__summary  cur__precipIntensity  cur__precipProbability cur__precipType  cur__temperature  cur__apparentTemperature  cur__humidity  cur__windSpeed  cur__windGust  cur__windBearing  cur__cloudCover  cur__uvIndex  cur__visibility                    daily__summary  daily__sunriseTime  daily__sunsetTime  daily__temperatureHigh  daily__temperatureLow\n",
       "0  2019-09-09 07:00:00             2     7    37              2      9            0           0  2019-09-09 06:30:00  1568007000  2019-09-09 06:30:00  Partly Cloudy                  0.01                    0.08            rain             11.30                     11.30           0.89           26.13          43.99               329             0.43             0           16.093  Possible drizzle in the morning.          1568008740         1568055900                    16.6                   7.01\n",
       "1  2019-09-09 08:00:00             1     8    37              2      9            0           0  2019-09-09 07:30:00  1568010600  2019-09-09 07:30:00          Clear                  0.00                    0.00            rain             11.37                     11.37           0.86           26.73          43.38               311             0.26             0           16.093  Possible drizzle in the morning.          1568008740         1568055900                    16.6                   7.01"
      ]
     },
     "execution_count": 737,
     "metadata": {},
     "output_type": "execute_result"
    }
   ],
   "source": [
    "df = pd.read_csv('Person_Hourly_preds_with_DarkSky_data.csv')\n",
    "df.head(2)"
   ]
  },
  {
   "cell_type": "code",
   "execution_count": 738,
   "metadata": {},
   "outputs": [],
   "source": [
    "# remove night hours, as we know these are 99% 0's\n",
    "df = df.loc[(df['hour'] > 4) & (df['hour'] < 23)].copy()"
   ]
  },
  {
   "cell_type": "markdown",
   "metadata": {},
   "source": [
    "### Remove outliers"
   ]
  },
  {
   "cell_type": "code",
   "execution_count": 739,
   "metadata": {},
   "outputs": [
    {
     "data": {
      "text/plain": [
       "0     816\n",
       "1     427\n",
       "2     283\n",
       "3     170\n",
       "4     107\n",
       "5      51\n",
       "6      42\n",
       "7      18\n",
       "9      13\n",
       "8      11\n",
       "10     10\n",
       "11      2\n",
       "14      2\n",
       "16      2\n",
       "17      1\n",
       "12      1\n",
       "13      1\n",
       "20      1\n",
       "Name: object_count, dtype: int64"
      ]
     },
     "execution_count": 739,
     "metadata": {},
     "output_type": "execute_result"
    }
   ],
   "source": [
    "df['object_count'].value_counts()"
   ]
  },
  {
   "cell_type": "code",
   "execution_count": 740,
   "metadata": {},
   "outputs": [
    {
     "data": {
      "image/png": "[encoded data removed]",
      "text/plain": [
       "<Figure size 432x216 with 1 Axes>"
      ]
     },
     "metadata": {
      "needs_background": "light"
     },
     "output_type": "display_data"
    }
   ],
   "source": [
    "# Remove outliers\n",
    "import seaborn as sns\n",
    "rcParams['figure.figsize'] = 6, 3\n",
    "sns.boxplot(x=df['object_count']);\n",
    "plt.show()"
   ]
  },
  {
   "cell_type": "code",
   "execution_count": 741,
   "metadata": {},
   "outputs": [],
   "source": [
    "def subset_by_iqr(df, column, whisker_width=1.5):\n",
    "    \"\"\"Remove outliers from a dataframe by column, including optional \n",
    "       whiskers, removing rows for which the column value are \n",
    "       less than Q1-1.5IQR or greater than Q3+1.5IQR.\n",
    "    Args:\n",
    "        df (`:obj:pd.DataFrame`): A pandas dataframe to subset\n",
    "        column (str): Name of the column to calculate the subset from.\n",
    "        whisker_width (float): Optional, loosen the IQR filter by a\n",
    "                               factor of `whisker_width` * IQR.\n",
    "    Returns:\n",
    "        (`:obj:pd.DataFrame`): Filtered dataframe\n",
    "    \"\"\"\n",
    "    # Calculate Q1, Q2 and IQR\n",
    "    q1 = df[column].quantile(0.25)                 \n",
    "    q3 = df[column].quantile(0.75)\n",
    "    iqr = q3 - q1\n",
    "    # Apply filter with respect to IQR, including optional whiskers\n",
    "    filter = (df[column] >= q1 - whisker_width*iqr) & (df[column] <= q3 + whisker_width*iqr)\n",
    "    return df.loc[filter]                                                     \n",
    "\n",
    "# Example for whiskers = 1.5, as requested by the OP\n",
    "df = subset_by_iqr(df, 'object_count', whisker_width=1.5)"
   ]
  },
  {
   "cell_type": "code",
   "execution_count": 742,
   "metadata": {},
   "outputs": [
    {
     "data": {
      "image/png": "[encoded data removed]",
      "text/plain": [
       "<Figure size 432x216 with 1 Axes>"
      ]
     },
     "metadata": {
      "needs_background": "light"
     },
     "output_type": "display_data"
    }
   ],
   "source": [
    "rcParams['figure.figsize'] = 6, 3\n",
    "sns.boxplot(x=df['object_count']);\n",
    "plt.show()"
   ]
  },
  {
   "cell_type": "code",
   "execution_count": 743,
   "metadata": {},
   "outputs": [
    {
     "data": {
      "text/plain": [
       "(1854, 29)"
      ]
     },
     "execution_count": 743,
     "metadata": {},
     "output_type": "execute_result"
    }
   ],
   "source": [
    "df.shape"
   ]
  },
  {
   "cell_type": "code",
   "execution_count": 744,
   "metadata": {},
   "outputs": [
    {
     "data": {
      "text/plain": [
       "0    816\n",
       "1    427\n",
       "2    283\n",
       "3    170\n",
       "4    107\n",
       "5     51\n",
       "Name: object_count, dtype: int64"
      ]
     },
     "execution_count": 744,
     "metadata": {},
     "output_type": "execute_result"
    }
   ],
   "source": [
    "df['object_count'].value_counts()"
   ]
  },
  {
   "cell_type": "code",
   "execution_count": 745,
   "metadata": {},
   "outputs": [],
   "source": [
    "# calculate day length in hours\n",
    "df['daily__sunriseTime'] = pd.to_datetime(df['daily__sunriseTime'], unit='s')\n",
    "df['daily__sunsetTime'] = pd.to_datetime(df['daily__sunsetTime'], unit='s')\n",
    "df['day_length'] = (df['daily__sunsetTime'] - df['daily__sunriseTime']).astype('timedelta64[h]')\n",
    "\n",
    "use_cols = ['hour', 'month', 'day_of_week', 'is_weekend',\n",
    "           'cur__precipIntensity', 'cur__precipProbability', 'cur__temperature',\n",
    "           'cur__windSpeed', 'cur__windGust', 'cur__cloudCover', 'day_length',\n",
    "           'daily__temperatureHigh', 'daily__temperatureLow', 'object_count']\n",
    "\n",
    "df = df[use_cols]"
   ]
  },
  {
   "cell_type": "code",
   "execution_count": 746,
   "metadata": {},
   "outputs": [],
   "source": [
    "all_cols = ['hour', 'month', 'day_of_week', 'is_weekend', 'cur__precipIntensity', \n",
    "            'cur__precipProbability', 'cur__temperature', 'cur__windSpeed', 'cur__windGust', \n",
    "            'cur__cloudCover', 'day_length', 'daily__temperatureHigh', 'daily__temperatureLow']"
   ]
  },
  {
   "cell_type": "markdown",
   "metadata": {},
   "source": [
    "### Find features correlated with object counts"
   ]
  },
  {
   "cell_type": "code",
   "execution_count": 747,
   "metadata": {},
   "outputs": [
    {
     "data": {
      "image/png": "[encoded data removed]",
      "text/plain": [
       "<Figure size 864x720 with 2 Axes>"
      ]
     },
     "metadata": {
      "needs_background": "light"
     },
     "output_type": "display_data"
    }
   ],
   "source": [
    "# Using Pearson Correlation\n",
    "plt.figure(figsize=(12,10))\n",
    "cor = df.corr()\n",
    "sns.heatmap(cor, annot=True, cmap=plt.cm.Reds)\n",
    "plt.show()"
   ]
  },
  {
   "cell_type": "code",
   "execution_count": 748,
   "metadata": {},
   "outputs": [
    {
     "data": {
      "text/plain": [
       "hour                      0.003158\n",
       "month                     0.121976\n",
       "day_of_week               0.031841\n",
       "is_weekend                0.042735\n",
       "cur__precipIntensity      0.101962\n",
       "cur__precipProbability    0.114269\n",
       "cur__temperature          0.184526\n",
       "cur__windSpeed            0.051519\n",
       "cur__windGust             0.076208\n",
       "cur__cloudCover           0.024807\n",
       "day_length                0.114454\n",
       "daily__temperatureHigh    0.113352\n",
       "daily__temperatureLow     0.079527\n",
       "object_count              1.000000\n",
       "Name: object_count, dtype: float64"
      ]
     },
     "execution_count": 748,
     "metadata": {},
     "output_type": "execute_result"
    }
   ],
   "source": [
    "cor_target = abs(cor[\"object_count\"])\n",
    "cor_target"
   ]
  },
  {
   "cell_type": "code",
   "execution_count": 749,
   "metadata": {},
   "outputs": [
    {
     "data": {
      "text/plain": [
       "month                     0.121976\n",
       "cur__precipIntensity      0.101962\n",
       "cur__precipProbability    0.114269\n",
       "cur__temperature          0.184526\n",
       "cur__windSpeed            0.051519\n",
       "cur__windGust             0.076208\n",
       "day_length                0.114454\n",
       "daily__temperatureHigh    0.113352\n",
       "daily__temperatureLow     0.079527\n",
       "object_count              1.000000\n",
       "Name: object_count, dtype: float64"
      ]
     },
     "execution_count": 749,
     "metadata": {},
     "output_type": "execute_result"
    }
   ],
   "source": [
    "# Selecting higher correlated features\n",
    "relevant_features = cor_target[cor_target>0.05]\n",
    "relevant_features"
   ]
  },
  {
   "cell_type": "code",
   "execution_count": 750,
   "metadata": {},
   "outputs": [
    {
     "name": "stdout",
     "output_type": "stream",
     "text": [
      "                        cur__precipIntensity  cur__precipProbability\n",
      "cur__precipIntensity                1.000000                0.803213\n",
      "cur__precipProbability              0.803213                1.000000\n"
     ]
    }
   ],
   "source": [
    "# Remove correlated features\n",
    "print(df[[\"cur__precipIntensity\",\"cur__precipProbability\"]].corr())"
   ]
  },
  {
   "cell_type": "code",
   "execution_count": 751,
   "metadata": {},
   "outputs": [
    {
     "name": "stdout",
     "output_type": "stream",
     "text": [
      "                  cur__temperature  day_length\n",
      "cur__temperature           1.00000     0.75136\n",
      "day_length                 0.75136     1.00000\n"
     ]
    }
   ],
   "source": [
    "print(df[[\"cur__temperature\",\"day_length\"]].corr())"
   ]
  },
  {
   "cell_type": "code",
   "execution_count": 752,
   "metadata": {},
   "outputs": [
    {
     "name": "stdout",
     "output_type": "stream",
     "text": [
      "                        daily__temperatureHigh  daily__temperatureLow\n",
      "daily__temperatureHigh                1.000000               0.801853\n",
      "daily__temperatureLow                 0.801853               1.000000\n"
     ]
    }
   ],
   "source": [
    "print(df[[\"daily__temperatureHigh\",\"daily__temperatureLow\"]].corr())"
   ]
  },
  {
   "cell_type": "code",
   "execution_count": 753,
   "metadata": {},
   "outputs": [
    {
     "name": "stdout",
     "output_type": "stream",
     "text": [
      "Expr:  object_count ~ hour + month + cur__precipIntensity + cur__precipProbability + cur__temperature + cur__windGust + day_length + daily__temperatureHigh + daily__temperatureLow\n"
     ]
    }
   ],
   "source": [
    "mask = np.random.rand(len(df)) < 0.8\n",
    "df_train = df[mask]\n",
    "df_test = df[~mask]\n",
    "\n",
    "expr = \"\"\"object_count ~ hour + month + cur__precipIntensity + cur__precipProbability + cur__temperature + cur__windGust + day_length + daily__temperatureHigh + daily__temperatureLow\"\"\"\n",
    "print('Expr: ', expr)\n",
    "\n",
    "#Set up the X and y matrices\n",
    "y_train, X_train = dmatrices(expr, df_train, return_type='dataframe')\n",
    "y_test, X_test = dmatrices(expr, df_test, return_type='dataframe')"
   ]
  },
  {
   "cell_type": "code",
   "execution_count": 621,
   "metadata": {},
   "outputs": [
    {
     "name": "stdout",
     "output_type": "stream",
     "text": [
      "Expr:  object_count ~ hour + month + cur__precipIntensity + cur__precipProbability + cur__temperature + cur__windGust + day_length + daily__temperatureHigh + daily__temperatureLow\n",
      "                 Generalized Linear Model Regression Results                  \n",
      "==============================================================================\n",
      "Dep. Variable:           object_count   No. Observations:                 1482\n",
      "Model:                            GLM   Df Residuals:                     1472\n",
      "Model Family:                 Poisson   Df Model:                            9\n",
      "Link Function:                    log   Scale:                          1.0000\n",
      "Method:                          IRLS   Log-Likelihood:                -2198.9\n",
      "Date:                Fri, 17 Jan 2020   Deviance:                       2298.7\n",
      "Time:                        21:40:33   Pearson chi2:                 2.20e+03\n",
      "No. Iterations:                     5                                         \n",
      "Covariance Type:            nonrobust                                         \n",
      "==========================================================================================\n",
      "                             coef    std err          z      P>|z|      [0.025      0.975]\n",
      "------------------------------------------------------------------------------------------\n",
      "Intercept                  3.0529      1.174      2.601      0.009       0.753       5.353\n",
      "hour                      -0.0225      0.005     -4.381      0.000      -0.033      -0.012\n",
      "month                     -0.1513      0.074     -2.040      0.041      -0.297      -0.006\n",
      "cur__precipIntensity      -0.1050      0.108     -0.975      0.330      -0.316       0.106\n",
      "cur__precipProbability    -0.6464      0.215     -3.010      0.003      -1.067      -0.225\n",
      "cur__temperature           0.1992      0.017     11.763      0.000       0.166       0.232\n",
      "cur__windGust             -0.0074      0.001     -4.962      0.000      -0.010      -0.004\n",
      "day_length                -0.0634      0.050     -1.260      0.208      -0.162       0.035\n",
      "daily__temperatureHigh    -0.1585      0.024     -6.611      0.000      -0.205      -0.111\n",
      "daily__temperatureLow     -0.0136      0.011     -1.183      0.237      -0.036       0.009\n",
      "==========================================================================================\n"
     ]
    }
   ],
   "source": [
    "#Using the statsmodels GLM class, train the Poisson regression model on the training data set.\n",
    "poisson_training_results = sm.GLM(y_train, X_train, family=sm.families.Poisson()).fit()\n",
    "\n",
    "#Print the training summary.\n",
    "print(poisson_training_results.summary())"
   ]
  },
  {
   "cell_type": "code",
   "execution_count": null,
   "metadata": {},
   "outputs": [],
   "source": [
    "\n",
    "#Make some predictions on the test data set.\n",
    "poisson_predictions = poisson_training_results.get_prediction(X_test)\n",
    "\n",
    "predictions_summary_frame = poisson_predictions.summary_frame()\n",
    "#print(predictions_summary_frame[:10])\n",
    "\n",
    "predicted_ci_lower = predictions_summary_frame['mean_ci_lower']\n",
    "predicted_ci_upper = predictions_summary_frame['mean_ci_upper']\n",
    "\n",
    "predicted_counts = predictions_summary_frame['mean']\n",
    "actual_counts = y_test['object_count']"
   ]
  },
  {
   "cell_type": "code",
   "execution_count": 593,
   "metadata": {},
   "outputs": [
    {
     "name": "stdout",
     "output_type": "stream",
     "text": [
      "[0.8202332834462853, 0.8954761073769434, 1.215564314133985, 1.5850791276233598, 0.8730603969576066]\n",
      "[1.0, 1.0, 1.0, 2.0, 1.0]\n",
      "[2.0, 3.0, 0.0, 5.0, 0.0]\n",
      "ACC: 0.22857142857142856\n"
     ]
    }
   ],
   "source": [
    "thresh = 0.4\n",
    "predicted_counts_rounded = round(predicted_counts - thresh + 0.5).copy()\n",
    "\n",
    "print(predicted_counts[:5].tolist())\n",
    "print(predicted_counts_rounded[:5].tolist())\n",
    "print(actual_counts[:5].tolist())\n",
    "\n",
    "print('ACC:', accuracy_score(actual_counts, predicted_counts_rounded))"
   ]
  },
  {
   "cell_type": "code",
   "execution_count": 594,
   "metadata": {},
   "outputs": [],
   "source": [
    "results = pd.DataFrame({'pred': predicted_counts, 'pred_rounded': predicted_counts_rounded, 'actual': actual_counts})\n",
    "results['diff'] = results['actual'] - results['pred_rounded']\n",
    "results['diff_abs'] = results['diff'].abs()\n",
    "results['zero'] = 0\n",
    "#results['pred_rounded'].value_counts()"
   ]
  },
  {
   "cell_type": "code",
   "execution_count": 595,
   "metadata": {},
   "outputs": [
    {
     "name": "stdout",
     "output_type": "stream",
     "text": [
      "ACC: 0.4595238095238095\n"
     ]
    }
   ],
   "source": [
    "print('ACC:', accuracy_score(results['actual'], results['zero']))"
   ]
  },
  {
   "cell_type": "code",
   "execution_count": 596,
   "metadata": {},
   "outputs": [
    {
     "data": {
      "text/html": [
       "<div>\n",
       "<style scoped>\n",
       "    .dataframe tbody tr th:only-of-type {\n",
       "        vertical-align: middle;\n",
       "    }\n",
       "\n",
       "    .dataframe tbody tr th {\n",
       "        vertical-align: top;\n",
       "    }\n",
       "\n",
       "    .dataframe thead th {\n",
       "        text-align: right;\n",
       "    }\n",
       "</style>\n",
       "<table border=\"1\" class=\"dataframe\">\n",
       "  <thead>\n",
       "    <tr style=\"text-align: right;\">\n",
       "      <th></th>\n",
       "      <th>pred</th>\n",
       "      <th>pred_rounded</th>\n",
       "      <th>actual</th>\n",
       "      <th>diff</th>\n",
       "      <th>diff_abs</th>\n",
       "      <th>zero</th>\n",
       "    </tr>\n",
       "  </thead>\n",
       "  <tbody>\n",
       "    <tr>\n",
       "      <th>0</th>\n",
       "      <td>0.820233</td>\n",
       "      <td>1.0</td>\n",
       "      <td>2.0</td>\n",
       "      <td>1.0</td>\n",
       "      <td>1.0</td>\n",
       "      <td>0</td>\n",
       "    </tr>\n",
       "    <tr>\n",
       "      <th>2</th>\n",
       "      <td>0.895476</td>\n",
       "      <td>1.0</td>\n",
       "      <td>3.0</td>\n",
       "      <td>2.0</td>\n",
       "      <td>2.0</td>\n",
       "      <td>0</td>\n",
       "    </tr>\n",
       "    <tr>\n",
       "      <th>4</th>\n",
       "      <td>1.215564</td>\n",
       "      <td>1.0</td>\n",
       "      <td>0.0</td>\n",
       "      <td>-1.0</td>\n",
       "      <td>1.0</td>\n",
       "      <td>0</td>\n",
       "    </tr>\n",
       "    <tr>\n",
       "      <th>11</th>\n",
       "      <td>1.585079</td>\n",
       "      <td>2.0</td>\n",
       "      <td>5.0</td>\n",
       "      <td>3.0</td>\n",
       "      <td>3.0</td>\n",
       "      <td>0</td>\n",
       "    </tr>\n",
       "    <tr>\n",
       "      <th>15</th>\n",
       "      <td>0.873060</td>\n",
       "      <td>1.0</td>\n",
       "      <td>0.0</td>\n",
       "      <td>-1.0</td>\n",
       "      <td>1.0</td>\n",
       "      <td>0</td>\n",
       "    </tr>\n",
       "  </tbody>\n",
       "</table>\n",
       "</div>"
      ],
      "text/plain": [
       "        pred  pred_rounded  actual  diff  diff_abs  zero\n",
       "0   0.820233           1.0     2.0   1.0       1.0     0\n",
       "2   0.895476           1.0     3.0   2.0       2.0     0\n",
       "4   1.215564           1.0     0.0  -1.0       1.0     0\n",
       "11  1.585079           2.0     5.0   3.0       3.0     0\n",
       "15  0.873060           1.0     0.0  -1.0       1.0     0"
      ]
     },
     "execution_count": 596,
     "metadata": {},
     "output_type": "execute_result"
    }
   ],
   "source": [
    "results.head()"
   ]
  },
  {
   "cell_type": "code",
   "execution_count": 597,
   "metadata": {},
   "outputs": [
    {
     "data": {
      "text/html": [
       "<div>\n",
       "<style scoped>\n",
       "    .dataframe tbody tr th:only-of-type {\n",
       "        vertical-align: middle;\n",
       "    }\n",
       "\n",
       "    .dataframe tbody tr th {\n",
       "        vertical-align: top;\n",
       "    }\n",
       "\n",
       "    .dataframe thead th {\n",
       "        text-align: right;\n",
       "    }\n",
       "</style>\n",
       "<table border=\"1\" class=\"dataframe\">\n",
       "  <thead>\n",
       "    <tr style=\"text-align: right;\">\n",
       "      <th></th>\n",
       "      <th>pred</th>\n",
       "      <th>pred_rounded</th>\n",
       "      <th>actual</th>\n",
       "      <th>diff</th>\n",
       "      <th>diff_abs</th>\n",
       "      <th>zero</th>\n",
       "      <th>actual_binary</th>\n",
       "      <th>pred_binary</th>\n",
       "    </tr>\n",
       "  </thead>\n",
       "  <tbody>\n",
       "    <tr>\n",
       "      <th>0</th>\n",
       "      <td>0.820233</td>\n",
       "      <td>1.0</td>\n",
       "      <td>2.0</td>\n",
       "      <td>1.0</td>\n",
       "      <td>1.0</td>\n",
       "      <td>0</td>\n",
       "      <td>1</td>\n",
       "      <td>1</td>\n",
       "    </tr>\n",
       "    <tr>\n",
       "      <th>2</th>\n",
       "      <td>0.895476</td>\n",
       "      <td>1.0</td>\n",
       "      <td>3.0</td>\n",
       "      <td>2.0</td>\n",
       "      <td>2.0</td>\n",
       "      <td>0</td>\n",
       "      <td>1</td>\n",
       "      <td>1</td>\n",
       "    </tr>\n",
       "    <tr>\n",
       "      <th>4</th>\n",
       "      <td>1.215564</td>\n",
       "      <td>1.0</td>\n",
       "      <td>0.0</td>\n",
       "      <td>-1.0</td>\n",
       "      <td>1.0</td>\n",
       "      <td>0</td>\n",
       "      <td>0</td>\n",
       "      <td>1</td>\n",
       "    </tr>\n",
       "    <tr>\n",
       "      <th>11</th>\n",
       "      <td>1.585079</td>\n",
       "      <td>2.0</td>\n",
       "      <td>5.0</td>\n",
       "      <td>3.0</td>\n",
       "      <td>3.0</td>\n",
       "      <td>0</td>\n",
       "      <td>1</td>\n",
       "      <td>1</td>\n",
       "    </tr>\n",
       "    <tr>\n",
       "      <th>15</th>\n",
       "      <td>0.873060</td>\n",
       "      <td>1.0</td>\n",
       "      <td>0.0</td>\n",
       "      <td>-1.0</td>\n",
       "      <td>1.0</td>\n",
       "      <td>0</td>\n",
       "      <td>0</td>\n",
       "      <td>1</td>\n",
       "    </tr>\n",
       "  </tbody>\n",
       "</table>\n",
       "</div>"
      ],
      "text/plain": [
       "        pred  pred_rounded  actual  diff  diff_abs  zero  actual_binary  pred_binary\n",
       "0   0.820233           1.0     2.0   1.0       1.0     0              1            1\n",
       "2   0.895476           1.0     3.0   2.0       2.0     0              1            1\n",
       "4   1.215564           1.0     0.0  -1.0       1.0     0              0            1\n",
       "11  1.585079           2.0     5.0   3.0       3.0     0              1            1\n",
       "15  0.873060           1.0     0.0  -1.0       1.0     0              0            1"
      ]
     },
     "execution_count": 597,
     "metadata": {},
     "output_type": "execute_result"
    }
   ],
   "source": [
    "# TODO: Calculate accuracy if object will show or not within given time\n",
    "results['actual_binary'] = (results['actual'] != 0).astype(int)\n",
    "results['pred_binary'] = (results['pred_rounded'] != 0).astype(int)\n",
    "results.head()"
   ]
  },
  {
   "cell_type": "code",
   "execution_count": 598,
   "metadata": {},
   "outputs": [
    {
     "name": "stdout",
     "output_type": "stream",
     "text": [
      "ACC: 0.5404761904761904\n"
     ]
    }
   ],
   "source": [
    "print('ACC:', accuracy_score(results['actual_binary'], results['pred_binary']))"
   ]
  },
  {
   "cell_type": "code",
   "execution_count": 599,
   "metadata": {},
   "outputs": [
    {
     "data": {
      "text/plain": [
       "0.0    193\n",
       "1.0    100\n",
       "2.0     59\n",
       "3.0     35\n",
       "4.0     25\n",
       "5.0      8\n",
       "Name: actual, dtype: int64"
      ]
     },
     "execution_count": 599,
     "metadata": {},
     "output_type": "execute_result"
    }
   ],
   "source": [
    "results['actual'].value_counts()"
   ]
  },
  {
   "cell_type": "code",
   "execution_count": 600,
   "metadata": {},
   "outputs": [
    {
     "data": {
      "text/plain": [
       "1.0    304\n",
       "2.0    110\n",
       "3.0      6\n",
       "Name: pred_rounded, dtype: int64"
      ]
     },
     "execution_count": 600,
     "metadata": {},
     "output_type": "execute_result"
    }
   ],
   "source": [
    "results['pred_rounded'].value_counts()"
   ]
  },
  {
   "cell_type": "code",
   "execution_count": 601,
   "metadata": {},
   "outputs": [
    {
     "data": {
      "image/png": "[encoded data removed]",
      "text/plain": [
       "<Figure size 1152x288 with 1 Axes>"
      ]
     },
     "metadata": {
      "needs_background": "light"
     },
     "output_type": "display_data"
    }
   ],
   "source": [
    "results['pred'].plot();"
   ]
  },
  {
   "cell_type": "markdown",
   "metadata": {},
   "source": [
    "### Observation\n",
    "\n",
    "Model has not learned any zeros, where there should be majority of those"
   ]
  },
  {
   "cell_type": "code",
   "execution_count": 602,
   "metadata": {},
   "outputs": [
    {
     "data": {
      "text/plain": [
       "array([[  0,   0,   0,   0,   0,   0],\n",
       "       [164,  68,  30,  23,  16,   3],\n",
       "       [ 28,  30,  28,  12,   9,   3],\n",
       "       [  1,   2,   1,   0,   0,   2],\n",
       "       [  0,   0,   0,   0,   0,   0],\n",
       "       [  0,   0,   0,   0,   0,   0]])"
      ]
     },
     "execution_count": 602,
     "metadata": {},
     "output_type": "execute_result"
    }
   ],
   "source": [
    "from sklearn.metrics import confusion_matrix\n",
    "confusion_matrix(predicted_counts_rounded, actual_counts)"
   ]
  },
  {
   "cell_type": "code",
   "execution_count": 603,
   "metadata": {},
   "outputs": [
    {
     "data": {
      "text/html": [
       "<div>\n",
       "<style scoped>\n",
       "    .dataframe tbody tr th:only-of-type {\n",
       "        vertical-align: middle;\n",
       "    }\n",
       "\n",
       "    .dataframe tbody tr th {\n",
       "        vertical-align: top;\n",
       "    }\n",
       "\n",
       "    .dataframe thead th {\n",
       "        text-align: right;\n",
       "    }\n",
       "</style>\n",
       "<table border=\"1\" class=\"dataframe\">\n",
       "  <thead>\n",
       "    <tr style=\"text-align: right;\">\n",
       "      <th>Predicted</th>\n",
       "      <th>1.0</th>\n",
       "      <th>2.0</th>\n",
       "      <th>3.0</th>\n",
       "      <th>All</th>\n",
       "    </tr>\n",
       "    <tr>\n",
       "      <th>True</th>\n",
       "      <th></th>\n",
       "      <th></th>\n",
       "      <th></th>\n",
       "      <th></th>\n",
       "    </tr>\n",
       "  </thead>\n",
       "  <tbody>\n",
       "    <tr>\n",
       "      <th>0.0</th>\n",
       "      <td>164</td>\n",
       "      <td>28</td>\n",
       "      <td>1</td>\n",
       "      <td>193</td>\n",
       "    </tr>\n",
       "    <tr>\n",
       "      <th>1.0</th>\n",
       "      <td>68</td>\n",
       "      <td>30</td>\n",
       "      <td>2</td>\n",
       "      <td>100</td>\n",
       "    </tr>\n",
       "    <tr>\n",
       "      <th>2.0</th>\n",
       "      <td>30</td>\n",
       "      <td>28</td>\n",
       "      <td>1</td>\n",
       "      <td>59</td>\n",
       "    </tr>\n",
       "    <tr>\n",
       "      <th>3.0</th>\n",
       "      <td>23</td>\n",
       "      <td>12</td>\n",
       "      <td>0</td>\n",
       "      <td>35</td>\n",
       "    </tr>\n",
       "    <tr>\n",
       "      <th>4.0</th>\n",
       "      <td>16</td>\n",
       "      <td>9</td>\n",
       "      <td>0</td>\n",
       "      <td>25</td>\n",
       "    </tr>\n",
       "    <tr>\n",
       "      <th>5.0</th>\n",
       "      <td>3</td>\n",
       "      <td>3</td>\n",
       "      <td>2</td>\n",
       "      <td>8</td>\n",
       "    </tr>\n",
       "    <tr>\n",
       "      <th>All</th>\n",
       "      <td>304</td>\n",
       "      <td>110</td>\n",
       "      <td>6</td>\n",
       "      <td>420</td>\n",
       "    </tr>\n",
       "  </tbody>\n",
       "</table>\n",
       "</div>"
      ],
      "text/plain": [
       "Predicted  1.0  2.0  3.0  All\n",
       "True                         \n",
       "0.0        164   28    1  193\n",
       "1.0         68   30    2  100\n",
       "2.0         30   28    1   59\n",
       "3.0         23   12    0   35\n",
       "4.0         16    9    0   25\n",
       "5.0          3    3    2    8\n",
       "All        304  110    6  420"
      ]
     },
     "execution_count": 603,
     "metadata": {},
     "output_type": "execute_result"
    }
   ],
   "source": [
    "pd.crosstab(actual_counts, predicted_counts_rounded, rownames=['True'], colnames=['Predicted'], margins=True)"
   ]
  },
  {
   "cell_type": "code",
   "execution_count": 604,
   "metadata": {},
   "outputs": [
    {
     "data": {
      "image/png": "[encoded data removed]",
      "text/plain": [
       "<Figure size 1152x288 with 1 Axes>"
      ]
     },
     "metadata": {
      "needs_background": "light"
     },
     "output_type": "display_data"
    },
    {
     "name": "stdout",
     "output_type": "stream",
     "text": [
      "************************************************************************************************************************\n"
     ]
    }
   ],
   "source": [
    "# Plot the predicted counts versus the actual counts for the test data.\n",
    "# TODO: Plot uncertainty as well\n",
    "from pylab import rcParams\n",
    "rcParams['figure.figsize'] = 16, 4\n",
    "fig = plt.figure()\n",
    "fig.suptitle('Predicted versus actual object counts')\n",
    "predicted, = plt.plot(X_test.index[:40], predicted_counts_rounded[:40], 'ro-', label='Predicted counts', alpha=0.8)\n",
    "actual, = plt.plot(X_test.index[:40], actual_counts[:40], 'g--', label='Actual counts', alpha=0.8)\n",
    "\n",
    "plt.fill_between(X_test.index[:40], predicted_ci_lower[:40], predicted_ci_upper[:40], alpha=0.2, \n",
    "                 label='Prediction uncertainty')\n",
    "\n",
    "plt.legend(handles=[predicted, actual])\n",
    "plt.show();\n",
    "print('*' * 120)"
   ]
  },
  {
   "cell_type": "markdown",
   "metadata": {},
   "source": [
    "### Conclusion\n",
    "\n",
    "Model is not any better than setting all values to zero. The accuracy of the \"Zero\" model is actually higher than the Poisson model. Perhaps different model is required or predicting objects in the 60 minutes time window is not possible and it should be extended to 2 hours."
   ]
  },
  {
   "cell_type": "markdown",
   "metadata": {},
   "source": [
    "### Random Forest"
   ]
  },
  {
   "cell_type": "code",
   "execution_count": 836,
   "metadata": {},
   "outputs": [
    {
     "data": {
      "text/html": [
       "<div>\n",
       "<style scoped>\n",
       "    .dataframe tbody tr th:only-of-type {\n",
       "        vertical-align: middle;\n",
       "    }\n",
       "\n",
       "    .dataframe tbody tr th {\n",
       "        vertical-align: top;\n",
       "    }\n",
       "\n",
       "    .dataframe thead th {\n",
       "        text-align: right;\n",
       "    }\n",
       "</style>\n",
       "<table border=\"1\" class=\"dataframe\">\n",
       "  <thead>\n",
       "    <tr style=\"text-align: right;\">\n",
       "      <th></th>\n",
       "      <th>hour</th>\n",
       "      <th>month</th>\n",
       "      <th>day_of_week</th>\n",
       "      <th>is_weekend</th>\n",
       "      <th>cur__precipIntensity</th>\n",
       "      <th>cur__precipProbability</th>\n",
       "      <th>cur__temperature</th>\n",
       "      <th>cur__windSpeed</th>\n",
       "      <th>cur__windGust</th>\n",
       "      <th>cur__cloudCover</th>\n",
       "      <th>day_length</th>\n",
       "      <th>daily__temperatureHigh</th>\n",
       "      <th>daily__temperatureLow</th>\n",
       "      <th>object_count</th>\n",
       "    </tr>\n",
       "  </thead>\n",
       "  <tbody>\n",
       "    <tr>\n",
       "      <th>0</th>\n",
       "      <td>7</td>\n",
       "      <td>9</td>\n",
       "      <td>0</td>\n",
       "      <td>0</td>\n",
       "      <td>0.0100</td>\n",
       "      <td>0.08</td>\n",
       "      <td>11.30</td>\n",
       "      <td>26.13</td>\n",
       "      <td>43.99</td>\n",
       "      <td>0.43</td>\n",
       "      <td>13.0</td>\n",
       "      <td>16.6</td>\n",
       "      <td>7.01</td>\n",
       "      <td>2</td>\n",
       "    </tr>\n",
       "    <tr>\n",
       "      <th>1</th>\n",
       "      <td>8</td>\n",
       "      <td>9</td>\n",
       "      <td>0</td>\n",
       "      <td>0</td>\n",
       "      <td>0.0000</td>\n",
       "      <td>0.00</td>\n",
       "      <td>11.37</td>\n",
       "      <td>26.73</td>\n",
       "      <td>43.38</td>\n",
       "      <td>0.26</td>\n",
       "      <td>13.0</td>\n",
       "      <td>16.6</td>\n",
       "      <td>7.01</td>\n",
       "      <td>1</td>\n",
       "    </tr>\n",
       "    <tr>\n",
       "      <th>2</th>\n",
       "      <td>9</td>\n",
       "      <td>9</td>\n",
       "      <td>0</td>\n",
       "      <td>0</td>\n",
       "      <td>0.0052</td>\n",
       "      <td>0.07</td>\n",
       "      <td>11.92</td>\n",
       "      <td>28.37</td>\n",
       "      <td>44.96</td>\n",
       "      <td>0.26</td>\n",
       "      <td>13.0</td>\n",
       "      <td>16.6</td>\n",
       "      <td>7.01</td>\n",
       "      <td>3</td>\n",
       "    </tr>\n",
       "    <tr>\n",
       "      <th>3</th>\n",
       "      <td>10</td>\n",
       "      <td>9</td>\n",
       "      <td>0</td>\n",
       "      <td>0</td>\n",
       "      <td>0.0129</td>\n",
       "      <td>0.15</td>\n",
       "      <td>12.93</td>\n",
       "      <td>29.81</td>\n",
       "      <td>46.10</td>\n",
       "      <td>0.27</td>\n",
       "      <td>13.0</td>\n",
       "      <td>16.6</td>\n",
       "      <td>7.01</td>\n",
       "      <td>0</td>\n",
       "    </tr>\n",
       "    <tr>\n",
       "      <th>4</th>\n",
       "      <td>11</td>\n",
       "      <td>9</td>\n",
       "      <td>0</td>\n",
       "      <td>0</td>\n",
       "      <td>0.0143</td>\n",
       "      <td>0.13</td>\n",
       "      <td>13.98</td>\n",
       "      <td>30.79</td>\n",
       "      <td>46.50</td>\n",
       "      <td>0.24</td>\n",
       "      <td>13.0</td>\n",
       "      <td>16.6</td>\n",
       "      <td>7.01</td>\n",
       "      <td>0</td>\n",
       "    </tr>\n",
       "  </tbody>\n",
       "</table>\n",
       "</div>"
      ],
      "text/plain": [
       "   hour  month  day_of_week  is_weekend  cur__precipIntensity  cur__precipProbability  cur__temperature  cur__windSpeed  cur__windGust  cur__cloudCover  day_length  daily__temperatureHigh  daily__temperatureLow  object_count\n",
       "0     7      9            0           0                0.0100                    0.08             11.30           26.13          43.99             0.43        13.0                    16.6                   7.01             2\n",
       "1     8      9            0           0                0.0000                    0.00             11.37           26.73          43.38             0.26        13.0                    16.6                   7.01             1\n",
       "2     9      9            0           0                0.0052                    0.07             11.92           28.37          44.96             0.26        13.0                    16.6                   7.01             3\n",
       "3    10      9            0           0                0.0129                    0.15             12.93           29.81          46.10             0.27        13.0                    16.6                   7.01             0\n",
       "4    11      9            0           0                0.0143                    0.13             13.98           30.79          46.50             0.24        13.0                    16.6                   7.01             0"
      ]
     },
     "execution_count": 836,
     "metadata": {},
     "output_type": "execute_result"
    }
   ],
   "source": [
    "df.head()"
   ]
  },
  {
   "cell_type": "code",
   "execution_count": 842,
   "metadata": {},
   "outputs": [],
   "source": [
    "cols = 'hour + month + cur__precipIntensity + cur__precipProbability + cur__temperature + cur__windGust + day_length + daily__temperatureHigh + daily__temperatureLow'.split(' + ')\n",
    "X = df[cols]\n",
    "y = df['object_count']\n",
    "X_train, X_test, y_train, y_test = train_test_split(\n",
    "    X, y, test_size=0.33, random_state=42)"
   ]
  },
  {
   "cell_type": "code",
   "execution_count": 850,
   "metadata": {},
   "outputs": [
    {
     "data": {
      "text/plain": [
       "array([0., 0., 1., 1., 2.])"
      ]
     },
     "execution_count": 850,
     "metadata": {},
     "output_type": "execute_result"
    }
   ],
   "source": [
    "np.floor([0.1, 0.9, 1.3, 1.9, 2.0])"
   ]
  },
  {
   "cell_type": "code",
   "execution_count": 934,
   "metadata": {},
   "outputs": [
    {
     "name": "stdout",
     "output_type": "stream",
     "text": [
      "OVERALL ACC: 0.4820261437908497\n",
      "BINARY ACC: 0.7156862745098039\n"
     ]
    }
   ],
   "source": [
    "from sklearn.ensemble import RandomForestRegressor\n",
    "\n",
    "# Create the model with 100 trees\n",
    "model = RandomForestRegressor(n_estimators=400)\n",
    "\n",
    "# Fit on training data\n",
    "model.fit(X_train, y_train)\n",
    "\n",
    "y_pred = model.predict(X_test)\n",
    "y_pred_rounded = np.floor(y_pred)\n",
    "\n",
    "results = pd.DataFrame({'y_pred': y_pred, 'y_test': y_test, 'y_pred_rounded': y_pred_rounded})\n",
    "results['zeros'] = 0\n",
    "results['binary_y_test'] = (results['y_test'] != 0).astype(int)\n",
    "results['binary_y_pred'] = (results['y_pred_rounded'] != 0).astype(int)\n",
    "results[['binary_y_test', 'binary_y_pred']].head()\n",
    "\n",
    "print('OVERALL ACC:', accuracy_score(y_test, y_pred_rounded))\n",
    "print('BINARY ACC:', accuracy_score(results['binary_y_test'], results['binary_y_pred']))"
   ]
  },
  {
   "cell_type": "code",
   "execution_count": 935,
   "metadata": {},
   "outputs": [
    {
     "name": "stdout",
     "output_type": "stream",
     "text": [
      "{'bootstrap': True, 'ccp_alpha': 0.0, 'criterion': 'mse', 'max_depth': None, 'max_features': 'auto', 'max_leaf_nodes': None, 'max_samples': None, 'min_impurity_decrease': 0.0, 'min_impurity_split': None, 'min_samples_leaf': 1, 'min_samples_split': 2, 'min_weight_fraction_leaf': 0.0, 'n_estimators': 400, 'n_jobs': None, 'oob_score': False, 'random_state': None, 'verbose': 0, 'warm_start': False}\n"
     ]
    }
   ],
   "source": [
    "print(model.get_params())"
   ]
  },
  {
   "cell_type": "code",
   "execution_count": 936,
   "metadata": {},
   "outputs": [],
   "source": [
    "# from sklearn.model_selection import RandomizedSearchCV\n",
    "# # Number of trees in random forest\n",
    "# n_estimators = [int(x) for x in np.linspace(start = 200, stop = 2000, num = 10)]\n",
    "# # Number of features to consider at every split\n",
    "# max_features = ['auto', 'sqrt']\n",
    "# # Maximum number of levels in tree\n",
    "# max_depth = [int(x) for x in np.linspace(10, 110, num = 11)]\n",
    "# max_depth.append(None)\n",
    "# # Minimum number of samples required to split a node\n",
    "# min_samples_split = [2, 5, 10]\n",
    "# # Minimum number of samples required at each leaf node\n",
    "# min_samples_leaf = [1, 2, 4]\n",
    "# # Method of selecting samples for training each tree\n",
    "# bootstrap = [True, False]\n",
    "# # Create the random grid\n",
    "# random_grid = {'n_estimators': n_estimators,\n",
    "#                'max_features': max_features,\n",
    "#                'max_depth': max_depth,\n",
    "#                'min_samples_split': min_samples_split,\n",
    "#                'min_samples_leaf': min_samples_leaf,\n",
    "#                'bootstrap': bootstrap}"
   ]
  },
  {
   "cell_type": "code",
   "execution_count": 937,
   "metadata": {},
   "outputs": [],
   "source": [
    "# # Use the random grid to search for best hyperparameters\n",
    "# # First create the base model to tune\n",
    "# rf = RandomForestRegressor()\n",
    "# # Random search of parameters, using 3 fold cross validation, \n",
    "# # search across 100 different combinations, and use all available cores\n",
    "# rf_random = RandomizedSearchCV(estimator = rf, param_distributions = random_grid, n_iter = 100, cv = 3, verbose=2, random_state=42, n_jobs = -1)\n",
    "# # Fit the random search model\n",
    "# rf_random.fit(X_train, y_train)"
   ]
  },
  {
   "cell_type": "code",
   "execution_count": 938,
   "metadata": {},
   "outputs": [],
   "source": [
    "# rf_random.best_params_"
   ]
  },
  {
   "cell_type": "code",
   "execution_count": 933,
   "metadata": {},
   "outputs": [
    {
     "name": "stdout",
     "output_type": "stream",
     "text": [
      "OVERALL ACC: 0.46405228758169936\n",
      "BINARY ACC: 0.7238562091503268\n"
     ]
    }
   ],
   "source": [
    "model = rf_random.best_estimator_\n",
    "y_pred = model.predict(X_test)\n",
    "y_pred_rounded = np.floor(y_pred)\n",
    "\n",
    "results = pd.DataFrame({'y_pred': y_pred, 'y_test': y_test, 'y_pred_rounded': y_pred_rounded})\n",
    "results['zeros'] = 0\n",
    "results['binary_y_test'] = (results['y_test'] != 0).astype(int)\n",
    "results['binary_y_pred'] = (results['y_pred_rounded'] != 0).astype(int)\n",
    "results[['binary_y_test', 'binary_y_pred']].head()\n",
    "\n",
    "print('OVERALL ACC:', accuracy_score(y_test, y_pred_rounded))\n",
    "print('BINARY ACC:', accuracy_score(results['binary_y_test'], results['binary_y_pred']))"
   ]
  },
  {
   "cell_type": "code",
   "execution_count": 902,
   "metadata": {},
   "outputs": [
    {
     "data": {
      "text/html": [
       "<div>\n",
       "<style scoped>\n",
       "    .dataframe tbody tr th:only-of-type {\n",
       "        vertical-align: middle;\n",
       "    }\n",
       "\n",
       "    .dataframe tbody tr th {\n",
       "        vertical-align: top;\n",
       "    }\n",
       "\n",
       "    .dataframe thead th {\n",
       "        text-align: right;\n",
       "    }\n",
       "</style>\n",
       "<table border=\"1\" class=\"dataframe\">\n",
       "  <thead>\n",
       "    <tr style=\"text-align: right;\">\n",
       "      <th></th>\n",
       "      <th>hour</th>\n",
       "      <th>month</th>\n",
       "      <th>cur__precipIntensity</th>\n",
       "      <th>cur__precipProbability</th>\n",
       "      <th>cur__temperature</th>\n",
       "      <th>cur__windGust</th>\n",
       "      <th>day_length</th>\n",
       "      <th>daily__temperatureHigh</th>\n",
       "      <th>daily__temperatureLow</th>\n",
       "    </tr>\n",
       "  </thead>\n",
       "  <tbody>\n",
       "    <tr>\n",
       "      <th>338</th>\n",
       "      <td>9</td>\n",
       "      <td>9</td>\n",
       "      <td>1.5398</td>\n",
       "      <td>0.77</td>\n",
       "      <td>14.65</td>\n",
       "      <td>52.49</td>\n",
       "      <td>12.0</td>\n",
       "      <td>18.07</td>\n",
       "      <td>13.90</td>\n",
       "    </tr>\n",
       "    <tr>\n",
       "      <th>655</th>\n",
       "      <td>14</td>\n",
       "      <td>10</td>\n",
       "      <td>0.0000</td>\n",
       "      <td>0.00</td>\n",
       "      <td>15.26</td>\n",
       "      <td>16.15</td>\n",
       "      <td>11.0</td>\n",
       "      <td>15.68</td>\n",
       "      <td>11.92</td>\n",
       "    </tr>\n",
       "  </tbody>\n",
       "</table>\n",
       "</div>"
      ],
      "text/plain": [
       "     hour  month  cur__precipIntensity  cur__precipProbability  cur__temperature  cur__windGust  day_length  daily__temperatureHigh  daily__temperatureLow\n",
       "338     9      9                1.5398                    0.77             14.65          52.49        12.0                   18.07                  13.90\n",
       "655    14     10                0.0000                    0.00             15.26          16.15        11.0                   15.68                  11.92"
      ]
     },
     "execution_count": 902,
     "metadata": {},
     "output_type": "execute_result"
    }
   ],
   "source": [
    "X_test.head(2)"
   ]
  },
  {
   "cell_type": "code",
   "execution_count": 939,
   "metadata": {},
   "outputs": [
    {
     "data": {
      "image/png": "[encoded data removed]",
      "text/plain": [
       "<Figure size 1584x288 with 1 Axes>"
      ]
     },
     "metadata": {
      "needs_background": "light"
     },
     "output_type": "display_data"
    }
   ],
   "source": [
    "n_observations = 150\n",
    "x_axis = [i for i in range(n_observations)]\n",
    "\n",
    "rcParams['figure.figsize'] = 22, 4\n",
    "fig = plt.figure()\n",
    "fig.suptitle('Predicted versus actual bicyclist counts on the Brooklyn bridge')\n",
    "predicted, = plt.plot(x_axis, y_pred_rounded[:n_observations], 'go-', label='Predicted counts')\n",
    "actual, = plt.plot(x_axis, y_test[:n_observations], 'ro-', label='Actual counts')\n",
    "plt.legend(handles=[predicted, actual])\n",
    "plt.show()"
   ]
  },
  {
   "cell_type": "code",
   "execution_count": 889,
   "metadata": {},
   "outputs": [],
   "source": [
    "#X_test.head()"
   ]
  },
  {
   "cell_type": "code",
   "execution_count": 893,
   "metadata": {},
   "outputs": [
    {
     "data": {
      "text/plain": [
       "0    269\n",
       "1    148\n",
       "2     95\n",
       "3     54\n",
       "4     26\n",
       "5     20\n",
       "Name: y_test, dtype: int64"
      ]
     },
     "execution_count": 893,
     "metadata": {},
     "output_type": "execute_result"
    }
   ],
   "source": [
    "results['y_test'].value_counts()"
   ]
  },
  {
   "cell_type": "code",
   "execution_count": 891,
   "metadata": {},
   "outputs": [],
   "source": [
    "#results['y_pred_rounded'].value_counts()"
   ]
  },
  {
   "cell_type": "code",
   "execution_count": 892,
   "metadata": {},
   "outputs": [
    {
     "data": {
      "text/html": [
       "<div>\n",
       "<style scoped>\n",
       "    .dataframe tbody tr th:only-of-type {\n",
       "        vertical-align: middle;\n",
       "    }\n",
       "\n",
       "    .dataframe tbody tr th {\n",
       "        vertical-align: top;\n",
       "    }\n",
       "\n",
       "    .dataframe thead th {\n",
       "        text-align: right;\n",
       "    }\n",
       "</style>\n",
       "<table border=\"1\" class=\"dataframe\">\n",
       "  <thead>\n",
       "    <tr style=\"text-align: right;\">\n",
       "      <th>Predicted</th>\n",
       "      <th>0.0</th>\n",
       "      <th>1.0</th>\n",
       "      <th>2.0</th>\n",
       "      <th>3.0</th>\n",
       "      <th>All</th>\n",
       "    </tr>\n",
       "    <tr>\n",
       "      <th>True</th>\n",
       "      <th></th>\n",
       "      <th></th>\n",
       "      <th></th>\n",
       "      <th></th>\n",
       "      <th></th>\n",
       "    </tr>\n",
       "  </thead>\n",
       "  <tbody>\n",
       "    <tr>\n",
       "      <th>0</th>\n",
       "      <td>182</td>\n",
       "      <td>70</td>\n",
       "      <td>17</td>\n",
       "      <td>0</td>\n",
       "      <td>269</td>\n",
       "    </tr>\n",
       "    <tr>\n",
       "      <th>1</th>\n",
       "      <td>43</td>\n",
       "      <td>87</td>\n",
       "      <td>15</td>\n",
       "      <td>3</td>\n",
       "      <td>148</td>\n",
       "    </tr>\n",
       "    <tr>\n",
       "      <th>2</th>\n",
       "      <td>24</td>\n",
       "      <td>41</td>\n",
       "      <td>28</td>\n",
       "      <td>2</td>\n",
       "      <td>95</td>\n",
       "    </tr>\n",
       "    <tr>\n",
       "      <th>3</th>\n",
       "      <td>8</td>\n",
       "      <td>24</td>\n",
       "      <td>18</td>\n",
       "      <td>4</td>\n",
       "      <td>54</td>\n",
       "    </tr>\n",
       "    <tr>\n",
       "      <th>4</th>\n",
       "      <td>5</td>\n",
       "      <td>10</td>\n",
       "      <td>10</td>\n",
       "      <td>1</td>\n",
       "      <td>26</td>\n",
       "    </tr>\n",
       "    <tr>\n",
       "      <th>5</th>\n",
       "      <td>2</td>\n",
       "      <td>5</td>\n",
       "      <td>12</td>\n",
       "      <td>1</td>\n",
       "      <td>20</td>\n",
       "    </tr>\n",
       "    <tr>\n",
       "      <th>All</th>\n",
       "      <td>264</td>\n",
       "      <td>237</td>\n",
       "      <td>100</td>\n",
       "      <td>11</td>\n",
       "      <td>612</td>\n",
       "    </tr>\n",
       "  </tbody>\n",
       "</table>\n",
       "</div>"
      ],
      "text/plain": [
       "Predicted  0.0  1.0  2.0  3.0  All\n",
       "True                              \n",
       "0          182   70   17    0  269\n",
       "1           43   87   15    3  148\n",
       "2           24   41   28    2   95\n",
       "3            8   24   18    4   54\n",
       "4            5   10   10    1   26\n",
       "5            2    5   12    1   20\n",
       "All        264  237  100   11  612"
      ]
     },
     "execution_count": 892,
     "metadata": {},
     "output_type": "execute_result"
    }
   ],
   "source": [
    "pd.crosstab(results['y_test'], results['y_pred_rounded'], rownames=['True'], colnames=['Predicted'], margins=True)"
   ]
  },
  {
   "cell_type": "markdown",
   "metadata": {},
   "source": [
    "### Conclusion:\n",
    "\n",
    "This model is not bad really. I have proven that is has more value than the dummy Zero's model and it can potentially achieve a further improvement by nomalising the features using a Scaler."
   ]
  },
  {
   "cell_type": "markdown",
   "metadata": {},
   "source": [
    "### Negative Binomial Regression\n",
    "\n",
    "https://towardsdatascience.com/negative-binomial-regression-f99031bb25b4"
   ]
  },
  {
   "cell_type": "code",
   "execution_count": 658,
   "metadata": {},
   "outputs": [
    {
     "data": {
      "text/html": [
       "<div>\n",
       "<style scoped>\n",
       "    .dataframe tbody tr th:only-of-type {\n",
       "        vertical-align: middle;\n",
       "    }\n",
       "\n",
       "    .dataframe tbody tr th {\n",
       "        vertical-align: top;\n",
       "    }\n",
       "\n",
       "    .dataframe thead th {\n",
       "        text-align: right;\n",
       "    }\n",
       "</style>\n",
       "<table border=\"1\" class=\"dataframe\">\n",
       "  <thead>\n",
       "    <tr style=\"text-align: right;\">\n",
       "      <th></th>\n",
       "      <th>hour</th>\n",
       "      <th>month</th>\n",
       "      <th>day_of_week</th>\n",
       "      <th>is_weekend</th>\n",
       "      <th>cur__precipIntensity</th>\n",
       "      <th>cur__precipProbability</th>\n",
       "      <th>cur__temperature</th>\n",
       "      <th>cur__windSpeed</th>\n",
       "      <th>cur__windGust</th>\n",
       "      <th>cur__cloudCover</th>\n",
       "      <th>day_length</th>\n",
       "      <th>daily__temperatureHigh</th>\n",
       "      <th>daily__temperatureLow</th>\n",
       "      <th>object_count</th>\n",
       "    </tr>\n",
       "  </thead>\n",
       "  <tbody>\n",
       "    <tr>\n",
       "      <th>0</th>\n",
       "      <td>7</td>\n",
       "      <td>9</td>\n",
       "      <td>0</td>\n",
       "      <td>0</td>\n",
       "      <td>0.01</td>\n",
       "      <td>0.08</td>\n",
       "      <td>11.30</td>\n",
       "      <td>26.13</td>\n",
       "      <td>43.99</td>\n",
       "      <td>0.43</td>\n",
       "      <td>13.0</td>\n",
       "      <td>16.6</td>\n",
       "      <td>7.01</td>\n",
       "      <td>2</td>\n",
       "    </tr>\n",
       "    <tr>\n",
       "      <th>1</th>\n",
       "      <td>8</td>\n",
       "      <td>9</td>\n",
       "      <td>0</td>\n",
       "      <td>0</td>\n",
       "      <td>0.00</td>\n",
       "      <td>0.00</td>\n",
       "      <td>11.37</td>\n",
       "      <td>26.73</td>\n",
       "      <td>43.38</td>\n",
       "      <td>0.26</td>\n",
       "      <td>13.0</td>\n",
       "      <td>16.6</td>\n",
       "      <td>7.01</td>\n",
       "      <td>1</td>\n",
       "    </tr>\n",
       "  </tbody>\n",
       "</table>\n",
       "</div>"
      ],
      "text/plain": [
       "   hour  month  day_of_week  is_weekend  cur__precipIntensity  cur__precipProbability  cur__temperature  cur__windSpeed  cur__windGust  cur__cloudCover  day_length  daily__temperatureHigh  daily__temperatureLow  object_count\n",
       "0     7      9            0           0                  0.01                    0.08             11.30           26.13          43.99             0.43        13.0                    16.6                   7.01             2\n",
       "1     8      9            0           0                  0.00                    0.00             11.37           26.73          43.38             0.26        13.0                    16.6                   7.01             1"
      ]
     },
     "execution_count": 658,
     "metadata": {},
     "output_type": "execute_result"
    }
   ],
   "source": [
    "df.head(2)"
   ]
  },
  {
   "cell_type": "code",
   "execution_count": 674,
   "metadata": {},
   "outputs": [],
   "source": [
    "mask = np.random.rand(len(df)) < 0.8\n",
    "df_train = df[mask].copy()\n",
    "df_test = df[~mask].copy()"
   ]
  },
  {
   "cell_type": "code",
   "execution_count": 675,
   "metadata": {},
   "outputs": [
    {
     "data": {
      "text/plain": [
       "(1488, 14)"
      ]
     },
     "execution_count": 675,
     "metadata": {},
     "output_type": "execute_result"
    }
   ],
   "source": [
    "df_train.shape"
   ]
  },
  {
   "cell_type": "code",
   "execution_count": 676,
   "metadata": {},
   "outputs": [
    {
     "data": {
      "text/plain": [
       "(366, 14)"
      ]
     },
     "execution_count": 676,
     "metadata": {},
     "output_type": "execute_result"
    }
   ],
   "source": [
    "df_test.shape"
   ]
  },
  {
   "cell_type": "code",
   "execution_count": 677,
   "metadata": {},
   "outputs": [],
   "source": [
    "expr = \"\"\"object_count ~ hour + month + cur__precipIntensity + cur__precipProbability + cur__temperature + cur__windGust + day_length + daily__temperatureHigh + daily__temperatureLow\"\"\"\n",
    "\n",
    "#Set up the X and y matrices\n",
    "y_train, X_train = dmatrices(expr, df_train, return_type='dataframe')\n",
    "y_test, X_test = dmatrices(expr, df_test, return_type='dataframe')"
   ]
  },
  {
   "cell_type": "code",
   "execution_count": 678,
   "metadata": {},
   "outputs": [
    {
     "name": "stdout",
     "output_type": "stream",
     "text": [
      "                 Generalized Linear Model Regression Results                  \n",
      "==============================================================================\n",
      "Dep. Variable:           object_count   No. Observations:                 1488\n",
      "Model:                            GLM   Df Residuals:                     1478\n",
      "Model Family:                 Poisson   Df Model:                            9\n",
      "Link Function:                    log   Scale:                          1.0000\n",
      "Method:                          IRLS   Log-Likelihood:                -2223.8\n",
      "Date:                Sun, 19 Jan 2020   Deviance:                       2337.0\n",
      "Time:                        19:43:49   Pearson chi2:                 2.25e+03\n",
      "No. Iterations:                     5                                         \n",
      "Covariance Type:            nonrobust                                         \n",
      "==========================================================================================\n",
      "                             coef    std err          z      P>|z|      [0.025      0.975]\n",
      "------------------------------------------------------------------------------------------\n",
      "Intercept                  2.6141      1.178      2.219      0.027       0.305       4.923\n",
      "hour                      -0.0192      0.005     -3.779      0.000      -0.029      -0.009\n",
      "month                     -0.1266      0.075     -1.697      0.090      -0.273       0.020\n",
      "cur__precipIntensity      -0.1750      0.114     -1.542      0.123      -0.398       0.047\n",
      "cur__precipProbability    -0.6031      0.218     -2.768      0.006      -1.030      -0.176\n",
      "cur__temperature           0.1901      0.017     11.323      0.000       0.157       0.223\n",
      "cur__windGust             -0.0069      0.001     -4.655      0.000      -0.010      -0.004\n",
      "day_length                -0.0616      0.050     -1.238      0.216      -0.159       0.036\n",
      "daily__temperatureHigh    -0.1366      0.023     -5.821      0.000      -0.183      -0.091\n",
      "daily__temperatureLow     -0.0229      0.011     -2.010      0.044      -0.045      -0.001\n",
      "==========================================================================================\n"
     ]
    }
   ],
   "source": [
    "#Using the statsmodels GLM class, train the Poisson regression model on the training data set.\n",
    "poisson_training_results = sm.GLM(y_train, X_train, family=sm.families.Poisson()).fit()\n",
    "\n",
    "#Print the training summary.\n",
    "print(poisson_training_results.summary())"
   ]
  },
  {
   "cell_type": "code",
   "execution_count": 679,
   "metadata": {},
   "outputs": [
    {
     "data": {
      "text/plain": [
       "(1488, 14)"
      ]
     },
     "execution_count": 679,
     "metadata": {},
     "output_type": "execute_result"
    }
   ],
   "source": [
    "df_train.shape"
   ]
  },
  {
   "cell_type": "code",
   "execution_count": 680,
   "metadata": {},
   "outputs": [
    {
     "name": "stdout",
     "output_type": "stream",
     "text": [
      "[0.91328726 0.95842444 0.98897692 ... 0.95990176 1.10275008 1.17339335]\n",
      "1488\n"
     ]
    }
   ],
   "source": [
    "print(poisson_training_results.mu)\n",
    "print(len(poisson_training_results.mu))"
   ]
  },
  {
   "cell_type": "code",
   "execution_count": 681,
   "metadata": {},
   "outputs": [
    {
     "data": {
      "text/html": [
       "<div>\n",
       "<style scoped>\n",
       "    .dataframe tbody tr th:only-of-type {\n",
       "        vertical-align: middle;\n",
       "    }\n",
       "\n",
       "    .dataframe tbody tr th {\n",
       "        vertical-align: top;\n",
       "    }\n",
       "\n",
       "    .dataframe thead th {\n",
       "        text-align: right;\n",
       "    }\n",
       "</style>\n",
       "<table border=\"1\" class=\"dataframe\">\n",
       "  <thead>\n",
       "    <tr style=\"text-align: right;\">\n",
       "      <th></th>\n",
       "      <th>hour</th>\n",
       "      <th>month</th>\n",
       "      <th>day_of_week</th>\n",
       "      <th>is_weekend</th>\n",
       "      <th>cur__precipIntensity</th>\n",
       "      <th>cur__precipProbability</th>\n",
       "      <th>cur__temperature</th>\n",
       "      <th>cur__windSpeed</th>\n",
       "      <th>cur__windGust</th>\n",
       "      <th>cur__cloudCover</th>\n",
       "      <th>day_length</th>\n",
       "      <th>daily__temperatureHigh</th>\n",
       "      <th>daily__temperatureLow</th>\n",
       "      <th>object_count</th>\n",
       "      <th>Poisson_lambda</th>\n",
       "    </tr>\n",
       "  </thead>\n",
       "  <tbody>\n",
       "    <tr>\n",
       "      <th>0</th>\n",
       "      <td>7</td>\n",
       "      <td>9</td>\n",
       "      <td>0</td>\n",
       "      <td>0</td>\n",
       "      <td>0.01</td>\n",
       "      <td>0.08</td>\n",
       "      <td>11.30</td>\n",
       "      <td>26.13</td>\n",
       "      <td>43.99</td>\n",
       "      <td>0.43</td>\n",
       "      <td>13.0</td>\n",
       "      <td>16.6</td>\n",
       "      <td>7.01</td>\n",
       "      <td>2</td>\n",
       "      <td>0.913287</td>\n",
       "    </tr>\n",
       "    <tr>\n",
       "      <th>1</th>\n",
       "      <td>8</td>\n",
       "      <td>9</td>\n",
       "      <td>0</td>\n",
       "      <td>0</td>\n",
       "      <td>0.00</td>\n",
       "      <td>0.00</td>\n",
       "      <td>11.37</td>\n",
       "      <td>26.73</td>\n",
       "      <td>43.38</td>\n",
       "      <td>0.26</td>\n",
       "      <td>13.0</td>\n",
       "      <td>16.6</td>\n",
       "      <td>7.01</td>\n",
       "      <td>1</td>\n",
       "      <td>0.958424</td>\n",
       "    </tr>\n",
       "  </tbody>\n",
       "</table>\n",
       "</div>"
      ],
      "text/plain": [
       "   hour  month  day_of_week  is_weekend  cur__precipIntensity  cur__precipProbability  cur__temperature  cur__windSpeed  cur__windGust  cur__cloudCover  day_length  daily__temperatureHigh  daily__temperatureLow  object_count  Poisson_lambda\n",
       "0     7      9            0           0                  0.01                    0.08             11.30           26.13          43.99             0.43        13.0                    16.6                   7.01             2        0.913287\n",
       "1     8      9            0           0                  0.00                    0.00             11.37           26.73          43.38             0.26        13.0                    16.6                   7.01             1        0.958424"
      ]
     },
     "execution_count": 681,
     "metadata": {},
     "output_type": "execute_result"
    }
   ],
   "source": [
    "df_train['Poisson_lambda'] = poisson_training_results.mu\n",
    "df_train.head(2)"
   ]
  },
  {
   "cell_type": "code",
   "execution_count": 682,
   "metadata": {},
   "outputs": [
    {
     "data": {
      "text/html": [
       "<div>\n",
       "<style scoped>\n",
       "    .dataframe tbody tr th:only-of-type {\n",
       "        vertical-align: middle;\n",
       "    }\n",
       "\n",
       "    .dataframe tbody tr th {\n",
       "        vertical-align: top;\n",
       "    }\n",
       "\n",
       "    .dataframe thead th {\n",
       "        text-align: right;\n",
       "    }\n",
       "</style>\n",
       "<table border=\"1\" class=\"dataframe\">\n",
       "  <thead>\n",
       "    <tr style=\"text-align: right;\">\n",
       "      <th></th>\n",
       "      <th>hour</th>\n",
       "      <th>month</th>\n",
       "      <th>day_of_week</th>\n",
       "      <th>is_weekend</th>\n",
       "      <th>cur__precipIntensity</th>\n",
       "      <th>cur__precipProbability</th>\n",
       "      <th>cur__temperature</th>\n",
       "      <th>cur__windSpeed</th>\n",
       "      <th>cur__windGust</th>\n",
       "      <th>cur__cloudCover</th>\n",
       "      <th>day_length</th>\n",
       "      <th>daily__temperatureHigh</th>\n",
       "      <th>daily__temperatureLow</th>\n",
       "      <th>object_count</th>\n",
       "      <th>Poisson_lambda</th>\n",
       "      <th>AUX_OLS_DEP</th>\n",
       "    </tr>\n",
       "  </thead>\n",
       "  <tbody>\n",
       "    <tr>\n",
       "      <th>0</th>\n",
       "      <td>7</td>\n",
       "      <td>9</td>\n",
       "      <td>0</td>\n",
       "      <td>0</td>\n",
       "      <td>0.01</td>\n",
       "      <td>0.08</td>\n",
       "      <td>11.30</td>\n",
       "      <td>26.13</td>\n",
       "      <td>43.99</td>\n",
       "      <td>0.43</td>\n",
       "      <td>13.0</td>\n",
       "      <td>16.6</td>\n",
       "      <td>7.01</td>\n",
       "      <td>2</td>\n",
       "      <td>0.913287</td>\n",
       "      <td>-0.896821</td>\n",
       "    </tr>\n",
       "    <tr>\n",
       "      <th>1</th>\n",
       "      <td>8</td>\n",
       "      <td>9</td>\n",
       "      <td>0</td>\n",
       "      <td>0</td>\n",
       "      <td>0.00</td>\n",
       "      <td>0.00</td>\n",
       "      <td>11.37</td>\n",
       "      <td>26.73</td>\n",
       "      <td>43.38</td>\n",
       "      <td>0.26</td>\n",
       "      <td>13.0</td>\n",
       "      <td>16.6</td>\n",
       "      <td>7.01</td>\n",
       "      <td>1</td>\n",
       "      <td>0.958424</td>\n",
       "      <td>-1.041576</td>\n",
       "    </tr>\n",
       "  </tbody>\n",
       "</table>\n",
       "</div>"
      ],
      "text/plain": [
       "   hour  month  day_of_week  is_weekend  cur__precipIntensity  cur__precipProbability  cur__temperature  cur__windSpeed  cur__windGust  cur__cloudCover  day_length  daily__temperatureHigh  daily__temperatureLow  object_count  Poisson_lambda  AUX_OLS_DEP\n",
       "0     7      9            0           0                  0.01                    0.08             11.30           26.13          43.99             0.43        13.0                    16.6                   7.01             2        0.913287    -0.896821\n",
       "1     8      9            0           0                  0.00                    0.00             11.37           26.73          43.38             0.26        13.0                    16.6                   7.01             1        0.958424    -1.041576"
      ]
     },
     "execution_count": 682,
     "metadata": {},
     "output_type": "execute_result"
    }
   ],
   "source": [
    "# improve existing formula by vectorizing the operation\n",
    "df_train['AUX_OLS_DEP'] = ((np.power(df_train['object_count'] - df_train['Poisson_lambda'], 2)) \n",
    "                           - df_train['object_count']) / df_train['Poisson_lambda']\n",
    "df_train.head(2)"
   ]
  },
  {
   "cell_type": "code",
   "execution_count": 683,
   "metadata": {},
   "outputs": [],
   "source": [
    "import statsmodels.formula.api as smf"
   ]
  },
  {
   "cell_type": "code",
   "execution_count": 684,
   "metadata": {},
   "outputs": [],
   "source": [
    "ols_expr = \"\"\"AUX_OLS_DEP ~ Poisson_lambda - 1\"\"\""
   ]
  },
  {
   "cell_type": "code",
   "execution_count": 685,
   "metadata": {},
   "outputs": [],
   "source": [
    "aux_olsr_results = smf.ols(ols_expr, df_train).fit()"
   ]
  },
  {
   "cell_type": "code",
   "execution_count": 690,
   "metadata": {},
   "outputs": [
    {
     "name": "stdout",
     "output_type": "stream",
     "text": [
      "Poisson_lambda    0.340953\n",
      "dtype: float64\n"
     ]
    }
   ],
   "source": [
    "print(aux_olsr_results.params)"
   ]
  },
  {
   "cell_type": "code",
   "execution_count": 687,
   "metadata": {},
   "outputs": [
    {
     "name": "stdout",
     "output_type": "stream",
     "text": [
      "Poisson_lambda    7.458882\n",
      "dtype: float64\n"
     ]
    }
   ],
   "source": [
    "print(aux_olsr_results.tvalues)"
   ]
  },
  {
   "cell_type": "code",
   "execution_count": 688,
   "metadata": {},
   "outputs": [
    {
     "data": {
      "text/html": [
       "<div>\n",
       "<style scoped>\n",
       "    .dataframe tbody tr th:only-of-type {\n",
       "        vertical-align: middle;\n",
       "    }\n",
       "\n",
       "    .dataframe tbody tr th {\n",
       "        vertical-align: top;\n",
       "    }\n",
       "\n",
       "    .dataframe thead th {\n",
       "        text-align: right;\n",
       "    }\n",
       "</style>\n",
       "<table border=\"1\" class=\"dataframe\">\n",
       "  <thead>\n",
       "    <tr style=\"text-align: right;\">\n",
       "      <th></th>\n",
       "      <th>Intercept</th>\n",
       "      <th>hour</th>\n",
       "      <th>month</th>\n",
       "      <th>cur__precipIntensity</th>\n",
       "      <th>cur__precipProbability</th>\n",
       "      <th>cur__temperature</th>\n",
       "      <th>cur__windGust</th>\n",
       "      <th>day_length</th>\n",
       "      <th>daily__temperatureHigh</th>\n",
       "      <th>daily__temperatureLow</th>\n",
       "    </tr>\n",
       "  </thead>\n",
       "  <tbody>\n",
       "    <tr>\n",
       "      <th>0</th>\n",
       "      <td>1.0</td>\n",
       "      <td>7.0</td>\n",
       "      <td>9.0</td>\n",
       "      <td>0.01</td>\n",
       "      <td>0.08</td>\n",
       "      <td>11.30</td>\n",
       "      <td>43.99</td>\n",
       "      <td>13.0</td>\n",
       "      <td>16.6</td>\n",
       "      <td>7.01</td>\n",
       "    </tr>\n",
       "    <tr>\n",
       "      <th>1</th>\n",
       "      <td>1.0</td>\n",
       "      <td>8.0</td>\n",
       "      <td>9.0</td>\n",
       "      <td>0.00</td>\n",
       "      <td>0.00</td>\n",
       "      <td>11.37</td>\n",
       "      <td>43.38</td>\n",
       "      <td>13.0</td>\n",
       "      <td>16.6</td>\n",
       "      <td>7.01</td>\n",
       "    </tr>\n",
       "  </tbody>\n",
       "</table>\n",
       "</div>"
      ],
      "text/plain": [
       "   Intercept  hour  month  cur__precipIntensity  cur__precipProbability  cur__temperature  cur__windGust  day_length  daily__temperatureHigh  daily__temperatureLow\n",
       "0        1.0   7.0    9.0                  0.01                    0.08             11.30          43.99        13.0                    16.6                   7.01\n",
       "1        1.0   8.0    9.0                  0.00                    0.00             11.37          43.38        13.0                    16.6                   7.01"
      ]
     },
     "execution_count": 688,
     "metadata": {},
     "output_type": "execute_result"
    }
   ],
   "source": [
    "X_train.head(2)"
   ]
  },
  {
   "cell_type": "code",
   "execution_count": 691,
   "metadata": {},
   "outputs": [],
   "source": [
    "nb2_training_results = sm.GLM(y_train, X_train, family=sm.families.NegativeBinomial(alpha=aux_olsr_results.params[0])).fit()"
   ]
  },
  {
   "cell_type": "code",
   "execution_count": 692,
   "metadata": {},
   "outputs": [
    {
     "name": "stdout",
     "output_type": "stream",
     "text": [
      "                 Generalized Linear Model Regression Results                  \n",
      "==============================================================================\n",
      "Dep. Variable:           object_count   No. Observations:                 1488\n",
      "Model:                            GLM   Df Residuals:                     1478\n",
      "Model Family:        NegativeBinomial   Df Model:                            9\n",
      "Link Function:                    log   Scale:                          1.0000\n",
      "Method:                          IRLS   Log-Likelihood:                -2163.3\n",
      "Date:                Tue, 21 Jan 2020   Deviance:                       1769.3\n",
      "Time:                        19:36:56   Pearson chi2:                 1.64e+03\n",
      "No. Iterations:                     6                                         \n",
      "Covariance Type:            nonrobust                                         \n",
      "==========================================================================================\n",
      "                             coef    std err          z      P>|z|      [0.025      0.975]\n",
      "------------------------------------------------------------------------------------------\n",
      "Intercept                  2.5688      1.407      1.825      0.068      -0.190       5.327\n",
      "hour                      -0.0228      0.006     -3.803      0.000      -0.035      -0.011\n",
      "month                     -0.1226      0.089     -1.379      0.168      -0.297       0.052\n",
      "cur__precipIntensity      -0.1639      0.126     -1.303      0.192      -0.410       0.083\n",
      "cur__precipProbability    -0.6161      0.250     -2.460      0.014      -1.107      -0.125\n",
      "cur__temperature           0.1920      0.020      9.673      0.000       0.153       0.231\n",
      "cur__windGust             -0.0070      0.002     -4.001      0.000      -0.010      -0.004\n",
      "day_length                -0.0520      0.060     -0.873      0.383      -0.169       0.065\n",
      "daily__temperatureHigh    -0.1416      0.028     -5.113      0.000      -0.196      -0.087\n",
      "daily__temperatureLow     -0.0214      0.014     -1.555      0.120      -0.048       0.006\n",
      "==========================================================================================\n"
     ]
    }
   ],
   "source": [
    "print(nb2_training_results.summary())"
   ]
  },
  {
   "cell_type": "code",
   "execution_count": 693,
   "metadata": {},
   "outputs": [],
   "source": [
    "nb2_preds = nb2_training_results.get_prediction(X_test)"
   ]
  },
  {
   "cell_type": "code",
   "execution_count": 695,
   "metadata": {},
   "outputs": [
    {
     "name": "stdout",
     "output_type": "stream",
     "text": [
      "        mean   mean_se  mean_ci_lower  mean_ci_upper\n",
      "3   1.133158  0.123891       0.914590       1.403960\n",
      "14  1.153187  0.124686       0.932966       1.425391\n",
      "26  0.656559  0.095817       0.493231       0.873971\n",
      "37  1.161109  0.133705       0.926520       1.455093\n",
      "52  1.672942  0.122210       1.449773       1.930464\n"
     ]
    }
   ],
   "source": [
    "predictions_summary_frame = nb2_preds.summary_frame()\n",
    "print(predictions_summary_frame[:5])"
   ]
  },
  {
   "cell_type": "code",
   "execution_count": 735,
   "metadata": {},
   "outputs": [
    {
     "name": "stdout",
     "output_type": "stream",
     "text": [
      "ACC: 0.448\n"
     ]
    },
    {
     "data": {
      "text/html": [
       "<div>\n",
       "<style scoped>\n",
       "    .dataframe tbody tr th:only-of-type {\n",
       "        vertical-align: middle;\n",
       "    }\n",
       "\n",
       "    .dataframe tbody tr th {\n",
       "        vertical-align: top;\n",
       "    }\n",
       "\n",
       "    .dataframe thead th {\n",
       "        text-align: right;\n",
       "    }\n",
       "</style>\n",
       "<table border=\"1\" class=\"dataframe\">\n",
       "  <thead>\n",
       "    <tr style=\"text-align: right;\">\n",
       "      <th>Predicted</th>\n",
       "      <th>0.0</th>\n",
       "      <th>1.0</th>\n",
       "      <th>2.0</th>\n",
       "      <th>All</th>\n",
       "    </tr>\n",
       "    <tr>\n",
       "      <th>True</th>\n",
       "      <th></th>\n",
       "      <th></th>\n",
       "      <th></th>\n",
       "      <th></th>\n",
       "    </tr>\n",
       "  </thead>\n",
       "  <tbody>\n",
       "    <tr>\n",
       "      <th>0.0</th>\n",
       "      <td>134</td>\n",
       "      <td>27</td>\n",
       "      <td>2</td>\n",
       "      <td>163</td>\n",
       "    </tr>\n",
       "    <tr>\n",
       "      <th>1.0</th>\n",
       "      <td>45</td>\n",
       "      <td>30</td>\n",
       "      <td>4</td>\n",
       "      <td>79</td>\n",
       "    </tr>\n",
       "    <tr>\n",
       "      <th>2.0</th>\n",
       "      <td>33</td>\n",
       "      <td>23</td>\n",
       "      <td>0</td>\n",
       "      <td>56</td>\n",
       "    </tr>\n",
       "    <tr>\n",
       "      <th>3.0</th>\n",
       "      <td>19</td>\n",
       "      <td>17</td>\n",
       "      <td>0</td>\n",
       "      <td>36</td>\n",
       "    </tr>\n",
       "    <tr>\n",
       "      <th>4.0</th>\n",
       "      <td>9</td>\n",
       "      <td>13</td>\n",
       "      <td>0</td>\n",
       "      <td>22</td>\n",
       "    </tr>\n",
       "    <tr>\n",
       "      <th>5.0</th>\n",
       "      <td>3</td>\n",
       "      <td>6</td>\n",
       "      <td>1</td>\n",
       "      <td>10</td>\n",
       "    </tr>\n",
       "    <tr>\n",
       "      <th>All</th>\n",
       "      <td>243</td>\n",
       "      <td>116</td>\n",
       "      <td>7</td>\n",
       "      <td>366</td>\n",
       "    </tr>\n",
       "  </tbody>\n",
       "</table>\n",
       "</div>"
      ],
      "text/plain": [
       "Predicted  0.0  1.0  2.0  All\n",
       "True                         \n",
       "0.0        134   27    2  163\n",
       "1.0         45   30    4   79\n",
       "2.0         33   23    0   56\n",
       "3.0         19   17    0   36\n",
       "4.0          9   13    0   22\n",
       "5.0          3    6    1   10\n",
       "All        243  116    7  366"
      ]
     },
     "execution_count": 735,
     "metadata": {},
     "output_type": "execute_result"
    }
   ],
   "source": [
    "predicted_counts = predictions_summary_frame['mean']\n",
    "actual_counts = y_test['object_count']\n",
    "\n",
    "thresh = 1.3\n",
    "predicted_counts_rounded = round(predicted_counts - thresh + 0.5).copy()\n",
    "\n",
    "#print(predicted_counts[:5].tolist())\n",
    "#print(predicted_counts_rounded[:5].tolist())\n",
    "#print(actual_counts[:5].tolist())\n",
    "\n",
    "print('ACC:', round(accuracy_score(actual_counts, predicted_counts_rounded), 3))\n",
    "\n",
    "pd.crosstab(actual_counts, predicted_counts_rounded, rownames=['True'], colnames=['Predicted'], margins=True)"
   ]
  },
  {
   "cell_type": "code",
   "execution_count": 736,
   "metadata": {},
   "outputs": [
    {
     "data": {
      "image/png": "[encoded data removed]",
      "text/plain": [
       "<Figure size 1152x288 with 1 Axes>"
      ]
     },
     "metadata": {
      "needs_background": "light"
     },
     "output_type": "display_data"
    }
   ],
   "source": [
    "rcParams['figure.figsize'] = 16, 4\n",
    "fig = plt.figure()\n",
    "fig.suptitle('Predicted versus actual bicyclist counts on the Brooklyn bridge')\n",
    "predicted, = plt.plot(X_test.index[:40], predicted_counts_rounded[:40], 'go-', label='Predicted counts')\n",
    "actual, = plt.plot(X_test.index[:40], actual_counts[:40], 'ro-', label='Actual counts')\n",
    "plt.legend(handles=[predicted, actual])\n",
    "plt.show()"
   ]
  },
  {
   "cell_type": "markdown",
   "metadata": {},
   "source": [
    "### Zero inflated Poisson"
   ]
  },
  {
   "cell_type": "code",
   "execution_count": 798,
   "metadata": {},
   "outputs": [],
   "source": [
    "mask = np.random.rand(len(df)) < 0.8\n",
    "df_train = df[mask].copy()\n",
    "df_test = df[~mask].copy()"
   ]
  },
  {
   "cell_type": "code",
   "execution_count": 799,
   "metadata": {},
   "outputs": [],
   "source": [
    "expr = \"\"\"object_count ~ hour + month + cur__precipIntensity + cur__precipProbability + cur__temperature + cur__windGust + day_length + daily__temperatureHigh + daily__temperatureLow\"\"\"\n",
    "\n",
    "#Set up the X and y matrices\n",
    "y_train, X_train = dmatrices(expr, df_train, return_type='dataframe')\n",
    "y_test, X_test = dmatrices(expr, df_test, return_type='dataframe')"
   ]
  },
  {
   "cell_type": "code",
   "execution_count": 802,
   "metadata": {},
   "outputs": [
    {
     "name": "stdout",
     "output_type": "stream",
     "text": [
      "Optimization terminated successfully.\n",
      "         Current function value: 1.443454\n",
      "         Iterations: 40\n",
      "         Function evaluations: 47\n",
      "         Gradient evaluations: 47\n"
     ]
    },
    {
     "name": "stderr",
     "output_type": "stream",
     "text": [
      " /home/adamsky/anaconda3/envs/yolov3-tf2-gpu/lib/python3.7/site-packages/statsmodels/base/model.py:512: ConvergenceWarning:Maximum Likelihood optimization failed to converge. Check mle_retvals\n"
     ]
    }
   ],
   "source": [
    "from statsmodels.discrete.count_model import ZeroInflatedPoisson\n",
    "zip_model_results = ZeroInflatedPoisson(y_train, X_train).fit(maxiter=200)\n",
    "preds = zip_model_results.predict(X_test, exog_infl=np.ones((len(X_test),1)))"
   ]
  },
  {
   "cell_type": "code",
   "execution_count": 835,
   "metadata": {},
   "outputs": [
    {
     "name": "stdout",
     "output_type": "stream",
     "text": [
      "[0.9013390978632015, 0.9617735080488448, 1.6890688006244503, 1.4829222980887369, 0.7322763983519173]\n",
      "[0.0, 0.0, 1.0, 1.0, 0.0]\n",
      "[2.0, 3.0, 0.0, 5.0, 4.0]\n",
      "ACC: 0.364\n"
     ]
    },
    {
     "data": {
      "text/html": [
       "<div>\n",
       "<style scoped>\n",
       "    .dataframe tbody tr th:only-of-type {\n",
       "        vertical-align: middle;\n",
       "    }\n",
       "\n",
       "    .dataframe tbody tr th {\n",
       "        vertical-align: top;\n",
       "    }\n",
       "\n",
       "    .dataframe thead th {\n",
       "        text-align: right;\n",
       "    }\n",
       "</style>\n",
       "<table border=\"1\" class=\"dataframe\">\n",
       "  <thead>\n",
       "    <tr style=\"text-align: right;\">\n",
       "      <th>Predicted</th>\n",
       "      <th>0.0</th>\n",
       "      <th>1.0</th>\n",
       "      <th>2.0</th>\n",
       "      <th>All</th>\n",
       "    </tr>\n",
       "    <tr>\n",
       "      <th>True</th>\n",
       "      <th></th>\n",
       "      <th></th>\n",
       "      <th></th>\n",
       "      <th></th>\n",
       "    </tr>\n",
       "  </thead>\n",
       "  <tbody>\n",
       "    <tr>\n",
       "      <th>0.0</th>\n",
       "      <td>89</td>\n",
       "      <td>69</td>\n",
       "      <td>1</td>\n",
       "      <td>159</td>\n",
       "    </tr>\n",
       "    <tr>\n",
       "      <th>1.0</th>\n",
       "      <td>25</td>\n",
       "      <td>42</td>\n",
       "      <td>5</td>\n",
       "      <td>72</td>\n",
       "    </tr>\n",
       "    <tr>\n",
       "      <th>2.0</th>\n",
       "      <td>15</td>\n",
       "      <td>36</td>\n",
       "      <td>1</td>\n",
       "      <td>52</td>\n",
       "    </tr>\n",
       "    <tr>\n",
       "      <th>3.0</th>\n",
       "      <td>10</td>\n",
       "      <td>38</td>\n",
       "      <td>0</td>\n",
       "      <td>48</td>\n",
       "    </tr>\n",
       "    <tr>\n",
       "      <th>4.0</th>\n",
       "      <td>3</td>\n",
       "      <td>18</td>\n",
       "      <td>0</td>\n",
       "      <td>21</td>\n",
       "    </tr>\n",
       "    <tr>\n",
       "      <th>5.0</th>\n",
       "      <td>1</td>\n",
       "      <td>6</td>\n",
       "      <td>4</td>\n",
       "      <td>11</td>\n",
       "    </tr>\n",
       "    <tr>\n",
       "      <th>All</th>\n",
       "      <td>143</td>\n",
       "      <td>209</td>\n",
       "      <td>11</td>\n",
       "      <td>363</td>\n",
       "    </tr>\n",
       "  </tbody>\n",
       "</table>\n",
       "</div>"
      ],
      "text/plain": [
       "Predicted  0.0  1.0  2.0  All\n",
       "True                         \n",
       "0.0         89   69    1  159\n",
       "1.0         25   42    5   72\n",
       "2.0         15   36    1   52\n",
       "3.0         10   38    0   48\n",
       "4.0          3   18    0   21\n",
       "5.0          1    6    4   11\n",
       "All        143  209   11  363"
      ]
     },
     "execution_count": 835,
     "metadata": {},
     "output_type": "execute_result"
    }
   ],
   "source": [
    "actual_counts = y_test['object_count']\n",
    "\n",
    "#thresh = 0.51\n",
    "#predicted_counts_rounded = round(preds - thresh + 0.5).copy()\n",
    "\n",
    "predicted_counts_rounded = np.floor(preds)\n",
    "\n",
    "print(preds[:5].tolist())\n",
    "print(predicted_counts_rounded[:5].tolist())\n",
    "print(actual_counts[:5].tolist())\n",
    "\n",
    "print('ACC:', round(accuracy_score(actual_counts, predicted_counts_rounded), 3))\n",
    "\n",
    "pd.crosstab(actual_counts, predicted_counts_rounded, rownames=['True'], colnames=['Predicted'], margins=True)"
   ]
  },
  {
   "cell_type": "markdown",
   "metadata": {},
   "source": [
    "### NN\n",
    "\n",
    "Review this article in detail: https://github.com/gokceneraslan/neuralnet_countmodels"
   ]
  },
  {
   "cell_type": "code",
   "execution_count": 945,
   "metadata": {},
   "outputs": [
    {
     "data": {
      "image/png": "[encoded data removed]",
      "text/plain": [
       "<Figure size 432x216 with 1 Axes>"
      ]
     },
     "metadata": {
      "needs_background": "light"
     },
     "output_type": "display_data"
    }
   ],
   "source": [
    "poisson_mean = 1.4\n",
    "poisson_numsample = 2000\n",
    "\n",
    "# Poisson sampling is still not implemented in TF\n",
    "samples = np.random.poisson(poisson_mean, poisson_numsample)\n",
    "rcParams['figure.figsize'] = 6, 3\n",
    "_ = sns.distplot(samples, kde=False, bins=range(max(samples)))"
   ]
  },
  {
   "cell_type": "markdown",
   "metadata": {},
   "source": [
    "### PyMC3 more advanced Poisson"
   ]
  },
  {
   "cell_type": "code",
   "execution_count": null,
   "metadata": {},
   "outputs": [],
   "source": []
  }
 ],
 "metadata": {
  "kernelspec": {
   "display_name": "Python 3",
   "language": "python",
   "name": "python3"
  },
  "language_info": {
   "codemirror_mode": {
    "name": "ipython",
    "version": 3
   },
   "file_extension": ".py",
   "mimetype": "text/x-python",
   "name": "python",
   "nbconvert_exporter": "python",
   "pygments_lexer": "ipython3",
   "version": "3.7.0"
  }
 },
 "nbformat": 4,
 "nbformat_minor": 4
}
