{
 "cells": [
  {
   "cell_type": "markdown",
   "metadata": {},
   "source": [
    "# Fetch weather data\n",
    "\n",
    "Dark Sky provides a nice API with first 1000 calls for free, and then 0.0001 cent per request"
   ]
  },
  {
   "cell_type": "code",
   "execution_count": 1,
   "metadata": {},
   "outputs": [],
   "source": [
    "# import ConfigImports Notebook to import and configure libs\n",
    "%run ../ConfigImports.ipynb"
   ]
  },
  {
   "cell_type": "markdown",
   "metadata": {},
   "source": [
    "#### Collect data from DarkSky API"
   ]
  },
  {
   "cell_type": "code",
   "execution_count": 2,
   "metadata": {},
   "outputs": [],
   "source": [
    "def make_ts(year, month, day, hour, minute=0, second=0):\n",
    "    return int(datetime(year, month, day, hour, minute, second).timestamp())"
   ]
  },
  {
   "cell_type": "markdown",
   "metadata": {},
   "source": [
    "#### Define API parameters"
   ]
  },
  {
   "cell_type": "code",
   "execution_count": 3,
   "metadata": {},
   "outputs": [],
   "source": [
    "BASE_URL = 'https://api.darksky.net/forecast'\n",
    "API_KEY = DARK_SKY_API_KEY  # comes from the config file\n",
    "lat = 51.802931199999996  # my house coordinates\n",
    "long = -8.302591999999999\n",
    "timestamp = make_ts(2020, 1, 4, 15, 10)\n",
    "headers = {'Accept-Encoding': 'gzip'}"
   ]
  },
  {
   "cell_type": "markdown",
   "metadata": {},
   "source": [
    "#### Define keys to pull from the API data"
   ]
  },
  {
   "cell_type": "code",
   "execution_count": 4,
   "metadata": {},
   "outputs": [],
   "source": [
    "\n",
    "cur_keys = map(str.strip, \"\"\"summary, precipIntensity, precipProbability, precipType, temperature, apparentTemperature, humidity,\n",
    "windSpeed, windGust, windBearing, cloudCover, uvIndex, visibility\"\"\".split(','))\n",
    "cur_keys = [k for k in cur_keys]\n",
    "daily_keys = map(str.strip, \"\"\"summary, sunriseTime, sunsetTime, temperatureHigh, temperatureLow\"\"\".split(','))\n",
    "daily_keys = [k for k in daily_keys]"
   ]
  },
  {
   "cell_type": "markdown",
   "metadata": {},
   "source": [
    "#### Define date range for data pull\n",
    "\n",
    "Pull data hourly (always 30 minutes past an hour)"
   ]
  },
  {
   "cell_type": "code",
   "execution_count": 12,
   "metadata": {},
   "outputs": [],
   "source": [
    "idx = pd.date_range(start='2019-12-27 00:30:00', end='2020-03-02 23:59:00', freq='1H')\n",
    "df = pd.DataFrame({'dt': idx})"
   ]
  },
  {
   "cell_type": "markdown",
   "metadata": {},
   "source": [
    "#### Pull data\n",
    "\n",
    "Collect data for each time frame and store dataset as a csv file"
   ]
  },
  {
   "cell_type": "code",
   "execution_count": 13,
   "metadata": {},
   "outputs": [
    {
     "name": "stderr",
     "output_type": "stream",
     "text": [
      "100%|██████████| 1608/1608 [39:24<00:00,  1.47s/it] \n"
     ]
    }
   ],
   "source": [
    "def make_url(ts):\n",
    "    return f'{BASE_URL}/{API_KEY}/{lat},{long},{ts}?exclude=hourly,flags,minutely&units=ca'\n",
    "\n",
    "dark_sky = []\n",
    "prev_cur_obj = {}\n",
    "prev_daily_obj = {}\n",
    "\n",
    "for index, d in tqdm(df.iterrows(), total=df.shape[0]):\n",
    "    \n",
    "    # extract date-time info from dt object\n",
    "    args = (d.dt.year, d.dt.month, d.dt.day, d.dt.hour, d.dt.minute)\n",
    "    ts = make_ts(*args)\n",
    "    \n",
    "    # make a call to Dark Sky API\n",
    "    url = make_url(ts)\n",
    "    sky_data = requests.get(url, headers=headers)\n",
    "    sky_data = sky_data.json()\n",
    "    currently = sky_data['currently']\n",
    "    daily = sky_data['daily']\n",
    "    \n",
    "    # init object to save\n",
    "    cur_obj = {'ts': ts, 'dt': d}\n",
    "    \n",
    "    # keep only selected data elements\n",
    "    for k in cur_keys:\n",
    "        if k in currently:\n",
    "            cur_obj[f'cur__{k}'] = currently[k]\n",
    "            prev_cur_obj[k] = currently[k]\n",
    "        else:\n",
    "            cur_obj[f'cur__{k}'] = prev_cur_obj[k]\n",
    "        \n",
    "    for k in daily_keys:\n",
    "        if k in daily['data'][0]:\n",
    "            cur_obj[f'daily__{k}'] = daily['data'][0][k]\n",
    "            prev_daily_obj[k] = daily['data'][0][k]\n",
    "        else:\n",
    "            cur_obj[f'daily__{k}'] = prev_daily_obj[k]\n",
    "    dark_sky.append(cur_obj)\n",
    "    \n",
    "dark_sky_df = pd.DataFrame(dark_sky)\n",
    "dark_sky_df['dt'] = df['dt']\n",
    "dark_sky_df.to_csv('../Datasets/dark_sky_data_2019-12-27_2020-03-02.csv', index=False)"
   ]
  }
 ],
 "metadata": {
  "kernelspec": {
   "display_name": "Python 3",
   "language": "python",
   "name": "python3"
  },
  "language_info": {
   "codemirror_mode": {
    "name": "ipython",
    "version": 3
   },
   "file_extension": ".py",
   "mimetype": "text/x-python",
   "name": "python",
   "nbconvert_exporter": "python",
   "pygments_lexer": "ipython3",
   "version": "3.7.0"
  }
 },
 "nbformat": 4,
 "nbformat_minor": 4
}
