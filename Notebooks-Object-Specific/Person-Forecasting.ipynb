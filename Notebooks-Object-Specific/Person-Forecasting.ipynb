{
 "cells": [
  {
   "cell_type": "markdown",
   "metadata": {},
   "source": [
    "# Person - forecasting\n",
    "\n",
    "The purpose here is to generate the most accurate hourly forecast given a set of data points with collected and engineered features."
   ]
  },
  {
   "cell_type": "code",
   "execution_count": 18,
   "metadata": {},
   "outputs": [],
   "source": [
    "# import ConfigImports Notebook to import and configure libs\n",
    "%run ../ConfigImports.ipynb"
   ]
  },
  {
   "cell_type": "markdown",
   "metadata": {},
   "source": [
    "### Load dataset"
   ]
  },
  {
   "cell_type": "code",
   "execution_count": 70,
   "metadata": {},
   "outputs": [
    {
     "name": "stdout",
     "output_type": "stream",
     "text": [
      "(4079, 13)\n"
     ]
    },
    {
     "data": {
      "text/html": [
       "<div>\n",
       "<style scoped>\n",
       "    .dataframe tbody tr th:only-of-type {\n",
       "        vertical-align: middle;\n",
       "    }\n",
       "\n",
       "    .dataframe tbody tr th {\n",
       "        vertical-align: top;\n",
       "    }\n",
       "\n",
       "    .dataframe thead th {\n",
       "        text-align: right;\n",
       "    }\n",
       "</style>\n",
       "<table border=\"1\" class=\"dataframe\">\n",
       "  <thead>\n",
       "    <tr style=\"text-align: right;\">\n",
       "      <th></th>\n",
       "      <th>date</th>\n",
       "      <th>hour</th>\n",
       "      <th>obs_count</th>\n",
       "      <th>n_month</th>\n",
       "      <th>n_week_in_month</th>\n",
       "      <th>is_weekend_day</th>\n",
       "      <th>cur__precipIntensity</th>\n",
       "      <th>cur_weather_type</th>\n",
       "      <th>cur__windSpeed</th>\n",
       "      <th>cur__windGust</th>\n",
       "      <th>gust_strength</th>\n",
       "      <th>daily__sunriseTime</th>\n",
       "      <th>daily__sunsetTime</th>\n",
       "    </tr>\n",
       "  </thead>\n",
       "  <tbody>\n",
       "    <tr>\n",
       "      <th>0</th>\n",
       "      <td>2019-09-09</td>\n",
       "      <td>0</td>\n",
       "      <td>0</td>\n",
       "      <td>9</td>\n",
       "      <td>2</td>\n",
       "      <td>0</td>\n",
       "      <td>0.7929</td>\n",
       "      <td>Bad</td>\n",
       "      <td>21.30</td>\n",
       "      <td>35.13</td>\n",
       "      <td>Low</td>\n",
       "      <td>1568008740</td>\n",
       "      <td>1568055900</td>\n",
       "    </tr>\n",
       "    <tr>\n",
       "      <th>1</th>\n",
       "      <td>2019-09-09</td>\n",
       "      <td>1</td>\n",
       "      <td>0</td>\n",
       "      <td>9</td>\n",
       "      <td>2</td>\n",
       "      <td>0</td>\n",
       "      <td>0.8310</td>\n",
       "      <td>Bad</td>\n",
       "      <td>22.49</td>\n",
       "      <td>35.87</td>\n",
       "      <td>Low</td>\n",
       "      <td>1568008740</td>\n",
       "      <td>1568055900</td>\n",
       "    </tr>\n",
       "  </tbody>\n",
       "</table>\n",
       "</div>"
      ],
      "text/plain": [
       "         date  hour  obs_count  n_month  n_week_in_month  is_weekend_day  cur__precipIntensity cur_weather_type  cur__windSpeed  cur__windGust gust_strength  daily__sunriseTime  daily__sunsetTime\n",
       "0  2019-09-09     0          0        9                2               0                0.7929              Bad           21.30          35.13           Low          1568008740         1568055900\n",
       "1  2019-09-09     1          0        9                2               0                0.8310              Bad           22.49          35.87           Low          1568008740         1568055900"
      ]
     },
     "execution_count": 70,
     "metadata": {},
     "output_type": "execute_result"
    }
   ],
   "source": [
    "df = pd.read_csv('../Datasets/Person_no_outliers_feature_eng__2019-09-09_2020-03-02.csv')\n",
    "print(df.shape)\n",
    "df.head(2)"
   ]
  },
  {
   "cell_type": "markdown",
   "metadata": {},
   "source": [
    "### Filter out nightly hours\n",
    "\n",
    "Based on the current data collection and specifically a lack of night vision camera, there is no need to include night-time observations in the forecast generation as these will be set to 0 and they would be too easy to get correctly.\n",
    "\n",
    "We can use the daily sunrise and sunset time to exclude only relevant data points, instead of blindly removing too much data."
   ]
  },
  {
   "cell_type": "code",
   "execution_count": 72,
   "metadata": {},
   "outputs": [],
   "source": [
    "# convert timestamps to hours\n",
    "conv_ts = lambda x: datetime.fromtimestamp(x).hour\n",
    "df['sunrise_hour'] = df['daily__sunriseTime'].apply(conv_ts)\n",
    "df['sunset_hour'] = df['daily__sunsetTime'].apply(conv_ts)"
   ]
  },
  {
   "cell_type": "code",
   "execution_count": 76,
   "metadata": {},
   "outputs": [],
   "source": [
    "# remove nightly records\n",
    "idx = (df['hour'] < df['sunrise_hour']) | (df['hour'] > df['sunset_hour'])\n",
    "df = df.loc[~idx]"
   ]
  },
  {
   "cell_type": "markdown",
   "metadata": {},
   "source": [
    "### Discuss approach\n",
    "\n",
    "Firstly create a crude model, which will use hourly averages to generate forecast"
   ]
  },
  {
   "cell_type": "code",
   "execution_count": 81,
   "metadata": {},
   "outputs": [],
   "source": [
    "# create a train/test split for the dataset\n",
    "X, y = df[['hour', 'obs_count']], df['obs_count']\n",
    "X_train, X_test, y_train, y_test = train_test_split(\n",
    "    X, y, test_size=0.25, random_state=41)"
   ]
  },
  {
   "cell_type": "code",
   "execution_count": 82,
   "metadata": {},
   "outputs": [],
   "source": [
    "# calculate hourly averages of counts for training set\n",
    "mean_obj_counts = X_train.groupby('hour')['obs_count'].mean()"
   ]
  },
  {
   "cell_type": "code",
   "execution_count": 83,
   "metadata": {},
   "outputs": [],
   "source": [
    "# now we can generate the predictions for the test set\n",
    "y_pred = X_test['hour'].map(mean_obj_counts)"
   ]
  },
  {
   "cell_type": "code",
   "execution_count": 96,
   "metadata": {},
   "outputs": [],
   "source": [
    "# round results to \n",
    "y_pred_rounded = [round(p) for p in y_pred]"
   ]
  },
  {
   "cell_type": "code",
   "execution_count": 122,
   "metadata": {},
   "outputs": [
    {
     "name": "stdout",
     "output_type": "stream",
     "text": [
      "3.284901486206795\n",
      "1.3845331916865935\n",
      "0.005539358758843038\n"
     ]
    }
   ],
   "source": [
    "# calculate mean_squared_error\n",
    "from sklearn.metrics import mean_squared_error, r2_score, mean_absolute_error\n",
    "print(mean_squared_error(y_test, y_pred))\n",
    "print(mean_absolute_error(y_test, y_pred))\n",
    "print(r2_score(y_test, y_pred))"
   ]
  },
  {
   "cell_type": "markdown",
   "metadata": {},
   "source": [
    "Even though metrics like mean squared error, absolute error or r2 score are there to help us, the main question is: **How bad the error is and what do we consider a good forecast?**\n",
    "\n",
    "For this I am proposing a simple heuristic below, where an absolute error is calculated as follows:\n",
    "\n",
    "$$error=abs(y\\_test-y\\_pred)$$\n",
    "\n",
    "This error can be then plotted as a histogram and we can make a conclusion about which model actually predicts the best results by looking at the number of errors, which we obviously want to minimise."
   ]
  },
  {
   "cell_type": "code",
   "execution_count": 127,
   "metadata": {},
   "outputs": [
    {
     "data": {
      "application/vnd.plotly.v1+json": {
       "config": {
        "plotlyServerURL": "https://plot.ly"
       },
       "data": [
        {
         "alignmentgroup": "True",
         "bingroup": "x",
         "hovertemplate": "abs_error=%{x}<br>count=%{y}<extra></extra>",
         "legendgroup": "",
         "marker": {
          "color": "#636efa",
          "opacity": 0.7
         },
         "name": "",
         "offsetgroup": "",
         "orientation": "v",
         "showlegend": false,
         "type": "histogram",
         "x": [
          0.9224137931034484,
          1.3897058823529411,
          1.1774193548387095,
          3.7154471544715446,
          2.1774193548387095,
          1.7209302325581395,
          1.6102941176470589,
          0.9224137931034484,
          0.9007633587786259,
          1.7857142857142858,
          1.7857142857142858,
          1.8461538461538463,
          0.2790697674418605,
          0.46923076923076934,
          0.9224137931034484,
          0.282258064516129,
          1.1076923076923078,
          0.8461538461538463,
          1.6102941176470589,
          2.712328767123288,
          0.282258064516129,
          2.282258064516129,
          1.8461538461538463,
          0.28099173553719003,
          1.1774193548387095,
          0.15384615384615374,
          1.4692307692307693,
          2.28099173553719,
          1.8461538461538463,
          0.7154471544715446,
          0.6102941176470589,
          0.282258064516129,
          1.8461538461538463,
          1.71900826446281,
          0.5307692307692307,
          0.9224137931034484,
          2.28099173553719,
          0.717741935483871,
          2.2845528455284554,
          2.4692307692307693,
          1.1774193548387095,
          1.8225806451612905,
          0.7123287671232879,
          1.2845528455284554,
          1.2845528455284554,
          1.099236641221374,
          2.2845528455284554,
          4.389705882352941,
          5.287671232876712,
          0.7154471544715446,
          1.4692307692307693,
          1.7123287671232879,
          0.17741935483870952,
          0.7209302325581395,
          0.2845528455284554,
          0.6102941176470589,
          0.717741935483871,
          0.8923076923076922,
          1.0775862068965516,
          0.9224137931034484,
          2.28099173553719,
          1.099236641221374,
          1.2845528455284554,
          0.17741935483870952,
          0.6102941176470589,
          2.2845528455284554,
          2.712328767123288,
          0.717741935483871,
          0.17741935483870952,
          0.8225806451612905,
          2.28099173553719,
          1.2845528455284554,
          1.71900826446281,
          0.28767123287671215,
          5.530769230769231,
          0.8225806451612905,
          1.282258064516129,
          1.0775862068965516,
          2.7154471544715446,
          1.717741935483871,
          0.71900826446281,
          0.5307692307692307,
          0.28099173553719003,
          1.0775862068965516,
          0.7209302325581395,
          0.71900826446281,
          1.6102941176470589,
          0.8923076923076922,
          0.10769230769230775,
          2.282258064516129,
          0.717741935483871,
          0.3897058823529411,
          2.71900826446281,
          1.6102941176470589,
          0.3897058823529411,
          0.10769230769230775,
          0.9224137931034484,
          0.7154471544715446,
          1.717741935483871,
          1.099236641221374,
          3.389705882352941,
          0.282258064516129,
          0.9007633587786259,
          1.6102941176470589,
          1.6102941176470589,
          1.0775862068965516,
          2.282258064516129,
          3.389705882352941,
          0.15384615384615374,
          1.28099173553719,
          0.7857142857142858,
          1.900763358778626,
          1.28099173553719,
          0.717741935483871,
          2.2790697674418605,
          2.1538461538461537,
          0.9007633587786259,
          2.5307692307692307,
          2.4692307692307693,
          0.3897058823529411,
          2.2845528455284554,
          0.8461538461538463,
          0.3897058823529411,
          2.712328767123288,
          1.0775862068965516,
          1.717741935483871,
          0.3897058823529411,
          1.7123287671232879,
          2.9224137931034484,
          1.099236641221374,
          1.28099173553719,
          0.2845528455284554,
          0.9007633587786259,
          1.9224137931034484,
          2.28099173553719,
          1.1538461538461537,
          1.1774193548387095,
          0.8461538461538463,
          1.28099173553719,
          0.15384615384615374,
          1.8461538461538463,
          2.099236641221374,
          0.15384615384615374,
          0.2845528455284554,
          1.1538461538461537,
          2.2845528455284554,
          0.8461538461538463,
          1.0775862068965516,
          2.28099173553719,
          0.8461538461538463,
          0.71900826446281,
          2.28099173553719,
          1.2845528455284554,
          2.7154471544715446,
          0.8923076923076922,
          1.900763358778626,
          2.28099173553719,
          1.8225806451612905,
          0.7123287671232879,
          6.153846153846153,
          0.2845528455284554,
          1.099236641221374,
          0.2845528455284554,
          1.3897058823529411,
          1.282258064516129,
          2.28099173553719,
          0.46923076923076934,
          1.0775862068965516,
          0.6102941176470589,
          1.099236641221374,
          1.8225806451612905,
          2.282258064516129,
          4.389705882352941,
          1.1538461538461537,
          3.287671232876712,
          1.0775862068965516,
          0.6102941176470589,
          0.10769230769230775,
          0.7123287671232879,
          1.2845528455284554,
          1.8225806451612905,
          1.0775862068965516,
          0.8225806451612905,
          1.900763358778626,
          2.28099173553719,
          1.1774193548387095,
          0.282258064516129,
          4.7190082644628095,
          0.2845528455284554,
          0.15384615384615374,
          4.099236641221374,
          2.282258064516129,
          1.8225806451612905,
          0.282258064516129,
          0.28099173553719003,
          1.282258064516129,
          0.2845528455284554,
          1.28099173553719,
          1.4692307692307693,
          0.10769230769230775,
          0.282258064516129,
          2.1774193548387095,
          1.28099173553719,
          0.71900826446281,
          1.7857142857142858,
          0.717741935483871,
          0.15384615384615374,
          0.3897058823529411,
          0.6102941176470589,
          1.1076923076923078,
          0.28767123287671215,
          0.9007633587786259,
          9.53076923076923,
          2.712328767123288,
          2.1538461538461537,
          6.7190082644628095,
          1.28099173553719,
          0.8225806451612905,
          1.7123287671232879,
          3.7154471544715446,
          3.8225806451612905,
          0.15384615384615374,
          0.7154471544715446,
          0.15384615384615374,
          0.6102941176470589,
          1.099236641221374,
          0.28099173553719003,
          0.5307692307692307,
          2.28099173553719,
          2.4692307692307693,
          0.3897058823529411,
          1.717741935483871,
          4.153846153846153,
          0.10769230769230775,
          0.28099173553719003,
          0.71900826446281,
          1.1774193548387095,
          0.8461538461538463,
          0.282258064516129,
          1.2845528455284554,
          1.28099173553719,
          0.7857142857142858,
          0.10769230769230775,
          2.5307692307692307,
          2.0775862068965516,
          0.8225806451612905,
          1.1774193548387095,
          0.9224137931034484,
          1.4692307692307693,
          0.46923076923076934,
          2.712328767123288,
          2.0775862068965516,
          2.28099173553719,
          1.900763358778626,
          1.2876712328767121,
          1.7857142857142858,
          1.2845528455284554,
          2.1538461538461537,
          2.2845528455284554,
          1.2845528455284554,
          2.282258064516129,
          1.1076923076923078,
          1.099236641221374,
          1.9224137931034484,
          1.5307692307692307,
          0.28099173553719003,
          1.6102941176470589,
          2.2845528455284554,
          1.8225806451612905,
          6.530769230769231,
          1.0775862068965516,
          2.0775862068965516,
          0.2845528455284554,
          1.5307692307692307,
          0.15384615384615374,
          2.099236641221374,
          1.0775862068965516,
          0.2845528455284554,
          1.900763358778626,
          1.1774193548387095,
          0.3897058823529411,
          1.282258064516129,
          3.099236641221374,
          2.4692307692307693,
          1.2876712328767121,
          1.2845528455284554,
          0.71900826446281,
          4.82258064516129,
          0.7123287671232879,
          2.4692307692307693,
          1,
          2.1774193548387095,
          3.71900826446281,
          2.28099173553719,
          2.8225806451612905,
          2.0775862068965516,
          2.1774193548387095,
          2.717741935483871,
          0.2845528455284554,
          2.1774193548387095,
          2.5307692307692307,
          0.7209302325581395,
          2.28099173553719,
          1.4692307692307693,
          1.5307692307692307,
          5.530769230769231,
          2.28099173553719,
          2.4692307692307693,
          0.28099173553719003,
          2.2845528455284554,
          1.5307692307692307,
          2.712328767123288,
          1.8461538461538463,
          1.1774193548387095,
          1.28099173553719,
          4.153846153846153,
          1.9224137931034484,
          0.28099173553719003,
          1.1774193548387095,
          0.71900826446281,
          2.0775862068965516,
          4.717741935483871,
          1.6102941176470589,
          0.3897058823529411,
          2.71900826446281,
          1.2790697674418605,
          0.6102941176470589,
          3.2790697674418605,
          0.7209302325581395,
          2.8225806451612905,
          2.2845528455284554,
          0.717741935483871,
          0.5307692307692307,
          1.1774193548387095,
          0.282258064516129,
          1.1774193548387095,
          1.1538461538461537,
          2.282258064516129,
          1.4692307692307693,
          0.6102941176470589,
          1.1774193548387095,
          1.71900826446281,
          0.8461538461538463,
          0.7209302325581395,
          0.9224137931034484,
          2.71900826446281,
          0.71900826446281,
          2.9224137931034484,
          1.2845528455284554,
          2.287671232876712,
          1.4692307692307693,
          0.46923076923076934,
          0.8225806451612905,
          2.1774193548387095,
          0.3897058823529411,
          2.712328767123288,
          0.8461538461538463,
          0.15384615384615374,
          0.717741935483871,
          0.9224137931034484,
          2.4692307692307693,
          2.1774193548387095,
          3.8225806451612905,
          0.2845528455284554,
          4.922413793103448,
          0.10769230769230775,
          0.8461538461538463,
          0.15384615384615374,
          1.4692307692307693,
          0.717741935483871,
          0.282258064516129,
          0.71900826446281,
          0.2845528455284554,
          0.282258064516129,
          1.900763358778626,
          0.46923076923076934,
          0.15384615384615374,
          0.7154471544715446,
          1.2845528455284554,
          0.9224137931034484,
          1.0775862068965516,
          1.1538461538461537,
          0.3897058823529411,
          0.282258064516129,
          0.3897058823529411,
          1.2845528455284554,
          0.9224137931034484,
          1.8923076923076922,
          0.15384615384615374,
          0.7123287671232879,
          1.8461538461538463,
          1.282258064516129,
          1.282258064516129,
          0.717741935483871,
          1.71900826446281,
          1.4692307692307693,
          1.2876712328767121,
          2.712328767123288,
          2.1774193548387095,
          2.1774193548387095,
          0.5307692307692307,
          1.1076923076923078,
          0.8225806451612905,
          1.2876712328767121,
          1.6102941176470589,
          2.7209302325581395,
          1.1774193548387095,
          0.717741935483871,
          0.7154471544715446,
          0.9007633587786259,
          3.099236641221374,
          1.717741935483871,
          0.2845528455284554,
          0.46923076923076934,
          0.28099173553719003,
          0.46923076923076934,
          3.5307692307692307,
          1.900763358778626,
          1.7123287671232879
         ],
         "xaxis": "x",
         "yaxis": "y"
        }
       ],
       "layout": {
        "autosize": true,
        "barmode": "relative",
        "legend": {
         "tracegroupgap": 0
        },
        "template": {
         "data": {
          "bar": [
           {
            "error_x": {
             "color": "#f2f5fa"
            },
            "error_y": {
             "color": "#f2f5fa"
            },
            "marker": {
             "line": {
              "color": "rgb(17,17,17)",
              "width": 0.5
             }
            },
            "type": "bar"
           }
          ],
          "barpolar": [
           {
            "marker": {
             "line": {
              "color": "rgb(17,17,17)",
              "width": 0.5
             }
            },
            "type": "barpolar"
           }
          ],
          "carpet": [
           {
            "aaxis": {
             "endlinecolor": "#A2B1C6",
             "gridcolor": "#506784",
             "linecolor": "#506784",
             "minorgridcolor": "#506784",
             "startlinecolor": "#A2B1C6"
            },
            "baxis": {
             "endlinecolor": "#A2B1C6",
             "gridcolor": "#506784",
             "linecolor": "#506784",
             "minorgridcolor": "#506784",
             "startlinecolor": "#A2B1C6"
            },
            "type": "carpet"
           }
          ],
          "choropleth": [
           {
            "colorbar": {
             "outlinewidth": 0,
             "ticks": ""
            },
            "type": "choropleth"
           }
          ],
          "contour": [
           {
            "colorbar": {
             "outlinewidth": 0,
             "ticks": ""
            },
            "colorscale": [
             [
              0,
              "#0d0887"
             ],
             [
              0.1111111111111111,
              "#46039f"
             ],
             [
              0.2222222222222222,
              "#7201a8"
             ],
             [
              0.3333333333333333,
              "#9c179e"
             ],
             [
              0.4444444444444444,
              "#bd3786"
             ],
             [
              0.5555555555555556,
              "#d8576b"
             ],
             [
              0.6666666666666666,
              "#ed7953"
             ],
             [
              0.7777777777777778,
              "#fb9f3a"
             ],
             [
              0.8888888888888888,
              "#fdca26"
             ],
             [
              1,
              "#f0f921"
             ]
            ],
            "type": "contour"
           }
          ],
          "contourcarpet": [
           {
            "colorbar": {
             "outlinewidth": 0,
             "ticks": ""
            },
            "type": "contourcarpet"
           }
          ],
          "heatmap": [
           {
            "colorbar": {
             "outlinewidth": 0,
             "ticks": ""
            },
            "colorscale": [
             [
              0,
              "#0d0887"
             ],
             [
              0.1111111111111111,
              "#46039f"
             ],
             [
              0.2222222222222222,
              "#7201a8"
             ],
             [
              0.3333333333333333,
              "#9c179e"
             ],
             [
              0.4444444444444444,
              "#bd3786"
             ],
             [
              0.5555555555555556,
              "#d8576b"
             ],
             [
              0.6666666666666666,
              "#ed7953"
             ],
             [
              0.7777777777777778,
              "#fb9f3a"
             ],
             [
              0.8888888888888888,
              "#fdca26"
             ],
             [
              1,
              "#f0f921"
             ]
            ],
            "type": "heatmap"
           }
          ],
          "heatmapgl": [
           {
            "colorbar": {
             "outlinewidth": 0,
             "ticks": ""
            },
            "colorscale": [
             [
              0,
              "#0d0887"
             ],
             [
              0.1111111111111111,
              "#46039f"
             ],
             [
              0.2222222222222222,
              "#7201a8"
             ],
             [
              0.3333333333333333,
              "#9c179e"
             ],
             [
              0.4444444444444444,
              "#bd3786"
             ],
             [
              0.5555555555555556,
              "#d8576b"
             ],
             [
              0.6666666666666666,
              "#ed7953"
             ],
             [
              0.7777777777777778,
              "#fb9f3a"
             ],
             [
              0.8888888888888888,
              "#fdca26"
             ],
             [
              1,
              "#f0f921"
             ]
            ],
            "type": "heatmapgl"
           }
          ],
          "histogram": [
           {
            "marker": {
             "colorbar": {
              "outlinewidth": 0,
              "ticks": ""
             }
            },
            "type": "histogram"
           }
          ],
          "histogram2d": [
           {
            "colorbar": {
             "outlinewidth": 0,
             "ticks": ""
            },
            "colorscale": [
             [
              0,
              "#0d0887"
             ],
             [
              0.1111111111111111,
              "#46039f"
             ],
             [
              0.2222222222222222,
              "#7201a8"
             ],
             [
              0.3333333333333333,
              "#9c179e"
             ],
             [
              0.4444444444444444,
              "#bd3786"
             ],
             [
              0.5555555555555556,
              "#d8576b"
             ],
             [
              0.6666666666666666,
              "#ed7953"
             ],
             [
              0.7777777777777778,
              "#fb9f3a"
             ],
             [
              0.8888888888888888,
              "#fdca26"
             ],
             [
              1,
              "#f0f921"
             ]
            ],
            "type": "histogram2d"
           }
          ],
          "histogram2dcontour": [
           {
            "colorbar": {
             "outlinewidth": 0,
             "ticks": ""
            },
            "colorscale": [
             [
              0,
              "#0d0887"
             ],
             [
              0.1111111111111111,
              "#46039f"
             ],
             [
              0.2222222222222222,
              "#7201a8"
             ],
             [
              0.3333333333333333,
              "#9c179e"
             ],
             [
              0.4444444444444444,
              "#bd3786"
             ],
             [
              0.5555555555555556,
              "#d8576b"
             ],
             [
              0.6666666666666666,
              "#ed7953"
             ],
             [
              0.7777777777777778,
              "#fb9f3a"
             ],
             [
              0.8888888888888888,
              "#fdca26"
             ],
             [
              1,
              "#f0f921"
             ]
            ],
            "type": "histogram2dcontour"
           }
          ],
          "mesh3d": [
           {
            "colorbar": {
             "outlinewidth": 0,
             "ticks": ""
            },
            "type": "mesh3d"
           }
          ],
          "parcoords": [
           {
            "line": {
             "colorbar": {
              "outlinewidth": 0,
              "ticks": ""
             }
            },
            "type": "parcoords"
           }
          ],
          "pie": [
           {
            "automargin": true,
            "type": "pie"
           }
          ],
          "scatter": [
           {
            "marker": {
             "line": {
              "color": "#283442"
             }
            },
            "type": "scatter"
           }
          ],
          "scatter3d": [
           {
            "line": {
             "colorbar": {
              "outlinewidth": 0,
              "ticks": ""
             }
            },
            "marker": {
             "colorbar": {
              "outlinewidth": 0,
              "ticks": ""
             }
            },
            "type": "scatter3d"
           }
          ],
          "scattercarpet": [
           {
            "marker": {
             "colorbar": {
              "outlinewidth": 0,
              "ticks": ""
             }
            },
            "type": "scattercarpet"
           }
          ],
          "scattergeo": [
           {
            "marker": {
             "colorbar": {
              "outlinewidth": 0,
              "ticks": ""
             }
            },
            "type": "scattergeo"
           }
          ],
          "scattergl": [
           {
            "marker": {
             "line": {
              "color": "#283442"
             }
            },
            "type": "scattergl"
           }
          ],
          "scattermapbox": [
           {
            "marker": {
             "colorbar": {
              "outlinewidth": 0,
              "ticks": ""
             }
            },
            "type": "scattermapbox"
           }
          ],
          "scatterpolar": [
           {
            "marker": {
             "colorbar": {
              "outlinewidth": 0,
              "ticks": ""
             }
            },
            "type": "scatterpolar"
           }
          ],
          "scatterpolargl": [
           {
            "marker": {
             "colorbar": {
              "outlinewidth": 0,
              "ticks": ""
             }
            },
            "type": "scatterpolargl"
           }
          ],
          "scatterternary": [
           {
            "marker": {
             "colorbar": {
              "outlinewidth": 0,
              "ticks": ""
             }
            },
            "type": "scatterternary"
           }
          ],
          "surface": [
           {
            "colorbar": {
             "outlinewidth": 0,
             "ticks": ""
            },
            "colorscale": [
             [
              0,
              "#0d0887"
             ],
             [
              0.1111111111111111,
              "#46039f"
             ],
             [
              0.2222222222222222,
              "#7201a8"
             ],
             [
              0.3333333333333333,
              "#9c179e"
             ],
             [
              0.4444444444444444,
              "#bd3786"
             ],
             [
              0.5555555555555556,
              "#d8576b"
             ],
             [
              0.6666666666666666,
              "#ed7953"
             ],
             [
              0.7777777777777778,
              "#fb9f3a"
             ],
             [
              0.8888888888888888,
              "#fdca26"
             ],
             [
              1,
              "#f0f921"
             ]
            ],
            "type": "surface"
           }
          ],
          "table": [
           {
            "cells": {
             "fill": {
              "color": "#506784"
             },
             "line": {
              "color": "rgb(17,17,17)"
             }
            },
            "header": {
             "fill": {
              "color": "#2a3f5f"
             },
             "line": {
              "color": "rgb(17,17,17)"
             }
            },
            "type": "table"
           }
          ]
         },
         "layout": {
          "annotationdefaults": {
           "arrowcolor": "#f2f5fa",
           "arrowhead": 0,
           "arrowwidth": 1
          },
          "coloraxis": {
           "colorbar": {
            "outlinewidth": 0,
            "ticks": ""
           }
          },
          "colorscale": {
           "diverging": [
            [
             0,
             "#8e0152"
            ],
            [
             0.1,
             "#c51b7d"
            ],
            [
             0.2,
             "#de77ae"
            ],
            [
             0.3,
             "#f1b6da"
            ],
            [
             0.4,
             "#fde0ef"
            ],
            [
             0.5,
             "#f7f7f7"
            ],
            [
             0.6,
             "#e6f5d0"
            ],
            [
             0.7,
             "#b8e186"
            ],
            [
             0.8,
             "#7fbc41"
            ],
            [
             0.9,
             "#4d9221"
            ],
            [
             1,
             "#276419"
            ]
           ],
           "sequential": [
            [
             0,
             "#0d0887"
            ],
            [
             0.1111111111111111,
             "#46039f"
            ],
            [
             0.2222222222222222,
             "#7201a8"
            ],
            [
             0.3333333333333333,
             "#9c179e"
            ],
            [
             0.4444444444444444,
             "#bd3786"
            ],
            [
             0.5555555555555556,
             "#d8576b"
            ],
            [
             0.6666666666666666,
             "#ed7953"
            ],
            [
             0.7777777777777778,
             "#fb9f3a"
            ],
            [
             0.8888888888888888,
             "#fdca26"
            ],
            [
             1,
             "#f0f921"
            ]
           ],
           "sequentialminus": [
            [
             0,
             "#0d0887"
            ],
            [
             0.1111111111111111,
             "#46039f"
            ],
            [
             0.2222222222222222,
             "#7201a8"
            ],
            [
             0.3333333333333333,
             "#9c179e"
            ],
            [
             0.4444444444444444,
             "#bd3786"
            ],
            [
             0.5555555555555556,
             "#d8576b"
            ],
            [
             0.6666666666666666,
             "#ed7953"
            ],
            [
             0.7777777777777778,
             "#fb9f3a"
            ],
            [
             0.8888888888888888,
             "#fdca26"
            ],
            [
             1,
             "#f0f921"
            ]
           ]
          },
          "colorway": [
           "#636efa",
           "#EF553B",
           "#00cc96",
           "#ab63fa",
           "#FFA15A",
           "#19d3f3",
           "#FF6692",
           "#B6E880",
           "#FF97FF",
           "#FECB52"
          ],
          "font": {
           "color": "#f2f5fa"
          },
          "geo": {
           "bgcolor": "rgb(17,17,17)",
           "lakecolor": "rgb(17,17,17)",
           "landcolor": "rgb(17,17,17)",
           "showlakes": true,
           "showland": true,
           "subunitcolor": "#506784"
          },
          "hoverlabel": {
           "align": "left"
          },
          "hovermode": "closest",
          "mapbox": {
           "style": "dark"
          },
          "paper_bgcolor": "rgb(17,17,17)",
          "plot_bgcolor": "rgb(17,17,17)",
          "polar": {
           "angularaxis": {
            "gridcolor": "#506784",
            "linecolor": "#506784",
            "ticks": ""
           },
           "bgcolor": "rgb(17,17,17)",
           "radialaxis": {
            "gridcolor": "#506784",
            "linecolor": "#506784",
            "ticks": ""
           }
          },
          "scene": {
           "xaxis": {
            "backgroundcolor": "rgb(17,17,17)",
            "gridcolor": "#506784",
            "gridwidth": 2,
            "linecolor": "#506784",
            "showbackground": true,
            "ticks": "",
            "zerolinecolor": "#C8D4E3"
           },
           "yaxis": {
            "backgroundcolor": "rgb(17,17,17)",
            "gridcolor": "#506784",
            "gridwidth": 2,
            "linecolor": "#506784",
            "showbackground": true,
            "ticks": "",
            "zerolinecolor": "#C8D4E3"
           },
           "zaxis": {
            "backgroundcolor": "rgb(17,17,17)",
            "gridcolor": "#506784",
            "gridwidth": 2,
            "linecolor": "#506784",
            "showbackground": true,
            "ticks": "",
            "zerolinecolor": "#C8D4E3"
           }
          },
          "shapedefaults": {
           "line": {
            "color": "#f2f5fa"
           }
          },
          "sliderdefaults": {
           "bgcolor": "#C8D4E3",
           "bordercolor": "rgb(17,17,17)",
           "borderwidth": 1,
           "tickwidth": 0
          },
          "ternary": {
           "aaxis": {
            "gridcolor": "#506784",
            "linecolor": "#506784",
            "ticks": ""
           },
           "baxis": {
            "gridcolor": "#506784",
            "linecolor": "#506784",
            "ticks": ""
           },
           "bgcolor": "rgb(17,17,17)",
           "caxis": {
            "gridcolor": "#506784",
            "linecolor": "#506784",
            "ticks": ""
           }
          },
          "title": {
           "x": 0.05
          },
          "updatemenudefaults": {
           "bgcolor": "#506784",
           "borderwidth": 0
          },
          "xaxis": {
           "automargin": true,
           "gridcolor": "#283442",
           "linecolor": "#506784",
           "ticks": "",
           "title": {
            "standoff": 15
           },
           "zerolinecolor": "#283442",
           "zerolinewidth": 2
          },
          "yaxis": {
           "automargin": true,
           "gridcolor": "#283442",
           "linecolor": "#506784",
           "ticks": "",
           "title": {
            "standoff": 15
           },
           "zerolinecolor": "#283442",
           "zerolinewidth": 2
          }
         }
        },
        "title": {
         "text": "Absolute error distribution for simple Average Model"
        },
        "xaxis": {
         "anchor": "y",
         "autorange": true,
         "domain": [
          0,
          1
         ],
         "range": [
          0,
          10
         ],
         "title": {
          "text": "abs_error"
         },
         "type": "linear"
        },
        "yaxis": {
         "anchor": "x",
         "autorange": true,
         "domain": [
          0,
          1
         ],
         "range": [
          0,
          92.63157894736842
         ],
         "title": {
          "text": "count"
         }
        }
       }
      },
      "image/png": "[encoded data removed]",
      "text/html": [
       "<div>\n",
       "        \n",
       "        \n",
       "            <div id=\"a8378b57-c152-41b6-add8-63ce5c134c47\" class=\"plotly-graph-div\" style=\"height:300px; width:100%;\"></div>\n",
       "            <script type=\"text/javascript\">\n",
       "                require([\"plotly\"], function(Plotly) {\n",
       "                    window.PLOTLYENV=window.PLOTLYENV || {};\n",
       "                    \n",
       "                if (document.getElementById(\"a8378b57-c152-41b6-add8-63ce5c134c47\")) {\n",
       "                    Plotly.newPlot(\n",
       "                        'a8378b57-c152-41b6-add8-63ce5c134c47',\n",
       "                        [{\"alignmentgroup\": \"True\", \"bingroup\": \"x\", \"hovertemplate\": \"abs_error=%{x}<br>count=%{y}<extra></extra>\", \"legendgroup\": \"\", \"marker\": {\"color\": \"#636efa\", \"opacity\": 0.7}, \"name\": \"\", \"offsetgroup\": \"\", \"orientation\": \"v\", \"showlegend\": false, \"type\": \"histogram\", \"x\": [0.9224137931034484, 1.3897058823529411, 1.1774193548387095, 3.7154471544715446, 2.1774193548387095, 1.7209302325581395, 1.6102941176470589, 0.9224137931034484, 0.9007633587786259, 1.7857142857142858, 1.7857142857142858, 1.8461538461538463, 0.2790697674418605, 0.46923076923076934, 0.9224137931034484, 0.282258064516129, 1.1076923076923078, 0.8461538461538463, 1.6102941176470589, 2.712328767123288, 0.282258064516129, 2.282258064516129, 1.8461538461538463, 0.28099173553719003, 1.1774193548387095, 0.15384615384615374, 1.4692307692307693, 2.28099173553719, 1.8461538461538463, 0.7154471544715446, 0.6102941176470589, 0.282258064516129, 1.8461538461538463, 1.71900826446281, 0.5307692307692307, 0.9224137931034484, 2.28099173553719, 0.717741935483871, 2.2845528455284554, 2.4692307692307693, 1.1774193548387095, 1.8225806451612905, 0.7123287671232879, 1.2845528455284554, 1.2845528455284554, 1.099236641221374, 2.2845528455284554, 4.389705882352941, 5.287671232876712, 0.7154471544715446, 1.4692307692307693, 1.7123287671232879, 0.17741935483870952, 0.7209302325581395, 0.2845528455284554, 0.6102941176470589, 0.717741935483871, 0.8923076923076922, 1.0775862068965516, 0.9224137931034484, 2.28099173553719, 1.099236641221374, 1.2845528455284554, 0.17741935483870952, 0.6102941176470589, 2.2845528455284554, 2.712328767123288, 0.717741935483871, 0.17741935483870952, 0.8225806451612905, 2.28099173553719, 1.2845528455284554, 1.71900826446281, 0.28767123287671215, 5.530769230769231, 0.8225806451612905, 1.282258064516129, 1.0775862068965516, 2.7154471544715446, 1.717741935483871, 0.71900826446281, 0.5307692307692307, 0.28099173553719003, 1.0775862068965516, 0.7209302325581395, 0.71900826446281, 1.6102941176470589, 0.8923076923076922, 0.10769230769230775, 2.282258064516129, 0.717741935483871, 0.3897058823529411, 2.71900826446281, 1.6102941176470589, 0.3897058823529411, 0.10769230769230775, 0.9224137931034484, 0.7154471544715446, 1.717741935483871, 1.099236641221374, 3.389705882352941, 0.282258064516129, 0.9007633587786259, 1.6102941176470589, 1.6102941176470589, 1.0775862068965516, 2.282258064516129, 3.389705882352941, 0.15384615384615374, 1.28099173553719, 0.7857142857142858, 1.900763358778626, 1.28099173553719, 0.717741935483871, 2.2790697674418605, 2.1538461538461537, 0.9007633587786259, 2.5307692307692307, 2.4692307692307693, 0.3897058823529411, 2.2845528455284554, 0.8461538461538463, 0.3897058823529411, 2.712328767123288, 1.0775862068965516, 1.717741935483871, 0.3897058823529411, 1.7123287671232879, 2.9224137931034484, 1.099236641221374, 1.28099173553719, 0.2845528455284554, 0.9007633587786259, 1.9224137931034484, 2.28099173553719, 1.1538461538461537, 1.1774193548387095, 0.8461538461538463, 1.28099173553719, 0.15384615384615374, 1.8461538461538463, 2.099236641221374, 0.15384615384615374, 0.2845528455284554, 1.1538461538461537, 2.2845528455284554, 0.8461538461538463, 1.0775862068965516, 2.28099173553719, 0.8461538461538463, 0.71900826446281, 2.28099173553719, 1.2845528455284554, 2.7154471544715446, 0.8923076923076922, 1.900763358778626, 2.28099173553719, 1.8225806451612905, 0.7123287671232879, 6.153846153846153, 0.2845528455284554, 1.099236641221374, 0.2845528455284554, 1.3897058823529411, 1.282258064516129, 2.28099173553719, 0.46923076923076934, 1.0775862068965516, 0.6102941176470589, 1.099236641221374, 1.8225806451612905, 2.282258064516129, 4.389705882352941, 1.1538461538461537, 3.287671232876712, 1.0775862068965516, 0.6102941176470589, 0.10769230769230775, 0.7123287671232879, 1.2845528455284554, 1.8225806451612905, 1.0775862068965516, 0.8225806451612905, 1.900763358778626, 2.28099173553719, 1.1774193548387095, 0.282258064516129, 4.7190082644628095, 0.2845528455284554, 0.15384615384615374, 4.099236641221374, 2.282258064516129, 1.8225806451612905, 0.282258064516129, 0.28099173553719003, 1.282258064516129, 0.2845528455284554, 1.28099173553719, 1.4692307692307693, 0.10769230769230775, 0.282258064516129, 2.1774193548387095, 1.28099173553719, 0.71900826446281, 1.7857142857142858, 0.717741935483871, 0.15384615384615374, 0.3897058823529411, 0.6102941176470589, 1.1076923076923078, 0.28767123287671215, 0.9007633587786259, 9.53076923076923, 2.712328767123288, 2.1538461538461537, 6.7190082644628095, 1.28099173553719, 0.8225806451612905, 1.7123287671232879, 3.7154471544715446, 3.8225806451612905, 0.15384615384615374, 0.7154471544715446, 0.15384615384615374, 0.6102941176470589, 1.099236641221374, 0.28099173553719003, 0.5307692307692307, 2.28099173553719, 2.4692307692307693, 0.3897058823529411, 1.717741935483871, 4.153846153846153, 0.10769230769230775, 0.28099173553719003, 0.71900826446281, 1.1774193548387095, 0.8461538461538463, 0.282258064516129, 1.2845528455284554, 1.28099173553719, 0.7857142857142858, 0.10769230769230775, 2.5307692307692307, 2.0775862068965516, 0.8225806451612905, 1.1774193548387095, 0.9224137931034484, 1.4692307692307693, 0.46923076923076934, 2.712328767123288, 2.0775862068965516, 2.28099173553719, 1.900763358778626, 1.2876712328767121, 1.7857142857142858, 1.2845528455284554, 2.1538461538461537, 2.2845528455284554, 1.2845528455284554, 2.282258064516129, 1.1076923076923078, 1.099236641221374, 1.9224137931034484, 1.5307692307692307, 0.28099173553719003, 1.6102941176470589, 2.2845528455284554, 1.8225806451612905, 6.530769230769231, 1.0775862068965516, 2.0775862068965516, 0.2845528455284554, 1.5307692307692307, 0.15384615384615374, 2.099236641221374, 1.0775862068965516, 0.2845528455284554, 1.900763358778626, 1.1774193548387095, 0.3897058823529411, 1.282258064516129, 3.099236641221374, 2.4692307692307693, 1.2876712328767121, 1.2845528455284554, 0.71900826446281, 4.82258064516129, 0.7123287671232879, 2.4692307692307693, 1.0, 2.1774193548387095, 3.71900826446281, 2.28099173553719, 2.8225806451612905, 2.0775862068965516, 2.1774193548387095, 2.717741935483871, 0.2845528455284554, 2.1774193548387095, 2.5307692307692307, 0.7209302325581395, 2.28099173553719, 1.4692307692307693, 1.5307692307692307, 5.530769230769231, 2.28099173553719, 2.4692307692307693, 0.28099173553719003, 2.2845528455284554, 1.5307692307692307, 2.712328767123288, 1.8461538461538463, 1.1774193548387095, 1.28099173553719, 4.153846153846153, 1.9224137931034484, 0.28099173553719003, 1.1774193548387095, 0.71900826446281, 2.0775862068965516, 4.717741935483871, 1.6102941176470589, 0.3897058823529411, 2.71900826446281, 1.2790697674418605, 0.6102941176470589, 3.2790697674418605, 0.7209302325581395, 2.8225806451612905, 2.2845528455284554, 0.717741935483871, 0.5307692307692307, 1.1774193548387095, 0.282258064516129, 1.1774193548387095, 1.1538461538461537, 2.282258064516129, 1.4692307692307693, 0.6102941176470589, 1.1774193548387095, 1.71900826446281, 0.8461538461538463, 0.7209302325581395, 0.9224137931034484, 2.71900826446281, 0.71900826446281, 2.9224137931034484, 1.2845528455284554, 2.287671232876712, 1.4692307692307693, 0.46923076923076934, 0.8225806451612905, 2.1774193548387095, 0.3897058823529411, 2.712328767123288, 0.8461538461538463, 0.15384615384615374, 0.717741935483871, 0.9224137931034484, 2.4692307692307693, 2.1774193548387095, 3.8225806451612905, 0.2845528455284554, 4.922413793103448, 0.10769230769230775, 0.8461538461538463, 0.15384615384615374, 1.4692307692307693, 0.717741935483871, 0.282258064516129, 0.71900826446281, 0.2845528455284554, 0.282258064516129, 1.900763358778626, 0.46923076923076934, 0.15384615384615374, 0.7154471544715446, 1.2845528455284554, 0.9224137931034484, 1.0775862068965516, 1.1538461538461537, 0.3897058823529411, 0.282258064516129, 0.3897058823529411, 1.2845528455284554, 0.9224137931034484, 1.8923076923076922, 0.15384615384615374, 0.7123287671232879, 1.8461538461538463, 1.282258064516129, 1.282258064516129, 0.717741935483871, 1.71900826446281, 1.4692307692307693, 1.2876712328767121, 2.712328767123288, 2.1774193548387095, 2.1774193548387095, 0.5307692307692307, 1.1076923076923078, 0.8225806451612905, 1.2876712328767121, 1.6102941176470589, 2.7209302325581395, 1.1774193548387095, 0.717741935483871, 0.7154471544715446, 0.9007633587786259, 3.099236641221374, 1.717741935483871, 0.2845528455284554, 0.46923076923076934, 0.28099173553719003, 0.46923076923076934, 3.5307692307692307, 1.900763358778626, 1.7123287671232879], \"xaxis\": \"x\", \"yaxis\": \"y\"}],\n",
       "                        {\"barmode\": \"relative\", \"height\": 300, \"legend\": {\"tracegroupgap\": 0}, \"template\": {\"data\": {\"bar\": [{\"error_x\": {\"color\": \"#f2f5fa\"}, \"error_y\": {\"color\": \"#f2f5fa\"}, \"marker\": {\"line\": {\"color\": \"rgb(17,17,17)\", \"width\": 0.5}}, \"type\": \"bar\"}], \"barpolar\": [{\"marker\": {\"line\": {\"color\": \"rgb(17,17,17)\", \"width\": 0.5}}, \"type\": \"barpolar\"}], \"carpet\": [{\"aaxis\": {\"endlinecolor\": \"#A2B1C6\", \"gridcolor\": \"#506784\", \"linecolor\": \"#506784\", \"minorgridcolor\": \"#506784\", \"startlinecolor\": \"#A2B1C6\"}, \"baxis\": {\"endlinecolor\": \"#A2B1C6\", \"gridcolor\": \"#506784\", \"linecolor\": \"#506784\", \"minorgridcolor\": \"#506784\", \"startlinecolor\": \"#A2B1C6\"}, \"type\": \"carpet\"}], \"choropleth\": [{\"colorbar\": {\"outlinewidth\": 0, \"ticks\": \"\"}, \"type\": \"choropleth\"}], \"contour\": [{\"colorbar\": {\"outlinewidth\": 0, \"ticks\": \"\"}, \"colorscale\": [[0.0, \"#0d0887\"], [0.1111111111111111, \"#46039f\"], [0.2222222222222222, \"#7201a8\"], [0.3333333333333333, \"#9c179e\"], [0.4444444444444444, \"#bd3786\"], [0.5555555555555556, \"#d8576b\"], [0.6666666666666666, \"#ed7953\"], [0.7777777777777778, \"#fb9f3a\"], [0.8888888888888888, \"#fdca26\"], [1.0, \"#f0f921\"]], \"type\": \"contour\"}], \"contourcarpet\": [{\"colorbar\": {\"outlinewidth\": 0, \"ticks\": \"\"}, \"type\": \"contourcarpet\"}], \"heatmap\": [{\"colorbar\": {\"outlinewidth\": 0, \"ticks\": \"\"}, \"colorscale\": [[0.0, \"#0d0887\"], [0.1111111111111111, \"#46039f\"], [0.2222222222222222, \"#7201a8\"], [0.3333333333333333, \"#9c179e\"], [0.4444444444444444, \"#bd3786\"], [0.5555555555555556, \"#d8576b\"], [0.6666666666666666, \"#ed7953\"], [0.7777777777777778, \"#fb9f3a\"], [0.8888888888888888, \"#fdca26\"], [1.0, \"#f0f921\"]], \"type\": \"heatmap\"}], \"heatmapgl\": [{\"colorbar\": {\"outlinewidth\": 0, \"ticks\": \"\"}, \"colorscale\": [[0.0, \"#0d0887\"], [0.1111111111111111, \"#46039f\"], [0.2222222222222222, \"#7201a8\"], [0.3333333333333333, \"#9c179e\"], [0.4444444444444444, \"#bd3786\"], [0.5555555555555556, \"#d8576b\"], [0.6666666666666666, \"#ed7953\"], [0.7777777777777778, \"#fb9f3a\"], [0.8888888888888888, \"#fdca26\"], [1.0, \"#f0f921\"]], \"type\": \"heatmapgl\"}], \"histogram\": [{\"marker\": {\"colorbar\": {\"outlinewidth\": 0, \"ticks\": \"\"}}, \"type\": \"histogram\"}], \"histogram2d\": [{\"colorbar\": {\"outlinewidth\": 0, \"ticks\": \"\"}, \"colorscale\": [[0.0, \"#0d0887\"], [0.1111111111111111, \"#46039f\"], [0.2222222222222222, \"#7201a8\"], [0.3333333333333333, \"#9c179e\"], [0.4444444444444444, \"#bd3786\"], [0.5555555555555556, \"#d8576b\"], [0.6666666666666666, \"#ed7953\"], [0.7777777777777778, \"#fb9f3a\"], [0.8888888888888888, \"#fdca26\"], [1.0, \"#f0f921\"]], \"type\": \"histogram2d\"}], \"histogram2dcontour\": [{\"colorbar\": {\"outlinewidth\": 0, \"ticks\": \"\"}, \"colorscale\": [[0.0, \"#0d0887\"], [0.1111111111111111, \"#46039f\"], [0.2222222222222222, \"#7201a8\"], [0.3333333333333333, \"#9c179e\"], [0.4444444444444444, \"#bd3786\"], [0.5555555555555556, \"#d8576b\"], [0.6666666666666666, \"#ed7953\"], [0.7777777777777778, \"#fb9f3a\"], [0.8888888888888888, \"#fdca26\"], [1.0, \"#f0f921\"]], \"type\": \"histogram2dcontour\"}], \"mesh3d\": [{\"colorbar\": {\"outlinewidth\": 0, \"ticks\": \"\"}, \"type\": \"mesh3d\"}], \"parcoords\": [{\"line\": {\"colorbar\": {\"outlinewidth\": 0, \"ticks\": \"\"}}, \"type\": \"parcoords\"}], \"pie\": [{\"automargin\": true, \"type\": \"pie\"}], \"scatter\": [{\"marker\": {\"line\": {\"color\": \"#283442\"}}, \"type\": \"scatter\"}], \"scatter3d\": [{\"line\": {\"colorbar\": {\"outlinewidth\": 0, \"ticks\": \"\"}}, \"marker\": {\"colorbar\": {\"outlinewidth\": 0, \"ticks\": \"\"}}, \"type\": \"scatter3d\"}], \"scattercarpet\": [{\"marker\": {\"colorbar\": {\"outlinewidth\": 0, \"ticks\": \"\"}}, \"type\": \"scattercarpet\"}], \"scattergeo\": [{\"marker\": {\"colorbar\": {\"outlinewidth\": 0, \"ticks\": \"\"}}, \"type\": \"scattergeo\"}], \"scattergl\": [{\"marker\": {\"line\": {\"color\": \"#283442\"}}, \"type\": \"scattergl\"}], \"scattermapbox\": [{\"marker\": {\"colorbar\": {\"outlinewidth\": 0, \"ticks\": \"\"}}, \"type\": \"scattermapbox\"}], \"scatterpolar\": [{\"marker\": {\"colorbar\": {\"outlinewidth\": 0, \"ticks\": \"\"}}, \"type\": \"scatterpolar\"}], \"scatterpolargl\": [{\"marker\": {\"colorbar\": {\"outlinewidth\": 0, \"ticks\": \"\"}}, \"type\": \"scatterpolargl\"}], \"scatterternary\": [{\"marker\": {\"colorbar\": {\"outlinewidth\": 0, \"ticks\": \"\"}}, \"type\": \"scatterternary\"}], \"surface\": [{\"colorbar\": {\"outlinewidth\": 0, \"ticks\": \"\"}, \"colorscale\": [[0.0, \"#0d0887\"], [0.1111111111111111, \"#46039f\"], [0.2222222222222222, \"#7201a8\"], [0.3333333333333333, \"#9c179e\"], [0.4444444444444444, \"#bd3786\"], [0.5555555555555556, \"#d8576b\"], [0.6666666666666666, \"#ed7953\"], [0.7777777777777778, \"#fb9f3a\"], [0.8888888888888888, \"#fdca26\"], [1.0, \"#f0f921\"]], \"type\": \"surface\"}], \"table\": [{\"cells\": {\"fill\": {\"color\": \"#506784\"}, \"line\": {\"color\": \"rgb(17,17,17)\"}}, \"header\": {\"fill\": {\"color\": \"#2a3f5f\"}, \"line\": {\"color\": \"rgb(17,17,17)\"}}, \"type\": \"table\"}]}, \"layout\": {\"annotationdefaults\": {\"arrowcolor\": \"#f2f5fa\", \"arrowhead\": 0, \"arrowwidth\": 1}, \"coloraxis\": {\"colorbar\": {\"outlinewidth\": 0, \"ticks\": \"\"}}, \"colorscale\": {\"diverging\": [[0, \"#8e0152\"], [0.1, \"#c51b7d\"], [0.2, \"#de77ae\"], [0.3, \"#f1b6da\"], [0.4, \"#fde0ef\"], [0.5, \"#f7f7f7\"], [0.6, \"#e6f5d0\"], [0.7, \"#b8e186\"], [0.8, \"#7fbc41\"], [0.9, \"#4d9221\"], [1, \"#276419\"]], \"sequential\": [[0.0, \"#0d0887\"], [0.1111111111111111, \"#46039f\"], [0.2222222222222222, \"#7201a8\"], [0.3333333333333333, \"#9c179e\"], [0.4444444444444444, \"#bd3786\"], [0.5555555555555556, \"#d8576b\"], [0.6666666666666666, \"#ed7953\"], [0.7777777777777778, \"#fb9f3a\"], [0.8888888888888888, \"#fdca26\"], [1.0, \"#f0f921\"]], \"sequentialminus\": [[0.0, \"#0d0887\"], [0.1111111111111111, \"#46039f\"], [0.2222222222222222, \"#7201a8\"], [0.3333333333333333, \"#9c179e\"], [0.4444444444444444, \"#bd3786\"], [0.5555555555555556, \"#d8576b\"], [0.6666666666666666, \"#ed7953\"], [0.7777777777777778, \"#fb9f3a\"], [0.8888888888888888, \"#fdca26\"], [1.0, \"#f0f921\"]]}, \"colorway\": [\"#636efa\", \"#EF553B\", \"#00cc96\", \"#ab63fa\", \"#FFA15A\", \"#19d3f3\", \"#FF6692\", \"#B6E880\", \"#FF97FF\", \"#FECB52\"], \"font\": {\"color\": \"#f2f5fa\"}, \"geo\": {\"bgcolor\": \"rgb(17,17,17)\", \"lakecolor\": \"rgb(17,17,17)\", \"landcolor\": \"rgb(17,17,17)\", \"showlakes\": true, \"showland\": true, \"subunitcolor\": \"#506784\"}, \"hoverlabel\": {\"align\": \"left\"}, \"hovermode\": \"closest\", \"mapbox\": {\"style\": \"dark\"}, \"paper_bgcolor\": \"rgb(17,17,17)\", \"plot_bgcolor\": \"rgb(17,17,17)\", \"polar\": {\"angularaxis\": {\"gridcolor\": \"#506784\", \"linecolor\": \"#506784\", \"ticks\": \"\"}, \"bgcolor\": \"rgb(17,17,17)\", \"radialaxis\": {\"gridcolor\": \"#506784\", \"linecolor\": \"#506784\", \"ticks\": \"\"}}, \"scene\": {\"xaxis\": {\"backgroundcolor\": \"rgb(17,17,17)\", \"gridcolor\": \"#506784\", \"gridwidth\": 2, \"linecolor\": \"#506784\", \"showbackground\": true, \"ticks\": \"\", \"zerolinecolor\": \"#C8D4E3\"}, \"yaxis\": {\"backgroundcolor\": \"rgb(17,17,17)\", \"gridcolor\": \"#506784\", \"gridwidth\": 2, \"linecolor\": \"#506784\", \"showbackground\": true, \"ticks\": \"\", \"zerolinecolor\": \"#C8D4E3\"}, \"zaxis\": {\"backgroundcolor\": \"rgb(17,17,17)\", \"gridcolor\": \"#506784\", \"gridwidth\": 2, \"linecolor\": \"#506784\", \"showbackground\": true, \"ticks\": \"\", \"zerolinecolor\": \"#C8D4E3\"}}, \"shapedefaults\": {\"line\": {\"color\": \"#f2f5fa\"}}, \"sliderdefaults\": {\"bgcolor\": \"#C8D4E3\", \"bordercolor\": \"rgb(17,17,17)\", \"borderwidth\": 1, \"tickwidth\": 0}, \"ternary\": {\"aaxis\": {\"gridcolor\": \"#506784\", \"linecolor\": \"#506784\", \"ticks\": \"\"}, \"baxis\": {\"gridcolor\": \"#506784\", \"linecolor\": \"#506784\", \"ticks\": \"\"}, \"bgcolor\": \"rgb(17,17,17)\", \"caxis\": {\"gridcolor\": \"#506784\", \"linecolor\": \"#506784\", \"ticks\": \"\"}}, \"title\": {\"x\": 0.05}, \"updatemenudefaults\": {\"bgcolor\": \"#506784\", \"borderwidth\": 0}, \"xaxis\": {\"automargin\": true, \"gridcolor\": \"#283442\", \"linecolor\": \"#506784\", \"ticks\": \"\", \"title\": {\"standoff\": 15}, \"zerolinecolor\": \"#283442\", \"zerolinewidth\": 2}, \"yaxis\": {\"automargin\": true, \"gridcolor\": \"#283442\", \"linecolor\": \"#506784\", \"ticks\": \"\", \"title\": {\"standoff\": 15}, \"zerolinecolor\": \"#283442\", \"zerolinewidth\": 2}}}, \"title\": {\"text\": \"Absolute error distribution for simple Average Model\"}, \"xaxis\": {\"anchor\": \"y\", \"domain\": [0.0, 1.0], \"title\": {\"text\": \"abs_error\"}}, \"yaxis\": {\"anchor\": \"x\", \"domain\": [0.0, 1.0], \"title\": {\"text\": \"count\"}}},\n",
       "                        {\"responsive\": true}\n",
       "                    ).then(function(){\n",
       "                            \n",
       "var gd = document.getElementById('a8378b57-c152-41b6-add8-63ce5c134c47');\n",
       "var x = new MutationObserver(function (mutations, observer) {{\n",
       "        var display = window.getComputedStyle(gd).display;\n",
       "        if (!display || display === 'none') {{\n",
       "            console.log([gd, 'removed!']);\n",
       "            Plotly.purge(gd);\n",
       "            observer.disconnect();\n",
       "        }}\n",
       "}});\n",
       "\n",
       "// Listen for the removal of the full notebook cells\n",
       "var notebookContainer = gd.closest('#notebook-container');\n",
       "if (notebookContainer) {{\n",
       "    x.observe(notebookContainer, {childList: true});\n",
       "}}\n",
       "\n",
       "// Listen for the clearing of the current output cell\n",
       "var outputEl = gd.closest('.output');\n",
       "if (outputEl) {{\n",
       "    x.observe(outputEl, {childList: true});\n",
       "}}\n",
       "\n",
       "                        })\n",
       "                };\n",
       "                });\n",
       "            </script>\n",
       "        </div>"
      ]
     },
     "metadata": {},
     "output_type": "display_data"
    }
   ],
   "source": [
    "# calculate absolute error and plot a histogram\n",
    "X_test_cp = X_test.copy()\n",
    "X_test_cp['predicted'] = y_pred\n",
    "X_test_cp['abs_error'] = (X_test_cp['obs_count'] - X_test_cp['predicted']).abs()\n",
    "idx = X_test_cp['abs_error'] > 0.1\n",
    "px.histogram(X_test_cp[idx], x=\"abs_error\", opacity=0.7, height=300,\n",
    "             title='Absolute error distribution for simple Average Model')"
   ]
  },
  {
   "cell_type": "code",
   "execution_count": null,
   "metadata": {},
   "outputs": [],
   "source": []
  }
 ],
 "metadata": {
  "kernelspec": {
   "display_name": "Python 3",
   "language": "python",
   "name": "python3"
  },
  "language_info": {
   "codemirror_mode": {
    "name": "ipython",
    "version": 3
   },
   "file_extension": ".py",
   "mimetype": "text/x-python",
   "name": "python",
   "nbconvert_exporter": "python",
   "pygments_lexer": "ipython3",
   "version": "3.7.0"
  }
 },
 "nbformat": 4,
 "nbformat_minor": 4
}
