{
 "cells": [
  {
   "cell_type": "markdown",
   "metadata": {},
   "source": [
    "# Person - data preprocessing & cleaning\n",
    "\n",
    "This Notebook generates the data at the daily/hourly level, removes erroronous data points and deals with the outliers in the dataset.\n",
    "\n",
    "### TODO: apply null and outlier analysis for each feature instead of Labels !!!"
   ]
  },
  {
   "cell_type": "code",
   "execution_count": 1,
   "metadata": {},
   "outputs": [
    {
     "name": "stdout",
     "output_type": "stream",
     "text": [
      "TF -> Using GPU ->  PhysicalDevice(name='/physical_device:GPU:0', device_type='GPU')\n"
     ]
    }
   ],
   "source": [
    "# import ConfigImports Notebook to import and configure libs\n",
    "%run ../ConfigImports.ipynb"
   ]
  },
  {
   "cell_type": "code",
   "execution_count": 2,
   "metadata": {},
   "outputs": [
    {
     "name": "stdout",
     "output_type": "stream",
     "text": [
      "(4790, 26)\n"
     ]
    },
    {
     "data": {
      "text/html": [
       "<div>\n",
       "<style scoped>\n",
       "    .dataframe tbody tr th:only-of-type {\n",
       "        vertical-align: middle;\n",
       "    }\n",
       "\n",
       "    .dataframe tbody tr th {\n",
       "        vertical-align: top;\n",
       "    }\n",
       "\n",
       "    .dataframe thead th {\n",
       "        text-align: right;\n",
       "    }\n",
       "</style>\n",
       "<table border=\"1\" class=\"dataframe\">\n",
       "  <thead>\n",
       "    <tr style=\"text-align: right;\">\n",
       "      <th></th>\n",
       "      <th>img_idx</th>\n",
       "      <th>label</th>\n",
       "      <th>confidence</th>\n",
       "      <th>x1</th>\n",
       "      <th>y1</th>\n",
       "      <th>x2</th>\n",
       "      <th>y2</th>\n",
       "      <th>date</th>\n",
       "      <th>time</th>\n",
       "      <th>filename</th>\n",
       "      <th>img_n_boxes</th>\n",
       "      <th>time_ms</th>\n",
       "      <th>date_time</th>\n",
       "      <th>week_day</th>\n",
       "      <th>is_weekend</th>\n",
       "      <th>month</th>\n",
       "      <th>hour</th>\n",
       "      <th>min</th>\n",
       "      <th>dummy_var</th>\n",
       "      <th>time_diff</th>\n",
       "      <th>sec_diff</th>\n",
       "      <th>x_center</th>\n",
       "      <th>y_center</th>\n",
       "      <th>prev_x_center</th>\n",
       "      <th>prev_y_center</th>\n",
       "      <th>euc_distance</th>\n",
       "    </tr>\n",
       "  </thead>\n",
       "  <tbody>\n",
       "    <tr>\n",
       "      <th>0</th>\n",
       "      <td>73740</td>\n",
       "      <td>person</td>\n",
       "      <td>0.450496</td>\n",
       "      <td>459</td>\n",
       "      <td>24</td>\n",
       "      <td>478</td>\n",
       "      <td>38</td>\n",
       "      <td>2019-09-09</td>\n",
       "      <td>07.03.03</td>\n",
       "      <td>07.03.03.965_4d9909b4_person-car-car-car.jpg</td>\n",
       "      <td>2</td>\n",
       "      <td>965</td>\n",
       "      <td>2019-09-09 07:03:03.965</td>\n",
       "      <td>Monday</td>\n",
       "      <td>False</td>\n",
       "      <td>9</td>\n",
       "      <td>7</td>\n",
       "      <td>3</td>\n",
       "      <td>1</td>\n",
       "      <td>0 days 00:42:40.471000000</td>\n",
       "      <td>2560.471</td>\n",
       "      <td>468.5</td>\n",
       "      <td>31.0</td>\n",
       "      <td>490.0</td>\n",
       "      <td>310.0</td>\n",
       "      <td>279.827179</td>\n",
       "    </tr>\n",
       "    <tr>\n",
       "      <th>1</th>\n",
       "      <td>73135</td>\n",
       "      <td>person</td>\n",
       "      <td>0.658724</td>\n",
       "      <td>286</td>\n",
       "      <td>238</td>\n",
       "      <td>381</td>\n",
       "      <td>340</td>\n",
       "      <td>2019-09-09</td>\n",
       "      <td>07.29.50</td>\n",
       "      <td>07.29.50.440_4e0ee29d_person-car-car.jpg</td>\n",
       "      <td>1</td>\n",
       "      <td>440</td>\n",
       "      <td>2019-09-09 07:29:50.440</td>\n",
       "      <td>Monday</td>\n",
       "      <td>False</td>\n",
       "      <td>9</td>\n",
       "      <td>7</td>\n",
       "      <td>29</td>\n",
       "      <td>1</td>\n",
       "      <td>0 days 00:26:46.475000000</td>\n",
       "      <td>1606.475</td>\n",
       "      <td>333.5</td>\n",
       "      <td>289.0</td>\n",
       "      <td>468.5</td>\n",
       "      <td>31.0</td>\n",
       "      <td>291.185508</td>\n",
       "    </tr>\n",
       "  </tbody>\n",
       "</table>\n",
       "</div>"
      ],
      "text/plain": [
       "   img_idx   label  confidence   x1   y1   x2   y2        date      time                                      filename  img_n_boxes  time_ms                date_time week_day  is_weekend  month  hour  min  dummy_var                  time_diff  sec_diff  x_center  y_center  prev_x_center  prev_y_center  euc_distance\n",
       "0    73740  person    0.450496  459   24  478   38  2019-09-09  07.03.03  07.03.03.965_4d9909b4_person-car-car-car.jpg            2      965  2019-09-09 07:03:03.965   Monday       False      9     7    3          1  0 days 00:42:40.471000000  2560.471     468.5      31.0          490.0          310.0    279.827179\n",
       "1    73135  person    0.658724  286  238  381  340  2019-09-09  07.29.50      07.29.50.440_4e0ee29d_person-car-car.jpg            1      440  2019-09-09 07:29:50.440   Monday       False      9     7   29          1  0 days 00:26:46.475000000  1606.475     333.5     289.0          468.5           31.0    291.185508"
      ]
     },
     "execution_count": 2,
     "metadata": {},
     "output_type": "execute_result"
    }
   ],
   "source": [
    "df = pd.read_csv('../Datasets/UniqueObjectDetections__person__2019-09-09_2020-03-02.csv')\n",
    "print(df.shape)\n",
    "df.head(2)"
   ]
  },
  {
   "cell_type": "markdown",
   "metadata": {},
   "source": [
    "### Pre-process data\n",
    "\n",
    "This analysis will be performed at the daily / hourly level.\n",
    "\n",
    "I have tried several other approaches (from 15-minute to 3-hour time intervals), but 15 minute intervals are definitely too random and 3 hours reduces the dataset size dramatically. Based on that it seems like hourly analysis (and later forecasting) is a good trade off.\n",
    "\n",
    "To roll up the data to daily / hourly level we can use Pandas. This is straight forward.\n",
    "\n",
    "The only issue I have identified with this approach is that it will only include date / hour combinations with observations. But in order to analyse data, gaps without any observations need to be filled with 0's. This is done in the code snippet below."
   ]
  },
  {
   "cell_type": "code",
   "execution_count": 3,
   "metadata": {},
   "outputs": [],
   "source": [
    "# make sure Pandas understands date time fields\n",
    "df['date_time'] = pd.to_datetime(df['date_time'])\n",
    "df['date'] = pd.to_datetime(df['date'])"
   ]
  },
  {
   "cell_type": "code",
   "execution_count": 4,
   "metadata": {},
   "outputs": [
    {
     "data": {
      "text/html": [
       "<div>\n",
       "<style scoped>\n",
       "    .dataframe tbody tr th:only-of-type {\n",
       "        vertical-align: middle;\n",
       "    }\n",
       "\n",
       "    .dataframe tbody tr th {\n",
       "        vertical-align: top;\n",
       "    }\n",
       "\n",
       "    .dataframe thead th {\n",
       "        text-align: right;\n",
       "    }\n",
       "</style>\n",
       "<table border=\"1\" class=\"dataframe\">\n",
       "  <thead>\n",
       "    <tr style=\"text-align: right;\">\n",
       "      <th></th>\n",
       "      <th>date</th>\n",
       "      <th>hour</th>\n",
       "      <th>obs_count</th>\n",
       "    </tr>\n",
       "  </thead>\n",
       "  <tbody>\n",
       "    <tr>\n",
       "      <th>0</th>\n",
       "      <td>2019-09-09</td>\n",
       "      <td>7</td>\n",
       "      <td>2</td>\n",
       "    </tr>\n",
       "    <tr>\n",
       "      <th>1</th>\n",
       "      <td>2019-09-09</td>\n",
       "      <td>8</td>\n",
       "      <td>3</td>\n",
       "    </tr>\n",
       "  </tbody>\n",
       "</table>\n",
       "</div>"
      ],
      "text/plain": [
       "         date  hour  obs_count\n",
       "0  2019-09-09     7          2\n",
       "1  2019-09-09     8          3"
      ]
     },
     "execution_count": 4,
     "metadata": {},
     "output_type": "execute_result"
    }
   ],
   "source": [
    "# use Pandas handy resample feature to fill in gaps with 0's\n",
    "resampled = df.set_index('date_time').resample('H')['dummy_var'].sum().reset_index()\n",
    "resampled.columns = ['date_time', 'obs_count']\n",
    "resampled['date'] = resampled['date_time'].dt.date.astype(str)\n",
    "resampled['hour'] = resampled['date_time'].dt.hour\n",
    "resampled = resampled[['date', 'hour', 'obs_count']]\n",
    "resampled.head(2)"
   ]
  },
  {
   "cell_type": "code",
   "execution_count": 5,
   "metadata": {},
   "outputs": [
    {
     "name": "stdout",
     "output_type": "stream",
     "text": [
      "Removed 72 records\n"
     ]
    }
   ],
   "source": [
    "# remove any entries where we know that there was an error in measurements\n",
    "orig_size = resampled.shape[0]\n",
    "idx = resampled['date'].isin(['2020-01-13', '2020-01-14', '2020-02-28'])\n",
    "resampled = resampled.loc[~idx]\n",
    "print(f'Removed {orig_size - resampled.shape[0]} records')"
   ]
  },
  {
   "cell_type": "code",
   "execution_count": null,
   "metadata": {},
   "outputs": [],
   "source": []
  },
  {
   "cell_type": "code",
   "execution_count": null,
   "metadata": {},
   "outputs": [],
   "source": []
  },
  {
   "cell_type": "code",
   "execution_count": null,
   "metadata": {},
   "outputs": [],
   "source": []
  },
  {
   "cell_type": "code",
   "execution_count": 33,
   "metadata": {},
   "outputs": [],
   "source": [
    "# save data to csv, so we can conduct feature engineering in another Notebook\n",
    "use_cols = ['date', 'hour', 'obs_count', 'obs_count_corr']\n",
    "resampled[use_cols].to_csv('../Datasets/Person_no_outliers__2019-09-09_2020-03-02.csv', index=False)"
   ]
  },
  {
   "cell_type": "code",
   "execution_count": null,
   "metadata": {},
   "outputs": [],
   "source": []
  }
 ],
 "metadata": {
  "kernelspec": {
   "display_name": "Python 3",
   "language": "python",
   "name": "python3"
  },
  "language_info": {
   "codemirror_mode": {
    "name": "ipython",
    "version": 3
   },
   "file_extension": ".py",
   "mimetype": "text/x-python",
   "name": "python",
   "nbconvert_exporter": "python",
   "pygments_lexer": "ipython3",
   "version": "3.7.0"
  }
 },
 "nbformat": 4,
 "nbformat_minor": 4
}
