{
 "cells": [
  {
   "cell_type": "markdown",
   "metadata": {},
   "source": [
    "# Person - analysis and feature engineering\n",
    "\n",
    "## Feature encoding\n",
    "\n",
    "It is necessary to encode certain features before the Machine Learning algorithms can be applied.\n",
    "\n",
    "### Numerical features\n",
    "\n",
    "Numerical features can be either directly fed into the Machine Learning algorithm, or they can be bucketed into categories based on the domain knowledge. We will use both approaches below.\n",
    "\n",
    "### Categorical features:\n",
    "\n",
    "Due to the fact that most of the ML algorithms can not deal with categorical features (like day of week or weather summary), they need to be somehow encoded as numbers. Below are the most common approaches currently used in the industry:\n",
    "\n",
    "- for nominal encoding (when order does not matter)\n",
    "    - one hot encoding\n",
    "    - one hot encoding with many categories\n",
    "    - mean encoding\n",
    "- for ordinal encoding (when order matters)\n",
    "    - label encoding\n",
    "    - target guided ordinal encoding"
   ]
  },
  {
   "cell_type": "code",
   "execution_count": 2,
   "metadata": {},
   "outputs": [],
   "source": [
    "# import ConfigImports Notebook to import and configure libs\n",
    "%run ../ConfigImports.ipynb"
   ]
  },
  {
   "cell_type": "markdown",
   "metadata": {},
   "source": [
    "### Load dataset"
   ]
  },
  {
   "cell_type": "code",
   "execution_count": 3,
   "metadata": {},
   "outputs": [
    {
     "name": "stdout",
     "output_type": "stream",
     "text": [
      "(4140, 3)\n"
     ]
    },
    {
     "data": {
      "text/html": [
       "<div>\n",
       "<style scoped>\n",
       "    .dataframe tbody tr th:only-of-type {\n",
       "        vertical-align: middle;\n",
       "    }\n",
       "\n",
       "    .dataframe tbody tr th {\n",
       "        vertical-align: top;\n",
       "    }\n",
       "\n",
       "    .dataframe thead th {\n",
       "        text-align: right;\n",
       "    }\n",
       "</style>\n",
       "<table border=\"1\" class=\"dataframe\">\n",
       "  <thead>\n",
       "    <tr style=\"text-align: right;\">\n",
       "      <th></th>\n",
       "      <th>date</th>\n",
       "      <th>hour</th>\n",
       "      <th>obs_count_corr</th>\n",
       "    </tr>\n",
       "  </thead>\n",
       "  <tbody>\n",
       "    <tr>\n",
       "      <th>0</th>\n",
       "      <td>2019-09-09</td>\n",
       "      <td>7</td>\n",
       "      <td>2</td>\n",
       "    </tr>\n",
       "    <tr>\n",
       "      <th>1</th>\n",
       "      <td>2019-09-09</td>\n",
       "      <td>8</td>\n",
       "      <td>3</td>\n",
       "    </tr>\n",
       "  </tbody>\n",
       "</table>\n",
       "</div>"
      ],
      "text/plain": [
       "         date  hour  obs_count_corr\n",
       "0  2019-09-09     7               2\n",
       "1  2019-09-09     8               3"
      ]
     },
     "execution_count": 3,
     "metadata": {},
     "output_type": "execute_result"
    }
   ],
   "source": [
    "object_detections = pd.read_csv('../Datasets/Person_no_outliers__2019-09-09_2020-03-02.csv')\n",
    "print(object_detections.shape)\n",
    "object_detections.head(2)"
   ]
  },
  {
   "cell_type": "markdown",
   "metadata": {},
   "source": [
    "### Discuss approach\n",
    "\n",
    "Even though the dataset above looks very simple, we can not forget how difficult it was to collect it and prepare for further processing.\n",
    "\n",
    "Based on the date column alone we can extract some interesting features, like:\n",
    "- month\n",
    "- week number\n",
    "- is it a weekend day\n",
    "\n",
    "Then the idea is to connect it with the weather data extracted from the Dark Sky API.\n",
    "\n",
    "Once all the features are prepared, we can save the dataset again and move on to another Notebook, where we will create a prediction model, which will predict an object count for a given date and weather situation."
   ]
  },
  {
   "cell_type": "code",
   "execution_count": 4,
   "metadata": {},
   "outputs": [
    {
     "data": {
      "text/html": [
       "<div>\n",
       "<style scoped>\n",
       "    .dataframe tbody tr th:only-of-type {\n",
       "        vertical-align: middle;\n",
       "    }\n",
       "\n",
       "    .dataframe tbody tr th {\n",
       "        vertical-align: top;\n",
       "    }\n",
       "\n",
       "    .dataframe thead th {\n",
       "        text-align: right;\n",
       "    }\n",
       "</style>\n",
       "<table border=\"1\" class=\"dataframe\">\n",
       "  <thead>\n",
       "    <tr style=\"text-align: right;\">\n",
       "      <th></th>\n",
       "      <th>date</th>\n",
       "      <th>hour</th>\n",
       "      <th>obs_count_corr</th>\n",
       "      <th>n_month</th>\n",
       "      <th>n_week_in_month</th>\n",
       "      <th>day_of_week</th>\n",
       "      <th>day_of_week_name</th>\n",
       "      <th>is_weekend_day</th>\n",
       "    </tr>\n",
       "  </thead>\n",
       "  <tbody>\n",
       "    <tr>\n",
       "      <th>0</th>\n",
       "      <td>2019-09-09</td>\n",
       "      <td>7</td>\n",
       "      <td>2</td>\n",
       "      <td>9</td>\n",
       "      <td>2</td>\n",
       "      <td>0</td>\n",
       "      <td>Monday</td>\n",
       "      <td>0</td>\n",
       "    </tr>\n",
       "    <tr>\n",
       "      <th>1</th>\n",
       "      <td>2019-09-09</td>\n",
       "      <td>8</td>\n",
       "      <td>3</td>\n",
       "      <td>9</td>\n",
       "      <td>2</td>\n",
       "      <td>0</td>\n",
       "      <td>Monday</td>\n",
       "      <td>0</td>\n",
       "    </tr>\n",
       "  </tbody>\n",
       "</table>\n",
       "</div>"
      ],
      "text/plain": [
       "        date  hour  obs_count_corr  n_month  n_week_in_month  day_of_week day_of_week_name  is_weekend_day\n",
       "0 2019-09-09     7               2        9                2            0           Monday               0\n",
       "1 2019-09-09     8               3        9                2            0           Monday               0"
      ]
     },
     "execution_count": 4,
     "metadata": {},
     "output_type": "execute_result"
    }
   ],
   "source": [
    "# add date-time related features\n",
    "object_detections['date'] = pd.to_datetime(object_detections['date'])\n",
    "object_detections['n_month'] = object_detections['date'].dt.month\n",
    "object_detections['n_week_in_month'] = (object_detections['date'].dt.day-1)//7+1\n",
    "object_detections['day_of_week'] = object_detections['date'].dt.dayofweek\n",
    "object_detections['day_of_week_name'] = object_detections['date'].dt.weekday_name\n",
    "object_detections['is_weekend_day'] = ((object_detections['date'].dt.dayofweek) // 5 == 1).astype(int)\n",
    "object_detections.head(2)"
   ]
  },
  {
   "cell_type": "code",
   "execution_count": 5,
   "metadata": {},
   "outputs": [
    {
     "data": {
      "text/html": [
       "<div>\n",
       "<style scoped>\n",
       "    .dataframe tbody tr th:only-of-type {\n",
       "        vertical-align: middle;\n",
       "    }\n",
       "\n",
       "    .dataframe tbody tr th {\n",
       "        vertical-align: top;\n",
       "    }\n",
       "\n",
       "    .dataframe thead th {\n",
       "        text-align: right;\n",
       "    }\n",
       "</style>\n",
       "<table border=\"1\" class=\"dataframe\">\n",
       "  <thead>\n",
       "    <tr style=\"text-align: right;\">\n",
       "      <th></th>\n",
       "      <th>ts</th>\n",
       "      <th>dt</th>\n",
       "      <th>cur__summary</th>\n",
       "      <th>cur__precipIntensity</th>\n",
       "      <th>cur__precipProbability</th>\n",
       "      <th>cur__precipType</th>\n",
       "      <th>cur__temperature</th>\n",
       "      <th>cur__apparentTemperature</th>\n",
       "      <th>cur__humidity</th>\n",
       "      <th>cur__windSpeed</th>\n",
       "      <th>cur__windGust</th>\n",
       "      <th>cur__windBearing</th>\n",
       "      <th>cur__cloudCover</th>\n",
       "      <th>cur__uvIndex</th>\n",
       "      <th>cur__visibility</th>\n",
       "      <th>daily__summary</th>\n",
       "      <th>daily__sunriseTime</th>\n",
       "      <th>daily__sunsetTime</th>\n",
       "      <th>daily__temperatureHigh</th>\n",
       "      <th>daily__temperatureLow</th>\n",
       "    </tr>\n",
       "  </thead>\n",
       "  <tbody>\n",
       "    <tr>\n",
       "      <th>0</th>\n",
       "      <td>1567985400</td>\n",
       "      <td>2019-09-09 00:30:00</td>\n",
       "      <td>Possible Light Rain</td>\n",
       "      <td>0.7929</td>\n",
       "      <td>0.47</td>\n",
       "      <td>rain</td>\n",
       "      <td>14.06</td>\n",
       "      <td>14.08</td>\n",
       "      <td>0.96</td>\n",
       "      <td>21.30</td>\n",
       "      <td>35.13</td>\n",
       "      <td>241</td>\n",
       "      <td>0.99</td>\n",
       "      <td>0</td>\n",
       "      <td>10.796</td>\n",
       "      <td>Possible drizzle in the morning.</td>\n",
       "      <td>1568008740</td>\n",
       "      <td>1568055900</td>\n",
       "      <td>16.6</td>\n",
       "      <td>7.01</td>\n",
       "    </tr>\n",
       "    <tr>\n",
       "      <th>1</th>\n",
       "      <td>1567989000</td>\n",
       "      <td>2019-09-09 01:30:00</td>\n",
       "      <td>Possible Light Rain</td>\n",
       "      <td>0.8310</td>\n",
       "      <td>0.45</td>\n",
       "      <td>rain</td>\n",
       "      <td>13.99</td>\n",
       "      <td>13.99</td>\n",
       "      <td>0.93</td>\n",
       "      <td>22.49</td>\n",
       "      <td>35.87</td>\n",
       "      <td>215</td>\n",
       "      <td>0.96</td>\n",
       "      <td>0</td>\n",
       "      <td>10.945</td>\n",
       "      <td>Possible drizzle in the morning.</td>\n",
       "      <td>1568008740</td>\n",
       "      <td>1568055900</td>\n",
       "      <td>16.6</td>\n",
       "      <td>7.01</td>\n",
       "    </tr>\n",
       "  </tbody>\n",
       "</table>\n",
       "</div>"
      ],
      "text/plain": [
       "           ts                   dt         cur__summary  cur__precipIntensity  cur__precipProbability cur__precipType  cur__temperature  cur__apparentTemperature  cur__humidity  cur__windSpeed  cur__windGust  cur__windBearing  cur__cloudCover  cur__uvIndex  cur__visibility                    daily__summary  daily__sunriseTime  daily__sunsetTime  daily__temperatureHigh  daily__temperatureLow\n",
       "0  1567985400  2019-09-09 00:30:00  Possible Light Rain                0.7929                    0.47            rain             14.06                     14.08           0.96           21.30          35.13               241             0.99             0           10.796  Possible drizzle in the morning.          1568008740         1568055900                    16.6                   7.01\n",
       "1  1567989000  2019-09-09 01:30:00  Possible Light Rain                0.8310                    0.45            rain             13.99                     13.99           0.93           22.49          35.87               215             0.96             0           10.945  Possible drizzle in the morning.          1568008740         1568055900                    16.6                   7.01"
      ]
     },
     "execution_count": 5,
     "metadata": {},
     "output_type": "execute_result"
    }
   ],
   "source": [
    "# load weather data\n",
    "weather = pd.read_csv('../Datasets/dark_sky_data_2019-09-09_2020-03-02.csv')\n",
    "weather.head(2)"
   ]
  },
  {
   "cell_type": "code",
   "execution_count": 6,
   "metadata": {},
   "outputs": [
    {
     "data": {
      "text/html": [
       "<div>\n",
       "<style scoped>\n",
       "    .dataframe tbody tr th:only-of-type {\n",
       "        vertical-align: middle;\n",
       "    }\n",
       "\n",
       "    .dataframe tbody tr th {\n",
       "        vertical-align: top;\n",
       "    }\n",
       "\n",
       "    .dataframe thead th {\n",
       "        text-align: right;\n",
       "    }\n",
       "</style>\n",
       "<table border=\"1\" class=\"dataframe\">\n",
       "  <thead>\n",
       "    <tr style=\"text-align: right;\">\n",
       "      <th></th>\n",
       "      <th>dt</th>\n",
       "      <th>date</th>\n",
       "      <th>hour</th>\n",
       "    </tr>\n",
       "  </thead>\n",
       "  <tbody>\n",
       "    <tr>\n",
       "      <th>0</th>\n",
       "      <td>2019-09-09 00:30:00</td>\n",
       "      <td>2019-09-09</td>\n",
       "      <td>0</td>\n",
       "    </tr>\n",
       "    <tr>\n",
       "      <th>1</th>\n",
       "      <td>2019-09-09 01:30:00</td>\n",
       "      <td>2019-09-09</td>\n",
       "      <td>1</td>\n",
       "    </tr>\n",
       "  </tbody>\n",
       "</table>\n",
       "</div>"
      ],
      "text/plain": [
       "                   dt       date  hour\n",
       "0 2019-09-09 00:30:00 2019-09-09     0\n",
       "1 2019-09-09 01:30:00 2019-09-09     1"
      ]
     },
     "execution_count": 6,
     "metadata": {},
     "output_type": "execute_result"
    }
   ],
   "source": [
    "# add date-time related features, so we can merge the datasets together\n",
    "weather['dt'] = pd.to_datetime(weather['dt'])\n",
    "weather['date'] = weather['dt'].dt.date\n",
    "weather['date'] = pd.to_datetime(weather['date'])\n",
    "weather['hour'] = weather['dt'].dt.hour\n",
    "\n",
    "check_cols = ['dt', 'date', 'hour']\n",
    "weather[check_cols].head(2)"
   ]
  },
  {
   "cell_type": "code",
   "execution_count": 7,
   "metadata": {},
   "outputs": [],
   "source": [
    "# join detections and weather data\n",
    "merged = object_detections.merge(weather, on=['date', 'hour'])"
   ]
  },
  {
   "cell_type": "code",
   "execution_count": 8,
   "metadata": {},
   "outputs": [],
   "source": [
    "# make sure that we have not lost any observations\n",
    "assert object_detections.shape[0] == merged.shape[0]"
   ]
  },
  {
   "cell_type": "markdown",
   "metadata": {},
   "source": [
    "### Feature analysis & engineering"
   ]
  },
  {
   "cell_type": "markdown",
   "metadata": {},
   "source": [
    "- *is_weekend_day*\n",
    "\n",
    "We can see in the plot below that during the weekend hours, people tend to sleep longer.\n",
    "\n",
    "Then the activity becomes much more visible during the latest hours and it eventually sunsets at around 7PM on average.\n",
    "\n",
    "The difference observed below proves that *is_weekend_day* should be considered as a good feature in the modelling stage."
   ]
  },
  {
   "cell_type": "code",
   "execution_count": 9,
   "metadata": {},
   "outputs": [
    {
     "data": {
      "application/vnd.plotly.v1+json": {
       "config": {
        "plotlyServerURL": "https://plot.ly"
       },
       "data": [
        {
         "hovertemplate": "is_weekend_day=0<br>hour=%{x}<br>obs_count_corr=%{y}<extra></extra>",
         "legendgroup": "0",
         "line": {
          "color": "#636efa",
          "dash": "solid"
         },
         "mode": "lines",
         "name": "0",
         "showlegend": true,
         "type": "scatter",
         "x": [
          0,
          1,
          2,
          3,
          4,
          5,
          6,
          7,
          8,
          9,
          10,
          11,
          12,
          13,
          14,
          15,
          16,
          17,
          18,
          19,
          20,
          21,
          22,
          23
         ],
         "xaxis": "x",
         "y": [
          0,
          0,
          0,
          0,
          0,
          0,
          0.5491803278688525,
          0.9512195121951219,
          2.097560975609756,
          1.3902439024390243,
          1.3577235772357723,
          1.6910569105691058,
          1.7317073170731707,
          1.6016260162601625,
          1.7154471544715446,
          1.8943089430894309,
          1.829268292682927,
          1.3983739837398375,
          1.1219512195121952,
          0.4672131147540984,
          0.28688524590163933,
          0,
          0,
          0
         ],
         "yaxis": "y"
        },
        {
         "hovertemplate": "is_weekend_day=1<br>hour=%{x}<br>obs_count_corr=%{y}<extra></extra>",
         "legendgroup": "1",
         "line": {
          "color": "#EF553B",
          "dash": "solid"
         },
         "mode": "lines",
         "name": "1",
         "showlegend": true,
         "type": "scatter",
         "x": [
          0,
          1,
          2,
          3,
          4,
          5,
          6,
          7,
          8,
          9,
          10,
          11,
          12,
          13,
          14,
          15,
          16,
          17,
          18,
          19,
          20,
          21,
          22,
          23
         ],
         "xaxis": "x",
         "y": [
          0,
          0,
          0,
          0,
          0,
          0,
          0,
          0.14,
          1.26,
          1.7,
          2.6,
          2.48,
          2.22,
          1.88,
          2.3,
          2.14,
          2.36,
          1.4,
          1.2,
          0.42,
          0.32,
          0,
          0,
          0
         ],
         "yaxis": "y"
        }
       ],
       "layout": {
        "autosize": true,
        "legend": {
         "title": {
          "text": "is_weekend_day"
         },
         "tracegroupgap": 0
        },
        "template": {
         "data": {
          "bar": [
           {
            "error_x": {
             "color": "#f2f5fa"
            },
            "error_y": {
             "color": "#f2f5fa"
            },
            "marker": {
             "line": {
              "color": "rgb(17,17,17)",
              "width": 0.5
             }
            },
            "type": "bar"
           }
          ],
          "barpolar": [
           {
            "marker": {
             "line": {
              "color": "rgb(17,17,17)",
              "width": 0.5
             }
            },
            "type": "barpolar"
           }
          ],
          "carpet": [
           {
            "aaxis": {
             "endlinecolor": "#A2B1C6",
             "gridcolor": "#506784",
             "linecolor": "#506784",
             "minorgridcolor": "#506784",
             "startlinecolor": "#A2B1C6"
            },
            "baxis": {
             "endlinecolor": "#A2B1C6",
             "gridcolor": "#506784",
             "linecolor": "#506784",
             "minorgridcolor": "#506784",
             "startlinecolor": "#A2B1C6"
            },
            "type": "carpet"
           }
          ],
          "choropleth": [
           {
            "colorbar": {
             "outlinewidth": 0,
             "ticks": ""
            },
            "type": "choropleth"
           }
          ],
          "contour": [
           {
            "colorbar": {
             "outlinewidth": 0,
             "ticks": ""
            },
            "colorscale": [
             [
              0,
              "#0d0887"
             ],
             [
              0.1111111111111111,
              "#46039f"
             ],
             [
              0.2222222222222222,
              "#7201a8"
             ],
             [
              0.3333333333333333,
              "#9c179e"
             ],
             [
              0.4444444444444444,
              "#bd3786"
             ],
             [
              0.5555555555555556,
              "#d8576b"
             ],
             [
              0.6666666666666666,
              "#ed7953"
             ],
             [
              0.7777777777777778,
              "#fb9f3a"
             ],
             [
              0.8888888888888888,
              "#fdca26"
             ],
             [
              1,
              "#f0f921"
             ]
            ],
            "type": "contour"
           }
          ],
          "contourcarpet": [
           {
            "colorbar": {
             "outlinewidth": 0,
             "ticks": ""
            },
            "type": "contourcarpet"
           }
          ],
          "heatmap": [
           {
            "colorbar": {
             "outlinewidth": 0,
             "ticks": ""
            },
            "colorscale": [
             [
              0,
              "#0d0887"
             ],
             [
              0.1111111111111111,
              "#46039f"
             ],
             [
              0.2222222222222222,
              "#7201a8"
             ],
             [
              0.3333333333333333,
              "#9c179e"
             ],
             [
              0.4444444444444444,
              "#bd3786"
             ],
             [
              0.5555555555555556,
              "#d8576b"
             ],
             [
              0.6666666666666666,
              "#ed7953"
             ],
             [
              0.7777777777777778,
              "#fb9f3a"
             ],
             [
              0.8888888888888888,
              "#fdca26"
             ],
             [
              1,
              "#f0f921"
             ]
            ],
            "type": "heatmap"
           }
          ],
          "heatmapgl": [
           {
            "colorbar": {
             "outlinewidth": 0,
             "ticks": ""
            },
            "colorscale": [
             [
              0,
              "#0d0887"
             ],
             [
              0.1111111111111111,
              "#46039f"
             ],
             [
              0.2222222222222222,
              "#7201a8"
             ],
             [
              0.3333333333333333,
              "#9c179e"
             ],
             [
              0.4444444444444444,
              "#bd3786"
             ],
             [
              0.5555555555555556,
              "#d8576b"
             ],
             [
              0.6666666666666666,
              "#ed7953"
             ],
             [
              0.7777777777777778,
              "#fb9f3a"
             ],
             [
              0.8888888888888888,
              "#fdca26"
             ],
             [
              1,
              "#f0f921"
             ]
            ],
            "type": "heatmapgl"
           }
          ],
          "histogram": [
           {
            "marker": {
             "colorbar": {
              "outlinewidth": 0,
              "ticks": ""
             }
            },
            "type": "histogram"
           }
          ],
          "histogram2d": [
           {
            "colorbar": {
             "outlinewidth": 0,
             "ticks": ""
            },
            "colorscale": [
             [
              0,
              "#0d0887"
             ],
             [
              0.1111111111111111,
              "#46039f"
             ],
             [
              0.2222222222222222,
              "#7201a8"
             ],
             [
              0.3333333333333333,
              "#9c179e"
             ],
             [
              0.4444444444444444,
              "#bd3786"
             ],
             [
              0.5555555555555556,
              "#d8576b"
             ],
             [
              0.6666666666666666,
              "#ed7953"
             ],
             [
              0.7777777777777778,
              "#fb9f3a"
             ],
             [
              0.8888888888888888,
              "#fdca26"
             ],
             [
              1,
              "#f0f921"
             ]
            ],
            "type": "histogram2d"
           }
          ],
          "histogram2dcontour": [
           {
            "colorbar": {
             "outlinewidth": 0,
             "ticks": ""
            },
            "colorscale": [
             [
              0,
              "#0d0887"
             ],
             [
              0.1111111111111111,
              "#46039f"
             ],
             [
              0.2222222222222222,
              "#7201a8"
             ],
             [
              0.3333333333333333,
              "#9c179e"
             ],
             [
              0.4444444444444444,
              "#bd3786"
             ],
             [
              0.5555555555555556,
              "#d8576b"
             ],
             [
              0.6666666666666666,
              "#ed7953"
             ],
             [
              0.7777777777777778,
              "#fb9f3a"
             ],
             [
              0.8888888888888888,
              "#fdca26"
             ],
             [
              1,
              "#f0f921"
             ]
            ],
            "type": "histogram2dcontour"
           }
          ],
          "mesh3d": [
           {
            "colorbar": {
             "outlinewidth": 0,
             "ticks": ""
            },
            "type": "mesh3d"
           }
          ],
          "parcoords": [
           {
            "line": {
             "colorbar": {
              "outlinewidth": 0,
              "ticks": ""
             }
            },
            "type": "parcoords"
           }
          ],
          "pie": [
           {
            "automargin": true,
            "type": "pie"
           }
          ],
          "scatter": [
           {
            "marker": {
             "line": {
              "color": "#283442"
             }
            },
            "type": "scatter"
           }
          ],
          "scatter3d": [
           {
            "line": {
             "colorbar": {
              "outlinewidth": 0,
              "ticks": ""
             }
            },
            "marker": {
             "colorbar": {
              "outlinewidth": 0,
              "ticks": ""
             }
            },
            "type": "scatter3d"
           }
          ],
          "scattercarpet": [
           {
            "marker": {
             "colorbar": {
              "outlinewidth": 0,
              "ticks": ""
             }
            },
            "type": "scattercarpet"
           }
          ],
          "scattergeo": [
           {
            "marker": {
             "colorbar": {
              "outlinewidth": 0,
              "ticks": ""
             }
            },
            "type": "scattergeo"
           }
          ],
          "scattergl": [
           {
            "marker": {
             "line": {
              "color": "#283442"
             }
            },
            "type": "scattergl"
           }
          ],
          "scattermapbox": [
           {
            "marker": {
             "colorbar": {
              "outlinewidth": 0,
              "ticks": ""
             }
            },
            "type": "scattermapbox"
           }
          ],
          "scatterpolar": [
           {
            "marker": {
             "colorbar": {
              "outlinewidth": 0,
              "ticks": ""
             }
            },
            "type": "scatterpolar"
           }
          ],
          "scatterpolargl": [
           {
            "marker": {
             "colorbar": {
              "outlinewidth": 0,
              "ticks": ""
             }
            },
            "type": "scatterpolargl"
           }
          ],
          "scatterternary": [
           {
            "marker": {
             "colorbar": {
              "outlinewidth": 0,
              "ticks": ""
             }
            },
            "type": "scatterternary"
           }
          ],
          "surface": [
           {
            "colorbar": {
             "outlinewidth": 0,
             "ticks": ""
            },
            "colorscale": [
             [
              0,
              "#0d0887"
             ],
             [
              0.1111111111111111,
              "#46039f"
             ],
             [
              0.2222222222222222,
              "#7201a8"
             ],
             [
              0.3333333333333333,
              "#9c179e"
             ],
             [
              0.4444444444444444,
              "#bd3786"
             ],
             [
              0.5555555555555556,
              "#d8576b"
             ],
             [
              0.6666666666666666,
              "#ed7953"
             ],
             [
              0.7777777777777778,
              "#fb9f3a"
             ],
             [
              0.8888888888888888,
              "#fdca26"
             ],
             [
              1,
              "#f0f921"
             ]
            ],
            "type": "surface"
           }
          ],
          "table": [
           {
            "cells": {
             "fill": {
              "color": "#506784"
             },
             "line": {
              "color": "rgb(17,17,17)"
             }
            },
            "header": {
             "fill": {
              "color": "#2a3f5f"
             },
             "line": {
              "color": "rgb(17,17,17)"
             }
            },
            "type": "table"
           }
          ]
         },
         "layout": {
          "annotationdefaults": {
           "arrowcolor": "#f2f5fa",
           "arrowhead": 0,
           "arrowwidth": 1
          },
          "coloraxis": {
           "colorbar": {
            "outlinewidth": 0,
            "ticks": ""
           }
          },
          "colorscale": {
           "diverging": [
            [
             0,
             "#8e0152"
            ],
            [
             0.1,
             "#c51b7d"
            ],
            [
             0.2,
             "#de77ae"
            ],
            [
             0.3,
             "#f1b6da"
            ],
            [
             0.4,
             "#fde0ef"
            ],
            [
             0.5,
             "#f7f7f7"
            ],
            [
             0.6,
             "#e6f5d0"
            ],
            [
             0.7,
             "#b8e186"
            ],
            [
             0.8,
             "#7fbc41"
            ],
            [
             0.9,
             "#4d9221"
            ],
            [
             1,
             "#276419"
            ]
           ],
           "sequential": [
            [
             0,
             "#0d0887"
            ],
            [
             0.1111111111111111,
             "#46039f"
            ],
            [
             0.2222222222222222,
             "#7201a8"
            ],
            [
             0.3333333333333333,
             "#9c179e"
            ],
            [
             0.4444444444444444,
             "#bd3786"
            ],
            [
             0.5555555555555556,
             "#d8576b"
            ],
            [
             0.6666666666666666,
             "#ed7953"
            ],
            [
             0.7777777777777778,
             "#fb9f3a"
            ],
            [
             0.8888888888888888,
             "#fdca26"
            ],
            [
             1,
             "#f0f921"
            ]
           ],
           "sequentialminus": [
            [
             0,
             "#0d0887"
            ],
            [
             0.1111111111111111,
             "#46039f"
            ],
            [
             0.2222222222222222,
             "#7201a8"
            ],
            [
             0.3333333333333333,
             "#9c179e"
            ],
            [
             0.4444444444444444,
             "#bd3786"
            ],
            [
             0.5555555555555556,
             "#d8576b"
            ],
            [
             0.6666666666666666,
             "#ed7953"
            ],
            [
             0.7777777777777778,
             "#fb9f3a"
            ],
            [
             0.8888888888888888,
             "#fdca26"
            ],
            [
             1,
             "#f0f921"
            ]
           ]
          },
          "colorway": [
           "#636efa",
           "#EF553B",
           "#00cc96",
           "#ab63fa",
           "#FFA15A",
           "#19d3f3",
           "#FF6692",
           "#B6E880",
           "#FF97FF",
           "#FECB52"
          ],
          "font": {
           "color": "#f2f5fa"
          },
          "geo": {
           "bgcolor": "rgb(17,17,17)",
           "lakecolor": "rgb(17,17,17)",
           "landcolor": "rgb(17,17,17)",
           "showlakes": true,
           "showland": true,
           "subunitcolor": "#506784"
          },
          "hoverlabel": {
           "align": "left"
          },
          "hovermode": "closest",
          "mapbox": {
           "style": "dark"
          },
          "paper_bgcolor": "rgb(17,17,17)",
          "plot_bgcolor": "rgb(17,17,17)",
          "polar": {
           "angularaxis": {
            "gridcolor": "#506784",
            "linecolor": "#506784",
            "ticks": ""
           },
           "bgcolor": "rgb(17,17,17)",
           "radialaxis": {
            "gridcolor": "#506784",
            "linecolor": "#506784",
            "ticks": ""
           }
          },
          "scene": {
           "xaxis": {
            "backgroundcolor": "rgb(17,17,17)",
            "gridcolor": "#506784",
            "gridwidth": 2,
            "linecolor": "#506784",
            "showbackground": true,
            "ticks": "",
            "zerolinecolor": "#C8D4E3"
           },
           "yaxis": {
            "backgroundcolor": "rgb(17,17,17)",
            "gridcolor": "#506784",
            "gridwidth": 2,
            "linecolor": "#506784",
            "showbackground": true,
            "ticks": "",
            "zerolinecolor": "#C8D4E3"
           },
           "zaxis": {
            "backgroundcolor": "rgb(17,17,17)",
            "gridcolor": "#506784",
            "gridwidth": 2,
            "linecolor": "#506784",
            "showbackground": true,
            "ticks": "",
            "zerolinecolor": "#C8D4E3"
           }
          },
          "shapedefaults": {
           "line": {
            "color": "#f2f5fa"
           }
          },
          "sliderdefaults": {
           "bgcolor": "#C8D4E3",
           "bordercolor": "rgb(17,17,17)",
           "borderwidth": 1,
           "tickwidth": 0
          },
          "ternary": {
           "aaxis": {
            "gridcolor": "#506784",
            "linecolor": "#506784",
            "ticks": ""
           },
           "baxis": {
            "gridcolor": "#506784",
            "linecolor": "#506784",
            "ticks": ""
           },
           "bgcolor": "rgb(17,17,17)",
           "caxis": {
            "gridcolor": "#506784",
            "linecolor": "#506784",
            "ticks": ""
           }
          },
          "title": {
           "x": 0.05
          },
          "updatemenudefaults": {
           "bgcolor": "#506784",
           "borderwidth": 0
          },
          "xaxis": {
           "automargin": true,
           "gridcolor": "#283442",
           "linecolor": "#506784",
           "ticks": "",
           "title": {
            "standoff": 15
           },
           "zerolinecolor": "#283442",
           "zerolinewidth": 2
          },
          "yaxis": {
           "automargin": true,
           "gridcolor": "#283442",
           "linecolor": "#506784",
           "ticks": "",
           "title": {
            "standoff": 15
           },
           "zerolinecolor": "#283442",
           "zerolinewidth": 2
          }
         }
        },
        "title": {
         "text": "Weekend impact on objects detected by hour"
        },
        "xaxis": {
         "anchor": "y",
         "autorange": true,
         "domain": [
          0,
          1
         ],
         "range": [
          0,
          23
         ],
         "title": {
          "text": "hour"
         },
         "type": "linear"
        },
        "yaxis": {
         "anchor": "x",
         "autorange": true,
         "domain": [
          0,
          1
         ],
         "range": [
          -0.14444444444444446,
          2.7444444444444445
         ],
         "title": {
          "text": "obs_count_corr"
         },
         "type": "linear"
        }
       }
      },
      "image/png": "[encoded data removed]"
     },
     "metadata": {},
     "output_type": "display_data"
    }
   ],
   "source": [
    "grouped = merged.groupby(['hour', 'is_weekend_day'])['obs_count_corr'].mean().reset_index()\n",
    "px.line(grouped, y=\"obs_count_corr\", x='hour', color=\"is_weekend_day\",\n",
    "             title='Weekend impact on objects detected by hour')"
   ]
  },
  {
   "cell_type": "markdown",
   "metadata": {},
   "source": [
    "- *cur__summary*\n",
    "\n",
    "Does bad weather have an impact on the number of objects?"
   ]
  },
  {
   "cell_type": "code",
   "execution_count": 10,
   "metadata": {},
   "outputs": [],
   "source": [
    "# define 3 categories of weather: Good, Bad and Perfect\n",
    "merged['cur_weather_type'] = 'Good'\n",
    "bad_weather_words = ['drizzle', 'rain', 'danger']\n",
    "bad_idx = merged['cur__summary'].str.contains(\"|\".join(bad_weather_words), case=False)\n",
    "merged.loc[bad_idx, 'cur_weather_type'] = 'Bad'"
   ]
  },
  {
   "cell_type": "markdown",
   "metadata": {},
   "source": [
    "As can be seen in the plot below, when weather is bad - the number of observations is the lowest.\n",
    "\n",
    "Then, during a good weather, there is a visible increase in the activity."
   ]
  },
  {
   "cell_type": "code",
   "execution_count": 11,
   "metadata": {},
   "outputs": [
    {
     "data": {
      "application/vnd.plotly.v1+json": {
       "config": {
        "plotlyServerURL": "https://plot.ly"
       },
       "data": [
        {
         "hovertemplate": "cur_weather_type=Bad<br>hour=%{x}<br>obs_count_corr=%{y}<extra></extra>",
         "legendgroup": "Bad",
         "line": {
          "color": "#636efa",
          "dash": "solid"
         },
         "mode": "lines",
         "name": "Bad",
         "showlegend": true,
         "type": "scatter",
         "x": [
          0,
          1,
          2,
          3,
          4,
          5,
          6,
          7,
          8,
          9,
          10,
          11,
          12,
          13,
          14,
          15,
          16,
          17,
          18,
          19,
          20,
          21,
          22,
          23
         ],
         "xaxis": "x",
         "y": [
          0,
          0,
          0,
          0,
          0,
          0,
          0.4358974358974359,
          0.7317073170731707,
          1.78,
          1.24,
          1.5471698113207548,
          1.5348837209302326,
          1.5945945945945945,
          1.4722222222222223,
          1.372093023255814,
          1.3061224489795917,
          1.42,
          1.2,
          0.8571428571428571,
          0.4146341463414634,
          0.36363636363636365,
          0,
          0,
          0
         ],
         "yaxis": "y"
        },
        {
         "hovertemplate": "cur_weather_type=Good<br>hour=%{x}<br>obs_count_corr=%{y}<extra></extra>",
         "legendgroup": "Good",
         "line": {
          "color": "#EF553B",
          "dash": "solid"
         },
         "mode": "lines",
         "name": "Good",
         "showlegend": true,
         "type": "scatter",
         "x": [
          0,
          1,
          2,
          3,
          4,
          5,
          6,
          7,
          8,
          9,
          10,
          11,
          12,
          13,
          14,
          15,
          16,
          17,
          18,
          19,
          20,
          21,
          22,
          23
         ],
         "xaxis": "x",
         "y": [
          0,
          0,
          0,
          0,
          0,
          0,
          0.37593984962406013,
          0.7121212121212122,
          1.886178861788618,
          1.5772357723577235,
          1.7916666666666667,
          2.046153846153846,
          1.9485294117647058,
          1.7372262773722629,
          2.0538461538461537,
          2.225806451612903,
          2.2113821138211383,
          1.46875,
          1.2366412213740459,
          0.46564885496183206,
          0.2734375,
          0,
          0,
          0
         ],
         "yaxis": "y"
        }
       ],
       "layout": {
        "autosize": true,
        "legend": {
         "title": {
          "text": "cur_weather_type"
         },
         "tracegroupgap": 0
        },
        "template": {
         "data": {
          "bar": [
           {
            "error_x": {
             "color": "#f2f5fa"
            },
            "error_y": {
             "color": "#f2f5fa"
            },
            "marker": {
             "line": {
              "color": "rgb(17,17,17)",
              "width": 0.5
             }
            },
            "type": "bar"
           }
          ],
          "barpolar": [
           {
            "marker": {
             "line": {
              "color": "rgb(17,17,17)",
              "width": 0.5
             }
            },
            "type": "barpolar"
           }
          ],
          "carpet": [
           {
            "aaxis": {
             "endlinecolor": "#A2B1C6",
             "gridcolor": "#506784",
             "linecolor": "#506784",
             "minorgridcolor": "#506784",
             "startlinecolor": "#A2B1C6"
            },
            "baxis": {
             "endlinecolor": "#A2B1C6",
             "gridcolor": "#506784",
             "linecolor": "#506784",
             "minorgridcolor": "#506784",
             "startlinecolor": "#A2B1C6"
            },
            "type": "carpet"
           }
          ],
          "choropleth": [
           {
            "colorbar": {
             "outlinewidth": 0,
             "ticks": ""
            },
            "type": "choropleth"
           }
          ],
          "contour": [
           {
            "colorbar": {
             "outlinewidth": 0,
             "ticks": ""
            },
            "colorscale": [
             [
              0,
              "#0d0887"
             ],
             [
              0.1111111111111111,
              "#46039f"
             ],
             [
              0.2222222222222222,
              "#7201a8"
             ],
             [
              0.3333333333333333,
              "#9c179e"
             ],
             [
              0.4444444444444444,
              "#bd3786"
             ],
             [
              0.5555555555555556,
              "#d8576b"
             ],
             [
              0.6666666666666666,
              "#ed7953"
             ],
             [
              0.7777777777777778,
              "#fb9f3a"
             ],
             [
              0.8888888888888888,
              "#fdca26"
             ],
             [
              1,
              "#f0f921"
             ]
            ],
            "type": "contour"
           }
          ],
          "contourcarpet": [
           {
            "colorbar": {
             "outlinewidth": 0,
             "ticks": ""
            },
            "type": "contourcarpet"
           }
          ],
          "heatmap": [
           {
            "colorbar": {
             "outlinewidth": 0,
             "ticks": ""
            },
            "colorscale": [
             [
              0,
              "#0d0887"
             ],
             [
              0.1111111111111111,
              "#46039f"
             ],
             [
              0.2222222222222222,
              "#7201a8"
             ],
             [
              0.3333333333333333,
              "#9c179e"
             ],
             [
              0.4444444444444444,
              "#bd3786"
             ],
             [
              0.5555555555555556,
              "#d8576b"
             ],
             [
              0.6666666666666666,
              "#ed7953"
             ],
             [
              0.7777777777777778,
              "#fb9f3a"
             ],
             [
              0.8888888888888888,
              "#fdca26"
             ],
             [
              1,
              "#f0f921"
             ]
            ],
            "type": "heatmap"
           }
          ],
          "heatmapgl": [
           {
            "colorbar": {
             "outlinewidth": 0,
             "ticks": ""
            },
            "colorscale": [
             [
              0,
              "#0d0887"
             ],
             [
              0.1111111111111111,
              "#46039f"
             ],
             [
              0.2222222222222222,
              "#7201a8"
             ],
             [
              0.3333333333333333,
              "#9c179e"
             ],
             [
              0.4444444444444444,
              "#bd3786"
             ],
             [
              0.5555555555555556,
              "#d8576b"
             ],
             [
              0.6666666666666666,
              "#ed7953"
             ],
             [
              0.7777777777777778,
              "#fb9f3a"
             ],
             [
              0.8888888888888888,
              "#fdca26"
             ],
             [
              1,
              "#f0f921"
             ]
            ],
            "type": "heatmapgl"
           }
          ],
          "histogram": [
           {
            "marker": {
             "colorbar": {
              "outlinewidth": 0,
              "ticks": ""
             }
            },
            "type": "histogram"
           }
          ],
          "histogram2d": [
           {
            "colorbar": {
             "outlinewidth": 0,
             "ticks": ""
            },
            "colorscale": [
             [
              0,
              "#0d0887"
             ],
             [
              0.1111111111111111,
              "#46039f"
             ],
             [
              0.2222222222222222,
              "#7201a8"
             ],
             [
              0.3333333333333333,
              "#9c179e"
             ],
             [
              0.4444444444444444,
              "#bd3786"
             ],
             [
              0.5555555555555556,
              "#d8576b"
             ],
             [
              0.6666666666666666,
              "#ed7953"
             ],
             [
              0.7777777777777778,
              "#fb9f3a"
             ],
             [
              0.8888888888888888,
              "#fdca26"
             ],
             [
              1,
              "#f0f921"
             ]
            ],
            "type": "histogram2d"
           }
          ],
          "histogram2dcontour": [
           {
            "colorbar": {
             "outlinewidth": 0,
             "ticks": ""
            },
            "colorscale": [
             [
              0,
              "#0d0887"
             ],
             [
              0.1111111111111111,
              "#46039f"
             ],
             [
              0.2222222222222222,
              "#7201a8"
             ],
             [
              0.3333333333333333,
              "#9c179e"
             ],
             [
              0.4444444444444444,
              "#bd3786"
             ],
             [
              0.5555555555555556,
              "#d8576b"
             ],
             [
              0.6666666666666666,
              "#ed7953"
             ],
             [
              0.7777777777777778,
              "#fb9f3a"
             ],
             [
              0.8888888888888888,
              "#fdca26"
             ],
             [
              1,
              "#f0f921"
             ]
            ],
            "type": "histogram2dcontour"
           }
          ],
          "mesh3d": [
           {
            "colorbar": {
             "outlinewidth": 0,
             "ticks": ""
            },
            "type": "mesh3d"
           }
          ],
          "parcoords": [
           {
            "line": {
             "colorbar": {
              "outlinewidth": 0,
              "ticks": ""
             }
            },
            "type": "parcoords"
           }
          ],
          "pie": [
           {
            "automargin": true,
            "type": "pie"
           }
          ],
          "scatter": [
           {
            "marker": {
             "line": {
              "color": "#283442"
             }
            },
            "type": "scatter"
           }
          ],
          "scatter3d": [
           {
            "line": {
             "colorbar": {
              "outlinewidth": 0,
              "ticks": ""
             }
            },
            "marker": {
             "colorbar": {
              "outlinewidth": 0,
              "ticks": ""
             }
            },
            "type": "scatter3d"
           }
          ],
          "scattercarpet": [
           {
            "marker": {
             "colorbar": {
              "outlinewidth": 0,
              "ticks": ""
             }
            },
            "type": "scattercarpet"
           }
          ],
          "scattergeo": [
           {
            "marker": {
             "colorbar": {
              "outlinewidth": 0,
              "ticks": ""
             }
            },
            "type": "scattergeo"
           }
          ],
          "scattergl": [
           {
            "marker": {
             "line": {
              "color": "#283442"
             }
            },
            "type": "scattergl"
           }
          ],
          "scattermapbox": [
           {
            "marker": {
             "colorbar": {
              "outlinewidth": 0,
              "ticks": ""
             }
            },
            "type": "scattermapbox"
           }
          ],
          "scatterpolar": [
           {
            "marker": {
             "colorbar": {
              "outlinewidth": 0,
              "ticks": ""
             }
            },
            "type": "scatterpolar"
           }
          ],
          "scatterpolargl": [
           {
            "marker": {
             "colorbar": {
              "outlinewidth": 0,
              "ticks": ""
             }
            },
            "type": "scatterpolargl"
           }
          ],
          "scatterternary": [
           {
            "marker": {
             "colorbar": {
              "outlinewidth": 0,
              "ticks": ""
             }
            },
            "type": "scatterternary"
           }
          ],
          "surface": [
           {
            "colorbar": {
             "outlinewidth": 0,
             "ticks": ""
            },
            "colorscale": [
             [
              0,
              "#0d0887"
             ],
             [
              0.1111111111111111,
              "#46039f"
             ],
             [
              0.2222222222222222,
              "#7201a8"
             ],
             [
              0.3333333333333333,
              "#9c179e"
             ],
             [
              0.4444444444444444,
              "#bd3786"
             ],
             [
              0.5555555555555556,
              "#d8576b"
             ],
             [
              0.6666666666666666,
              "#ed7953"
             ],
             [
              0.7777777777777778,
              "#fb9f3a"
             ],
             [
              0.8888888888888888,
              "#fdca26"
             ],
             [
              1,
              "#f0f921"
             ]
            ],
            "type": "surface"
           }
          ],
          "table": [
           {
            "cells": {
             "fill": {
              "color": "#506784"
             },
             "line": {
              "color": "rgb(17,17,17)"
             }
            },
            "header": {
             "fill": {
              "color": "#2a3f5f"
             },
             "line": {
              "color": "rgb(17,17,17)"
             }
            },
            "type": "table"
           }
          ]
         },
         "layout": {
          "annotationdefaults": {
           "arrowcolor": "#f2f5fa",
           "arrowhead": 0,
           "arrowwidth": 1
          },
          "coloraxis": {
           "colorbar": {
            "outlinewidth": 0,
            "ticks": ""
           }
          },
          "colorscale": {
           "diverging": [
            [
             0,
             "#8e0152"
            ],
            [
             0.1,
             "#c51b7d"
            ],
            [
             0.2,
             "#de77ae"
            ],
            [
             0.3,
             "#f1b6da"
            ],
            [
             0.4,
             "#fde0ef"
            ],
            [
             0.5,
             "#f7f7f7"
            ],
            [
             0.6,
             "#e6f5d0"
            ],
            [
             0.7,
             "#b8e186"
            ],
            [
             0.8,
             "#7fbc41"
            ],
            [
             0.9,
             "#4d9221"
            ],
            [
             1,
             "#276419"
            ]
           ],
           "sequential": [
            [
             0,
             "#0d0887"
            ],
            [
             0.1111111111111111,
             "#46039f"
            ],
            [
             0.2222222222222222,
             "#7201a8"
            ],
            [
             0.3333333333333333,
             "#9c179e"
            ],
            [
             0.4444444444444444,
             "#bd3786"
            ],
            [
             0.5555555555555556,
             "#d8576b"
            ],
            [
             0.6666666666666666,
             "#ed7953"
            ],
            [
             0.7777777777777778,
             "#fb9f3a"
            ],
            [
             0.8888888888888888,
             "#fdca26"
            ],
            [
             1,
             "#f0f921"
            ]
           ],
           "sequentialminus": [
            [
             0,
             "#0d0887"
            ],
            [
             0.1111111111111111,
             "#46039f"
            ],
            [
             0.2222222222222222,
             "#7201a8"
            ],
            [
             0.3333333333333333,
             "#9c179e"
            ],
            [
             0.4444444444444444,
             "#bd3786"
            ],
            [
             0.5555555555555556,
             "#d8576b"
            ],
            [
             0.6666666666666666,
             "#ed7953"
            ],
            [
             0.7777777777777778,
             "#fb9f3a"
            ],
            [
             0.8888888888888888,
             "#fdca26"
            ],
            [
             1,
             "#f0f921"
            ]
           ]
          },
          "colorway": [
           "#636efa",
           "#EF553B",
           "#00cc96",
           "#ab63fa",
           "#FFA15A",
           "#19d3f3",
           "#FF6692",
           "#B6E880",
           "#FF97FF",
           "#FECB52"
          ],
          "font": {
           "color": "#f2f5fa"
          },
          "geo": {
           "bgcolor": "rgb(17,17,17)",
           "lakecolor": "rgb(17,17,17)",
           "landcolor": "rgb(17,17,17)",
           "showlakes": true,
           "showland": true,
           "subunitcolor": "#506784"
          },
          "hoverlabel": {
           "align": "left"
          },
          "hovermode": "closest",
          "mapbox": {
           "style": "dark"
          },
          "paper_bgcolor": "rgb(17,17,17)",
          "plot_bgcolor": "rgb(17,17,17)",
          "polar": {
           "angularaxis": {
            "gridcolor": "#506784",
            "linecolor": "#506784",
            "ticks": ""
           },
           "bgcolor": "rgb(17,17,17)",
           "radialaxis": {
            "gridcolor": "#506784",
            "linecolor": "#506784",
            "ticks": ""
           }
          },
          "scene": {
           "xaxis": {
            "backgroundcolor": "rgb(17,17,17)",
            "gridcolor": "#506784",
            "gridwidth": 2,
            "linecolor": "#506784",
            "showbackground": true,
            "ticks": "",
            "zerolinecolor": "#C8D4E3"
           },
           "yaxis": {
            "backgroundcolor": "rgb(17,17,17)",
            "gridcolor": "#506784",
            "gridwidth": 2,
            "linecolor": "#506784",
            "showbackground": true,
            "ticks": "",
            "zerolinecolor": "#C8D4E3"
           },
           "zaxis": {
            "backgroundcolor": "rgb(17,17,17)",
            "gridcolor": "#506784",
            "gridwidth": 2,
            "linecolor": "#506784",
            "showbackground": true,
            "ticks": "",
            "zerolinecolor": "#C8D4E3"
           }
          },
          "shapedefaults": {
           "line": {
            "color": "#f2f5fa"
           }
          },
          "sliderdefaults": {
           "bgcolor": "#C8D4E3",
           "bordercolor": "rgb(17,17,17)",
           "borderwidth": 1,
           "tickwidth": 0
          },
          "ternary": {
           "aaxis": {
            "gridcolor": "#506784",
            "linecolor": "#506784",
            "ticks": ""
           },
           "baxis": {
            "gridcolor": "#506784",
            "linecolor": "#506784",
            "ticks": ""
           },
           "bgcolor": "rgb(17,17,17)",
           "caxis": {
            "gridcolor": "#506784",
            "linecolor": "#506784",
            "ticks": ""
           }
          },
          "title": {
           "x": 0.05
          },
          "updatemenudefaults": {
           "bgcolor": "#506784",
           "borderwidth": 0
          },
          "xaxis": {
           "automargin": true,
           "gridcolor": "#283442",
           "linecolor": "#506784",
           "ticks": "",
           "title": {
            "standoff": 15
           },
           "zerolinecolor": "#283442",
           "zerolinewidth": 2
          },
          "yaxis": {
           "automargin": true,
           "gridcolor": "#283442",
           "linecolor": "#506784",
           "ticks": "",
           "title": {
            "standoff": 15
           },
           "zerolinecolor": "#283442",
           "zerolinewidth": 2
          }
         }
        },
        "title": {
         "text": "Weather type impact on objects detected by hour"
        },
        "xaxis": {
         "anchor": "y",
         "autorange": true,
         "domain": [
          0,
          1
         ],
         "range": [
          0,
          23
         ],
         "title": {
          "text": "hour"
         },
         "type": "linear"
        },
        "yaxis": {
         "anchor": "x",
         "autorange": true,
         "domain": [
          0,
          1
         ],
         "range": [
          -0.12365591397849461,
          2.3494623655913975
         ],
         "title": {
          "text": "obs_count_corr"
         },
         "type": "linear"
        }
       }
      },
      "image/png": "[encoded data removed]"
     },
     "metadata": {},
     "output_type": "display_data"
    }
   ],
   "source": [
    "grouped = merged.groupby(['hour', 'cur_weather_type'])['obs_count_corr'].mean().reset_index()\n",
    "px.line(grouped, y=\"obs_count_corr\", x='hour', color=\"cur_weather_type\",\n",
    "             title='Weather type impact on objects detected by hour')"
   ]
  },
  {
   "cell_type": "markdown",
   "metadata": {},
   "source": [
    "- *cur__windGust*\n",
    "\n",
    "Does gust speed affect the number of objects detected in the hourly time intervals?\n",
    "\n",
    "Firstly we can plot the trend of gusts over time, and based on that we can decide on the threshold to break it down into categories, like Low and Strong.\n",
    "\n",
    "Then we can see that for most of the time, Strong wind means less activity."
   ]
  },
  {
   "cell_type": "code",
   "execution_count": 12,
   "metadata": {},
   "outputs": [
    {
     "data": {
      "application/vnd.plotly.v1+json": {
       "config": {
        "plotlyServerURL": "https://plot.ly"
       },
       "data": [
        {
         "hovertemplate": "cur__windGust=%{y}<extra></extra>",
         "legendgroup": "",
         "line": {
          "color": "#636efa",
          "dash": "solid"
         },
         "mode": "lines",
         "name": "",
         "showlegend": false,
         "type": "scattergl",
         "xaxis": "x",
         "y": [
          43.38,
          44.96,
          46.1,
          46.5,
          45.78,
          43.7,
          40.81,
          39.07,
          38.76,
          39.21,
          40.01,
          39.76,
          38.21,
          36.11,
          33.81,
          31.95,
          30.54,
          28.95,
          26.19,
          22.87,
          19.97,
          17.2,
          14.75,
          13.13,
          11.62,
          9.52,
          8.82,
          10.78,
          15.33,
          20.45,
          26.23,
          31.72,
          36.04,
          40.85,
          46.3,
          48.98,
          51.09,
          55.66,
          59.67,
          61.29,
          60.03,
          58.01,
          57.3,
          57.81,
          58.25,
          58.06,
          56.95,
          54.7,
          50.44,
          43.9,
          37.16,
          32.56,
          29.93,
          28.3,
          26.99,
          26.34,
          26.29,
          25.78,
          24.97,
          23.39,
          22.01,
          21.84,
          22.1,
          22.9,
          24.28,
          27.18,
          34.11,
          40.62,
          44.11,
          47.47,
          50.57,
          52.76,
          53.82,
          54.05,
          53.21,
          51.64,
          49.6,
          46.4,
          41.44,
          36.58,
          33.4,
          32.68,
          34.88,
          35.73,
          34.64,
          33.65,
          32.06,
          30.31,
          28.43,
          26.22,
          24.02,
          21.05,
          17.54,
          15.12,
          13.65,
          12.57,
          11.81,
          11.48,
          11.15,
          10.27,
          8.85,
          7.93,
          7.67,
          7.98,
          8.29,
          8.44,
          8.89,
          9.28,
          8.88,
          7.53,
          6.14,
          5.12,
          4.49,
          3.38,
          2.7,
          3.1,
          3.7,
          4.28,
          4.65,
          5.06,
          6.19,
          8.18,
          10.53,
          13.36,
          16.74,
          20.37,
          23.1,
          24.32,
          24.95,
          25.73,
          26.92,
          24.75,
          21.73,
          21.31,
          20.67,
          19.96,
          19.27,
          18.63,
          18.23,
          17.91,
          17.67,
          17.98,
          19,
          19.1,
          18.95,
          19.85,
          20.85,
          22.06,
          23.72,
          23.3,
          22.32,
          24.18,
          26.71,
          28.39,
          29.61,
          27.88,
          25.51,
          25.45,
          25.55,
          26.5,
          28.41,
          29.68,
          30.3,
          31.1,
          31.35,
          30.72,
          29.32,
          26.13,
          22.5,
          19.72,
          17.05,
          15.23,
          14.43,
          12.9,
          11.24,
          10.75,
          10.81,
          12.54,
          16.24,
          18.47,
          18.59,
          18.35,
          17.45,
          16.16,
          14.37,
          12.91,
          12.89,
          14.33,
          15.9,
          16.18,
          15.29,
          13.66,
          13.1,
          13.9,
          14.39,
          14.61,
          13.6,
          12.85,
          12.52,
          12.17,
          11.73,
          10.96,
          10.92,
          10.47,
          9.88,
          9.51,
          8.63,
          8.39,
          9.37,
          10.74,
          11.4,
          11.59,
          11.87,
          11.79,
          11.73,
          11.37,
          11.28,
          11.63,
          11.71,
          11.95,
          12.68,
          12.41,
          11.7,
          11.39,
          11.01,
          10.48,
          10.38,
          9.91,
          8.7,
          7.66,
          6.19,
          5.58,
          6.11,
          6.64,
          7.24,
          8.1,
          8.81,
          9.71,
          11.06,
          11.33,
          11.74,
          13.59,
          15.33,
          16.69,
          17.87,
          17.11,
          15.96,
          16.35,
          16.65,
          16.87,
          17.3,
          14.94,
          13.14,
          15.36,
          17.81,
          19.53,
          20.53,
          21.95,
          24.52,
          27.92,
          31.47,
          34.77,
          37.81,
          40.61,
          42.72,
          43.87,
          44.65,
          45.6,
          46.83,
          46.86,
          47.82,
          51.54,
          55.04,
          56.88,
          57.35,
          56.68,
          56.57,
          57.81,
          58.85,
          58.82,
          57.55,
          57.27,
          58.27,
          59.48,
          60.64,
          60.69,
          59.73,
          57.88,
          56.14,
          55.05,
          53.87,
          52.38,
          50.67,
          48.4,
          46.88,
          47,
          47.98,
          51.43,
          58.09,
          58.32,
          53.15,
          48.69,
          43.02,
          38.62,
          35.62,
          30.56,
          25.15,
          21.91,
          18.88,
          15.79,
          12.61,
          9.35,
          8.84,
          12.52,
          16.95,
          20.13,
          22.5,
          23.71,
          24.56,
          26.11,
          27.24,
          27.45,
          26.99,
          25.39,
          21.13,
          18.9,
          19.92,
          19.48,
          17.64,
          16.16,
          15.83,
          16.08,
          17.31,
          21.54,
          29.18,
          37.42,
          45.04,
          52.49,
          57.95,
          58.01,
          52.96,
          43.59,
          39.22,
          44.17,
          49.51,
          50.96,
          48.5,
          46.08,
          44.77,
          44.31,
          44.49,
          43.57,
          41.68,
          39.49,
          37.5,
          37.42,
          38.87,
          40.21,
          41.95,
          41.4,
          40.38,
          41.95,
          44.12,
          46.77,
          50.06,
          50.32,
          49.41,
          52.57,
          56.35,
          56.79,
          54.11,
          47.36,
          42.48,
          43.86,
          46.27,
          48.19,
          49.62,
          52.34,
          54.43,
          53.91,
          52.29,
          48.79,
          43.38,
          36.64,
          31.94,
          30.69,
          30.46,
          30.88,
          32.03,
          33.82,
          35.85,
          37.93,
          39.98,
          41.54,
          42.37,
          45.15,
          49.43,
          53.38,
          56.45,
          55.71,
          51.83,
          47.75,
          46.09,
          47.22,
          48.98,
          50.34,
          51.56,
          51.16,
          51.29,
          52.91,
          53.84,
          54.69,
          55.68,
          52.83,
          51.66,
          55.66,
          58.23,
          58.61,
          57.14,
          52.67,
          49.63,
          50.25,
          50.89,
          52.05,
          53.82,
          51.77,
          49.82,
          51.95,
          53.26,
          55.41,
          59.35,
          62.71,
          62.42,
          57.69,
          51.49,
          45.76,
          40.93,
          38.38,
          37.43,
          37.31,
          38,
          38.35,
          38.6,
          37.63,
          38.96,
          44.76,
          50.25,
          53.36,
          54.52,
          55,
          54.92,
          54.1,
          53.16,
          52.77,
          51.97,
          48.75,
          45.33,
          43.24,
          40.88,
          38.55,
          36.61,
          34.12,
          29.79,
          25.9,
          24.49,
          26.06,
          31.2,
          37.68,
          45.91,
          55.74,
          60.35,
          61.53,
          61.78,
          54.54,
          47.33,
          43.92,
          40.94,
          43.51,
          51.93,
          57.35,
          56.34,
          51.81,
          45.93,
          42.63,
          41.82,
          39.08,
          35.71,
          34.47,
          33.32,
          32.17,
          31.19,
          29.21,
          25.01,
          20.83,
          17.8,
          14.89,
          12.29,
          8.68,
          5.88,
          4.96,
          4.54,
          5.65,
          8.36,
          14.15,
          22.94,
          33.54,
          43.72,
          49.66,
          52,
          53.05,
          53.51,
          53.6,
          53.44,
          51.72,
          48.94,
          45.7,
          43.23,
          42.56,
          41.91,
          39.06,
          35.51,
          33.18,
          29.64,
          24.7,
          20.1,
          17.56,
          17.93,
          20.09,
          24.69,
          32.63,
          40.58,
          44.67,
          44.89,
          42.44,
          41.85,
          45.84,
          49.79,
          50.59,
          48.48,
          42.96,
          36.97,
          32.69,
          28.46,
          25.09,
          22.31,
          22.02,
          22,
          19.92,
          18.24,
          17.73,
          18.5,
          18.54,
          17.17,
          15.15,
          12.87,
          10.94,
          9.21,
          8.41,
          8.06,
          7.36,
          7.31,
          8.15,
          9.1,
          10.55,
          12.16,
          14.01,
          16.29,
          19.49,
          23.72,
          27.17,
          30.67,
          35.44,
          39.95,
          43.62,
          46.33,
          49.82,
          55.25,
          62.05,
          68.18,
          71.5,
          72.83,
          70.01,
          65.77,
          63.53,
          61.13,
          59.58,
          59.68,
          60.08,
          59.84,
          60.11,
          60.8,
          61.24,
          61.35,
          62.43,
          63.74,
          64.62,
          65.55,
          65.4,
          64.7,
          64.4,
          64.82,
          66.19,
          67.47,
          67.07,
          65.12,
          59.14,
          53.03,
          50.58,
          47.37,
          41.74,
          34.38,
          24.2,
          17.13,
          16.77,
          17.42,
          16.98,
          15.66,
          12.43,
          13.38,
          19.81,
          25.07,
          28.41,
          30.02,
          29.89,
          30.99,
          35.25,
          39.67,
          44.02,
          48.78,
          49.54,
          45.27,
          38.56,
          31.3,
          27.19,
          25.91,
          25.92,
          26.48,
          27.44,
          28.79,
          30.19,
          31.82,
          32.78,
          32.71,
          33.12,
          33.78,
          33.53,
          32.56,
          29.98,
          27.23,
          25.67,
          24.06,
          22.23,
          20.11,
          17.63,
          16.15,
          17.18,
          18.74,
          20.71,
          24.32,
          27.58,
          31.55,
          37.49,
          44.49,
          51.89,
          59.41,
          62.23,
          63.29,
          65.12,
          63.65,
          58.83,
          49.68,
          37.27,
          30.48,
          32.82,
          36.32,
          38.47,
          40.4,
          41.64,
          41.41,
          42.39,
          44.38,
          45.25,
          45.52,
          43.67,
          41.7,
          43.91,
          47.63,
          50.12,
          51.76,
          52.54,
          53.76,
          55.18,
          55.47,
          54.95,
          53.59,
          50.93,
          49.04,
          49.54,
          50.93,
          52.9,
          55.5,
          55.72,
          54.73,
          55.52,
          56.13,
          55.58,
          54.07,
          50.32,
          46.74,
          45.79,
          45.32,
          44.61,
          43.71,
          42.17,
          40.86,
          40.72,
          40.87,
          40.8,
          40.42,
          41.09,
          42.49,
          43.84,
          45.45,
          46.61,
          47.3,
          46.1,
          45.37,
          48.19,
          51.5,
          52.72,
          52.52,
          47.19,
          40.89,
          41.04,
          43.11,
          44.15,
          44.84,
          41.62,
          36.93,
          34.55,
          32.68,
          32.68,
          33.98,
          40.52,
          47.61,
          50.67,
          53.95,
          56.91,
          58.6,
          57.6,
          57.35,
          60.76,
          64.48,
          65.57,
          63.3,
          61.22,
          61.99,
          64.45,
          66.61,
          68.16,
          68.29,
          62.5,
          55.7,
          50.61,
          44.12,
          37.54,
          30.35,
          26.94,
          27.71,
          29.9,
          33.28,
          35.35,
          36.16,
          36.94,
          37.43,
          37.1,
          36.3,
          34.89,
          32.81,
          31.38,
          30.13,
          28.17,
          26.66,
          26.46,
          27.64,
          27.92,
          25.94,
          24.16,
          23.14,
          21.28,
          18.52,
          16.97,
          17.39,
          18.93,
          21.09,
          23.03,
          24.99,
          26.41,
          27.8,
          29.2,
          29.53,
          28.61,
          26.45,
          23.41,
          19.98,
          16.53,
          13.67,
          12.71,
          13.58,
          17.23,
          20.79,
          21.08,
          19.98,
          17.38,
          13.41,
          7.5,
          4.65,
          7.83,
          12.98,
          16.87,
          19.37,
          22.06,
          25.45,
          28.34,
          29.71,
          28.68,
          25.13,
          19.1,
          14.87,
          14.55,
          14.95,
          15.79,
          16.99,
          20.23,
          24.98,
          29.91,
          34.89,
          38.66,
          40.99,
          47.01,
          52.94,
          53.45,
          52.92,
          52.35,
          51.69,
          47.82,
          42.49,
          39.46,
          36.77,
          32.46,
          26.41,
          16.46,
          9.61,
          10.76,
          13.42,
          15.05,
          15.39,
          17.98,
          19.65,
          20.86,
          23.9,
          23.99,
          21.4,
          16.9,
          14.74,
          16.9,
          20.51,
          25.3,
          31.77,
          37.52,
          41.06,
          43.43,
          44.76,
          49.13,
          57.06,
          61.3,
          58.59,
          48.57,
          36.88,
          33.44,
          38.68,
          39.64,
          36,
          34.09,
          31.19,
          28.51,
          26.12,
          26.08,
          27.74,
          29.35,
          31.46,
          32.72,
          33.02,
          33.29,
          33.58,
          33.68,
          33.95,
          34.42,
          35.05,
          36.67,
          39,
          41.31,
          43.43,
          44.44,
          44.55,
          44.65,
          44.58,
          44,
          43.6,
          44.25,
          45.95,
          47.92,
          48.75,
          48.02,
          46.92,
          46.35,
          46.23,
          45.12,
          43.72,
          45.07,
          47.55,
          47.75,
          46.1,
          42.82,
          40.58,
          41.09,
          42.19,
          43.72,
          45.64,
          49.33,
          52.5,
          53.16,
          53.57,
          54.29,
          55.45,
          56.56,
          57.06,
          56.94,
          56.49,
          55.85,
          54.91,
          53.28,
          51.14,
          48.75,
          46.26,
          44.15,
          39.7,
          32.6,
          28.88,
          28.43,
          28.22,
          28.43,
          29.02,
          25.91,
          22.15,
          21.86,
          21.61,
          21.27,
          20.73,
          21.07,
          21.91,
          22.24,
          22.74,
          23.82,
          25.31,
          25.34,
          25.05,
          25.94,
          27.09,
          29.15,
          32.43,
          33,
          32.68,
          34.86,
          36.58,
          36.69,
          35.18,
          33.47,
          34.51,
          37.44,
          39.71,
          41.67,
          43.58,
          43.69,
          42.69,
          42.11,
          41.24,
          40.67,
          40.52,
          38.25,
          36.29,
          37.21,
          38.19,
          38.47,
          38.26,
          35.39,
          32.59,
          33.08,
          33.63,
          32.87,
          30.82,
          29.16,
          28.33,
          28.53,
          28.88,
          27.79,
          25.94,
          23.16,
          20.61,
          19.03,
          17.49,
          16.08,
          14.81,
          13.73,
          11.56,
          7.97,
          4.99,
          4.27,
          5.77,
          7.81,
          8.39,
          7.63,
          6.83,
          6.95,
          8.42,
          10.42,
          12.17,
          13.59,
          14.73,
          14.94,
          14.33,
          13.69,
          14.26,
          15.79,
          17.26,
          19.25,
          22.12,
          24.02,
          26.53,
          30.66,
          33.82,
          35.29,
          35.08,
          33.08,
          32.45,
          34.88,
          37.47,
          39.36,
          40.69,
          41.01,
          41.35,
          42.09,
          42.54,
          43.79,
          45.83,
          46.73,
          47.4,
          49.65,
          52.17,
          53.03,
          51.99,
          48.9,
          48.41,
          51.82,
          55.96,
          58.06,
          55.79,
          54.72,
          49.43,
          37.85,
          28.51,
          24.85,
          26.91,
          29.79,
          30.29,
          29.4,
          28.35,
          27.37,
          26.89,
          21.75,
          17.7,
          20.25,
          22.82,
          24.03,
          23.59,
          25.2,
          28.3,
          30.58,
          32.34,
          31.23,
          27.31,
          21.42,
          15.24,
          13.42,
          14.53,
          13.75,
          11.45,
          8.28,
          4.86,
          5.36,
          8.83,
          10.64,
          11.03,
          11.04,
          11.07,
          12.52,
          15.18,
          17.76,
          20.96,
          23.65,
          23.83,
          21.77,
          19.11,
          17.39,
          16.38,
          18.43,
          20.46,
          18.71,
          16.76,
          16.04,
          16.46,
          15.78,
          16.25,
          18.72,
          20.6,
          22.57,
          24.8,
          26.11,
          26.73,
          27.54,
          28.04,
          28.28,
          28.28,
          27.99,
          28.22,
          29.36,
          30.42,
          30.95,
          31.08,
          29.01,
          25.64,
          24.71,
          25.02,
          24.29,
          22.71,
          20.55,
          18.84,
          17.48,
          16.27,
          14.33,
          14.32,
          14.9,
          13.98,
          13.65,
          15.03,
          18.52,
          18.34,
          16.01,
          15.59,
          14.97,
          15.26,
          16.52,
          16.77,
          17.46,
          20.28,
          22.98,
          24.26,
          24.07,
          24.21,
          25.67,
          28.03,
          30.62,
          32.7,
          34.54,
          33.93,
          34.18,
          38.32,
          42.34,
          44.52,
          45.15,
          42.33,
          40.17,
          42.13,
          44.32,
          46.25,
          48.04,
          48.84,
          49.71,
          51.81,
          53.54,
          53.73,
          52.34,
          50.57,
          50.01,
          50.9,
          52.21,
          53.66,
          55.56,
          55.12,
          55.56,
          58.51,
          60.24,
          61.4,
          62,
          60.73,
          59.15,
          59.14,
          59.28,
          59.54,
          60.03,
          60.5,
          60.92,
          61.46,
          62.3,
          63.28,
          63.98,
          63.14,
          61.09,
          60.84,
          61.95,
          62.6,
          63.07,
          61.31,
          61.76,
          64.65,
          65.44,
          66.19,
          66.68,
          64.25,
          61.71,
          61.63,
          61.25,
          60.21,
          58.52,
          57.37,
          56.65,
          56.57,
          56.64,
          55.25,
          52.65,
          51.48,
          50.72,
          48.59,
          46.13,
          42.7,
          38.54,
          35.99,
          33.2,
          27.89,
          23.19,
          21.06,
          21.33,
          20.52,
          19.16,
          20.27,
          22.37,
          23.48,
          23.57,
          24.5,
          28.96,
          36.06,
          42.35,
          44.93,
          43.86,
          40.11,
          39.18,
          44.16,
          49.29,
          51.25,
          50.35,
          49.64,
          48.25,
          44.72,
          41.79,
          42.05,
          46.22,
          43.95,
          42.16,
          48.92,
          56.1,
          61.88,
          65.68,
          63.71,
          60.42,
          61.58,
          62.93,
          64.15,
          66.19,
          62.08,
          53.12,
          48.17,
          45.29,
          45.3,
          47.32,
          45.51,
          46.53,
          54.75,
          62.82,
          67.13,
          69.13,
          66.17,
          62.78,
          64.01,
          64.57,
          63.68,
          62.39,
          50.42,
          41.71,
          45.6,
          47.85,
          49.32,
          49.17,
          52.08,
          55.15,
          55.73,
          56.32,
          54.51,
          50.22,
          45.57,
          41.9,
          38.89,
          37.26,
          39.06,
          44.12,
          47.51,
          46.52,
          43.33,
          40.04,
          36.76,
          32.06,
          28.13,
          28.91,
          34.18,
          39.14,
          37.74,
          29.75,
          20.73,
          15.02,
          13.21,
          13.47,
          13.14,
          11.86,
          12.06,
          16.01,
          22.83,
          29.28,
          32.79,
          33.6,
          34.71,
          36.77,
          38.89,
          43.69,
          48.54,
          51.21,
          51.89,
          52.24,
          53.93,
          55.06,
          55.68,
          55.66,
          54.24,
          53.21,
          55.11,
          57.51,
          57.46,
          57,
          55.57,
          53.62,
          53.03,
          51.69,
          49.04,
          45.3,
          41.13,
          38,
          36.52,
          35.15,
          33.25,
          31.19,
          26.28,
          21.07,
          19.19,
          17.94,
          16.79,
          15.87,
          14.09,
          13.02,
          12.98,
          12.19,
          10.93,
          10.08,
          9.37,
          9.79,
          12.76,
          16.95,
          22.34,
          28.83,
          36.3,
          37.72,
          38.64,
          46.4,
          52.18,
          54.09,
          54.46,
          54.8,
          55.27,
          55.46,
          55.83,
          57.17,
          50.49,
          41.91,
          42.45,
          43.96,
          41.07,
          33.74,
          27.53,
          26.93,
          31.23,
          37.07,
          42.36,
          47.56,
          50.05,
          50.64,
          51.88,
          52.52,
          53.76,
          55.6,
          57.85,
          59.39,
          59.45,
          58.57,
          56.62,
          53.93,
          48,
          41.69,
          37.4,
          32.9,
          29.18,
          26.11,
          24.43,
          22.91,
          20.42,
          17.94,
          15.03,
          11.56,
          9.06,
          7.7,
          6.12,
          5.11,
          5.38,
          7,
          10.67,
          14.47,
          17.19,
          20.37,
          24.88,
          30.93,
          33.39,
          36.32,
          45.1,
          52.83,
          56.08,
          54.51,
          52.92,
          55.21,
          59.72,
          63.93,
          64.84,
          62.44,
          59.83,
          58.86,
          59.01,
          59.26,
          58.9,
          58.28,
          53.23,
          48.65,
          49.8,
          50.92,
          49.86,
          47.09,
          41.92,
          37.72,
          35.93,
          33.41,
          30.46,
          27.38,
          20.78,
          15.1,
          13.55,
          12.2,
          11.64,
          11.78,
          11.93,
          14.61,
          21.4,
          29.23,
          36.11,
          41.69,
          48.38,
          53.06,
          53.14,
          54.34,
          58.49,
          62.25,
          61.88,
          61.41,
          63.74,
          65.29,
          65.15,
          63.96,
          56.82,
          50.92,
          52.53,
          54.33,
          55.78,
          57.42,
          57.08,
          55.96,
          56.79,
          56.83,
          56.53,
          56.48,
          49.74,
          44.89,
          48.75,
          52.59,
          54.08,
          54.14,
          46.94,
          41.53,
          46.49,
          51.47,
          53.16,
          52.37,
          46.43,
          42.94,
          47.38,
          51.31,
          52.38,
          51.11,
          48.86,
          46.5,
          43.99,
          40.89,
          38.78,
          39.28,
          35.88,
          34.9,
          36.46,
          31.72,
          28.16,
          24.83,
          20.14,
          18.29,
          19.26,
          20.95,
          22.76,
          24.76,
          27.25,
          31.12,
          37.68,
          44.56,
          48.7,
          51.36,
          49.59,
          43.73,
          43.87,
          48.84,
          52.06,
          54.09,
          55.76,
          55.67,
          53.97,
          51.72,
          47.04,
          40.33,
          35.1,
          36.33,
          49.31,
          65.31,
          73.03,
          74.49,
          70.5,
          67.36,
          67.06,
          65.58,
          64.67,
          64.55,
          62.06,
          59.98,
          60.77,
          61.3,
          61.67,
          62.18,
          60.19,
          58.35,
          59.92,
          61.68,
          62.53,
          62.9,
          59.95,
          58.08,
          61.29,
          64.38,
          65.41,
          64.94,
          59.67,
          54.78,
          55.16,
          55.56,
          55.35,
          54.7,
          53.03,
          51.29,
          50.52,
          49.82,
          49.44,
          50.05,
          44.59,
          38.69,
          39.15,
          39.23,
          37.92,
          35.21,
          32.88,
          31.73,
          30.8,
          29.58,
          27.97,
          26.07,
          23.26,
          20.88,
          19.94,
          18.91,
          17.1,
          14.21,
          13.38,
          14.25,
          13.02,
          10.76,
          8.97,
          7.73,
          6.91,
          6.64,
          7.1,
          7.78,
          9.05,
          11.35,
          12.12,
          12.29,
          14.02,
          15.2,
          16.96,
          19.43,
          24.92,
          31.53,
          36.45,
          40.75,
          42.33,
          41.24,
          39.1,
          38.34,
          38.95,
          39.35,
          40.36,
          42.23,
          42.94,
          41.8,
          39.93,
          37.39,
          33.7,
          28.82,
          22.81,
          17.85,
          15.85,
          14.9,
          13.38,
          11.47,
          9.31,
          7.74,
          6.78,
          5.75,
          6.49,
          9.58,
          11.78,
          15.08,
          19.36,
          22.04,
          25.15,
          28.97,
          30.5,
          32.34,
          35.6,
          38.57,
          42.03,
          44.36,
          45.3,
          46.41,
          48.77,
          51.16,
          54.29,
          58.09,
          63.72,
          63.06,
          51.68,
          39.7,
          31.82,
          27.34,
          23.71,
          21.39,
          22.26,
          24.69,
          26.92,
          29.29,
          29.94,
          30.03,
          31.5,
          32.98,
          34.7,
          36.63,
          38.83,
          42.2,
          46.34,
          49.57,
          50.64,
          49.39,
          48.08,
          45.41,
          40.73,
          36.93,
          34.27,
          31.91,
          34,
          36.96,
          35.94,
          35.45,
          35.87,
          35.68,
          47.58,
          54.12,
          47.88,
          46.54,
          44.73,
          42.51,
          41.17,
          37.13,
          30.06,
          24.69,
          21.37,
          19.95,
          20.97,
          22.31,
          22.17,
          22.19,
          22.51,
          23.03,
          26.34,
          27.99,
          24.91,
          21.88,
          19.62,
          17.92,
          18.09,
          20.11,
          22.15,
          23.78,
          23.86,
          22.22,
          21.43,
          16.96,
          11.86,
          10.9,
          10.3,
          10.79,
          12.9,
          14.97,
          18.1,
          22.66,
          24.55,
          23.76,
          23.98,
          22.87,
          19.97,
          18.75,
          17.94,
          17.62,
          17.62,
          19.15,
          20.23,
          19.95,
          20.45,
          21.62,
          22.67,
          24.39,
          27.81,
          31.78,
          35.77,
          40,
          42.92,
          43.59,
          43.49,
          43.18,
          42.45,
          41.43,
          40.14,
          40.54,
          42.85,
          44.85,
          45.06,
          43.33,
          39.45,
          35.47,
          33.8,
          32.24,
          28.35,
          22.17,
          15.71,
          11.42,
          9.53,
          6.59,
          4.17,
          4.12,
          5.73,
          9.16,
          14.11,
          19.54,
          24.3,
          28.88,
          31.94,
          34.84,
          38.57,
          42.04,
          46.88,
          52.35,
          59.56,
          65.31,
          65.64,
          64.17,
          58.11,
          47.62,
          35.98,
          24.5,
          16.08,
          10.57,
          8.91,
          11.36,
          13.11,
          13.65,
          14.9,
          16.19,
          20.68,
          29.42,
          33.45,
          33.35,
          34.56,
          35.17,
          36.43,
          38.71,
          33.33,
          27.38,
          29.31,
          30.84,
          30.27,
          27.51,
          26.99,
          30.75,
          36.62,
          43.11,
          49.69,
          56.3,
          65.31,
          72.18,
          72.83,
          72.96,
          71.38,
          70.38,
          71.63,
          71.59,
          69.21,
          64.86,
          61.53,
          59.43,
          59.37,
          56.75,
          50.03,
          43.36,
          36.05,
          27.96,
          20.84,
          21.31,
          32.18,
          44.51,
          49.64,
          48.33,
          43.56,
          39.86,
          38.68,
          36.99,
          34.29,
          30.56,
          26.73,
          24.49,
          24.03,
          23.72,
          22.55,
          20.75,
          17.31,
          15.2,
          16.57,
          18.37,
          19.74,
          21.01,
          19.92,
          19.4,
          22.32,
          24.97,
          25.95,
          25.36,
          23.29,
          20.59,
          18.17,
          15.71,
          13.51,
          11.72,
          8.51,
          5.95,
          5.53,
          5.25,
          5.64,
          6.89,
          6.48,
          6.55,
          9.4,
          11.48,
          12.89,
          14.25,
          19.12,
          22.75,
          21.21,
          20.19,
          20.46,
          22.13,
          22.65,
          22.68,
          23.85,
          24.95,
          25.82,
          26.59,
          26.27,
          25.58,
          25.75,
          26.27,
          27.6,
          29.85,
          32.71,
          35.19,
          37.03,
          38.92,
          41.17,
          44,
          45.53,
          47.01,
          49.88,
          52.34,
          54.41,
          55.93,
          57.28,
          58.88,
          60.57,
          61.88,
          62.82,
          62.86,
          60.31,
          58.61,
          58.93,
          58.37,
          57.44,
          55.48,
          54.02,
          51.69,
          47.71,
          44.58,
          42.03,
          39.99,
          36.96,
          33.41,
          30.21,
          27.36,
          25.69,
          25.21,
          25.42,
          25.08,
          23.9,
          22.87,
          22.34,
          22.11,
          23.41,
          24.99,
          25.27,
          25.29,
          24.71,
          23.51,
          22.17,
          21.5,
          20.98,
          19.94,
          18.56,
          16.81,
          15.1,
          14.31,
          13.83,
          12.03,
          10.18,
          9.84,
          10.07,
          9.75,
          8.49,
          6.4,
          5.19,
          6.43,
          8.56,
          9.7,
          9.39,
          9,
          8.99,
          9.35,
          9.25,
          9.27,
          10.12,
          11.05,
          11.93,
          12.99,
          13.12,
          12.89,
          13.23,
          13.64,
          14.7,
          16.48,
          17.42,
          19.11,
          23.02,
          26.86,
          29.58,
          31.42,
          31.32,
          31.66,
          34.26,
          36.68,
          38.41,
          39.89,
          38.01,
          36.51,
          38.9,
          40.51,
          41.09,
          41.34,
          40.98,
          40.78,
          41.29,
          41.62,
          41.49,
          40.88,
          41.18,
          42.04,
          42.44,
          45.19,
          42.79,
          34.78,
          28.11,
          23.71,
          22.83,
          22.52,
          20.85,
          17.79,
          14.35,
          13.51,
          16.33,
          19.72,
          21.7,
          22.25,
          22.97,
          25.19,
          27.56,
          29.69,
          33.09,
          37.51,
          42.86,
          48.52,
          53.91,
          58.74,
          62.55,
          65.86,
          68.26,
          70.03,
          70.51,
          69.65,
          67,
          64.28,
          64.14,
          64.73,
          64.73,
          63.62,
          61.03,
          56.82,
          52.99,
          52.23,
          53.13,
          53.56,
          53.72,
          53.51,
          54.33,
          56.32,
          58.32,
          59.81,
          60.37,
          59.94,
          57.71,
          54.67,
          52.84,
          51.34,
          48.71,
          45.44,
          39.16,
          31.36,
          26.9,
          24.48,
          23,
          22.69,
          22.64,
          23.33,
          24.24,
          24.3,
          23.64,
          21.93,
          23.17,
          27.37,
          32.01,
          37.11,
          40.79,
          43.07,
          45.37,
          47.39,
          49.27,
          52.27,
          56.83,
          62.87,
          68.47,
          73.22,
          78.37,
          82.31,
          78.74,
          71.47,
          68.7,
          67.26,
          65.75,
          65.75,
          66.24,
          66.61,
          66.98,
          68,
          69.89,
          72.21,
          74.75,
          78.6,
          75.3,
          70.76,
          73.99,
          77.92,
          82.93,
          87.45,
          108.37,
          110.91,
          92.15,
          88.05,
          87.03,
          90.85,
          94.33,
          96.16,
          95.44,
          91.41,
          85.77,
          78.26,
          69.81,
          62.66,
          57.36,
          52.31,
          46.09,
          38.31,
          32.91,
          28.59,
          22.65,
          18.07,
          15.85,
          15.93,
          17.22,
          21.76,
          30.21,
          39.22,
          47.13,
          53.91,
          59.72,
          65.66,
          72.4,
          77.61,
          81.22,
          82.46,
          81.38,
          83.42,
          89.03,
          92.73,
          93.42,
          88.82,
          75.66,
          66.33,
          66.16,
          66.91,
          66.07,
          63.73,
          61.03,
          56.77,
          51.34,
          46.65,
          43.13,
          40.78,
          40.87,
          43.69,
          47.57,
          50.86,
          51.7,
          50.61,
          46.63,
          43.14,
          43.53,
          44.73,
          45.73,
          46.81,
          46.67,
          46.52,
          47.65,
          47.91,
          45.72,
          41.44,
          34.48,
          29.6,
          29.87,
          31.6,
          34.88,
          39.56,
          42.37,
          44.77,
          45.03,
          42.11,
          41.07,
          41.26,
          42.54,
          44.48,
          46.6,
          48.58,
          48.83,
          47.06,
          47.25,
          49.66,
          50.35,
          50.84,
          54.28,
          61.11,
          66.81,
          70.36,
          73.76,
          76.12,
          77.58,
          79.15,
          75.36,
          71.71,
          73.77,
          75.34,
          76.34,
          76.65,
          74.25,
          71.2,
          69.64,
          67.63,
          65.3,
          62.99,
          57.6,
          50.88,
          45.52,
          39.75,
          32.94,
          25.59,
          17.05,
          19.97,
          40.27,
          61.34,
          72.57,
          75.17,
          69.86,
          62.49,
          57.38,
          52.46,
          52.39,
          57.51,
          60.51,
          60.22,
          61.57,
          62.55,
          58.92,
          50.13,
          45.51,
          45.32,
          43.56,
          41.21,
          40.94,
          46.3,
          46.34,
          38.98,
          41.72,
          52.15,
          60.54,
          69.19,
          67.47,
          60.05,
          54.88,
          46.9,
          39.04,
          31.13,
          20.73,
          17.54,
          27.37,
          39.25,
          47.89,
          54.46,
          53.54,
          50.66,
          57.47,
          65.77,
          69.05,
          68.48,
          66.74,
          66.8,
          66.84,
          64.88,
          62.32,
          58.92,
          55.42,
          48.88,
          38.78,
          29.47,
          22.77,
          18.63,
          15.25,
          13,
          11.29,
          9.35,
          7.76,
          6.49,
          6.4,
          7.48,
          7.85,
          7.71,
          7.57,
          7.31,
          7.15,
          7.47,
          8.3,
          9.03,
          8.96,
          8.05,
          7.44,
          8.1,
          9.19,
          9.93,
          10.68,
          11.44,
          13.32,
          15.1,
          14.63,
          13.52,
          13.01,
          13.11,
          12.06,
          11.67,
          13.47,
          15.01,
          15.39,
          14.6,
          14.15,
          14.12,
          13.48,
          13.71,
          17.58,
          25.22,
          32.27,
          37.65,
          43.38,
          49.22,
          55.85,
          63.18,
          70.85,
          78.25,
          83.01,
          85.86,
          89.34,
          94.01,
          92.37,
          88.92,
          90.47,
          91.3,
          90.58,
          87.86,
          86.53,
          87.19,
          88.19,
          88.91,
          84.49,
          73.27,
          61.97,
          55.17,
          49.99,
          46.36,
          44.59,
          43.14,
          43.05,
          43.54,
          43.75,
          42.84,
          38,
          29.68,
          22.4,
          22.15,
          22.86,
          20.13,
          18.44,
          17.45,
          15.99,
          17.1,
          20.1,
          20.94,
          19.91,
          17.1,
          11.63,
          9.81,
          11.77,
          11.8,
          11.59,
          11.36,
          8.15,
          4.82,
          4.7,
          5.07,
          6.26,
          7.98,
          12.25,
          18.07,
          21.73,
          23.75,
          24.6,
          24.19,
          23.86,
          23.27,
          23.13,
          23.79,
          23.33,
          21.91,
          20.22,
          19.61,
          20.51,
          21.36,
          20.81,
          18.91,
          17.21,
          15.92,
          13.29,
          11.26,
          11.83,
          13.65,
          13.82,
          12.7,
          12.94,
          13.95,
          15.6,
          18.03,
          18.94,
          18.86,
          18.11,
          16.94,
          19.02,
          24.46,
          30.85,
          35.8,
          41.17,
          47,
          50.1,
          51.12,
          47.1,
          43.73,
          45.77,
          47.32,
          46.69,
          44.3,
          38.59,
          36.11,
          41.1,
          46.8,
          50.88,
          53.83,
          55.42,
          56.7,
          58.83,
          60.16,
          59.78,
          57.64,
          55.54,
          55.56,
          55.22,
          53.11,
          50.9,
          48.82,
          43.12,
          37.87,
          36.04,
          33.7,
          32.35,
          31.86,
          32.92,
          33.28,
          30.56,
          27.09,
          24.73,
          23.42,
          22.58,
          23.63,
          27.13,
          31.83,
          37.94,
          45.99,
          49.16,
          51.43,
          57.6,
          61.55,
          63.11,
          63.02,
          62.74,
          62.29,
          61.14,
          58.86,
          53.62,
          45.65,
          35.22,
          32.37,
          39.61,
          45.49,
          46.87,
          44.79,
          38.5,
          32.46,
          30.13,
          27.82,
          24.64,
          20.62,
          16.2,
          13.61,
          12.32,
          10.73,
          9.95,
          9.9,
          10.06,
          11.2,
          14,
          17.55,
          22.45,
          29.07,
          35.77,
          41.08,
          44.18,
          46.25,
          49.54,
          53.79,
          59.53,
          66.01,
          70.01,
          72.02,
          73.8,
          75.3,
          76.71,
          78.73,
          80.54,
          80.07,
          74.08,
          63.24,
          49.13,
          41.46,
          44.82,
          49.74,
          51.98,
          51.63,
          50.75,
          51.73,
          55.69,
          64.56,
          66.13,
          60.84,
          58.69,
          54.9,
          50.97,
          47.85,
          46.04,
          45.71,
          44.65,
          44.44,
          44.41,
          43.27,
          42.49,
          41.92,
          41.6,
          41.11,
          40.28,
          39.8,
          40.65,
          43.07,
          47.31,
          47.8,
          48.61,
          45.5,
          44.34,
          45.11,
          45.92,
          47,
          46.69,
          44.76,
          44.34,
          45.26,
          46.34,
          47.51,
          49.66,
          51.37,
          52.82,
          54.35,
          52.8,
          50.76,
          51.32,
          51.15,
          51.06,
          51.55,
          49.31,
          47.16,
          48.23,
          48.85,
          49.31,
          49.84,
          48.67,
          48.24,
          50.7,
          54.27,
          56.67,
          57.2,
          54.17,
          50.56,
          51.32,
          51.32,
          51.79,
          52.28,
          51.6,
          52.06,
          52.32,
          50.78,
          49.31,
          48.14,
          46.12,
          44.94,
          45.51,
          45.62,
          44.71,
          42.77,
          41.87,
          41.56,
          42.18,
          42.72,
          43.34,
          44.02,
          44.02,
          42.2,
          42.63,
          42.96,
          42.2,
          40.19,
          39.45,
          38.46,
          38.19,
          36.34,
          33.03,
          28.22,
          23.84,
          18.39,
          16.49,
          13.01,
          10.45,
          8.63,
          9.11,
          10.41,
          10.63,
          11.49,
          15.11,
          23.35,
          26.97,
          24.18,
          26.15,
          31.73,
          35.21,
          37.04,
          38.08,
          38.1,
          36.67,
          34.59,
          32.77,
          31.4,
          28.29,
          25.87,
          26.55,
          27.33,
          27.05,
          25.36,
          23.18,
          20.75,
          17.54,
          14.22,
          11.66,
          10.01,
          8.21,
          6.44,
          5.85,
          5.68,
          5.4,
          5.22,
          5.66,
          7.13,
          8.46,
          9.72,
          13.13,
          18.48,
          25.2,
          30.5,
          32.31,
          33.02,
          34.34,
          36.3,
          37.28,
          39.08,
          43.13,
          47.02,
          49.62,
          51.36,
          50.54,
          49.13,
          50.53,
          52.97,
          54.69,
          55.7,
          57.9,
          61.71,
          66.09,
          69.68,
          71.21,
          71.07,
          70.71,
          71.28,
          69.94,
          66.75,
          63.96,
          62.22,
          57.64,
          53.64,
          53.78,
          53.31,
          51.96,
          50.21,
          48.78,
          45.91,
          54.03,
          59.62,
          58.48,
          52.09,
          41.02,
          32,
          29.23,
          27.75,
          26.95,
          26.52,
          27.92,
          29.6,
          27.87,
          25.78,
          23.22,
          20.01,
          16.85,
          15.7,
          16.76,
          18.3,
          19.96,
          21.54,
          27.07,
          30.19,
          32.53,
          32.1,
          31.96,
          32.17,
          29.51,
          26.02,
          24.85,
          24.58,
          26.51,
          30.37,
          33.58,
          35.06,
          35.24,
          34.98,
          35.73,
          37.23,
          37,
          37.09,
          38.99,
          41.16,
          43.6,
          46.59,
          49.03,
          50.12,
          50.14,
          49.58,
          49.22,
          49.2,
          48.83,
          48.46,
          48.53,
          48.55,
          48.65,
          48.87,
          49.58,
          51.67,
          51.18,
          50.61,
          49.89,
          48.97,
          48.23,
          48.39,
          50.59,
          53.41,
          56.17,
          59.26,
          59.99,
          61.23,
          64.69,
          67.42,
          70.85,
          75.21,
          77.6,
          76.53,
          76.73,
          75.76,
          72.73,
          64.77,
          53.68,
          48.73,
          46.89,
          44.6,
          41,
          36.33,
          33.28,
          31.31,
          32.5,
          34,
          38.04,
          44.64,
          50.45,
          55.34,
          59.34,
          62.37,
          65.33,
          68.23,
          71.59,
          75.77,
          78.22,
          78.56,
          77.38,
          74.77,
          72.35,
          71.79,
          72.71,
          73.2,
          72.82,
          71.74,
          68.84,
          65.52,
          61.43,
          55.98,
          51.55,
          48.17,
          45.36,
          41.4,
          36.07,
          31.28,
          28.49,
          27.47,
          25.34,
          23.89,
          23.19,
          20.56,
          19.08,
          19.09,
          15.44,
          10.47,
          8.02,
          6.3,
          7.55,
          13.11,
          22.56,
          30.86,
          38.8,
          44.66,
          47.46,
          47.21,
          42.78,
          42.14,
          53.39,
          60.49,
          55.83,
          40.46,
          26.24,
          19.65,
          16.85,
          13.55,
          11.75,
          13.18,
          15.8,
          18.7,
          22.18,
          25.76,
          29.15,
          32.76,
          30.7,
          29.68,
          36.81,
          44.5,
          49.66,
          52.1,
          49.97,
          43.16,
          36.62,
          29.5,
          23.87,
          19.29,
          17.28,
          17.3,
          17.77,
          20.32,
          26.34,
          36.19,
          44.67,
          50.17,
          54.57,
          57.72,
          61.37,
          65.92,
          67.63,
          68.5,
          71.18,
          73.25,
          75.01,
          76.86,
          76.78,
          76.59,
          78.57,
          80.99,
          83.18,
          85.61,
          86.01,
          85.65,
          87.17,
          88.75,
          90.15,
          91.41,
          89.86,
          83.36,
          73.29,
          62.11,
          52.2,
          42.5,
          36,
          32.74,
          30.2,
          28.74,
          25.55,
          20.84,
          17.04,
          22.76,
          38.47,
          46.09,
          52.55,
          57.76,
          47.75,
          39.88,
          37.01,
          34.28,
          32.27,
          30.64,
          30.21,
          31.35,
          33.66,
          36.15,
          37.04,
          36.66,
          35.03,
          34.28,
          37.82,
          41.66,
          44.3,
          45.67,
          47.4,
          54.56,
          53.84,
          56.23,
          56.94,
          56.4,
          53.77,
          50.87,
          52.53,
          56.15,
          57.14,
          56.21,
          53.32,
          51.07,
          51.77,
          52.39,
          52.14,
          50.85,
          47.84,
          45.91,
          46.58,
          48.2,
          52.05,
          58.1,
          64.88,
          69.69,
          71.05,
          72.61,
          73.7,
          74.32,
          74.56,
          78.74,
          86.21,
          89.61,
          84.75,
          71.91,
          62.87,
          55.45,
          50.22,
          50.81,
          51.19,
          48.1,
          40.91,
          35,
          29.34,
          23.93,
          19.78,
          16.62,
          14.43,
          17.62,
          26.55,
          34.84,
          38.03,
          36.36,
          33.78,
          33.46,
          35.2,
          36.85,
          37.42,
          36.95,
          36.76,
          38.21,
          40.92,
          42.62,
          41.07,
          36.81,
          29.75,
          22.87,
          19.36,
          16.88,
          14.13,
          11.2,
          9.24,
          8.02,
          7.13,
          7.16,
          7.93,
          9.32,
          11.79,
          13.36,
          12.92,
          12.23,
          12.23,
          13.16,
          13.63,
          14.44,
          15.55,
          16,
          16.02,
          15.26,
          14.06,
          13.05,
          12.34,
          11.5,
          10.26,
          8.56,
          7.22,
          6.27,
          5.5,
          4.49,
          3.99,
          4.44,
          5.11,
          6.22,
          7.88,
          9.9,
          12.57,
          16.01,
          19.39,
          21.94,
          22.93,
          22.65,
          21.86,
          20.51,
          18.49,
          17.2,
          17.27,
          17.5,
          17.44,
          17.16,
          16.14,
          15.51,
          16.07,
          16.48,
          16.35,
          15.65,
          15.52,
          14.86,
          13.48,
          13,
          13.94,
          16.66,
          17.68,
          18.36,
          20.12,
          20.69,
          20.64,
          19.9,
          19.23,
          18.83,
          17.99,
          16.7,
          14.93,
          12.65,
          9.96,
          8.02,
          8.5,
          9.58,
          9.38,
          8.45,
          7.78,
          9.29,
          11.66,
          12.86,
          12.75,
          11.14,
          9.82,
          10.45,
          11.57,
          12.06,
          12.43,
          12.69,
          12.15,
          12.05,
          13.6,
          14.79,
          14.12,
          11.79,
          9.4,
          9.05,
          10.05,
          11.07,
          11.85,
          12.18,
          11.58,
          10.55,
          10.37,
          10.32,
          10.34,
          10.88,
          10.77,
          11.09,
          11.67,
          11.38,
          11.35,
          11.65,
          11.42,
          11.31,
          12.11,
          12.96,
          13.93,
          15.17,
          15.81,
          16.05,
          15.23,
          13.39,
          12.74,
          13.31,
          13.01,
          12.05,
          11.37,
          10.46,
          9.88,
          9.66,
          9.36,
          8.78,
          8.08,
          7.21,
          6.82,
          7.17,
          7.6,
          7.36,
          6.37,
          5.39,
          5.36,
          6.24,
          7.09,
          7.45,
          6.69,
          5.55,
          5.54,
          6.35,
          7.92,
          8.62,
          7.58,
          6.42,
          5.78,
          5.48,
          6.73,
          8.57,
          9.14,
          9.51,
          10.32,
          11.5,
          13.51,
          14.84,
          14.43,
          14.02,
          14.3,
          15.2,
          16.91,
          19.54,
          22.97,
          26.35,
          28.48,
          29.63,
          29.6,
          29.33,
          29.65,
          29.81,
          29.86,
          29.78,
          30.31,
          31.68,
          32.44,
          32.72,
          33.72,
          35.47,
          37.3,
          39.76,
          43.53,
          47.42,
          50.61,
          53.17,
          58.62,
          62.72,
          63.05,
          63.17,
          60.11,
          53.68,
          45.63,
          39.58,
          36.49,
          34.27,
          33.08,
          33.44,
          33.23,
          30.87,
          27.17,
          24.81,
          28.18,
          37.31,
          47.66,
          54.51,
          55.26,
          53.12,
          52.25,
          52.09,
          53.99,
          55.24,
          52.76,
          49.88,
          48.19,
          47.82,
          42.48,
          37.68,
          37.8,
          37.06,
          36.7,
          36.85,
          35.29,
          37.31,
          44.17,
          49.45,
          52.35,
          52.86,
          51.38,
          49.5,
          50.63,
          53.17,
          53.77,
          53.22,
          46.39,
          38.59,
          39.48,
          43.17,
          45.15,
          45.98,
          45.32,
          46.85,
          52.9,
          58.63,
          61.53,
          61.64,
          59.76,
          57.92,
          58.88,
          60.5,
          58.71,
          54.31,
          46.17,
          41.25,
          44.42,
          48.25,
          48.87,
          46.73,
          41.01,
          36.22,
          36.52,
          37.48,
          36.73,
          33.91,
          34.32,
          37.51,
          40.26,
          43.43,
          45.81,
          47.82,
          48.37,
          48.3,
          49.09,
          49.02,
          47.33,
          44.1,
          42.47,
          42.21,
          41.34,
          40.91,
          40.48,
          39.93,
          39.1,
          39.26,
          39.89,
          39.72,
          39.17,
          38.06,
          35.83,
          34.72,
          33.61,
          31.7,
          33.04,
          37.67,
          41.64,
          44.68,
          48.74,
          51.94,
          52.81,
          51.59,
          48.27,
          44.24,
          40.6,
          38.32,
          40.85,
          48.21,
          55.34,
          60.57,
          65.72,
          69.65,
          70.86,
          69.26,
          68.32,
          68.76,
          67.6,
          65.27,
          61.81,
          57.73,
          55.21,
          55.06,
          57.47,
          60.31,
          62.26,
          64.7,
          65.36,
          64.47,
          63.36,
          61.64,
          60.51,
          59.66,
          60.77,
          62.48,
          62.97,
          63.21,
          62.65,
          61.55,
          59.38,
          58.11,
          58.72,
          59.3,
          60,
          60.71,
          60.18,
          57.57,
          52.78,
          46.59,
          39.19,
          30.68,
          23.29,
          18.57,
          15.83,
          15.3,
          20.05,
          31.46,
          39.22,
          39.35,
          39.86,
          31.29,
          28.23,
          43.47,
          58.54,
          63.67,
          61.62,
          60.81,
          61.56,
          63.09,
          65.24,
          64.75,
          63.76,
          65.3,
          67.19,
          69.62,
          71.48,
          69.78,
          67.51,
          66.57,
          66.64,
          64.24,
          57.06,
          50.63,
          45.71,
          41.65,
          38.55,
          36.81,
          30.82,
          24.92,
          24.58,
          27,
          28.74,
          29.88,
          32.9,
          35.43,
          37.76,
          39.63,
          41.11,
          42.85,
          40.83,
          39.53,
          43.52,
          47.81,
          51.93,
          56.27,
          55.61,
          53.71,
          56.84,
          59.95,
          60.5,
          59.45,
          53.64,
          46.28,
          41.67,
          37.52,
          36.09,
          37.06,
          36.61,
          33.81,
          30.76,
          27.79,
          23.35,
          17.3,
          12.33,
          9.81,
          9.28,
          9.5,
          9.35,
          8.86,
          8.64,
          8.58,
          8.14,
          7.19,
          6.74,
          7.43,
          7.87,
          8.37,
          9.87,
          12,
          14.86,
          18.54,
          21.71,
          23.47,
          24.5,
          25.08,
          24.63,
          23.12,
          21.32,
          21.22,
          23.25,
          25.46,
          26.68,
          27.12,
          26.54,
          26.07,
          26.17,
          26.15,
          26.94,
          28.55,
          29.41,
          29.84,
          30.83,
          31.66,
          32.33,
          32.91,
          33.16,
          33.64,
          35.32,
          37.31,
          38.38,
          38.59,
          39.37,
          40.59,
          42.12,
          44.18,
          45.62,
          46.38,
          47.39,
          48.26,
          48.32,
          48.14,
          47.51,
          46.23,
          46.99,
          49.73,
          52.61,
          56.89,
          59.34,
          58.69,
          56.15,
          55.98,
          59.28,
          62,
          63.76,
          64.34,
          62.34,
          63.08,
          67.9,
          70.27,
          68.59,
          63.82,
          55.37,
          51.1,
          51.53,
          50.16,
          49.72,
          49.61,
          50.39,
          51.88,
          53.6,
          56.04,
          59.75,
          64.75,
          69.18,
          72.81,
          77.28,
          81.77,
          84.89,
          85.99,
          83.23,
          83.87,
          90.83,
          95.99,
          95.59,
          89.47,
          86.45,
          87.89,
          86.15,
          83.58,
          86.32,
          94.17,
          102.76,
          107.88,
          109.24,
          108.39,
          105.81,
          101.06,
          95.44,
          91.73,
          90.69,
          90.81,
          88.86,
          85.3,
          79.04,
          74.92,
          76.92,
          79.7,
          81,
          81.98,
          79.85,
          77.79,
          80.48,
          84.09,
          85.55,
          83.34,
          75.83,
          69.93,
          70.66,
          74.22,
          76.98,
          77.38,
          73.23,
          69.9,
          76.28,
          84.27,
          86.75,
          85.39,
          80.5,
          77.56,
          78.64,
          78.45,
          77.32,
          76.1,
          72.03,
          69.47,
          72.29,
          75.32,
          76.37,
          76.16,
          73.14,
          70.2,
          69.93,
          69.31,
          69.08,
          70.26,
          67.93,
          65.16,
          66.21,
          66.96,
          67.14,
          66.9,
          57.73,
          48.4,
          48.53,
          49.31,
          49.39,
          49.76,
          42.67,
          36.53,
          40.34,
          44.08,
          45.46,
          45.34,
          36.67,
          26.9,
          24.42,
          22.37,
          21.82,
          22.6,
          23.61,
          29.43,
          36.16,
          39.17,
          42.68,
          46.15,
          50.91,
          57.64,
          65.61,
          72.07,
          73.07,
          68.74,
          60.61,
          57.73,
          63.22,
          67.3,
          63.04,
          50.87,
          39.59,
          38.58,
          47.4,
          56.32,
          57.48,
          51.6,
          44.32,
          42.38,
          46.28,
          50.04,
          50.22,
          47.07,
          40.56,
          30.7,
          20.36,
          12.84,
          11.69,
          16.68,
          29.33,
          43.78,
          54.1,
          62.54,
          67.89,
          70.47,
          73.75,
          77.24,
          79.09,
          80.17,
          76.14,
          67.2,
          59.33,
          55.09,
          51.96,
          48.12,
          45.1,
          43.05,
          40.77,
          39.51,
          40.53,
          42.55,
          45.73,
          50.21,
          54.78,
          59.17,
          63.47,
          67.57,
          71.87,
          76.79,
          80.47,
          83.23,
          87.77,
          92.83,
          93.08,
          91.91,
          94.17,
          94.56,
          90.83,
          86.04,
          82.76,
          80.29,
          72.4,
          69.53,
          78.67,
          90.42,
          95.56,
          91.78,
          92.48,
          93.44,
          89.33,
          85.61,
          81.22,
          76.04,
          71.01,
          68.45,
          69.22,
          71.05,
          73.05,
          76.34,
          76.78,
          76.83,
          80.79,
          84.19,
          86.3,
          87.28,
          82.11,
          78.72,
          82.54,
          85.89,
          86.3,
          83.43,
          78.09,
          74.44,
          75.78,
          77.08,
          73.46,
          65.31,
          58.87,
          57,
          57.82,
          59.39,
          59.9,
          59.99,
          57.41,
          55.62,
          57.7,
          59.11,
          59.22,
          58.66,
          56.55,
          54.2,
          53.52,
          53.4,
          53.27,
          53.5,
          50.85,
          49.88,
          53.58,
          56.58,
          58.34,
          58.43,
          60.29,
          61.55,
          59.23,
          57.71,
          58.19,
          59.56,
          63.15,
          65.62,
          64.22,
          62.43,
          60.79,
          59.14,
          56.35,
          52,
          48.86,
          47.11,
          45.26,
          43.97,
          37.52,
          32.38,
          34.48,
          37.09,
          40.14,
          43.49,
          49.17,
          55.51,
          60.46,
          65,
          69.06,
          73.33,
          74.89,
          74.79,
          74.67,
          74.08,
          72,
          70.18,
          70.43,
          70.03,
          70.34,
          71.61,
          73.23,
          75.08,
          77.87,
          80.37,
          82.88,
          84.97,
          77.75,
          66.05,
          52.75,
          44.93,
          49.67,
          56.09,
          57.55,
          56.27,
          56.58,
          57.57,
          58.76,
          59.01,
          57.59,
          54.54,
          50.37,
          46.72,
          44.52,
          43.56,
          44.67,
          47.68,
          51.02,
          54.37,
          58.53,
          63.01,
          67.48,
          72.12,
          76.77,
          78.47,
          77.84,
          77.46,
          77.37,
          78.45,
          78.78,
          78.47,
          78.97,
          79.87,
          80.64,
          82.03,
          82.21,
          82.47,
          85.04,
          87.61,
          89.03,
          88.48,
          88.9,
          88.5,
          84.42,
          79.7,
          76.92,
          75.28,
          71.87,
          69.32,
          68.6,
          67.85,
          67.92,
          69.68,
          62.89,
          55.55,
          57.87,
          59.94,
          59.65,
          56.53,
          53.38,
          51.58,
          49.95,
          48.56,
          47.96,
          51.04,
          57.1,
          70.22,
          84.78,
          92.16,
          91.61,
          81.97,
          71.14,
          62.64,
          54.85,
          47.02,
          40.74,
          35.79,
          27.85,
          20.11,
          15.97,
          12.77,
          9.92,
          7.09,
          8.87,
          14.59,
          21.59,
          30.86,
          41.08,
          52.48,
          62.2,
          70.65,
          80.19,
          87.48,
          90.29,
          89.55,
          85.87,
          82.22,
          77.59,
          70.69,
          65.28,
          61.4,
          55.81,
          51.47,
          51.42,
          51.71,
          50.6,
          48.39,
          46.2,
          42.77,
          38.09,
          34.9,
          35.55,
          39.96,
          45.72,
          49.32,
          50.32,
          50.85,
          51.42,
          52.57,
          48.36,
          44.06,
          45.82,
          48.3,
          52.46,
          57.97,
          63.59,
          67.21,
          69.68,
          71.51,
          70.29,
          67.03,
          62.2,
          60.85,
          64.91,
          68.96,
          70.27,
          69.51,
          65.03,
          61.11,
          61.35,
          61.31,
          59.99,
          58.03,
          51.25,
          45.11,
          44.82,
          44.14,
          42.03,
          39.11,
          33.9,
          30.19,
          30.81,
          31.54,
          30.85,
          28.9,
          25.22,
          20.07,
          14.97,
          10.84,
          9.2,
          10.11,
          14.01,
          20.48,
          27.94,
          34.7,
          38.09,
          37.9,
          37.58,
          36.93,
          34.36,
          31.66,
          29.97,
          29.22,
          28.23,
          26.26,
          23.54,
          20.92,
          18.89,
          17.03,
          18.56,
          21.6,
          21.82,
          22.41,
          26.39,
          33.65,
          40.7,
          52.74,
          54.61,
          57.41,
          59.7,
          61.74,
          60.87,
          60.07,
          62.78,
          65.79,
          69,
          72.57,
          75.36,
          79.84,
          86.62,
          91.3,
          91.8,
          88.19,
          80.7,
          74.66,
          74.56,
          75.73,
          75.04,
          72.66,
          70.18,
          68,
          65.48,
          62.92,
          60.1,
          56.88,
          55.21,
          55.12,
          54.51,
          53.53,
          52.6,
          51.83,
          49.64,
          46.13,
          43.48,
          41,
          36.75,
          30.81,
          23.4,
          18.33,
          17.43,
          17.64,
          18.19,
          19.25,
          19.33,
          19.5,
          22.05,
          25.4,
          28.53,
          31.64,
          34.45,
          35.81,
          38.23,
          42.03,
          44.41,
          45.81,
          45.8,
          46.22,
          48.38,
          50.44,
          51.41,
          51.36,
          50.08,
          47.65
         ],
         "yaxis": "y"
        }
       ],
       "layout": {
        "autosize": true,
        "legend": {
         "tracegroupgap": 0
        },
        "template": {
         "data": {
          "bar": [
           {
            "error_x": {
             "color": "#f2f5fa"
            },
            "error_y": {
             "color": "#f2f5fa"
            },
            "marker": {
             "line": {
              "color": "rgb(17,17,17)",
              "width": 0.5
             }
            },
            "type": "bar"
           }
          ],
          "barpolar": [
           {
            "marker": {
             "line": {
              "color": "rgb(17,17,17)",
              "width": 0.5
             }
            },
            "type": "barpolar"
           }
          ],
          "carpet": [
           {
            "aaxis": {
             "endlinecolor": "#A2B1C6",
             "gridcolor": "#506784",
             "linecolor": "#506784",
             "minorgridcolor": "#506784",
             "startlinecolor": "#A2B1C6"
            },
            "baxis": {
             "endlinecolor": "#A2B1C6",
             "gridcolor": "#506784",
             "linecolor": "#506784",
             "minorgridcolor": "#506784",
             "startlinecolor": "#A2B1C6"
            },
            "type": "carpet"
           }
          ],
          "choropleth": [
           {
            "colorbar": {
             "outlinewidth": 0,
             "ticks": ""
            },
            "type": "choropleth"
           }
          ],
          "contour": [
           {
            "colorbar": {
             "outlinewidth": 0,
             "ticks": ""
            },
            "colorscale": [
             [
              0,
              "#0d0887"
             ],
             [
              0.1111111111111111,
              "#46039f"
             ],
             [
              0.2222222222222222,
              "#7201a8"
             ],
             [
              0.3333333333333333,
              "#9c179e"
             ],
             [
              0.4444444444444444,
              "#bd3786"
             ],
             [
              0.5555555555555556,
              "#d8576b"
             ],
             [
              0.6666666666666666,
              "#ed7953"
             ],
             [
              0.7777777777777778,
              "#fb9f3a"
             ],
             [
              0.8888888888888888,
              "#fdca26"
             ],
             [
              1,
              "#f0f921"
             ]
            ],
            "type": "contour"
           }
          ],
          "contourcarpet": [
           {
            "colorbar": {
             "outlinewidth": 0,
             "ticks": ""
            },
            "type": "contourcarpet"
           }
          ],
          "heatmap": [
           {
            "colorbar": {
             "outlinewidth": 0,
             "ticks": ""
            },
            "colorscale": [
             [
              0,
              "#0d0887"
             ],
             [
              0.1111111111111111,
              "#46039f"
             ],
             [
              0.2222222222222222,
              "#7201a8"
             ],
             [
              0.3333333333333333,
              "#9c179e"
             ],
             [
              0.4444444444444444,
              "#bd3786"
             ],
             [
              0.5555555555555556,
              "#d8576b"
             ],
             [
              0.6666666666666666,
              "#ed7953"
             ],
             [
              0.7777777777777778,
              "#fb9f3a"
             ],
             [
              0.8888888888888888,
              "#fdca26"
             ],
             [
              1,
              "#f0f921"
             ]
            ],
            "type": "heatmap"
           }
          ],
          "heatmapgl": [
           {
            "colorbar": {
             "outlinewidth": 0,
             "ticks": ""
            },
            "colorscale": [
             [
              0,
              "#0d0887"
             ],
             [
              0.1111111111111111,
              "#46039f"
             ],
             [
              0.2222222222222222,
              "#7201a8"
             ],
             [
              0.3333333333333333,
              "#9c179e"
             ],
             [
              0.4444444444444444,
              "#bd3786"
             ],
             [
              0.5555555555555556,
              "#d8576b"
             ],
             [
              0.6666666666666666,
              "#ed7953"
             ],
             [
              0.7777777777777778,
              "#fb9f3a"
             ],
             [
              0.8888888888888888,
              "#fdca26"
             ],
             [
              1,
              "#f0f921"
             ]
            ],
            "type": "heatmapgl"
           }
          ],
          "histogram": [
           {
            "marker": {
             "colorbar": {
              "outlinewidth": 0,
              "ticks": ""
             }
            },
            "type": "histogram"
           }
          ],
          "histogram2d": [
           {
            "colorbar": {
             "outlinewidth": 0,
             "ticks": ""
            },
            "colorscale": [
             [
              0,
              "#0d0887"
             ],
             [
              0.1111111111111111,
              "#46039f"
             ],
             [
              0.2222222222222222,
              "#7201a8"
             ],
             [
              0.3333333333333333,
              "#9c179e"
             ],
             [
              0.4444444444444444,
              "#bd3786"
             ],
             [
              0.5555555555555556,
              "#d8576b"
             ],
             [
              0.6666666666666666,
              "#ed7953"
             ],
             [
              0.7777777777777778,
              "#fb9f3a"
             ],
             [
              0.8888888888888888,
              "#fdca26"
             ],
             [
              1,
              "#f0f921"
             ]
            ],
            "type": "histogram2d"
           }
          ],
          "histogram2dcontour": [
           {
            "colorbar": {
             "outlinewidth": 0,
             "ticks": ""
            },
            "colorscale": [
             [
              0,
              "#0d0887"
             ],
             [
              0.1111111111111111,
              "#46039f"
             ],
             [
              0.2222222222222222,
              "#7201a8"
             ],
             [
              0.3333333333333333,
              "#9c179e"
             ],
             [
              0.4444444444444444,
              "#bd3786"
             ],
             [
              0.5555555555555556,
              "#d8576b"
             ],
             [
              0.6666666666666666,
              "#ed7953"
             ],
             [
              0.7777777777777778,
              "#fb9f3a"
             ],
             [
              0.8888888888888888,
              "#fdca26"
             ],
             [
              1,
              "#f0f921"
             ]
            ],
            "type": "histogram2dcontour"
           }
          ],
          "mesh3d": [
           {
            "colorbar": {
             "outlinewidth": 0,
             "ticks": ""
            },
            "type": "mesh3d"
           }
          ],
          "parcoords": [
           {
            "line": {
             "colorbar": {
              "outlinewidth": 0,
              "ticks": ""
             }
            },
            "type": "parcoords"
           }
          ],
          "pie": [
           {
            "automargin": true,
            "type": "pie"
           }
          ],
          "scatter": [
           {
            "marker": {
             "line": {
              "color": "#283442"
             }
            },
            "type": "scatter"
           }
          ],
          "scatter3d": [
           {
            "line": {
             "colorbar": {
              "outlinewidth": 0,
              "ticks": ""
             }
            },
            "marker": {
             "colorbar": {
              "outlinewidth": 0,
              "ticks": ""
             }
            },
            "type": "scatter3d"
           }
          ],
          "scattercarpet": [
           {
            "marker": {
             "colorbar": {
              "outlinewidth": 0,
              "ticks": ""
             }
            },
            "type": "scattercarpet"
           }
          ],
          "scattergeo": [
           {
            "marker": {
             "colorbar": {
              "outlinewidth": 0,
              "ticks": ""
             }
            },
            "type": "scattergeo"
           }
          ],
          "scattergl": [
           {
            "marker": {
             "line": {
              "color": "#283442"
             }
            },
            "type": "scattergl"
           }
          ],
          "scattermapbox": [
           {
            "marker": {
             "colorbar": {
              "outlinewidth": 0,
              "ticks": ""
             }
            },
            "type": "scattermapbox"
           }
          ],
          "scatterpolar": [
           {
            "marker": {
             "colorbar": {
              "outlinewidth": 0,
              "ticks": ""
             }
            },
            "type": "scatterpolar"
           }
          ],
          "scatterpolargl": [
           {
            "marker": {
             "colorbar": {
              "outlinewidth": 0,
              "ticks": ""
             }
            },
            "type": "scatterpolargl"
           }
          ],
          "scatterternary": [
           {
            "marker": {
             "colorbar": {
              "outlinewidth": 0,
              "ticks": ""
             }
            },
            "type": "scatterternary"
           }
          ],
          "surface": [
           {
            "colorbar": {
             "outlinewidth": 0,
             "ticks": ""
            },
            "colorscale": [
             [
              0,
              "#0d0887"
             ],
             [
              0.1111111111111111,
              "#46039f"
             ],
             [
              0.2222222222222222,
              "#7201a8"
             ],
             [
              0.3333333333333333,
              "#9c179e"
             ],
             [
              0.4444444444444444,
              "#bd3786"
             ],
             [
              0.5555555555555556,
              "#d8576b"
             ],
             [
              0.6666666666666666,
              "#ed7953"
             ],
             [
              0.7777777777777778,
              "#fb9f3a"
             ],
             [
              0.8888888888888888,
              "#fdca26"
             ],
             [
              1,
              "#f0f921"
             ]
            ],
            "type": "surface"
           }
          ],
          "table": [
           {
            "cells": {
             "fill": {
              "color": "#506784"
             },
             "line": {
              "color": "rgb(17,17,17)"
             }
            },
            "header": {
             "fill": {
              "color": "#2a3f5f"
             },
             "line": {
              "color": "rgb(17,17,17)"
             }
            },
            "type": "table"
           }
          ]
         },
         "layout": {
          "annotationdefaults": {
           "arrowcolor": "#f2f5fa",
           "arrowhead": 0,
           "arrowwidth": 1
          },
          "coloraxis": {
           "colorbar": {
            "outlinewidth": 0,
            "ticks": ""
           }
          },
          "colorscale": {
           "diverging": [
            [
             0,
             "#8e0152"
            ],
            [
             0.1,
             "#c51b7d"
            ],
            [
             0.2,
             "#de77ae"
            ],
            [
             0.3,
             "#f1b6da"
            ],
            [
             0.4,
             "#fde0ef"
            ],
            [
             0.5,
             "#f7f7f7"
            ],
            [
             0.6,
             "#e6f5d0"
            ],
            [
             0.7,
             "#b8e186"
            ],
            [
             0.8,
             "#7fbc41"
            ],
            [
             0.9,
             "#4d9221"
            ],
            [
             1,
             "#276419"
            ]
           ],
           "sequential": [
            [
             0,
             "#0d0887"
            ],
            [
             0.1111111111111111,
             "#46039f"
            ],
            [
             0.2222222222222222,
             "#7201a8"
            ],
            [
             0.3333333333333333,
             "#9c179e"
            ],
            [
             0.4444444444444444,
             "#bd3786"
            ],
            [
             0.5555555555555556,
             "#d8576b"
            ],
            [
             0.6666666666666666,
             "#ed7953"
            ],
            [
             0.7777777777777778,
             "#fb9f3a"
            ],
            [
             0.8888888888888888,
             "#fdca26"
            ],
            [
             1,
             "#f0f921"
            ]
           ],
           "sequentialminus": [
            [
             0,
             "#0d0887"
            ],
            [
             0.1111111111111111,
             "#46039f"
            ],
            [
             0.2222222222222222,
             "#7201a8"
            ],
            [
             0.3333333333333333,
             "#9c179e"
            ],
            [
             0.4444444444444444,
             "#bd3786"
            ],
            [
             0.5555555555555556,
             "#d8576b"
            ],
            [
             0.6666666666666666,
             "#ed7953"
            ],
            [
             0.7777777777777778,
             "#fb9f3a"
            ],
            [
             0.8888888888888888,
             "#fdca26"
            ],
            [
             1,
             "#f0f921"
            ]
           ]
          },
          "colorway": [
           "#636efa",
           "#EF553B",
           "#00cc96",
           "#ab63fa",
           "#FFA15A",
           "#19d3f3",
           "#FF6692",
           "#B6E880",
           "#FF97FF",
           "#FECB52"
          ],
          "font": {
           "color": "#f2f5fa"
          },
          "geo": {
           "bgcolor": "rgb(17,17,17)",
           "lakecolor": "rgb(17,17,17)",
           "landcolor": "rgb(17,17,17)",
           "showlakes": true,
           "showland": true,
           "subunitcolor": "#506784"
          },
          "hoverlabel": {
           "align": "left"
          },
          "hovermode": "closest",
          "mapbox": {
           "style": "dark"
          },
          "paper_bgcolor": "rgb(17,17,17)",
          "plot_bgcolor": "rgb(17,17,17)",
          "polar": {
           "angularaxis": {
            "gridcolor": "#506784",
            "linecolor": "#506784",
            "ticks": ""
           },
           "bgcolor": "rgb(17,17,17)",
           "radialaxis": {
            "gridcolor": "#506784",
            "linecolor": "#506784",
            "ticks": ""
           }
          },
          "scene": {
           "xaxis": {
            "backgroundcolor": "rgb(17,17,17)",
            "gridcolor": "#506784",
            "gridwidth": 2,
            "linecolor": "#506784",
            "showbackground": true,
            "ticks": "",
            "zerolinecolor": "#C8D4E3"
           },
           "yaxis": {
            "backgroundcolor": "rgb(17,17,17)",
            "gridcolor": "#506784",
            "gridwidth": 2,
            "linecolor": "#506784",
            "showbackground": true,
            "ticks": "",
            "zerolinecolor": "#C8D4E3"
           },
           "zaxis": {
            "backgroundcolor": "rgb(17,17,17)",
            "gridcolor": "#506784",
            "gridwidth": 2,
            "linecolor": "#506784",
            "showbackground": true,
            "ticks": "",
            "zerolinecolor": "#C8D4E3"
           }
          },
          "shapedefaults": {
           "line": {
            "color": "#f2f5fa"
           }
          },
          "sliderdefaults": {
           "bgcolor": "#C8D4E3",
           "bordercolor": "rgb(17,17,17)",
           "borderwidth": 1,
           "tickwidth": 0
          },
          "ternary": {
           "aaxis": {
            "gridcolor": "#506784",
            "linecolor": "#506784",
            "ticks": ""
           },
           "baxis": {
            "gridcolor": "#506784",
            "linecolor": "#506784",
            "ticks": ""
           },
           "bgcolor": "rgb(17,17,17)",
           "caxis": {
            "gridcolor": "#506784",
            "linecolor": "#506784",
            "ticks": ""
           }
          },
          "title": {
           "x": 0.05
          },
          "updatemenudefaults": {
           "bgcolor": "#506784",
           "borderwidth": 0
          },
          "xaxis": {
           "automargin": true,
           "gridcolor": "#283442",
           "linecolor": "#506784",
           "ticks": "",
           "title": {
            "standoff": 15
           },
           "zerolinecolor": "#283442",
           "zerolinewidth": 2
          },
          "yaxis": {
           "automargin": true,
           "gridcolor": "#283442",
           "linecolor": "#506784",
           "ticks": "",
           "title": {
            "standoff": 15
           },
           "zerolinecolor": "#283442",
           "zerolinewidth": 2
          }
         }
        },
        "title": {
         "text": "Wind gusts trend over time"
        },
        "xaxis": {
         "anchor": "y",
         "autorange": true,
         "domain": [
          0,
          1
         ],
         "range": [
          0,
          4139
         ]
        },
        "yaxis": {
         "anchor": "x",
         "autorange": true,
         "domain": [
          0,
          1
         ],
         "range": [
          -3.3116666666666656,
          116.92166666666667
         ],
         "title": {
          "text": "cur__windGust"
         },
         "type": "linear"
        }
       }
      },
      "image/png": "[encoded data removed]"
     },
     "metadata": {},
     "output_type": "display_data"
    }
   ],
   "source": [
    "# take a look at the overall wind gust trend\n",
    "grouped = merged.groupby(['date', 'hour'])['cur__windGust'].mean()\n",
    "px.line(grouped, y=\"cur__windGust\", height=300,\n",
    "        title='Wind gusts trend over time')"
   ]
  },
  {
   "cell_type": "code",
   "execution_count": 13,
   "metadata": {},
   "outputs": [],
   "source": [
    "# define 2 categories of gusts: Normal and Strong\n",
    "merged['wind_strength'] = 'Low'\n",
    "idx = merged['cur__windGust'] >= 80\n",
    "merged.loc[idx, 'wind_strength'] = 'Strong'"
   ]
  },
  {
   "cell_type": "code",
   "execution_count": 14,
   "metadata": {},
   "outputs": [
    {
     "data": {
      "application/vnd.plotly.v1+json": {
       "config": {
        "plotlyServerURL": "https://plot.ly"
       },
       "data": [
        {
         "hovertemplate": "wind_strength=Low<br>hour=%{x}<br>obs_count_corr=%{y}<extra></extra>",
         "legendgroup": "Low",
         "line": {
          "color": "#636efa",
          "dash": "solid"
         },
         "mode": "lines",
         "name": "Low",
         "showlegend": true,
         "type": "scatter",
         "x": [
          0,
          1,
          2,
          3,
          4,
          5,
          6,
          7,
          8,
          9,
          10,
          11,
          12,
          13,
          14,
          15,
          16,
          17,
          18,
          19,
          20,
          21,
          22,
          23
         ],
         "xaxis": "x",
         "y": [
          0,
          0,
          0,
          0,
          0,
          0,
          0.40119760479041916,
          0.7365269461077845,
          1.891566265060241,
          1.4610778443113772,
          1.7380952380952381,
          1.9408284023668638,
          1.8757396449704142,
          1.7083333333333333,
          1.927710843373494,
          1.9939024390243902,
          2.042682926829268,
          1.3975903614457832,
          1.1479289940828403,
          0.4550898203592814,
          0.30303030303030304,
          0,
          0,
          0
         ],
         "yaxis": "y"
        },
        {
         "hovertemplate": "wind_strength=Strong<br>hour=%{x}<br>obs_count_corr=%{y}<extra></extra>",
         "legendgroup": "Strong",
         "line": {
          "color": "#EF553B",
          "dash": "solid"
         },
         "mode": "lines",
         "name": "Strong",
         "showlegend": true,
         "type": "scatter",
         "x": [
          0,
          1,
          2,
          3,
          4,
          5,
          6,
          7,
          8,
          9,
          10,
          11,
          12,
          13,
          14,
          15,
          16,
          17,
          18,
          19,
          20,
          21,
          22,
          23
         ],
         "xaxis": "x",
         "y": [
          0,
          0,
          0,
          0,
          0,
          0,
          0,
          0.16666666666666666,
          1,
          2,
          1,
          1,
          1.75,
          0.8,
          0.8571428571428571,
          1.4444444444444444,
          0.8888888888888888,
          1.4285714285714286,
          1,
          0.4,
          0.14285714285714285,
          0,
          0,
          0
         ],
         "yaxis": "y"
        }
       ],
       "layout": {
        "autosize": true,
        "legend": {
         "title": {
          "text": "wind_strength"
         },
         "tracegroupgap": 0
        },
        "template": {
         "data": {
          "bar": [
           {
            "error_x": {
             "color": "#f2f5fa"
            },
            "error_y": {
             "color": "#f2f5fa"
            },
            "marker": {
             "line": {
              "color": "rgb(17,17,17)",
              "width": 0.5
             }
            },
            "type": "bar"
           }
          ],
          "barpolar": [
           {
            "marker": {
             "line": {
              "color": "rgb(17,17,17)",
              "width": 0.5
             }
            },
            "type": "barpolar"
           }
          ],
          "carpet": [
           {
            "aaxis": {
             "endlinecolor": "#A2B1C6",
             "gridcolor": "#506784",
             "linecolor": "#506784",
             "minorgridcolor": "#506784",
             "startlinecolor": "#A2B1C6"
            },
            "baxis": {
             "endlinecolor": "#A2B1C6",
             "gridcolor": "#506784",
             "linecolor": "#506784",
             "minorgridcolor": "#506784",
             "startlinecolor": "#A2B1C6"
            },
            "type": "carpet"
           }
          ],
          "choropleth": [
           {
            "colorbar": {
             "outlinewidth": 0,
             "ticks": ""
            },
            "type": "choropleth"
           }
          ],
          "contour": [
           {
            "colorbar": {
             "outlinewidth": 0,
             "ticks": ""
            },
            "colorscale": [
             [
              0,
              "#0d0887"
             ],
             [
              0.1111111111111111,
              "#46039f"
             ],
             [
              0.2222222222222222,
              "#7201a8"
             ],
             [
              0.3333333333333333,
              "#9c179e"
             ],
             [
              0.4444444444444444,
              "#bd3786"
             ],
             [
              0.5555555555555556,
              "#d8576b"
             ],
             [
              0.6666666666666666,
              "#ed7953"
             ],
             [
              0.7777777777777778,
              "#fb9f3a"
             ],
             [
              0.8888888888888888,
              "#fdca26"
             ],
             [
              1,
              "#f0f921"
             ]
            ],
            "type": "contour"
           }
          ],
          "contourcarpet": [
           {
            "colorbar": {
             "outlinewidth": 0,
             "ticks": ""
            },
            "type": "contourcarpet"
           }
          ],
          "heatmap": [
           {
            "colorbar": {
             "outlinewidth": 0,
             "ticks": ""
            },
            "colorscale": [
             [
              0,
              "#0d0887"
             ],
             [
              0.1111111111111111,
              "#46039f"
             ],
             [
              0.2222222222222222,
              "#7201a8"
             ],
             [
              0.3333333333333333,
              "#9c179e"
             ],
             [
              0.4444444444444444,
              "#bd3786"
             ],
             [
              0.5555555555555556,
              "#d8576b"
             ],
             [
              0.6666666666666666,
              "#ed7953"
             ],
             [
              0.7777777777777778,
              "#fb9f3a"
             ],
             [
              0.8888888888888888,
              "#fdca26"
             ],
             [
              1,
              "#f0f921"
             ]
            ],
            "type": "heatmap"
           }
          ],
          "heatmapgl": [
           {
            "colorbar": {
             "outlinewidth": 0,
             "ticks": ""
            },
            "colorscale": [
             [
              0,
              "#0d0887"
             ],
             [
              0.1111111111111111,
              "#46039f"
             ],
             [
              0.2222222222222222,
              "#7201a8"
             ],
             [
              0.3333333333333333,
              "#9c179e"
             ],
             [
              0.4444444444444444,
              "#bd3786"
             ],
             [
              0.5555555555555556,
              "#d8576b"
             ],
             [
              0.6666666666666666,
              "#ed7953"
             ],
             [
              0.7777777777777778,
              "#fb9f3a"
             ],
             [
              0.8888888888888888,
              "#fdca26"
             ],
             [
              1,
              "#f0f921"
             ]
            ],
            "type": "heatmapgl"
           }
          ],
          "histogram": [
           {
            "marker": {
             "colorbar": {
              "outlinewidth": 0,
              "ticks": ""
             }
            },
            "type": "histogram"
           }
          ],
          "histogram2d": [
           {
            "colorbar": {
             "outlinewidth": 0,
             "ticks": ""
            },
            "colorscale": [
             [
              0,
              "#0d0887"
             ],
             [
              0.1111111111111111,
              "#46039f"
             ],
             [
              0.2222222222222222,
              "#7201a8"
             ],
             [
              0.3333333333333333,
              "#9c179e"
             ],
             [
              0.4444444444444444,
              "#bd3786"
             ],
             [
              0.5555555555555556,
              "#d8576b"
             ],
             [
              0.6666666666666666,
              "#ed7953"
             ],
             [
              0.7777777777777778,
              "#fb9f3a"
             ],
             [
              0.8888888888888888,
              "#fdca26"
             ],
             [
              1,
              "#f0f921"
             ]
            ],
            "type": "histogram2d"
           }
          ],
          "histogram2dcontour": [
           {
            "colorbar": {
             "outlinewidth": 0,
             "ticks": ""
            },
            "colorscale": [
             [
              0,
              "#0d0887"
             ],
             [
              0.1111111111111111,
              "#46039f"
             ],
             [
              0.2222222222222222,
              "#7201a8"
             ],
             [
              0.3333333333333333,
              "#9c179e"
             ],
             [
              0.4444444444444444,
              "#bd3786"
             ],
             [
              0.5555555555555556,
              "#d8576b"
             ],
             [
              0.6666666666666666,
              "#ed7953"
             ],
             [
              0.7777777777777778,
              "#fb9f3a"
             ],
             [
              0.8888888888888888,
              "#fdca26"
             ],
             [
              1,
              "#f0f921"
             ]
            ],
            "type": "histogram2dcontour"
           }
          ],
          "mesh3d": [
           {
            "colorbar": {
             "outlinewidth": 0,
             "ticks": ""
            },
            "type": "mesh3d"
           }
          ],
          "parcoords": [
           {
            "line": {
             "colorbar": {
              "outlinewidth": 0,
              "ticks": ""
             }
            },
            "type": "parcoords"
           }
          ],
          "pie": [
           {
            "automargin": true,
            "type": "pie"
           }
          ],
          "scatter": [
           {
            "marker": {
             "line": {
              "color": "#283442"
             }
            },
            "type": "scatter"
           }
          ],
          "scatter3d": [
           {
            "line": {
             "colorbar": {
              "outlinewidth": 0,
              "ticks": ""
             }
            },
            "marker": {
             "colorbar": {
              "outlinewidth": 0,
              "ticks": ""
             }
            },
            "type": "scatter3d"
           }
          ],
          "scattercarpet": [
           {
            "marker": {
             "colorbar": {
              "outlinewidth": 0,
              "ticks": ""
             }
            },
            "type": "scattercarpet"
           }
          ],
          "scattergeo": [
           {
            "marker": {
             "colorbar": {
              "outlinewidth": 0,
              "ticks": ""
             }
            },
            "type": "scattergeo"
           }
          ],
          "scattergl": [
           {
            "marker": {
             "line": {
              "color": "#283442"
             }
            },
            "type": "scattergl"
           }
          ],
          "scattermapbox": [
           {
            "marker": {
             "colorbar": {
              "outlinewidth": 0,
              "ticks": ""
             }
            },
            "type": "scattermapbox"
           }
          ],
          "scatterpolar": [
           {
            "marker": {
             "colorbar": {
              "outlinewidth": 0,
              "ticks": ""
             }
            },
            "type": "scatterpolar"
           }
          ],
          "scatterpolargl": [
           {
            "marker": {
             "colorbar": {
              "outlinewidth": 0,
              "ticks": ""
             }
            },
            "type": "scatterpolargl"
           }
          ],
          "scatterternary": [
           {
            "marker": {
             "colorbar": {
              "outlinewidth": 0,
              "ticks": ""
             }
            },
            "type": "scatterternary"
           }
          ],
          "surface": [
           {
            "colorbar": {
             "outlinewidth": 0,
             "ticks": ""
            },
            "colorscale": [
             [
              0,
              "#0d0887"
             ],
             [
              0.1111111111111111,
              "#46039f"
             ],
             [
              0.2222222222222222,
              "#7201a8"
             ],
             [
              0.3333333333333333,
              "#9c179e"
             ],
             [
              0.4444444444444444,
              "#bd3786"
             ],
             [
              0.5555555555555556,
              "#d8576b"
             ],
             [
              0.6666666666666666,
              "#ed7953"
             ],
             [
              0.7777777777777778,
              "#fb9f3a"
             ],
             [
              0.8888888888888888,
              "#fdca26"
             ],
             [
              1,
              "#f0f921"
             ]
            ],
            "type": "surface"
           }
          ],
          "table": [
           {
            "cells": {
             "fill": {
              "color": "#506784"
             },
             "line": {
              "color": "rgb(17,17,17)"
             }
            },
            "header": {
             "fill": {
              "color": "#2a3f5f"
             },
             "line": {
              "color": "rgb(17,17,17)"
             }
            },
            "type": "table"
           }
          ]
         },
         "layout": {
          "annotationdefaults": {
           "arrowcolor": "#f2f5fa",
           "arrowhead": 0,
           "arrowwidth": 1
          },
          "coloraxis": {
           "colorbar": {
            "outlinewidth": 0,
            "ticks": ""
           }
          },
          "colorscale": {
           "diverging": [
            [
             0,
             "#8e0152"
            ],
            [
             0.1,
             "#c51b7d"
            ],
            [
             0.2,
             "#de77ae"
            ],
            [
             0.3,
             "#f1b6da"
            ],
            [
             0.4,
             "#fde0ef"
            ],
            [
             0.5,
             "#f7f7f7"
            ],
            [
             0.6,
             "#e6f5d0"
            ],
            [
             0.7,
             "#b8e186"
            ],
            [
             0.8,
             "#7fbc41"
            ],
            [
             0.9,
             "#4d9221"
            ],
            [
             1,
             "#276419"
            ]
           ],
           "sequential": [
            [
             0,
             "#0d0887"
            ],
            [
             0.1111111111111111,
             "#46039f"
            ],
            [
             0.2222222222222222,
             "#7201a8"
            ],
            [
             0.3333333333333333,
             "#9c179e"
            ],
            [
             0.4444444444444444,
             "#bd3786"
            ],
            [
             0.5555555555555556,
             "#d8576b"
            ],
            [
             0.6666666666666666,
             "#ed7953"
            ],
            [
             0.7777777777777778,
             "#fb9f3a"
            ],
            [
             0.8888888888888888,
             "#fdca26"
            ],
            [
             1,
             "#f0f921"
            ]
           ],
           "sequentialminus": [
            [
             0,
             "#0d0887"
            ],
            [
             0.1111111111111111,
             "#46039f"
            ],
            [
             0.2222222222222222,
             "#7201a8"
            ],
            [
             0.3333333333333333,
             "#9c179e"
            ],
            [
             0.4444444444444444,
             "#bd3786"
            ],
            [
             0.5555555555555556,
             "#d8576b"
            ],
            [
             0.6666666666666666,
             "#ed7953"
            ],
            [
             0.7777777777777778,
             "#fb9f3a"
            ],
            [
             0.8888888888888888,
             "#fdca26"
            ],
            [
             1,
             "#f0f921"
            ]
           ]
          },
          "colorway": [
           "#636efa",
           "#EF553B",
           "#00cc96",
           "#ab63fa",
           "#FFA15A",
           "#19d3f3",
           "#FF6692",
           "#B6E880",
           "#FF97FF",
           "#FECB52"
          ],
          "font": {
           "color": "#f2f5fa"
          },
          "geo": {
           "bgcolor": "rgb(17,17,17)",
           "lakecolor": "rgb(17,17,17)",
           "landcolor": "rgb(17,17,17)",
           "showlakes": true,
           "showland": true,
           "subunitcolor": "#506784"
          },
          "hoverlabel": {
           "align": "left"
          },
          "hovermode": "closest",
          "mapbox": {
           "style": "dark"
          },
          "paper_bgcolor": "rgb(17,17,17)",
          "plot_bgcolor": "rgb(17,17,17)",
          "polar": {
           "angularaxis": {
            "gridcolor": "#506784",
            "linecolor": "#506784",
            "ticks": ""
           },
           "bgcolor": "rgb(17,17,17)",
           "radialaxis": {
            "gridcolor": "#506784",
            "linecolor": "#506784",
            "ticks": ""
           }
          },
          "scene": {
           "xaxis": {
            "backgroundcolor": "rgb(17,17,17)",
            "gridcolor": "#506784",
            "gridwidth": 2,
            "linecolor": "#506784",
            "showbackground": true,
            "ticks": "",
            "zerolinecolor": "#C8D4E3"
           },
           "yaxis": {
            "backgroundcolor": "rgb(17,17,17)",
            "gridcolor": "#506784",
            "gridwidth": 2,
            "linecolor": "#506784",
            "showbackground": true,
            "ticks": "",
            "zerolinecolor": "#C8D4E3"
           },
           "zaxis": {
            "backgroundcolor": "rgb(17,17,17)",
            "gridcolor": "#506784",
            "gridwidth": 2,
            "linecolor": "#506784",
            "showbackground": true,
            "ticks": "",
            "zerolinecolor": "#C8D4E3"
           }
          },
          "shapedefaults": {
           "line": {
            "color": "#f2f5fa"
           }
          },
          "sliderdefaults": {
           "bgcolor": "#C8D4E3",
           "bordercolor": "rgb(17,17,17)",
           "borderwidth": 1,
           "tickwidth": 0
          },
          "ternary": {
           "aaxis": {
            "gridcolor": "#506784",
            "linecolor": "#506784",
            "ticks": ""
           },
           "baxis": {
            "gridcolor": "#506784",
            "linecolor": "#506784",
            "ticks": ""
           },
           "bgcolor": "rgb(17,17,17)",
           "caxis": {
            "gridcolor": "#506784",
            "linecolor": "#506784",
            "ticks": ""
           }
          },
          "title": {
           "x": 0.05
          },
          "updatemenudefaults": {
           "bgcolor": "#506784",
           "borderwidth": 0
          },
          "xaxis": {
           "automargin": true,
           "gridcolor": "#283442",
           "linecolor": "#506784",
           "ticks": "",
           "title": {
            "standoff": 15
           },
           "zerolinecolor": "#283442",
           "zerolinewidth": 2
          },
          "yaxis": {
           "automargin": true,
           "gridcolor": "#283442",
           "linecolor": "#506784",
           "ticks": "",
           "title": {
            "standoff": 15
           },
           "zerolinecolor": "#283442",
           "zerolinewidth": 2
          }
         }
        },
        "title": {
         "text": "Wind gusts impact on objects detected by hour"
        },
        "xaxis": {
         "anchor": "y",
         "autorange": true,
         "domain": [
          0,
          1
         ],
         "range": [
          0,
          23
         ],
         "title": {
          "text": "hour"
         },
         "type": "linear"
        },
        "yaxis": {
         "anchor": "x",
         "autorange": true,
         "domain": [
          0,
          1
         ],
         "range": [
          -0.11348238482384822,
          2.1561653116531163
         ],
         "title": {
          "text": "obs_count_corr"
         },
         "type": "linear"
        }
       }
      },
      "image/png": "[encoded data removed]"
     },
     "metadata": {},
     "output_type": "display_data"
    }
   ],
   "source": [
    "grouped = merged.groupby(['hour', 'wind_strength'])['obs_count_corr'].mean().reset_index()\n",
    "px.line(grouped, y=\"obs_count_corr\", x='hour', color=\"wind_strength\", height=300,\n",
    "        title='Wind gusts impact on objects detected by hour')"
   ]
  },
  {
   "cell_type": "markdown",
   "metadata": {},
   "source": [
    "- *cur__precipIntensity*"
   ]
  },
  {
   "cell_type": "code",
   "execution_count": 15,
   "metadata": {},
   "outputs": [
    {
     "data": {
      "application/vnd.plotly.v1+json": {
       "config": {
        "plotlyServerURL": "https://plot.ly"
       },
       "data": [
        {
         "hovertemplate": "cur__precipIntensity=%{y}<extra></extra>",
         "legendgroup": "",
         "line": {
          "color": "#636efa",
          "dash": "solid"
         },
         "mode": "lines",
         "name": "",
         "showlegend": false,
         "type": "scattergl",
         "xaxis": "x",
         "y": [
          0,
          0.0052,
          0.0129,
          0.0143,
          0.0086,
          0.006,
          0,
          0.0039,
          0.013,
          0.017,
          0.0145,
          0.0057,
          0,
          0,
          0,
          0,
          0.0026,
          0.0099,
          0.0133,
          0.0092,
          0.0064,
          0.0053,
          0.0067,
          0.0065,
          0.0054,
          0.0067,
          0.0073,
          0.0063,
          0.0041,
          0,
          0,
          0,
          0.004,
          0.006,
          0.01,
          0.0165,
          0.034,
          0.0889,
          0.1616,
          0.1694,
          0.1098,
          0.0395,
          0.0115,
          0.035,
          0.0658,
          0.0755,
          0.0661,
          0.0399,
          0.0141,
          0.0054,
          0,
          0,
          0,
          0,
          0,
          0,
          0,
          0,
          0,
          0,
          0,
          0,
          0,
          0,
          0.0084,
          0.0224,
          0.0336,
          0.0373,
          0.0424,
          0.0399,
          0.03,
          0.0236,
          0.0335,
          0.0863,
          0.1555,
          0.1577,
          0.0939,
          0.0399,
          0.0374,
          0.0409,
          0.0256,
          0.0162,
          0,
          0,
          0,
          0,
          0,
          0,
          0,
          0,
          0,
          0,
          0,
          0,
          0,
          0,
          0,
          0,
          0,
          0,
          0,
          0,
          0,
          0,
          0.0087,
          0.0087,
          0,
          0,
          0,
          0,
          0,
          0,
          0,
          0,
          0,
          0,
          0.009000000000000001,
          0.01,
          0.0109,
          0.0053,
          0,
          0,
          0.0048,
          0.0045,
          0,
          0,
          0,
          0,
          0,
          0,
          0,
          0,
          0,
          0,
          0,
          0,
          0,
          0.0061,
          0.0062,
          0.013,
          0.0243,
          0.026,
          0.0164,
          0.0074,
          0.0045,
          0.0062,
          0.0094,
          0.0123,
          0.0161,
          0.0123,
          0.0063,
          0.0066,
          0.0071,
          0.0068,
          0.0055,
          0.0055,
          0.0066,
          0.0087,
          0.0119,
          0.0117,
          0.0082,
          0.0075,
          0.0086,
          0.0097,
          0.0111,
          0.009000000000000001,
          0.0043,
          0.0037,
          0.0055,
          0.0086,
          0.0144,
          0.0151,
          0.0134,
          0.0136,
          0.015,
          0.0199,
          0.0232,
          0.0269,
          0.0458,
          0.0561,
          0.0514,
          0.0517,
          0.0531,
          0.0521,
          0.0466,
          0.0452,
          0.0415,
          0.0281,
          0.0157,
          0,
          0,
          0,
          0,
          0,
          0,
          0,
          0,
          0,
          0,
          0.0039,
          0.0064,
          0.0065,
          0.0035,
          0,
          0,
          0,
          0,
          0,
          0,
          0,
          0,
          0.0068,
          0.0107,
          0.0119,
          0.0096,
          0.0063,
          0.0056,
          0.0082,
          0.0098,
          0.0075,
          0,
          0,
          0,
          0,
          0,
          0,
          0,
          0,
          0,
          0,
          0,
          0.0089,
          0.0101,
          0,
          0,
          0.0105,
          0.0204,
          0.0292,
          0.0381,
          0.0241,
          0.0091,
          0.0235,
          0.0408,
          0.0442,
          0.0337,
          0.0138,
          0,
          0,
          0,
          0,
          0,
          0,
          0,
          0,
          0,
          0,
          0,
          0,
          0,
          0.0069,
          0.0086,
          0,
          0,
          0,
          0,
          0,
          0,
          0,
          0,
          0,
          0,
          0,
          0.0041,
          0.0047,
          0,
          0.0047,
          0.0041,
          0,
          0,
          0,
          0,
          0.0054,
          0.0054,
          0,
          0,
          0,
          0,
          0.0058,
          0.0089,
          0.0151,
          0.0289,
          0.0427,
          0.0729,
          0.0845,
          0.0692,
          0.0727,
          0.1222,
          0.3513,
          1.0893,
          1.3289,
          1.1519,
          1.6206,
          2.2268,
          2.0403,
          1.0422,
          0.2927,
          0.0781,
          0.0481,
          0.0246,
          0.024,
          0.005,
          0.111,
          0.2018,
          0.1467,
          0.1153,
          0.102,
          0.0911,
          0.0851,
          0.0962,
          0.1506,
          0.2264,
          0.219,
          0.1245,
          0.0514,
          0.0158,
          0,
          0,
          0,
          0,
          0,
          0,
          0,
          0,
          0.0091,
          0.0413,
          0.1194,
          0.4717,
          1.5398,
          2.8967,
          3.0943,
          2.1847,
          0.7969,
          0,
          0.0524,
          0.0984,
          0.1377,
          0.1703,
          0.1635,
          0.0907,
          0.1171,
          0.2561,
          0.3084,
          0.2679,
          0.1441,
          0.0515,
          0.0813,
          0.134,
          0.1373,
          0.0793,
          0.017,
          0.0088,
          0.1838,
          0.4968,
          0.5786,
          0.4075,
          0.3237,
          0.2423,
          0.2236,
          0.3813,
          0.477,
          0.5444,
          0.6662,
          0.4607,
          0.1346,
          0.0602,
          0.0397,
          0.0354,
          0.0218,
          0.0124,
          0.0248,
          0.0417,
          0.038,
          0.0156,
          0.0028,
          0.0062,
          0.0285,
          0.064,
          0.0798,
          0.0729,
          0.0867,
          0.0949,
          0.0726,
          0.0578,
          0.0844,
          0.1992,
          0.6043,
          0.8014,
          0.5242,
          0.3047,
          0.1733,
          0.0784,
          0.0634,
          0.0797,
          0.078,
          0.0885,
          0.0865,
          0.0578,
          0.022,
          0.0027,
          0.0355,
          0.1091,
          0.127,
          0.0879,
          0.0972,
          0.1395,
          0.2023,
          0.2806,
          0.2773,
          0.1777,
          0.0718,
          0.0457,
          0.1177,
          0.2208,
          0.2787,
          0.1809,
          0.0614,
          0.0404,
          0.061,
          0.1177,
          0.1408,
          0.1798,
          0.273,
          0.3267,
          0.526,
          0.9011,
          0.8524,
          0.3586,
          0.04,
          0,
          0,
          0,
          0,
          0,
          0,
          0,
          0.0077,
          0.0202,
          0.0209,
          0.0112,
          0.0088,
          0.0105,
          0.0119,
          0.0158,
          0.0162,
          0.0129,
          0.0085,
          0.0061,
          0.0087,
          0.0134,
          0.0137,
          0.0108,
          0.0176,
          0.0993,
          0.6288,
          1.6616,
          2.7909,
          3.7557,
          5.6784,
          6.0024,
          3.3982,
          1.3617,
          0.5858,
          0.4054,
          0.4778,
          0.4715,
          0.2867,
          0.1702,
          0.1009,
          0.0367,
          0.0055,
          0,
          0.0042,
          0.0058,
          0.0057,
          0.005,
          0.0058,
          0.0049,
          0,
          0,
          0,
          0,
          0,
          0,
          0,
          0,
          0,
          0,
          0,
          0,
          0,
          0,
          0.0212,
          0.2032,
          0.5517,
          0.7909,
          0.8516,
          0.953,
          1.1803,
          1.5218,
          1.7475,
          1.9088,
          1.6648,
          0.8253,
          0.2631,
          0.0903,
          0.0086,
          0,
          0.0051,
          0.0432,
          0.1274,
          0.3711,
          0.5506,
          0.7391,
          1.0379,
          1.2981,
          1.2664,
          0.9324,
          0.438,
          0.0399,
          0.0047,
          0.0161,
          0.0227,
          0.0357,
          0.0228,
          0,
          0,
          0,
          0,
          0,
          0,
          0,
          0,
          0,
          0,
          0,
          0,
          0,
          0,
          0,
          0,
          0,
          0,
          0,
          0.0073,
          0.0127,
          0.0138,
          0.0097,
          0.0073,
          0.0054,
          0,
          0,
          0,
          0,
          0,
          0,
          0,
          0,
          0,
          0,
          0,
          0,
          0,
          0.0041,
          0.0061,
          0,
          0,
          0.0564,
          0.6977,
          1.9358,
          2.5029,
          1.9097,
          0.8813,
          0.3166,
          0.2441,
          0.1581,
          0.0948,
          0.044,
          0.0134,
          0,
          0,
          0,
          0,
          0,
          0.0038,
          0.0055,
          0,
          0,
          0,
          0,
          0.0054,
          0.0061,
          0,
          0,
          0,
          0.0046,
          0.0071,
          0.0097,
          0.0109,
          0.0106,
          0.0106,
          0.0104,
          0.0069,
          0,
          0,
          0.0066,
          0.014,
          0.0282,
          0.0213,
          0.0065,
          0.0087,
          0.0119,
          0.0133,
          0.0136,
          0.0119,
          0.0157,
          0.0472,
          0.1259,
          0.4439,
          1.3444,
          2.2485,
          2.2088,
          1.4394,
          0.7879999999999999,
          0.4696,
          0.2271,
          0.0509,
          0,
          0.0047,
          0.0107,
          0.0138,
          0.0124,
          0.01,
          0.0062,
          0,
          0,
          0,
          0,
          0.0053,
          0.0075,
          0.0072,
          0.0067,
          0.0052,
          0,
          0,
          0,
          0,
          0,
          0,
          0,
          0,
          0.0534,
          0.4048,
          1.0481,
          1.5008,
          1.5685,
          1.2561,
          1.0639,
          1.274,
          1.3882,
          1.0643,
          0.4628,
          0.0771,
          0,
          0,
          0,
          0,
          0,
          0.0053,
          0.0069,
          0.0059,
          0.0069,
          0.0068,
          0.0052,
          0,
          0,
          0,
          0,
          0.005,
          0.0087,
          0.0121,
          0.0101,
          0.0129,
          0.0262,
          0.0537,
          0.1614,
          0.2795,
          0.2447,
          0.1038,
          0.0161,
          0.0051,
          0.0091,
          0.0172,
          0.0154,
          0.0114,
          0.0152,
          0.015,
          0.0124,
          0.0075,
          0.005,
          0.0137,
          0.0281,
          0.0345,
          0.0323,
          0.0209,
          0.0142,
          0.0222,
          0.0296,
          0.0284,
          0.02,
          0.0074,
          0,
          0.0049,
          0.0137,
          0.022,
          0.0608,
          0.1424,
          0.1536,
          0.1011,
          0.0781,
          0.0571,
          0.0273,
          0.0108,
          0.006,
          0,
          0,
          0,
          0.0047,
          0.0081,
          0.011,
          0.009000000000000001,
          0.0061,
          0.0044,
          0,
          0.0053,
          0.0134,
          0.0391,
          0.0839,
          0.1194,
          0.158,
          0.1066,
          0.0309,
          0.1525,
          0.388,
          0.4173,
          0.2165,
          0.0503,
          0.0106,
          0.0749,
          0.2055,
          0.2701,
          0.2356,
          0.0981,
          0.0234,
          0.2826,
          0.7187,
          0.8743,
          0.7033,
          0.273,
          0,
          0,
          0,
          0,
          0.0051,
          0.006,
          0,
          0,
          0,
          0.0054,
          0.0059,
          0.037000000000000005,
          0.0596,
          0.0394,
          0.0236,
          0.0171,
          0.0147,
          0.0092,
          0.005,
          0.0137,
          0.0315,
          0.0322,
          0.0142,
          0.0059,
          0.0051,
          0.0049,
          0.0078,
          0.0091,
          0.0068,
          0.0023,
          0.0179,
          0.0364,
          0.0379,
          0.0321,
          0.0162,
          0.004,
          0,
          0.0034,
          0.0136,
          0.0449,
          0.1366,
          0.1817,
          0.2317,
          0.4385,
          0.7153,
          0.8884,
          0.9196,
          0.7296,
          0.436,
          0.2205,
          0.0687,
          0.0319,
          0.0614,
          0.085,
          0.1294,
          0.1176,
          0.0384,
          0.0132,
          0.005,
          0,
          0,
          0,
          0,
          0,
          0.0034,
          0.0515,
          0.16399999999999998,
          0.4333,
          0.8534,
          1.0166,
          0.8333,
          0.4972,
          0.4257,
          0.9049,
          1.4798,
          1.4364,
          0.8967,
          0.5486,
          0.4679,
          0.6722,
          1.1224,
          1.3846,
          1.4654,
          1.183,
          1.0031,
          1.4017,
          1.7682,
          1.7292,
          1.283,
          0.8962,
          0.4592,
          0.116,
          0.0771,
          0.0524,
          0.049,
          0.027000000000000003,
          0.0034,
          0,
          0,
          0,
          0.0041,
          0.0106,
          0.0358,
          0.133,
          0.3118,
          0.5466,
          0.8465,
          1.2786,
          1.4066,
          1.0554,
          0.7009,
          0.4093,
          0.1457,
          0.0164,
          0,
          0,
          0,
          0,
          0,
          0,
          0,
          0,
          0.0061,
          0.0139,
          0.0334,
          0.0521,
          0.0481,
          0.031,
          0.023,
          0.0217,
          0.0328,
          0.0255,
          0.0125,
          0.0455,
          0.108,
          0.1743,
          0.2884,
          0.2952,
          0.1994,
          0.1577,
          0.155,
          0.1913,
          0.2292,
          0.3088,
          0.4421,
          0.6571,
          0.888,
          0.9282,
          0.7753,
          0.503,
          0.2903,
          0.3118,
          0.4247,
          0.4044,
          0.2507,
          0.0967,
          0.0325,
          0.0312,
          0.0274,
          0.0239,
          0.0219,
          0.0283,
          0.0301,
          0.0926,
          0.2417,
          0.3905,
          0.6122,
          0.8811,
          0.7684,
          0.3437,
          0.1318,
          0.1491,
          0.2637,
          0.2379,
          0.1389,
          0.1673,
          0.1999,
          0.1714,
          0.118,
          0.0841,
          0.0422,
          0.0192,
          0.0087,
          0.0075,
          0.008,
          0.0099,
          0.0089,
          0.0054,
          0,
          0,
          0,
          0,
          0,
          0,
          0.0055,
          0.0252,
          0.094,
          0.0883,
          0.0286,
          0.0354,
          0.0642,
          0.0696,
          0.0508,
          0.0929,
          0.114,
          0.058,
          0.0166,
          0.0048,
          0.0057,
          0.0076,
          0.0043,
          0.0031,
          0.0087,
          0.0111,
          0.0122,
          0.0098,
          0.0048,
          0,
          0,
          0,
          0,
          0,
          0,
          0,
          0,
          0,
          0.0075,
          0.0119,
          0.0069,
          0,
          0,
          0,
          0,
          0.0047,
          0.006999999999999999,
          0.0068,
          0.0057,
          0.0041,
          0,
          0,
          0,
          0,
          0,
          0,
          0,
          0,
          0,
          0,
          0,
          0,
          0,
          0,
          0,
          0,
          0,
          0,
          0.004,
          0.0058,
          0.0058,
          0.0046,
          0,
          0,
          0,
          0,
          0,
          0.0045,
          0.008,
          0.0096,
          0.0096,
          0.0073,
          0.0031,
          0.003,
          0.0084,
          0.0135,
          0.0169,
          0.0107,
          0,
          0.0045,
          0.0063,
          0.0073,
          0.0064,
          0.0064,
          0.0076,
          0.012,
          0.0209,
          0.0245,
          0.0203,
          0.0094,
          0,
          0.0051,
          0.011,
          0.0102,
          0.0078,
          0.0162,
          0.0707,
          0.3495,
          0.8253,
          1.0599,
          0.9337,
          0.5686,
          0.238,
          0.0971,
          0.0328,
          0.022,
          0.0168,
          0.0149,
          0.0148,
          0.0177,
          0.0187,
          0.0141,
          0.0053,
          0.0028,
          0.0078,
          0.0257,
          0.0522,
          0.0548,
          0.0436,
          0.0623,
          0.0991,
          0.1553,
          0.2351,
          0.2751,
          0.2738,
          0.2171,
          0.0818,
          0.0025,
          0,
          0,
          0,
          0,
          0,
          0,
          0,
          0.0449,
          0.3871,
          0.855,
          1.4287,
          2.0703,
          2.4089,
          2.1057,
          1.2453,
          0.6064,
          0.5072,
          0.8373,
          1.2278,
          1.0528,
          0.4416,
          0.0959,
          0.0316,
          0.0506,
          0.1605,
          0.3325,
          0.5953,
          0.8096,
          1.1664,
          1.4755,
          1.4649,
          1.3725,
          1.1929,
          0.7155,
          0.2723,
          0.1527,
          0.0849,
          0.0504,
          0.0182,
          0.0031,
          0,
          0,
          0.0041,
          0.0052,
          0.0052,
          0.0041,
          0,
          0,
          0,
          0,
          0,
          0,
          0,
          0.0036,
          0.0058,
          0.0062,
          0.0063,
          0.0052,
          0,
          0,
          0,
          0,
          0,
          0,
          0,
          0,
          0,
          0,
          0,
          0,
          0.0029,
          0.006999999999999999,
          0.0081,
          0.0063,
          0.0034,
          0,
          0,
          0,
          0.0052,
          0.011,
          0.0155,
          0.0125,
          0.0059,
          0,
          0.0058,
          0.0284,
          0.0554,
          0.0597,
          0.0464,
          0.0336,
          0.0229,
          0.0104,
          0.0065,
          0.0057,
          0,
          0.0048,
          0.005,
          0,
          0,
          0.0046,
          0.0077,
          0.0148,
          0.0163,
          0.011,
          0.0047,
          0,
          0.0078,
          0.0218,
          0.0275,
          0.0185,
          0.0062,
          0,
          0.0038,
          0.0078,
          0.0098,
          0.0105,
          0.0125,
          0.0181,
          0.0384,
          0.0845,
          0.094,
          0.0806,
          0.0664,
          0.0478,
          0.0521,
          0.0612,
          0.1257,
          0.2196,
          0.24,
          0.3234,
          0.6243,
          1.1247,
          1.3288,
          1.2206,
          1.1455,
          0.8099,
          1.8685,
          1.8992,
          1.1886,
          1.9341,
          1.4509,
          0.9073,
          0.8832,
          0.6875,
          0.5795,
          0.3996,
          0.2411,
          0.208,
          0.1575,
          0.1335,
          0.1076,
          0.0686,
          0.0646,
          0.0611,
          0.0471,
          0.0505,
          0.0564,
          0.0641,
          0.0836,
          0.0832,
          0.0547,
          0.0471,
          0.1176,
          0.5382,
          1.0721,
          1.3521,
          1.2041,
          0.7517,
          0.4935,
          0.4212,
          0.3816,
          0.3103,
          0.1345,
          0.012,
          0.0197,
          0.0161,
          0.0114,
          0.0086,
          0.0163,
          0.0237,
          0.0467,
          0.0942,
          0.0923,
          0.1033,
          0.2652,
          0.4517,
          0.5372,
          0.541,
          0.3634,
          0.1767,
          0.0723,
          0.0152,
          0.0662,
          0.199,
          0.2151,
          0.2417,
          0.4856,
          0.6866,
          0.5781,
          0.2382,
          0.1098,
          0.1562,
          0.1678,
          0.1814,
          0.1796,
          0.1594,
          0.1307,
          0.128,
          0.1643,
          0.1751,
          0.1303,
          0.0541,
          0.0176,
          0.1405,
          0.2117,
          0.0713,
          0,
          0,
          0,
          0.0152,
          0.0834,
          0.0883,
          0.0633,
          0.056,
          0.016,
          0.0231,
          0.0817,
          0.1681,
          0.2178,
          0.2877,
          0.1698,
          0,
          0.0025,
          0,
          0.013,
          0.198,
          0.5477,
          0.607,
          0.3066,
          0.0828,
          0.0243,
          0.0182,
          0.0666,
          0.1722,
          0.4665,
          0.8824,
          0.8728,
          0.4361,
          0.0914,
          0.0157,
          0.0279,
          0.0186,
          0.0153,
          0.0064,
          0.0048,
          0.0072,
          0.0249,
          0.0614,
          0.0879,
          0.1075,
          0.0925,
          0.029,
          0.0016,
          0.0072,
          0,
          0,
          0,
          0.0034,
          0.0095,
          0.0101,
          0.006,
          0.0064,
          0.0079,
          0.0075,
          0.0051,
          0,
          0,
          0,
          0.0046,
          0.0064,
          0.0062,
          0.0056,
          0.005,
          0.0051,
          0.0053,
          0,
          0,
          0,
          0,
          0.0053,
          0.0054,
          0,
          0,
          0,
          0.0379,
          0.2603,
          0.2201,
          0.0225,
          0.1659,
          0.3747,
          0.6733,
          1.4906,
          2.4884,
          2.0976,
          1.376,
          1.0681,
          0.4377,
          0.1136,
          0.0214,
          0,
          0,
          0.0027,
          0.0082,
          0.0204,
          0.0137,
          0,
          0,
          0,
          0.0104,
          0.1001,
          0.0972,
          0.0182,
          0.0164,
          0.0093,
          0.0189,
          0.0881,
          0.1741,
          0.1956,
          0.1187,
          0.0503,
          0.0427,
          0.0251,
          0.0077,
          0,
          0,
          0,
          0,
          0,
          0,
          0,
          0,
          0,
          0,
          0.0046,
          0.0088,
          0.0079,
          0.0054,
          0.006,
          0.0053,
          0,
          0,
          0,
          0,
          0,
          0.0033,
          0.0085,
          0.0084,
          0.0043,
          0,
          0.0042,
          0.0095,
          0.0315,
          0.0491,
          0.2242,
          0.7607,
          1.3654,
          1.2791,
          1.0555,
          0.9616,
          0.35700000000000004,
          0.0107,
          0.118,
          0.1349,
          0.1265,
          0.1021,
          0.0265,
          0.0046,
          0.0135,
          0.0137,
          0.0078,
          0.0067,
          0.0088,
          0.0086,
          0.0073,
          0.0045,
          0,
          0,
          0,
          0,
          0,
          0,
          0,
          0,
          0,
          0,
          0.0053,
          0.0064,
          0.0054,
          0,
          0,
          0,
          0,
          0.0352,
          0.3266,
          0.7442,
          1.1082,
          1.4603,
          1.5928,
          1.1866,
          0.465,
          0.0578,
          0,
          0,
          0,
          0,
          0.0051,
          0.0043,
          0,
          0.0038,
          0.0085,
          0.0168,
          0.063,
          0.0505,
          0.0034,
          0.0236,
          0.0524,
          0.0567,
          0.0384,
          0.0136,
          0,
          0.0031,
          0.008,
          0.0123,
          0.0211,
          0.017,
          0.0077,
          0.0154,
          0.0268,
          0.0356,
          0.0491,
          0.0314,
          0.0058,
          0.0115,
          0.0185,
          0.0193,
          0.0125,
          0.008,
          0.0062,
          0,
          0,
          0,
          0,
          0,
          0,
          0,
          0,
          0.006999999999999999,
          0.0361,
          0.077,
          0.0703,
          0.0264,
          0.0036,
          0.0044,
          0.0244,
          0.0641,
          0.0699,
          0.1454,
          0.3055,
          0.6299,
          1.2854,
          0.9962,
          0.1603,
          0.0352,
          0.0618,
          0.0543,
          0.043,
          0.0405,
          0.0371,
          0.0868,
          0.18,
          0.2298,
          0.2996,
          0.3424,
          0.2086,
          0.0621,
          0.0701,
          0.0828,
          0.0363,
          0.0075,
          0,
          0,
          0,
          0,
          0,
          0,
          0,
          0,
          0,
          0,
          0,
          0,
          0,
          0,
          0,
          0,
          0,
          0.0047,
          0.0056,
          0,
          0,
          0,
          0,
          0,
          0,
          0,
          0,
          0,
          0,
          0,
          0,
          0.0041,
          0.0059,
          0.0053,
          0,
          0,
          0,
          0.0034,
          0.0071,
          0.0072,
          0.0029,
          0,
          0,
          0,
          0,
          0,
          0,
          0,
          0,
          0,
          0,
          0,
          0,
          0,
          0,
          0.0039,
          0.0067,
          0.0166,
          0.0557,
          0.0871,
          0.0762,
          0.0481,
          0.0265,
          0.0201,
          0.0172,
          0.015,
          0.0113,
          0.0071,
          0.0047,
          0.0046,
          0.0072,
          0.0077,
          0.0056,
          0.0062,
          0.0097,
          0.0116,
          0.0098,
          0.0062,
          0,
          0,
          0,
          0,
          0,
          0.0048,
          0.0059,
          0.005,
          0.0052,
          0.0046,
          0,
          0.0068,
          0.009000000000000001,
          0.0064,
          0.0052,
          0.0048,
          0,
          0,
          0,
          0.0097,
          0.0272,
          0.0443,
          0.0604,
          0.0341,
          0.0003,
          0.0043,
          0.0097,
          0.0133,
          0.0116,
          0.0117,
          0.0079,
          0.0036,
          0.008,
          0.0123,
          0.0167,
          0.0259,
          0.0246,
          0.016,
          0.0105,
          0.1391,
          0.8894,
          1.8471,
          1.8749,
          1.0907,
          0.4395,
          0.1859,
          0.061,
          0.0039,
          0,
          0,
          0,
          0,
          0,
          0,
          0,
          0,
          0,
          0,
          0.0036,
          0.0044,
          0,
          0.0023,
          0.0034,
          0.061,
          0.3959,
          0.7451,
          0.8913,
          0.9631,
          0.9519,
          0.8453,
          0.6472,
          0.4685,
          0.5523,
          1.0527,
          1.7473,
          2.1463,
          2.1132,
          1.7548,
          1.5043,
          1.5947,
          1.635,
          1.4029,
          0.9701,
          0.6319,
          0.38,
          0.191,
          0.111,
          0.09,
          0.1528,
          0.2595,
          0.302,
          0.2937,
          0.3084,
          0.342,
          0.3713,
          0.3383,
          0.289,
          0.2501,
          0.2,
          0.1629,
          0.1528,
          0.2132,
          0.2697,
          0.3951,
          0.6181,
          0.6839,
          0.5605,
          0.4184,
          0.2761,
          0.1808,
          0.1919,
          0.2095,
          0.2452,
          0.3238,
          0.2808,
          0.1391,
          0.0547,
          0.0454,
          0.1739,
          0.1753,
          0.0842,
          0.1463,
          0.2131,
          0.1903,
          0.0855,
          0.0193,
          0.0034,
          0,
          0.0059,
          0.0062,
          0,
          0,
          0,
          0,
          0,
          0,
          0,
          0.0021,
          0.0144,
          0.1063,
          0.2517,
          0.2584,
          0.1212,
          0.0199,
          0,
          0,
          0.006,
          0.0083,
          0.0063,
          0.0049,
          0,
          0,
          0,
          0,
          0,
          0,
          0,
          0,
          0,
          0,
          0,
          0,
          0,
          0.004,
          0.01,
          0.0111,
          0.0076,
          0.0189,
          0.0447,
          0.1365,
          0.3532,
          0.6492,
          1.0935,
          1.1974,
          1.114,
          1.3041,
          1.4167,
          1.2983,
          0.995,
          0.4399,
          0.0317,
          0.0369,
          0.0787,
          0.0832,
          0.0573,
          0.0269,
          0.0058,
          0.0056,
          0.0099,
          0.037000000000000005,
          0.1141,
          0.3423,
          0.3614,
          0.125,
          0.0306,
          0.0201,
          0.0561,
          0.0613,
          0.031,
          0.023,
          0.0146,
          0.0107,
          0.0057,
          0.0507,
          0.0969,
          0.1277,
          0.2454,
          0.5843,
          1.4097,
          1.8588,
          1.5283,
          1.029,
          0.5701,
          0.3143,
          0.1744,
          0.0839,
          0.0432,
          0.057,
          0.0995,
          0.163,
          0.2622,
          0.4188,
          0.5886,
          0.6729,
          0.6596,
          0.5447,
          0.3574,
          0.2121,
          0.1258,
          0.0698,
          0.0444,
          0.032,
          0.0197,
          0.0187,
          0.0218,
          0.0213,
          0.0216,
          0.0168,
          0.0095,
          0.0071,
          0.006,
          0,
          0,
          0.005,
          0.0076,
          0.0066,
          0.004,
          0.011,
          0.0238,
          0.0343,
          0.068,
          0.0457,
          0.0018,
          0.0316,
          0.0739,
          0.0736,
          0.0283,
          0.0026,
          0,
          0,
          0,
          0,
          0.0048,
          0.0066,
          0.0113,
          0.0297,
          0.0556,
          0.0659,
          0.0595,
          0.0411,
          0.0278,
          0.031,
          0.0375,
          0.0401,
          0.0417,
          0.0409,
          0.02,
          0.0086,
          0.0196,
          0.0222,
          0.0196,
          0.0168,
          0.0144,
          0.0179,
          0.029,
          0.055,
          0.1233,
          0.0859,
          0.0106,
          0.0267,
          0.032,
          0.0255,
          0.0119,
          0.0024,
          0,
          0.0075,
          0.0224,
          0.0286,
          0.023,
          0.0161,
          0.0143,
          0.0243,
          0.0448,
          0.058,
          0.0598,
          0.0403,
          0.033,
          0.1021,
          0.2186,
          0.2543,
          0.1863,
          0.1308,
          0.0992,
          0.0847,
          0.0934,
          0.0893,
          0.0758,
          0.0685,
          0.0461,
          0.0278,
          0.0351,
          0.0364,
          0.0283,
          0.018000000000000002,
          0.0111,
          0.0073,
          0.0046,
          0,
          0,
          0,
          0,
          0,
          0,
          0,
          0,
          0,
          0,
          0,
          0,
          0,
          0,
          0,
          0,
          0,
          0,
          0,
          0,
          0,
          0,
          0,
          0,
          0,
          0.006999999999999999,
          0.0109,
          0.0074,
          0.0029,
          0,
          0,
          0,
          0.0025,
          0.0059,
          0.0068,
          0.0075,
          0.0058,
          0,
          0,
          0,
          0,
          0,
          0,
          0,
          0,
          0,
          0,
          0,
          0,
          0,
          0,
          0,
          0,
          0,
          0,
          0,
          0,
          0,
          0.0049,
          0.0098,
          0.0115,
          0.0099,
          0.0051,
          0,
          0.0052,
          0.0127,
          0.0188,
          0.0213,
          0.0155,
          0.0107,
          0.0154,
          0.0217,
          0.0222,
          0.0205,
          0.0174,
          0.0247,
          0.0631,
          0.1097,
          0.1275,
          0.1179,
          0.1237,
          0.0883,
          0.022,
          0.0016,
          0,
          0,
          0.0031,
          0.0055,
          0.0041,
          0,
          0,
          0.004,
          0.006,
          0.0048,
          0,
          0,
          0,
          0,
          0,
          0.0074,
          0.0743,
          0.1881,
          0.2104,
          0.1299,
          0.0649,
          0.0608,
          0.1108,
          0.1822,
          0.1913,
          0.1304,
          0.0758,
          0.0419,
          0.0328,
          0.051,
          0.0558,
          0.0379,
          0.0298,
          0.0318,
          0.0365,
          0.046,
          0.0513,
          0.0479,
          0.0421,
          0.0245,
          0.0155,
          0.0279,
          0.0355,
          0.0512,
          0.0788,
          0.0698,
          0.0274,
          0.0032,
          0,
          0,
          0,
          0,
          0.0064,
          0.0091,
          0.0082,
          0.0043,
          0,
          0,
          0,
          0,
          0,
          0,
          0,
          0.0016,
          0.0191,
          0.0493,
          0.0552,
          0.0342,
          0.0204,
          0.0179,
          0.0194,
          0.0253,
          0.0309,
          0.0658,
          0.1113,
          0.2026,
          0.4687,
          0.7954,
          0.7388,
          0.3227,
          0.0519,
          0.0007,
          0,
          0,
          0,
          0,
          0.0028,
          0.0101,
          0.0305,
          0.0607,
          0.0782,
          0.1065,
          0.0611,
          0,
          0.0052,
          0.0132,
          0.1204,
          0.6838,
          0.9723,
          0.7375,
          0.5181,
          0.29100000000000004,
          0.17,
          0.0822,
          0.0261,
          0.0063,
          0.0037,
          0,
          0,
          0.0051,
          0.0055,
          0,
          0,
          0,
          0,
          0,
          0,
          0,
          0,
          0,
          0,
          0,
          0,
          0,
          0,
          0.0059,
          0.0111,
          0.0116,
          0.1167,
          0.241,
          0.2785,
          0.34600000000000003,
          0.5298,
          0.9656,
          0.9208,
          0.6184,
          0.6861,
          0.7765,
          0.939,
          1.1944,
          1.1245,
          0.7911,
          0.6316,
          0.6066,
          0.5131,
          0.2519,
          0.0536,
          0,
          0,
          0,
          0,
          0,
          0.0054,
          0.0059,
          0.0057,
          0.0064,
          0.0429,
          0.2811,
          0.4149,
          0.2261,
          0.0657,
          0.0167,
          0.0075,
          0.0072,
          0.0034,
          0,
          0.0028,
          0.0075,
          0.0106,
          0.011,
          0.0067,
          0,
          0,
          0,
          0.012,
          0.0736,
          0.1948,
          0.4701,
          0.8235,
          1.0667,
          0.9817,
          0.5985,
          0.2765,
          0.1752,
          0.191,
          0.1828,
          0.1329,
          0.0603,
          0.0231,
          0.0229,
          0.0979,
          0.2409,
          0.2983,
          0.2687,
          0.129,
          0.0131,
          0.0302,
          0.0451,
          0.0447,
          0.0266,
          0.0099,
          0.0068,
          0.0308,
          0.0701,
          0.081,
          0.0607,
          0.0218,
          0,
          0,
          0,
          0,
          0,
          0,
          0.0126,
          0.0652,
          0.149,
          0.2415,
          0.4581,
          0.6401,
          0.5114,
          0.2539,
          0.0991,
          0.0459,
          0.026,
          0.0157,
          0.0068,
          0.008,
          0.0188,
          0.0344,
          0.1979,
          0.2488,
          0.0856,
          0.0137,
          0.0033,
          0,
          0,
          0,
          0.0329,
          0.4555,
          1.2383,
          1.582,
          1.2766,
          0.6277,
          0.3228,
          0.4003,
          0.3643,
          0.2741,
          0.1215,
          0.0323,
          0.0067,
          0,
          0,
          0.0032,
          0.0234,
          0.0702,
          0.1776,
          0.5851,
          1.2675,
          1.5897,
          1.4145,
          0.7414,
          0.2795,
          0.5081,
          0.8031,
          0.7675,
          0.3959,
          0.1056,
          0.0091,
          0.0022,
          0.0078,
          0.0124,
          0.0215,
          0.0324,
          0.0249,
          0.0108,
          0.0089,
          0.0077,
          0.0033,
          0,
          0,
          0.006,
          0.016,
          0.0214,
          0.0203,
          0.0136,
          0.0058,
          0,
          0,
          0,
          0,
          0,
          0,
          0.0052,
          0.0066,
          0.0069,
          0.0059,
          0.0024,
          0,
          0.0034,
          0.0087,
          0.0104,
          0.0079,
          0.0045,
          0,
          0,
          0,
          0,
          0,
          0,
          0,
          0.0046,
          0.0073,
          0.01,
          0.013,
          0.0145,
          0.0133,
          0.012,
          0.0107,
          0.0074,
          0,
          0,
          0,
          0,
          0,
          0.0087,
          0.5274,
          1.3768,
          1.8301,
          2.0583,
          2.5076,
          2.9446,
          2.9049,
          2.277,
          2.0264,
          2.0569,
          2.3902,
          2.2149,
          1.0107,
          0.3661,
          0.1774,
          0.1118,
          0.1285,
          0.1154,
          0.0472,
          0.0214,
          0.029,
          0.0781,
          0.1756,
          0.2291,
          0.2895,
          0.3758,
          0.4279,
          0.4562,
          0.5137,
          0.4825,
          0.3981,
          0.2987,
          0.2256,
          0.3187,
          0.4691,
          0.6323,
          1.1055,
          1.1353,
          0.5999,
          0.487,
          0.4393,
          0.2614,
          0.1061,
          0.017,
          0.0003,
          0.0102,
          0.0334,
          0.0379,
          0.0235,
          0.0089,
          0,
          0.0055,
          0.0079,
          0.0076,
          0.0079,
          0.011,
          0.0113,
          0.0193,
          0.0276,
          0.0293,
          0.0382,
          0.0882,
          0.2187,
          0.3286,
          0.3924,
          0.3464,
          0.249,
          0.1296,
          0.0258,
          0.0345,
          0.0438,
          0.0351,
          0.0116,
          0,
          0.0052,
          0.0617,
          0.1592,
          0.1633,
          0.0796,
          0.0393,
          0.0486,
          0.1025,
          0.1842,
          0.1969,
          0.1197,
          0.0329,
          0,
          0,
          0.0054,
          0.0076,
          0.0056,
          0,
          0,
          0,
          0.0056,
          0.0091,
          0.0156,
          0.0191,
          0.0152,
          0.0147,
          0.0236,
          0.0314,
          0.0316,
          0.0142,
          0,
          0,
          0,
          0,
          0.0082,
          0.0212,
          0.0303,
          0.0346,
          0.0408,
          0.0377,
          0.0248,
          0.0097,
          0,
          0,
          0,
          0,
          0,
          0,
          0,
          0,
          0,
          0,
          0,
          0,
          0.0029,
          0.0156,
          0.0402,
          0.0559,
          0.0859,
          0.087,
          0.2054,
          0.5608,
          0.8804,
          0.8818,
          0.4896,
          0.1606,
          0.1051,
          0.0813,
          0.0667,
          0.0559,
          0.0434,
          0.034,
          0.0322,
          0.101,
          0.2379,
          0.295,
          0.2666,
          0.1301,
          0.0052,
          0.0106,
          0.0166,
          0.0124,
          0.0061,
          0,
          0,
          0,
          0,
          0,
          0,
          0,
          0,
          0,
          0,
          0,
          0,
          0,
          0,
          0.0068,
          0.0111,
          0.0097,
          0.0024,
          0,
          0.0118,
          0,
          0,
          0,
          0.0039,
          0.0072,
          0.0312,
          0.1863,
          0.4592,
          0.5556,
          0.4337,
          0.2924,
          0.388,
          0.8805,
          1.4795,
          1.6714,
          1.604,
          0.8149,
          0.0482,
          0.0618,
          0.0489,
          0.0665,
          0.1735,
          0.3489,
          0.4303,
          0.4797,
          0.602,
          0.6112,
          0.4541,
          0.2542,
          0.0839,
          0.0397,
          0.0821,
          0.0801,
          0.0358,
          0.0104,
          0.0051,
          0.0065,
          0.0121,
          0.0158,
          0.019,
          0.0195,
          0.0218,
          0.0324,
          0.0449,
          0.0514,
          0.0524,
          0.0572,
          0.0559,
          0.0568,
          0.0672,
          0.0613,
          0.0346,
          0.0284,
          0.0299,
          0.0178,
          0.0102,
          0.0071,
          0.0066,
          0.0145,
          0.0223,
          0.0219,
          0.0221,
          0.0194,
          0.0153,
          0.0081,
          0,
          0,
          0,
          0,
          0.0137,
          0.0147,
          0.0055,
          0.0165,
          0.0414,
          0.069,
          0.1001,
          0.0714,
          0.0385,
          0.077,
          0.1239,
          0.149,
          0.1517,
          0.0842,
          0.0213,
          0.0317,
          0.0396,
          0.0363,
          0.0219,
          0.0135,
          0.0142,
          0.02,
          0.0243,
          0.0211,
          0.0124,
          0.013,
          0.0197,
          0.0278,
          0.0391,
          0.0352,
          0.0181,
          0.0063,
          0,
          0.0074,
          0.013,
          0.0161,
          0.0169,
          0.0093,
          0.0038,
          0.0086,
          0.0177,
          0.026,
          0.0317,
          0.0191,
          0.0031,
          0,
          0,
          0,
          0,
          0.0038,
          0.0078,
          0.0092,
          0.0113,
          0.0105,
          0.0059,
          0.0087,
          0.0117,
          0.0072,
          0.0063,
          0.0203,
          0.0768,
          0.1021,
          0.0825,
          0.064,
          0.0426,
          0.0402,
          0.0523,
          0.0626,
          0.0965,
          0.1894,
          0.2836,
          0.2705,
          0.1629,
          0.0508,
          0.0032,
          0.0104,
          0.017,
          0.0196,
          0.0161,
          0.0074,
          0,
          0,
          0.0051,
          0.0043,
          0,
          0,
          0,
          0,
          0,
          0,
          0,
          0.0087,
          0.0152,
          0.0142,
          0.0129,
          0.0123,
          0.0111,
          0.0354,
          0.0452,
          0.0201,
          0.0114,
          0.0097,
          0.0045,
          0,
          0,
          0,
          0,
          0.0056,
          0.0576,
          0.0579,
          0.0307,
          0.0771,
          0.1319,
          0.165,
          0.1667,
          0.1402,
          0.1509,
          0.2443,
          0.3528,
          0.4262,
          0.4918,
          0.5509,
          0.3802,
          0.1476,
          0.0686,
          0.0518,
          0.0501,
          0.0389,
          0.0463,
          0.1207,
          0.21600000000000005,
          0.2345,
          0.1914,
          0.0877,
          0.0393,
          0,
          0,
          0,
          0,
          0,
          0,
          0,
          0,
          0,
          0,
          0,
          0,
          0,
          0,
          0,
          0.0037,
          0.0047,
          0,
          0.0067,
          0.0072,
          0.0066,
          0,
          0,
          0,
          0,
          0,
          0.0022,
          0.0134,
          0.029,
          0.0357,
          0.0341,
          0.0297,
          0.0229,
          0.0141,
          0.0083,
          0.0059,
          0.0062,
          0.0077,
          0.0082,
          0.0078,
          0.0055,
          0.0051,
          0,
          0.0103,
          0.0151,
          0.0229,
          0.0361,
          0.0477,
          0.0656,
          0.09,
          0.069,
          0.0386,
          0.0114,
          0.0031,
          0.0077,
          0.0149,
          0.0205,
          0.0216,
          0.0722,
          0.0973,
          0.0703,
          0.0589,
          0.0535,
          0.0374,
          0.0813,
          0.0977,
          0.0632,
          0.0412,
          0.0422,
          0.047,
          0.081,
          0.0928,
          0.0663,
          0.0625,
          0.0606,
          0.0567,
          0.1101,
          0.3164,
          1.1842,
          2.4388,
          2.3098,
          0.915,
          0.0797,
          0,
          0,
          0,
          0,
          0,
          0,
          0,
          0,
          0,
          0,
          0,
          0,
          0,
          0,
          0,
          0.0128,
          0.1434,
          0.1354,
          0.0308,
          0.0961,
          0.2728,
          0.7004,
          0.7133,
          0.2633,
          0.096,
          0.1294,
          0.1891,
          0.2056,
          0.1795,
          0.0967,
          0.0179,
          0,
          0,
          0,
          0,
          0,
          0,
          0,
          0,
          0,
          0,
          0.0068,
          0.0064,
          0,
          0.0042,
          0.0083,
          0.0143,
          0.0092,
          0,
          0,
          0.0009,
          0.0192,
          0.1035,
          0.4171,
          1.0911,
          1.9099,
          2.6579,
          2.8837,
          2.314,
          1.4011,
          0.49,
          0.2912,
          0.2083,
          0.1453,
          0.0627,
          0.0114,
          0,
          0,
          0,
          0,
          0,
          0,
          0,
          0,
          0,
          0.0326,
          0.0419,
          0.0077,
          0.0037,
          0.0144,
          0.0272,
          0.0242,
          0.0089,
          0,
          0,
          0,
          0,
          0,
          0.0064,
          0.0082,
          0.0062,
          0.004,
          0,
          0,
          0,
          0,
          0,
          0.0041,
          0.009000000000000001,
          0.0117,
          0.0091,
          0.0247,
          0.0498,
          0.0724,
          0.109,
          0.1544,
          0.2151,
          0.2211,
          0.2078,
          0.2474,
          0.2933,
          0.299,
          0.2592,
          0.18600000000000005,
          0.1399,
          0.1617,
          0.2025,
          0.2644,
          0.3869,
          0.5294,
          0.6533,
          0.7655,
          0.9185,
          0.8413,
          0.5108,
          0.2199,
          0.0678,
          0.0179,
          0.013,
          0.0152,
          0.0551,
          0.1547,
          0.3561,
          1.0286,
          1.9709,
          1.8716,
          0.7944,
          0.095,
          0,
          0,
          0,
          0.009000000000000001,
          0.03,
          0.0236,
          0.0066,
          0.0193,
          0.035,
          0.0369,
          0.0161,
          0.0057,
          0.0087,
          0.0144,
          0.0282,
          0.0278,
          0.0133,
          0.0036,
          0.0004,
          0,
          0,
          0,
          0,
          0,
          0.0039,
          0.011,
          0.0272,
          0.0377,
          0.0538,
          0.0683,
          0.0676,
          0.1095,
          0.1644,
          0.1378,
          0.075,
          0.0334,
          0.0052,
          0.0104,
          0.0271,
          0.0333,
          0.0266,
          0.0212,
          0.0212,
          0.0879,
          0.0903,
          0.0302,
          0.0356,
          0.0231,
          0.1304,
          0.8811,
          2.1306,
          2.3078,
          1.561,
          1.1257,
          1.0387,
          0.5073,
          0,
          0,
          0,
          0,
          0.0093,
          0.0566,
          0.1383,
          0.1972,
          0.2287,
          0.1541,
          0.0705,
          0.0647,
          0.0437,
          0.0251,
          0.0082,
          0,
          0,
          0.0052,
          0.0098,
          0.0087,
          0.0028,
          0,
          0,
          0.0046,
          0.0077,
          0.029,
          0.0239,
          0,
          0,
          0.0044,
          0.0074,
          0.0082,
          0.006999999999999999,
          0.0064,
          0.0045,
          0,
          0,
          0,
          0,
          0,
          0,
          0.004,
          0.0064,
          0.0069,
          0.0062,
          0.0033,
          0,
          0.0039,
          0.0068,
          0.0069,
          0.0052,
          0,
          0,
          0,
          0,
          0,
          0,
          0,
          0,
          0.0054,
          0.0064,
          0.0065,
          0.006999999999999999,
          0.0033,
          0,
          0,
          0,
          0,
          0,
          0,
          0,
          0,
          0,
          0,
          0,
          0,
          0,
          0,
          0,
          0,
          0.0057,
          0.0063,
          0,
          0,
          0,
          0,
          0,
          0,
          0,
          0.0039,
          0.0087,
          0.0087,
          0.004,
          0,
          0,
          0,
          0,
          0,
          0,
          0,
          0,
          0,
          0,
          0,
          0,
          0,
          0,
          0,
          0,
          0.006,
          0,
          0,
          0,
          0.0072,
          0.0162,
          0.0215,
          0.0212,
          0.011,
          0,
          0,
          0,
          0,
          0,
          0,
          0,
          0,
          0,
          0.0085,
          0.0124,
          0.0325,
          0.0442,
          0.0308,
          0.0188,
          0.0124,
          0.0157,
          0.0173,
          0.0181,
          0.0309,
          0.0424,
          0.039,
          0.0223,
          0.0313,
          0.0355,
          0.012,
          0,
          0,
          0.0053,
          0.0056,
          0,
          0,
          0.0043,
          0.0053,
          0.0063,
          0.0083,
          0.0106,
          0.0146,
          0.0195,
          0.0191,
          0.0125,
          0.0057,
          0.0037,
          0.0076,
          0.015,
          0.0202,
          0.0206,
          0.0183,
          0.0106,
          0.0062,
          0.0075,
          0.006999999999999999,
          0.0056,
          0,
          0,
          0.004,
          0.0069,
          0.0085,
          0.0081,
          0.0102,
          0.012,
          0.0111,
          0.01,
          0.0077,
          0.0049,
          0,
          0.0051,
          0.006,
          0.0063,
          0.0062,
          0.0048,
          0.0052,
          0.0166,
          0.0258,
          0.0195,
          0.0115,
          0.006999999999999999,
          0.0045,
          0.0057,
          0.0139,
          0.0291,
          0.0373,
          0.0343,
          0.0355,
          0.0317,
          0.0215,
          0.0176,
          0.0151,
          0.0173,
          0.02,
          0.0215,
          0.025,
          0.0256,
          0.0216,
          0.0162,
          0.0175,
          0.0152,
          0.0104,
          0.0152,
          0.0168,
          0.0193,
          0.0179,
          0.0305,
          0.1138,
          0.2532,
          0.3238,
          0.2907,
          0.1947,
          0.2985,
          0.7795,
          1.2865,
          1.182,
          0.5936,
          0.1502,
          0.0028,
          0.0117,
          0.0183,
          0.0206,
          0.0122,
          0.0058,
          0,
          0,
          0,
          0,
          0.009000000000000001,
          0.0107,
          0.1107,
          0.2827,
          0.4071,
          0.3604,
          0.161,
          0.0535,
          0.04,
          0.0461,
          0.0745,
          0.08800000000000001,
          0.0899,
          0.0474,
          0.0473,
          0.0834,
          0.0735,
          0.0871,
          0.1117,
          0.145,
          0.1891,
          0.3375,
          0.5641,
          0.7081,
          0.7704,
          0.6004,
          0.2951,
          0.1237,
          0.0503,
          0.0253,
          0.0081,
          0,
          0,
          0,
          0,
          0,
          0,
          0.004,
          0.006999999999999999,
          0.0075,
          0.0084,
          0.0157,
          0.0467,
          0.0368,
          0.0044,
          0.0041,
          0,
          0,
          0.0086,
          0.0072,
          0.0039,
          0.0143,
          0.0261,
          0.0244,
          0.0115,
          0.0034,
          0.0052,
          0.0142,
          0.0244,
          0.0229,
          0.0112,
          0.0045,
          0.0081,
          0.0315,
          0.0657,
          0.066,
          0.0341,
          0.0095,
          0,
          0,
          0,
          0,
          0,
          0,
          0,
          0.004,
          0.0065,
          0.0069,
          0.0061,
          0.0092,
          0.0218,
          0.0733,
          0.1621,
          0.2407,
          0.3483,
          0.2762,
          0.1014,
          0.0496,
          0.0194,
          0.012,
          0.0083,
          0.0048,
          0,
          0,
          0,
          0,
          0,
          0,
          0.0046,
          0.0083,
          0.0175,
          0.0316,
          0.0541,
          0.0571,
          0.0466,
          0.0401,
          0.0335,
          0.1081,
          0.4761,
          0.6809,
          0.5770000000000001,
          0.4765,
          0.3315,
          0.209,
          0.093,
          0.0248,
          0.0057,
          0.006999999999999999,
          0.0153,
          0.0196,
          0.0292,
          0.0356,
          0.0289,
          0.0218,
          0.0191,
          0.016,
          0.0088,
          0.0062,
          0.0059,
          0,
          0,
          0,
          0,
          0,
          0,
          0,
          0.0043,
          0.0042,
          0,
          0.0052,
          0.0066,
          0,
          0,
          0,
          0,
          0,
          0.0108,
          0.1092,
          0.3231,
          0.701,
          1.5852,
          1.82,
          1.2335,
          0.7546,
          0.3432,
          0.162,
          0.0574,
          0.0117,
          0.006,
          0.0047,
          0.0056,
          0.0142,
          0.068,
          0.0761,
          0.0275,
          0.0257,
          0.0441,
          0.052000000000000005,
          0.0495,
          0.0455,
          0.0238,
          0.0055,
          0.0064,
          0.0059,
          0,
          0,
          0,
          0.0045,
          0.0088,
          0.0093,
          0.0052,
          0,
          0,
          0,
          0.0044,
          0.0043,
          0,
          0,
          0,
          0,
          0,
          0,
          0,
          0.0052,
          0.0082,
          0.0072,
          0.006999999999999999,
          0.0041,
          0,
          0,
          0.0038,
          0.0182,
          0.0431,
          0.0424,
          0.0196,
          0.0049,
          0,
          0.005,
          0.0093,
          0.0098,
          0.0065,
          0.0055,
          0.0058,
          0.004,
          0,
          0,
          0.006999999999999999,
          0.0083,
          0.005,
          0,
          0,
          0,
          0,
          0,
          0,
          0,
          0,
          0,
          0,
          0,
          0,
          0,
          0.0052,
          0.0045,
          0,
          0,
          0,
          0,
          0.0049,
          0.006,
          0.0035,
          0,
          0,
          0.0045,
          0.0078,
          0.0107,
          0.0119,
          0.0107,
          0.0078,
          0.0045,
          0,
          0,
          0,
          0.0029,
          0.006999999999999999,
          0.0114,
          0.0192,
          0.0194,
          0.0107,
          0.0083,
          0.0094,
          0.0077,
          0.0072,
          0.0066,
          0.0072,
          0.0091,
          0.0062,
          0,
          0,
          0,
          0,
          0,
          0,
          0,
          0,
          0,
          0,
          0.0085,
          0.0649,
          0.2505,
          0.5046,
          0.6019,
          0.534,
          0.3199,
          0.1368,
          0.0954,
          0.0685,
          0.1566,
          0.5733,
          0.6748,
          0.4064,
          0.2657,
          0.1188,
          0.0639,
          0.1619,
          0.1341,
          0.0139,
          0.0158,
          0.0044,
          0.0057,
          0.0324,
          0.0649,
          0.0788,
          0.0924,
          0.1163,
          0.1418,
          0.173,
          0.1685,
          0.13699999999999998,
          0.1524,
          0.221,
          0.4082,
          0.8688,
          1.335,
          1.8589,
          2.7875,
          3.5828,
          3.2368,
          1.9098,
          0.7519,
          0.1828,
          0.0754,
          0.1711,
          0.2895,
          0.5393,
          0.6726,
          0.7126,
          0.9964,
          1.3493,
          1.3919,
          1.057,
          0.5312,
          0.109,
          0.087,
          0.2743,
          0.3094,
          0.1656,
          0.0571,
          0.0395,
          0.1368,
          0.3108,
          0.3315,
          0.1785,
          0.044,
          0,
          0.0138,
          0.0535,
          0.1175,
          0.2554,
          0.1506,
          0.0243,
          0.5009,
          1.2821,
          1.4388,
          0.852,
          0.2674,
          0.0805,
          0.1573,
          0.2397,
          0.262,
          0.2386,
          0.1081,
          0,
          0.0035,
          0.0172,
          0.0353,
          0.0624,
          0.0411,
          0.0024,
          0.004,
          0.0094,
          0.0194,
          0.0403,
          0.0287,
          0.0226,
          0.1244,
          0.276,
          0.2833,
          0.1423,
          0.0273,
          0,
          0.0184,
          0.0563,
          0.0806,
          0.0868,
          0.0454,
          0.0004,
          0,
          0,
          0,
          0,
          0,
          0,
          0,
          0,
          0,
          0,
          0,
          0,
          0,
          0.0056,
          0.0101,
          0.0155,
          0.0256,
          0.0359,
          0.0579,
          0.1186,
          0.2031,
          0.3423,
          0.3129,
          0.4807,
          1.5554,
          2.925,
          2.9686,
          1.7961,
          0.7991,
          0.1841,
          0.1264,
          0.5121,
          0.6513,
          0.4686,
          0.177,
          0.0138,
          0.0141,
          0.0079,
          0.0046,
          0,
          0,
          0,
          0,
          0.006999999999999999,
          0.0075,
          0.0046,
          0.0043,
          0.0053,
          0.0056,
          0.006999999999999999,
          0.0057,
          0,
          0.0029,
          0.0038,
          0.0028,
          0.0086,
          0.024,
          0.0814,
          0.1044,
          0.2287,
          0.8397,
          1.6339,
          1.5723,
          0.7393,
          0.2072,
          0.0494,
          0,
          0.0049,
          0.0071,
          0.0065,
          0.0079,
          0.006999999999999999,
          0.0078,
          0.0149,
          0.0188,
          0.0181,
          0.0187,
          0.0133,
          0.0153,
          0.0368,
          0.0607,
          0.0913,
          0.1281,
          0.3197,
          1.0301,
          2.1339,
          2.8025,
          2.8179,
          1.9636,
          1.3714,
          1.4677,
          1.3077,
          0.9477,
          0.4441,
          0.1562,
          0.125,
          0.2968,
          0.6228,
          0.97,
          1.3349,
          1.2152,
          0.7515,
          0.5708,
          0.4739,
          0.3314,
          0.3472,
          0.2062,
          0,
          0.0103,
          0.0252,
          0.0667,
          0.3774,
          0.3076,
          0,
          0.0987,
          0.2238,
          0.2789,
          0.2405,
          0.1364,
          0.0734,
          0.1067,
          0.1504,
          0.1605,
          0.1309,
          0.0793,
          0.0477,
          0.0866,
          0.1588,
          0.1671,
          0.1054,
          0.0357,
          0.0062,
          0.0332,
          0.0787,
          0.0893,
          0.061,
          0.0225,
          0,
          0.0057,
          0.0137,
          0.0243,
          0.059,
          0.045,
          0.0015,
          0,
          0.0052,
          0.0049,
          0,
          0,
          0,
          0.0066,
          0.0141,
          0.0185,
          0.0334,
          0.0466,
          0.0394,
          0.0295,
          0.0286,
          0.0407,
          0.0862,
          0.1021,
          0.1059,
          0.0932,
          0.0423,
          0.0246,
          0.0217,
          0.0181,
          0.0124,
          0.0379,
          0.0889,
          0.0911,
          0.0414,
          0.0069,
          0,
          0,
          0.0029,
          0.034,
          0.1656,
          0.5203,
          0.8504,
          1.0634,
          1.2943,
          1.2074,
          0.7893,
          0.3323,
          0.1088,
          0.0734,
          0.0606,
          0.0935,
          0.1337,
          0.1692,
          0.1965,
          0.2522,
          0.3295,
          0.395,
          0.4623,
          0.5004,
          0.6174,
          0.9919,
          1.4165,
          1.3523,
          0.8338,
          0.6255,
          0.5537,
          0.2715,
          0.0879,
          0.0387,
          0.0556,
          0.04,
          0.0082,
          0.0224,
          0.0417,
          0.0379,
          0.0159,
          0.0025,
          0,
          0,
          0,
          0,
          0,
          0,
          0,
          0.0043,
          0.01,
          0.0122,
          0.0113,
          0.0113,
          0.0138,
          0.0212,
          0.0307,
          0.0309,
          0.0214,
          0.0114,
          0.0118,
          0.0401,
          0.0987,
          0.1557,
          0.202,
          0.2534,
          0.3922,
          0.7066,
          1.0392,
          1.0759,
          0.8203,
          0.4984,
          0.2211,
          0.1148,
          0.1234,
          0.0959,
          0.0503,
          0.0178,
          0.0099,
          0.0283,
          0.0524,
          0.0492,
          0.0257,
          0.0099,
          0,
          0.0077,
          0.0221,
          0.0254,
          0.0152,
          0.0103,
          0.0266,
          0.1092,
          0.2866,
          0.6149,
          1.2345,
          1.4557,
          1.1647,
          0.7386,
          0.2856,
          0.1344,
          0.1626,
          0.1172,
          0.0275,
          0.0165,
          0.0055,
          0,
          0.008,
          0.0081,
          0,
          0,
          0.0028,
          0.0308,
          0.2156,
          0.3562,
          0.3735,
          0.4815,
          0.6441,
          0.6627,
          0.474,
          0.3128,
          0.2911,
          0.3716,
          0.4918,
          0.6205,
          0.8744,
          0.5920000000000001,
          0.1299,
          0.1081,
          0.0691,
          0.0458,
          0.0247,
          0.0131,
          0.0073,
          0,
          0.0042,
          0.0066,
          0.0188,
          0.041,
          0.0414,
          0.0231,
          0.0136,
          0.0099,
          0.0058,
          0.0054,
          0.0056,
          0.0151,
          0.0386,
          0.0465,
          0.0469,
          0.0258,
          0.0134,
          0.0609,
          0.1231,
          0.14,
          0.1323,
          0.1459,
          0.0919,
          0.0791,
          0.1717,
          0.1907,
          0.1344,
          0.0459,
          0,
          0.0278,
          0.0759,
          0.0817,
          0.0385,
          0.008,
          0,
          0.0048,
          0.0086,
          0.0101,
          0.0081,
          0.0052,
          0,
          0,
          0,
          0,
          0.0056,
          0.0166,
          0.02,
          0.0158,
          0.0195,
          0.0185,
          0.0089,
          0.0076,
          0.0343,
          0.1467,
          0.3406,
          0.5344,
          0.7654,
          0.7863,
          0.6034,
          0.3916,
          0.1786,
          0.0823,
          0.0287,
          0.0037,
          0,
          0,
          0,
          0,
          0,
          0,
          0,
          0,
          0,
          0,
          0,
          0,
          0,
          0,
          0,
          0.0175,
          0.1231,
          0.2964,
          0.1371,
          0,
          0.0064,
          0.0205,
          0.0817,
          0.0887,
          0.0544,
          0.1044,
          0.1764,
          0.16699999999999998,
          0.0775,
          0.0229,
          0.0109,
          0.0201,
          0.0481,
          0.0593,
          0.0503,
          0.0377,
          0.0161,
          0.0239,
          0.0692,
          0.0848,
          0.0641,
          0.0264,
          0.0035,
          0.0058,
          0.0083,
          0.0088,
          0.0066,
          0.0058,
          0.0066,
          0.0092,
          0.0124,
          0.011,
          0.01,
          0.0134,
          0.0138,
          0.0303,
          0.0629,
          0.064,
          0.0329,
          0.0084,
          0,
          0,
          0,
          0,
          0,
          0,
          0,
          0,
          0,
          0,
          0.0055,
          0.0069,
          0.0076,
          0.0081,
          0.0085,
          0.0064,
          0.0089,
          0.0054,
          0.0014,
          0.032,
          0.0879,
          0.1034,
          0.0797,
          0.0486,
          0.0122
         ],
         "yaxis": "y"
        }
       ],
       "layout": {
        "autosize": true,
        "legend": {
         "tracegroupgap": 0
        },
        "template": {
         "data": {
          "bar": [
           {
            "error_x": {
             "color": "#f2f5fa"
            },
            "error_y": {
             "color": "#f2f5fa"
            },
            "marker": {
             "line": {
              "color": "rgb(17,17,17)",
              "width": 0.5
             }
            },
            "type": "bar"
           }
          ],
          "barpolar": [
           {
            "marker": {
             "line": {
              "color": "rgb(17,17,17)",
              "width": 0.5
             }
            },
            "type": "barpolar"
           }
          ],
          "carpet": [
           {
            "aaxis": {
             "endlinecolor": "#A2B1C6",
             "gridcolor": "#506784",
             "linecolor": "#506784",
             "minorgridcolor": "#506784",
             "startlinecolor": "#A2B1C6"
            },
            "baxis": {
             "endlinecolor": "#A2B1C6",
             "gridcolor": "#506784",
             "linecolor": "#506784",
             "minorgridcolor": "#506784",
             "startlinecolor": "#A2B1C6"
            },
            "type": "carpet"
           }
          ],
          "choropleth": [
           {
            "colorbar": {
             "outlinewidth": 0,
             "ticks": ""
            },
            "type": "choropleth"
           }
          ],
          "contour": [
           {
            "colorbar": {
             "outlinewidth": 0,
             "ticks": ""
            },
            "colorscale": [
             [
              0,
              "#0d0887"
             ],
             [
              0.1111111111111111,
              "#46039f"
             ],
             [
              0.2222222222222222,
              "#7201a8"
             ],
             [
              0.3333333333333333,
              "#9c179e"
             ],
             [
              0.4444444444444444,
              "#bd3786"
             ],
             [
              0.5555555555555556,
              "#d8576b"
             ],
             [
              0.6666666666666666,
              "#ed7953"
             ],
             [
              0.7777777777777778,
              "#fb9f3a"
             ],
             [
              0.8888888888888888,
              "#fdca26"
             ],
             [
              1,
              "#f0f921"
             ]
            ],
            "type": "contour"
           }
          ],
          "contourcarpet": [
           {
            "colorbar": {
             "outlinewidth": 0,
             "ticks": ""
            },
            "type": "contourcarpet"
           }
          ],
          "heatmap": [
           {
            "colorbar": {
             "outlinewidth": 0,
             "ticks": ""
            },
            "colorscale": [
             [
              0,
              "#0d0887"
             ],
             [
              0.1111111111111111,
              "#46039f"
             ],
             [
              0.2222222222222222,
              "#7201a8"
             ],
             [
              0.3333333333333333,
              "#9c179e"
             ],
             [
              0.4444444444444444,
              "#bd3786"
             ],
             [
              0.5555555555555556,
              "#d8576b"
             ],
             [
              0.6666666666666666,
              "#ed7953"
             ],
             [
              0.7777777777777778,
              "#fb9f3a"
             ],
             [
              0.8888888888888888,
              "#fdca26"
             ],
             [
              1,
              "#f0f921"
             ]
            ],
            "type": "heatmap"
           }
          ],
          "heatmapgl": [
           {
            "colorbar": {
             "outlinewidth": 0,
             "ticks": ""
            },
            "colorscale": [
             [
              0,
              "#0d0887"
             ],
             [
              0.1111111111111111,
              "#46039f"
             ],
             [
              0.2222222222222222,
              "#7201a8"
             ],
             [
              0.3333333333333333,
              "#9c179e"
             ],
             [
              0.4444444444444444,
              "#bd3786"
             ],
             [
              0.5555555555555556,
              "#d8576b"
             ],
             [
              0.6666666666666666,
              "#ed7953"
             ],
             [
              0.7777777777777778,
              "#fb9f3a"
             ],
             [
              0.8888888888888888,
              "#fdca26"
             ],
             [
              1,
              "#f0f921"
             ]
            ],
            "type": "heatmapgl"
           }
          ],
          "histogram": [
           {
            "marker": {
             "colorbar": {
              "outlinewidth": 0,
              "ticks": ""
             }
            },
            "type": "histogram"
           }
          ],
          "histogram2d": [
           {
            "colorbar": {
             "outlinewidth": 0,
             "ticks": ""
            },
            "colorscale": [
             [
              0,
              "#0d0887"
             ],
             [
              0.1111111111111111,
              "#46039f"
             ],
             [
              0.2222222222222222,
              "#7201a8"
             ],
             [
              0.3333333333333333,
              "#9c179e"
             ],
             [
              0.4444444444444444,
              "#bd3786"
             ],
             [
              0.5555555555555556,
              "#d8576b"
             ],
             [
              0.6666666666666666,
              "#ed7953"
             ],
             [
              0.7777777777777778,
              "#fb9f3a"
             ],
             [
              0.8888888888888888,
              "#fdca26"
             ],
             [
              1,
              "#f0f921"
             ]
            ],
            "type": "histogram2d"
           }
          ],
          "histogram2dcontour": [
           {
            "colorbar": {
             "outlinewidth": 0,
             "ticks": ""
            },
            "colorscale": [
             [
              0,
              "#0d0887"
             ],
             [
              0.1111111111111111,
              "#46039f"
             ],
             [
              0.2222222222222222,
              "#7201a8"
             ],
             [
              0.3333333333333333,
              "#9c179e"
             ],
             [
              0.4444444444444444,
              "#bd3786"
             ],
             [
              0.5555555555555556,
              "#d8576b"
             ],
             [
              0.6666666666666666,
              "#ed7953"
             ],
             [
              0.7777777777777778,
              "#fb9f3a"
             ],
             [
              0.8888888888888888,
              "#fdca26"
             ],
             [
              1,
              "#f0f921"
             ]
            ],
            "type": "histogram2dcontour"
           }
          ],
          "mesh3d": [
           {
            "colorbar": {
             "outlinewidth": 0,
             "ticks": ""
            },
            "type": "mesh3d"
           }
          ],
          "parcoords": [
           {
            "line": {
             "colorbar": {
              "outlinewidth": 0,
              "ticks": ""
             }
            },
            "type": "parcoords"
           }
          ],
          "pie": [
           {
            "automargin": true,
            "type": "pie"
           }
          ],
          "scatter": [
           {
            "marker": {
             "line": {
              "color": "#283442"
             }
            },
            "type": "scatter"
           }
          ],
          "scatter3d": [
           {
            "line": {
             "colorbar": {
              "outlinewidth": 0,
              "ticks": ""
             }
            },
            "marker": {
             "colorbar": {
              "outlinewidth": 0,
              "ticks": ""
             }
            },
            "type": "scatter3d"
           }
          ],
          "scattercarpet": [
           {
            "marker": {
             "colorbar": {
              "outlinewidth": 0,
              "ticks": ""
             }
            },
            "type": "scattercarpet"
           }
          ],
          "scattergeo": [
           {
            "marker": {
             "colorbar": {
              "outlinewidth": 0,
              "ticks": ""
             }
            },
            "type": "scattergeo"
           }
          ],
          "scattergl": [
           {
            "marker": {
             "line": {
              "color": "#283442"
             }
            },
            "type": "scattergl"
           }
          ],
          "scattermapbox": [
           {
            "marker": {
             "colorbar": {
              "outlinewidth": 0,
              "ticks": ""
             }
            },
            "type": "scattermapbox"
           }
          ],
          "scatterpolar": [
           {
            "marker": {
             "colorbar": {
              "outlinewidth": 0,
              "ticks": ""
             }
            },
            "type": "scatterpolar"
           }
          ],
          "scatterpolargl": [
           {
            "marker": {
             "colorbar": {
              "outlinewidth": 0,
              "ticks": ""
             }
            },
            "type": "scatterpolargl"
           }
          ],
          "scatterternary": [
           {
            "marker": {
             "colorbar": {
              "outlinewidth": 0,
              "ticks": ""
             }
            },
            "type": "scatterternary"
           }
          ],
          "surface": [
           {
            "colorbar": {
             "outlinewidth": 0,
             "ticks": ""
            },
            "colorscale": [
             [
              0,
              "#0d0887"
             ],
             [
              0.1111111111111111,
              "#46039f"
             ],
             [
              0.2222222222222222,
              "#7201a8"
             ],
             [
              0.3333333333333333,
              "#9c179e"
             ],
             [
              0.4444444444444444,
              "#bd3786"
             ],
             [
              0.5555555555555556,
              "#d8576b"
             ],
             [
              0.6666666666666666,
              "#ed7953"
             ],
             [
              0.7777777777777778,
              "#fb9f3a"
             ],
             [
              0.8888888888888888,
              "#fdca26"
             ],
             [
              1,
              "#f0f921"
             ]
            ],
            "type": "surface"
           }
          ],
          "table": [
           {
            "cells": {
             "fill": {
              "color": "#506784"
             },
             "line": {
              "color": "rgb(17,17,17)"
             }
            },
            "header": {
             "fill": {
              "color": "#2a3f5f"
             },
             "line": {
              "color": "rgb(17,17,17)"
             }
            },
            "type": "table"
           }
          ]
         },
         "layout": {
          "annotationdefaults": {
           "arrowcolor": "#f2f5fa",
           "arrowhead": 0,
           "arrowwidth": 1
          },
          "coloraxis": {
           "colorbar": {
            "outlinewidth": 0,
            "ticks": ""
           }
          },
          "colorscale": {
           "diverging": [
            [
             0,
             "#8e0152"
            ],
            [
             0.1,
             "#c51b7d"
            ],
            [
             0.2,
             "#de77ae"
            ],
            [
             0.3,
             "#f1b6da"
            ],
            [
             0.4,
             "#fde0ef"
            ],
            [
             0.5,
             "#f7f7f7"
            ],
            [
             0.6,
             "#e6f5d0"
            ],
            [
             0.7,
             "#b8e186"
            ],
            [
             0.8,
             "#7fbc41"
            ],
            [
             0.9,
             "#4d9221"
            ],
            [
             1,
             "#276419"
            ]
           ],
           "sequential": [
            [
             0,
             "#0d0887"
            ],
            [
             0.1111111111111111,
             "#46039f"
            ],
            [
             0.2222222222222222,
             "#7201a8"
            ],
            [
             0.3333333333333333,
             "#9c179e"
            ],
            [
             0.4444444444444444,
             "#bd3786"
            ],
            [
             0.5555555555555556,
             "#d8576b"
            ],
            [
             0.6666666666666666,
             "#ed7953"
            ],
            [
             0.7777777777777778,
             "#fb9f3a"
            ],
            [
             0.8888888888888888,
             "#fdca26"
            ],
            [
             1,
             "#f0f921"
            ]
           ],
           "sequentialminus": [
            [
             0,
             "#0d0887"
            ],
            [
             0.1111111111111111,
             "#46039f"
            ],
            [
             0.2222222222222222,
             "#7201a8"
            ],
            [
             0.3333333333333333,
             "#9c179e"
            ],
            [
             0.4444444444444444,
             "#bd3786"
            ],
            [
             0.5555555555555556,
             "#d8576b"
            ],
            [
             0.6666666666666666,
             "#ed7953"
            ],
            [
             0.7777777777777778,
             "#fb9f3a"
            ],
            [
             0.8888888888888888,
             "#fdca26"
            ],
            [
             1,
             "#f0f921"
            ]
           ]
          },
          "colorway": [
           "#636efa",
           "#EF553B",
           "#00cc96",
           "#ab63fa",
           "#FFA15A",
           "#19d3f3",
           "#FF6692",
           "#B6E880",
           "#FF97FF",
           "#FECB52"
          ],
          "font": {
           "color": "#f2f5fa"
          },
          "geo": {
           "bgcolor": "rgb(17,17,17)",
           "lakecolor": "rgb(17,17,17)",
           "landcolor": "rgb(17,17,17)",
           "showlakes": true,
           "showland": true,
           "subunitcolor": "#506784"
          },
          "hoverlabel": {
           "align": "left"
          },
          "hovermode": "closest",
          "mapbox": {
           "style": "dark"
          },
          "paper_bgcolor": "rgb(17,17,17)",
          "plot_bgcolor": "rgb(17,17,17)",
          "polar": {
           "angularaxis": {
            "gridcolor": "#506784",
            "linecolor": "#506784",
            "ticks": ""
           },
           "bgcolor": "rgb(17,17,17)",
           "radialaxis": {
            "gridcolor": "#506784",
            "linecolor": "#506784",
            "ticks": ""
           }
          },
          "scene": {
           "xaxis": {
            "backgroundcolor": "rgb(17,17,17)",
            "gridcolor": "#506784",
            "gridwidth": 2,
            "linecolor": "#506784",
            "showbackground": true,
            "ticks": "",
            "zerolinecolor": "#C8D4E3"
           },
           "yaxis": {
            "backgroundcolor": "rgb(17,17,17)",
            "gridcolor": "#506784",
            "gridwidth": 2,
            "linecolor": "#506784",
            "showbackground": true,
            "ticks": "",
            "zerolinecolor": "#C8D4E3"
           },
           "zaxis": {
            "backgroundcolor": "rgb(17,17,17)",
            "gridcolor": "#506784",
            "gridwidth": 2,
            "linecolor": "#506784",
            "showbackground": true,
            "ticks": "",
            "zerolinecolor": "#C8D4E3"
           }
          },
          "shapedefaults": {
           "line": {
            "color": "#f2f5fa"
           }
          },
          "sliderdefaults": {
           "bgcolor": "#C8D4E3",
           "bordercolor": "rgb(17,17,17)",
           "borderwidth": 1,
           "tickwidth": 0
          },
          "ternary": {
           "aaxis": {
            "gridcolor": "#506784",
            "linecolor": "#506784",
            "ticks": ""
           },
           "baxis": {
            "gridcolor": "#506784",
            "linecolor": "#506784",
            "ticks": ""
           },
           "bgcolor": "rgb(17,17,17)",
           "caxis": {
            "gridcolor": "#506784",
            "linecolor": "#506784",
            "ticks": ""
           }
          },
          "title": {
           "x": 0.05
          },
          "updatemenudefaults": {
           "bgcolor": "#506784",
           "borderwidth": 0
          },
          "xaxis": {
           "automargin": true,
           "gridcolor": "#283442",
           "linecolor": "#506784",
           "ticks": "",
           "title": {
            "standoff": 15
           },
           "zerolinecolor": "#283442",
           "zerolinewidth": 2
          },
          "yaxis": {
           "automargin": true,
           "gridcolor": "#283442",
           "linecolor": "#506784",
           "ticks": "",
           "title": {
            "standoff": 15
           },
           "zerolinecolor": "#283442",
           "zerolinewidth": 2
          }
         }
        },
        "title": {
         "text": "cur__precipIntensity trend over time"
        },
        "xaxis": {
         "anchor": "y",
         "autorange": true,
         "domain": [
          0,
          1
         ],
         "range": [
          0,
          4139
         ]
        },
        "yaxis": {
         "anchor": "x",
         "autorange": true,
         "domain": [
          0,
          1
         ],
         "range": [
          -0.33346666666666663,
          6.335866666666666
         ],
         "title": {
          "text": "cur__precipIntensity"
         },
         "type": "linear"
        }
       }
      },
      "image/png": "[encoded data removed]"
     },
     "metadata": {},
     "output_type": "display_data"
    }
   ],
   "source": [
    "# take a look at the overall trend\n",
    "grouped = merged.groupby(['date', 'hour'])['cur__precipIntensity'].mean()\n",
    "px.line(grouped, y=\"cur__precipIntensity\", height=300,\n",
    "        title='cur__precipIntensity trend over time')"
   ]
  },
  {
   "cell_type": "markdown",
   "metadata": {},
   "source": [
    "Looking at the rend we can see that there are rare events when precipitation is very high.\n",
    "\n",
    "Breaking it down into 3 buckets confirms that it influences the count of observations."
   ]
  },
  {
   "cell_type": "code",
   "execution_count": 16,
   "metadata": {},
   "outputs": [],
   "source": [
    "# define 2 categories of gusts: Normal and Strong\n",
    "merged['rain_strength'] = 'Low'\n",
    "idx = merged['cur__precipIntensity'] > 0.2\n",
    "merged.loc[idx, 'rain_strength'] = 'Higher'\n",
    "idx = merged['cur__precipIntensity'] > 1.5\n",
    "merged.loc[idx, 'rain_strength'] = 'VeryHigh'"
   ]
  },
  {
   "cell_type": "code",
   "execution_count": 17,
   "metadata": {},
   "outputs": [
    {
     "data": {
      "application/vnd.plotly.v1+json": {
       "config": {
        "plotlyServerURL": "https://plot.ly"
       },
       "data": [
        {
         "hovertemplate": "rain_strength=Higher<br>hour=%{x}<br>obs_count_corr=%{y}<extra></extra>",
         "legendgroup": "Higher",
         "line": {
          "color": "#636efa",
          "dash": "solid"
         },
         "mode": "lines",
         "name": "Higher",
         "showlegend": true,
         "type": "scatter",
         "x": [
          0,
          1,
          2,
          3,
          4,
          5,
          6,
          7,
          8,
          9,
          10,
          11,
          12,
          13,
          14,
          15,
          16,
          17,
          18,
          19,
          20,
          21,
          22,
          23
         ],
         "xaxis": "x",
         "y": [
          0,
          0,
          0,
          0,
          0,
          0,
          0.46153846153846156,
          0.8,
          1.7333333333333334,
          1.1428571428571428,
          1.6923076923076923,
          1.4615384615384615,
          1.368421052631579,
          1.5,
          1.1538461538461537,
          1.2258064516129032,
          1.2702702702702702,
          1.1875,
          0.9259259259259259,
          0.3333333333333333,
          0.2962962962962963,
          0,
          0,
          0
         ],
         "yaxis": "y"
        },
        {
         "hovertemplate": "rain_strength=Low<br>hour=%{x}<br>obs_count_corr=%{y}<extra></extra>",
         "legendgroup": "Low",
         "line": {
          "color": "#EF553B",
          "dash": "solid"
         },
         "mode": "lines",
         "name": "Low",
         "showlegend": true,
         "type": "scatter",
         "x": [
          0,
          1,
          2,
          3,
          4,
          5,
          6,
          7,
          8,
          9,
          10,
          11,
          12,
          13,
          14,
          15,
          16,
          17,
          18,
          19,
          20,
          21,
          22,
          23
         ],
         "xaxis": "x",
         "y": [
          0,
          0,
          0,
          0,
          0,
          0,
          0.36363636363636365,
          0.704225352112676,
          1.9191176470588236,
          1.5735294117647058,
          1.7730496453900708,
          2.049645390070922,
          1.96,
          1.7152317880794703,
          2.041958041958042,
          2.152173913043478,
          2.2030075187969924,
          1.4676258992805755,
          1.1888111888111887,
          0.4857142857142857,
          0.2826086956521739,
          0,
          0,
          0
         ],
         "yaxis": "y"
        },
        {
         "hovertemplate": "rain_strength=VeryHigh<br>hour=%{x}<br>obs_count_corr=%{y}<extra></extra>",
         "legendgroup": "VeryHigh",
         "line": {
          "color": "#00cc96",
          "dash": "solid"
         },
         "mode": "lines",
         "name": "VeryHigh",
         "showlegend": true,
         "type": "scatter",
         "x": [
          2,
          3,
          4,
          5,
          6,
          7,
          8,
          9,
          10,
          11,
          12,
          13,
          14,
          15,
          16,
          17,
          18,
          19,
          20,
          21,
          22,
          23
         ],
         "xaxis": "x",
         "y": [
          0,
          0,
          0,
          0,
          1,
          0,
          1.1428571428571428,
          1.1111111111111112,
          0.5,
          0.8333333333333334,
          1,
          1.25,
          1,
          1.25,
          1,
          0,
          1,
          0.2,
          0.5714285714285714,
          0,
          0,
          0
         ],
         "yaxis": "y"
        }
       ],
       "layout": {
        "autosize": true,
        "legend": {
         "title": {
          "text": "rain_strength"
         },
         "tracegroupgap": 0
        },
        "template": {
         "data": {
          "bar": [
           {
            "error_x": {
             "color": "#f2f5fa"
            },
            "error_y": {
             "color": "#f2f5fa"
            },
            "marker": {
             "line": {
              "color": "rgb(17,17,17)",
              "width": 0.5
             }
            },
            "type": "bar"
           }
          ],
          "barpolar": [
           {
            "marker": {
             "line": {
              "color": "rgb(17,17,17)",
              "width": 0.5
             }
            },
            "type": "barpolar"
           }
          ],
          "carpet": [
           {
            "aaxis": {
             "endlinecolor": "#A2B1C6",
             "gridcolor": "#506784",
             "linecolor": "#506784",
             "minorgridcolor": "#506784",
             "startlinecolor": "#A2B1C6"
            },
            "baxis": {
             "endlinecolor": "#A2B1C6",
             "gridcolor": "#506784",
             "linecolor": "#506784",
             "minorgridcolor": "#506784",
             "startlinecolor": "#A2B1C6"
            },
            "type": "carpet"
           }
          ],
          "choropleth": [
           {
            "colorbar": {
             "outlinewidth": 0,
             "ticks": ""
            },
            "type": "choropleth"
           }
          ],
          "contour": [
           {
            "colorbar": {
             "outlinewidth": 0,
             "ticks": ""
            },
            "colorscale": [
             [
              0,
              "#0d0887"
             ],
             [
              0.1111111111111111,
              "#46039f"
             ],
             [
              0.2222222222222222,
              "#7201a8"
             ],
             [
              0.3333333333333333,
              "#9c179e"
             ],
             [
              0.4444444444444444,
              "#bd3786"
             ],
             [
              0.5555555555555556,
              "#d8576b"
             ],
             [
              0.6666666666666666,
              "#ed7953"
             ],
             [
              0.7777777777777778,
              "#fb9f3a"
             ],
             [
              0.8888888888888888,
              "#fdca26"
             ],
             [
              1,
              "#f0f921"
             ]
            ],
            "type": "contour"
           }
          ],
          "contourcarpet": [
           {
            "colorbar": {
             "outlinewidth": 0,
             "ticks": ""
            },
            "type": "contourcarpet"
           }
          ],
          "heatmap": [
           {
            "colorbar": {
             "outlinewidth": 0,
             "ticks": ""
            },
            "colorscale": [
             [
              0,
              "#0d0887"
             ],
             [
              0.1111111111111111,
              "#46039f"
             ],
             [
              0.2222222222222222,
              "#7201a8"
             ],
             [
              0.3333333333333333,
              "#9c179e"
             ],
             [
              0.4444444444444444,
              "#bd3786"
             ],
             [
              0.5555555555555556,
              "#d8576b"
             ],
             [
              0.6666666666666666,
              "#ed7953"
             ],
             [
              0.7777777777777778,
              "#fb9f3a"
             ],
             [
              0.8888888888888888,
              "#fdca26"
             ],
             [
              1,
              "#f0f921"
             ]
            ],
            "type": "heatmap"
           }
          ],
          "heatmapgl": [
           {
            "colorbar": {
             "outlinewidth": 0,
             "ticks": ""
            },
            "colorscale": [
             [
              0,
              "#0d0887"
             ],
             [
              0.1111111111111111,
              "#46039f"
             ],
             [
              0.2222222222222222,
              "#7201a8"
             ],
             [
              0.3333333333333333,
              "#9c179e"
             ],
             [
              0.4444444444444444,
              "#bd3786"
             ],
             [
              0.5555555555555556,
              "#d8576b"
             ],
             [
              0.6666666666666666,
              "#ed7953"
             ],
             [
              0.7777777777777778,
              "#fb9f3a"
             ],
             [
              0.8888888888888888,
              "#fdca26"
             ],
             [
              1,
              "#f0f921"
             ]
            ],
            "type": "heatmapgl"
           }
          ],
          "histogram": [
           {
            "marker": {
             "colorbar": {
              "outlinewidth": 0,
              "ticks": ""
             }
            },
            "type": "histogram"
           }
          ],
          "histogram2d": [
           {
            "colorbar": {
             "outlinewidth": 0,
             "ticks": ""
            },
            "colorscale": [
             [
              0,
              "#0d0887"
             ],
             [
              0.1111111111111111,
              "#46039f"
             ],
             [
              0.2222222222222222,
              "#7201a8"
             ],
             [
              0.3333333333333333,
              "#9c179e"
             ],
             [
              0.4444444444444444,
              "#bd3786"
             ],
             [
              0.5555555555555556,
              "#d8576b"
             ],
             [
              0.6666666666666666,
              "#ed7953"
             ],
             [
              0.7777777777777778,
              "#fb9f3a"
             ],
             [
              0.8888888888888888,
              "#fdca26"
             ],
             [
              1,
              "#f0f921"
             ]
            ],
            "type": "histogram2d"
           }
          ],
          "histogram2dcontour": [
           {
            "colorbar": {
             "outlinewidth": 0,
             "ticks": ""
            },
            "colorscale": [
             [
              0,
              "#0d0887"
             ],
             [
              0.1111111111111111,
              "#46039f"
             ],
             [
              0.2222222222222222,
              "#7201a8"
             ],
             [
              0.3333333333333333,
              "#9c179e"
             ],
             [
              0.4444444444444444,
              "#bd3786"
             ],
             [
              0.5555555555555556,
              "#d8576b"
             ],
             [
              0.6666666666666666,
              "#ed7953"
             ],
             [
              0.7777777777777778,
              "#fb9f3a"
             ],
             [
              0.8888888888888888,
              "#fdca26"
             ],
             [
              1,
              "#f0f921"
             ]
            ],
            "type": "histogram2dcontour"
           }
          ],
          "mesh3d": [
           {
            "colorbar": {
             "outlinewidth": 0,
             "ticks": ""
            },
            "type": "mesh3d"
           }
          ],
          "parcoords": [
           {
            "line": {
             "colorbar": {
              "outlinewidth": 0,
              "ticks": ""
             }
            },
            "type": "parcoords"
           }
          ],
          "pie": [
           {
            "automargin": true,
            "type": "pie"
           }
          ],
          "scatter": [
           {
            "marker": {
             "line": {
              "color": "#283442"
             }
            },
            "type": "scatter"
           }
          ],
          "scatter3d": [
           {
            "line": {
             "colorbar": {
              "outlinewidth": 0,
              "ticks": ""
             }
            },
            "marker": {
             "colorbar": {
              "outlinewidth": 0,
              "ticks": ""
             }
            },
            "type": "scatter3d"
           }
          ],
          "scattercarpet": [
           {
            "marker": {
             "colorbar": {
              "outlinewidth": 0,
              "ticks": ""
             }
            },
            "type": "scattercarpet"
           }
          ],
          "scattergeo": [
           {
            "marker": {
             "colorbar": {
              "outlinewidth": 0,
              "ticks": ""
             }
            },
            "type": "scattergeo"
           }
          ],
          "scattergl": [
           {
            "marker": {
             "line": {
              "color": "#283442"
             }
            },
            "type": "scattergl"
           }
          ],
          "scattermapbox": [
           {
            "marker": {
             "colorbar": {
              "outlinewidth": 0,
              "ticks": ""
             }
            },
            "type": "scattermapbox"
           }
          ],
          "scatterpolar": [
           {
            "marker": {
             "colorbar": {
              "outlinewidth": 0,
              "ticks": ""
             }
            },
            "type": "scatterpolar"
           }
          ],
          "scatterpolargl": [
           {
            "marker": {
             "colorbar": {
              "outlinewidth": 0,
              "ticks": ""
             }
            },
            "type": "scatterpolargl"
           }
          ],
          "scatterternary": [
           {
            "marker": {
             "colorbar": {
              "outlinewidth": 0,
              "ticks": ""
             }
            },
            "type": "scatterternary"
           }
          ],
          "surface": [
           {
            "colorbar": {
             "outlinewidth": 0,
             "ticks": ""
            },
            "colorscale": [
             [
              0,
              "#0d0887"
             ],
             [
              0.1111111111111111,
              "#46039f"
             ],
             [
              0.2222222222222222,
              "#7201a8"
             ],
             [
              0.3333333333333333,
              "#9c179e"
             ],
             [
              0.4444444444444444,
              "#bd3786"
             ],
             [
              0.5555555555555556,
              "#d8576b"
             ],
             [
              0.6666666666666666,
              "#ed7953"
             ],
             [
              0.7777777777777778,
              "#fb9f3a"
             ],
             [
              0.8888888888888888,
              "#fdca26"
             ],
             [
              1,
              "#f0f921"
             ]
            ],
            "type": "surface"
           }
          ],
          "table": [
           {
            "cells": {
             "fill": {
              "color": "#506784"
             },
             "line": {
              "color": "rgb(17,17,17)"
             }
            },
            "header": {
             "fill": {
              "color": "#2a3f5f"
             },
             "line": {
              "color": "rgb(17,17,17)"
             }
            },
            "type": "table"
           }
          ]
         },
         "layout": {
          "annotationdefaults": {
           "arrowcolor": "#f2f5fa",
           "arrowhead": 0,
           "arrowwidth": 1
          },
          "coloraxis": {
           "colorbar": {
            "outlinewidth": 0,
            "ticks": ""
           }
          },
          "colorscale": {
           "diverging": [
            [
             0,
             "#8e0152"
            ],
            [
             0.1,
             "#c51b7d"
            ],
            [
             0.2,
             "#de77ae"
            ],
            [
             0.3,
             "#f1b6da"
            ],
            [
             0.4,
             "#fde0ef"
            ],
            [
             0.5,
             "#f7f7f7"
            ],
            [
             0.6,
             "#e6f5d0"
            ],
            [
             0.7,
             "#b8e186"
            ],
            [
             0.8,
             "#7fbc41"
            ],
            [
             0.9,
             "#4d9221"
            ],
            [
             1,
             "#276419"
            ]
           ],
           "sequential": [
            [
             0,
             "#0d0887"
            ],
            [
             0.1111111111111111,
             "#46039f"
            ],
            [
             0.2222222222222222,
             "#7201a8"
            ],
            [
             0.3333333333333333,
             "#9c179e"
            ],
            [
             0.4444444444444444,
             "#bd3786"
            ],
            [
             0.5555555555555556,
             "#d8576b"
            ],
            [
             0.6666666666666666,
             "#ed7953"
            ],
            [
             0.7777777777777778,
             "#fb9f3a"
            ],
            [
             0.8888888888888888,
             "#fdca26"
            ],
            [
             1,
             "#f0f921"
            ]
           ],
           "sequentialminus": [
            [
             0,
             "#0d0887"
            ],
            [
             0.1111111111111111,
             "#46039f"
            ],
            [
             0.2222222222222222,
             "#7201a8"
            ],
            [
             0.3333333333333333,
             "#9c179e"
            ],
            [
             0.4444444444444444,
             "#bd3786"
            ],
            [
             0.5555555555555556,
             "#d8576b"
            ],
            [
             0.6666666666666666,
             "#ed7953"
            ],
            [
             0.7777777777777778,
             "#fb9f3a"
            ],
            [
             0.8888888888888888,
             "#fdca26"
            ],
            [
             1,
             "#f0f921"
            ]
           ]
          },
          "colorway": [
           "#636efa",
           "#EF553B",
           "#00cc96",
           "#ab63fa",
           "#FFA15A",
           "#19d3f3",
           "#FF6692",
           "#B6E880",
           "#FF97FF",
           "#FECB52"
          ],
          "font": {
           "color": "#f2f5fa"
          },
          "geo": {
           "bgcolor": "rgb(17,17,17)",
           "lakecolor": "rgb(17,17,17)",
           "landcolor": "rgb(17,17,17)",
           "showlakes": true,
           "showland": true,
           "subunitcolor": "#506784"
          },
          "hoverlabel": {
           "align": "left"
          },
          "hovermode": "closest",
          "mapbox": {
           "style": "dark"
          },
          "paper_bgcolor": "rgb(17,17,17)",
          "plot_bgcolor": "rgb(17,17,17)",
          "polar": {
           "angularaxis": {
            "gridcolor": "#506784",
            "linecolor": "#506784",
            "ticks": ""
           },
           "bgcolor": "rgb(17,17,17)",
           "radialaxis": {
            "gridcolor": "#506784",
            "linecolor": "#506784",
            "ticks": ""
           }
          },
          "scene": {
           "xaxis": {
            "backgroundcolor": "rgb(17,17,17)",
            "gridcolor": "#506784",
            "gridwidth": 2,
            "linecolor": "#506784",
            "showbackground": true,
            "ticks": "",
            "zerolinecolor": "#C8D4E3"
           },
           "yaxis": {
            "backgroundcolor": "rgb(17,17,17)",
            "gridcolor": "#506784",
            "gridwidth": 2,
            "linecolor": "#506784",
            "showbackground": true,
            "ticks": "",
            "zerolinecolor": "#C8D4E3"
           },
           "zaxis": {
            "backgroundcolor": "rgb(17,17,17)",
            "gridcolor": "#506784",
            "gridwidth": 2,
            "linecolor": "#506784",
            "showbackground": true,
            "ticks": "",
            "zerolinecolor": "#C8D4E3"
           }
          },
          "shapedefaults": {
           "line": {
            "color": "#f2f5fa"
           }
          },
          "sliderdefaults": {
           "bgcolor": "#C8D4E3",
           "bordercolor": "rgb(17,17,17)",
           "borderwidth": 1,
           "tickwidth": 0
          },
          "ternary": {
           "aaxis": {
            "gridcolor": "#506784",
            "linecolor": "#506784",
            "ticks": ""
           },
           "baxis": {
            "gridcolor": "#506784",
            "linecolor": "#506784",
            "ticks": ""
           },
           "bgcolor": "rgb(17,17,17)",
           "caxis": {
            "gridcolor": "#506784",
            "linecolor": "#506784",
            "ticks": ""
           }
          },
          "title": {
           "x": 0.05
          },
          "updatemenudefaults": {
           "bgcolor": "#506784",
           "borderwidth": 0
          },
          "xaxis": {
           "automargin": true,
           "gridcolor": "#283442",
           "linecolor": "#506784",
           "ticks": "",
           "title": {
            "standoff": 15
           },
           "zerolinecolor": "#283442",
           "zerolinewidth": 2
          },
          "yaxis": {
           "automargin": true,
           "gridcolor": "#283442",
           "linecolor": "#506784",
           "ticks": "",
           "title": {
            "standoff": 15
           },
           "zerolinecolor": "#283442",
           "zerolinewidth": 2
          }
         }
        },
        "title": {
         "text": "Rain Intensity impact on objects detected by hour"
        },
        "xaxis": {
         "anchor": "y",
         "autorange": true,
         "domain": [
          0,
          1
         ],
         "range": [
          0,
          23
         ],
         "title": {
          "text": "hour"
         },
         "type": "linear"
        },
        "yaxis": {
         "anchor": "x",
         "autorange": true,
         "domain": [
          0,
          1
         ],
         "range": [
          -0.12238930659983291,
          2.325396825396825
         ],
         "title": {
          "text": "obs_count_corr"
         },
         "type": "linear"
        }
       }
      },
      "image/png": "[encoded data removed]"
     },
     "metadata": {},
     "output_type": "display_data"
    }
   ],
   "source": [
    "grouped = merged.groupby(['hour', 'rain_strength'])['obs_count_corr'].mean().reset_index()\n",
    "px.line(grouped, y=\"obs_count_corr\", x='hour', color=\"rain_strength\", height=300,\n",
    "        title='Rain Intensity impact on objects detected by hour')"
   ]
  },
  {
   "cell_type": "markdown",
   "metadata": {},
   "source": [
    "Next, we can add all numerical columns as a separate dataframe"
   ]
  },
  {
   "cell_type": "code",
   "execution_count": 18,
   "metadata": {},
   "outputs": [],
   "source": [
    "num_feat = ['is_weekend_day', 'cur__precipIntensity', 'cur__windSpeed', 'cur__windGust', 'cur__cloudCover',\n",
    "           'cur__apparentTemperature', 'cur__precipProbability']\n",
    "numerical = merged[num_feat]"
   ]
  },
  {
   "cell_type": "markdown",
   "metadata": {},
   "source": [
    "### Encode categorical features\n",
    "\n",
    "Features `cur_weather_type`, `gust_strength` and `day_of_week_name` can be treated as nominal for now, and we can encode them using one-hot-encoding technique.\n",
    "\n",
    "One-hot-encoding takes all values from a feature and turns them into individual columns. A good practice here is to always drop one of the columns, as it can be derived based on other columns."
   ]
  },
  {
   "cell_type": "code",
   "execution_count": 266,
   "metadata": {},
   "outputs": [
    {
     "data": {
      "text/html": [
       "<div>\n",
       "<style scoped>\n",
       "    .dataframe tbody tr th:only-of-type {\n",
       "        vertical-align: middle;\n",
       "    }\n",
       "\n",
       "    .dataframe tbody tr th {\n",
       "        vertical-align: top;\n",
       "    }\n",
       "\n",
       "    .dataframe thead th {\n",
       "        text-align: right;\n",
       "    }\n",
       "</style>\n",
       "<table border=\"1\" class=\"dataframe\">\n",
       "  <thead>\n",
       "    <tr style=\"text-align: right;\">\n",
       "      <th></th>\n",
       "      <th>cur_weather_type_Good</th>\n",
       "      <th>wind_strength_Strong</th>\n",
       "      <th>rain_strength_Low</th>\n",
       "      <th>rain_strength_VeryHigh</th>\n",
       "      <th>day_of_week_name_Monday</th>\n",
       "      <th>day_of_week_name_Saturday</th>\n",
       "      <th>day_of_week_name_Sunday</th>\n",
       "      <th>day_of_week_name_Thursday</th>\n",
       "      <th>day_of_week_name_Tuesday</th>\n",
       "      <th>day_of_week_name_Wednesday</th>\n",
       "    </tr>\n",
       "  </thead>\n",
       "  <tbody>\n",
       "    <tr>\n",
       "      <th>0</th>\n",
       "      <td>1</td>\n",
       "      <td>0</td>\n",
       "      <td>1</td>\n",
       "      <td>0</td>\n",
       "      <td>1</td>\n",
       "      <td>0</td>\n",
       "      <td>0</td>\n",
       "      <td>0</td>\n",
       "      <td>0</td>\n",
       "      <td>0</td>\n",
       "    </tr>\n",
       "    <tr>\n",
       "      <th>1</th>\n",
       "      <td>1</td>\n",
       "      <td>0</td>\n",
       "      <td>1</td>\n",
       "      <td>0</td>\n",
       "      <td>1</td>\n",
       "      <td>0</td>\n",
       "      <td>0</td>\n",
       "      <td>0</td>\n",
       "      <td>0</td>\n",
       "      <td>0</td>\n",
       "    </tr>\n",
       "  </tbody>\n",
       "</table>\n",
       "</div>"
      ],
      "text/plain": [
       "   cur_weather_type_Good  wind_strength_Strong  rain_strength_Low  rain_strength_VeryHigh  day_of_week_name_Monday  day_of_week_name_Saturday  day_of_week_name_Sunday  day_of_week_name_Thursday  day_of_week_name_Tuesday  day_of_week_name_Wednesday\n",
       "0                      1                     0                  1                       0                        1                          0                        0                          0                         0                           0\n",
       "1                      1                     0                  1                       0                        1                          0                        0                          0                         0                           0"
      ]
     },
     "execution_count": 266,
     "metadata": {},
     "output_type": "execute_result"
    }
   ],
   "source": [
    "# One hot encode nominal categorical variables\n",
    "nom_cat_features = ['cur_weather_type', 'wind_strength', 'rain_strength', 'day_of_week_name']\n",
    "dummies = pd.get_dummies(merged[nom_cat_features], drop_first=True)\n",
    "\n",
    "dummies.head(2)"
   ]
  },
  {
   "cell_type": "markdown",
   "metadata": {},
   "source": [
    "### Cyclical features\n",
    "\n",
    "How do we deal with features, like: `hour` or `week_number`? Even though they are numerical, they are not a typical numerical, ordinal values and they basically cycle through the time axis.\n",
    "\n",
    "See this [Kaggle link](https://www.kaggle.com/avanwyk/encoding-cyclical-features-for-deep-learning) for more about this."
   ]
  },
  {
   "cell_type": "code",
   "execution_count": 267,
   "metadata": {},
   "outputs": [],
   "source": [
    "def encode_cyclical(df, col, max_val):\n",
    "    df[col + '_sin'] = np.sin(2 * np.pi * df[col]/max_val)\n",
    "    df[col + '_cos'] = np.cos(2 * np.pi * df[col]/max_val)    \n",
    "\n",
    "cycl_feat = ['hour', 'n_week_in_month', 'n_month']\n",
    "cyclical = merged[cycl_feat].copy()\n",
    "for col in cycl_feat:\n",
    "    encode_cyclical(cyclical, col, cyclical[col].max())\n",
    "    cyclical = cyclical.drop(columns=[col])"
   ]
  },
  {
   "cell_type": "code",
   "execution_count": 268,
   "metadata": {},
   "outputs": [
    {
     "data": {
      "text/html": [
       "<div>\n",
       "<style scoped>\n",
       "    .dataframe tbody tr th:only-of-type {\n",
       "        vertical-align: middle;\n",
       "    }\n",
       "\n",
       "    .dataframe tbody tr th {\n",
       "        vertical-align: top;\n",
       "    }\n",
       "\n",
       "    .dataframe thead th {\n",
       "        text-align: right;\n",
       "    }\n",
       "</style>\n",
       "<table border=\"1\" class=\"dataframe\">\n",
       "  <thead>\n",
       "    <tr style=\"text-align: right;\">\n",
       "      <th></th>\n",
       "      <th>hour_sin</th>\n",
       "      <th>hour_cos</th>\n",
       "      <th>n_week_in_month_sin</th>\n",
       "      <th>n_week_in_month_cos</th>\n",
       "      <th>n_month_sin</th>\n",
       "      <th>n_month_cos</th>\n",
       "    </tr>\n",
       "  </thead>\n",
       "  <tbody>\n",
       "    <tr>\n",
       "      <th>0</th>\n",
       "      <td>0.942261</td>\n",
       "      <td>-0.33488</td>\n",
       "      <td>0.587785</td>\n",
       "      <td>-0.809017</td>\n",
       "      <td>-1.0</td>\n",
       "      <td>-1.836970e-16</td>\n",
       "    </tr>\n",
       "    <tr>\n",
       "      <th>1</th>\n",
       "      <td>0.816970</td>\n",
       "      <td>-0.57668</td>\n",
       "      <td>0.587785</td>\n",
       "      <td>-0.809017</td>\n",
       "      <td>-1.0</td>\n",
       "      <td>-1.836970e-16</td>\n",
       "    </tr>\n",
       "  </tbody>\n",
       "</table>\n",
       "</div>"
      ],
      "text/plain": [
       "   hour_sin  hour_cos  n_week_in_month_sin  n_week_in_month_cos  n_month_sin   n_month_cos\n",
       "0  0.942261  -0.33488             0.587785            -0.809017         -1.0 -1.836970e-16\n",
       "1  0.816970  -0.57668             0.587785            -0.809017         -1.0 -1.836970e-16"
      ]
     },
     "execution_count": 268,
     "metadata": {},
     "output_type": "execute_result"
    }
   ],
   "source": [
    "cyclical.head(2)"
   ]
  },
  {
   "cell_type": "markdown",
   "metadata": {},
   "source": [
    "### Output (target_ variable)"
   ]
  },
  {
   "cell_type": "code",
   "execution_count": 269,
   "metadata": {},
   "outputs": [],
   "source": [
    "y = merged['obs_count_corr']"
   ]
  },
  {
   "cell_type": "markdown",
   "metadata": {},
   "source": [
    "### Encode all selected features\n",
    "\n",
    "Now, instead of merging all features inside a single dataframe, we can keep them as a tuple of individual dataframes and pickle that data structure.\n",
    "\n",
    "This will make it easier to pick and choose features in the forecasting Notebook"
   ]
  },
  {
   "cell_type": "code",
   "execution_count": 270,
   "metadata": {},
   "outputs": [],
   "source": [
    "ret_struct = ((numerical, dummies, cyclical, merged), y)\n",
    "filename = 'Person_features__2019-09-09_2020-03-02.pickle'\n",
    "outfile = open(f'../Datasets/{filename}','wb')\n",
    "pickle.dump(ret_struct, outfile)\n",
    "outfile.close()"
   ]
  },
  {
   "cell_type": "code",
   "execution_count": null,
   "metadata": {},
   "outputs": [],
   "source": []
  }
 ],
 "metadata": {
  "kernelspec": {
   "display_name": "Python 3",
   "language": "python",
   "name": "python3"
  },
  "language_info": {
   "codemirror_mode": {
    "name": "ipython",
    "version": 3
   },
   "file_extension": ".py",
   "mimetype": "text/x-python",
   "name": "python",
   "nbconvert_exporter": "python",
   "pygments_lexer": "ipython3",
   "version": "3.7.0"
  }
 },
 "nbformat": 4,
 "nbformat_minor": 4
}
