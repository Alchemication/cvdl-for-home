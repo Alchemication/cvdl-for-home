{
 "cells": [
  {
   "cell_type": "markdown",
   "metadata": {},
   "source": [
    "# Person - feature engineering"
   ]
  },
  {
   "cell_type": "code",
   "execution_count": 1,
   "metadata": {},
   "outputs": [],
   "source": [
    "# import ConfigImports Notebook to import and configure libs\n",
    "%run ../ConfigImports.ipynb"
   ]
  },
  {
   "cell_type": "markdown",
   "metadata": {},
   "source": [
    "### Load dataset"
   ]
  },
  {
   "cell_type": "code",
   "execution_count": 31,
   "metadata": {},
   "outputs": [
    {
     "name": "stdout",
     "output_type": "stream",
     "text": [
      "(4079, 3)\n"
     ]
    },
    {
     "data": {
      "text/html": [
       "<div>\n",
       "<style scoped>\n",
       "    .dataframe tbody tr th:only-of-type {\n",
       "        vertical-align: middle;\n",
       "    }\n",
       "\n",
       "    .dataframe tbody tr th {\n",
       "        vertical-align: top;\n",
       "    }\n",
       "\n",
       "    .dataframe thead th {\n",
       "        text-align: right;\n",
       "    }\n",
       "</style>\n",
       "<table border=\"1\" class=\"dataframe\">\n",
       "  <thead>\n",
       "    <tr style=\"text-align: right;\">\n",
       "      <th></th>\n",
       "      <th>date</th>\n",
       "      <th>hour</th>\n",
       "      <th>obs_count</th>\n",
       "    </tr>\n",
       "  </thead>\n",
       "  <tbody>\n",
       "    <tr>\n",
       "      <th>0</th>\n",
       "      <td>2019-09-09</td>\n",
       "      <td>0</td>\n",
       "      <td>0</td>\n",
       "    </tr>\n",
       "    <tr>\n",
       "      <th>1</th>\n",
       "      <td>2019-09-09</td>\n",
       "      <td>1</td>\n",
       "      <td>0</td>\n",
       "    </tr>\n",
       "  </tbody>\n",
       "</table>\n",
       "</div>"
      ],
      "text/plain": [
       "         date  hour  obs_count\n",
       "0  2019-09-09     0          0\n",
       "1  2019-09-09     1          0"
      ]
     },
     "execution_count": 31,
     "metadata": {},
     "output_type": "execute_result"
    }
   ],
   "source": [
    "object_detections = pd.read_csv('../Datasets/Person_no_outliers__2019-09-09_2020-03-02.csv')\n",
    "print(object_detections.shape)\n",
    "object_detections.head(2)"
   ]
  },
  {
   "cell_type": "markdown",
   "metadata": {},
   "source": [
    "### Discuss approach\n",
    "\n",
    "Even though the dataset above looks very simple, we can not forget how difficult it was to collect it and prepare for further processing.\n",
    "\n",
    "Based on the date column alone we can extract some interesting features, like:\n",
    "- month\n",
    "- week number\n",
    "- is it a weekend day\n",
    "\n",
    "Then the idea is to connect it with the weather data extracted from the Dark Sky API.\n",
    "\n",
    "Once all the features are prepared, we can save the dataset again and move on to another Notebook, where we will create a prediction model, which will predict an object count for a given date and weather situation."
   ]
  },
  {
   "cell_type": "code",
   "execution_count": 32,
   "metadata": {},
   "outputs": [
    {
     "data": {
      "text/html": [
       "<div>\n",
       "<style scoped>\n",
       "    .dataframe tbody tr th:only-of-type {\n",
       "        vertical-align: middle;\n",
       "    }\n",
       "\n",
       "    .dataframe tbody tr th {\n",
       "        vertical-align: top;\n",
       "    }\n",
       "\n",
       "    .dataframe thead th {\n",
       "        text-align: right;\n",
       "    }\n",
       "</style>\n",
       "<table border=\"1\" class=\"dataframe\">\n",
       "  <thead>\n",
       "    <tr style=\"text-align: right;\">\n",
       "      <th></th>\n",
       "      <th>date</th>\n",
       "      <th>hour</th>\n",
       "      <th>obs_count</th>\n",
       "      <th>n_month</th>\n",
       "      <th>n_week_in_month</th>\n",
       "      <th>day_of_week</th>\n",
       "      <th>day_of_week_name</th>\n",
       "      <th>is_weekend_day</th>\n",
       "    </tr>\n",
       "  </thead>\n",
       "  <tbody>\n",
       "    <tr>\n",
       "      <th>0</th>\n",
       "      <td>2019-09-09</td>\n",
       "      <td>0</td>\n",
       "      <td>0</td>\n",
       "      <td>9</td>\n",
       "      <td>2</td>\n",
       "      <td>0</td>\n",
       "      <td>Monday</td>\n",
       "      <td>0</td>\n",
       "    </tr>\n",
       "    <tr>\n",
       "      <th>1</th>\n",
       "      <td>2019-09-09</td>\n",
       "      <td>1</td>\n",
       "      <td>0</td>\n",
       "      <td>9</td>\n",
       "      <td>2</td>\n",
       "      <td>0</td>\n",
       "      <td>Monday</td>\n",
       "      <td>0</td>\n",
       "    </tr>\n",
       "  </tbody>\n",
       "</table>\n",
       "</div>"
      ],
      "text/plain": [
       "        date  hour  obs_count  n_month  n_week_in_month  day_of_week day_of_week_name  is_weekend_day\n",
       "0 2019-09-09     0          0        9                2            0           Monday               0\n",
       "1 2019-09-09     1          0        9                2            0           Monday               0"
      ]
     },
     "execution_count": 32,
     "metadata": {},
     "output_type": "execute_result"
    }
   ],
   "source": [
    "# add date-time related features\n",
    "object_detections['date'] = pd.to_datetime(object_detections['date'])\n",
    "object_detections['n_month'] = object_detections['date'].dt.month\n",
    "object_detections['n_week_in_month'] = (object_detections['date'].dt.day-1)//7+1\n",
    "object_detections['day_of_week'] = object_detections['date'].dt.dayofweek\n",
    "object_detections['day_of_week_name'] = object_detections['date'].dt.weekday_name\n",
    "object_detections['is_weekend_day'] = ((object_detections['date'].dt.dayofweek) // 5 == 1).astype(int)\n",
    "object_detections.head(2)"
   ]
  },
  {
   "cell_type": "code",
   "execution_count": 33,
   "metadata": {},
   "outputs": [
    {
     "data": {
      "text/html": [
       "<div>\n",
       "<style scoped>\n",
       "    .dataframe tbody tr th:only-of-type {\n",
       "        vertical-align: middle;\n",
       "    }\n",
       "\n",
       "    .dataframe tbody tr th {\n",
       "        vertical-align: top;\n",
       "    }\n",
       "\n",
       "    .dataframe thead th {\n",
       "        text-align: right;\n",
       "    }\n",
       "</style>\n",
       "<table border=\"1\" class=\"dataframe\">\n",
       "  <thead>\n",
       "    <tr style=\"text-align: right;\">\n",
       "      <th></th>\n",
       "      <th>ts</th>\n",
       "      <th>dt</th>\n",
       "      <th>cur__summary</th>\n",
       "      <th>cur__precipIntensity</th>\n",
       "      <th>cur__precipProbability</th>\n",
       "      <th>cur__precipType</th>\n",
       "      <th>cur__temperature</th>\n",
       "      <th>cur__apparentTemperature</th>\n",
       "      <th>cur__humidity</th>\n",
       "      <th>cur__windSpeed</th>\n",
       "      <th>cur__windGust</th>\n",
       "      <th>cur__windBearing</th>\n",
       "      <th>cur__cloudCover</th>\n",
       "      <th>cur__uvIndex</th>\n",
       "      <th>cur__visibility</th>\n",
       "      <th>daily__summary</th>\n",
       "      <th>daily__sunriseTime</th>\n",
       "      <th>daily__sunsetTime</th>\n",
       "      <th>daily__temperatureHigh</th>\n",
       "      <th>daily__temperatureLow</th>\n",
       "    </tr>\n",
       "  </thead>\n",
       "  <tbody>\n",
       "    <tr>\n",
       "      <th>0</th>\n",
       "      <td>1567985400</td>\n",
       "      <td>2019-09-09 00:30:00</td>\n",
       "      <td>Possible Light Rain</td>\n",
       "      <td>0.7929</td>\n",
       "      <td>0.47</td>\n",
       "      <td>rain</td>\n",
       "      <td>14.06</td>\n",
       "      <td>14.08</td>\n",
       "      <td>0.96</td>\n",
       "      <td>21.30</td>\n",
       "      <td>35.13</td>\n",
       "      <td>241</td>\n",
       "      <td>0.99</td>\n",
       "      <td>0</td>\n",
       "      <td>10.796</td>\n",
       "      <td>Possible drizzle in the morning.</td>\n",
       "      <td>1568008740</td>\n",
       "      <td>1568055900</td>\n",
       "      <td>16.6</td>\n",
       "      <td>7.01</td>\n",
       "    </tr>\n",
       "    <tr>\n",
       "      <th>1</th>\n",
       "      <td>1567989000</td>\n",
       "      <td>2019-09-09 01:30:00</td>\n",
       "      <td>Possible Light Rain</td>\n",
       "      <td>0.8310</td>\n",
       "      <td>0.45</td>\n",
       "      <td>rain</td>\n",
       "      <td>13.99</td>\n",
       "      <td>13.99</td>\n",
       "      <td>0.93</td>\n",
       "      <td>22.49</td>\n",
       "      <td>35.87</td>\n",
       "      <td>215</td>\n",
       "      <td>0.96</td>\n",
       "      <td>0</td>\n",
       "      <td>10.945</td>\n",
       "      <td>Possible drizzle in the morning.</td>\n",
       "      <td>1568008740</td>\n",
       "      <td>1568055900</td>\n",
       "      <td>16.6</td>\n",
       "      <td>7.01</td>\n",
       "    </tr>\n",
       "  </tbody>\n",
       "</table>\n",
       "</div>"
      ],
      "text/plain": [
       "           ts                   dt         cur__summary  cur__precipIntensity  cur__precipProbability cur__precipType  cur__temperature  cur__apparentTemperature  cur__humidity  cur__windSpeed  cur__windGust  cur__windBearing  cur__cloudCover  cur__uvIndex  cur__visibility                    daily__summary  daily__sunriseTime  daily__sunsetTime  daily__temperatureHigh  daily__temperatureLow\n",
       "0  1567985400  2019-09-09 00:30:00  Possible Light Rain                0.7929                    0.47            rain             14.06                     14.08           0.96           21.30          35.13               241             0.99             0           10.796  Possible drizzle in the morning.          1568008740         1568055900                    16.6                   7.01\n",
       "1  1567989000  2019-09-09 01:30:00  Possible Light Rain                0.8310                    0.45            rain             13.99                     13.99           0.93           22.49          35.87               215             0.96             0           10.945  Possible drizzle in the morning.          1568008740         1568055900                    16.6                   7.01"
      ]
     },
     "execution_count": 33,
     "metadata": {},
     "output_type": "execute_result"
    }
   ],
   "source": [
    "# load weather data\n",
    "weather = pd.read_csv('../Datasets/dark_sky_data_2019-09-09_2020-03-02.csv')\n",
    "weather.head(2)"
   ]
  },
  {
   "cell_type": "code",
   "execution_count": 34,
   "metadata": {},
   "outputs": [
    {
     "data": {
      "text/html": [
       "<div>\n",
       "<style scoped>\n",
       "    .dataframe tbody tr th:only-of-type {\n",
       "        vertical-align: middle;\n",
       "    }\n",
       "\n",
       "    .dataframe tbody tr th {\n",
       "        vertical-align: top;\n",
       "    }\n",
       "\n",
       "    .dataframe thead th {\n",
       "        text-align: right;\n",
       "    }\n",
       "</style>\n",
       "<table border=\"1\" class=\"dataframe\">\n",
       "  <thead>\n",
       "    <tr style=\"text-align: right;\">\n",
       "      <th></th>\n",
       "      <th>dt</th>\n",
       "      <th>date</th>\n",
       "      <th>hour</th>\n",
       "    </tr>\n",
       "  </thead>\n",
       "  <tbody>\n",
       "    <tr>\n",
       "      <th>0</th>\n",
       "      <td>2019-09-09 00:30:00</td>\n",
       "      <td>2019-09-09</td>\n",
       "      <td>0</td>\n",
       "    </tr>\n",
       "    <tr>\n",
       "      <th>1</th>\n",
       "      <td>2019-09-09 01:30:00</td>\n",
       "      <td>2019-09-09</td>\n",
       "      <td>1</td>\n",
       "    </tr>\n",
       "  </tbody>\n",
       "</table>\n",
       "</div>"
      ],
      "text/plain": [
       "                   dt       date  hour\n",
       "0 2019-09-09 00:30:00 2019-09-09     0\n",
       "1 2019-09-09 01:30:00 2019-09-09     1"
      ]
     },
     "execution_count": 34,
     "metadata": {},
     "output_type": "execute_result"
    }
   ],
   "source": [
    "# add date-time related features, so we can merge the datasets together\n",
    "weather['dt'] = pd.to_datetime(weather['dt'])\n",
    "weather['date'] = weather['dt'].dt.date\n",
    "weather['date'] = pd.to_datetime(weather['date'])\n",
    "weather['hour'] = weather['dt'].dt.hour\n",
    "\n",
    "check_cols = ['dt', 'date', 'hour']\n",
    "weather[check_cols].head(2)"
   ]
  },
  {
   "cell_type": "code",
   "execution_count": 35,
   "metadata": {},
   "outputs": [],
   "source": [
    "# join detections and weather data\n",
    "merged = object_detections.merge(weather, on=['date', 'hour'])"
   ]
  },
  {
   "cell_type": "code",
   "execution_count": 36,
   "metadata": {},
   "outputs": [],
   "source": [
    "# make sure that we have not lost any observations\n",
    "assert object_detections.shape[0] == merged.shape[0]"
   ]
  },
  {
   "cell_type": "markdown",
   "metadata": {},
   "source": [
    "#### How good are the features?\n",
    "\n",
    "Now that we have merged the counts and weather datasets, we can explore the relationships in the data."
   ]
  },
  {
   "cell_type": "code",
   "execution_count": 69,
   "metadata": {},
   "outputs": [
    {
     "data": {
      "text/html": [
       "<div>\n",
       "<style scoped>\n",
       "    .dataframe tbody tr th:only-of-type {\n",
       "        vertical-align: middle;\n",
       "    }\n",
       "\n",
       "    .dataframe tbody tr th {\n",
       "        vertical-align: top;\n",
       "    }\n",
       "\n",
       "    .dataframe thead th {\n",
       "        text-align: right;\n",
       "    }\n",
       "</style>\n",
       "<table border=\"1\" class=\"dataframe\">\n",
       "  <thead>\n",
       "    <tr style=\"text-align: right;\">\n",
       "      <th></th>\n",
       "      <th>date</th>\n",
       "      <th>hour</th>\n",
       "      <th>obs_count</th>\n",
       "      <th>n_month</th>\n",
       "      <th>n_week_in_month</th>\n",
       "      <th>day_of_week</th>\n",
       "      <th>day_of_week_name</th>\n",
       "      <th>is_weekend_day</th>\n",
       "      <th>ts</th>\n",
       "      <th>dt</th>\n",
       "      <th>cur__summary</th>\n",
       "      <th>cur__precipIntensity</th>\n",
       "      <th>cur__precipProbability</th>\n",
       "      <th>cur__precipType</th>\n",
       "      <th>cur__temperature</th>\n",
       "      <th>cur__apparentTemperature</th>\n",
       "      <th>cur__humidity</th>\n",
       "      <th>cur__windSpeed</th>\n",
       "      <th>cur__windGust</th>\n",
       "      <th>cur__windBearing</th>\n",
       "      <th>cur__cloudCover</th>\n",
       "      <th>cur__uvIndex</th>\n",
       "      <th>cur__visibility</th>\n",
       "      <th>daily__summary</th>\n",
       "      <th>daily__sunriseTime</th>\n",
       "      <th>daily__sunsetTime</th>\n",
       "      <th>daily__temperatureHigh</th>\n",
       "      <th>daily__temperatureLow</th>\n",
       "    </tr>\n",
       "  </thead>\n",
       "  <tbody>\n",
       "    <tr>\n",
       "      <th>0</th>\n",
       "      <td>2019-09-09</td>\n",
       "      <td>0</td>\n",
       "      <td>0</td>\n",
       "      <td>9</td>\n",
       "      <td>2</td>\n",
       "      <td>0</td>\n",
       "      <td>Monday</td>\n",
       "      <td>0</td>\n",
       "      <td>1567985400</td>\n",
       "      <td>2019-09-09 00:30:00</td>\n",
       "      <td>Possible Light Rain</td>\n",
       "      <td>0.7929</td>\n",
       "      <td>0.47</td>\n",
       "      <td>rain</td>\n",
       "      <td>14.06</td>\n",
       "      <td>14.08</td>\n",
       "      <td>0.96</td>\n",
       "      <td>21.30</td>\n",
       "      <td>35.13</td>\n",
       "      <td>241</td>\n",
       "      <td>0.99</td>\n",
       "      <td>0</td>\n",
       "      <td>10.796</td>\n",
       "      <td>Possible drizzle in the morning.</td>\n",
       "      <td>1568008740</td>\n",
       "      <td>1568055900</td>\n",
       "      <td>16.6</td>\n",
       "      <td>7.01</td>\n",
       "    </tr>\n",
       "    <tr>\n",
       "      <th>1</th>\n",
       "      <td>2019-09-09</td>\n",
       "      <td>1</td>\n",
       "      <td>0</td>\n",
       "      <td>9</td>\n",
       "      <td>2</td>\n",
       "      <td>0</td>\n",
       "      <td>Monday</td>\n",
       "      <td>0</td>\n",
       "      <td>1567989000</td>\n",
       "      <td>2019-09-09 01:30:00</td>\n",
       "      <td>Possible Light Rain</td>\n",
       "      <td>0.8310</td>\n",
       "      <td>0.45</td>\n",
       "      <td>rain</td>\n",
       "      <td>13.99</td>\n",
       "      <td>13.99</td>\n",
       "      <td>0.93</td>\n",
       "      <td>22.49</td>\n",
       "      <td>35.87</td>\n",
       "      <td>215</td>\n",
       "      <td>0.96</td>\n",
       "      <td>0</td>\n",
       "      <td>10.945</td>\n",
       "      <td>Possible drizzle in the morning.</td>\n",
       "      <td>1568008740</td>\n",
       "      <td>1568055900</td>\n",
       "      <td>16.6</td>\n",
       "      <td>7.01</td>\n",
       "    </tr>\n",
       "  </tbody>\n",
       "</table>\n",
       "</div>"
      ],
      "text/plain": [
       "        date  hour  obs_count  n_month  n_week_in_month  day_of_week day_of_week_name  is_weekend_day          ts                  dt         cur__summary  cur__precipIntensity  cur__precipProbability cur__precipType  cur__temperature  cur__apparentTemperature  cur__humidity  cur__windSpeed  cur__windGust  cur__windBearing  cur__cloudCover  cur__uvIndex  cur__visibility                    daily__summary  daily__sunriseTime  daily__sunsetTime  daily__temperatureHigh  daily__temperatureLow\n",
       "0 2019-09-09     0          0        9                2            0           Monday               0  1567985400 2019-09-09 00:30:00  Possible Light Rain                0.7929                    0.47            rain             14.06                     14.08           0.96           21.30          35.13               241             0.99             0           10.796  Possible drizzle in the morning.          1568008740         1568055900                    16.6                   7.01\n",
       "1 2019-09-09     1          0        9                2            0           Monday               0  1567989000 2019-09-09 01:30:00  Possible Light Rain                0.8310                    0.45            rain             13.99                     13.99           0.93           22.49          35.87               215             0.96             0           10.945  Possible drizzle in the morning.          1568008740         1568055900                    16.6                   7.01"
      ]
     },
     "execution_count": 69,
     "metadata": {},
     "output_type": "execute_result"
    }
   ],
   "source": [
    "merged.head(2)"
   ]
  },
  {
   "cell_type": "code",
   "execution_count": 75,
   "metadata": {},
   "outputs": [],
   "source": [
    "def hr_range(from_hr, to_hr):\n",
    "    idx = (merged['hour'] >= from_hr) & (merged['hour'] <= to_hr)\n",
    "    return merged.loc[idx]"
   ]
  },
  {
   "cell_type": "markdown",
   "metadata": {},
   "source": [
    "In the morning hours, it should be much more quiet during the weekends.\n",
    "\n",
    "This can be observed in the plot below, from 6AM to 9AM, there is much higher probability to see nothing for an hour over the weekend.\n",
    "\n",
    "It makes sense as people tend to sleep longer."
   ]
  },
  {
   "cell_type": "code",
   "execution_count": 78,
   "metadata": {},
   "outputs": [
    {
     "data": {
      "application/vnd.plotly.v1+json": {
       "config": {
        "plotlyServerURL": "https://plot.ly"
       },
       "data": [
        {
         "alignmentgroup": "True",
         "bingroup": "x",
         "histnorm": "probability density",
         "hovertemplate": "is_weekend_day=0<br>obs_count=%{x}<br>count=%{y}<extra></extra>",
         "legendgroup": "0",
         "marker": {
          "color": "#636efa",
          "opacity": 0.7
         },
         "name": "0",
         "offsetgroup": "0",
         "orientation": "v",
         "showlegend": true,
         "type": "histogram",
         "x": [
          0,
          2,
          3,
          1,
          2,
          5,
          0,
          1,
          2,
          2,
          2,
          3,
          1,
          2,
          0,
          0,
          1,
          5,
          1,
          0,
          3,
          3,
          0,
          0,
          1,
          3,
          0,
          1,
          3,
          0,
          1,
          1,
          1,
          2,
          0,
          2,
          2,
          1,
          1,
          2,
          2,
          0,
          0,
          1,
          3,
          2,
          1,
          1,
          4,
          1,
          0,
          1,
          2,
          1,
          0,
          0,
          6,
          1,
          2,
          1,
          0,
          0,
          2,
          1,
          2,
          2,
          1,
          2,
          2,
          0,
          1,
          4,
          0,
          2,
          1,
          3,
          0,
          2,
          1,
          3,
          2,
          0,
          2,
          4,
          3,
          1,
          2,
          3,
          0,
          0,
          1,
          3,
          2,
          2,
          1,
          3,
          0,
          1,
          0,
          5,
          0,
          0,
          3,
          2,
          5,
          1,
          1,
          3,
          1,
          1,
          1,
          2,
          0,
          0,
          1,
          4,
          0,
          0,
          3,
          2,
          0,
          0,
          3,
          2,
          2,
          1,
          4,
          1,
          2,
          0,
          2,
          4,
          0,
          0,
          1,
          0,
          0,
          2,
          2,
          0,
          2,
          3,
          3,
          0,
          0,
          3,
          0,
          0,
          0,
          3,
          1,
          0,
          2,
          1,
          3,
          0,
          0,
          1,
          1,
          1,
          2,
          1,
          5,
          2,
          1,
          0,
          3,
          1,
          0,
          1,
          1,
          0,
          0,
          0,
          1,
          4,
          0,
          1,
          1,
          2,
          2,
          0,
          1,
          3,
          0,
          2,
          0,
          0,
          0,
          1,
          1,
          1,
          2,
          1,
          2,
          2,
          3,
          3,
          4,
          2,
          2,
          2,
          0,
          0,
          2,
          2,
          1,
          0,
          2,
          2,
          0,
          2,
          1,
          2,
          0,
          1,
          0,
          3,
          0,
          0,
          1,
          2,
          2,
          0,
          2,
          1,
          3,
          1,
          1,
          3,
          6,
          2,
          1,
          3,
          1,
          2,
          0,
          3,
          2,
          3,
          2,
          1,
          0,
          1,
          1,
          2,
          0,
          1,
          0,
          1,
          0,
          0,
          1,
          1,
          0,
          0,
          0,
          3,
          1,
          0,
          1,
          1,
          1,
          1,
          2,
          1,
          0,
          2,
          1,
          1,
          3,
          1,
          1,
          2,
          2,
          0,
          2,
          3,
          0,
          1,
          0,
          5,
          0,
          1,
          0,
          0,
          1,
          1,
          0,
          2,
          1,
          1,
          3,
          2,
          1,
          0,
          0,
          0,
          3,
          0,
          0,
          8,
          2,
          0,
          0,
          1,
          4,
          0,
          0,
          2,
          1,
          0,
          0,
          1,
          5,
          0,
          2,
          0,
          3,
          0,
          0,
          0,
          2,
          0,
          0,
          0,
          2,
          0,
          1,
          1,
          2,
          1,
          1,
          0,
          2,
          0,
          1,
          0,
          2,
          0,
          1,
          2,
          6,
          1,
          1,
          3,
          0,
          0,
          3,
          1,
          4,
          1,
          1,
          1,
          1,
          2,
          0,
          3,
          4,
          0,
          0,
          2,
          5,
          1,
          1,
          3,
          0,
          0,
          0,
          6,
          1,
          0,
          1,
          2,
          1,
          1,
          1,
          2,
          2,
          0,
          0,
          4,
          1,
          0,
          0,
          1,
          2,
          1,
          3,
          4,
          2,
          0,
          1,
          2,
          3,
          0,
          1,
          0,
          3,
          0,
          1,
          3,
          0,
          0,
          0,
          2,
          1,
          0,
          2,
          4,
          0,
          0,
          1,
          2,
          0,
          1,
          1,
          1,
          1,
          0,
          6,
          1,
          1,
          1,
          1,
          0,
          1,
          2,
          3,
          0,
          2,
          2,
          6,
          0,
          1,
          3,
          3,
          0,
          1,
          2,
          2,
          1,
          3,
          1,
          1,
          1,
          2,
          1,
          0,
          2,
          1,
          2,
          0,
          1,
          0,
          2,
          1,
          1,
          2,
          0,
          0,
          1,
          2,
          4,
          0,
          2,
          2,
          1,
          2,
          2,
          1,
          0,
          1,
          4,
          1,
          4,
          1,
          1,
          3,
          4,
          2
         ],
         "xaxis": "x",
         "yaxis": "y"
        },
        {
         "alignmentgroup": "True",
         "bingroup": "x",
         "histnorm": "probability density",
         "hovertemplate": "is_weekend_day=1<br>obs_count=%{x}<br>count=%{y}<extra></extra>",
         "legendgroup": "1",
         "marker": {
          "color": "#EF553B",
          "opacity": 0.7
         },
         "name": "1",
         "offsetgroup": "1",
         "orientation": "v",
         "showlegend": true,
         "type": "histogram",
         "x": [
          0,
          0,
          2,
          1,
          0,
          3,
          0,
          5,
          0,
          2,
          1,
          2,
          0,
          0,
          2,
          0,
          0,
          0,
          2,
          3,
          0,
          0,
          0,
          1,
          0,
          0,
          2,
          0,
          0,
          0,
          2,
          1,
          0,
          0,
          4,
          3,
          0,
          0,
          1,
          2,
          0,
          0,
          1,
          0,
          0,
          0,
          0,
          0,
          0,
          0,
          1,
          3,
          0,
          1,
          2,
          5,
          0,
          0,
          2,
          2,
          0,
          0,
          3,
          2,
          0,
          0,
          1,
          3,
          0,
          0,
          1,
          0,
          0,
          1,
          0,
          1,
          0,
          0,
          4,
          1,
          0,
          0,
          3,
          1,
          0,
          0,
          1,
          3,
          0,
          0,
          1,
          1,
          0,
          0,
          3,
          6,
          0,
          0,
          2,
          4,
          0,
          0,
          2,
          2,
          0,
          0,
          0,
          1,
          0,
          0,
          0,
          0,
          0,
          0,
          2,
          3,
          0,
          0,
          0,
          4,
          0,
          0,
          0,
          1,
          0,
          0,
          0,
          1,
          0,
          0,
          2,
          4,
          0,
          0,
          0,
          0,
          0,
          0,
          1,
          4,
          0,
          0,
          2,
          1,
          0,
          1,
          1,
          1,
          0,
          0,
          1,
          0,
          0,
          0,
          0,
          2,
          0,
          0,
          0,
          1,
          0,
          0,
          1,
          1,
          0,
          0,
          0,
          2,
          0,
          0,
          3,
          2,
          0,
          0,
          0,
          0,
          0,
          0,
          0,
          1,
          0,
          0,
          0,
          0,
          0,
          1,
          1,
          2,
          0,
          0,
          0,
          1,
          0,
          0,
          4,
          3,
          0,
          0,
          2,
          3
         ],
         "xaxis": "x",
         "yaxis": "y"
        }
       ],
       "layout": {
        "autosize": true,
        "barmode": "group",
        "legend": {
         "title": {
          "text": "is_weekend_day"
         },
         "tracegroupgap": 0
        },
        "margin": {
         "t": 60
        },
        "template": {
         "data": {
          "bar": [
           {
            "error_x": {
             "color": "#f2f5fa"
            },
            "error_y": {
             "color": "#f2f5fa"
            },
            "marker": {
             "line": {
              "color": "rgb(17,17,17)",
              "width": 0.5
             }
            },
            "type": "bar"
           }
          ],
          "barpolar": [
           {
            "marker": {
             "line": {
              "color": "rgb(17,17,17)",
              "width": 0.5
             }
            },
            "type": "barpolar"
           }
          ],
          "carpet": [
           {
            "aaxis": {
             "endlinecolor": "#A2B1C6",
             "gridcolor": "#506784",
             "linecolor": "#506784",
             "minorgridcolor": "#506784",
             "startlinecolor": "#A2B1C6"
            },
            "baxis": {
             "endlinecolor": "#A2B1C6",
             "gridcolor": "#506784",
             "linecolor": "#506784",
             "minorgridcolor": "#506784",
             "startlinecolor": "#A2B1C6"
            },
            "type": "carpet"
           }
          ],
          "choropleth": [
           {
            "colorbar": {
             "outlinewidth": 0,
             "ticks": ""
            },
            "type": "choropleth"
           }
          ],
          "contour": [
           {
            "colorbar": {
             "outlinewidth": 0,
             "ticks": ""
            },
            "colorscale": [
             [
              0,
              "#0d0887"
             ],
             [
              0.1111111111111111,
              "#46039f"
             ],
             [
              0.2222222222222222,
              "#7201a8"
             ],
             [
              0.3333333333333333,
              "#9c179e"
             ],
             [
              0.4444444444444444,
              "#bd3786"
             ],
             [
              0.5555555555555556,
              "#d8576b"
             ],
             [
              0.6666666666666666,
              "#ed7953"
             ],
             [
              0.7777777777777778,
              "#fb9f3a"
             ],
             [
              0.8888888888888888,
              "#fdca26"
             ],
             [
              1,
              "#f0f921"
             ]
            ],
            "type": "contour"
           }
          ],
          "contourcarpet": [
           {
            "colorbar": {
             "outlinewidth": 0,
             "ticks": ""
            },
            "type": "contourcarpet"
           }
          ],
          "heatmap": [
           {
            "colorbar": {
             "outlinewidth": 0,
             "ticks": ""
            },
            "colorscale": [
             [
              0,
              "#0d0887"
             ],
             [
              0.1111111111111111,
              "#46039f"
             ],
             [
              0.2222222222222222,
              "#7201a8"
             ],
             [
              0.3333333333333333,
              "#9c179e"
             ],
             [
              0.4444444444444444,
              "#bd3786"
             ],
             [
              0.5555555555555556,
              "#d8576b"
             ],
             [
              0.6666666666666666,
              "#ed7953"
             ],
             [
              0.7777777777777778,
              "#fb9f3a"
             ],
             [
              0.8888888888888888,
              "#fdca26"
             ],
             [
              1,
              "#f0f921"
             ]
            ],
            "type": "heatmap"
           }
          ],
          "heatmapgl": [
           {
            "colorbar": {
             "outlinewidth": 0,
             "ticks": ""
            },
            "colorscale": [
             [
              0,
              "#0d0887"
             ],
             [
              0.1111111111111111,
              "#46039f"
             ],
             [
              0.2222222222222222,
              "#7201a8"
             ],
             [
              0.3333333333333333,
              "#9c179e"
             ],
             [
              0.4444444444444444,
              "#bd3786"
             ],
             [
              0.5555555555555556,
              "#d8576b"
             ],
             [
              0.6666666666666666,
              "#ed7953"
             ],
             [
              0.7777777777777778,
              "#fb9f3a"
             ],
             [
              0.8888888888888888,
              "#fdca26"
             ],
             [
              1,
              "#f0f921"
             ]
            ],
            "type": "heatmapgl"
           }
          ],
          "histogram": [
           {
            "marker": {
             "colorbar": {
              "outlinewidth": 0,
              "ticks": ""
             }
            },
            "type": "histogram"
           }
          ],
          "histogram2d": [
           {
            "colorbar": {
             "outlinewidth": 0,
             "ticks": ""
            },
            "colorscale": [
             [
              0,
              "#0d0887"
             ],
             [
              0.1111111111111111,
              "#46039f"
             ],
             [
              0.2222222222222222,
              "#7201a8"
             ],
             [
              0.3333333333333333,
              "#9c179e"
             ],
             [
              0.4444444444444444,
              "#bd3786"
             ],
             [
              0.5555555555555556,
              "#d8576b"
             ],
             [
              0.6666666666666666,
              "#ed7953"
             ],
             [
              0.7777777777777778,
              "#fb9f3a"
             ],
             [
              0.8888888888888888,
              "#fdca26"
             ],
             [
              1,
              "#f0f921"
             ]
            ],
            "type": "histogram2d"
           }
          ],
          "histogram2dcontour": [
           {
            "colorbar": {
             "outlinewidth": 0,
             "ticks": ""
            },
            "colorscale": [
             [
              0,
              "#0d0887"
             ],
             [
              0.1111111111111111,
              "#46039f"
             ],
             [
              0.2222222222222222,
              "#7201a8"
             ],
             [
              0.3333333333333333,
              "#9c179e"
             ],
             [
              0.4444444444444444,
              "#bd3786"
             ],
             [
              0.5555555555555556,
              "#d8576b"
             ],
             [
              0.6666666666666666,
              "#ed7953"
             ],
             [
              0.7777777777777778,
              "#fb9f3a"
             ],
             [
              0.8888888888888888,
              "#fdca26"
             ],
             [
              1,
              "#f0f921"
             ]
            ],
            "type": "histogram2dcontour"
           }
          ],
          "mesh3d": [
           {
            "colorbar": {
             "outlinewidth": 0,
             "ticks": ""
            },
            "type": "mesh3d"
           }
          ],
          "parcoords": [
           {
            "line": {
             "colorbar": {
              "outlinewidth": 0,
              "ticks": ""
             }
            },
            "type": "parcoords"
           }
          ],
          "pie": [
           {
            "automargin": true,
            "type": "pie"
           }
          ],
          "scatter": [
           {
            "marker": {
             "line": {
              "color": "#283442"
             }
            },
            "type": "scatter"
           }
          ],
          "scatter3d": [
           {
            "line": {
             "colorbar": {
              "outlinewidth": 0,
              "ticks": ""
             }
            },
            "marker": {
             "colorbar": {
              "outlinewidth": 0,
              "ticks": ""
             }
            },
            "type": "scatter3d"
           }
          ],
          "scattercarpet": [
           {
            "marker": {
             "colorbar": {
              "outlinewidth": 0,
              "ticks": ""
             }
            },
            "type": "scattercarpet"
           }
          ],
          "scattergeo": [
           {
            "marker": {
             "colorbar": {
              "outlinewidth": 0,
              "ticks": ""
             }
            },
            "type": "scattergeo"
           }
          ],
          "scattergl": [
           {
            "marker": {
             "line": {
              "color": "#283442"
             }
            },
            "type": "scattergl"
           }
          ],
          "scattermapbox": [
           {
            "marker": {
             "colorbar": {
              "outlinewidth": 0,
              "ticks": ""
             }
            },
            "type": "scattermapbox"
           }
          ],
          "scatterpolar": [
           {
            "marker": {
             "colorbar": {
              "outlinewidth": 0,
              "ticks": ""
             }
            },
            "type": "scatterpolar"
           }
          ],
          "scatterpolargl": [
           {
            "marker": {
             "colorbar": {
              "outlinewidth": 0,
              "ticks": ""
             }
            },
            "type": "scatterpolargl"
           }
          ],
          "scatterternary": [
           {
            "marker": {
             "colorbar": {
              "outlinewidth": 0,
              "ticks": ""
             }
            },
            "type": "scatterternary"
           }
          ],
          "surface": [
           {
            "colorbar": {
             "outlinewidth": 0,
             "ticks": ""
            },
            "colorscale": [
             [
              0,
              "#0d0887"
             ],
             [
              0.1111111111111111,
              "#46039f"
             ],
             [
              0.2222222222222222,
              "#7201a8"
             ],
             [
              0.3333333333333333,
              "#9c179e"
             ],
             [
              0.4444444444444444,
              "#bd3786"
             ],
             [
              0.5555555555555556,
              "#d8576b"
             ],
             [
              0.6666666666666666,
              "#ed7953"
             ],
             [
              0.7777777777777778,
              "#fb9f3a"
             ],
             [
              0.8888888888888888,
              "#fdca26"
             ],
             [
              1,
              "#f0f921"
             ]
            ],
            "type": "surface"
           }
          ],
          "table": [
           {
            "cells": {
             "fill": {
              "color": "#506784"
             },
             "line": {
              "color": "rgb(17,17,17)"
             }
            },
            "header": {
             "fill": {
              "color": "#2a3f5f"
             },
             "line": {
              "color": "rgb(17,17,17)"
             }
            },
            "type": "table"
           }
          ]
         },
         "layout": {
          "annotationdefaults": {
           "arrowcolor": "#f2f5fa",
           "arrowhead": 0,
           "arrowwidth": 1
          },
          "coloraxis": {
           "colorbar": {
            "outlinewidth": 0,
            "ticks": ""
           }
          },
          "colorscale": {
           "diverging": [
            [
             0,
             "#8e0152"
            ],
            [
             0.1,
             "#c51b7d"
            ],
            [
             0.2,
             "#de77ae"
            ],
            [
             0.3,
             "#f1b6da"
            ],
            [
             0.4,
             "#fde0ef"
            ],
            [
             0.5,
             "#f7f7f7"
            ],
            [
             0.6,
             "#e6f5d0"
            ],
            [
             0.7,
             "#b8e186"
            ],
            [
             0.8,
             "#7fbc41"
            ],
            [
             0.9,
             "#4d9221"
            ],
            [
             1,
             "#276419"
            ]
           ],
           "sequential": [
            [
             0,
             "#0d0887"
            ],
            [
             0.1111111111111111,
             "#46039f"
            ],
            [
             0.2222222222222222,
             "#7201a8"
            ],
            [
             0.3333333333333333,
             "#9c179e"
            ],
            [
             0.4444444444444444,
             "#bd3786"
            ],
            [
             0.5555555555555556,
             "#d8576b"
            ],
            [
             0.6666666666666666,
             "#ed7953"
            ],
            [
             0.7777777777777778,
             "#fb9f3a"
            ],
            [
             0.8888888888888888,
             "#fdca26"
            ],
            [
             1,
             "#f0f921"
            ]
           ],
           "sequentialminus": [
            [
             0,
             "#0d0887"
            ],
            [
             0.1111111111111111,
             "#46039f"
            ],
            [
             0.2222222222222222,
             "#7201a8"
            ],
            [
             0.3333333333333333,
             "#9c179e"
            ],
            [
             0.4444444444444444,
             "#bd3786"
            ],
            [
             0.5555555555555556,
             "#d8576b"
            ],
            [
             0.6666666666666666,
             "#ed7953"
            ],
            [
             0.7777777777777778,
             "#fb9f3a"
            ],
            [
             0.8888888888888888,
             "#fdca26"
            ],
            [
             1,
             "#f0f921"
            ]
           ]
          },
          "colorway": [
           "#636efa",
           "#EF553B",
           "#00cc96",
           "#ab63fa",
           "#FFA15A",
           "#19d3f3",
           "#FF6692",
           "#B6E880",
           "#FF97FF",
           "#FECB52"
          ],
          "font": {
           "color": "#f2f5fa"
          },
          "geo": {
           "bgcolor": "rgb(17,17,17)",
           "lakecolor": "rgb(17,17,17)",
           "landcolor": "rgb(17,17,17)",
           "showlakes": true,
           "showland": true,
           "subunitcolor": "#506784"
          },
          "hoverlabel": {
           "align": "left"
          },
          "hovermode": "closest",
          "mapbox": {
           "style": "dark"
          },
          "paper_bgcolor": "rgb(17,17,17)",
          "plot_bgcolor": "rgb(17,17,17)",
          "polar": {
           "angularaxis": {
            "gridcolor": "#506784",
            "linecolor": "#506784",
            "ticks": ""
           },
           "bgcolor": "rgb(17,17,17)",
           "radialaxis": {
            "gridcolor": "#506784",
            "linecolor": "#506784",
            "ticks": ""
           }
          },
          "scene": {
           "xaxis": {
            "backgroundcolor": "rgb(17,17,17)",
            "gridcolor": "#506784",
            "gridwidth": 2,
            "linecolor": "#506784",
            "showbackground": true,
            "ticks": "",
            "zerolinecolor": "#C8D4E3"
           },
           "yaxis": {
            "backgroundcolor": "rgb(17,17,17)",
            "gridcolor": "#506784",
            "gridwidth": 2,
            "linecolor": "#506784",
            "showbackground": true,
            "ticks": "",
            "zerolinecolor": "#C8D4E3"
           },
           "zaxis": {
            "backgroundcolor": "rgb(17,17,17)",
            "gridcolor": "#506784",
            "gridwidth": 2,
            "linecolor": "#506784",
            "showbackground": true,
            "ticks": "",
            "zerolinecolor": "#C8D4E3"
           }
          },
          "shapedefaults": {
           "line": {
            "color": "#f2f5fa"
           }
          },
          "sliderdefaults": {
           "bgcolor": "#C8D4E3",
           "bordercolor": "rgb(17,17,17)",
           "borderwidth": 1,
           "tickwidth": 0
          },
          "ternary": {
           "aaxis": {
            "gridcolor": "#506784",
            "linecolor": "#506784",
            "ticks": ""
           },
           "baxis": {
            "gridcolor": "#506784",
            "linecolor": "#506784",
            "ticks": ""
           },
           "bgcolor": "rgb(17,17,17)",
           "caxis": {
            "gridcolor": "#506784",
            "linecolor": "#506784",
            "ticks": ""
           }
          },
          "title": {
           "x": 0.05
          },
          "updatemenudefaults": {
           "bgcolor": "#506784",
           "borderwidth": 0
          },
          "xaxis": {
           "automargin": true,
           "gridcolor": "#283442",
           "linecolor": "#506784",
           "ticks": "",
           "title": {
            "standoff": 15
           },
           "zerolinecolor": "#283442",
           "zerolinewidth": 2
          },
          "yaxis": {
           "automargin": true,
           "gridcolor": "#283442",
           "linecolor": "#506784",
           "ticks": "",
           "title": {
            "standoff": 15
           },
           "zerolinecolor": "#283442",
           "zerolinewidth": 2
          }
         }
        },
        "xaxis": {
         "anchor": "y",
         "autorange": true,
         "domain": [
          0,
          1
         ],
         "range": [
          -0.5,
          8.5
         ],
         "title": {
          "text": "obs_count"
         },
         "type": "linear"
        },
        "yaxis": {
         "anchor": "x",
         "autorange": true,
         "domain": [
          0,
          1
         ],
         "range": [
          0,
          0.6368421052631579
         ],
         "title": {
          "text": "count"
         }
        }
       }
      },
      "image/png": "[encoded data removed]",
      "text/html": [
       "<div>\n",
       "        \n",
       "        \n",
       "            <div id=\"86c89b8f-8b0c-4273-a9ed-34d5d221cfa1\" class=\"plotly-graph-div\" style=\"height:300px; width:100%;\"></div>\n",
       "            <script type=\"text/javascript\">\n",
       "                require([\"plotly\"], function(Plotly) {\n",
       "                    window.PLOTLYENV=window.PLOTLYENV || {};\n",
       "                    \n",
       "                if (document.getElementById(\"86c89b8f-8b0c-4273-a9ed-34d5d221cfa1\")) {\n",
       "                    Plotly.newPlot(\n",
       "                        '86c89b8f-8b0c-4273-a9ed-34d5d221cfa1',\n",
       "                        [{\"alignmentgroup\": \"True\", \"bingroup\": \"x\", \"histnorm\": \"probability density\", \"hovertemplate\": \"is_weekend_day=0<br>obs_count=%{x}<br>count=%{y}<extra></extra>\", \"legendgroup\": \"0\", \"marker\": {\"color\": \"#636efa\", \"opacity\": 0.7}, \"name\": \"0\", \"offsetgroup\": \"0\", \"orientation\": \"v\", \"showlegend\": true, \"type\": \"histogram\", \"x\": [0, 2, 3, 1, 2, 5, 0, 1, 2, 2, 2, 3, 1, 2, 0, 0, 1, 5, 1, 0, 3, 3, 0, 0, 1, 3, 0, 1, 3, 0, 1, 1, 1, 2, 0, 2, 2, 1, 1, 2, 2, 0, 0, 1, 3, 2, 1, 1, 4, 1, 0, 1, 2, 1, 0, 0, 6, 1, 2, 1, 0, 0, 2, 1, 2, 2, 1, 2, 2, 0, 1, 4, 0, 2, 1, 3, 0, 2, 1, 3, 2, 0, 2, 4, 3, 1, 2, 3, 0, 0, 1, 3, 2, 2, 1, 3, 0, 1, 0, 5, 0, 0, 3, 2, 5, 1, 1, 3, 1, 1, 1, 2, 0, 0, 1, 4, 0, 0, 3, 2, 0, 0, 3, 2, 2, 1, 4, 1, 2, 0, 2, 4, 0, 0, 1, 0, 0, 2, 2, 0, 2, 3, 3, 0, 0, 3, 0, 0, 0, 3, 1, 0, 2, 1, 3, 0, 0, 1, 1, 1, 2, 1, 5, 2, 1, 0, 3, 1, 0, 1, 1, 0, 0, 0, 1, 4, 0, 1, 1, 2, 2, 0, 1, 3, 0, 2, 0, 0, 0, 1, 1, 1, 2, 1, 2, 2, 3, 3, 4, 2, 2, 2, 0, 0, 2, 2, 1, 0, 2, 2, 0, 2, 1, 2, 0, 1, 0, 3, 0, 0, 1, 2, 2, 0, 2, 1, 3, 1, 1, 3, 6, 2, 1, 3, 1, 2, 0, 3, 2, 3, 2, 1, 0, 1, 1, 2, 0, 1, 0, 1, 0, 0, 1, 1, 0, 0, 0, 3, 1, 0, 1, 1, 1, 1, 2, 1, 0, 2, 1, 1, 3, 1, 1, 2, 2, 0, 2, 3, 0, 1, 0, 5, 0, 1, 0, 0, 1, 1, 0, 2, 1, 1, 3, 2, 1, 0, 0, 0, 3, 0, 0, 8, 2, 0, 0, 1, 4, 0, 0, 2, 1, 0, 0, 1, 5, 0, 2, 0, 3, 0, 0, 0, 2, 0, 0, 0, 2, 0, 1, 1, 2, 1, 1, 0, 2, 0, 1, 0, 2, 0, 1, 2, 6, 1, 1, 3, 0, 0, 3, 1, 4, 1, 1, 1, 1, 2, 0, 3, 4, 0, 0, 2, 5, 1, 1, 3, 0, 0, 0, 6, 1, 0, 1, 2, 1, 1, 1, 2, 2, 0, 0, 4, 1, 0, 0, 1, 2, 1, 3, 4, 2, 0, 1, 2, 3, 0, 1, 0, 3, 0, 1, 3, 0, 0, 0, 2, 1, 0, 2, 4, 0, 0, 1, 2, 0, 1, 1, 1, 1, 0, 6, 1, 1, 1, 1, 0, 1, 2, 3, 0, 2, 2, 6, 0, 1, 3, 3, 0, 1, 2, 2, 1, 3, 1, 1, 1, 2, 1, 0, 2, 1, 2, 0, 1, 0, 2, 1, 1, 2, 0, 0, 1, 2, 4, 0, 2, 2, 1, 2, 2, 1, 0, 1, 4, 1, 4, 1, 1, 3, 4, 2], \"xaxis\": \"x\", \"yaxis\": \"y\"}, {\"alignmentgroup\": \"True\", \"bingroup\": \"x\", \"histnorm\": \"probability density\", \"hovertemplate\": \"is_weekend_day=1<br>obs_count=%{x}<br>count=%{y}<extra></extra>\", \"legendgroup\": \"1\", \"marker\": {\"color\": \"#EF553B\", \"opacity\": 0.7}, \"name\": \"1\", \"offsetgroup\": \"1\", \"orientation\": \"v\", \"showlegend\": true, \"type\": \"histogram\", \"x\": [0, 0, 2, 1, 0, 3, 0, 5, 0, 2, 1, 2, 0, 0, 2, 0, 0, 0, 2, 3, 0, 0, 0, 1, 0, 0, 2, 0, 0, 0, 2, 1, 0, 0, 4, 3, 0, 0, 1, 2, 0, 0, 1, 0, 0, 0, 0, 0, 0, 0, 1, 3, 0, 1, 2, 5, 0, 0, 2, 2, 0, 0, 3, 2, 0, 0, 1, 3, 0, 0, 1, 0, 0, 1, 0, 1, 0, 0, 4, 1, 0, 0, 3, 1, 0, 0, 1, 3, 0, 0, 1, 1, 0, 0, 3, 6, 0, 0, 2, 4, 0, 0, 2, 2, 0, 0, 0, 1, 0, 0, 0, 0, 0, 0, 2, 3, 0, 0, 0, 4, 0, 0, 0, 1, 0, 0, 0, 1, 0, 0, 2, 4, 0, 0, 0, 0, 0, 0, 1, 4, 0, 0, 2, 1, 0, 1, 1, 1, 0, 0, 1, 0, 0, 0, 0, 2, 0, 0, 0, 1, 0, 0, 1, 1, 0, 0, 0, 2, 0, 0, 3, 2, 0, 0, 0, 0, 0, 0, 0, 1, 0, 0, 0, 0, 0, 1, 1, 2, 0, 0, 0, 1, 0, 0, 4, 3, 0, 0, 2, 3], \"xaxis\": \"x\", \"yaxis\": \"y\"}],\n",
       "                        {\"barmode\": \"group\", \"height\": 300, \"legend\": {\"title\": {\"text\": \"is_weekend_day\"}, \"tracegroupgap\": 0}, \"margin\": {\"t\": 60}, \"template\": {\"data\": {\"bar\": [{\"error_x\": {\"color\": \"#f2f5fa\"}, \"error_y\": {\"color\": \"#f2f5fa\"}, \"marker\": {\"line\": {\"color\": \"rgb(17,17,17)\", \"width\": 0.5}}, \"type\": \"bar\"}], \"barpolar\": [{\"marker\": {\"line\": {\"color\": \"rgb(17,17,17)\", \"width\": 0.5}}, \"type\": \"barpolar\"}], \"carpet\": [{\"aaxis\": {\"endlinecolor\": \"#A2B1C6\", \"gridcolor\": \"#506784\", \"linecolor\": \"#506784\", \"minorgridcolor\": \"#506784\", \"startlinecolor\": \"#A2B1C6\"}, \"baxis\": {\"endlinecolor\": \"#A2B1C6\", \"gridcolor\": \"#506784\", \"linecolor\": \"#506784\", \"minorgridcolor\": \"#506784\", \"startlinecolor\": \"#A2B1C6\"}, \"type\": \"carpet\"}], \"choropleth\": [{\"colorbar\": {\"outlinewidth\": 0, \"ticks\": \"\"}, \"type\": \"choropleth\"}], \"contour\": [{\"colorbar\": {\"outlinewidth\": 0, \"ticks\": \"\"}, \"colorscale\": [[0.0, \"#0d0887\"], [0.1111111111111111, \"#46039f\"], [0.2222222222222222, \"#7201a8\"], [0.3333333333333333, \"#9c179e\"], [0.4444444444444444, \"#bd3786\"], [0.5555555555555556, \"#d8576b\"], [0.6666666666666666, \"#ed7953\"], [0.7777777777777778, \"#fb9f3a\"], [0.8888888888888888, \"#fdca26\"], [1.0, \"#f0f921\"]], \"type\": \"contour\"}], \"contourcarpet\": [{\"colorbar\": {\"outlinewidth\": 0, \"ticks\": \"\"}, \"type\": \"contourcarpet\"}], \"heatmap\": [{\"colorbar\": {\"outlinewidth\": 0, \"ticks\": \"\"}, \"colorscale\": [[0.0, \"#0d0887\"], [0.1111111111111111, \"#46039f\"], [0.2222222222222222, \"#7201a8\"], [0.3333333333333333, \"#9c179e\"], [0.4444444444444444, \"#bd3786\"], [0.5555555555555556, \"#d8576b\"], [0.6666666666666666, \"#ed7953\"], [0.7777777777777778, \"#fb9f3a\"], [0.8888888888888888, \"#fdca26\"], [1.0, \"#f0f921\"]], \"type\": \"heatmap\"}], \"heatmapgl\": [{\"colorbar\": {\"outlinewidth\": 0, \"ticks\": \"\"}, \"colorscale\": [[0.0, \"#0d0887\"], [0.1111111111111111, \"#46039f\"], [0.2222222222222222, \"#7201a8\"], [0.3333333333333333, \"#9c179e\"], [0.4444444444444444, \"#bd3786\"], [0.5555555555555556, \"#d8576b\"], [0.6666666666666666, \"#ed7953\"], [0.7777777777777778, \"#fb9f3a\"], [0.8888888888888888, \"#fdca26\"], [1.0, \"#f0f921\"]], \"type\": \"heatmapgl\"}], \"histogram\": [{\"marker\": {\"colorbar\": {\"outlinewidth\": 0, \"ticks\": \"\"}}, \"type\": \"histogram\"}], \"histogram2d\": [{\"colorbar\": {\"outlinewidth\": 0, \"ticks\": \"\"}, \"colorscale\": [[0.0, \"#0d0887\"], [0.1111111111111111, \"#46039f\"], [0.2222222222222222, \"#7201a8\"], [0.3333333333333333, \"#9c179e\"], [0.4444444444444444, \"#bd3786\"], [0.5555555555555556, \"#d8576b\"], [0.6666666666666666, \"#ed7953\"], [0.7777777777777778, \"#fb9f3a\"], [0.8888888888888888, \"#fdca26\"], [1.0, \"#f0f921\"]], \"type\": \"histogram2d\"}], \"histogram2dcontour\": [{\"colorbar\": {\"outlinewidth\": 0, \"ticks\": \"\"}, \"colorscale\": [[0.0, \"#0d0887\"], [0.1111111111111111, \"#46039f\"], [0.2222222222222222, \"#7201a8\"], [0.3333333333333333, \"#9c179e\"], [0.4444444444444444, \"#bd3786\"], [0.5555555555555556, \"#d8576b\"], [0.6666666666666666, \"#ed7953\"], [0.7777777777777778, \"#fb9f3a\"], [0.8888888888888888, \"#fdca26\"], [1.0, \"#f0f921\"]], \"type\": \"histogram2dcontour\"}], \"mesh3d\": [{\"colorbar\": {\"outlinewidth\": 0, \"ticks\": \"\"}, \"type\": \"mesh3d\"}], \"parcoords\": [{\"line\": {\"colorbar\": {\"outlinewidth\": 0, \"ticks\": \"\"}}, \"type\": \"parcoords\"}], \"pie\": [{\"automargin\": true, \"type\": \"pie\"}], \"scatter\": [{\"marker\": {\"line\": {\"color\": \"#283442\"}}, \"type\": \"scatter\"}], \"scatter3d\": [{\"line\": {\"colorbar\": {\"outlinewidth\": 0, \"ticks\": \"\"}}, \"marker\": {\"colorbar\": {\"outlinewidth\": 0, \"ticks\": \"\"}}, \"type\": \"scatter3d\"}], \"scattercarpet\": [{\"marker\": {\"colorbar\": {\"outlinewidth\": 0, \"ticks\": \"\"}}, \"type\": \"scattercarpet\"}], \"scattergeo\": [{\"marker\": {\"colorbar\": {\"outlinewidth\": 0, \"ticks\": \"\"}}, \"type\": \"scattergeo\"}], \"scattergl\": [{\"marker\": {\"line\": {\"color\": \"#283442\"}}, \"type\": \"scattergl\"}], \"scattermapbox\": [{\"marker\": {\"colorbar\": {\"outlinewidth\": 0, \"ticks\": \"\"}}, \"type\": \"scattermapbox\"}], \"scatterpolar\": [{\"marker\": {\"colorbar\": {\"outlinewidth\": 0, \"ticks\": \"\"}}, \"type\": \"scatterpolar\"}], \"scatterpolargl\": [{\"marker\": {\"colorbar\": {\"outlinewidth\": 0, \"ticks\": \"\"}}, \"type\": \"scatterpolargl\"}], \"scatterternary\": [{\"marker\": {\"colorbar\": {\"outlinewidth\": 0, \"ticks\": \"\"}}, \"type\": \"scatterternary\"}], \"surface\": [{\"colorbar\": {\"outlinewidth\": 0, \"ticks\": \"\"}, \"colorscale\": [[0.0, \"#0d0887\"], [0.1111111111111111, \"#46039f\"], [0.2222222222222222, \"#7201a8\"], [0.3333333333333333, \"#9c179e\"], [0.4444444444444444, \"#bd3786\"], [0.5555555555555556, \"#d8576b\"], [0.6666666666666666, \"#ed7953\"], [0.7777777777777778, \"#fb9f3a\"], [0.8888888888888888, \"#fdca26\"], [1.0, \"#f0f921\"]], \"type\": \"surface\"}], \"table\": [{\"cells\": {\"fill\": {\"color\": \"#506784\"}, \"line\": {\"color\": \"rgb(17,17,17)\"}}, \"header\": {\"fill\": {\"color\": \"#2a3f5f\"}, \"line\": {\"color\": \"rgb(17,17,17)\"}}, \"type\": \"table\"}]}, \"layout\": {\"annotationdefaults\": {\"arrowcolor\": \"#f2f5fa\", \"arrowhead\": 0, \"arrowwidth\": 1}, \"coloraxis\": {\"colorbar\": {\"outlinewidth\": 0, \"ticks\": \"\"}}, \"colorscale\": {\"diverging\": [[0, \"#8e0152\"], [0.1, \"#c51b7d\"], [0.2, \"#de77ae\"], [0.3, \"#f1b6da\"], [0.4, \"#fde0ef\"], [0.5, \"#f7f7f7\"], [0.6, \"#e6f5d0\"], [0.7, \"#b8e186\"], [0.8, \"#7fbc41\"], [0.9, \"#4d9221\"], [1, \"#276419\"]], \"sequential\": [[0.0, \"#0d0887\"], [0.1111111111111111, \"#46039f\"], [0.2222222222222222, \"#7201a8\"], [0.3333333333333333, \"#9c179e\"], [0.4444444444444444, \"#bd3786\"], [0.5555555555555556, \"#d8576b\"], [0.6666666666666666, \"#ed7953\"], [0.7777777777777778, \"#fb9f3a\"], [0.8888888888888888, \"#fdca26\"], [1.0, \"#f0f921\"]], \"sequentialminus\": [[0.0, \"#0d0887\"], [0.1111111111111111, \"#46039f\"], [0.2222222222222222, \"#7201a8\"], [0.3333333333333333, \"#9c179e\"], [0.4444444444444444, \"#bd3786\"], [0.5555555555555556, \"#d8576b\"], [0.6666666666666666, \"#ed7953\"], [0.7777777777777778, \"#fb9f3a\"], [0.8888888888888888, \"#fdca26\"], [1.0, \"#f0f921\"]]}, \"colorway\": [\"#636efa\", \"#EF553B\", \"#00cc96\", \"#ab63fa\", \"#FFA15A\", \"#19d3f3\", \"#FF6692\", \"#B6E880\", \"#FF97FF\", \"#FECB52\"], \"font\": {\"color\": \"#f2f5fa\"}, \"geo\": {\"bgcolor\": \"rgb(17,17,17)\", \"lakecolor\": \"rgb(17,17,17)\", \"landcolor\": \"rgb(17,17,17)\", \"showlakes\": true, \"showland\": true, \"subunitcolor\": \"#506784\"}, \"hoverlabel\": {\"align\": \"left\"}, \"hovermode\": \"closest\", \"mapbox\": {\"style\": \"dark\"}, \"paper_bgcolor\": \"rgb(17,17,17)\", \"plot_bgcolor\": \"rgb(17,17,17)\", \"polar\": {\"angularaxis\": {\"gridcolor\": \"#506784\", \"linecolor\": \"#506784\", \"ticks\": \"\"}, \"bgcolor\": \"rgb(17,17,17)\", \"radialaxis\": {\"gridcolor\": \"#506784\", \"linecolor\": \"#506784\", \"ticks\": \"\"}}, \"scene\": {\"xaxis\": {\"backgroundcolor\": \"rgb(17,17,17)\", \"gridcolor\": \"#506784\", \"gridwidth\": 2, \"linecolor\": \"#506784\", \"showbackground\": true, \"ticks\": \"\", \"zerolinecolor\": \"#C8D4E3\"}, \"yaxis\": {\"backgroundcolor\": \"rgb(17,17,17)\", \"gridcolor\": \"#506784\", \"gridwidth\": 2, \"linecolor\": \"#506784\", \"showbackground\": true, \"ticks\": \"\", \"zerolinecolor\": \"#C8D4E3\"}, \"zaxis\": {\"backgroundcolor\": \"rgb(17,17,17)\", \"gridcolor\": \"#506784\", \"gridwidth\": 2, \"linecolor\": \"#506784\", \"showbackground\": true, \"ticks\": \"\", \"zerolinecolor\": \"#C8D4E3\"}}, \"shapedefaults\": {\"line\": {\"color\": \"#f2f5fa\"}}, \"sliderdefaults\": {\"bgcolor\": \"#C8D4E3\", \"bordercolor\": \"rgb(17,17,17)\", \"borderwidth\": 1, \"tickwidth\": 0}, \"ternary\": {\"aaxis\": {\"gridcolor\": \"#506784\", \"linecolor\": \"#506784\", \"ticks\": \"\"}, \"baxis\": {\"gridcolor\": \"#506784\", \"linecolor\": \"#506784\", \"ticks\": \"\"}, \"bgcolor\": \"rgb(17,17,17)\", \"caxis\": {\"gridcolor\": \"#506784\", \"linecolor\": \"#506784\", \"ticks\": \"\"}}, \"title\": {\"x\": 0.05}, \"updatemenudefaults\": {\"bgcolor\": \"#506784\", \"borderwidth\": 0}, \"xaxis\": {\"automargin\": true, \"gridcolor\": \"#283442\", \"linecolor\": \"#506784\", \"ticks\": \"\", \"title\": {\"standoff\": 15}, \"zerolinecolor\": \"#283442\", \"zerolinewidth\": 2}, \"yaxis\": {\"automargin\": true, \"gridcolor\": \"#283442\", \"linecolor\": \"#506784\", \"ticks\": \"\", \"title\": {\"standoff\": 15}, \"zerolinecolor\": \"#283442\", \"zerolinewidth\": 2}}}, \"xaxis\": {\"anchor\": \"y\", \"domain\": [0.0, 1.0], \"title\": {\"text\": \"obs_count\"}}, \"yaxis\": {\"anchor\": \"x\", \"domain\": [0.0, 1.0], \"title\": {\"text\": \"count\"}}},\n",
       "                        {\"responsive\": true}\n",
       "                    ).then(function(){\n",
       "                            \n",
       "var gd = document.getElementById('86c89b8f-8b0c-4273-a9ed-34d5d221cfa1');\n",
       "var x = new MutationObserver(function (mutations, observer) {{\n",
       "        var display = window.getComputedStyle(gd).display;\n",
       "        if (!display || display === 'none') {{\n",
       "            console.log([gd, 'removed!']);\n",
       "            Plotly.purge(gd);\n",
       "            observer.disconnect();\n",
       "        }}\n",
       "}});\n",
       "\n",
       "// Listen for the removal of the full notebook cells\n",
       "var notebookContainer = gd.closest('#notebook-container');\n",
       "if (notebookContainer) {{\n",
       "    x.observe(notebookContainer, {childList: true});\n",
       "}}\n",
       "\n",
       "// Listen for the clearing of the current output cell\n",
       "var outputEl = gd.closest('.output');\n",
       "if (outputEl) {{\n",
       "    x.observe(outputEl, {childList: true});\n",
       "}}\n",
       "\n",
       "                        })\n",
       "                };\n",
       "                });\n",
       "            </script>\n",
       "        </div>"
      ]
     },
     "metadata": {},
     "output_type": "display_data"
    }
   ],
   "source": [
    "px.histogram(hr_range(6,9), x=\"obs_count\", color=\"is_weekend_day\", opacity=0.7,\n",
    "             barmode='group', height=300, histnorm='probability density')"
   ]
  },
  {
   "cell_type": "markdown",
   "metadata": {},
   "source": [
    "On the contrary, during the afternoon hours people tend to walk more, so there should be much lower probability to see nothing over the weekends.\n",
    "\n",
    "Again, the plot below shows the count distribution between 1PM and 4PM:"
   ]
  },
  {
   "cell_type": "code",
   "execution_count": 105,
   "metadata": {},
   "outputs": [
    {
     "data": {
      "application/vnd.plotly.v1+json": {
       "config": {
        "plotlyServerURL": "https://plot.ly"
       },
       "data": [
        {
         "alignmentgroup": "True",
         "bingroup": "x",
         "histnorm": "probability density",
         "hovertemplate": "is_weekend_day=0<br>obs_count=%{x}<br>count=%{y}<extra></extra>",
         "legendgroup": "0",
         "marker": {
          "color": "#636efa",
          "opacity": 0.7
         },
         "name": "0",
         "offsetgroup": "0",
         "orientation": "v",
         "showlegend": true,
         "type": "histogram",
         "x": [
          1,
          2,
          1,
          0,
          0,
          1,
          0,
          2,
          1,
          3,
          4,
          2,
          5,
          1,
          2,
          2,
          1,
          2,
          4,
          2,
          2,
          2,
          1,
          3,
          1,
          0,
          1,
          1,
          2,
          2,
          0,
          1,
          2,
          0,
          0,
          2,
          3,
          0,
          2,
          0,
          0,
          1,
          2,
          4,
          1,
          1,
          0,
          0,
          0,
          2,
          1,
          1,
          1,
          0,
          6,
          3,
          7,
          0,
          0,
          1,
          4,
          3,
          1,
          1,
          2,
          0,
          4,
          2,
          4,
          3,
          1,
          1,
          0,
          1,
          0,
          6,
          7,
          5,
          4,
          1,
          1,
          1,
          0,
          0,
          2,
          3,
          3,
          1,
          2,
          1,
          1,
          2,
          2,
          1,
          1,
          1,
          2,
          3,
          4,
          2,
          0,
          1,
          2,
          5,
          2,
          4,
          1,
          1,
          6,
          1,
          2,
          1,
          2,
          0,
          2,
          1,
          1,
          1,
          3,
          0,
          3,
          3,
          3,
          4,
          1,
          1,
          1,
          0,
          2,
          0,
          2,
          5,
          1,
          2,
          0,
          3,
          4,
          0,
          6,
          1,
          0,
          4,
          4,
          2,
          5,
          6,
          2,
          0,
          0,
          0,
          4,
          5,
          1,
          0,
          2,
          0,
          0,
          1,
          3,
          1,
          0,
          2,
          3,
          6,
          0,
          4,
          3,
          0,
          5,
          12,
          2,
          1,
          1,
          0,
          2,
          0,
          6,
          6,
          1,
          3,
          3,
          3,
          1,
          1,
          1,
          2,
          4,
          4,
          0,
          0,
          1,
          0,
          2,
          1,
          6,
          0,
          3,
          2,
          2,
          0,
          0,
          2,
          2,
          1,
          2,
          0,
          2,
          0,
          1,
          2,
          0,
          1,
          2,
          4,
          4,
          1,
          1,
          2,
          5,
          7,
          7,
          1,
          5,
          0,
          0,
          0,
          3,
          1,
          3,
          2,
          1,
          0,
          0,
          4,
          2,
          2,
          6,
          1,
          0,
          4,
          1,
          0,
          1,
          1,
          0,
          0,
          0,
          3,
          1,
          4,
          0,
          3,
          2,
          1,
          0,
          3,
          3,
          7,
          2,
          3,
          7,
          3,
          3,
          1,
          0,
          1,
          3,
          2,
          7,
          2,
          1,
          0,
          1,
          0,
          2,
          2,
          0,
          1,
          0,
          1,
          3,
          4,
          2,
          2,
          4,
          2,
          0,
          0,
          1,
          0,
          2,
          0,
          0,
          1,
          1,
          2,
          3,
          1,
          0,
          2,
          3,
          3,
          2,
          5,
          2,
          6,
          3,
          2,
          3,
          2,
          1,
          1,
          0,
          2,
          6,
          0,
          1,
          0,
          0,
          0,
          0,
          4,
          5,
          5,
          5,
          1,
          1,
          1,
          3,
          1,
          0,
          2,
          1,
          1,
          0,
          4,
          6,
          2,
          3,
          4,
          4,
          0,
          1,
          0,
          2,
          3,
          3,
          4,
          4,
          0,
          5,
          0,
          4,
          2,
          0,
          2,
          5,
          3,
          0,
          2,
          1,
          2,
          12,
          2,
          2,
          5,
          4,
          2,
          5,
          5,
          5,
          0,
          4,
          3,
          2,
          2,
          3,
          5,
          1,
          0,
          0,
          4,
          1,
          1,
          3,
          1,
          8,
          2,
          6,
          3,
          4,
          3,
          1,
          4,
          0,
          1,
          2,
          1,
          0,
          5,
          3,
          3,
          3,
          1,
          5,
          2,
          1,
          3,
          2,
          0,
          2,
          2,
          3,
          4,
          0,
          1,
          4,
          2,
          8,
          5,
          0,
          1,
          1,
          6,
          0,
          0,
          3,
          1,
          2,
          3,
          1,
          1,
          2,
          0,
          1,
          1,
          1,
          2,
          5,
          3,
          2,
          3,
          8,
          1,
          0,
          0,
          2,
          1,
          3,
          1,
          1,
          2,
          1,
          2,
          8,
          0,
          2,
          2,
          2,
          0,
          3,
          4,
          0,
          1,
          3,
          1,
          1,
          0,
          0,
          1,
          1,
          3,
          2,
          0,
          0,
          2,
          4,
          4,
          1,
          3,
          3
         ],
         "xaxis": "x",
         "yaxis": "y"
        },
        {
         "alignmentgroup": "True",
         "bingroup": "x",
         "histnorm": "probability density",
         "hovertemplate": "is_weekend_day=1<br>obs_count=%{x}<br>count=%{y}<extra></extra>",
         "legendgroup": "1",
         "marker": {
          "color": "#EF553B",
          "opacity": 0.7
         },
         "name": "1",
         "offsetgroup": "1",
         "orientation": "v",
         "showlegend": true,
         "type": "histogram",
         "x": [
          2,
          2,
          0,
          0,
          3,
          3,
          2,
          4,
          4,
          1,
          2,
          4,
          2,
          6,
          1,
          3,
          1,
          8,
          7,
          3,
          2,
          1,
          1,
          2,
          3,
          5,
          2,
          5,
          3,
          2,
          4,
          3,
          4,
          2,
          3,
          4,
          0,
          5,
          3,
          3,
          1,
          2,
          5,
          4,
          4,
          6,
          5,
          2,
          1,
          3,
          4,
          5,
          3,
          4,
          4,
          3,
          1,
          6,
          2,
          2,
          2,
          4,
          0,
          9,
          0,
          1,
          0,
          2,
          4,
          2,
          2,
          0,
          3,
          2,
          4,
          3,
          0,
          2,
          3,
          8,
          0,
          0,
          0,
          0,
          1,
          6,
          3,
          4,
          2,
          5,
          1,
          2,
          1,
          1,
          3,
          6,
          1,
          0,
          0,
          2,
          5,
          1,
          4,
          1,
          1,
          2,
          1,
          4,
          0,
          0,
          2,
          1,
          4,
          2,
          4,
          3,
          7,
          1,
          3,
          2,
          0,
          3,
          0,
          2,
          0,
          4,
          4,
          0,
          1,
          3,
          3,
          1,
          2,
          1,
          1,
          5,
          5,
          7,
          3,
          4,
          2,
          1,
          3,
          0,
          4,
          2,
          3,
          4,
          5,
          5,
          3,
          1,
          4,
          4,
          8,
          1,
          5,
          1,
          6,
          0,
          1,
          1,
          2,
          3,
          2,
          0,
          1,
          1,
          0,
          2,
          0,
          1,
          2,
          0,
          1,
          2,
          1,
          1,
          3,
          4,
          1,
          3,
          3,
          3,
          3,
          1,
          1,
          0,
          1,
          2,
          8,
          2,
          1,
          2,
          5
         ],
         "xaxis": "x",
         "yaxis": "y"
        }
       ],
       "layout": {
        "autosize": true,
        "barmode": "group",
        "legend": {
         "title": {
          "text": "is_weekend_day"
         },
         "tracegroupgap": 0
        },
        "template": {
         "data": {
          "bar": [
           {
            "error_x": {
             "color": "#f2f5fa"
            },
            "error_y": {
             "color": "#f2f5fa"
            },
            "marker": {
             "line": {
              "color": "rgb(17,17,17)",
              "width": 0.5
             }
            },
            "type": "bar"
           }
          ],
          "barpolar": [
           {
            "marker": {
             "line": {
              "color": "rgb(17,17,17)",
              "width": 0.5
             }
            },
            "type": "barpolar"
           }
          ],
          "carpet": [
           {
            "aaxis": {
             "endlinecolor": "#A2B1C6",
             "gridcolor": "#506784",
             "linecolor": "#506784",
             "minorgridcolor": "#506784",
             "startlinecolor": "#A2B1C6"
            },
            "baxis": {
             "endlinecolor": "#A2B1C6",
             "gridcolor": "#506784",
             "linecolor": "#506784",
             "minorgridcolor": "#506784",
             "startlinecolor": "#A2B1C6"
            },
            "type": "carpet"
           }
          ],
          "choropleth": [
           {
            "colorbar": {
             "outlinewidth": 0,
             "ticks": ""
            },
            "type": "choropleth"
           }
          ],
          "contour": [
           {
            "colorbar": {
             "outlinewidth": 0,
             "ticks": ""
            },
            "colorscale": [
             [
              0,
              "#0d0887"
             ],
             [
              0.1111111111111111,
              "#46039f"
             ],
             [
              0.2222222222222222,
              "#7201a8"
             ],
             [
              0.3333333333333333,
              "#9c179e"
             ],
             [
              0.4444444444444444,
              "#bd3786"
             ],
             [
              0.5555555555555556,
              "#d8576b"
             ],
             [
              0.6666666666666666,
              "#ed7953"
             ],
             [
              0.7777777777777778,
              "#fb9f3a"
             ],
             [
              0.8888888888888888,
              "#fdca26"
             ],
             [
              1,
              "#f0f921"
             ]
            ],
            "type": "contour"
           }
          ],
          "contourcarpet": [
           {
            "colorbar": {
             "outlinewidth": 0,
             "ticks": ""
            },
            "type": "contourcarpet"
           }
          ],
          "heatmap": [
           {
            "colorbar": {
             "outlinewidth": 0,
             "ticks": ""
            },
            "colorscale": [
             [
              0,
              "#0d0887"
             ],
             [
              0.1111111111111111,
              "#46039f"
             ],
             [
              0.2222222222222222,
              "#7201a8"
             ],
             [
              0.3333333333333333,
              "#9c179e"
             ],
             [
              0.4444444444444444,
              "#bd3786"
             ],
             [
              0.5555555555555556,
              "#d8576b"
             ],
             [
              0.6666666666666666,
              "#ed7953"
             ],
             [
              0.7777777777777778,
              "#fb9f3a"
             ],
             [
              0.8888888888888888,
              "#fdca26"
             ],
             [
              1,
              "#f0f921"
             ]
            ],
            "type": "heatmap"
           }
          ],
          "heatmapgl": [
           {
            "colorbar": {
             "outlinewidth": 0,
             "ticks": ""
            },
            "colorscale": [
             [
              0,
              "#0d0887"
             ],
             [
              0.1111111111111111,
              "#46039f"
             ],
             [
              0.2222222222222222,
              "#7201a8"
             ],
             [
              0.3333333333333333,
              "#9c179e"
             ],
             [
              0.4444444444444444,
              "#bd3786"
             ],
             [
              0.5555555555555556,
              "#d8576b"
             ],
             [
              0.6666666666666666,
              "#ed7953"
             ],
             [
              0.7777777777777778,
              "#fb9f3a"
             ],
             [
              0.8888888888888888,
              "#fdca26"
             ],
             [
              1,
              "#f0f921"
             ]
            ],
            "type": "heatmapgl"
           }
          ],
          "histogram": [
           {
            "marker": {
             "colorbar": {
              "outlinewidth": 0,
              "ticks": ""
             }
            },
            "type": "histogram"
           }
          ],
          "histogram2d": [
           {
            "colorbar": {
             "outlinewidth": 0,
             "ticks": ""
            },
            "colorscale": [
             [
              0,
              "#0d0887"
             ],
             [
              0.1111111111111111,
              "#46039f"
             ],
             [
              0.2222222222222222,
              "#7201a8"
             ],
             [
              0.3333333333333333,
              "#9c179e"
             ],
             [
              0.4444444444444444,
              "#bd3786"
             ],
             [
              0.5555555555555556,
              "#d8576b"
             ],
             [
              0.6666666666666666,
              "#ed7953"
             ],
             [
              0.7777777777777778,
              "#fb9f3a"
             ],
             [
              0.8888888888888888,
              "#fdca26"
             ],
             [
              1,
              "#f0f921"
             ]
            ],
            "type": "histogram2d"
           }
          ],
          "histogram2dcontour": [
           {
            "colorbar": {
             "outlinewidth": 0,
             "ticks": ""
            },
            "colorscale": [
             [
              0,
              "#0d0887"
             ],
             [
              0.1111111111111111,
              "#46039f"
             ],
             [
              0.2222222222222222,
              "#7201a8"
             ],
             [
              0.3333333333333333,
              "#9c179e"
             ],
             [
              0.4444444444444444,
              "#bd3786"
             ],
             [
              0.5555555555555556,
              "#d8576b"
             ],
             [
              0.6666666666666666,
              "#ed7953"
             ],
             [
              0.7777777777777778,
              "#fb9f3a"
             ],
             [
              0.8888888888888888,
              "#fdca26"
             ],
             [
              1,
              "#f0f921"
             ]
            ],
            "type": "histogram2dcontour"
           }
          ],
          "mesh3d": [
           {
            "colorbar": {
             "outlinewidth": 0,
             "ticks": ""
            },
            "type": "mesh3d"
           }
          ],
          "parcoords": [
           {
            "line": {
             "colorbar": {
              "outlinewidth": 0,
              "ticks": ""
             }
            },
            "type": "parcoords"
           }
          ],
          "pie": [
           {
            "automargin": true,
            "type": "pie"
           }
          ],
          "scatter": [
           {
            "marker": {
             "line": {
              "color": "#283442"
             }
            },
            "type": "scatter"
           }
          ],
          "scatter3d": [
           {
            "line": {
             "colorbar": {
              "outlinewidth": 0,
              "ticks": ""
             }
            },
            "marker": {
             "colorbar": {
              "outlinewidth": 0,
              "ticks": ""
             }
            },
            "type": "scatter3d"
           }
          ],
          "scattercarpet": [
           {
            "marker": {
             "colorbar": {
              "outlinewidth": 0,
              "ticks": ""
             }
            },
            "type": "scattercarpet"
           }
          ],
          "scattergeo": [
           {
            "marker": {
             "colorbar": {
              "outlinewidth": 0,
              "ticks": ""
             }
            },
            "type": "scattergeo"
           }
          ],
          "scattergl": [
           {
            "marker": {
             "line": {
              "color": "#283442"
             }
            },
            "type": "scattergl"
           }
          ],
          "scattermapbox": [
           {
            "marker": {
             "colorbar": {
              "outlinewidth": 0,
              "ticks": ""
             }
            },
            "type": "scattermapbox"
           }
          ],
          "scatterpolar": [
           {
            "marker": {
             "colorbar": {
              "outlinewidth": 0,
              "ticks": ""
             }
            },
            "type": "scatterpolar"
           }
          ],
          "scatterpolargl": [
           {
            "marker": {
             "colorbar": {
              "outlinewidth": 0,
              "ticks": ""
             }
            },
            "type": "scatterpolargl"
           }
          ],
          "scatterternary": [
           {
            "marker": {
             "colorbar": {
              "outlinewidth": 0,
              "ticks": ""
             }
            },
            "type": "scatterternary"
           }
          ],
          "surface": [
           {
            "colorbar": {
             "outlinewidth": 0,
             "ticks": ""
            },
            "colorscale": [
             [
              0,
              "#0d0887"
             ],
             [
              0.1111111111111111,
              "#46039f"
             ],
             [
              0.2222222222222222,
              "#7201a8"
             ],
             [
              0.3333333333333333,
              "#9c179e"
             ],
             [
              0.4444444444444444,
              "#bd3786"
             ],
             [
              0.5555555555555556,
              "#d8576b"
             ],
             [
              0.6666666666666666,
              "#ed7953"
             ],
             [
              0.7777777777777778,
              "#fb9f3a"
             ],
             [
              0.8888888888888888,
              "#fdca26"
             ],
             [
              1,
              "#f0f921"
             ]
            ],
            "type": "surface"
           }
          ],
          "table": [
           {
            "cells": {
             "fill": {
              "color": "#506784"
             },
             "line": {
              "color": "rgb(17,17,17)"
             }
            },
            "header": {
             "fill": {
              "color": "#2a3f5f"
             },
             "line": {
              "color": "rgb(17,17,17)"
             }
            },
            "type": "table"
           }
          ]
         },
         "layout": {
          "annotationdefaults": {
           "arrowcolor": "#f2f5fa",
           "arrowhead": 0,
           "arrowwidth": 1
          },
          "coloraxis": {
           "colorbar": {
            "outlinewidth": 0,
            "ticks": ""
           }
          },
          "colorscale": {
           "diverging": [
            [
             0,
             "#8e0152"
            ],
            [
             0.1,
             "#c51b7d"
            ],
            [
             0.2,
             "#de77ae"
            ],
            [
             0.3,
             "#f1b6da"
            ],
            [
             0.4,
             "#fde0ef"
            ],
            [
             0.5,
             "#f7f7f7"
            ],
            [
             0.6,
             "#e6f5d0"
            ],
            [
             0.7,
             "#b8e186"
            ],
            [
             0.8,
             "#7fbc41"
            ],
            [
             0.9,
             "#4d9221"
            ],
            [
             1,
             "#276419"
            ]
           ],
           "sequential": [
            [
             0,
             "#0d0887"
            ],
            [
             0.1111111111111111,
             "#46039f"
            ],
            [
             0.2222222222222222,
             "#7201a8"
            ],
            [
             0.3333333333333333,
             "#9c179e"
            ],
            [
             0.4444444444444444,
             "#bd3786"
            ],
            [
             0.5555555555555556,
             "#d8576b"
            ],
            [
             0.6666666666666666,
             "#ed7953"
            ],
            [
             0.7777777777777778,
             "#fb9f3a"
            ],
            [
             0.8888888888888888,
             "#fdca26"
            ],
            [
             1,
             "#f0f921"
            ]
           ],
           "sequentialminus": [
            [
             0,
             "#0d0887"
            ],
            [
             0.1111111111111111,
             "#46039f"
            ],
            [
             0.2222222222222222,
             "#7201a8"
            ],
            [
             0.3333333333333333,
             "#9c179e"
            ],
            [
             0.4444444444444444,
             "#bd3786"
            ],
            [
             0.5555555555555556,
             "#d8576b"
            ],
            [
             0.6666666666666666,
             "#ed7953"
            ],
            [
             0.7777777777777778,
             "#fb9f3a"
            ],
            [
             0.8888888888888888,
             "#fdca26"
            ],
            [
             1,
             "#f0f921"
            ]
           ]
          },
          "colorway": [
           "#636efa",
           "#EF553B",
           "#00cc96",
           "#ab63fa",
           "#FFA15A",
           "#19d3f3",
           "#FF6692",
           "#B6E880",
           "#FF97FF",
           "#FECB52"
          ],
          "font": {
           "color": "#f2f5fa"
          },
          "geo": {
           "bgcolor": "rgb(17,17,17)",
           "lakecolor": "rgb(17,17,17)",
           "landcolor": "rgb(17,17,17)",
           "showlakes": true,
           "showland": true,
           "subunitcolor": "#506784"
          },
          "hoverlabel": {
           "align": "left"
          },
          "hovermode": "closest",
          "mapbox": {
           "style": "dark"
          },
          "paper_bgcolor": "rgb(17,17,17)",
          "plot_bgcolor": "rgb(17,17,17)",
          "polar": {
           "angularaxis": {
            "gridcolor": "#506784",
            "linecolor": "#506784",
            "ticks": ""
           },
           "bgcolor": "rgb(17,17,17)",
           "radialaxis": {
            "gridcolor": "#506784",
            "linecolor": "#506784",
            "ticks": ""
           }
          },
          "scene": {
           "xaxis": {
            "backgroundcolor": "rgb(17,17,17)",
            "gridcolor": "#506784",
            "gridwidth": 2,
            "linecolor": "#506784",
            "showbackground": true,
            "ticks": "",
            "zerolinecolor": "#C8D4E3"
           },
           "yaxis": {
            "backgroundcolor": "rgb(17,17,17)",
            "gridcolor": "#506784",
            "gridwidth": 2,
            "linecolor": "#506784",
            "showbackground": true,
            "ticks": "",
            "zerolinecolor": "#C8D4E3"
           },
           "zaxis": {
            "backgroundcolor": "rgb(17,17,17)",
            "gridcolor": "#506784",
            "gridwidth": 2,
            "linecolor": "#506784",
            "showbackground": true,
            "ticks": "",
            "zerolinecolor": "#C8D4E3"
           }
          },
          "shapedefaults": {
           "line": {
            "color": "#f2f5fa"
           }
          },
          "sliderdefaults": {
           "bgcolor": "#C8D4E3",
           "bordercolor": "rgb(17,17,17)",
           "borderwidth": 1,
           "tickwidth": 0
          },
          "ternary": {
           "aaxis": {
            "gridcolor": "#506784",
            "linecolor": "#506784",
            "ticks": ""
           },
           "baxis": {
            "gridcolor": "#506784",
            "linecolor": "#506784",
            "ticks": ""
           },
           "bgcolor": "rgb(17,17,17)",
           "caxis": {
            "gridcolor": "#506784",
            "linecolor": "#506784",
            "ticks": ""
           }
          },
          "title": {
           "x": 0.05
          },
          "updatemenudefaults": {
           "bgcolor": "#506784",
           "borderwidth": 0
          },
          "xaxis": {
           "automargin": true,
           "gridcolor": "#283442",
           "linecolor": "#506784",
           "ticks": "",
           "title": {
            "standoff": 15
           },
           "zerolinecolor": "#283442",
           "zerolinewidth": 2
          },
          "yaxis": {
           "automargin": true,
           "gridcolor": "#283442",
           "linecolor": "#506784",
           "ticks": "",
           "title": {
            "standoff": 15
           },
           "zerolinecolor": "#283442",
           "zerolinewidth": 2
          }
         }
        },
        "title": {
         "text": "Weekend impact on objects detected"
        },
        "xaxis": {
         "anchor": "y",
         "autorange": true,
         "domain": [
          0,
          1
         ],
         "range": [
          -0.5,
          12.5
         ],
         "title": {
          "text": "obs_count"
         },
         "type": "linear"
        },
        "yaxis": {
         "anchor": "x",
         "autorange": true,
         "domain": [
          0,
          1
         ],
         "range": [
          0,
          0.2626107889265784
         ],
         "title": {
          "text": "count"
         }
        }
       }
      },
      "image/png": "[encoded data removed]",
      "text/html": [
       "<div>\n",
       "        \n",
       "        \n",
       "            <div id=\"b45bf9fa-fdb1-4359-aa29-e7de7ca28c01\" class=\"plotly-graph-div\" style=\"height:300px; width:100%;\"></div>\n",
       "            <script type=\"text/javascript\">\n",
       "                require([\"plotly\"], function(Plotly) {\n",
       "                    window.PLOTLYENV=window.PLOTLYENV || {};\n",
       "                    \n",
       "                if (document.getElementById(\"b45bf9fa-fdb1-4359-aa29-e7de7ca28c01\")) {\n",
       "                    Plotly.newPlot(\n",
       "                        'b45bf9fa-fdb1-4359-aa29-e7de7ca28c01',\n",
       "                        [{\"alignmentgroup\": \"True\", \"bingroup\": \"x\", \"histnorm\": \"probability density\", \"hovertemplate\": \"is_weekend_day=0<br>obs_count=%{x}<br>count=%{y}<extra></extra>\", \"legendgroup\": \"0\", \"marker\": {\"color\": \"#636efa\", \"opacity\": 0.7}, \"name\": \"0\", \"offsetgroup\": \"0\", \"orientation\": \"v\", \"showlegend\": true, \"type\": \"histogram\", \"x\": [1, 2, 1, 0, 0, 1, 0, 2, 1, 3, 4, 2, 5, 1, 2, 2, 1, 2, 4, 2, 2, 2, 1, 3, 1, 0, 1, 1, 2, 2, 0, 1, 2, 0, 0, 2, 3, 0, 2, 0, 0, 1, 2, 4, 1, 1, 0, 0, 0, 2, 1, 1, 1, 0, 6, 3, 7, 0, 0, 1, 4, 3, 1, 1, 2, 0, 4, 2, 4, 3, 1, 1, 0, 1, 0, 6, 7, 5, 4, 1, 1, 1, 0, 0, 2, 3, 3, 1, 2, 1, 1, 2, 2, 1, 1, 1, 2, 3, 4, 2, 0, 1, 2, 5, 2, 4, 1, 1, 6, 1, 2, 1, 2, 0, 2, 1, 1, 1, 3, 0, 3, 3, 3, 4, 1, 1, 1, 0, 2, 0, 2, 5, 1, 2, 0, 3, 4, 0, 6, 1, 0, 4, 4, 2, 5, 6, 2, 0, 0, 0, 4, 5, 1, 0, 2, 0, 0, 1, 3, 1, 0, 2, 3, 6, 0, 4, 3, 0, 5, 12, 2, 1, 1, 0, 2, 0, 6, 6, 1, 3, 3, 3, 1, 1, 1, 2, 4, 4, 0, 0, 1, 0, 2, 1, 6, 0, 3, 2, 2, 0, 0, 2, 2, 1, 2, 0, 2, 0, 1, 2, 0, 1, 2, 4, 4, 1, 1, 2, 5, 7, 7, 1, 5, 0, 0, 0, 3, 1, 3, 2, 1, 0, 0, 4, 2, 2, 6, 1, 0, 4, 1, 0, 1, 1, 0, 0, 0, 3, 1, 4, 0, 3, 2, 1, 0, 3, 3, 7, 2, 3, 7, 3, 3, 1, 0, 1, 3, 2, 7, 2, 1, 0, 1, 0, 2, 2, 0, 1, 0, 1, 3, 4, 2, 2, 4, 2, 0, 0, 1, 0, 2, 0, 0, 1, 1, 2, 3, 1, 0, 2, 3, 3, 2, 5, 2, 6, 3, 2, 3, 2, 1, 1, 0, 2, 6, 0, 1, 0, 0, 0, 0, 4, 5, 5, 5, 1, 1, 1, 3, 1, 0, 2, 1, 1, 0, 4, 6, 2, 3, 4, 4, 0, 1, 0, 2, 3, 3, 4, 4, 0, 5, 0, 4, 2, 0, 2, 5, 3, 0, 2, 1, 2, 12, 2, 2, 5, 4, 2, 5, 5, 5, 0, 4, 3, 2, 2, 3, 5, 1, 0, 0, 4, 1, 1, 3, 1, 8, 2, 6, 3, 4, 3, 1, 4, 0, 1, 2, 1, 0, 5, 3, 3, 3, 1, 5, 2, 1, 3, 2, 0, 2, 2, 3, 4, 0, 1, 4, 2, 8, 5, 0, 1, 1, 6, 0, 0, 3, 1, 2, 3, 1, 1, 2, 0, 1, 1, 1, 2, 5, 3, 2, 3, 8, 1, 0, 0, 2, 1, 3, 1, 1, 2, 1, 2, 8, 0, 2, 2, 2, 0, 3, 4, 0, 1, 3, 1, 1, 0, 0, 1, 1, 3, 2, 0, 0, 2, 4, 4, 1, 3, 3], \"xaxis\": \"x\", \"yaxis\": \"y\"}, {\"alignmentgroup\": \"True\", \"bingroup\": \"x\", \"histnorm\": \"probability density\", \"hovertemplate\": \"is_weekend_day=1<br>obs_count=%{x}<br>count=%{y}<extra></extra>\", \"legendgroup\": \"1\", \"marker\": {\"color\": \"#EF553B\", \"opacity\": 0.7}, \"name\": \"1\", \"offsetgroup\": \"1\", \"orientation\": \"v\", \"showlegend\": true, \"type\": \"histogram\", \"x\": [2, 2, 0, 0, 3, 3, 2, 4, 4, 1, 2, 4, 2, 6, 1, 3, 1, 8, 7, 3, 2, 1, 1, 2, 3, 5, 2, 5, 3, 2, 4, 3, 4, 2, 3, 4, 0, 5, 3, 3, 1, 2, 5, 4, 4, 6, 5, 2, 1, 3, 4, 5, 3, 4, 4, 3, 1, 6, 2, 2, 2, 4, 0, 9, 0, 1, 0, 2, 4, 2, 2, 0, 3, 2, 4, 3, 0, 2, 3, 8, 0, 0, 0, 0, 1, 6, 3, 4, 2, 5, 1, 2, 1, 1, 3, 6, 1, 0, 0, 2, 5, 1, 4, 1, 1, 2, 1, 4, 0, 0, 2, 1, 4, 2, 4, 3, 7, 1, 3, 2, 0, 3, 0, 2, 0, 4, 4, 0, 1, 3, 3, 1, 2, 1, 1, 5, 5, 7, 3, 4, 2, 1, 3, 0, 4, 2, 3, 4, 5, 5, 3, 1, 4, 4, 8, 1, 5, 1, 6, 0, 1, 1, 2, 3, 2, 0, 1, 1, 0, 2, 0, 1, 2, 0, 1, 2, 1, 1, 3, 4, 1, 3, 3, 3, 3, 1, 1, 0, 1, 2, 8, 2, 1, 2, 5], \"xaxis\": \"x\", \"yaxis\": \"y\"}],\n",
       "                        {\"barmode\": \"group\", \"height\": 300, \"legend\": {\"title\": {\"text\": \"is_weekend_day\"}, \"tracegroupgap\": 0}, \"template\": {\"data\": {\"bar\": [{\"error_x\": {\"color\": \"#f2f5fa\"}, \"error_y\": {\"color\": \"#f2f5fa\"}, \"marker\": {\"line\": {\"color\": \"rgb(17,17,17)\", \"width\": 0.5}}, \"type\": \"bar\"}], \"barpolar\": [{\"marker\": {\"line\": {\"color\": \"rgb(17,17,17)\", \"width\": 0.5}}, \"type\": \"barpolar\"}], \"carpet\": [{\"aaxis\": {\"endlinecolor\": \"#A2B1C6\", \"gridcolor\": \"#506784\", \"linecolor\": \"#506784\", \"minorgridcolor\": \"#506784\", \"startlinecolor\": \"#A2B1C6\"}, \"baxis\": {\"endlinecolor\": \"#A2B1C6\", \"gridcolor\": \"#506784\", \"linecolor\": \"#506784\", \"minorgridcolor\": \"#506784\", \"startlinecolor\": \"#A2B1C6\"}, \"type\": \"carpet\"}], \"choropleth\": [{\"colorbar\": {\"outlinewidth\": 0, \"ticks\": \"\"}, \"type\": \"choropleth\"}], \"contour\": [{\"colorbar\": {\"outlinewidth\": 0, \"ticks\": \"\"}, \"colorscale\": [[0.0, \"#0d0887\"], [0.1111111111111111, \"#46039f\"], [0.2222222222222222, \"#7201a8\"], [0.3333333333333333, \"#9c179e\"], [0.4444444444444444, \"#bd3786\"], [0.5555555555555556, \"#d8576b\"], [0.6666666666666666, \"#ed7953\"], [0.7777777777777778, \"#fb9f3a\"], [0.8888888888888888, \"#fdca26\"], [1.0, \"#f0f921\"]], \"type\": \"contour\"}], \"contourcarpet\": [{\"colorbar\": {\"outlinewidth\": 0, \"ticks\": \"\"}, \"type\": \"contourcarpet\"}], \"heatmap\": [{\"colorbar\": {\"outlinewidth\": 0, \"ticks\": \"\"}, \"colorscale\": [[0.0, \"#0d0887\"], [0.1111111111111111, \"#46039f\"], [0.2222222222222222, \"#7201a8\"], [0.3333333333333333, \"#9c179e\"], [0.4444444444444444, \"#bd3786\"], [0.5555555555555556, \"#d8576b\"], [0.6666666666666666, \"#ed7953\"], [0.7777777777777778, \"#fb9f3a\"], [0.8888888888888888, \"#fdca26\"], [1.0, \"#f0f921\"]], \"type\": \"heatmap\"}], \"heatmapgl\": [{\"colorbar\": {\"outlinewidth\": 0, \"ticks\": \"\"}, \"colorscale\": [[0.0, \"#0d0887\"], [0.1111111111111111, \"#46039f\"], [0.2222222222222222, \"#7201a8\"], [0.3333333333333333, \"#9c179e\"], [0.4444444444444444, \"#bd3786\"], [0.5555555555555556, \"#d8576b\"], [0.6666666666666666, \"#ed7953\"], [0.7777777777777778, \"#fb9f3a\"], [0.8888888888888888, \"#fdca26\"], [1.0, \"#f0f921\"]], \"type\": \"heatmapgl\"}], \"histogram\": [{\"marker\": {\"colorbar\": {\"outlinewidth\": 0, \"ticks\": \"\"}}, \"type\": \"histogram\"}], \"histogram2d\": [{\"colorbar\": {\"outlinewidth\": 0, \"ticks\": \"\"}, \"colorscale\": [[0.0, \"#0d0887\"], [0.1111111111111111, \"#46039f\"], [0.2222222222222222, \"#7201a8\"], [0.3333333333333333, \"#9c179e\"], [0.4444444444444444, \"#bd3786\"], [0.5555555555555556, \"#d8576b\"], [0.6666666666666666, \"#ed7953\"], [0.7777777777777778, \"#fb9f3a\"], [0.8888888888888888, \"#fdca26\"], [1.0, \"#f0f921\"]], \"type\": \"histogram2d\"}], \"histogram2dcontour\": [{\"colorbar\": {\"outlinewidth\": 0, \"ticks\": \"\"}, \"colorscale\": [[0.0, \"#0d0887\"], [0.1111111111111111, \"#46039f\"], [0.2222222222222222, \"#7201a8\"], [0.3333333333333333, \"#9c179e\"], [0.4444444444444444, \"#bd3786\"], [0.5555555555555556, \"#d8576b\"], [0.6666666666666666, \"#ed7953\"], [0.7777777777777778, \"#fb9f3a\"], [0.8888888888888888, \"#fdca26\"], [1.0, \"#f0f921\"]], \"type\": \"histogram2dcontour\"}], \"mesh3d\": [{\"colorbar\": {\"outlinewidth\": 0, \"ticks\": \"\"}, \"type\": \"mesh3d\"}], \"parcoords\": [{\"line\": {\"colorbar\": {\"outlinewidth\": 0, \"ticks\": \"\"}}, \"type\": \"parcoords\"}], \"pie\": [{\"automargin\": true, \"type\": \"pie\"}], \"scatter\": [{\"marker\": {\"line\": {\"color\": \"#283442\"}}, \"type\": \"scatter\"}], \"scatter3d\": [{\"line\": {\"colorbar\": {\"outlinewidth\": 0, \"ticks\": \"\"}}, \"marker\": {\"colorbar\": {\"outlinewidth\": 0, \"ticks\": \"\"}}, \"type\": \"scatter3d\"}], \"scattercarpet\": [{\"marker\": {\"colorbar\": {\"outlinewidth\": 0, \"ticks\": \"\"}}, \"type\": \"scattercarpet\"}], \"scattergeo\": [{\"marker\": {\"colorbar\": {\"outlinewidth\": 0, \"ticks\": \"\"}}, \"type\": \"scattergeo\"}], \"scattergl\": [{\"marker\": {\"line\": {\"color\": \"#283442\"}}, \"type\": \"scattergl\"}], \"scattermapbox\": [{\"marker\": {\"colorbar\": {\"outlinewidth\": 0, \"ticks\": \"\"}}, \"type\": \"scattermapbox\"}], \"scatterpolar\": [{\"marker\": {\"colorbar\": {\"outlinewidth\": 0, \"ticks\": \"\"}}, \"type\": \"scatterpolar\"}], \"scatterpolargl\": [{\"marker\": {\"colorbar\": {\"outlinewidth\": 0, \"ticks\": \"\"}}, \"type\": \"scatterpolargl\"}], \"scatterternary\": [{\"marker\": {\"colorbar\": {\"outlinewidth\": 0, \"ticks\": \"\"}}, \"type\": \"scatterternary\"}], \"surface\": [{\"colorbar\": {\"outlinewidth\": 0, \"ticks\": \"\"}, \"colorscale\": [[0.0, \"#0d0887\"], [0.1111111111111111, \"#46039f\"], [0.2222222222222222, \"#7201a8\"], [0.3333333333333333, \"#9c179e\"], [0.4444444444444444, \"#bd3786\"], [0.5555555555555556, \"#d8576b\"], [0.6666666666666666, \"#ed7953\"], [0.7777777777777778, \"#fb9f3a\"], [0.8888888888888888, \"#fdca26\"], [1.0, \"#f0f921\"]], \"type\": \"surface\"}], \"table\": [{\"cells\": {\"fill\": {\"color\": \"#506784\"}, \"line\": {\"color\": \"rgb(17,17,17)\"}}, \"header\": {\"fill\": {\"color\": \"#2a3f5f\"}, \"line\": {\"color\": \"rgb(17,17,17)\"}}, \"type\": \"table\"}]}, \"layout\": {\"annotationdefaults\": {\"arrowcolor\": \"#f2f5fa\", \"arrowhead\": 0, \"arrowwidth\": 1}, \"coloraxis\": {\"colorbar\": {\"outlinewidth\": 0, \"ticks\": \"\"}}, \"colorscale\": {\"diverging\": [[0, \"#8e0152\"], [0.1, \"#c51b7d\"], [0.2, \"#de77ae\"], [0.3, \"#f1b6da\"], [0.4, \"#fde0ef\"], [0.5, \"#f7f7f7\"], [0.6, \"#e6f5d0\"], [0.7, \"#b8e186\"], [0.8, \"#7fbc41\"], [0.9, \"#4d9221\"], [1, \"#276419\"]], \"sequential\": [[0.0, \"#0d0887\"], [0.1111111111111111, \"#46039f\"], [0.2222222222222222, \"#7201a8\"], [0.3333333333333333, \"#9c179e\"], [0.4444444444444444, \"#bd3786\"], [0.5555555555555556, \"#d8576b\"], [0.6666666666666666, \"#ed7953\"], [0.7777777777777778, \"#fb9f3a\"], [0.8888888888888888, \"#fdca26\"], [1.0, \"#f0f921\"]], \"sequentialminus\": [[0.0, \"#0d0887\"], [0.1111111111111111, \"#46039f\"], [0.2222222222222222, \"#7201a8\"], [0.3333333333333333, \"#9c179e\"], [0.4444444444444444, \"#bd3786\"], [0.5555555555555556, \"#d8576b\"], [0.6666666666666666, \"#ed7953\"], [0.7777777777777778, \"#fb9f3a\"], [0.8888888888888888, \"#fdca26\"], [1.0, \"#f0f921\"]]}, \"colorway\": [\"#636efa\", \"#EF553B\", \"#00cc96\", \"#ab63fa\", \"#FFA15A\", \"#19d3f3\", \"#FF6692\", \"#B6E880\", \"#FF97FF\", \"#FECB52\"], \"font\": {\"color\": \"#f2f5fa\"}, \"geo\": {\"bgcolor\": \"rgb(17,17,17)\", \"lakecolor\": \"rgb(17,17,17)\", \"landcolor\": \"rgb(17,17,17)\", \"showlakes\": true, \"showland\": true, \"subunitcolor\": \"#506784\"}, \"hoverlabel\": {\"align\": \"left\"}, \"hovermode\": \"closest\", \"mapbox\": {\"style\": \"dark\"}, \"paper_bgcolor\": \"rgb(17,17,17)\", \"plot_bgcolor\": \"rgb(17,17,17)\", \"polar\": {\"angularaxis\": {\"gridcolor\": \"#506784\", \"linecolor\": \"#506784\", \"ticks\": \"\"}, \"bgcolor\": \"rgb(17,17,17)\", \"radialaxis\": {\"gridcolor\": \"#506784\", \"linecolor\": \"#506784\", \"ticks\": \"\"}}, \"scene\": {\"xaxis\": {\"backgroundcolor\": \"rgb(17,17,17)\", \"gridcolor\": \"#506784\", \"gridwidth\": 2, \"linecolor\": \"#506784\", \"showbackground\": true, \"ticks\": \"\", \"zerolinecolor\": \"#C8D4E3\"}, \"yaxis\": {\"backgroundcolor\": \"rgb(17,17,17)\", \"gridcolor\": \"#506784\", \"gridwidth\": 2, \"linecolor\": \"#506784\", \"showbackground\": true, \"ticks\": \"\", \"zerolinecolor\": \"#C8D4E3\"}, \"zaxis\": {\"backgroundcolor\": \"rgb(17,17,17)\", \"gridcolor\": \"#506784\", \"gridwidth\": 2, \"linecolor\": \"#506784\", \"showbackground\": true, \"ticks\": \"\", \"zerolinecolor\": \"#C8D4E3\"}}, \"shapedefaults\": {\"line\": {\"color\": \"#f2f5fa\"}}, \"sliderdefaults\": {\"bgcolor\": \"#C8D4E3\", \"bordercolor\": \"rgb(17,17,17)\", \"borderwidth\": 1, \"tickwidth\": 0}, \"ternary\": {\"aaxis\": {\"gridcolor\": \"#506784\", \"linecolor\": \"#506784\", \"ticks\": \"\"}, \"baxis\": {\"gridcolor\": \"#506784\", \"linecolor\": \"#506784\", \"ticks\": \"\"}, \"bgcolor\": \"rgb(17,17,17)\", \"caxis\": {\"gridcolor\": \"#506784\", \"linecolor\": \"#506784\", \"ticks\": \"\"}}, \"title\": {\"x\": 0.05}, \"updatemenudefaults\": {\"bgcolor\": \"#506784\", \"borderwidth\": 0}, \"xaxis\": {\"automargin\": true, \"gridcolor\": \"#283442\", \"linecolor\": \"#506784\", \"ticks\": \"\", \"title\": {\"standoff\": 15}, \"zerolinecolor\": \"#283442\", \"zerolinewidth\": 2}, \"yaxis\": {\"automargin\": true, \"gridcolor\": \"#283442\", \"linecolor\": \"#506784\", \"ticks\": \"\", \"title\": {\"standoff\": 15}, \"zerolinecolor\": \"#283442\", \"zerolinewidth\": 2}}}, \"title\": {\"text\": \"Weekend impact on objects detected\"}, \"xaxis\": {\"anchor\": \"y\", \"domain\": [0.0, 1.0], \"title\": {\"text\": \"obs_count\"}}, \"yaxis\": {\"anchor\": \"x\", \"domain\": [0.0, 1.0], \"title\": {\"text\": \"count\"}}},\n",
       "                        {\"responsive\": true}\n",
       "                    ).then(function(){\n",
       "                            \n",
       "var gd = document.getElementById('b45bf9fa-fdb1-4359-aa29-e7de7ca28c01');\n",
       "var x = new MutationObserver(function (mutations, observer) {{\n",
       "        var display = window.getComputedStyle(gd).display;\n",
       "        if (!display || display === 'none') {{\n",
       "            console.log([gd, 'removed!']);\n",
       "            Plotly.purge(gd);\n",
       "            observer.disconnect();\n",
       "        }}\n",
       "}});\n",
       "\n",
       "// Listen for the removal of the full notebook cells\n",
       "var notebookContainer = gd.closest('#notebook-container');\n",
       "if (notebookContainer) {{\n",
       "    x.observe(notebookContainer, {childList: true});\n",
       "}}\n",
       "\n",
       "// Listen for the clearing of the current output cell\n",
       "var outputEl = gd.closest('.output');\n",
       "if (outputEl) {{\n",
       "    x.observe(outputEl, {childList: true});\n",
       "}}\n",
       "\n",
       "                        })\n",
       "                };\n",
       "                });\n",
       "            </script>\n",
       "        </div>"
      ]
     },
     "metadata": {},
     "output_type": "display_data"
    }
   ],
   "source": [
    "px.histogram(hr_range(13,16), x=\"obs_count\", color=\"is_weekend_day\", opacity=0.7,\n",
    "             barmode='group', height=300, histnorm='probability density',\n",
    "             title='Weekend impact on objects detected')"
   ]
  },
  {
   "cell_type": "markdown",
   "metadata": {},
   "source": [
    "Does bad weather have an impact on the number of objects?"
   ]
  },
  {
   "cell_type": "code",
   "execution_count": 93,
   "metadata": {},
   "outputs": [],
   "source": [
    "# define 3 categories of weather: Good, Bad and Perfect\n",
    "merged['cur_weather_type'] = 'Good'\n",
    "perfect_idx = merged['cur__summary'] == 'Clear'\n",
    "merged.loc[perfect_idx, 'cur_weather_type'] = 'Perfect'\n",
    "bad_weather_words = ['drizzle', 'rain', 'danger']\n",
    "bad_idx = merged['cur__summary'].str.contains(\"|\".join(bad_weather_words), case=False)\n",
    "merged.loc[bad_idx, 'cur_weather_type'] = 'Bad'"
   ]
  },
  {
   "cell_type": "markdown",
   "metadata": {},
   "source": [
    "As can be seen in the plot below, when weather is bad (during the day) there are more time intervals without any objects detected.\n",
    "\n",
    "It can be seen clearly during afternoon hours, as seen below. There is a probability of 36% that there will be 0 objects if weather is bad, but if weather is perfect (clear skies), that probability is only 25%. "
   ]
  },
  {
   "cell_type": "code",
   "execution_count": 104,
   "metadata": {},
   "outputs": [
    {
     "data": {
      "application/vnd.plotly.v1+json": {
       "config": {
        "plotlyServerURL": "https://plot.ly"
       },
       "data": [
        {
         "alignmentgroup": "True",
         "bingroup": "x",
         "histnorm": "probability density",
         "hovertemplate": "cur_weather_type=Perfect<br>obs_count=%{x}<br>count=%{y}<extra></extra>",
         "legendgroup": "Perfect",
         "marker": {
          "color": "#636efa",
          "opacity": 0.7
         },
         "name": "Perfect",
         "offsetgroup": "Perfect",
         "orientation": "v",
         "showlegend": true,
         "type": "histogram",
         "x": [
          2,
          1,
          2,
          6,
          3,
          1,
          3,
          2,
          1,
          2,
          4,
          2,
          5,
          2,
          3,
          2,
          2,
          8,
          4,
          2,
          1,
          1,
          0,
          1,
          1,
          2,
          4,
          2,
          2,
          0,
          1,
          5,
          3,
          2,
          0,
          0,
          2,
          4,
          2,
          0,
          3,
          0,
          2,
          0,
          4,
          5,
          1,
          0,
          2,
          7,
          0,
          0,
          0,
          0,
          0,
          3,
          8,
          7,
          3,
          2,
          6,
          3,
          3,
          0,
          2,
          1,
          1,
          3,
          2,
          4,
          3,
          3,
          1,
          6,
          1,
          2,
          6,
          4,
          3,
          1,
          3,
          1,
          2,
          5,
          4,
          0,
          2,
          0,
          3,
          3,
          3,
          3,
          5,
          2,
          2,
          2,
          2,
          1,
          1,
          3,
          4,
          5,
          0,
          2,
          1,
          1,
          0,
          3,
          6,
          0,
          4,
          3,
          0,
          1,
          3,
          2,
          6,
          2,
          4,
          0,
          9,
          0,
          0,
          0,
          1,
          1,
          0,
          0,
          2,
          1,
          1,
          1,
          1,
          2,
          0,
          0,
          1,
          0,
          2,
          0,
          6,
          6,
          0,
          3,
          2,
          1,
          1,
          1,
          1,
          2,
          1,
          2,
          0,
          0,
          2,
          5,
          1,
          0,
          1,
          0,
          4,
          1,
          0,
          1,
          1,
          1,
          1,
          4,
          0,
          1,
          0,
          0,
          0,
          3,
          3,
          7,
          0,
          0,
          1,
          2,
          2,
          3,
          7,
          3,
          0,
          0,
          2,
          0,
          2,
          3,
          2,
          7,
          2,
          0,
          1,
          2,
          2,
          1,
          0,
          1,
          3,
          4,
          0,
          3,
          1,
          1,
          2,
          2,
          4,
          2,
          4,
          0,
          0,
          7,
          0,
          4,
          6,
          2,
          0,
          0,
          2,
          2,
          3,
          4,
          4,
          2,
          1,
          0,
          3,
          0,
          0,
          2,
          1,
          0,
          0,
          5,
          2,
          2,
          5,
          4,
          2,
          0,
          1,
          4,
          1,
          4,
          0,
          3,
          1,
          1,
          1,
          0,
          1,
          4,
          4,
          8,
          4,
          0,
          2,
          0,
          1,
          5,
          1,
          0,
          2,
          1,
          2,
          2,
          0,
          0,
          5,
          0,
          0,
          1,
          2,
          5,
          2,
          1,
          2,
          3,
          0,
          2,
          0,
          7,
          0,
          1,
          0,
          1,
          3,
          0,
          4
         ],
         "xaxis": "x",
         "yaxis": "y"
        },
        {
         "alignmentgroup": "True",
         "bingroup": "x",
         "histnorm": "probability density",
         "hovertemplate": "cur_weather_type=Good<br>obs_count=%{x}<br>count=%{y}<extra></extra>",
         "legendgroup": "Good",
         "marker": {
          "color": "#EF553B",
          "opacity": 0.7
         },
         "name": "Good",
         "offsetgroup": "Good",
         "orientation": "v",
         "showlegend": true,
         "type": "histogram",
         "x": [
          1,
          0,
          0,
          0,
          0,
          1,
          0,
          2,
          0,
          6,
          3,
          4,
          2,
          5,
          1,
          0,
          5,
          1,
          2,
          2,
          4,
          5,
          0,
          3,
          6,
          0,
          0,
          3,
          3,
          1,
          6,
          0,
          2,
          2,
          1,
          3,
          3,
          4,
          2,
          3,
          2,
          0,
          2,
          4,
          4,
          2,
          4,
          2,
          6,
          6,
          4,
          0,
          1,
          2,
          4,
          0,
          3,
          2,
          0,
          2,
          1,
          1,
          1,
          1,
          0,
          0,
          5,
          6,
          4,
          1,
          5,
          1,
          1,
          2,
          0,
          4,
          1,
          4,
          0,
          2,
          4,
          3,
          1,
          4,
          3,
          3,
          1,
          0,
          8,
          4,
          1,
          6,
          7,
          5,
          4,
          4,
          6,
          4,
          8,
          3,
          5,
          2,
          5,
          4,
          3,
          3,
          1,
          1,
          1,
          0,
          5,
          3,
          1,
          0,
          2,
          3,
          3,
          2,
          1,
          1,
          2,
          1,
          1,
          3,
          2,
          2,
          2,
          2,
          2,
          2,
          1,
          2,
          3,
          4,
          0,
          3,
          3,
          3,
          5,
          4,
          0,
          3,
          4,
          2,
          3,
          4,
          1,
          3,
          5,
          2,
          1,
          0,
          1,
          0,
          1,
          1,
          0,
          5,
          3,
          3,
          3,
          5,
          0,
          2,
          2,
          0,
          0,
          4,
          1,
          1,
          1,
          3,
          1,
          1,
          1,
          0,
          0,
          0,
          4,
          6,
          5,
          0,
          4,
          6,
          1,
          0,
          4,
          2,
          3,
          1,
          2,
          4,
          2,
          5,
          6,
          1,
          0,
          0,
          2,
          4,
          5,
          0,
          3,
          6,
          1,
          6,
          2,
          3,
          3,
          1,
          12,
          0,
          0,
          2,
          2,
          1,
          1,
          0,
          0,
          0,
          0,
          0,
          6,
          3,
          1,
          2,
          3,
          0,
          1,
          0,
          3,
          3,
          3,
          1,
          1,
          1,
          0,
          2,
          1,
          4,
          2,
          2,
          0,
          2,
          2,
          1,
          3,
          3,
          2,
          4,
          3,
          3,
          1,
          0,
          1,
          2,
          0,
          0,
          2,
          0,
          0,
          0,
          0,
          0,
          2,
          4,
          0,
          3,
          4,
          2,
          1,
          0,
          1,
          1,
          0,
          2,
          3,
          8,
          1,
          3,
          1,
          2,
          5,
          7,
          7,
          1,
          0,
          0,
          3,
          3,
          5,
          0,
          1,
          3,
          1,
          3,
          2,
          0,
          0,
          2,
          5,
          1,
          0,
          0,
          4,
          0,
          1,
          0,
          3,
          2,
          2,
          6,
          1,
          4,
          0,
          1,
          1,
          1,
          4,
          0,
          0,
          0,
          3,
          2,
          0,
          0,
          0,
          1,
          1,
          0,
          0,
          1,
          0,
          1,
          1,
          0,
          3,
          2,
          0,
          2,
          1,
          0,
          1,
          1,
          1,
          1,
          1,
          3,
          6,
          1,
          3,
          0,
          1,
          0,
          4,
          2,
          0,
          0,
          2,
          1,
          1,
          0,
          1,
          1,
          2,
          3,
          1,
          0,
          1,
          3,
          0,
          0,
          1,
          1,
          2,
          4,
          0,
          0,
          0,
          1,
          0,
          2,
          3,
          3,
          0,
          2,
          5,
          2,
          6,
          0,
          2,
          3,
          2,
          3,
          2,
          0,
          0,
          0,
          3,
          3,
          6,
          0,
          1,
          0,
          0,
          0,
          0,
          2,
          3,
          7,
          1,
          3,
          1,
          2,
          1,
          5,
          2,
          0,
          3,
          0,
          0,
          0,
          3,
          0,
          0,
          0,
          0,
          4,
          1,
          0,
          3,
          3,
          5,
          5,
          5,
          1,
          0,
          0,
          2,
          3,
          1,
          1,
          3,
          1,
          0,
          0,
          0,
          0,
          2,
          1,
          1,
          1,
          0,
          1,
          3,
          2,
          0,
          4,
          4,
          0,
          0,
          0,
          2,
          0,
          1,
          3,
          3,
          0,
          0,
          0,
          2,
          0,
          1,
          0,
          2,
          0,
          2,
          0,
          1,
          3,
          3,
          4,
          4,
          2,
          0,
          5,
          0,
          4,
          0,
          1,
          3,
          1,
          2,
          0,
          2,
          5,
          1,
          1,
          0,
          1,
          5,
          5,
          5,
          7,
          0,
          0,
          3,
          3,
          0,
          12,
          4,
          0,
          0,
          4,
          2,
          1,
          3,
          0,
          4,
          2,
          5,
          2,
          5,
          5,
          5,
          1,
          3,
          0,
          4,
          3,
          2,
          0,
          0,
          1,
          2,
          2,
          3,
          5,
          1,
          0,
          0,
          1,
          0,
          0,
          0,
          4,
          1,
          2,
          0,
          1,
          0,
          1,
          3,
          1,
          8,
          2,
          1,
          0,
          4,
          5,
          5,
          3,
          1,
          0,
          0,
          2,
          1,
          2,
          1,
          3,
          1,
          1,
          3,
          1,
          2,
          1,
          0,
          0,
          0,
          1,
          2,
          5,
          3,
          3,
          4,
          0,
          0,
          4,
          3,
          1,
          5,
          2,
          2,
          0,
          0,
          6,
          3,
          0,
          0,
          2,
          0,
          1,
          1,
          2,
          2,
          0,
          0,
          6,
          1,
          3,
          2,
          0,
          8,
          2,
          3,
          4,
          2,
          0,
          1,
          4,
          2,
          1,
          1,
          1,
          5,
          8,
          5,
          4,
          0,
          0,
          0,
          1,
          1,
          2,
          3,
          1,
          1,
          1,
          2,
          0,
          0,
          1,
          3,
          2,
          3,
          8,
          2,
          0,
          0,
          4,
          1,
          0,
          0,
          2,
          1,
          3,
          1,
          1,
          1,
          1,
          2,
          3,
          0,
          2,
          2,
          2,
          4,
          4,
          1,
          3,
          3,
          4,
          0,
          1,
          3,
          3,
          1,
          1,
          1,
          3,
          1,
          1,
          2,
          2,
          0,
          1,
          1,
          3,
          2,
          0,
          0,
          1,
          2,
          4,
          4,
          0,
          2,
          0,
          2,
          0,
          3,
          2,
          1,
          3,
          2,
          0,
          1,
          3,
          3,
          4
         ],
         "xaxis": "x",
         "yaxis": "y"
        },
        {
         "alignmentgroup": "True",
         "bingroup": "x",
         "histnorm": "probability density",
         "hovertemplate": "cur_weather_type=Bad<br>obs_count=%{x}<br>count=%{y}<extra></extra>",
         "legendgroup": "Bad",
         "marker": {
          "color": "#00cc96",
          "opacity": 0.7
         },
         "name": "Bad",
         "offsetgroup": "Bad",
         "orientation": "v",
         "showlegend": true,
         "type": "histogram",
         "x": [
          4,
          1,
          6,
          0,
          1,
          1,
          4,
          2,
          1,
          1,
          0,
          0,
          2,
          0,
          1,
          8,
          3,
          0,
          6,
          3,
          3,
          1,
          0,
          1,
          0,
          1,
          1,
          4,
          3,
          1,
          2,
          1,
          1,
          0,
          1,
          2,
          1,
          1,
          2,
          4,
          2,
          1,
          1,
          4,
          0,
          2,
          0,
          1,
          2,
          1,
          1,
          0,
          4,
          1,
          1,
          2,
          1,
          2,
          1,
          2,
          0,
          2,
          3,
          0,
          1,
          1,
          3,
          2,
          0,
          2,
          0,
          2,
          0,
          1,
          2,
          2,
          0,
          1,
          0,
          3,
          4,
          0,
          1,
          3,
          1,
          2,
          0,
          0,
          0,
          1,
          0,
          1,
          1,
          0,
          0,
          0,
          1,
          2,
          0,
          0,
          1,
          3,
          1,
          1,
          3,
          4,
          4,
          0,
          0,
          2,
          1,
          0,
          1,
          0,
          2,
          1,
          0,
          3,
          0,
          5,
          1,
          2,
          0,
          1,
          1,
          4,
          4,
          4,
          0,
          0,
          0,
          0,
          2,
          3,
          2,
          0,
          1,
          2,
          0,
          0,
          0,
          1,
          0,
          1,
          4,
          0,
          1,
          1,
          0,
          0,
          0,
          0,
          1,
          1,
          0,
          2,
          0,
          0,
          1,
          3,
          0,
          6,
          3,
          3,
          2,
          0,
          0,
          1,
          0,
          0,
          1,
          0,
          0,
          0,
          3,
          1,
          0,
          1,
          1,
          0,
          1,
          0,
          0,
          2,
          0,
          1,
          0,
          0,
          0,
          2,
          5,
          1,
          4,
          1,
          3,
          0,
          2,
          1,
          1,
          2,
          1,
          6,
          0,
          0,
          1,
          0,
          0,
          0,
          1,
          2,
          2,
          0,
          0,
          1,
          0,
          0,
          0,
          0,
          0,
          4,
          0,
          0,
          2,
          0,
          0,
          2,
          1,
          1,
          0,
          2,
          0,
          0,
          0,
          0,
          0,
          0,
          3,
          1,
          2,
          1,
          1,
          0,
          0,
          3,
          2,
          0,
          0,
          3,
          2,
          6,
          3,
          4,
          4,
          0,
          1,
          1,
          0,
          1,
          1,
          6,
          3,
          0,
          0,
          2,
          3,
          2,
          0,
          1,
          0,
          2,
          0,
          2,
          1,
          0,
          2,
          0,
          2,
          0,
          0,
          0,
          3,
          1,
          1,
          0,
          0,
          1,
          1,
          0,
          1,
          1,
          0,
          1,
          2,
          0,
          1,
          7,
          1,
          1,
          5,
          2,
          1,
          1,
          3,
          2,
          0,
          0,
          2,
          2,
          2,
          8,
          0,
          3,
          0,
          4,
          0,
          3,
          4,
          0,
          2,
          2,
          1,
          1,
          1,
          1,
          1,
          1,
          0,
          1,
          0,
          0,
          1,
          0,
          1,
          0,
          1,
          2,
          8,
          4,
          2,
          5
         ],
         "xaxis": "x",
         "yaxis": "y"
        }
       ],
       "layout": {
        "autosize": true,
        "barmode": "group",
        "legend": {
         "title": {
          "text": "cur_weather_type"
         },
         "tracegroupgap": 0
        },
        "template": {
         "data": {
          "bar": [
           {
            "error_x": {
             "color": "#f2f5fa"
            },
            "error_y": {
             "color": "#f2f5fa"
            },
            "marker": {
             "line": {
              "color": "rgb(17,17,17)",
              "width": 0.5
             }
            },
            "type": "bar"
           }
          ],
          "barpolar": [
           {
            "marker": {
             "line": {
              "color": "rgb(17,17,17)",
              "width": 0.5
             }
            },
            "type": "barpolar"
           }
          ],
          "carpet": [
           {
            "aaxis": {
             "endlinecolor": "#A2B1C6",
             "gridcolor": "#506784",
             "linecolor": "#506784",
             "minorgridcolor": "#506784",
             "startlinecolor": "#A2B1C6"
            },
            "baxis": {
             "endlinecolor": "#A2B1C6",
             "gridcolor": "#506784",
             "linecolor": "#506784",
             "minorgridcolor": "#506784",
             "startlinecolor": "#A2B1C6"
            },
            "type": "carpet"
           }
          ],
          "choropleth": [
           {
            "colorbar": {
             "outlinewidth": 0,
             "ticks": ""
            },
            "type": "choropleth"
           }
          ],
          "contour": [
           {
            "colorbar": {
             "outlinewidth": 0,
             "ticks": ""
            },
            "colorscale": [
             [
              0,
              "#0d0887"
             ],
             [
              0.1111111111111111,
              "#46039f"
             ],
             [
              0.2222222222222222,
              "#7201a8"
             ],
             [
              0.3333333333333333,
              "#9c179e"
             ],
             [
              0.4444444444444444,
              "#bd3786"
             ],
             [
              0.5555555555555556,
              "#d8576b"
             ],
             [
              0.6666666666666666,
              "#ed7953"
             ],
             [
              0.7777777777777778,
              "#fb9f3a"
             ],
             [
              0.8888888888888888,
              "#fdca26"
             ],
             [
              1,
              "#f0f921"
             ]
            ],
            "type": "contour"
           }
          ],
          "contourcarpet": [
           {
            "colorbar": {
             "outlinewidth": 0,
             "ticks": ""
            },
            "type": "contourcarpet"
           }
          ],
          "heatmap": [
           {
            "colorbar": {
             "outlinewidth": 0,
             "ticks": ""
            },
            "colorscale": [
             [
              0,
              "#0d0887"
             ],
             [
              0.1111111111111111,
              "#46039f"
             ],
             [
              0.2222222222222222,
              "#7201a8"
             ],
             [
              0.3333333333333333,
              "#9c179e"
             ],
             [
              0.4444444444444444,
              "#bd3786"
             ],
             [
              0.5555555555555556,
              "#d8576b"
             ],
             [
              0.6666666666666666,
              "#ed7953"
             ],
             [
              0.7777777777777778,
              "#fb9f3a"
             ],
             [
              0.8888888888888888,
              "#fdca26"
             ],
             [
              1,
              "#f0f921"
             ]
            ],
            "type": "heatmap"
           }
          ],
          "heatmapgl": [
           {
            "colorbar": {
             "outlinewidth": 0,
             "ticks": ""
            },
            "colorscale": [
             [
              0,
              "#0d0887"
             ],
             [
              0.1111111111111111,
              "#46039f"
             ],
             [
              0.2222222222222222,
              "#7201a8"
             ],
             [
              0.3333333333333333,
              "#9c179e"
             ],
             [
              0.4444444444444444,
              "#bd3786"
             ],
             [
              0.5555555555555556,
              "#d8576b"
             ],
             [
              0.6666666666666666,
              "#ed7953"
             ],
             [
              0.7777777777777778,
              "#fb9f3a"
             ],
             [
              0.8888888888888888,
              "#fdca26"
             ],
             [
              1,
              "#f0f921"
             ]
            ],
            "type": "heatmapgl"
           }
          ],
          "histogram": [
           {
            "marker": {
             "colorbar": {
              "outlinewidth": 0,
              "ticks": ""
             }
            },
            "type": "histogram"
           }
          ],
          "histogram2d": [
           {
            "colorbar": {
             "outlinewidth": 0,
             "ticks": ""
            },
            "colorscale": [
             [
              0,
              "#0d0887"
             ],
             [
              0.1111111111111111,
              "#46039f"
             ],
             [
              0.2222222222222222,
              "#7201a8"
             ],
             [
              0.3333333333333333,
              "#9c179e"
             ],
             [
              0.4444444444444444,
              "#bd3786"
             ],
             [
              0.5555555555555556,
              "#d8576b"
             ],
             [
              0.6666666666666666,
              "#ed7953"
             ],
             [
              0.7777777777777778,
              "#fb9f3a"
             ],
             [
              0.8888888888888888,
              "#fdca26"
             ],
             [
              1,
              "#f0f921"
             ]
            ],
            "type": "histogram2d"
           }
          ],
          "histogram2dcontour": [
           {
            "colorbar": {
             "outlinewidth": 0,
             "ticks": ""
            },
            "colorscale": [
             [
              0,
              "#0d0887"
             ],
             [
              0.1111111111111111,
              "#46039f"
             ],
             [
              0.2222222222222222,
              "#7201a8"
             ],
             [
              0.3333333333333333,
              "#9c179e"
             ],
             [
              0.4444444444444444,
              "#bd3786"
             ],
             [
              0.5555555555555556,
              "#d8576b"
             ],
             [
              0.6666666666666666,
              "#ed7953"
             ],
             [
              0.7777777777777778,
              "#fb9f3a"
             ],
             [
              0.8888888888888888,
              "#fdca26"
             ],
             [
              1,
              "#f0f921"
             ]
            ],
            "type": "histogram2dcontour"
           }
          ],
          "mesh3d": [
           {
            "colorbar": {
             "outlinewidth": 0,
             "ticks": ""
            },
            "type": "mesh3d"
           }
          ],
          "parcoords": [
           {
            "line": {
             "colorbar": {
              "outlinewidth": 0,
              "ticks": ""
             }
            },
            "type": "parcoords"
           }
          ],
          "pie": [
           {
            "automargin": true,
            "type": "pie"
           }
          ],
          "scatter": [
           {
            "marker": {
             "line": {
              "color": "#283442"
             }
            },
            "type": "scatter"
           }
          ],
          "scatter3d": [
           {
            "line": {
             "colorbar": {
              "outlinewidth": 0,
              "ticks": ""
             }
            },
            "marker": {
             "colorbar": {
              "outlinewidth": 0,
              "ticks": ""
             }
            },
            "type": "scatter3d"
           }
          ],
          "scattercarpet": [
           {
            "marker": {
             "colorbar": {
              "outlinewidth": 0,
              "ticks": ""
             }
            },
            "type": "scattercarpet"
           }
          ],
          "scattergeo": [
           {
            "marker": {
             "colorbar": {
              "outlinewidth": 0,
              "ticks": ""
             }
            },
            "type": "scattergeo"
           }
          ],
          "scattergl": [
           {
            "marker": {
             "line": {
              "color": "#283442"
             }
            },
            "type": "scattergl"
           }
          ],
          "scattermapbox": [
           {
            "marker": {
             "colorbar": {
              "outlinewidth": 0,
              "ticks": ""
             }
            },
            "type": "scattermapbox"
           }
          ],
          "scatterpolar": [
           {
            "marker": {
             "colorbar": {
              "outlinewidth": 0,
              "ticks": ""
             }
            },
            "type": "scatterpolar"
           }
          ],
          "scatterpolargl": [
           {
            "marker": {
             "colorbar": {
              "outlinewidth": 0,
              "ticks": ""
             }
            },
            "type": "scatterpolargl"
           }
          ],
          "scatterternary": [
           {
            "marker": {
             "colorbar": {
              "outlinewidth": 0,
              "ticks": ""
             }
            },
            "type": "scatterternary"
           }
          ],
          "surface": [
           {
            "colorbar": {
             "outlinewidth": 0,
             "ticks": ""
            },
            "colorscale": [
             [
              0,
              "#0d0887"
             ],
             [
              0.1111111111111111,
              "#46039f"
             ],
             [
              0.2222222222222222,
              "#7201a8"
             ],
             [
              0.3333333333333333,
              "#9c179e"
             ],
             [
              0.4444444444444444,
              "#bd3786"
             ],
             [
              0.5555555555555556,
              "#d8576b"
             ],
             [
              0.6666666666666666,
              "#ed7953"
             ],
             [
              0.7777777777777778,
              "#fb9f3a"
             ],
             [
              0.8888888888888888,
              "#fdca26"
             ],
             [
              1,
              "#f0f921"
             ]
            ],
            "type": "surface"
           }
          ],
          "table": [
           {
            "cells": {
             "fill": {
              "color": "#506784"
             },
             "line": {
              "color": "rgb(17,17,17)"
             }
            },
            "header": {
             "fill": {
              "color": "#2a3f5f"
             },
             "line": {
              "color": "rgb(17,17,17)"
             }
            },
            "type": "table"
           }
          ]
         },
         "layout": {
          "annotationdefaults": {
           "arrowcolor": "#f2f5fa",
           "arrowhead": 0,
           "arrowwidth": 1
          },
          "coloraxis": {
           "colorbar": {
            "outlinewidth": 0,
            "ticks": ""
           }
          },
          "colorscale": {
           "diverging": [
            [
             0,
             "#8e0152"
            ],
            [
             0.1,
             "#c51b7d"
            ],
            [
             0.2,
             "#de77ae"
            ],
            [
             0.3,
             "#f1b6da"
            ],
            [
             0.4,
             "#fde0ef"
            ],
            [
             0.5,
             "#f7f7f7"
            ],
            [
             0.6,
             "#e6f5d0"
            ],
            [
             0.7,
             "#b8e186"
            ],
            [
             0.8,
             "#7fbc41"
            ],
            [
             0.9,
             "#4d9221"
            ],
            [
             1,
             "#276419"
            ]
           ],
           "sequential": [
            [
             0,
             "#0d0887"
            ],
            [
             0.1111111111111111,
             "#46039f"
            ],
            [
             0.2222222222222222,
             "#7201a8"
            ],
            [
             0.3333333333333333,
             "#9c179e"
            ],
            [
             0.4444444444444444,
             "#bd3786"
            ],
            [
             0.5555555555555556,
             "#d8576b"
            ],
            [
             0.6666666666666666,
             "#ed7953"
            ],
            [
             0.7777777777777778,
             "#fb9f3a"
            ],
            [
             0.8888888888888888,
             "#fdca26"
            ],
            [
             1,
             "#f0f921"
            ]
           ],
           "sequentialminus": [
            [
             0,
             "#0d0887"
            ],
            [
             0.1111111111111111,
             "#46039f"
            ],
            [
             0.2222222222222222,
             "#7201a8"
            ],
            [
             0.3333333333333333,
             "#9c179e"
            ],
            [
             0.4444444444444444,
             "#bd3786"
            ],
            [
             0.5555555555555556,
             "#d8576b"
            ],
            [
             0.6666666666666666,
             "#ed7953"
            ],
            [
             0.7777777777777778,
             "#fb9f3a"
            ],
            [
             0.8888888888888888,
             "#fdca26"
            ],
            [
             1,
             "#f0f921"
            ]
           ]
          },
          "colorway": [
           "#636efa",
           "#EF553B",
           "#00cc96",
           "#ab63fa",
           "#FFA15A",
           "#19d3f3",
           "#FF6692",
           "#B6E880",
           "#FF97FF",
           "#FECB52"
          ],
          "font": {
           "color": "#f2f5fa"
          },
          "geo": {
           "bgcolor": "rgb(17,17,17)",
           "lakecolor": "rgb(17,17,17)",
           "landcolor": "rgb(17,17,17)",
           "showlakes": true,
           "showland": true,
           "subunitcolor": "#506784"
          },
          "hoverlabel": {
           "align": "left"
          },
          "hovermode": "closest",
          "mapbox": {
           "style": "dark"
          },
          "paper_bgcolor": "rgb(17,17,17)",
          "plot_bgcolor": "rgb(17,17,17)",
          "polar": {
           "angularaxis": {
            "gridcolor": "#506784",
            "linecolor": "#506784",
            "ticks": ""
           },
           "bgcolor": "rgb(17,17,17)",
           "radialaxis": {
            "gridcolor": "#506784",
            "linecolor": "#506784",
            "ticks": ""
           }
          },
          "scene": {
           "xaxis": {
            "backgroundcolor": "rgb(17,17,17)",
            "gridcolor": "#506784",
            "gridwidth": 2,
            "linecolor": "#506784",
            "showbackground": true,
            "ticks": "",
            "zerolinecolor": "#C8D4E3"
           },
           "yaxis": {
            "backgroundcolor": "rgb(17,17,17)",
            "gridcolor": "#506784",
            "gridwidth": 2,
            "linecolor": "#506784",
            "showbackground": true,
            "ticks": "",
            "zerolinecolor": "#C8D4E3"
           },
           "zaxis": {
            "backgroundcolor": "rgb(17,17,17)",
            "gridcolor": "#506784",
            "gridwidth": 2,
            "linecolor": "#506784",
            "showbackground": true,
            "ticks": "",
            "zerolinecolor": "#C8D4E3"
           }
          },
          "shapedefaults": {
           "line": {
            "color": "#f2f5fa"
           }
          },
          "sliderdefaults": {
           "bgcolor": "#C8D4E3",
           "bordercolor": "rgb(17,17,17)",
           "borderwidth": 1,
           "tickwidth": 0
          },
          "ternary": {
           "aaxis": {
            "gridcolor": "#506784",
            "linecolor": "#506784",
            "ticks": ""
           },
           "baxis": {
            "gridcolor": "#506784",
            "linecolor": "#506784",
            "ticks": ""
           },
           "bgcolor": "rgb(17,17,17)",
           "caxis": {
            "gridcolor": "#506784",
            "linecolor": "#506784",
            "ticks": ""
           }
          },
          "title": {
           "x": 0.05
          },
          "updatemenudefaults": {
           "bgcolor": "#506784",
           "borderwidth": 0
          },
          "xaxis": {
           "automargin": true,
           "gridcolor": "#283442",
           "linecolor": "#506784",
           "ticks": "",
           "title": {
            "standoff": 15
           },
           "zerolinecolor": "#283442",
           "zerolinewidth": 2
          },
          "yaxis": {
           "automargin": true,
           "gridcolor": "#283442",
           "linecolor": "#506784",
           "ticks": "",
           "title": {
            "standoff": 15
           },
           "zerolinecolor": "#283442",
           "zerolinewidth": 2
          }
         }
        },
        "title": {
         "text": "Weather impact on objects detected"
        },
        "xaxis": {
         "anchor": "y",
         "autorange": true,
         "domain": [
          0,
          1
         ],
         "range": [
          -0.5,
          12.5
         ],
         "title": {
          "text": "obs_count"
         },
         "type": "linear"
        },
        "yaxis": {
         "anchor": "x",
         "autorange": true,
         "domain": [
          0,
          1
         ],
         "range": [
          0,
          0.38390092879256965
         ],
         "title": {
          "text": "count"
         }
        }
       }
      },
      "image/png": "[encoded data removed]",
      "text/html": [
       "<div>\n",
       "        \n",
       "        \n",
       "            <div id=\"da212d30-e20a-4f7c-93a6-462948a955f1\" class=\"plotly-graph-div\" style=\"height:300px; width:100%;\"></div>\n",
       "            <script type=\"text/javascript\">\n",
       "                require([\"plotly\"], function(Plotly) {\n",
       "                    window.PLOTLYENV=window.PLOTLYENV || {};\n",
       "                    \n",
       "                if (document.getElementById(\"da212d30-e20a-4f7c-93a6-462948a955f1\")) {\n",
       "                    Plotly.newPlot(\n",
       "                        'da212d30-e20a-4f7c-93a6-462948a955f1',\n",
       "                        [{\"alignmentgroup\": \"True\", \"bingroup\": \"x\", \"histnorm\": \"probability density\", \"hovertemplate\": \"cur_weather_type=Perfect<br>obs_count=%{x}<br>count=%{y}<extra></extra>\", \"legendgroup\": \"Perfect\", \"marker\": {\"color\": \"#636efa\", \"opacity\": 0.7}, \"name\": \"Perfect\", \"offsetgroup\": \"Perfect\", \"orientation\": \"v\", \"showlegend\": true, \"type\": \"histogram\", \"x\": [2, 1, 2, 6, 3, 1, 3, 2, 1, 2, 4, 2, 5, 2, 3, 2, 2, 8, 4, 2, 1, 1, 0, 1, 1, 2, 4, 2, 2, 0, 1, 5, 3, 2, 0, 0, 2, 4, 2, 0, 3, 0, 2, 0, 4, 5, 1, 0, 2, 7, 0, 0, 0, 0, 0, 3, 8, 7, 3, 2, 6, 3, 3, 0, 2, 1, 1, 3, 2, 4, 3, 3, 1, 6, 1, 2, 6, 4, 3, 1, 3, 1, 2, 5, 4, 0, 2, 0, 3, 3, 3, 3, 5, 2, 2, 2, 2, 1, 1, 3, 4, 5, 0, 2, 1, 1, 0, 3, 6, 0, 4, 3, 0, 1, 3, 2, 6, 2, 4, 0, 9, 0, 0, 0, 1, 1, 0, 0, 2, 1, 1, 1, 1, 2, 0, 0, 1, 0, 2, 0, 6, 6, 0, 3, 2, 1, 1, 1, 1, 2, 1, 2, 0, 0, 2, 5, 1, 0, 1, 0, 4, 1, 0, 1, 1, 1, 1, 4, 0, 1, 0, 0, 0, 3, 3, 7, 0, 0, 1, 2, 2, 3, 7, 3, 0, 0, 2, 0, 2, 3, 2, 7, 2, 0, 1, 2, 2, 1, 0, 1, 3, 4, 0, 3, 1, 1, 2, 2, 4, 2, 4, 0, 0, 7, 0, 4, 6, 2, 0, 0, 2, 2, 3, 4, 4, 2, 1, 0, 3, 0, 0, 2, 1, 0, 0, 5, 2, 2, 5, 4, 2, 0, 1, 4, 1, 4, 0, 3, 1, 1, 1, 0, 1, 4, 4, 8, 4, 0, 2, 0, 1, 5, 1, 0, 2, 1, 2, 2, 0, 0, 5, 0, 0, 1, 2, 5, 2, 1, 2, 3, 0, 2, 0, 7, 0, 1, 0, 1, 3, 0, 4], \"xaxis\": \"x\", \"yaxis\": \"y\"}, {\"alignmentgroup\": \"True\", \"bingroup\": \"x\", \"histnorm\": \"probability density\", \"hovertemplate\": \"cur_weather_type=Good<br>obs_count=%{x}<br>count=%{y}<extra></extra>\", \"legendgroup\": \"Good\", \"marker\": {\"color\": \"#EF553B\", \"opacity\": 0.7}, \"name\": \"Good\", \"offsetgroup\": \"Good\", \"orientation\": \"v\", \"showlegend\": true, \"type\": \"histogram\", \"x\": [1, 0, 0, 0, 0, 1, 0, 2, 0, 6, 3, 4, 2, 5, 1, 0, 5, 1, 2, 2, 4, 5, 0, 3, 6, 0, 0, 3, 3, 1, 6, 0, 2, 2, 1, 3, 3, 4, 2, 3, 2, 0, 2, 4, 4, 2, 4, 2, 6, 6, 4, 0, 1, 2, 4, 0, 3, 2, 0, 2, 1, 1, 1, 1, 0, 0, 5, 6, 4, 1, 5, 1, 1, 2, 0, 4, 1, 4, 0, 2, 4, 3, 1, 4, 3, 3, 1, 0, 8, 4, 1, 6, 7, 5, 4, 4, 6, 4, 8, 3, 5, 2, 5, 4, 3, 3, 1, 1, 1, 0, 5, 3, 1, 0, 2, 3, 3, 2, 1, 1, 2, 1, 1, 3, 2, 2, 2, 2, 2, 2, 1, 2, 3, 4, 0, 3, 3, 3, 5, 4, 0, 3, 4, 2, 3, 4, 1, 3, 5, 2, 1, 0, 1, 0, 1, 1, 0, 5, 3, 3, 3, 5, 0, 2, 2, 0, 0, 4, 1, 1, 1, 3, 1, 1, 1, 0, 0, 0, 4, 6, 5, 0, 4, 6, 1, 0, 4, 2, 3, 1, 2, 4, 2, 5, 6, 1, 0, 0, 2, 4, 5, 0, 3, 6, 1, 6, 2, 3, 3, 1, 12, 0, 0, 2, 2, 1, 1, 0, 0, 0, 0, 0, 6, 3, 1, 2, 3, 0, 1, 0, 3, 3, 3, 1, 1, 1, 0, 2, 1, 4, 2, 2, 0, 2, 2, 1, 3, 3, 2, 4, 3, 3, 1, 0, 1, 2, 0, 0, 2, 0, 0, 0, 0, 0, 2, 4, 0, 3, 4, 2, 1, 0, 1, 1, 0, 2, 3, 8, 1, 3, 1, 2, 5, 7, 7, 1, 0, 0, 3, 3, 5, 0, 1, 3, 1, 3, 2, 0, 0, 2, 5, 1, 0, 0, 4, 0, 1, 0, 3, 2, 2, 6, 1, 4, 0, 1, 1, 1, 4, 0, 0, 0, 3, 2, 0, 0, 0, 1, 1, 0, 0, 1, 0, 1, 1, 0, 3, 2, 0, 2, 1, 0, 1, 1, 1, 1, 1, 3, 6, 1, 3, 0, 1, 0, 4, 2, 0, 0, 2, 1, 1, 0, 1, 1, 2, 3, 1, 0, 1, 3, 0, 0, 1, 1, 2, 4, 0, 0, 0, 1, 0, 2, 3, 3, 0, 2, 5, 2, 6, 0, 2, 3, 2, 3, 2, 0, 0, 0, 3, 3, 6, 0, 1, 0, 0, 0, 0, 2, 3, 7, 1, 3, 1, 2, 1, 5, 2, 0, 3, 0, 0, 0, 3, 0, 0, 0, 0, 4, 1, 0, 3, 3, 5, 5, 5, 1, 0, 0, 2, 3, 1, 1, 3, 1, 0, 0, 0, 0, 2, 1, 1, 1, 0, 1, 3, 2, 0, 4, 4, 0, 0, 0, 2, 0, 1, 3, 3, 0, 0, 0, 2, 0, 1, 0, 2, 0, 2, 0, 1, 3, 3, 4, 4, 2, 0, 5, 0, 4, 0, 1, 3, 1, 2, 0, 2, 5, 1, 1, 0, 1, 5, 5, 5, 7, 0, 0, 3, 3, 0, 12, 4, 0, 0, 4, 2, 1, 3, 0, 4, 2, 5, 2, 5, 5, 5, 1, 3, 0, 4, 3, 2, 0, 0, 1, 2, 2, 3, 5, 1, 0, 0, 1, 0, 0, 0, 4, 1, 2, 0, 1, 0, 1, 3, 1, 8, 2, 1, 0, 4, 5, 5, 3, 1, 0, 0, 2, 1, 2, 1, 3, 1, 1, 3, 1, 2, 1, 0, 0, 0, 1, 2, 5, 3, 3, 4, 0, 0, 4, 3, 1, 5, 2, 2, 0, 0, 6, 3, 0, 0, 2, 0, 1, 1, 2, 2, 0, 0, 6, 1, 3, 2, 0, 8, 2, 3, 4, 2, 0, 1, 4, 2, 1, 1, 1, 5, 8, 5, 4, 0, 0, 0, 1, 1, 2, 3, 1, 1, 1, 2, 0, 0, 1, 3, 2, 3, 8, 2, 0, 0, 4, 1, 0, 0, 2, 1, 3, 1, 1, 1, 1, 2, 3, 0, 2, 2, 2, 4, 4, 1, 3, 3, 4, 0, 1, 3, 3, 1, 1, 1, 3, 1, 1, 2, 2, 0, 1, 1, 3, 2, 0, 0, 1, 2, 4, 4, 0, 2, 0, 2, 0, 3, 2, 1, 3, 2, 0, 1, 3, 3, 4], \"xaxis\": \"x\", \"yaxis\": \"y\"}, {\"alignmentgroup\": \"True\", \"bingroup\": \"x\", \"histnorm\": \"probability density\", \"hovertemplate\": \"cur_weather_type=Bad<br>obs_count=%{x}<br>count=%{y}<extra></extra>\", \"legendgroup\": \"Bad\", \"marker\": {\"color\": \"#00cc96\", \"opacity\": 0.7}, \"name\": \"Bad\", \"offsetgroup\": \"Bad\", \"orientation\": \"v\", \"showlegend\": true, \"type\": \"histogram\", \"x\": [4, 1, 6, 0, 1, 1, 4, 2, 1, 1, 0, 0, 2, 0, 1, 8, 3, 0, 6, 3, 3, 1, 0, 1, 0, 1, 1, 4, 3, 1, 2, 1, 1, 0, 1, 2, 1, 1, 2, 4, 2, 1, 1, 4, 0, 2, 0, 1, 2, 1, 1, 0, 4, 1, 1, 2, 1, 2, 1, 2, 0, 2, 3, 0, 1, 1, 3, 2, 0, 2, 0, 2, 0, 1, 2, 2, 0, 1, 0, 3, 4, 0, 1, 3, 1, 2, 0, 0, 0, 1, 0, 1, 1, 0, 0, 0, 1, 2, 0, 0, 1, 3, 1, 1, 3, 4, 4, 0, 0, 2, 1, 0, 1, 0, 2, 1, 0, 3, 0, 5, 1, 2, 0, 1, 1, 4, 4, 4, 0, 0, 0, 0, 2, 3, 2, 0, 1, 2, 0, 0, 0, 1, 0, 1, 4, 0, 1, 1, 0, 0, 0, 0, 1, 1, 0, 2, 0, 0, 1, 3, 0, 6, 3, 3, 2, 0, 0, 1, 0, 0, 1, 0, 0, 0, 3, 1, 0, 1, 1, 0, 1, 0, 0, 2, 0, 1, 0, 0, 0, 2, 5, 1, 4, 1, 3, 0, 2, 1, 1, 2, 1, 6, 0, 0, 1, 0, 0, 0, 1, 2, 2, 0, 0, 1, 0, 0, 0, 0, 0, 4, 0, 0, 2, 0, 0, 2, 1, 1, 0, 2, 0, 0, 0, 0, 0, 0, 3, 1, 2, 1, 1, 0, 0, 3, 2, 0, 0, 3, 2, 6, 3, 4, 4, 0, 1, 1, 0, 1, 1, 6, 3, 0, 0, 2, 3, 2, 0, 1, 0, 2, 0, 2, 1, 0, 2, 0, 2, 0, 0, 0, 3, 1, 1, 0, 0, 1, 1, 0, 1, 1, 0, 1, 2, 0, 1, 7, 1, 1, 5, 2, 1, 1, 3, 2, 0, 0, 2, 2, 2, 8, 0, 3, 0, 4, 0, 3, 4, 0, 2, 2, 1, 1, 1, 1, 1, 1, 0, 1, 0, 0, 1, 0, 1, 0, 1, 2, 8, 4, 2, 5], \"xaxis\": \"x\", \"yaxis\": \"y\"}],\n",
       "                        {\"barmode\": \"group\", \"height\": 300, \"legend\": {\"title\": {\"text\": \"cur_weather_type\"}, \"tracegroupgap\": 0}, \"template\": {\"data\": {\"bar\": [{\"error_x\": {\"color\": \"#f2f5fa\"}, \"error_y\": {\"color\": \"#f2f5fa\"}, \"marker\": {\"line\": {\"color\": \"rgb(17,17,17)\", \"width\": 0.5}}, \"type\": \"bar\"}], \"barpolar\": [{\"marker\": {\"line\": {\"color\": \"rgb(17,17,17)\", \"width\": 0.5}}, \"type\": \"barpolar\"}], \"carpet\": [{\"aaxis\": {\"endlinecolor\": \"#A2B1C6\", \"gridcolor\": \"#506784\", \"linecolor\": \"#506784\", \"minorgridcolor\": \"#506784\", \"startlinecolor\": \"#A2B1C6\"}, \"baxis\": {\"endlinecolor\": \"#A2B1C6\", \"gridcolor\": \"#506784\", \"linecolor\": \"#506784\", \"minorgridcolor\": \"#506784\", \"startlinecolor\": \"#A2B1C6\"}, \"type\": \"carpet\"}], \"choropleth\": [{\"colorbar\": {\"outlinewidth\": 0, \"ticks\": \"\"}, \"type\": \"choropleth\"}], \"contour\": [{\"colorbar\": {\"outlinewidth\": 0, \"ticks\": \"\"}, \"colorscale\": [[0.0, \"#0d0887\"], [0.1111111111111111, \"#46039f\"], [0.2222222222222222, \"#7201a8\"], [0.3333333333333333, \"#9c179e\"], [0.4444444444444444, \"#bd3786\"], [0.5555555555555556, \"#d8576b\"], [0.6666666666666666, \"#ed7953\"], [0.7777777777777778, \"#fb9f3a\"], [0.8888888888888888, \"#fdca26\"], [1.0, \"#f0f921\"]], \"type\": \"contour\"}], \"contourcarpet\": [{\"colorbar\": {\"outlinewidth\": 0, \"ticks\": \"\"}, \"type\": \"contourcarpet\"}], \"heatmap\": [{\"colorbar\": {\"outlinewidth\": 0, \"ticks\": \"\"}, \"colorscale\": [[0.0, \"#0d0887\"], [0.1111111111111111, \"#46039f\"], [0.2222222222222222, \"#7201a8\"], [0.3333333333333333, \"#9c179e\"], [0.4444444444444444, \"#bd3786\"], [0.5555555555555556, \"#d8576b\"], [0.6666666666666666, \"#ed7953\"], [0.7777777777777778, \"#fb9f3a\"], [0.8888888888888888, \"#fdca26\"], [1.0, \"#f0f921\"]], \"type\": \"heatmap\"}], \"heatmapgl\": [{\"colorbar\": {\"outlinewidth\": 0, \"ticks\": \"\"}, \"colorscale\": [[0.0, \"#0d0887\"], [0.1111111111111111, \"#46039f\"], [0.2222222222222222, \"#7201a8\"], [0.3333333333333333, \"#9c179e\"], [0.4444444444444444, \"#bd3786\"], [0.5555555555555556, \"#d8576b\"], [0.6666666666666666, \"#ed7953\"], [0.7777777777777778, \"#fb9f3a\"], [0.8888888888888888, \"#fdca26\"], [1.0, \"#f0f921\"]], \"type\": \"heatmapgl\"}], \"histogram\": [{\"marker\": {\"colorbar\": {\"outlinewidth\": 0, \"ticks\": \"\"}}, \"type\": \"histogram\"}], \"histogram2d\": [{\"colorbar\": {\"outlinewidth\": 0, \"ticks\": \"\"}, \"colorscale\": [[0.0, \"#0d0887\"], [0.1111111111111111, \"#46039f\"], [0.2222222222222222, \"#7201a8\"], [0.3333333333333333, \"#9c179e\"], [0.4444444444444444, \"#bd3786\"], [0.5555555555555556, \"#d8576b\"], [0.6666666666666666, \"#ed7953\"], [0.7777777777777778, \"#fb9f3a\"], [0.8888888888888888, \"#fdca26\"], [1.0, \"#f0f921\"]], \"type\": \"histogram2d\"}], \"histogram2dcontour\": [{\"colorbar\": {\"outlinewidth\": 0, \"ticks\": \"\"}, \"colorscale\": [[0.0, \"#0d0887\"], [0.1111111111111111, \"#46039f\"], [0.2222222222222222, \"#7201a8\"], [0.3333333333333333, \"#9c179e\"], [0.4444444444444444, \"#bd3786\"], [0.5555555555555556, \"#d8576b\"], [0.6666666666666666, \"#ed7953\"], [0.7777777777777778, \"#fb9f3a\"], [0.8888888888888888, \"#fdca26\"], [1.0, \"#f0f921\"]], \"type\": \"histogram2dcontour\"}], \"mesh3d\": [{\"colorbar\": {\"outlinewidth\": 0, \"ticks\": \"\"}, \"type\": \"mesh3d\"}], \"parcoords\": [{\"line\": {\"colorbar\": {\"outlinewidth\": 0, \"ticks\": \"\"}}, \"type\": \"parcoords\"}], \"pie\": [{\"automargin\": true, \"type\": \"pie\"}], \"scatter\": [{\"marker\": {\"line\": {\"color\": \"#283442\"}}, \"type\": \"scatter\"}], \"scatter3d\": [{\"line\": {\"colorbar\": {\"outlinewidth\": 0, \"ticks\": \"\"}}, \"marker\": {\"colorbar\": {\"outlinewidth\": 0, \"ticks\": \"\"}}, \"type\": \"scatter3d\"}], \"scattercarpet\": [{\"marker\": {\"colorbar\": {\"outlinewidth\": 0, \"ticks\": \"\"}}, \"type\": \"scattercarpet\"}], \"scattergeo\": [{\"marker\": {\"colorbar\": {\"outlinewidth\": 0, \"ticks\": \"\"}}, \"type\": \"scattergeo\"}], \"scattergl\": [{\"marker\": {\"line\": {\"color\": \"#283442\"}}, \"type\": \"scattergl\"}], \"scattermapbox\": [{\"marker\": {\"colorbar\": {\"outlinewidth\": 0, \"ticks\": \"\"}}, \"type\": \"scattermapbox\"}], \"scatterpolar\": [{\"marker\": {\"colorbar\": {\"outlinewidth\": 0, \"ticks\": \"\"}}, \"type\": \"scatterpolar\"}], \"scatterpolargl\": [{\"marker\": {\"colorbar\": {\"outlinewidth\": 0, \"ticks\": \"\"}}, \"type\": \"scatterpolargl\"}], \"scatterternary\": [{\"marker\": {\"colorbar\": {\"outlinewidth\": 0, \"ticks\": \"\"}}, \"type\": \"scatterternary\"}], \"surface\": [{\"colorbar\": {\"outlinewidth\": 0, \"ticks\": \"\"}, \"colorscale\": [[0.0, \"#0d0887\"], [0.1111111111111111, \"#46039f\"], [0.2222222222222222, \"#7201a8\"], [0.3333333333333333, \"#9c179e\"], [0.4444444444444444, \"#bd3786\"], [0.5555555555555556, \"#d8576b\"], [0.6666666666666666, \"#ed7953\"], [0.7777777777777778, \"#fb9f3a\"], [0.8888888888888888, \"#fdca26\"], [1.0, \"#f0f921\"]], \"type\": \"surface\"}], \"table\": [{\"cells\": {\"fill\": {\"color\": \"#506784\"}, \"line\": {\"color\": \"rgb(17,17,17)\"}}, \"header\": {\"fill\": {\"color\": \"#2a3f5f\"}, \"line\": {\"color\": \"rgb(17,17,17)\"}}, \"type\": \"table\"}]}, \"layout\": {\"annotationdefaults\": {\"arrowcolor\": \"#f2f5fa\", \"arrowhead\": 0, \"arrowwidth\": 1}, \"coloraxis\": {\"colorbar\": {\"outlinewidth\": 0, \"ticks\": \"\"}}, \"colorscale\": {\"diverging\": [[0, \"#8e0152\"], [0.1, \"#c51b7d\"], [0.2, \"#de77ae\"], [0.3, \"#f1b6da\"], [0.4, \"#fde0ef\"], [0.5, \"#f7f7f7\"], [0.6, \"#e6f5d0\"], [0.7, \"#b8e186\"], [0.8, \"#7fbc41\"], [0.9, \"#4d9221\"], [1, \"#276419\"]], \"sequential\": [[0.0, \"#0d0887\"], [0.1111111111111111, \"#46039f\"], [0.2222222222222222, \"#7201a8\"], [0.3333333333333333, \"#9c179e\"], [0.4444444444444444, \"#bd3786\"], [0.5555555555555556, \"#d8576b\"], [0.6666666666666666, \"#ed7953\"], [0.7777777777777778, \"#fb9f3a\"], [0.8888888888888888, \"#fdca26\"], [1.0, \"#f0f921\"]], \"sequentialminus\": [[0.0, \"#0d0887\"], [0.1111111111111111, \"#46039f\"], [0.2222222222222222, \"#7201a8\"], [0.3333333333333333, \"#9c179e\"], [0.4444444444444444, \"#bd3786\"], [0.5555555555555556, \"#d8576b\"], [0.6666666666666666, \"#ed7953\"], [0.7777777777777778, \"#fb9f3a\"], [0.8888888888888888, \"#fdca26\"], [1.0, \"#f0f921\"]]}, \"colorway\": [\"#636efa\", \"#EF553B\", \"#00cc96\", \"#ab63fa\", \"#FFA15A\", \"#19d3f3\", \"#FF6692\", \"#B6E880\", \"#FF97FF\", \"#FECB52\"], \"font\": {\"color\": \"#f2f5fa\"}, \"geo\": {\"bgcolor\": \"rgb(17,17,17)\", \"lakecolor\": \"rgb(17,17,17)\", \"landcolor\": \"rgb(17,17,17)\", \"showlakes\": true, \"showland\": true, \"subunitcolor\": \"#506784\"}, \"hoverlabel\": {\"align\": \"left\"}, \"hovermode\": \"closest\", \"mapbox\": {\"style\": \"dark\"}, \"paper_bgcolor\": \"rgb(17,17,17)\", \"plot_bgcolor\": \"rgb(17,17,17)\", \"polar\": {\"angularaxis\": {\"gridcolor\": \"#506784\", \"linecolor\": \"#506784\", \"ticks\": \"\"}, \"bgcolor\": \"rgb(17,17,17)\", \"radialaxis\": {\"gridcolor\": \"#506784\", \"linecolor\": \"#506784\", \"ticks\": \"\"}}, \"scene\": {\"xaxis\": {\"backgroundcolor\": \"rgb(17,17,17)\", \"gridcolor\": \"#506784\", \"gridwidth\": 2, \"linecolor\": \"#506784\", \"showbackground\": true, \"ticks\": \"\", \"zerolinecolor\": \"#C8D4E3\"}, \"yaxis\": {\"backgroundcolor\": \"rgb(17,17,17)\", \"gridcolor\": \"#506784\", \"gridwidth\": 2, \"linecolor\": \"#506784\", \"showbackground\": true, \"ticks\": \"\", \"zerolinecolor\": \"#C8D4E3\"}, \"zaxis\": {\"backgroundcolor\": \"rgb(17,17,17)\", \"gridcolor\": \"#506784\", \"gridwidth\": 2, \"linecolor\": \"#506784\", \"showbackground\": true, \"ticks\": \"\", \"zerolinecolor\": \"#C8D4E3\"}}, \"shapedefaults\": {\"line\": {\"color\": \"#f2f5fa\"}}, \"sliderdefaults\": {\"bgcolor\": \"#C8D4E3\", \"bordercolor\": \"rgb(17,17,17)\", \"borderwidth\": 1, \"tickwidth\": 0}, \"ternary\": {\"aaxis\": {\"gridcolor\": \"#506784\", \"linecolor\": \"#506784\", \"ticks\": \"\"}, \"baxis\": {\"gridcolor\": \"#506784\", \"linecolor\": \"#506784\", \"ticks\": \"\"}, \"bgcolor\": \"rgb(17,17,17)\", \"caxis\": {\"gridcolor\": \"#506784\", \"linecolor\": \"#506784\", \"ticks\": \"\"}}, \"title\": {\"x\": 0.05}, \"updatemenudefaults\": {\"bgcolor\": \"#506784\", \"borderwidth\": 0}, \"xaxis\": {\"automargin\": true, \"gridcolor\": \"#283442\", \"linecolor\": \"#506784\", \"ticks\": \"\", \"title\": {\"standoff\": 15}, \"zerolinecolor\": \"#283442\", \"zerolinewidth\": 2}, \"yaxis\": {\"automargin\": true, \"gridcolor\": \"#283442\", \"linecolor\": \"#506784\", \"ticks\": \"\", \"title\": {\"standoff\": 15}, \"zerolinecolor\": \"#283442\", \"zerolinewidth\": 2}}}, \"title\": {\"text\": \"Weather impact on objects detected\"}, \"xaxis\": {\"anchor\": \"y\", \"domain\": [0.0, 1.0], \"title\": {\"text\": \"obs_count\"}}, \"yaxis\": {\"anchor\": \"x\", \"domain\": [0.0, 1.0], \"title\": {\"text\": \"count\"}}},\n",
       "                        {\"responsive\": true}\n",
       "                    ).then(function(){\n",
       "                            \n",
       "var gd = document.getElementById('da212d30-e20a-4f7c-93a6-462948a955f1');\n",
       "var x = new MutationObserver(function (mutations, observer) {{\n",
       "        var display = window.getComputedStyle(gd).display;\n",
       "        if (!display || display === 'none') {{\n",
       "            console.log([gd, 'removed!']);\n",
       "            Plotly.purge(gd);\n",
       "            observer.disconnect();\n",
       "        }}\n",
       "}});\n",
       "\n",
       "// Listen for the removal of the full notebook cells\n",
       "var notebookContainer = gd.closest('#notebook-container');\n",
       "if (notebookContainer) {{\n",
       "    x.observe(notebookContainer, {childList: true});\n",
       "}}\n",
       "\n",
       "// Listen for the clearing of the current output cell\n",
       "var outputEl = gd.closest('.output');\n",
       "if (outputEl) {{\n",
       "    x.observe(outputEl, {childList: true});\n",
       "}}\n",
       "\n",
       "                        })\n",
       "                };\n",
       "                });\n",
       "            </script>\n",
       "        </div>"
      ]
     },
     "metadata": {},
     "output_type": "display_data"
    }
   ],
   "source": [
    "px.histogram(hr_range(12,19), x=\"obs_count\", color=\"cur_weather_type\", opacity=0.7,\n",
    "             barmode='group', height=300, histnorm='probability density',\n",
    "             title='Weather impact on objects detected')"
   ]
  },
  {
   "cell_type": "markdown",
   "metadata": {},
   "source": [
    "Does gust speed affect the number of objects detected in the hourly time intervals?"
   ]
  },
  {
   "cell_type": "code",
   "execution_count": 127,
   "metadata": {},
   "outputs": [],
   "source": [
    "# define 3 categories of gusts: Low, Medium and Strong\n",
    "merged['gust_strength'] = 'Low'\n",
    "idx = merged['cur__windGust'] >= 40\n",
    "merged.loc[idx, 'gust_strength'] = 'Medium'\n",
    "idx = merged['cur__windGust'] >= 60\n",
    "merged.loc[idx, 'gust_strength'] = 'Strong'"
   ]
  },
  {
   "cell_type": "markdown",
   "metadata": {},
   "source": [
    "If we look closer at the grouped histogram below, we observe that when gust speed is over a value of 60, there is a probability of 33% of seeing no objects, where the probability is 26% of seeing no objects when gust speed is low or medium."
   ]
  },
  {
   "cell_type": "code",
   "execution_count": 134,
   "metadata": {},
   "outputs": [
    {
     "data": {
      "application/vnd.plotly.v1+json": {
       "config": {
        "plotlyServerURL": "https://plot.ly"
       },
       "data": [
        {
         "alignmentgroup": "True",
         "bingroup": "x",
         "histnorm": "probability density",
         "hovertemplate": "gust_strength=Medium<br>obs_count=%{x}<br>count=%{y}<extra></extra>",
         "legendgroup": "Medium",
         "marker": {
          "color": "#636efa",
          "opacity": 0.7
         },
         "name": "Medium",
         "offsetgroup": "Medium",
         "orientation": "v",
         "showlegend": true,
         "type": "histogram",
         "x": [
          2,
          3,
          1,
          0,
          2,
          2,
          1,
          0,
          2,
          0,
          6,
          2,
          2,
          1,
          2,
          0,
          0,
          3,
          0,
          5,
          2,
          2,
          1,
          2,
          1,
          0,
          3,
          0,
          2,
          0,
          4,
          5,
          1,
          2,
          1,
          2,
          5,
          4,
          0,
          2,
          4,
          4,
          1,
          6,
          0,
          1,
          2,
          2,
          0,
          0,
          1,
          1,
          1,
          2,
          4,
          4,
          0,
          3,
          1,
          3,
          2,
          1,
          0,
          2,
          1,
          1,
          0,
          0,
          2,
          0,
          1,
          1,
          8,
          3,
          0,
          1,
          2,
          1,
          1,
          1,
          1,
          1,
          0,
          6,
          3,
          0,
          5,
          2,
          6,
          5,
          6,
          0,
          2,
          3,
          0,
          0,
          0,
          1,
          4,
          5,
          0,
          0,
          1,
          1,
          1,
          4,
          3,
          1,
          2,
          5,
          2,
          0,
          3,
          1,
          1,
          2,
          0,
          4,
          1,
          4,
          1,
          0,
          8,
          0,
          1,
          6,
          7,
          5,
          4,
          1,
          1,
          1,
          2,
          0,
          3,
          1,
          1,
          1,
          0,
          5,
          3,
          2,
          4,
          3,
          0,
          2,
          1,
          0,
          2,
          3,
          3,
          2,
          2,
          2,
          3,
          0,
          0,
          2,
          1,
          1,
          2,
          1,
          1,
          3,
          1,
          1,
          1,
          3,
          2,
          2,
          1,
          2,
          2,
          0,
          5,
          0,
          0,
          0,
          0,
          2,
          5,
          2,
          4,
          1,
          1,
          1,
          1,
          2,
          0,
          1,
          1,
          2,
          1,
          2,
          0,
          2,
          3,
          1,
          0,
          1,
          4,
          0,
          2,
          2,
          0,
          1,
          1,
          1,
          3,
          0,
          0,
          0,
          4,
          3,
          1,
          4,
          1,
          1,
          0,
          1,
          0,
          2,
          0,
          2,
          0,
          2,
          0,
          2,
          0,
          7,
          1,
          4,
          6,
          1,
          0,
          4,
          2,
          3,
          1,
          3,
          2,
          4,
          2,
          5,
          0,
          1,
          0,
          1,
          1,
          3,
          0,
          2,
          3,
          1,
          2,
          0,
          0,
          0,
          0,
          5,
          2,
          6,
          1,
          6,
          1,
          0,
          2,
          1,
          1,
          1,
          1,
          5,
          2,
          0,
          3,
          0,
          5,
          12,
          0,
          0,
          2,
          0,
          0,
          2,
          1,
          2,
          1,
          1,
          0,
          0,
          0,
          0,
          0,
          3,
          2,
          2,
          4,
          0,
          9,
          0,
          0,
          0,
          2,
          0,
          1,
          1,
          1,
          1,
          2,
          1,
          1,
          1,
          1,
          3,
          3,
          3,
          0,
          0,
          2,
          2,
          0,
          1,
          0,
          2,
          1,
          1,
          1,
          2,
          0,
          1,
          1,
          4,
          4,
          4,
          0,
          0,
          0,
          0,
          2,
          1,
          2,
          0,
          2,
          1,
          2,
          1,
          0,
          6,
          6,
          0,
          3,
          2,
          1,
          4,
          1,
          2,
          4,
          3,
          3,
          1,
          2,
          2,
          0,
          0,
          0,
          0,
          3,
          1,
          3,
          3,
          1,
          0,
          2,
          3,
          8,
          0,
          0,
          0,
          1,
          0,
          1,
          3,
          0,
          1,
          1,
          6,
          3,
          4,
          0,
          0,
          0,
          1,
          2,
          0,
          0,
          1,
          1,
          1,
          0,
          1,
          0,
          0,
          3,
          3,
          7,
          4,
          0,
          5,
          1,
          1,
          1,
          0,
          3,
          1,
          2,
          0,
          2,
          1,
          0,
          1,
          1,
          2,
          3,
          2,
          7,
          2,
          1,
          1,
          3,
          1,
          3,
          2,
          1,
          0,
          1,
          5,
          4,
          2,
          0,
          1,
          2,
          2,
          2,
          2,
          5,
          1,
          4,
          1,
          0,
          0,
          7,
          2,
          2,
          1,
          0,
          2,
          0,
          0,
          4,
          4,
          1,
          4,
          2,
          4,
          0,
          0,
          0,
          8,
          2,
          4,
          5,
          2,
          6,
          2,
          3,
          2,
          3,
          2,
          0,
          0,
          2,
          1,
          0,
          2,
          1,
          0,
          0,
          3,
          0,
          5,
          3,
          6,
          3,
          6,
          0,
          1,
          0,
          0,
          0,
          0,
          0,
          0,
          1,
          1,
          1,
          2,
          3,
          7,
          1,
          3,
          1,
          2,
          1,
          0,
          0,
          1,
          6,
          2,
          5,
          2,
          0,
          3,
          0,
          0,
          0,
          3,
          0,
          1,
          0,
          1,
          0,
          0,
          0,
          2,
          4,
          2,
          0,
          1,
          3,
          3,
          0,
          0,
          0,
          3,
          2,
          2,
          3,
          4,
          4,
          1,
          2,
          0,
          1,
          1,
          0,
          3,
          4,
          4,
          0,
          3,
          3,
          0,
          2,
          1,
          0,
          0,
          0,
          3,
          2,
          12,
          4,
          2,
          2,
          5,
          0,
          2,
          0,
          0,
          2,
          6,
          3,
          4,
          4,
          0,
          1,
          1,
          2,
          3,
          1,
          3,
          4,
          0,
          2,
          0,
          1,
          1,
          0,
          3,
          0,
          1,
          3,
          1,
          2,
          1,
          0,
          0,
          0,
          1,
          3,
          2,
          5,
          3,
          3,
          4,
          0,
          0,
          3,
          1,
          4,
          3,
          0,
          1,
          1,
          5,
          2,
          0,
          8,
          2,
          0,
          0,
          1,
          1,
          1,
          3,
          5,
          1,
          0,
          0,
          3,
          2,
          5,
          0,
          0,
          1,
          1,
          0,
          1,
          1,
          2,
          1,
          1,
          2,
          5,
          2,
          3,
          1,
          3,
          2,
          3,
          8,
          2,
          0,
          1,
          2,
          1,
          1,
          1,
          4,
          1,
          0,
          0,
          2,
          2,
          3,
          0,
          2,
          1,
          2,
          1,
          1,
          1,
          2,
          0,
          1,
          2,
          0,
          3,
          0,
          3,
          0,
          2,
          2,
          2,
          7,
          0,
          1,
          4,
          4,
          1,
          3,
          3,
          4,
          0,
          1,
          0,
          0,
          1,
          0,
          1,
          1,
          3,
          1,
          1,
          2,
          2,
          2,
          1,
          0,
          0,
          1,
          4,
          0,
          2,
          3,
          11,
          3,
          3,
          2,
          1,
          4,
          2,
          1,
          2,
          1,
          3,
          3,
          4,
          4
         ],
         "xaxis": "x",
         "yaxis": "y"
        },
        {
         "alignmentgroup": "True",
         "bingroup": "x",
         "histnorm": "probability density",
         "hovertemplate": "gust_strength=Low<br>obs_count=%{x}<br>count=%{y}<extra></extra>",
         "legendgroup": "Low",
         "marker": {
          "color": "#EF553B",
          "opacity": 0.7
         },
         "name": "Low",
         "offsetgroup": "Low",
         "orientation": "v",
         "showlegend": true,
         "type": "histogram",
         "x": [
          2,
          1,
          0,
          6,
          3,
          2,
          5,
          0,
          0,
          5,
          0,
          0,
          1,
          0,
          2,
          0,
          3,
          3,
          1,
          3,
          4,
          2,
          5,
          1,
          1,
          2,
          2,
          4,
          5,
          2,
          1,
          5,
          1,
          0,
          3,
          0,
          1,
          2,
          4,
          2,
          5,
          2,
          3,
          0,
          2,
          1,
          10,
          2,
          3,
          2,
          2,
          8,
          4,
          2,
          3,
          0,
          5,
          9,
          3,
          6,
          0,
          0,
          3,
          3,
          1,
          6,
          3,
          3,
          0,
          2,
          7,
          0,
          2,
          2,
          1,
          3,
          3,
          4,
          2,
          1,
          3,
          3,
          1,
          1,
          0,
          1,
          1,
          2,
          4,
          2,
          1,
          3,
          0,
          0,
          0,
          3,
          2,
          2,
          0,
          1,
          5,
          1,
          1,
          2,
          0,
          1,
          3,
          2,
          0,
          0,
          2,
          4,
          2,
          0,
          2,
          0,
          3,
          6,
          4,
          2,
          4,
          2,
          6,
          6,
          4,
          0,
          0,
          1,
          4,
          1,
          0,
          2,
          2,
          0,
          2,
          1,
          6,
          7,
          0,
          0,
          0,
          0,
          0,
          9,
          2,
          4,
          1,
          3,
          1,
          0,
          1,
          3,
          8,
          7,
          3,
          2,
          6,
          3,
          2,
          1,
          2,
          1,
          3,
          1,
          2,
          2,
          1,
          2,
          0,
          2,
          4,
          3,
          1,
          4,
          3,
          3,
          4,
          6,
          0,
          2,
          0,
          1,
          1,
          2,
          4,
          4,
          0,
          2,
          1,
          1,
          8,
          3,
          5,
          2,
          5,
          4,
          3,
          2,
          1,
          3,
          2,
          3,
          1,
          3,
          0,
          3,
          2,
          2,
          1,
          2,
          3,
          4,
          0,
          3,
          3,
          0,
          4,
          3,
          5,
          0,
          3,
          2,
          4,
          3,
          5,
          4,
          0,
          0,
          1,
          2,
          5,
          4,
          3,
          4,
          2,
          3,
          4,
          1,
          3,
          0,
          1,
          2,
          1,
          1,
          0,
          3,
          2,
          5,
          4,
          2,
          3,
          1,
          3,
          1,
          0,
          4,
          3,
          1,
          6,
          1,
          2,
          6,
          1,
          0,
          4,
          3,
          1,
          0,
          1,
          0,
          5,
          4,
          1,
          0,
          5,
          3,
          3,
          3,
          5,
          0,
          3,
          1,
          2,
          5,
          4,
          2,
          2,
          0,
          3,
          2,
          2,
          1,
          2,
          0,
          3,
          3,
          3,
          3,
          0,
          0,
          3,
          2,
          0,
          4,
          0,
          4,
          1,
          1,
          1,
          3,
          1,
          1,
          0,
          2,
          4,
          6,
          5,
          5,
          1,
          2,
          2,
          0,
          0,
          0,
          1,
          0,
          0,
          1,
          1,
          0,
          3,
          4,
          0,
          1,
          3,
          0,
          0,
          1,
          3,
          3,
          2,
          4,
          6,
          5,
          2,
          2,
          2,
          2,
          1,
          2,
          5,
          3,
          8,
          1,
          1,
          3,
          4,
          5,
          0,
          2,
          0,
          2,
          3,
          1,
          0,
          3,
          1,
          2,
          4,
          5,
          1,
          0,
          0,
          0,
          0,
          3,
          2,
          2,
          2,
          1,
          0,
          1,
          1,
          1,
          1,
          4,
          1,
          3,
          3,
          0,
          3,
          6,
          0,
          4,
          3,
          0,
          1,
          0,
          3,
          1,
          0,
          1,
          0,
          3,
          1,
          1,
          0,
          1,
          4,
          0,
          3,
          3,
          2,
          0,
          6,
          6,
          3,
          1,
          0,
          1,
          0,
          11,
          3,
          3,
          0,
          1,
          0,
          1,
          2,
          0,
          0,
          1,
          0,
          1,
          1,
          1,
          0,
          1,
          3,
          8,
          1,
          4,
          2,
          2,
          0,
          2,
          2,
          1,
          0,
          4,
          3,
          3,
          2,
          0,
          3,
          3,
          4,
          0,
          2,
          1,
          2,
          0,
          0,
          2,
          0,
          0,
          0,
          2,
          0,
          1,
          2,
          1,
          2,
          1,
          2,
          0,
          0,
          0,
          0,
          2,
          1,
          0,
          1,
          3,
          2,
          0,
          1,
          2,
          2,
          2,
          0,
          2,
          1,
          1,
          0,
          1,
          2,
          4,
          0,
          4,
          0,
          1,
          2,
          0,
          0,
          3,
          3,
          4,
          1,
          1,
          2,
          1,
          0,
          1,
          1,
          3,
          1,
          0,
          1,
          3,
          5,
          2,
          2,
          0,
          0,
          3,
          0,
          1,
          3,
          2,
          5,
          7,
          7,
          1,
          0,
          0,
          3,
          2,
          1,
          3,
          1,
          2,
          1,
          3,
          1,
          3,
          2,
          0,
          0,
          2,
          1,
          3,
          6,
          8,
          0,
          5,
          1,
          0,
          0,
          4,
          0,
          1,
          0,
          1,
          3,
          1,
          0,
          5,
          3,
          2,
          2,
          6,
          1,
          4,
          0,
          1,
          0,
          3,
          6,
          6,
          2,
          3,
          2,
          5,
          1,
          2,
          0,
          0,
          1,
          0,
          3,
          2,
          3,
          0,
          0,
          0,
          4,
          1,
          0,
          1,
          1,
          1,
          2,
          1,
          0,
          0,
          1,
          0,
          1,
          1,
          0,
          0,
          1,
          0,
          1,
          1,
          0,
          1,
          0,
          3,
          1,
          4,
          0,
          1,
          0,
          0,
          0,
          1,
          0,
          2,
          2,
          2,
          2,
          2,
          3,
          7,
          3,
          0,
          0,
          1,
          0,
          1,
          0,
          2,
          0,
          1,
          0,
          0,
          3,
          0,
          0,
          2,
          3,
          0,
          0,
          0,
          1,
          0,
          1,
          3,
          4,
          0,
          3,
          1,
          0,
          5,
          0,
          1,
          0,
          1,
          2,
          2,
          4,
          2,
          1,
          1,
          0,
          1,
          1,
          1,
          2,
          2,
          0,
          0,
          1,
          0,
          0,
          0,
          3,
          2,
          1,
          1,
          1,
          1,
          1,
          2,
          3,
          1,
          0,
          0,
          0,
          0,
          2,
          3,
          3,
          1,
          1,
          4,
          0,
          0,
          2,
          3,
          0,
          0,
          2,
          1,
          0,
          0,
          3,
          3,
          2,
          1,
          0,
          2,
          3,
          3,
          0,
          0,
          0,
          2,
          2,
          0,
          0,
          0,
          0,
          1,
          4,
          5,
          3,
          1,
          2,
          0,
          3,
          2,
          0,
          0,
          0,
          0,
          0,
          4,
          1,
          0,
          3,
          0,
          0,
          2,
          6,
          2,
          3,
          5,
          5,
          5,
          1,
          0,
          0,
          2,
          0,
          0,
          2,
          2,
          5,
          3,
          1,
          1,
          3,
          1,
          0,
          0,
          1,
          0,
          2,
          2,
          0,
          7,
          0,
          4,
          6,
          2,
          0,
          0,
          0,
          2,
          4,
          4,
          7,
          3,
          2,
          0,
          4,
          4,
          0,
          0,
          0,
          4,
          2,
          1,
          0,
          1,
          3,
          0,
          2,
          1,
          1,
          3,
          3,
          4,
          4,
          0,
          0,
          0,
          3,
          1,
          4,
          0,
          2,
          2,
          0,
          5,
          0,
          4,
          0,
          1,
          3,
          1,
          1,
          1,
          3,
          0,
          0,
          1,
          0,
          2,
          1,
          7,
          5,
          5,
          5,
          5,
          7,
          3,
          0,
          0,
          0,
          0,
          0,
          1,
          3,
          0,
          2,
          0,
          5,
          4,
          2,
          0,
          1,
          1,
          1,
          1,
          1,
          7,
          4,
          2,
          1,
          3,
          0,
          4,
          1,
          0,
          1,
          0,
          2,
          2,
          4,
          0,
          4,
          2,
          3,
          1,
          1,
          1,
          0,
          6,
          1,
          2,
          4,
          5,
          2,
          5,
          5,
          5,
          0,
          1,
          1,
          1,
          2,
          1,
          3,
          1,
          3,
          0,
          4,
          3,
          2,
          0,
          0,
          1,
          1,
          2,
          2,
          3,
          2,
          2,
          3,
          5,
          1,
          0,
          0,
          1,
          0,
          4,
          1,
          1,
          2,
          0,
          0,
          0,
          4,
          1,
          2,
          0,
          1,
          0,
          1,
          2,
          2,
          2,
          0,
          1,
          3,
          1,
          8,
          2,
          1,
          0,
          0,
          0,
          2,
          2,
          1,
          4,
          5,
          5,
          3,
          1,
          0,
          0,
          0,
          1,
          5,
          6,
          2,
          1,
          4,
          4,
          8,
          3,
          4,
          2,
          3,
          1,
          3,
          1,
          3,
          0,
          0,
          1,
          6,
          3,
          0,
          0,
          2,
          4,
          0,
          3,
          0,
          6,
          1,
          3,
          0,
          1,
          2,
          1,
          2,
          1,
          2,
          2,
          3,
          4,
          2,
          0,
          0,
          1,
          1,
          1,
          0,
          2,
          2,
          0,
          1,
          4,
          2,
          1,
          1,
          1,
          0,
          6,
          3,
          5,
          8,
          5,
          4,
          1,
          3,
          3,
          1,
          5,
          1,
          2,
          0,
          1,
          0,
          0,
          0,
          2,
          1,
          3,
          3,
          1,
          1,
          1,
          1,
          1,
          0,
          1,
          0,
          1,
          1,
          3,
          2,
          0,
          0,
          1,
          0,
          4,
          1,
          3,
          1,
          3,
          0,
          2,
          4,
          4,
          0,
          2,
          0,
          2,
          5,
          3,
          2,
          0,
          3
         ],
         "xaxis": "x",
         "yaxis": "y"
        },
        {
         "alignmentgroup": "True",
         "bingroup": "x",
         "histnorm": "probability density",
         "hovertemplate": "gust_strength=Strong<br>obs_count=%{x}<br>count=%{y}<extra></extra>",
         "legendgroup": "Strong",
         "marker": {
          "color": "#00cc96",
          "opacity": 0.7
         },
         "name": "Strong",
         "offsetgroup": "Strong",
         "orientation": "v",
         "showlegend": true,
         "type": "histogram",
         "x": [
          0,
          4,
          0,
          1,
          0,
          1,
          1,
          0,
          1,
          4,
          1,
          3,
          0,
          5,
          5,
          2,
          1,
          1,
          4,
          2,
          2,
          2,
          3,
          0,
          1,
          3,
          6,
          1,
          0,
          0,
          3,
          0,
          0,
          1,
          4,
          1,
          2,
          0,
          0,
          0,
          1,
          3,
          1,
          0,
          2,
          2,
          1,
          1,
          1,
          3,
          4,
          4,
          3,
          1,
          3,
          0,
          0,
          1,
          1,
          1,
          0,
          1,
          0,
          2,
          1,
          0,
          1,
          0,
          1,
          2,
          2,
          0,
          2,
          3,
          5,
          0,
          0,
          0,
          1,
          1,
          2,
          5,
          0,
          0,
          0,
          2,
          0,
          3,
          2,
          1,
          0,
          1,
          1,
          0,
          3,
          2,
          0,
          0,
          0,
          2,
          2,
          4,
          3,
          6,
          1,
          0,
          0,
          1,
          0,
          0,
          1,
          1,
          1,
          0,
          0,
          0,
          3,
          1,
          0,
          1,
          3,
          0,
          0,
          1,
          0,
          1,
          2,
          2,
          3,
          0,
          0,
          1,
          2,
          1,
          0,
          0,
          2,
          0,
          0,
          1,
          0,
          1,
          6,
          0,
          0,
          1,
          0,
          0,
          0,
          1,
          0,
          0,
          0,
          1,
          0,
          2,
          1,
          1,
          2,
          1,
          0,
          0,
          0,
          2,
          1,
          1,
          1,
          0,
          2,
          2,
          1,
          2,
          6,
          0,
          0,
          2,
          0,
          1,
          0,
          2,
          0,
          2,
          0,
          2,
          5,
          1,
          1,
          0,
          0,
          1,
          4,
          6,
          0,
          3,
          1,
          2,
          0,
          2,
          5,
          1,
          7,
          3,
          3,
          1,
          0,
          2,
          1,
          1,
          5,
          2,
          2,
          0,
          0,
          1,
          0,
          7,
          0,
          0,
          2,
          2,
          1,
          2,
          0,
          1,
          1,
          2,
          2,
          0,
          0,
          1,
          1,
          6,
          3,
          0,
          0,
          7,
          5,
          2,
          3,
          2,
          0,
          1,
          0,
          2,
          0,
          0,
          0,
          0,
          2,
          7,
          2,
          1,
          0,
          2,
          0,
          2,
          0,
          0,
          1,
          2,
          3,
          0,
          1,
          1,
          0,
          0,
          3,
          1,
          1,
          0,
          0,
          2,
          2,
          6,
          1,
          1,
          1,
          2,
          3,
          1,
          1,
          1,
          1,
          3,
          1,
          3,
          0,
          0,
          1,
          1,
          1,
          0,
          1,
          2,
          0,
          1,
          7,
          1,
          1,
          0,
          0,
          0,
          4,
          3,
          5,
          2,
          1,
          1,
          3,
          2,
          0,
          0,
          1,
          2,
          1,
          3,
          1,
          1,
          0,
          2,
          3,
          0,
          2,
          2,
          1,
          2,
          8,
          0,
          3,
          0,
          1,
          2,
          4,
          0,
          1,
          4,
          0,
          3,
          4,
          0,
          2,
          2,
          1,
          1,
          1,
          2,
          5,
          4,
          2,
          2,
          1,
          1,
          0,
          0,
          1,
          0,
          0,
          1,
          2,
          1,
          0,
          0,
          4,
          3,
          4,
          2,
          1,
          0,
          1,
          2,
          8,
          4,
          2,
          0
         ],
         "xaxis": "x",
         "yaxis": "y"
        }
       ],
       "layout": {
        "autosize": true,
        "barmode": "group",
        "legend": {
         "title": {
          "text": "gust_strength"
         },
         "tracegroupgap": 0
        },
        "template": {
         "data": {
          "bar": [
           {
            "error_x": {
             "color": "#f2f5fa"
            },
            "error_y": {
             "color": "#f2f5fa"
            },
            "marker": {
             "line": {
              "color": "rgb(17,17,17)",
              "width": 0.5
             }
            },
            "type": "bar"
           }
          ],
          "barpolar": [
           {
            "marker": {
             "line": {
              "color": "rgb(17,17,17)",
              "width": 0.5
             }
            },
            "type": "barpolar"
           }
          ],
          "carpet": [
           {
            "aaxis": {
             "endlinecolor": "#A2B1C6",
             "gridcolor": "#506784",
             "linecolor": "#506784",
             "minorgridcolor": "#506784",
             "startlinecolor": "#A2B1C6"
            },
            "baxis": {
             "endlinecolor": "#A2B1C6",
             "gridcolor": "#506784",
             "linecolor": "#506784",
             "minorgridcolor": "#506784",
             "startlinecolor": "#A2B1C6"
            },
            "type": "carpet"
           }
          ],
          "choropleth": [
           {
            "colorbar": {
             "outlinewidth": 0,
             "ticks": ""
            },
            "type": "choropleth"
           }
          ],
          "contour": [
           {
            "colorbar": {
             "outlinewidth": 0,
             "ticks": ""
            },
            "colorscale": [
             [
              0,
              "#0d0887"
             ],
             [
              0.1111111111111111,
              "#46039f"
             ],
             [
              0.2222222222222222,
              "#7201a8"
             ],
             [
              0.3333333333333333,
              "#9c179e"
             ],
             [
              0.4444444444444444,
              "#bd3786"
             ],
             [
              0.5555555555555556,
              "#d8576b"
             ],
             [
              0.6666666666666666,
              "#ed7953"
             ],
             [
              0.7777777777777778,
              "#fb9f3a"
             ],
             [
              0.8888888888888888,
              "#fdca26"
             ],
             [
              1,
              "#f0f921"
             ]
            ],
            "type": "contour"
           }
          ],
          "contourcarpet": [
           {
            "colorbar": {
             "outlinewidth": 0,
             "ticks": ""
            },
            "type": "contourcarpet"
           }
          ],
          "heatmap": [
           {
            "colorbar": {
             "outlinewidth": 0,
             "ticks": ""
            },
            "colorscale": [
             [
              0,
              "#0d0887"
             ],
             [
              0.1111111111111111,
              "#46039f"
             ],
             [
              0.2222222222222222,
              "#7201a8"
             ],
             [
              0.3333333333333333,
              "#9c179e"
             ],
             [
              0.4444444444444444,
              "#bd3786"
             ],
             [
              0.5555555555555556,
              "#d8576b"
             ],
             [
              0.6666666666666666,
              "#ed7953"
             ],
             [
              0.7777777777777778,
              "#fb9f3a"
             ],
             [
              0.8888888888888888,
              "#fdca26"
             ],
             [
              1,
              "#f0f921"
             ]
            ],
            "type": "heatmap"
           }
          ],
          "heatmapgl": [
           {
            "colorbar": {
             "outlinewidth": 0,
             "ticks": ""
            },
            "colorscale": [
             [
              0,
              "#0d0887"
             ],
             [
              0.1111111111111111,
              "#46039f"
             ],
             [
              0.2222222222222222,
              "#7201a8"
             ],
             [
              0.3333333333333333,
              "#9c179e"
             ],
             [
              0.4444444444444444,
              "#bd3786"
             ],
             [
              0.5555555555555556,
              "#d8576b"
             ],
             [
              0.6666666666666666,
              "#ed7953"
             ],
             [
              0.7777777777777778,
              "#fb9f3a"
             ],
             [
              0.8888888888888888,
              "#fdca26"
             ],
             [
              1,
              "#f0f921"
             ]
            ],
            "type": "heatmapgl"
           }
          ],
          "histogram": [
           {
            "marker": {
             "colorbar": {
              "outlinewidth": 0,
              "ticks": ""
             }
            },
            "type": "histogram"
           }
          ],
          "histogram2d": [
           {
            "colorbar": {
             "outlinewidth": 0,
             "ticks": ""
            },
            "colorscale": [
             [
              0,
              "#0d0887"
             ],
             [
              0.1111111111111111,
              "#46039f"
             ],
             [
              0.2222222222222222,
              "#7201a8"
             ],
             [
              0.3333333333333333,
              "#9c179e"
             ],
             [
              0.4444444444444444,
              "#bd3786"
             ],
             [
              0.5555555555555556,
              "#d8576b"
             ],
             [
              0.6666666666666666,
              "#ed7953"
             ],
             [
              0.7777777777777778,
              "#fb9f3a"
             ],
             [
              0.8888888888888888,
              "#fdca26"
             ],
             [
              1,
              "#f0f921"
             ]
            ],
            "type": "histogram2d"
           }
          ],
          "histogram2dcontour": [
           {
            "colorbar": {
             "outlinewidth": 0,
             "ticks": ""
            },
            "colorscale": [
             [
              0,
              "#0d0887"
             ],
             [
              0.1111111111111111,
              "#46039f"
             ],
             [
              0.2222222222222222,
              "#7201a8"
             ],
             [
              0.3333333333333333,
              "#9c179e"
             ],
             [
              0.4444444444444444,
              "#bd3786"
             ],
             [
              0.5555555555555556,
              "#d8576b"
             ],
             [
              0.6666666666666666,
              "#ed7953"
             ],
             [
              0.7777777777777778,
              "#fb9f3a"
             ],
             [
              0.8888888888888888,
              "#fdca26"
             ],
             [
              1,
              "#f0f921"
             ]
            ],
            "type": "histogram2dcontour"
           }
          ],
          "mesh3d": [
           {
            "colorbar": {
             "outlinewidth": 0,
             "ticks": ""
            },
            "type": "mesh3d"
           }
          ],
          "parcoords": [
           {
            "line": {
             "colorbar": {
              "outlinewidth": 0,
              "ticks": ""
             }
            },
            "type": "parcoords"
           }
          ],
          "pie": [
           {
            "automargin": true,
            "type": "pie"
           }
          ],
          "scatter": [
           {
            "marker": {
             "line": {
              "color": "#283442"
             }
            },
            "type": "scatter"
           }
          ],
          "scatter3d": [
           {
            "line": {
             "colorbar": {
              "outlinewidth": 0,
              "ticks": ""
             }
            },
            "marker": {
             "colorbar": {
              "outlinewidth": 0,
              "ticks": ""
             }
            },
            "type": "scatter3d"
           }
          ],
          "scattercarpet": [
           {
            "marker": {
             "colorbar": {
              "outlinewidth": 0,
              "ticks": ""
             }
            },
            "type": "scattercarpet"
           }
          ],
          "scattergeo": [
           {
            "marker": {
             "colorbar": {
              "outlinewidth": 0,
              "ticks": ""
             }
            },
            "type": "scattergeo"
           }
          ],
          "scattergl": [
           {
            "marker": {
             "line": {
              "color": "#283442"
             }
            },
            "type": "scattergl"
           }
          ],
          "scattermapbox": [
           {
            "marker": {
             "colorbar": {
              "outlinewidth": 0,
              "ticks": ""
             }
            },
            "type": "scattermapbox"
           }
          ],
          "scatterpolar": [
           {
            "marker": {
             "colorbar": {
              "outlinewidth": 0,
              "ticks": ""
             }
            },
            "type": "scatterpolar"
           }
          ],
          "scatterpolargl": [
           {
            "marker": {
             "colorbar": {
              "outlinewidth": 0,
              "ticks": ""
             }
            },
            "type": "scatterpolargl"
           }
          ],
          "scatterternary": [
           {
            "marker": {
             "colorbar": {
              "outlinewidth": 0,
              "ticks": ""
             }
            },
            "type": "scatterternary"
           }
          ],
          "surface": [
           {
            "colorbar": {
             "outlinewidth": 0,
             "ticks": ""
            },
            "colorscale": [
             [
              0,
              "#0d0887"
             ],
             [
              0.1111111111111111,
              "#46039f"
             ],
             [
              0.2222222222222222,
              "#7201a8"
             ],
             [
              0.3333333333333333,
              "#9c179e"
             ],
             [
              0.4444444444444444,
              "#bd3786"
             ],
             [
              0.5555555555555556,
              "#d8576b"
             ],
             [
              0.6666666666666666,
              "#ed7953"
             ],
             [
              0.7777777777777778,
              "#fb9f3a"
             ],
             [
              0.8888888888888888,
              "#fdca26"
             ],
             [
              1,
              "#f0f921"
             ]
            ],
            "type": "surface"
           }
          ],
          "table": [
           {
            "cells": {
             "fill": {
              "color": "#506784"
             },
             "line": {
              "color": "rgb(17,17,17)"
             }
            },
            "header": {
             "fill": {
              "color": "#2a3f5f"
             },
             "line": {
              "color": "rgb(17,17,17)"
             }
            },
            "type": "table"
           }
          ]
         },
         "layout": {
          "annotationdefaults": {
           "arrowcolor": "#f2f5fa",
           "arrowhead": 0,
           "arrowwidth": 1
          },
          "coloraxis": {
           "colorbar": {
            "outlinewidth": 0,
            "ticks": ""
           }
          },
          "colorscale": {
           "diverging": [
            [
             0,
             "#8e0152"
            ],
            [
             0.1,
             "#c51b7d"
            ],
            [
             0.2,
             "#de77ae"
            ],
            [
             0.3,
             "#f1b6da"
            ],
            [
             0.4,
             "#fde0ef"
            ],
            [
             0.5,
             "#f7f7f7"
            ],
            [
             0.6,
             "#e6f5d0"
            ],
            [
             0.7,
             "#b8e186"
            ],
            [
             0.8,
             "#7fbc41"
            ],
            [
             0.9,
             "#4d9221"
            ],
            [
             1,
             "#276419"
            ]
           ],
           "sequential": [
            [
             0,
             "#0d0887"
            ],
            [
             0.1111111111111111,
             "#46039f"
            ],
            [
             0.2222222222222222,
             "#7201a8"
            ],
            [
             0.3333333333333333,
             "#9c179e"
            ],
            [
             0.4444444444444444,
             "#bd3786"
            ],
            [
             0.5555555555555556,
             "#d8576b"
            ],
            [
             0.6666666666666666,
             "#ed7953"
            ],
            [
             0.7777777777777778,
             "#fb9f3a"
            ],
            [
             0.8888888888888888,
             "#fdca26"
            ],
            [
             1,
             "#f0f921"
            ]
           ],
           "sequentialminus": [
            [
             0,
             "#0d0887"
            ],
            [
             0.1111111111111111,
             "#46039f"
            ],
            [
             0.2222222222222222,
             "#7201a8"
            ],
            [
             0.3333333333333333,
             "#9c179e"
            ],
            [
             0.4444444444444444,
             "#bd3786"
            ],
            [
             0.5555555555555556,
             "#d8576b"
            ],
            [
             0.6666666666666666,
             "#ed7953"
            ],
            [
             0.7777777777777778,
             "#fb9f3a"
            ],
            [
             0.8888888888888888,
             "#fdca26"
            ],
            [
             1,
             "#f0f921"
            ]
           ]
          },
          "colorway": [
           "#636efa",
           "#EF553B",
           "#00cc96",
           "#ab63fa",
           "#FFA15A",
           "#19d3f3",
           "#FF6692",
           "#B6E880",
           "#FF97FF",
           "#FECB52"
          ],
          "font": {
           "color": "#f2f5fa"
          },
          "geo": {
           "bgcolor": "rgb(17,17,17)",
           "lakecolor": "rgb(17,17,17)",
           "landcolor": "rgb(17,17,17)",
           "showlakes": true,
           "showland": true,
           "subunitcolor": "#506784"
          },
          "hoverlabel": {
           "align": "left"
          },
          "hovermode": "closest",
          "mapbox": {
           "style": "dark"
          },
          "paper_bgcolor": "rgb(17,17,17)",
          "plot_bgcolor": "rgb(17,17,17)",
          "polar": {
           "angularaxis": {
            "gridcolor": "#506784",
            "linecolor": "#506784",
            "ticks": ""
           },
           "bgcolor": "rgb(17,17,17)",
           "radialaxis": {
            "gridcolor": "#506784",
            "linecolor": "#506784",
            "ticks": ""
           }
          },
          "scene": {
           "xaxis": {
            "backgroundcolor": "rgb(17,17,17)",
            "gridcolor": "#506784",
            "gridwidth": 2,
            "linecolor": "#506784",
            "showbackground": true,
            "ticks": "",
            "zerolinecolor": "#C8D4E3"
           },
           "yaxis": {
            "backgroundcolor": "rgb(17,17,17)",
            "gridcolor": "#506784",
            "gridwidth": 2,
            "linecolor": "#506784",
            "showbackground": true,
            "ticks": "",
            "zerolinecolor": "#C8D4E3"
           },
           "zaxis": {
            "backgroundcolor": "rgb(17,17,17)",
            "gridcolor": "#506784",
            "gridwidth": 2,
            "linecolor": "#506784",
            "showbackground": true,
            "ticks": "",
            "zerolinecolor": "#C8D4E3"
           }
          },
          "shapedefaults": {
           "line": {
            "color": "#f2f5fa"
           }
          },
          "sliderdefaults": {
           "bgcolor": "#C8D4E3",
           "bordercolor": "rgb(17,17,17)",
           "borderwidth": 1,
           "tickwidth": 0
          },
          "ternary": {
           "aaxis": {
            "gridcolor": "#506784",
            "linecolor": "#506784",
            "ticks": ""
           },
           "baxis": {
            "gridcolor": "#506784",
            "linecolor": "#506784",
            "ticks": ""
           },
           "bgcolor": "rgb(17,17,17)",
           "caxis": {
            "gridcolor": "#506784",
            "linecolor": "#506784",
            "ticks": ""
           }
          },
          "title": {
           "x": 0.05
          },
          "updatemenudefaults": {
           "bgcolor": "#506784",
           "borderwidth": 0
          },
          "xaxis": {
           "automargin": true,
           "gridcolor": "#283442",
           "linecolor": "#506784",
           "ticks": "",
           "title": {
            "standoff": 15
           },
           "zerolinecolor": "#283442",
           "zerolinewidth": 2
          },
          "yaxis": {
           "automargin": true,
           "gridcolor": "#283442",
           "linecolor": "#506784",
           "ticks": "",
           "title": {
            "standoff": 15
           },
           "zerolinecolor": "#283442",
           "zerolinewidth": 2
          }
         }
        },
        "title": {
         "text": "Gust strength impact on objects detected"
        },
        "xaxis": {
         "anchor": "y",
         "autorange": true,
         "domain": [
          0,
          1
         ],
         "range": [
          -0.5,
          12.5
         ],
         "title": {
          "text": "obs_count"
         },
         "type": "linear"
        },
        "yaxis": {
         "anchor": "x",
         "autorange": true,
         "domain": [
          0,
          1
         ],
         "range": [
          0,
          0.3490008443568815
         ],
         "title": {
          "text": "count"
         }
        }
       }
      },
      "image/png": "[encoded data removed]",
      "text/html": [
       "<div>\n",
       "        \n",
       "        \n",
       "            <div id=\"f0271e24-1dea-42d6-9a06-b29e5d696852\" class=\"plotly-graph-div\" style=\"height:300px; width:100%;\"></div>\n",
       "            <script type=\"text/javascript\">\n",
       "                require([\"plotly\"], function(Plotly) {\n",
       "                    window.PLOTLYENV=window.PLOTLYENV || {};\n",
       "                    \n",
       "                if (document.getElementById(\"f0271e24-1dea-42d6-9a06-b29e5d696852\")) {\n",
       "                    Plotly.newPlot(\n",
       "                        'f0271e24-1dea-42d6-9a06-b29e5d696852',\n",
       "                        [{\"alignmentgroup\": \"True\", \"bingroup\": \"x\", \"histnorm\": \"probability density\", \"hovertemplate\": \"gust_strength=Medium<br>obs_count=%{x}<br>count=%{y}<extra></extra>\", \"legendgroup\": \"Medium\", \"marker\": {\"color\": \"#636efa\", \"opacity\": 0.7}, \"name\": \"Medium\", \"offsetgroup\": \"Medium\", \"orientation\": \"v\", \"showlegend\": true, \"type\": \"histogram\", \"x\": [2, 3, 1, 0, 2, 2, 1, 0, 2, 0, 6, 2, 2, 1, 2, 0, 0, 3, 0, 5, 2, 2, 1, 2, 1, 0, 3, 0, 2, 0, 4, 5, 1, 2, 1, 2, 5, 4, 0, 2, 4, 4, 1, 6, 0, 1, 2, 2, 0, 0, 1, 1, 1, 2, 4, 4, 0, 3, 1, 3, 2, 1, 0, 2, 1, 1, 0, 0, 2, 0, 1, 1, 8, 3, 0, 1, 2, 1, 1, 1, 1, 1, 0, 6, 3, 0, 5, 2, 6, 5, 6, 0, 2, 3, 0, 0, 0, 1, 4, 5, 0, 0, 1, 1, 1, 4, 3, 1, 2, 5, 2, 0, 3, 1, 1, 2, 0, 4, 1, 4, 1, 0, 8, 0, 1, 6, 7, 5, 4, 1, 1, 1, 2, 0, 3, 1, 1, 1, 0, 5, 3, 2, 4, 3, 0, 2, 1, 0, 2, 3, 3, 2, 2, 2, 3, 0, 0, 2, 1, 1, 2, 1, 1, 3, 1, 1, 1, 3, 2, 2, 1, 2, 2, 0, 5, 0, 0, 0, 0, 2, 5, 2, 4, 1, 1, 1, 1, 2, 0, 1, 1, 2, 1, 2, 0, 2, 3, 1, 0, 1, 4, 0, 2, 2, 0, 1, 1, 1, 3, 0, 0, 0, 4, 3, 1, 4, 1, 1, 0, 1, 0, 2, 0, 2, 0, 2, 0, 2, 0, 7, 1, 4, 6, 1, 0, 4, 2, 3, 1, 3, 2, 4, 2, 5, 0, 1, 0, 1, 1, 3, 0, 2, 3, 1, 2, 0, 0, 0, 0, 5, 2, 6, 1, 6, 1, 0, 2, 1, 1, 1, 1, 5, 2, 0, 3, 0, 5, 12, 0, 0, 2, 0, 0, 2, 1, 2, 1, 1, 0, 0, 0, 0, 0, 3, 2, 2, 4, 0, 9, 0, 0, 0, 2, 0, 1, 1, 1, 1, 2, 1, 1, 1, 1, 3, 3, 3, 0, 0, 2, 2, 0, 1, 0, 2, 1, 1, 1, 2, 0, 1, 1, 4, 4, 4, 0, 0, 0, 0, 2, 1, 2, 0, 2, 1, 2, 1, 0, 6, 6, 0, 3, 2, 1, 4, 1, 2, 4, 3, 3, 1, 2, 2, 0, 0, 0, 0, 3, 1, 3, 3, 1, 0, 2, 3, 8, 0, 0, 0, 1, 0, 1, 3, 0, 1, 1, 6, 3, 4, 0, 0, 0, 1, 2, 0, 0, 1, 1, 1, 0, 1, 0, 0, 3, 3, 7, 4, 0, 5, 1, 1, 1, 0, 3, 1, 2, 0, 2, 1, 0, 1, 1, 2, 3, 2, 7, 2, 1, 1, 3, 1, 3, 2, 1, 0, 1, 5, 4, 2, 0, 1, 2, 2, 2, 2, 5, 1, 4, 1, 0, 0, 7, 2, 2, 1, 0, 2, 0, 0, 4, 4, 1, 4, 2, 4, 0, 0, 0, 8, 2, 4, 5, 2, 6, 2, 3, 2, 3, 2, 0, 0, 2, 1, 0, 2, 1, 0, 0, 3, 0, 5, 3, 6, 3, 6, 0, 1, 0, 0, 0, 0, 0, 0, 1, 1, 1, 2, 3, 7, 1, 3, 1, 2, 1, 0, 0, 1, 6, 2, 5, 2, 0, 3, 0, 0, 0, 3, 0, 1, 0, 1, 0, 0, 0, 2, 4, 2, 0, 1, 3, 3, 0, 0, 0, 3, 2, 2, 3, 4, 4, 1, 2, 0, 1, 1, 0, 3, 4, 4, 0, 3, 3, 0, 2, 1, 0, 0, 0, 3, 2, 12, 4, 2, 2, 5, 0, 2, 0, 0, 2, 6, 3, 4, 4, 0, 1, 1, 2, 3, 1, 3, 4, 0, 2, 0, 1, 1, 0, 3, 0, 1, 3, 1, 2, 1, 0, 0, 0, 1, 3, 2, 5, 3, 3, 4, 0, 0, 3, 1, 4, 3, 0, 1, 1, 5, 2, 0, 8, 2, 0, 0, 1, 1, 1, 3, 5, 1, 0, 0, 3, 2, 5, 0, 0, 1, 1, 0, 1, 1, 2, 1, 1, 2, 5, 2, 3, 1, 3, 2, 3, 8, 2, 0, 1, 2, 1, 1, 1, 4, 1, 0, 0, 2, 2, 3, 0, 2, 1, 2, 1, 1, 1, 2, 0, 1, 2, 0, 3, 0, 3, 0, 2, 2, 2, 7, 0, 1, 4, 4, 1, 3, 3, 4, 0, 1, 0, 0, 1, 0, 1, 1, 3, 1, 1, 2, 2, 2, 1, 0, 0, 1, 4, 0, 2, 3, 11, 3, 3, 2, 1, 4, 2, 1, 2, 1, 3, 3, 4, 4], \"xaxis\": \"x\", \"yaxis\": \"y\"}, {\"alignmentgroup\": \"True\", \"bingroup\": \"x\", \"histnorm\": \"probability density\", \"hovertemplate\": \"gust_strength=Low<br>obs_count=%{x}<br>count=%{y}<extra></extra>\", \"legendgroup\": \"Low\", \"marker\": {\"color\": \"#EF553B\", \"opacity\": 0.7}, \"name\": \"Low\", \"offsetgroup\": \"Low\", \"orientation\": \"v\", \"showlegend\": true, \"type\": \"histogram\", \"x\": [2, 1, 0, 6, 3, 2, 5, 0, 0, 5, 0, 0, 1, 0, 2, 0, 3, 3, 1, 3, 4, 2, 5, 1, 1, 2, 2, 4, 5, 2, 1, 5, 1, 0, 3, 0, 1, 2, 4, 2, 5, 2, 3, 0, 2, 1, 10, 2, 3, 2, 2, 8, 4, 2, 3, 0, 5, 9, 3, 6, 0, 0, 3, 3, 1, 6, 3, 3, 0, 2, 7, 0, 2, 2, 1, 3, 3, 4, 2, 1, 3, 3, 1, 1, 0, 1, 1, 2, 4, 2, 1, 3, 0, 0, 0, 3, 2, 2, 0, 1, 5, 1, 1, 2, 0, 1, 3, 2, 0, 0, 2, 4, 2, 0, 2, 0, 3, 6, 4, 2, 4, 2, 6, 6, 4, 0, 0, 1, 4, 1, 0, 2, 2, 0, 2, 1, 6, 7, 0, 0, 0, 0, 0, 9, 2, 4, 1, 3, 1, 0, 1, 3, 8, 7, 3, 2, 6, 3, 2, 1, 2, 1, 3, 1, 2, 2, 1, 2, 0, 2, 4, 3, 1, 4, 3, 3, 4, 6, 0, 2, 0, 1, 1, 2, 4, 4, 0, 2, 1, 1, 8, 3, 5, 2, 5, 4, 3, 2, 1, 3, 2, 3, 1, 3, 0, 3, 2, 2, 1, 2, 3, 4, 0, 3, 3, 0, 4, 3, 5, 0, 3, 2, 4, 3, 5, 4, 0, 0, 1, 2, 5, 4, 3, 4, 2, 3, 4, 1, 3, 0, 1, 2, 1, 1, 0, 3, 2, 5, 4, 2, 3, 1, 3, 1, 0, 4, 3, 1, 6, 1, 2, 6, 1, 0, 4, 3, 1, 0, 1, 0, 5, 4, 1, 0, 5, 3, 3, 3, 5, 0, 3, 1, 2, 5, 4, 2, 2, 0, 3, 2, 2, 1, 2, 0, 3, 3, 3, 3, 0, 0, 3, 2, 0, 4, 0, 4, 1, 1, 1, 3, 1, 1, 0, 2, 4, 6, 5, 5, 1, 2, 2, 0, 0, 0, 1, 0, 0, 1, 1, 0, 3, 4, 0, 1, 3, 0, 0, 1, 3, 3, 2, 4, 6, 5, 2, 2, 2, 2, 1, 2, 5, 3, 8, 1, 1, 3, 4, 5, 0, 2, 0, 2, 3, 1, 0, 3, 1, 2, 4, 5, 1, 0, 0, 0, 0, 3, 2, 2, 2, 1, 0, 1, 1, 1, 1, 4, 1, 3, 3, 0, 3, 6, 0, 4, 3, 0, 1, 0, 3, 1, 0, 1, 0, 3, 1, 1, 0, 1, 4, 0, 3, 3, 2, 0, 6, 6, 3, 1, 0, 1, 0, 11, 3, 3, 0, 1, 0, 1, 2, 0, 0, 1, 0, 1, 1, 1, 0, 1, 3, 8, 1, 4, 2, 2, 0, 2, 2, 1, 0, 4, 3, 3, 2, 0, 3, 3, 4, 0, 2, 1, 2, 0, 0, 2, 0, 0, 0, 2, 0, 1, 2, 1, 2, 1, 2, 0, 0, 0, 0, 2, 1, 0, 1, 3, 2, 0, 1, 2, 2, 2, 0, 2, 1, 1, 0, 1, 2, 4, 0, 4, 0, 1, 2, 0, 0, 3, 3, 4, 1, 1, 2, 1, 0, 1, 1, 3, 1, 0, 1, 3, 5, 2, 2, 0, 0, 3, 0, 1, 3, 2, 5, 7, 7, 1, 0, 0, 3, 2, 1, 3, 1, 2, 1, 3, 1, 3, 2, 0, 0, 2, 1, 3, 6, 8, 0, 5, 1, 0, 0, 4, 0, 1, 0, 1, 3, 1, 0, 5, 3, 2, 2, 6, 1, 4, 0, 1, 0, 3, 6, 6, 2, 3, 2, 5, 1, 2, 0, 0, 1, 0, 3, 2, 3, 0, 0, 0, 4, 1, 0, 1, 1, 1, 2, 1, 0, 0, 1, 0, 1, 1, 0, 0, 1, 0, 1, 1, 0, 1, 0, 3, 1, 4, 0, 1, 0, 0, 0, 1, 0, 2, 2, 2, 2, 2, 3, 7, 3, 0, 0, 1, 0, 1, 0, 2, 0, 1, 0, 0, 3, 0, 0, 2, 3, 0, 0, 0, 1, 0, 1, 3, 4, 0, 3, 1, 0, 5, 0, 1, 0, 1, 2, 2, 4, 2, 1, 1, 0, 1, 1, 1, 2, 2, 0, 0, 1, 0, 0, 0, 3, 2, 1, 1, 1, 1, 1, 2, 3, 1, 0, 0, 0, 0, 2, 3, 3, 1, 1, 4, 0, 0, 2, 3, 0, 0, 2, 1, 0, 0, 3, 3, 2, 1, 0, 2, 3, 3, 0, 0, 0, 2, 2, 0, 0, 0, 0, 1, 4, 5, 3, 1, 2, 0, 3, 2, 0, 0, 0, 0, 0, 4, 1, 0, 3, 0, 0, 2, 6, 2, 3, 5, 5, 5, 1, 0, 0, 2, 0, 0, 2, 2, 5, 3, 1, 1, 3, 1, 0, 0, 1, 0, 2, 2, 0, 7, 0, 4, 6, 2, 0, 0, 0, 2, 4, 4, 7, 3, 2, 0, 4, 4, 0, 0, 0, 4, 2, 1, 0, 1, 3, 0, 2, 1, 1, 3, 3, 4, 4, 0, 0, 0, 3, 1, 4, 0, 2, 2, 0, 5, 0, 4, 0, 1, 3, 1, 1, 1, 3, 0, 0, 1, 0, 2, 1, 7, 5, 5, 5, 5, 7, 3, 0, 0, 0, 0, 0, 1, 3, 0, 2, 0, 5, 4, 2, 0, 1, 1, 1, 1, 1, 7, 4, 2, 1, 3, 0, 4, 1, 0, 1, 0, 2, 2, 4, 0, 4, 2, 3, 1, 1, 1, 0, 6, 1, 2, 4, 5, 2, 5, 5, 5, 0, 1, 1, 1, 2, 1, 3, 1, 3, 0, 4, 3, 2, 0, 0, 1, 1, 2, 2, 3, 2, 2, 3, 5, 1, 0, 0, 1, 0, 4, 1, 1, 2, 0, 0, 0, 4, 1, 2, 0, 1, 0, 1, 2, 2, 2, 0, 1, 3, 1, 8, 2, 1, 0, 0, 0, 2, 2, 1, 4, 5, 5, 3, 1, 0, 0, 0, 1, 5, 6, 2, 1, 4, 4, 8, 3, 4, 2, 3, 1, 3, 1, 3, 0, 0, 1, 6, 3, 0, 0, 2, 4, 0, 3, 0, 6, 1, 3, 0, 1, 2, 1, 2, 1, 2, 2, 3, 4, 2, 0, 0, 1, 1, 1, 0, 2, 2, 0, 1, 4, 2, 1, 1, 1, 0, 6, 3, 5, 8, 5, 4, 1, 3, 3, 1, 5, 1, 2, 0, 1, 0, 0, 0, 2, 1, 3, 3, 1, 1, 1, 1, 1, 0, 1, 0, 1, 1, 3, 2, 0, 0, 1, 0, 4, 1, 3, 1, 3, 0, 2, 4, 4, 0, 2, 0, 2, 5, 3, 2, 0, 3], \"xaxis\": \"x\", \"yaxis\": \"y\"}, {\"alignmentgroup\": \"True\", \"bingroup\": \"x\", \"histnorm\": \"probability density\", \"hovertemplate\": \"gust_strength=Strong<br>obs_count=%{x}<br>count=%{y}<extra></extra>\", \"legendgroup\": \"Strong\", \"marker\": {\"color\": \"#00cc96\", \"opacity\": 0.7}, \"name\": \"Strong\", \"offsetgroup\": \"Strong\", \"orientation\": \"v\", \"showlegend\": true, \"type\": \"histogram\", \"x\": [0, 4, 0, 1, 0, 1, 1, 0, 1, 4, 1, 3, 0, 5, 5, 2, 1, 1, 4, 2, 2, 2, 3, 0, 1, 3, 6, 1, 0, 0, 3, 0, 0, 1, 4, 1, 2, 0, 0, 0, 1, 3, 1, 0, 2, 2, 1, 1, 1, 3, 4, 4, 3, 1, 3, 0, 0, 1, 1, 1, 0, 1, 0, 2, 1, 0, 1, 0, 1, 2, 2, 0, 2, 3, 5, 0, 0, 0, 1, 1, 2, 5, 0, 0, 0, 2, 0, 3, 2, 1, 0, 1, 1, 0, 3, 2, 0, 0, 0, 2, 2, 4, 3, 6, 1, 0, 0, 1, 0, 0, 1, 1, 1, 0, 0, 0, 3, 1, 0, 1, 3, 0, 0, 1, 0, 1, 2, 2, 3, 0, 0, 1, 2, 1, 0, 0, 2, 0, 0, 1, 0, 1, 6, 0, 0, 1, 0, 0, 0, 1, 0, 0, 0, 1, 0, 2, 1, 1, 2, 1, 0, 0, 0, 2, 1, 1, 1, 0, 2, 2, 1, 2, 6, 0, 0, 2, 0, 1, 0, 2, 0, 2, 0, 2, 5, 1, 1, 0, 0, 1, 4, 6, 0, 3, 1, 2, 0, 2, 5, 1, 7, 3, 3, 1, 0, 2, 1, 1, 5, 2, 2, 0, 0, 1, 0, 7, 0, 0, 2, 2, 1, 2, 0, 1, 1, 2, 2, 0, 0, 1, 1, 6, 3, 0, 0, 7, 5, 2, 3, 2, 0, 1, 0, 2, 0, 0, 0, 0, 2, 7, 2, 1, 0, 2, 0, 2, 0, 0, 1, 2, 3, 0, 1, 1, 0, 0, 3, 1, 1, 0, 0, 2, 2, 6, 1, 1, 1, 2, 3, 1, 1, 1, 1, 3, 1, 3, 0, 0, 1, 1, 1, 0, 1, 2, 0, 1, 7, 1, 1, 0, 0, 0, 4, 3, 5, 2, 1, 1, 3, 2, 0, 0, 1, 2, 1, 3, 1, 1, 0, 2, 3, 0, 2, 2, 1, 2, 8, 0, 3, 0, 1, 2, 4, 0, 1, 4, 0, 3, 4, 0, 2, 2, 1, 1, 1, 2, 5, 4, 2, 2, 1, 1, 0, 0, 1, 0, 0, 1, 2, 1, 0, 0, 4, 3, 4, 2, 1, 0, 1, 2, 8, 4, 2, 0], \"xaxis\": \"x\", \"yaxis\": \"y\"}],\n",
       "                        {\"barmode\": \"group\", \"height\": 300, \"legend\": {\"title\": {\"text\": \"gust_strength\"}, \"tracegroupgap\": 0}, \"template\": {\"data\": {\"bar\": [{\"error_x\": {\"color\": \"#f2f5fa\"}, \"error_y\": {\"color\": \"#f2f5fa\"}, \"marker\": {\"line\": {\"color\": \"rgb(17,17,17)\", \"width\": 0.5}}, \"type\": \"bar\"}], \"barpolar\": [{\"marker\": {\"line\": {\"color\": \"rgb(17,17,17)\", \"width\": 0.5}}, \"type\": \"barpolar\"}], \"carpet\": [{\"aaxis\": {\"endlinecolor\": \"#A2B1C6\", \"gridcolor\": \"#506784\", \"linecolor\": \"#506784\", \"minorgridcolor\": \"#506784\", \"startlinecolor\": \"#A2B1C6\"}, \"baxis\": {\"endlinecolor\": \"#A2B1C6\", \"gridcolor\": \"#506784\", \"linecolor\": \"#506784\", \"minorgridcolor\": \"#506784\", \"startlinecolor\": \"#A2B1C6\"}, \"type\": \"carpet\"}], \"choropleth\": [{\"colorbar\": {\"outlinewidth\": 0, \"ticks\": \"\"}, \"type\": \"choropleth\"}], \"contour\": [{\"colorbar\": {\"outlinewidth\": 0, \"ticks\": \"\"}, \"colorscale\": [[0.0, \"#0d0887\"], [0.1111111111111111, \"#46039f\"], [0.2222222222222222, \"#7201a8\"], [0.3333333333333333, \"#9c179e\"], [0.4444444444444444, \"#bd3786\"], [0.5555555555555556, \"#d8576b\"], [0.6666666666666666, \"#ed7953\"], [0.7777777777777778, \"#fb9f3a\"], [0.8888888888888888, \"#fdca26\"], [1.0, \"#f0f921\"]], \"type\": \"contour\"}], \"contourcarpet\": [{\"colorbar\": {\"outlinewidth\": 0, \"ticks\": \"\"}, \"type\": \"contourcarpet\"}], \"heatmap\": [{\"colorbar\": {\"outlinewidth\": 0, \"ticks\": \"\"}, \"colorscale\": [[0.0, \"#0d0887\"], [0.1111111111111111, \"#46039f\"], [0.2222222222222222, \"#7201a8\"], [0.3333333333333333, \"#9c179e\"], [0.4444444444444444, \"#bd3786\"], [0.5555555555555556, \"#d8576b\"], [0.6666666666666666, \"#ed7953\"], [0.7777777777777778, \"#fb9f3a\"], [0.8888888888888888, \"#fdca26\"], [1.0, \"#f0f921\"]], \"type\": \"heatmap\"}], \"heatmapgl\": [{\"colorbar\": {\"outlinewidth\": 0, \"ticks\": \"\"}, \"colorscale\": [[0.0, \"#0d0887\"], [0.1111111111111111, \"#46039f\"], [0.2222222222222222, \"#7201a8\"], [0.3333333333333333, \"#9c179e\"], [0.4444444444444444, \"#bd3786\"], [0.5555555555555556, \"#d8576b\"], [0.6666666666666666, \"#ed7953\"], [0.7777777777777778, \"#fb9f3a\"], [0.8888888888888888, \"#fdca26\"], [1.0, \"#f0f921\"]], \"type\": \"heatmapgl\"}], \"histogram\": [{\"marker\": {\"colorbar\": {\"outlinewidth\": 0, \"ticks\": \"\"}}, \"type\": \"histogram\"}], \"histogram2d\": [{\"colorbar\": {\"outlinewidth\": 0, \"ticks\": \"\"}, \"colorscale\": [[0.0, \"#0d0887\"], [0.1111111111111111, \"#46039f\"], [0.2222222222222222, \"#7201a8\"], [0.3333333333333333, \"#9c179e\"], [0.4444444444444444, \"#bd3786\"], [0.5555555555555556, \"#d8576b\"], [0.6666666666666666, \"#ed7953\"], [0.7777777777777778, \"#fb9f3a\"], [0.8888888888888888, \"#fdca26\"], [1.0, \"#f0f921\"]], \"type\": \"histogram2d\"}], \"histogram2dcontour\": [{\"colorbar\": {\"outlinewidth\": 0, \"ticks\": \"\"}, \"colorscale\": [[0.0, \"#0d0887\"], [0.1111111111111111, \"#46039f\"], [0.2222222222222222, \"#7201a8\"], [0.3333333333333333, \"#9c179e\"], [0.4444444444444444, \"#bd3786\"], [0.5555555555555556, \"#d8576b\"], [0.6666666666666666, \"#ed7953\"], [0.7777777777777778, \"#fb9f3a\"], [0.8888888888888888, \"#fdca26\"], [1.0, \"#f0f921\"]], \"type\": \"histogram2dcontour\"}], \"mesh3d\": [{\"colorbar\": {\"outlinewidth\": 0, \"ticks\": \"\"}, \"type\": \"mesh3d\"}], \"parcoords\": [{\"line\": {\"colorbar\": {\"outlinewidth\": 0, \"ticks\": \"\"}}, \"type\": \"parcoords\"}], \"pie\": [{\"automargin\": true, \"type\": \"pie\"}], \"scatter\": [{\"marker\": {\"line\": {\"color\": \"#283442\"}}, \"type\": \"scatter\"}], \"scatter3d\": [{\"line\": {\"colorbar\": {\"outlinewidth\": 0, \"ticks\": \"\"}}, \"marker\": {\"colorbar\": {\"outlinewidth\": 0, \"ticks\": \"\"}}, \"type\": \"scatter3d\"}], \"scattercarpet\": [{\"marker\": {\"colorbar\": {\"outlinewidth\": 0, \"ticks\": \"\"}}, \"type\": \"scattercarpet\"}], \"scattergeo\": [{\"marker\": {\"colorbar\": {\"outlinewidth\": 0, \"ticks\": \"\"}}, \"type\": \"scattergeo\"}], \"scattergl\": [{\"marker\": {\"line\": {\"color\": \"#283442\"}}, \"type\": \"scattergl\"}], \"scattermapbox\": [{\"marker\": {\"colorbar\": {\"outlinewidth\": 0, \"ticks\": \"\"}}, \"type\": \"scattermapbox\"}], \"scatterpolar\": [{\"marker\": {\"colorbar\": {\"outlinewidth\": 0, \"ticks\": \"\"}}, \"type\": \"scatterpolar\"}], \"scatterpolargl\": [{\"marker\": {\"colorbar\": {\"outlinewidth\": 0, \"ticks\": \"\"}}, \"type\": \"scatterpolargl\"}], \"scatterternary\": [{\"marker\": {\"colorbar\": {\"outlinewidth\": 0, \"ticks\": \"\"}}, \"type\": \"scatterternary\"}], \"surface\": [{\"colorbar\": {\"outlinewidth\": 0, \"ticks\": \"\"}, \"colorscale\": [[0.0, \"#0d0887\"], [0.1111111111111111, \"#46039f\"], [0.2222222222222222, \"#7201a8\"], [0.3333333333333333, \"#9c179e\"], [0.4444444444444444, \"#bd3786\"], [0.5555555555555556, \"#d8576b\"], [0.6666666666666666, \"#ed7953\"], [0.7777777777777778, \"#fb9f3a\"], [0.8888888888888888, \"#fdca26\"], [1.0, \"#f0f921\"]], \"type\": \"surface\"}], \"table\": [{\"cells\": {\"fill\": {\"color\": \"#506784\"}, \"line\": {\"color\": \"rgb(17,17,17)\"}}, \"header\": {\"fill\": {\"color\": \"#2a3f5f\"}, \"line\": {\"color\": \"rgb(17,17,17)\"}}, \"type\": \"table\"}]}, \"layout\": {\"annotationdefaults\": {\"arrowcolor\": \"#f2f5fa\", \"arrowhead\": 0, \"arrowwidth\": 1}, \"coloraxis\": {\"colorbar\": {\"outlinewidth\": 0, \"ticks\": \"\"}}, \"colorscale\": {\"diverging\": [[0, \"#8e0152\"], [0.1, \"#c51b7d\"], [0.2, \"#de77ae\"], [0.3, \"#f1b6da\"], [0.4, \"#fde0ef\"], [0.5, \"#f7f7f7\"], [0.6, \"#e6f5d0\"], [0.7, \"#b8e186\"], [0.8, \"#7fbc41\"], [0.9, \"#4d9221\"], [1, \"#276419\"]], \"sequential\": [[0.0, \"#0d0887\"], [0.1111111111111111, \"#46039f\"], [0.2222222222222222, \"#7201a8\"], [0.3333333333333333, \"#9c179e\"], [0.4444444444444444, \"#bd3786\"], [0.5555555555555556, \"#d8576b\"], [0.6666666666666666, \"#ed7953\"], [0.7777777777777778, \"#fb9f3a\"], [0.8888888888888888, \"#fdca26\"], [1.0, \"#f0f921\"]], \"sequentialminus\": [[0.0, \"#0d0887\"], [0.1111111111111111, \"#46039f\"], [0.2222222222222222, \"#7201a8\"], [0.3333333333333333, \"#9c179e\"], [0.4444444444444444, \"#bd3786\"], [0.5555555555555556, \"#d8576b\"], [0.6666666666666666, \"#ed7953\"], [0.7777777777777778, \"#fb9f3a\"], [0.8888888888888888, \"#fdca26\"], [1.0, \"#f0f921\"]]}, \"colorway\": [\"#636efa\", \"#EF553B\", \"#00cc96\", \"#ab63fa\", \"#FFA15A\", \"#19d3f3\", \"#FF6692\", \"#B6E880\", \"#FF97FF\", \"#FECB52\"], \"font\": {\"color\": \"#f2f5fa\"}, \"geo\": {\"bgcolor\": \"rgb(17,17,17)\", \"lakecolor\": \"rgb(17,17,17)\", \"landcolor\": \"rgb(17,17,17)\", \"showlakes\": true, \"showland\": true, \"subunitcolor\": \"#506784\"}, \"hoverlabel\": {\"align\": \"left\"}, \"hovermode\": \"closest\", \"mapbox\": {\"style\": \"dark\"}, \"paper_bgcolor\": \"rgb(17,17,17)\", \"plot_bgcolor\": \"rgb(17,17,17)\", \"polar\": {\"angularaxis\": {\"gridcolor\": \"#506784\", \"linecolor\": \"#506784\", \"ticks\": \"\"}, \"bgcolor\": \"rgb(17,17,17)\", \"radialaxis\": {\"gridcolor\": \"#506784\", \"linecolor\": \"#506784\", \"ticks\": \"\"}}, \"scene\": {\"xaxis\": {\"backgroundcolor\": \"rgb(17,17,17)\", \"gridcolor\": \"#506784\", \"gridwidth\": 2, \"linecolor\": \"#506784\", \"showbackground\": true, \"ticks\": \"\", \"zerolinecolor\": \"#C8D4E3\"}, \"yaxis\": {\"backgroundcolor\": \"rgb(17,17,17)\", \"gridcolor\": \"#506784\", \"gridwidth\": 2, \"linecolor\": \"#506784\", \"showbackground\": true, \"ticks\": \"\", \"zerolinecolor\": \"#C8D4E3\"}, \"zaxis\": {\"backgroundcolor\": \"rgb(17,17,17)\", \"gridcolor\": \"#506784\", \"gridwidth\": 2, \"linecolor\": \"#506784\", \"showbackground\": true, \"ticks\": \"\", \"zerolinecolor\": \"#C8D4E3\"}}, \"shapedefaults\": {\"line\": {\"color\": \"#f2f5fa\"}}, \"sliderdefaults\": {\"bgcolor\": \"#C8D4E3\", \"bordercolor\": \"rgb(17,17,17)\", \"borderwidth\": 1, \"tickwidth\": 0}, \"ternary\": {\"aaxis\": {\"gridcolor\": \"#506784\", \"linecolor\": \"#506784\", \"ticks\": \"\"}, \"baxis\": {\"gridcolor\": \"#506784\", \"linecolor\": \"#506784\", \"ticks\": \"\"}, \"bgcolor\": \"rgb(17,17,17)\", \"caxis\": {\"gridcolor\": \"#506784\", \"linecolor\": \"#506784\", \"ticks\": \"\"}}, \"title\": {\"x\": 0.05}, \"updatemenudefaults\": {\"bgcolor\": \"#506784\", \"borderwidth\": 0}, \"xaxis\": {\"automargin\": true, \"gridcolor\": \"#283442\", \"linecolor\": \"#506784\", \"ticks\": \"\", \"title\": {\"standoff\": 15}, \"zerolinecolor\": \"#283442\", \"zerolinewidth\": 2}, \"yaxis\": {\"automargin\": true, \"gridcolor\": \"#283442\", \"linecolor\": \"#506784\", \"ticks\": \"\", \"title\": {\"standoff\": 15}, \"zerolinecolor\": \"#283442\", \"zerolinewidth\": 2}}}, \"title\": {\"text\": \"Gust strength impact on objects detected\"}, \"xaxis\": {\"anchor\": \"y\", \"domain\": [0.0, 1.0], \"title\": {\"text\": \"obs_count\"}}, \"yaxis\": {\"anchor\": \"x\", \"domain\": [0.0, 1.0], \"title\": {\"text\": \"count\"}}},\n",
       "                        {\"responsive\": true}\n",
       "                    ).then(function(){\n",
       "                            \n",
       "var gd = document.getElementById('f0271e24-1dea-42d6-9a06-b29e5d696852');\n",
       "var x = new MutationObserver(function (mutations, observer) {{\n",
       "        var display = window.getComputedStyle(gd).display;\n",
       "        if (!display || display === 'none') {{\n",
       "            console.log([gd, 'removed!']);\n",
       "            Plotly.purge(gd);\n",
       "            observer.disconnect();\n",
       "        }}\n",
       "}});\n",
       "\n",
       "// Listen for the removal of the full notebook cells\n",
       "var notebookContainer = gd.closest('#notebook-container');\n",
       "if (notebookContainer) {{\n",
       "    x.observe(notebookContainer, {childList: true});\n",
       "}}\n",
       "\n",
       "// Listen for the clearing of the current output cell\n",
       "var outputEl = gd.closest('.output');\n",
       "if (outputEl) {{\n",
       "    x.observe(outputEl, {childList: true});\n",
       "}}\n",
       "\n",
       "                        })\n",
       "                };\n",
       "                });\n",
       "            </script>\n",
       "        </div>"
      ]
     },
     "metadata": {},
     "output_type": "display_data"
    }
   ],
   "source": [
    "px.histogram(hr_range(7,19), x=\"obs_count\", color=\"gust_strength\", opacity=0.7,\n",
    "             barmode='group', height=300, histnorm='probability density',\n",
    "             title='Gust strength impact on objects detected')"
   ]
  },
  {
   "cell_type": "markdown",
   "metadata": {},
   "source": [
    "The above plots are using the probability density, however if we look at the number of observations for each category, the plot begins to looks quite diffrently.\n",
    "\n",
    "There is a big difference in the count of observations with strong gusts, and we will see in the forecasting step if addign this feature is actually beneficial for the accuracy of the prediction model."
   ]
  },
  {
   "cell_type": "code",
   "execution_count": 132,
   "metadata": {},
   "outputs": [
    {
     "data": {
      "application/vnd.plotly.v1+json": {
       "config": {
        "plotlyServerURL": "https://plot.ly"
       },
       "data": [
        {
         "alignmentgroup": "True",
         "bingroup": "x",
         "hovertemplate": "gust_strength=Medium<br>obs_count=%{x}<br>count=%{y}<extra></extra>",
         "legendgroup": "Medium",
         "marker": {
          "color": "#636efa",
          "opacity": 0.7
         },
         "name": "Medium",
         "offsetgroup": "Medium",
         "orientation": "v",
         "showlegend": true,
         "type": "histogram",
         "x": [
          2,
          3,
          1,
          0,
          2,
          2,
          1,
          0,
          2,
          0,
          6,
          2,
          2,
          1,
          2,
          0,
          0,
          3,
          0,
          5,
          2,
          2,
          1,
          2,
          1,
          0,
          3,
          0,
          2,
          0,
          4,
          5,
          1,
          2,
          1,
          2,
          5,
          4,
          0,
          2,
          4,
          4,
          1,
          6,
          0,
          1,
          2,
          2,
          0,
          0,
          1,
          1,
          1,
          2,
          4,
          4,
          0,
          3,
          1,
          3,
          2,
          1,
          0,
          2,
          1,
          1,
          0,
          0,
          2,
          0,
          1,
          1,
          8,
          3,
          0,
          1,
          2,
          1,
          1,
          1,
          1,
          1,
          0,
          6,
          3,
          0,
          5,
          2,
          6,
          5,
          6,
          0,
          2,
          3,
          0,
          0,
          0,
          1,
          4,
          5,
          0,
          0,
          1,
          1,
          1,
          4,
          3,
          1,
          2,
          5,
          2,
          0,
          3,
          1,
          1,
          2,
          0,
          4,
          1,
          4,
          1,
          0,
          8,
          0,
          1,
          6,
          7,
          5,
          4,
          1,
          1,
          1,
          2,
          0,
          3,
          1,
          1,
          1,
          0,
          5,
          3,
          2,
          4,
          3,
          0,
          2,
          1,
          0,
          2,
          3,
          3,
          2,
          2,
          2,
          3,
          0,
          0,
          2,
          1,
          1,
          2,
          1,
          1,
          3,
          1,
          1,
          1,
          3,
          2,
          2,
          1,
          2,
          2,
          0,
          5,
          0,
          0,
          0,
          0,
          2,
          5,
          2,
          4,
          1,
          1,
          1,
          1,
          2,
          0,
          1,
          1,
          2,
          1,
          2,
          0,
          2,
          3,
          1,
          0,
          1,
          4,
          0,
          2,
          2,
          0,
          1,
          1,
          1,
          3,
          0,
          0,
          0,
          4,
          3,
          1,
          4,
          1,
          1,
          0,
          1,
          0,
          2,
          0,
          2,
          0,
          2,
          0,
          2,
          0,
          7,
          1,
          4,
          6,
          1,
          0,
          4,
          2,
          3,
          1,
          3,
          2,
          4,
          2,
          5,
          0,
          1,
          0,
          1,
          1,
          3,
          0,
          2,
          3,
          1,
          2,
          0,
          0,
          0,
          0,
          5,
          2,
          6,
          1,
          6,
          1,
          0,
          2,
          1,
          1,
          1,
          1,
          5,
          2,
          0,
          3,
          0,
          5,
          12,
          0,
          0,
          2,
          0,
          0,
          2,
          1,
          2,
          1,
          1,
          0,
          0,
          0,
          0,
          0,
          3,
          2,
          2,
          4,
          0,
          9,
          0,
          0,
          0,
          2,
          0,
          1,
          1,
          1,
          1,
          2,
          1,
          1,
          1,
          1,
          3,
          3,
          3,
          0,
          0,
          2,
          2,
          0,
          1,
          0,
          2,
          1,
          1,
          1,
          2,
          0,
          1,
          1,
          4,
          4,
          4,
          0,
          0,
          0,
          0,
          2,
          1,
          2,
          0,
          2,
          1,
          2,
          1,
          0,
          6,
          6,
          0,
          3,
          2,
          1,
          4,
          1,
          2,
          4,
          3,
          3,
          1,
          2,
          2,
          0,
          0,
          0,
          0,
          3,
          1,
          3,
          3,
          1,
          0,
          2,
          3,
          8,
          0,
          0,
          0,
          1,
          0,
          1,
          3,
          0,
          1,
          1,
          6,
          3,
          4,
          0,
          0,
          0,
          1,
          2,
          0,
          0,
          1,
          1,
          1,
          0,
          1,
          0,
          0,
          3,
          3,
          7,
          4,
          0,
          5,
          1,
          1,
          1,
          0,
          3,
          1,
          2,
          0,
          2,
          1,
          0,
          1,
          1,
          2,
          3,
          2,
          7,
          2,
          1,
          1,
          3,
          1,
          3,
          2,
          1,
          0,
          1,
          5,
          4,
          2,
          0,
          1,
          2,
          2,
          2,
          2,
          5,
          1,
          4,
          1,
          0,
          0,
          7,
          2,
          2,
          1,
          0,
          2,
          0,
          0,
          4,
          4,
          1,
          4,
          2,
          4,
          0,
          0,
          0,
          8,
          2,
          4,
          5,
          2,
          6,
          2,
          3,
          2,
          3,
          2,
          0,
          0,
          2,
          1,
          0,
          2,
          1,
          0,
          0,
          3,
          0,
          5,
          3,
          6,
          3,
          6,
          0,
          1,
          0,
          0,
          0,
          0,
          0,
          0,
          1,
          1,
          1,
          2,
          3,
          7,
          1,
          3,
          1,
          2,
          1,
          0,
          0,
          1,
          6,
          2,
          5,
          2,
          0,
          3,
          0,
          0,
          0,
          3,
          0,
          1,
          0,
          1,
          0,
          0,
          0,
          2,
          4,
          2,
          0,
          1,
          3,
          3,
          0,
          0,
          0,
          3,
          2,
          2,
          3,
          4,
          4,
          1,
          2,
          0,
          1,
          1,
          0,
          3,
          4,
          4,
          0,
          3,
          3,
          0,
          2,
          1,
          0,
          0,
          0,
          3,
          2,
          12,
          4,
          2,
          2,
          5,
          0,
          2,
          0,
          0,
          2,
          6,
          3,
          4,
          4,
          0,
          1,
          1,
          2,
          3,
          1,
          3,
          4,
          0,
          2,
          0,
          1,
          1,
          0,
          3,
          0,
          1,
          3,
          1,
          2,
          1,
          0,
          0,
          0,
          1,
          3,
          2,
          5,
          3,
          3,
          4,
          0,
          0,
          3,
          1,
          4,
          3,
          0,
          1,
          1,
          5,
          2,
          0,
          8,
          2,
          0,
          0,
          1,
          1,
          1,
          3,
          5,
          1,
          0,
          0,
          3,
          2,
          5,
          0,
          0,
          1,
          1,
          0,
          1,
          1,
          2,
          1,
          1,
          2,
          5,
          2,
          3,
          1,
          3,
          2,
          3,
          8,
          2,
          0,
          1,
          2,
          1,
          1,
          1,
          4,
          1,
          0,
          0,
          2,
          2,
          3,
          0,
          2,
          1,
          2,
          1,
          1,
          1,
          2,
          0,
          1,
          2,
          0,
          3,
          0,
          3,
          0,
          2,
          2,
          2,
          7,
          0,
          1,
          4,
          4,
          1,
          3,
          3,
          4,
          0,
          1,
          0,
          0,
          1,
          0,
          1,
          1,
          3,
          1,
          1,
          2,
          2,
          2,
          1,
          0,
          0,
          1,
          4,
          0,
          2,
          3,
          11,
          3,
          3,
          2,
          1,
          4,
          2,
          1,
          2,
          1,
          3,
          3,
          4,
          4
         ],
         "xaxis": "x",
         "yaxis": "y"
        },
        {
         "alignmentgroup": "True",
         "bingroup": "x",
         "hovertemplate": "gust_strength=Low<br>obs_count=%{x}<br>count=%{y}<extra></extra>",
         "legendgroup": "Low",
         "marker": {
          "color": "#EF553B",
          "opacity": 0.7
         },
         "name": "Low",
         "offsetgroup": "Low",
         "orientation": "v",
         "showlegend": true,
         "type": "histogram",
         "x": [
          2,
          1,
          0,
          6,
          3,
          2,
          5,
          0,
          0,
          5,
          0,
          0,
          1,
          0,
          2,
          0,
          3,
          3,
          1,
          3,
          4,
          2,
          5,
          1,
          1,
          2,
          2,
          4,
          5,
          2,
          1,
          5,
          1,
          0,
          3,
          0,
          1,
          2,
          4,
          2,
          5,
          2,
          3,
          0,
          2,
          1,
          10,
          2,
          3,
          2,
          2,
          8,
          4,
          2,
          3,
          0,
          5,
          9,
          3,
          6,
          0,
          0,
          3,
          3,
          1,
          6,
          3,
          3,
          0,
          2,
          7,
          0,
          2,
          2,
          1,
          3,
          3,
          4,
          2,
          1,
          3,
          3,
          1,
          1,
          0,
          1,
          1,
          2,
          4,
          2,
          1,
          3,
          0,
          0,
          0,
          3,
          2,
          2,
          0,
          1,
          5,
          1,
          1,
          2,
          0,
          1,
          3,
          2,
          0,
          0,
          2,
          4,
          2,
          0,
          2,
          0,
          3,
          6,
          4,
          2,
          4,
          2,
          6,
          6,
          4,
          0,
          0,
          1,
          4,
          1,
          0,
          2,
          2,
          0,
          2,
          1,
          6,
          7,
          0,
          0,
          0,
          0,
          0,
          9,
          2,
          4,
          1,
          3,
          1,
          0,
          1,
          3,
          8,
          7,
          3,
          2,
          6,
          3,
          2,
          1,
          2,
          1,
          3,
          1,
          2,
          2,
          1,
          2,
          0,
          2,
          4,
          3,
          1,
          4,
          3,
          3,
          4,
          6,
          0,
          2,
          0,
          1,
          1,
          2,
          4,
          4,
          0,
          2,
          1,
          1,
          8,
          3,
          5,
          2,
          5,
          4,
          3,
          2,
          1,
          3,
          2,
          3,
          1,
          3,
          0,
          3,
          2,
          2,
          1,
          2,
          3,
          4,
          0,
          3,
          3,
          0,
          4,
          3,
          5,
          0,
          3,
          2,
          4,
          3,
          5,
          4,
          0,
          0,
          1,
          2,
          5,
          4,
          3,
          4,
          2,
          3,
          4,
          1,
          3,
          0,
          1,
          2,
          1,
          1,
          0,
          3,
          2,
          5,
          4,
          2,
          3,
          1,
          3,
          1,
          0,
          4,
          3,
          1,
          6,
          1,
          2,
          6,
          1,
          0,
          4,
          3,
          1,
          0,
          1,
          0,
          5,
          4,
          1,
          0,
          5,
          3,
          3,
          3,
          5,
          0,
          3,
          1,
          2,
          5,
          4,
          2,
          2,
          0,
          3,
          2,
          2,
          1,
          2,
          0,
          3,
          3,
          3,
          3,
          0,
          0,
          3,
          2,
          0,
          4,
          0,
          4,
          1,
          1,
          1,
          3,
          1,
          1,
          0,
          2,
          4,
          6,
          5,
          5,
          1,
          2,
          2,
          0,
          0,
          0,
          1,
          0,
          0,
          1,
          1,
          0,
          3,
          4,
          0,
          1,
          3,
          0,
          0,
          1,
          3,
          3,
          2,
          4,
          6,
          5,
          2,
          2,
          2,
          2,
          1,
          2,
          5,
          3,
          8,
          1,
          1,
          3,
          4,
          5,
          0,
          2,
          0,
          2,
          3,
          1,
          0,
          3,
          1,
          2,
          4,
          5,
          1,
          0,
          0,
          0,
          0,
          3,
          2,
          2,
          2,
          1,
          0,
          1,
          1,
          1,
          1,
          4,
          1,
          3,
          3,
          0,
          3,
          6,
          0,
          4,
          3,
          0,
          1,
          0,
          3,
          1,
          0,
          1,
          0,
          3,
          1,
          1,
          0,
          1,
          4,
          0,
          3,
          3,
          2,
          0,
          6,
          6,
          3,
          1,
          0,
          1,
          0,
          11,
          3,
          3,
          0,
          1,
          0,
          1,
          2,
          0,
          0,
          1,
          0,
          1,
          1,
          1,
          0,
          1,
          3,
          8,
          1,
          4,
          2,
          2,
          0,
          2,
          2,
          1,
          0,
          4,
          3,
          3,
          2,
          0,
          3,
          3,
          4,
          0,
          2,
          1,
          2,
          0,
          0,
          2,
          0,
          0,
          0,
          2,
          0,
          1,
          2,
          1,
          2,
          1,
          2,
          0,
          0,
          0,
          0,
          2,
          1,
          0,
          1,
          3,
          2,
          0,
          1,
          2,
          2,
          2,
          0,
          2,
          1,
          1,
          0,
          1,
          2,
          4,
          0,
          4,
          0,
          1,
          2,
          0,
          0,
          3,
          3,
          4,
          1,
          1,
          2,
          1,
          0,
          1,
          1,
          3,
          1,
          0,
          1,
          3,
          5,
          2,
          2,
          0,
          0,
          3,
          0,
          1,
          3,
          2,
          5,
          7,
          7,
          1,
          0,
          0,
          3,
          2,
          1,
          3,
          1,
          2,
          1,
          3,
          1,
          3,
          2,
          0,
          0,
          2,
          1,
          3,
          6,
          8,
          0,
          5,
          1,
          0,
          0,
          4,
          0,
          1,
          0,
          1,
          3,
          1,
          0,
          5,
          3,
          2,
          2,
          6,
          1,
          4,
          0,
          1,
          0,
          3,
          6,
          6,
          2,
          3,
          2,
          5,
          1,
          2,
          0,
          0,
          1,
          0,
          3,
          2,
          3,
          0,
          0,
          0,
          4,
          1,
          0,
          1,
          1,
          1,
          2,
          1,
          0,
          0,
          1,
          0,
          1,
          1,
          0,
          0,
          1,
          0,
          1,
          1,
          0,
          1,
          0,
          3,
          1,
          4,
          0,
          1,
          0,
          0,
          0,
          1,
          0,
          2,
          2,
          2,
          2,
          2,
          3,
          7,
          3,
          0,
          0,
          1,
          0,
          1,
          0,
          2,
          0,
          1,
          0,
          0,
          3,
          0,
          0,
          2,
          3,
          0,
          0,
          0,
          1,
          0,
          1,
          3,
          4,
          0,
          3,
          1,
          0,
          5,
          0,
          1,
          0,
          1,
          2,
          2,
          4,
          2,
          1,
          1,
          0,
          1,
          1,
          1,
          2,
          2,
          0,
          0,
          1,
          0,
          0,
          0,
          3,
          2,
          1,
          1,
          1,
          1,
          1,
          2,
          3,
          1,
          0,
          0,
          0,
          0,
          2,
          3,
          3,
          1,
          1,
          4,
          0,
          0,
          2,
          3,
          0,
          0,
          2,
          1,
          0,
          0,
          3,
          3,
          2,
          1,
          0,
          2,
          3,
          3,
          0,
          0,
          0,
          2,
          2,
          0,
          0,
          0,
          0,
          1,
          4,
          5,
          3,
          1,
          2,
          0,
          3,
          2,
          0,
          0,
          0,
          0,
          0,
          4,
          1,
          0,
          3,
          0,
          0,
          2,
          6,
          2,
          3,
          5,
          5,
          5,
          1,
          0,
          0,
          2,
          0,
          0,
          2,
          2,
          5,
          3,
          1,
          1,
          3,
          1,
          0,
          0,
          1,
          0,
          2,
          2,
          0,
          7,
          0,
          4,
          6,
          2,
          0,
          0,
          0,
          2,
          4,
          4,
          7,
          3,
          2,
          0,
          4,
          4,
          0,
          0,
          0,
          4,
          2,
          1,
          0,
          1,
          3,
          0,
          2,
          1,
          1,
          3,
          3,
          4,
          4,
          0,
          0,
          0,
          3,
          1,
          4,
          0,
          2,
          2,
          0,
          5,
          0,
          4,
          0,
          1,
          3,
          1,
          1,
          1,
          3,
          0,
          0,
          1,
          0,
          2,
          1,
          7,
          5,
          5,
          5,
          5,
          7,
          3,
          0,
          0,
          0,
          0,
          0,
          1,
          3,
          0,
          2,
          0,
          5,
          4,
          2,
          0,
          1,
          1,
          1,
          1,
          1,
          7,
          4,
          2,
          1,
          3,
          0,
          4,
          1,
          0,
          1,
          0,
          2,
          2,
          4,
          0,
          4,
          2,
          3,
          1,
          1,
          1,
          0,
          6,
          1,
          2,
          4,
          5,
          2,
          5,
          5,
          5,
          0,
          1,
          1,
          1,
          2,
          1,
          3,
          1,
          3,
          0,
          4,
          3,
          2,
          0,
          0,
          1,
          1,
          2,
          2,
          3,
          2,
          2,
          3,
          5,
          1,
          0,
          0,
          1,
          0,
          4,
          1,
          1,
          2,
          0,
          0,
          0,
          4,
          1,
          2,
          0,
          1,
          0,
          1,
          2,
          2,
          2,
          0,
          1,
          3,
          1,
          8,
          2,
          1,
          0,
          0,
          0,
          2,
          2,
          1,
          4,
          5,
          5,
          3,
          1,
          0,
          0,
          0,
          1,
          5,
          6,
          2,
          1,
          4,
          4,
          8,
          3,
          4,
          2,
          3,
          1,
          3,
          1,
          3,
          0,
          0,
          1,
          6,
          3,
          0,
          0,
          2,
          4,
          0,
          3,
          0,
          6,
          1,
          3,
          0,
          1,
          2,
          1,
          2,
          1,
          2,
          2,
          3,
          4,
          2,
          0,
          0,
          1,
          1,
          1,
          0,
          2,
          2,
          0,
          1,
          4,
          2,
          1,
          1,
          1,
          0,
          6,
          3,
          5,
          8,
          5,
          4,
          1,
          3,
          3,
          1,
          5,
          1,
          2,
          0,
          1,
          0,
          0,
          0,
          2,
          1,
          3,
          3,
          1,
          1,
          1,
          1,
          1,
          0,
          1,
          0,
          1,
          1,
          3,
          2,
          0,
          0,
          1,
          0,
          4,
          1,
          3,
          1,
          3,
          0,
          2,
          4,
          4,
          0,
          2,
          0,
          2,
          5,
          3,
          2,
          0,
          3
         ],
         "xaxis": "x",
         "yaxis": "y"
        },
        {
         "alignmentgroup": "True",
         "bingroup": "x",
         "hovertemplate": "gust_strength=Strong<br>obs_count=%{x}<br>count=%{y}<extra></extra>",
         "legendgroup": "Strong",
         "marker": {
          "color": "#00cc96",
          "opacity": 0.7
         },
         "name": "Strong",
         "offsetgroup": "Strong",
         "orientation": "v",
         "showlegend": true,
         "type": "histogram",
         "x": [
          0,
          4,
          0,
          1,
          0,
          1,
          1,
          0,
          1,
          4,
          1,
          3,
          0,
          5,
          5,
          2,
          1,
          1,
          4,
          2,
          2,
          2,
          3,
          0,
          1,
          3,
          6,
          1,
          0,
          0,
          3,
          0,
          0,
          1,
          4,
          1,
          2,
          0,
          0,
          0,
          1,
          3,
          1,
          0,
          2,
          2,
          1,
          1,
          1,
          3,
          4,
          4,
          3,
          1,
          3,
          0,
          0,
          1,
          1,
          1,
          0,
          1,
          0,
          2,
          1,
          0,
          1,
          0,
          1,
          2,
          2,
          0,
          2,
          3,
          5,
          0,
          0,
          0,
          1,
          1,
          2,
          5,
          0,
          0,
          0,
          2,
          0,
          3,
          2,
          1,
          0,
          1,
          1,
          0,
          3,
          2,
          0,
          0,
          0,
          2,
          2,
          4,
          3,
          6,
          1,
          0,
          0,
          1,
          0,
          0,
          1,
          1,
          1,
          0,
          0,
          0,
          3,
          1,
          0,
          1,
          3,
          0,
          0,
          1,
          0,
          1,
          2,
          2,
          3,
          0,
          0,
          1,
          2,
          1,
          0,
          0,
          2,
          0,
          0,
          1,
          0,
          1,
          6,
          0,
          0,
          1,
          0,
          0,
          0,
          1,
          0,
          0,
          0,
          1,
          0,
          2,
          1,
          1,
          2,
          1,
          0,
          0,
          0,
          2,
          1,
          1,
          1,
          0,
          2,
          2,
          1,
          2,
          6,
          0,
          0,
          2,
          0,
          1,
          0,
          2,
          0,
          2,
          0,
          2,
          5,
          1,
          1,
          0,
          0,
          1,
          4,
          6,
          0,
          3,
          1,
          2,
          0,
          2,
          5,
          1,
          7,
          3,
          3,
          1,
          0,
          2,
          1,
          1,
          5,
          2,
          2,
          0,
          0,
          1,
          0,
          7,
          0,
          0,
          2,
          2,
          1,
          2,
          0,
          1,
          1,
          2,
          2,
          0,
          0,
          1,
          1,
          6,
          3,
          0,
          0,
          7,
          5,
          2,
          3,
          2,
          0,
          1,
          0,
          2,
          0,
          0,
          0,
          0,
          2,
          7,
          2,
          1,
          0,
          2,
          0,
          2,
          0,
          0,
          1,
          2,
          3,
          0,
          1,
          1,
          0,
          0,
          3,
          1,
          1,
          0,
          0,
          2,
          2,
          6,
          1,
          1,
          1,
          2,
          3,
          1,
          1,
          1,
          1,
          3,
          1,
          3,
          0,
          0,
          1,
          1,
          1,
          0,
          1,
          2,
          0,
          1,
          7,
          1,
          1,
          0,
          0,
          0,
          4,
          3,
          5,
          2,
          1,
          1,
          3,
          2,
          0,
          0,
          1,
          2,
          1,
          3,
          1,
          1,
          0,
          2,
          3,
          0,
          2,
          2,
          1,
          2,
          8,
          0,
          3,
          0,
          1,
          2,
          4,
          0,
          1,
          4,
          0,
          3,
          4,
          0,
          2,
          2,
          1,
          1,
          1,
          2,
          5,
          4,
          2,
          2,
          1,
          1,
          0,
          0,
          1,
          0,
          0,
          1,
          2,
          1,
          0,
          0,
          4,
          3,
          4,
          2,
          1,
          0,
          1,
          2,
          8,
          4,
          2,
          0
         ],
         "xaxis": "x",
         "yaxis": "y"
        }
       ],
       "layout": {
        "autosize": true,
        "barmode": "group",
        "legend": {
         "title": {
          "text": "gust_strength"
         },
         "tracegroupgap": 0
        },
        "template": {
         "data": {
          "bar": [
           {
            "error_x": {
             "color": "#f2f5fa"
            },
            "error_y": {
             "color": "#f2f5fa"
            },
            "marker": {
             "line": {
              "color": "rgb(17,17,17)",
              "width": 0.5
             }
            },
            "type": "bar"
           }
          ],
          "barpolar": [
           {
            "marker": {
             "line": {
              "color": "rgb(17,17,17)",
              "width": 0.5
             }
            },
            "type": "barpolar"
           }
          ],
          "carpet": [
           {
            "aaxis": {
             "endlinecolor": "#A2B1C6",
             "gridcolor": "#506784",
             "linecolor": "#506784",
             "minorgridcolor": "#506784",
             "startlinecolor": "#A2B1C6"
            },
            "baxis": {
             "endlinecolor": "#A2B1C6",
             "gridcolor": "#506784",
             "linecolor": "#506784",
             "minorgridcolor": "#506784",
             "startlinecolor": "#A2B1C6"
            },
            "type": "carpet"
           }
          ],
          "choropleth": [
           {
            "colorbar": {
             "outlinewidth": 0,
             "ticks": ""
            },
            "type": "choropleth"
           }
          ],
          "contour": [
           {
            "colorbar": {
             "outlinewidth": 0,
             "ticks": ""
            },
            "colorscale": [
             [
              0,
              "#0d0887"
             ],
             [
              0.1111111111111111,
              "#46039f"
             ],
             [
              0.2222222222222222,
              "#7201a8"
             ],
             [
              0.3333333333333333,
              "#9c179e"
             ],
             [
              0.4444444444444444,
              "#bd3786"
             ],
             [
              0.5555555555555556,
              "#d8576b"
             ],
             [
              0.6666666666666666,
              "#ed7953"
             ],
             [
              0.7777777777777778,
              "#fb9f3a"
             ],
             [
              0.8888888888888888,
              "#fdca26"
             ],
             [
              1,
              "#f0f921"
             ]
            ],
            "type": "contour"
           }
          ],
          "contourcarpet": [
           {
            "colorbar": {
             "outlinewidth": 0,
             "ticks": ""
            },
            "type": "contourcarpet"
           }
          ],
          "heatmap": [
           {
            "colorbar": {
             "outlinewidth": 0,
             "ticks": ""
            },
            "colorscale": [
             [
              0,
              "#0d0887"
             ],
             [
              0.1111111111111111,
              "#46039f"
             ],
             [
              0.2222222222222222,
              "#7201a8"
             ],
             [
              0.3333333333333333,
              "#9c179e"
             ],
             [
              0.4444444444444444,
              "#bd3786"
             ],
             [
              0.5555555555555556,
              "#d8576b"
             ],
             [
              0.6666666666666666,
              "#ed7953"
             ],
             [
              0.7777777777777778,
              "#fb9f3a"
             ],
             [
              0.8888888888888888,
              "#fdca26"
             ],
             [
              1,
              "#f0f921"
             ]
            ],
            "type": "heatmap"
           }
          ],
          "heatmapgl": [
           {
            "colorbar": {
             "outlinewidth": 0,
             "ticks": ""
            },
            "colorscale": [
             [
              0,
              "#0d0887"
             ],
             [
              0.1111111111111111,
              "#46039f"
             ],
             [
              0.2222222222222222,
              "#7201a8"
             ],
             [
              0.3333333333333333,
              "#9c179e"
             ],
             [
              0.4444444444444444,
              "#bd3786"
             ],
             [
              0.5555555555555556,
              "#d8576b"
             ],
             [
              0.6666666666666666,
              "#ed7953"
             ],
             [
              0.7777777777777778,
              "#fb9f3a"
             ],
             [
              0.8888888888888888,
              "#fdca26"
             ],
             [
              1,
              "#f0f921"
             ]
            ],
            "type": "heatmapgl"
           }
          ],
          "histogram": [
           {
            "marker": {
             "colorbar": {
              "outlinewidth": 0,
              "ticks": ""
             }
            },
            "type": "histogram"
           }
          ],
          "histogram2d": [
           {
            "colorbar": {
             "outlinewidth": 0,
             "ticks": ""
            },
            "colorscale": [
             [
              0,
              "#0d0887"
             ],
             [
              0.1111111111111111,
              "#46039f"
             ],
             [
              0.2222222222222222,
              "#7201a8"
             ],
             [
              0.3333333333333333,
              "#9c179e"
             ],
             [
              0.4444444444444444,
              "#bd3786"
             ],
             [
              0.5555555555555556,
              "#d8576b"
             ],
             [
              0.6666666666666666,
              "#ed7953"
             ],
             [
              0.7777777777777778,
              "#fb9f3a"
             ],
             [
              0.8888888888888888,
              "#fdca26"
             ],
             [
              1,
              "#f0f921"
             ]
            ],
            "type": "histogram2d"
           }
          ],
          "histogram2dcontour": [
           {
            "colorbar": {
             "outlinewidth": 0,
             "ticks": ""
            },
            "colorscale": [
             [
              0,
              "#0d0887"
             ],
             [
              0.1111111111111111,
              "#46039f"
             ],
             [
              0.2222222222222222,
              "#7201a8"
             ],
             [
              0.3333333333333333,
              "#9c179e"
             ],
             [
              0.4444444444444444,
              "#bd3786"
             ],
             [
              0.5555555555555556,
              "#d8576b"
             ],
             [
              0.6666666666666666,
              "#ed7953"
             ],
             [
              0.7777777777777778,
              "#fb9f3a"
             ],
             [
              0.8888888888888888,
              "#fdca26"
             ],
             [
              1,
              "#f0f921"
             ]
            ],
            "type": "histogram2dcontour"
           }
          ],
          "mesh3d": [
           {
            "colorbar": {
             "outlinewidth": 0,
             "ticks": ""
            },
            "type": "mesh3d"
           }
          ],
          "parcoords": [
           {
            "line": {
             "colorbar": {
              "outlinewidth": 0,
              "ticks": ""
             }
            },
            "type": "parcoords"
           }
          ],
          "pie": [
           {
            "automargin": true,
            "type": "pie"
           }
          ],
          "scatter": [
           {
            "marker": {
             "line": {
              "color": "#283442"
             }
            },
            "type": "scatter"
           }
          ],
          "scatter3d": [
           {
            "line": {
             "colorbar": {
              "outlinewidth": 0,
              "ticks": ""
             }
            },
            "marker": {
             "colorbar": {
              "outlinewidth": 0,
              "ticks": ""
             }
            },
            "type": "scatter3d"
           }
          ],
          "scattercarpet": [
           {
            "marker": {
             "colorbar": {
              "outlinewidth": 0,
              "ticks": ""
             }
            },
            "type": "scattercarpet"
           }
          ],
          "scattergeo": [
           {
            "marker": {
             "colorbar": {
              "outlinewidth": 0,
              "ticks": ""
             }
            },
            "type": "scattergeo"
           }
          ],
          "scattergl": [
           {
            "marker": {
             "line": {
              "color": "#283442"
             }
            },
            "type": "scattergl"
           }
          ],
          "scattermapbox": [
           {
            "marker": {
             "colorbar": {
              "outlinewidth": 0,
              "ticks": ""
             }
            },
            "type": "scattermapbox"
           }
          ],
          "scatterpolar": [
           {
            "marker": {
             "colorbar": {
              "outlinewidth": 0,
              "ticks": ""
             }
            },
            "type": "scatterpolar"
           }
          ],
          "scatterpolargl": [
           {
            "marker": {
             "colorbar": {
              "outlinewidth": 0,
              "ticks": ""
             }
            },
            "type": "scatterpolargl"
           }
          ],
          "scatterternary": [
           {
            "marker": {
             "colorbar": {
              "outlinewidth": 0,
              "ticks": ""
             }
            },
            "type": "scatterternary"
           }
          ],
          "surface": [
           {
            "colorbar": {
             "outlinewidth": 0,
             "ticks": ""
            },
            "colorscale": [
             [
              0,
              "#0d0887"
             ],
             [
              0.1111111111111111,
              "#46039f"
             ],
             [
              0.2222222222222222,
              "#7201a8"
             ],
             [
              0.3333333333333333,
              "#9c179e"
             ],
             [
              0.4444444444444444,
              "#bd3786"
             ],
             [
              0.5555555555555556,
              "#d8576b"
             ],
             [
              0.6666666666666666,
              "#ed7953"
             ],
             [
              0.7777777777777778,
              "#fb9f3a"
             ],
             [
              0.8888888888888888,
              "#fdca26"
             ],
             [
              1,
              "#f0f921"
             ]
            ],
            "type": "surface"
           }
          ],
          "table": [
           {
            "cells": {
             "fill": {
              "color": "#506784"
             },
             "line": {
              "color": "rgb(17,17,17)"
             }
            },
            "header": {
             "fill": {
              "color": "#2a3f5f"
             },
             "line": {
              "color": "rgb(17,17,17)"
             }
            },
            "type": "table"
           }
          ]
         },
         "layout": {
          "annotationdefaults": {
           "arrowcolor": "#f2f5fa",
           "arrowhead": 0,
           "arrowwidth": 1
          },
          "coloraxis": {
           "colorbar": {
            "outlinewidth": 0,
            "ticks": ""
           }
          },
          "colorscale": {
           "diverging": [
            [
             0,
             "#8e0152"
            ],
            [
             0.1,
             "#c51b7d"
            ],
            [
             0.2,
             "#de77ae"
            ],
            [
             0.3,
             "#f1b6da"
            ],
            [
             0.4,
             "#fde0ef"
            ],
            [
             0.5,
             "#f7f7f7"
            ],
            [
             0.6,
             "#e6f5d0"
            ],
            [
             0.7,
             "#b8e186"
            ],
            [
             0.8,
             "#7fbc41"
            ],
            [
             0.9,
             "#4d9221"
            ],
            [
             1,
             "#276419"
            ]
           ],
           "sequential": [
            [
             0,
             "#0d0887"
            ],
            [
             0.1111111111111111,
             "#46039f"
            ],
            [
             0.2222222222222222,
             "#7201a8"
            ],
            [
             0.3333333333333333,
             "#9c179e"
            ],
            [
             0.4444444444444444,
             "#bd3786"
            ],
            [
             0.5555555555555556,
             "#d8576b"
            ],
            [
             0.6666666666666666,
             "#ed7953"
            ],
            [
             0.7777777777777778,
             "#fb9f3a"
            ],
            [
             0.8888888888888888,
             "#fdca26"
            ],
            [
             1,
             "#f0f921"
            ]
           ],
           "sequentialminus": [
            [
             0,
             "#0d0887"
            ],
            [
             0.1111111111111111,
             "#46039f"
            ],
            [
             0.2222222222222222,
             "#7201a8"
            ],
            [
             0.3333333333333333,
             "#9c179e"
            ],
            [
             0.4444444444444444,
             "#bd3786"
            ],
            [
             0.5555555555555556,
             "#d8576b"
            ],
            [
             0.6666666666666666,
             "#ed7953"
            ],
            [
             0.7777777777777778,
             "#fb9f3a"
            ],
            [
             0.8888888888888888,
             "#fdca26"
            ],
            [
             1,
             "#f0f921"
            ]
           ]
          },
          "colorway": [
           "#636efa",
           "#EF553B",
           "#00cc96",
           "#ab63fa",
           "#FFA15A",
           "#19d3f3",
           "#FF6692",
           "#B6E880",
           "#FF97FF",
           "#FECB52"
          ],
          "font": {
           "color": "#f2f5fa"
          },
          "geo": {
           "bgcolor": "rgb(17,17,17)",
           "lakecolor": "rgb(17,17,17)",
           "landcolor": "rgb(17,17,17)",
           "showlakes": true,
           "showland": true,
           "subunitcolor": "#506784"
          },
          "hoverlabel": {
           "align": "left"
          },
          "hovermode": "closest",
          "mapbox": {
           "style": "dark"
          },
          "paper_bgcolor": "rgb(17,17,17)",
          "plot_bgcolor": "rgb(17,17,17)",
          "polar": {
           "angularaxis": {
            "gridcolor": "#506784",
            "linecolor": "#506784",
            "ticks": ""
           },
           "bgcolor": "rgb(17,17,17)",
           "radialaxis": {
            "gridcolor": "#506784",
            "linecolor": "#506784",
            "ticks": ""
           }
          },
          "scene": {
           "xaxis": {
            "backgroundcolor": "rgb(17,17,17)",
            "gridcolor": "#506784",
            "gridwidth": 2,
            "linecolor": "#506784",
            "showbackground": true,
            "ticks": "",
            "zerolinecolor": "#C8D4E3"
           },
           "yaxis": {
            "backgroundcolor": "rgb(17,17,17)",
            "gridcolor": "#506784",
            "gridwidth": 2,
            "linecolor": "#506784",
            "showbackground": true,
            "ticks": "",
            "zerolinecolor": "#C8D4E3"
           },
           "zaxis": {
            "backgroundcolor": "rgb(17,17,17)",
            "gridcolor": "#506784",
            "gridwidth": 2,
            "linecolor": "#506784",
            "showbackground": true,
            "ticks": "",
            "zerolinecolor": "#C8D4E3"
           }
          },
          "shapedefaults": {
           "line": {
            "color": "#f2f5fa"
           }
          },
          "sliderdefaults": {
           "bgcolor": "#C8D4E3",
           "bordercolor": "rgb(17,17,17)",
           "borderwidth": 1,
           "tickwidth": 0
          },
          "ternary": {
           "aaxis": {
            "gridcolor": "#506784",
            "linecolor": "#506784",
            "ticks": ""
           },
           "baxis": {
            "gridcolor": "#506784",
            "linecolor": "#506784",
            "ticks": ""
           },
           "bgcolor": "rgb(17,17,17)",
           "caxis": {
            "gridcolor": "#506784",
            "linecolor": "#506784",
            "ticks": ""
           }
          },
          "title": {
           "x": 0.05
          },
          "updatemenudefaults": {
           "bgcolor": "#506784",
           "borderwidth": 0
          },
          "xaxis": {
           "automargin": true,
           "gridcolor": "#283442",
           "linecolor": "#506784",
           "ticks": "",
           "title": {
            "standoff": 15
           },
           "zerolinecolor": "#283442",
           "zerolinewidth": 2
          },
          "yaxis": {
           "automargin": true,
           "gridcolor": "#283442",
           "linecolor": "#506784",
           "ticks": "",
           "title": {
            "standoff": 15
           },
           "zerolinecolor": "#283442",
           "zerolinewidth": 2
          }
         }
        },
        "title": {
         "text": "Gust strength impact on objects detected"
        },
        "xaxis": {
         "anchor": "y",
         "autorange": true,
         "domain": [
          0,
          1
         ],
         "range": [
          -0.5,
          12.5
         ],
         "title": {
          "text": "obs_count"
         },
         "type": "linear"
        },
        "yaxis": {
         "anchor": "x",
         "autorange": true,
         "domain": [
          0,
          1
         ],
         "range": [
          0,
          303.1578947368421
         ],
         "title": {
          "text": "count"
         }
        }
       }
      },
      "image/png": "[encoded data removed]",
      "text/html": [
       "<div>\n",
       "        \n",
       "        \n",
       "            <div id=\"2a3925a6-74b6-4434-8722-af083cfb80fe\" class=\"plotly-graph-div\" style=\"height:300px; width:100%;\"></div>\n",
       "            <script type=\"text/javascript\">\n",
       "                require([\"plotly\"], function(Plotly) {\n",
       "                    window.PLOTLYENV=window.PLOTLYENV || {};\n",
       "                    \n",
       "                if (document.getElementById(\"2a3925a6-74b6-4434-8722-af083cfb80fe\")) {\n",
       "                    Plotly.newPlot(\n",
       "                        '2a3925a6-74b6-4434-8722-af083cfb80fe',\n",
       "                        [{\"alignmentgroup\": \"True\", \"bingroup\": \"x\", \"hovertemplate\": \"gust_strength=Medium<br>obs_count=%{x}<br>count=%{y}<extra></extra>\", \"legendgroup\": \"Medium\", \"marker\": {\"color\": \"#636efa\", \"opacity\": 0.7}, \"name\": \"Medium\", \"offsetgroup\": \"Medium\", \"orientation\": \"v\", \"showlegend\": true, \"type\": \"histogram\", \"x\": [2, 3, 1, 0, 2, 2, 1, 0, 2, 0, 6, 2, 2, 1, 2, 0, 0, 3, 0, 5, 2, 2, 1, 2, 1, 0, 3, 0, 2, 0, 4, 5, 1, 2, 1, 2, 5, 4, 0, 2, 4, 4, 1, 6, 0, 1, 2, 2, 0, 0, 1, 1, 1, 2, 4, 4, 0, 3, 1, 3, 2, 1, 0, 2, 1, 1, 0, 0, 2, 0, 1, 1, 8, 3, 0, 1, 2, 1, 1, 1, 1, 1, 0, 6, 3, 0, 5, 2, 6, 5, 6, 0, 2, 3, 0, 0, 0, 1, 4, 5, 0, 0, 1, 1, 1, 4, 3, 1, 2, 5, 2, 0, 3, 1, 1, 2, 0, 4, 1, 4, 1, 0, 8, 0, 1, 6, 7, 5, 4, 1, 1, 1, 2, 0, 3, 1, 1, 1, 0, 5, 3, 2, 4, 3, 0, 2, 1, 0, 2, 3, 3, 2, 2, 2, 3, 0, 0, 2, 1, 1, 2, 1, 1, 3, 1, 1, 1, 3, 2, 2, 1, 2, 2, 0, 5, 0, 0, 0, 0, 2, 5, 2, 4, 1, 1, 1, 1, 2, 0, 1, 1, 2, 1, 2, 0, 2, 3, 1, 0, 1, 4, 0, 2, 2, 0, 1, 1, 1, 3, 0, 0, 0, 4, 3, 1, 4, 1, 1, 0, 1, 0, 2, 0, 2, 0, 2, 0, 2, 0, 7, 1, 4, 6, 1, 0, 4, 2, 3, 1, 3, 2, 4, 2, 5, 0, 1, 0, 1, 1, 3, 0, 2, 3, 1, 2, 0, 0, 0, 0, 5, 2, 6, 1, 6, 1, 0, 2, 1, 1, 1, 1, 5, 2, 0, 3, 0, 5, 12, 0, 0, 2, 0, 0, 2, 1, 2, 1, 1, 0, 0, 0, 0, 0, 3, 2, 2, 4, 0, 9, 0, 0, 0, 2, 0, 1, 1, 1, 1, 2, 1, 1, 1, 1, 3, 3, 3, 0, 0, 2, 2, 0, 1, 0, 2, 1, 1, 1, 2, 0, 1, 1, 4, 4, 4, 0, 0, 0, 0, 2, 1, 2, 0, 2, 1, 2, 1, 0, 6, 6, 0, 3, 2, 1, 4, 1, 2, 4, 3, 3, 1, 2, 2, 0, 0, 0, 0, 3, 1, 3, 3, 1, 0, 2, 3, 8, 0, 0, 0, 1, 0, 1, 3, 0, 1, 1, 6, 3, 4, 0, 0, 0, 1, 2, 0, 0, 1, 1, 1, 0, 1, 0, 0, 3, 3, 7, 4, 0, 5, 1, 1, 1, 0, 3, 1, 2, 0, 2, 1, 0, 1, 1, 2, 3, 2, 7, 2, 1, 1, 3, 1, 3, 2, 1, 0, 1, 5, 4, 2, 0, 1, 2, 2, 2, 2, 5, 1, 4, 1, 0, 0, 7, 2, 2, 1, 0, 2, 0, 0, 4, 4, 1, 4, 2, 4, 0, 0, 0, 8, 2, 4, 5, 2, 6, 2, 3, 2, 3, 2, 0, 0, 2, 1, 0, 2, 1, 0, 0, 3, 0, 5, 3, 6, 3, 6, 0, 1, 0, 0, 0, 0, 0, 0, 1, 1, 1, 2, 3, 7, 1, 3, 1, 2, 1, 0, 0, 1, 6, 2, 5, 2, 0, 3, 0, 0, 0, 3, 0, 1, 0, 1, 0, 0, 0, 2, 4, 2, 0, 1, 3, 3, 0, 0, 0, 3, 2, 2, 3, 4, 4, 1, 2, 0, 1, 1, 0, 3, 4, 4, 0, 3, 3, 0, 2, 1, 0, 0, 0, 3, 2, 12, 4, 2, 2, 5, 0, 2, 0, 0, 2, 6, 3, 4, 4, 0, 1, 1, 2, 3, 1, 3, 4, 0, 2, 0, 1, 1, 0, 3, 0, 1, 3, 1, 2, 1, 0, 0, 0, 1, 3, 2, 5, 3, 3, 4, 0, 0, 3, 1, 4, 3, 0, 1, 1, 5, 2, 0, 8, 2, 0, 0, 1, 1, 1, 3, 5, 1, 0, 0, 3, 2, 5, 0, 0, 1, 1, 0, 1, 1, 2, 1, 1, 2, 5, 2, 3, 1, 3, 2, 3, 8, 2, 0, 1, 2, 1, 1, 1, 4, 1, 0, 0, 2, 2, 3, 0, 2, 1, 2, 1, 1, 1, 2, 0, 1, 2, 0, 3, 0, 3, 0, 2, 2, 2, 7, 0, 1, 4, 4, 1, 3, 3, 4, 0, 1, 0, 0, 1, 0, 1, 1, 3, 1, 1, 2, 2, 2, 1, 0, 0, 1, 4, 0, 2, 3, 11, 3, 3, 2, 1, 4, 2, 1, 2, 1, 3, 3, 4, 4], \"xaxis\": \"x\", \"yaxis\": \"y\"}, {\"alignmentgroup\": \"True\", \"bingroup\": \"x\", \"hovertemplate\": \"gust_strength=Low<br>obs_count=%{x}<br>count=%{y}<extra></extra>\", \"legendgroup\": \"Low\", \"marker\": {\"color\": \"#EF553B\", \"opacity\": 0.7}, \"name\": \"Low\", \"offsetgroup\": \"Low\", \"orientation\": \"v\", \"showlegend\": true, \"type\": \"histogram\", \"x\": [2, 1, 0, 6, 3, 2, 5, 0, 0, 5, 0, 0, 1, 0, 2, 0, 3, 3, 1, 3, 4, 2, 5, 1, 1, 2, 2, 4, 5, 2, 1, 5, 1, 0, 3, 0, 1, 2, 4, 2, 5, 2, 3, 0, 2, 1, 10, 2, 3, 2, 2, 8, 4, 2, 3, 0, 5, 9, 3, 6, 0, 0, 3, 3, 1, 6, 3, 3, 0, 2, 7, 0, 2, 2, 1, 3, 3, 4, 2, 1, 3, 3, 1, 1, 0, 1, 1, 2, 4, 2, 1, 3, 0, 0, 0, 3, 2, 2, 0, 1, 5, 1, 1, 2, 0, 1, 3, 2, 0, 0, 2, 4, 2, 0, 2, 0, 3, 6, 4, 2, 4, 2, 6, 6, 4, 0, 0, 1, 4, 1, 0, 2, 2, 0, 2, 1, 6, 7, 0, 0, 0, 0, 0, 9, 2, 4, 1, 3, 1, 0, 1, 3, 8, 7, 3, 2, 6, 3, 2, 1, 2, 1, 3, 1, 2, 2, 1, 2, 0, 2, 4, 3, 1, 4, 3, 3, 4, 6, 0, 2, 0, 1, 1, 2, 4, 4, 0, 2, 1, 1, 8, 3, 5, 2, 5, 4, 3, 2, 1, 3, 2, 3, 1, 3, 0, 3, 2, 2, 1, 2, 3, 4, 0, 3, 3, 0, 4, 3, 5, 0, 3, 2, 4, 3, 5, 4, 0, 0, 1, 2, 5, 4, 3, 4, 2, 3, 4, 1, 3, 0, 1, 2, 1, 1, 0, 3, 2, 5, 4, 2, 3, 1, 3, 1, 0, 4, 3, 1, 6, 1, 2, 6, 1, 0, 4, 3, 1, 0, 1, 0, 5, 4, 1, 0, 5, 3, 3, 3, 5, 0, 3, 1, 2, 5, 4, 2, 2, 0, 3, 2, 2, 1, 2, 0, 3, 3, 3, 3, 0, 0, 3, 2, 0, 4, 0, 4, 1, 1, 1, 3, 1, 1, 0, 2, 4, 6, 5, 5, 1, 2, 2, 0, 0, 0, 1, 0, 0, 1, 1, 0, 3, 4, 0, 1, 3, 0, 0, 1, 3, 3, 2, 4, 6, 5, 2, 2, 2, 2, 1, 2, 5, 3, 8, 1, 1, 3, 4, 5, 0, 2, 0, 2, 3, 1, 0, 3, 1, 2, 4, 5, 1, 0, 0, 0, 0, 3, 2, 2, 2, 1, 0, 1, 1, 1, 1, 4, 1, 3, 3, 0, 3, 6, 0, 4, 3, 0, 1, 0, 3, 1, 0, 1, 0, 3, 1, 1, 0, 1, 4, 0, 3, 3, 2, 0, 6, 6, 3, 1, 0, 1, 0, 11, 3, 3, 0, 1, 0, 1, 2, 0, 0, 1, 0, 1, 1, 1, 0, 1, 3, 8, 1, 4, 2, 2, 0, 2, 2, 1, 0, 4, 3, 3, 2, 0, 3, 3, 4, 0, 2, 1, 2, 0, 0, 2, 0, 0, 0, 2, 0, 1, 2, 1, 2, 1, 2, 0, 0, 0, 0, 2, 1, 0, 1, 3, 2, 0, 1, 2, 2, 2, 0, 2, 1, 1, 0, 1, 2, 4, 0, 4, 0, 1, 2, 0, 0, 3, 3, 4, 1, 1, 2, 1, 0, 1, 1, 3, 1, 0, 1, 3, 5, 2, 2, 0, 0, 3, 0, 1, 3, 2, 5, 7, 7, 1, 0, 0, 3, 2, 1, 3, 1, 2, 1, 3, 1, 3, 2, 0, 0, 2, 1, 3, 6, 8, 0, 5, 1, 0, 0, 4, 0, 1, 0, 1, 3, 1, 0, 5, 3, 2, 2, 6, 1, 4, 0, 1, 0, 3, 6, 6, 2, 3, 2, 5, 1, 2, 0, 0, 1, 0, 3, 2, 3, 0, 0, 0, 4, 1, 0, 1, 1, 1, 2, 1, 0, 0, 1, 0, 1, 1, 0, 0, 1, 0, 1, 1, 0, 1, 0, 3, 1, 4, 0, 1, 0, 0, 0, 1, 0, 2, 2, 2, 2, 2, 3, 7, 3, 0, 0, 1, 0, 1, 0, 2, 0, 1, 0, 0, 3, 0, 0, 2, 3, 0, 0, 0, 1, 0, 1, 3, 4, 0, 3, 1, 0, 5, 0, 1, 0, 1, 2, 2, 4, 2, 1, 1, 0, 1, 1, 1, 2, 2, 0, 0, 1, 0, 0, 0, 3, 2, 1, 1, 1, 1, 1, 2, 3, 1, 0, 0, 0, 0, 2, 3, 3, 1, 1, 4, 0, 0, 2, 3, 0, 0, 2, 1, 0, 0, 3, 3, 2, 1, 0, 2, 3, 3, 0, 0, 0, 2, 2, 0, 0, 0, 0, 1, 4, 5, 3, 1, 2, 0, 3, 2, 0, 0, 0, 0, 0, 4, 1, 0, 3, 0, 0, 2, 6, 2, 3, 5, 5, 5, 1, 0, 0, 2, 0, 0, 2, 2, 5, 3, 1, 1, 3, 1, 0, 0, 1, 0, 2, 2, 0, 7, 0, 4, 6, 2, 0, 0, 0, 2, 4, 4, 7, 3, 2, 0, 4, 4, 0, 0, 0, 4, 2, 1, 0, 1, 3, 0, 2, 1, 1, 3, 3, 4, 4, 0, 0, 0, 3, 1, 4, 0, 2, 2, 0, 5, 0, 4, 0, 1, 3, 1, 1, 1, 3, 0, 0, 1, 0, 2, 1, 7, 5, 5, 5, 5, 7, 3, 0, 0, 0, 0, 0, 1, 3, 0, 2, 0, 5, 4, 2, 0, 1, 1, 1, 1, 1, 7, 4, 2, 1, 3, 0, 4, 1, 0, 1, 0, 2, 2, 4, 0, 4, 2, 3, 1, 1, 1, 0, 6, 1, 2, 4, 5, 2, 5, 5, 5, 0, 1, 1, 1, 2, 1, 3, 1, 3, 0, 4, 3, 2, 0, 0, 1, 1, 2, 2, 3, 2, 2, 3, 5, 1, 0, 0, 1, 0, 4, 1, 1, 2, 0, 0, 0, 4, 1, 2, 0, 1, 0, 1, 2, 2, 2, 0, 1, 3, 1, 8, 2, 1, 0, 0, 0, 2, 2, 1, 4, 5, 5, 3, 1, 0, 0, 0, 1, 5, 6, 2, 1, 4, 4, 8, 3, 4, 2, 3, 1, 3, 1, 3, 0, 0, 1, 6, 3, 0, 0, 2, 4, 0, 3, 0, 6, 1, 3, 0, 1, 2, 1, 2, 1, 2, 2, 3, 4, 2, 0, 0, 1, 1, 1, 0, 2, 2, 0, 1, 4, 2, 1, 1, 1, 0, 6, 3, 5, 8, 5, 4, 1, 3, 3, 1, 5, 1, 2, 0, 1, 0, 0, 0, 2, 1, 3, 3, 1, 1, 1, 1, 1, 0, 1, 0, 1, 1, 3, 2, 0, 0, 1, 0, 4, 1, 3, 1, 3, 0, 2, 4, 4, 0, 2, 0, 2, 5, 3, 2, 0, 3], \"xaxis\": \"x\", \"yaxis\": \"y\"}, {\"alignmentgroup\": \"True\", \"bingroup\": \"x\", \"hovertemplate\": \"gust_strength=Strong<br>obs_count=%{x}<br>count=%{y}<extra></extra>\", \"legendgroup\": \"Strong\", \"marker\": {\"color\": \"#00cc96\", \"opacity\": 0.7}, \"name\": \"Strong\", \"offsetgroup\": \"Strong\", \"orientation\": \"v\", \"showlegend\": true, \"type\": \"histogram\", \"x\": [0, 4, 0, 1, 0, 1, 1, 0, 1, 4, 1, 3, 0, 5, 5, 2, 1, 1, 4, 2, 2, 2, 3, 0, 1, 3, 6, 1, 0, 0, 3, 0, 0, 1, 4, 1, 2, 0, 0, 0, 1, 3, 1, 0, 2, 2, 1, 1, 1, 3, 4, 4, 3, 1, 3, 0, 0, 1, 1, 1, 0, 1, 0, 2, 1, 0, 1, 0, 1, 2, 2, 0, 2, 3, 5, 0, 0, 0, 1, 1, 2, 5, 0, 0, 0, 2, 0, 3, 2, 1, 0, 1, 1, 0, 3, 2, 0, 0, 0, 2, 2, 4, 3, 6, 1, 0, 0, 1, 0, 0, 1, 1, 1, 0, 0, 0, 3, 1, 0, 1, 3, 0, 0, 1, 0, 1, 2, 2, 3, 0, 0, 1, 2, 1, 0, 0, 2, 0, 0, 1, 0, 1, 6, 0, 0, 1, 0, 0, 0, 1, 0, 0, 0, 1, 0, 2, 1, 1, 2, 1, 0, 0, 0, 2, 1, 1, 1, 0, 2, 2, 1, 2, 6, 0, 0, 2, 0, 1, 0, 2, 0, 2, 0, 2, 5, 1, 1, 0, 0, 1, 4, 6, 0, 3, 1, 2, 0, 2, 5, 1, 7, 3, 3, 1, 0, 2, 1, 1, 5, 2, 2, 0, 0, 1, 0, 7, 0, 0, 2, 2, 1, 2, 0, 1, 1, 2, 2, 0, 0, 1, 1, 6, 3, 0, 0, 7, 5, 2, 3, 2, 0, 1, 0, 2, 0, 0, 0, 0, 2, 7, 2, 1, 0, 2, 0, 2, 0, 0, 1, 2, 3, 0, 1, 1, 0, 0, 3, 1, 1, 0, 0, 2, 2, 6, 1, 1, 1, 2, 3, 1, 1, 1, 1, 3, 1, 3, 0, 0, 1, 1, 1, 0, 1, 2, 0, 1, 7, 1, 1, 0, 0, 0, 4, 3, 5, 2, 1, 1, 3, 2, 0, 0, 1, 2, 1, 3, 1, 1, 0, 2, 3, 0, 2, 2, 1, 2, 8, 0, 3, 0, 1, 2, 4, 0, 1, 4, 0, 3, 4, 0, 2, 2, 1, 1, 1, 2, 5, 4, 2, 2, 1, 1, 0, 0, 1, 0, 0, 1, 2, 1, 0, 0, 4, 3, 4, 2, 1, 0, 1, 2, 8, 4, 2, 0], \"xaxis\": \"x\", \"yaxis\": \"y\"}],\n",
       "                        {\"barmode\": \"group\", \"height\": 300, \"legend\": {\"title\": {\"text\": \"gust_strength\"}, \"tracegroupgap\": 0}, \"template\": {\"data\": {\"bar\": [{\"error_x\": {\"color\": \"#f2f5fa\"}, \"error_y\": {\"color\": \"#f2f5fa\"}, \"marker\": {\"line\": {\"color\": \"rgb(17,17,17)\", \"width\": 0.5}}, \"type\": \"bar\"}], \"barpolar\": [{\"marker\": {\"line\": {\"color\": \"rgb(17,17,17)\", \"width\": 0.5}}, \"type\": \"barpolar\"}], \"carpet\": [{\"aaxis\": {\"endlinecolor\": \"#A2B1C6\", \"gridcolor\": \"#506784\", \"linecolor\": \"#506784\", \"minorgridcolor\": \"#506784\", \"startlinecolor\": \"#A2B1C6\"}, \"baxis\": {\"endlinecolor\": \"#A2B1C6\", \"gridcolor\": \"#506784\", \"linecolor\": \"#506784\", \"minorgridcolor\": \"#506784\", \"startlinecolor\": \"#A2B1C6\"}, \"type\": \"carpet\"}], \"choropleth\": [{\"colorbar\": {\"outlinewidth\": 0, \"ticks\": \"\"}, \"type\": \"choropleth\"}], \"contour\": [{\"colorbar\": {\"outlinewidth\": 0, \"ticks\": \"\"}, \"colorscale\": [[0.0, \"#0d0887\"], [0.1111111111111111, \"#46039f\"], [0.2222222222222222, \"#7201a8\"], [0.3333333333333333, \"#9c179e\"], [0.4444444444444444, \"#bd3786\"], [0.5555555555555556, \"#d8576b\"], [0.6666666666666666, \"#ed7953\"], [0.7777777777777778, \"#fb9f3a\"], [0.8888888888888888, \"#fdca26\"], [1.0, \"#f0f921\"]], \"type\": \"contour\"}], \"contourcarpet\": [{\"colorbar\": {\"outlinewidth\": 0, \"ticks\": \"\"}, \"type\": \"contourcarpet\"}], \"heatmap\": [{\"colorbar\": {\"outlinewidth\": 0, \"ticks\": \"\"}, \"colorscale\": [[0.0, \"#0d0887\"], [0.1111111111111111, \"#46039f\"], [0.2222222222222222, \"#7201a8\"], [0.3333333333333333, \"#9c179e\"], [0.4444444444444444, \"#bd3786\"], [0.5555555555555556, \"#d8576b\"], [0.6666666666666666, \"#ed7953\"], [0.7777777777777778, \"#fb9f3a\"], [0.8888888888888888, \"#fdca26\"], [1.0, \"#f0f921\"]], \"type\": \"heatmap\"}], \"heatmapgl\": [{\"colorbar\": {\"outlinewidth\": 0, \"ticks\": \"\"}, \"colorscale\": [[0.0, \"#0d0887\"], [0.1111111111111111, \"#46039f\"], [0.2222222222222222, \"#7201a8\"], [0.3333333333333333, \"#9c179e\"], [0.4444444444444444, \"#bd3786\"], [0.5555555555555556, \"#d8576b\"], [0.6666666666666666, \"#ed7953\"], [0.7777777777777778, \"#fb9f3a\"], [0.8888888888888888, \"#fdca26\"], [1.0, \"#f0f921\"]], \"type\": \"heatmapgl\"}], \"histogram\": [{\"marker\": {\"colorbar\": {\"outlinewidth\": 0, \"ticks\": \"\"}}, \"type\": \"histogram\"}], \"histogram2d\": [{\"colorbar\": {\"outlinewidth\": 0, \"ticks\": \"\"}, \"colorscale\": [[0.0, \"#0d0887\"], [0.1111111111111111, \"#46039f\"], [0.2222222222222222, \"#7201a8\"], [0.3333333333333333, \"#9c179e\"], [0.4444444444444444, \"#bd3786\"], [0.5555555555555556, \"#d8576b\"], [0.6666666666666666, \"#ed7953\"], [0.7777777777777778, \"#fb9f3a\"], [0.8888888888888888, \"#fdca26\"], [1.0, \"#f0f921\"]], \"type\": \"histogram2d\"}], \"histogram2dcontour\": [{\"colorbar\": {\"outlinewidth\": 0, \"ticks\": \"\"}, \"colorscale\": [[0.0, \"#0d0887\"], [0.1111111111111111, \"#46039f\"], [0.2222222222222222, \"#7201a8\"], [0.3333333333333333, \"#9c179e\"], [0.4444444444444444, \"#bd3786\"], [0.5555555555555556, \"#d8576b\"], [0.6666666666666666, \"#ed7953\"], [0.7777777777777778, \"#fb9f3a\"], [0.8888888888888888, \"#fdca26\"], [1.0, \"#f0f921\"]], \"type\": \"histogram2dcontour\"}], \"mesh3d\": [{\"colorbar\": {\"outlinewidth\": 0, \"ticks\": \"\"}, \"type\": \"mesh3d\"}], \"parcoords\": [{\"line\": {\"colorbar\": {\"outlinewidth\": 0, \"ticks\": \"\"}}, \"type\": \"parcoords\"}], \"pie\": [{\"automargin\": true, \"type\": \"pie\"}], \"scatter\": [{\"marker\": {\"line\": {\"color\": \"#283442\"}}, \"type\": \"scatter\"}], \"scatter3d\": [{\"line\": {\"colorbar\": {\"outlinewidth\": 0, \"ticks\": \"\"}}, \"marker\": {\"colorbar\": {\"outlinewidth\": 0, \"ticks\": \"\"}}, \"type\": \"scatter3d\"}], \"scattercarpet\": [{\"marker\": {\"colorbar\": {\"outlinewidth\": 0, \"ticks\": \"\"}}, \"type\": \"scattercarpet\"}], \"scattergeo\": [{\"marker\": {\"colorbar\": {\"outlinewidth\": 0, \"ticks\": \"\"}}, \"type\": \"scattergeo\"}], \"scattergl\": [{\"marker\": {\"line\": {\"color\": \"#283442\"}}, \"type\": \"scattergl\"}], \"scattermapbox\": [{\"marker\": {\"colorbar\": {\"outlinewidth\": 0, \"ticks\": \"\"}}, \"type\": \"scattermapbox\"}], \"scatterpolar\": [{\"marker\": {\"colorbar\": {\"outlinewidth\": 0, \"ticks\": \"\"}}, \"type\": \"scatterpolar\"}], \"scatterpolargl\": [{\"marker\": {\"colorbar\": {\"outlinewidth\": 0, \"ticks\": \"\"}}, \"type\": \"scatterpolargl\"}], \"scatterternary\": [{\"marker\": {\"colorbar\": {\"outlinewidth\": 0, \"ticks\": \"\"}}, \"type\": \"scatterternary\"}], \"surface\": [{\"colorbar\": {\"outlinewidth\": 0, \"ticks\": \"\"}, \"colorscale\": [[0.0, \"#0d0887\"], [0.1111111111111111, \"#46039f\"], [0.2222222222222222, \"#7201a8\"], [0.3333333333333333, \"#9c179e\"], [0.4444444444444444, \"#bd3786\"], [0.5555555555555556, \"#d8576b\"], [0.6666666666666666, \"#ed7953\"], [0.7777777777777778, \"#fb9f3a\"], [0.8888888888888888, \"#fdca26\"], [1.0, \"#f0f921\"]], \"type\": \"surface\"}], \"table\": [{\"cells\": {\"fill\": {\"color\": \"#506784\"}, \"line\": {\"color\": \"rgb(17,17,17)\"}}, \"header\": {\"fill\": {\"color\": \"#2a3f5f\"}, \"line\": {\"color\": \"rgb(17,17,17)\"}}, \"type\": \"table\"}]}, \"layout\": {\"annotationdefaults\": {\"arrowcolor\": \"#f2f5fa\", \"arrowhead\": 0, \"arrowwidth\": 1}, \"coloraxis\": {\"colorbar\": {\"outlinewidth\": 0, \"ticks\": \"\"}}, \"colorscale\": {\"diverging\": [[0, \"#8e0152\"], [0.1, \"#c51b7d\"], [0.2, \"#de77ae\"], [0.3, \"#f1b6da\"], [0.4, \"#fde0ef\"], [0.5, \"#f7f7f7\"], [0.6, \"#e6f5d0\"], [0.7, \"#b8e186\"], [0.8, \"#7fbc41\"], [0.9, \"#4d9221\"], [1, \"#276419\"]], \"sequential\": [[0.0, \"#0d0887\"], [0.1111111111111111, \"#46039f\"], [0.2222222222222222, \"#7201a8\"], [0.3333333333333333, \"#9c179e\"], [0.4444444444444444, \"#bd3786\"], [0.5555555555555556, \"#d8576b\"], [0.6666666666666666, \"#ed7953\"], [0.7777777777777778, \"#fb9f3a\"], [0.8888888888888888, \"#fdca26\"], [1.0, \"#f0f921\"]], \"sequentialminus\": [[0.0, \"#0d0887\"], [0.1111111111111111, \"#46039f\"], [0.2222222222222222, \"#7201a8\"], [0.3333333333333333, \"#9c179e\"], [0.4444444444444444, \"#bd3786\"], [0.5555555555555556, \"#d8576b\"], [0.6666666666666666, \"#ed7953\"], [0.7777777777777778, \"#fb9f3a\"], [0.8888888888888888, \"#fdca26\"], [1.0, \"#f0f921\"]]}, \"colorway\": [\"#636efa\", \"#EF553B\", \"#00cc96\", \"#ab63fa\", \"#FFA15A\", \"#19d3f3\", \"#FF6692\", \"#B6E880\", \"#FF97FF\", \"#FECB52\"], \"font\": {\"color\": \"#f2f5fa\"}, \"geo\": {\"bgcolor\": \"rgb(17,17,17)\", \"lakecolor\": \"rgb(17,17,17)\", \"landcolor\": \"rgb(17,17,17)\", \"showlakes\": true, \"showland\": true, \"subunitcolor\": \"#506784\"}, \"hoverlabel\": {\"align\": \"left\"}, \"hovermode\": \"closest\", \"mapbox\": {\"style\": \"dark\"}, \"paper_bgcolor\": \"rgb(17,17,17)\", \"plot_bgcolor\": \"rgb(17,17,17)\", \"polar\": {\"angularaxis\": {\"gridcolor\": \"#506784\", \"linecolor\": \"#506784\", \"ticks\": \"\"}, \"bgcolor\": \"rgb(17,17,17)\", \"radialaxis\": {\"gridcolor\": \"#506784\", \"linecolor\": \"#506784\", \"ticks\": \"\"}}, \"scene\": {\"xaxis\": {\"backgroundcolor\": \"rgb(17,17,17)\", \"gridcolor\": \"#506784\", \"gridwidth\": 2, \"linecolor\": \"#506784\", \"showbackground\": true, \"ticks\": \"\", \"zerolinecolor\": \"#C8D4E3\"}, \"yaxis\": {\"backgroundcolor\": \"rgb(17,17,17)\", \"gridcolor\": \"#506784\", \"gridwidth\": 2, \"linecolor\": \"#506784\", \"showbackground\": true, \"ticks\": \"\", \"zerolinecolor\": \"#C8D4E3\"}, \"zaxis\": {\"backgroundcolor\": \"rgb(17,17,17)\", \"gridcolor\": \"#506784\", \"gridwidth\": 2, \"linecolor\": \"#506784\", \"showbackground\": true, \"ticks\": \"\", \"zerolinecolor\": \"#C8D4E3\"}}, \"shapedefaults\": {\"line\": {\"color\": \"#f2f5fa\"}}, \"sliderdefaults\": {\"bgcolor\": \"#C8D4E3\", \"bordercolor\": \"rgb(17,17,17)\", \"borderwidth\": 1, \"tickwidth\": 0}, \"ternary\": {\"aaxis\": {\"gridcolor\": \"#506784\", \"linecolor\": \"#506784\", \"ticks\": \"\"}, \"baxis\": {\"gridcolor\": \"#506784\", \"linecolor\": \"#506784\", \"ticks\": \"\"}, \"bgcolor\": \"rgb(17,17,17)\", \"caxis\": {\"gridcolor\": \"#506784\", \"linecolor\": \"#506784\", \"ticks\": \"\"}}, \"title\": {\"x\": 0.05}, \"updatemenudefaults\": {\"bgcolor\": \"#506784\", \"borderwidth\": 0}, \"xaxis\": {\"automargin\": true, \"gridcolor\": \"#283442\", \"linecolor\": \"#506784\", \"ticks\": \"\", \"title\": {\"standoff\": 15}, \"zerolinecolor\": \"#283442\", \"zerolinewidth\": 2}, \"yaxis\": {\"automargin\": true, \"gridcolor\": \"#283442\", \"linecolor\": \"#506784\", \"ticks\": \"\", \"title\": {\"standoff\": 15}, \"zerolinecolor\": \"#283442\", \"zerolinewidth\": 2}}}, \"title\": {\"text\": \"Gust strength impact on objects detected\"}, \"xaxis\": {\"anchor\": \"y\", \"domain\": [0.0, 1.0], \"title\": {\"text\": \"obs_count\"}}, \"yaxis\": {\"anchor\": \"x\", \"domain\": [0.0, 1.0], \"title\": {\"text\": \"count\"}}},\n",
       "                        {\"responsive\": true}\n",
       "                    ).then(function(){\n",
       "                            \n",
       "var gd = document.getElementById('2a3925a6-74b6-4434-8722-af083cfb80fe');\n",
       "var x = new MutationObserver(function (mutations, observer) {{\n",
       "        var display = window.getComputedStyle(gd).display;\n",
       "        if (!display || display === 'none') {{\n",
       "            console.log([gd, 'removed!']);\n",
       "            Plotly.purge(gd);\n",
       "            observer.disconnect();\n",
       "        }}\n",
       "}});\n",
       "\n",
       "// Listen for the removal of the full notebook cells\n",
       "var notebookContainer = gd.closest('#notebook-container');\n",
       "if (notebookContainer) {{\n",
       "    x.observe(notebookContainer, {childList: true});\n",
       "}}\n",
       "\n",
       "// Listen for the clearing of the current output cell\n",
       "var outputEl = gd.closest('.output');\n",
       "if (outputEl) {{\n",
       "    x.observe(outputEl, {childList: true});\n",
       "}}\n",
       "\n",
       "                        })\n",
       "                };\n",
       "                });\n",
       "            </script>\n",
       "        </div>"
      ]
     },
     "metadata": {},
     "output_type": "display_data"
    }
   ],
   "source": [
    "px.histogram(hr_range(7,19), x=\"obs_count\", color=\"gust_strength\",\n",
    "             opacity=0.7, barmode='group', height=300,\n",
    "             title='Gust strength impact on objects detected')"
   ]
  },
  {
   "cell_type": "code",
   "execution_count": 140,
   "metadata": {},
   "outputs": [
    {
     "data": {
      "text/html": [
       "<div>\n",
       "<style scoped>\n",
       "    .dataframe tbody tr th:only-of-type {\n",
       "        vertical-align: middle;\n",
       "    }\n",
       "\n",
       "    .dataframe tbody tr th {\n",
       "        vertical-align: top;\n",
       "    }\n",
       "\n",
       "    .dataframe thead th {\n",
       "        text-align: right;\n",
       "    }\n",
       "</style>\n",
       "<table border=\"1\" class=\"dataframe\">\n",
       "  <thead>\n",
       "    <tr style=\"text-align: right;\">\n",
       "      <th></th>\n",
       "      <th>date</th>\n",
       "      <th>hour</th>\n",
       "      <th>obs_count</th>\n",
       "      <th>n_month</th>\n",
       "      <th>n_week_in_month</th>\n",
       "      <th>day_of_week</th>\n",
       "      <th>day_of_week_name</th>\n",
       "      <th>is_weekend_day</th>\n",
       "      <th>ts</th>\n",
       "      <th>dt</th>\n",
       "      <th>cur__summary</th>\n",
       "      <th>cur__precipIntensity</th>\n",
       "      <th>cur__precipProbability</th>\n",
       "      <th>cur__precipType</th>\n",
       "      <th>cur__temperature</th>\n",
       "      <th>cur__apparentTemperature</th>\n",
       "      <th>cur__humidity</th>\n",
       "      <th>cur__windSpeed</th>\n",
       "      <th>cur__windGust</th>\n",
       "      <th>cur__windBearing</th>\n",
       "      <th>cur__cloudCover</th>\n",
       "      <th>cur__uvIndex</th>\n",
       "      <th>cur__visibility</th>\n",
       "      <th>daily__summary</th>\n",
       "      <th>daily__sunriseTime</th>\n",
       "      <th>daily__sunsetTime</th>\n",
       "      <th>daily__temperatureHigh</th>\n",
       "      <th>daily__temperatureLow</th>\n",
       "      <th>cur_weather_type</th>\n",
       "      <th>gust_strength</th>\n",
       "    </tr>\n",
       "  </thead>\n",
       "  <tbody>\n",
       "    <tr>\n",
       "      <th>0</th>\n",
       "      <td>2019-09-09</td>\n",
       "      <td>0</td>\n",
       "      <td>0</td>\n",
       "      <td>9</td>\n",
       "      <td>2</td>\n",
       "      <td>0</td>\n",
       "      <td>Monday</td>\n",
       "      <td>0</td>\n",
       "      <td>1567985400</td>\n",
       "      <td>2019-09-09 00:30:00</td>\n",
       "      <td>Possible Light Rain</td>\n",
       "      <td>0.7929</td>\n",
       "      <td>0.47</td>\n",
       "      <td>rain</td>\n",
       "      <td>14.06</td>\n",
       "      <td>14.08</td>\n",
       "      <td>0.96</td>\n",
       "      <td>21.30</td>\n",
       "      <td>35.13</td>\n",
       "      <td>241</td>\n",
       "      <td>0.99</td>\n",
       "      <td>0</td>\n",
       "      <td>10.796</td>\n",
       "      <td>Possible drizzle in the morning.</td>\n",
       "      <td>1568008740</td>\n",
       "      <td>1568055900</td>\n",
       "      <td>16.6</td>\n",
       "      <td>7.01</td>\n",
       "      <td>Bad</td>\n",
       "      <td>Low</td>\n",
       "    </tr>\n",
       "    <tr>\n",
       "      <th>1</th>\n",
       "      <td>2019-09-09</td>\n",
       "      <td>1</td>\n",
       "      <td>0</td>\n",
       "      <td>9</td>\n",
       "      <td>2</td>\n",
       "      <td>0</td>\n",
       "      <td>Monday</td>\n",
       "      <td>0</td>\n",
       "      <td>1567989000</td>\n",
       "      <td>2019-09-09 01:30:00</td>\n",
       "      <td>Possible Light Rain</td>\n",
       "      <td>0.8310</td>\n",
       "      <td>0.45</td>\n",
       "      <td>rain</td>\n",
       "      <td>13.99</td>\n",
       "      <td>13.99</td>\n",
       "      <td>0.93</td>\n",
       "      <td>22.49</td>\n",
       "      <td>35.87</td>\n",
       "      <td>215</td>\n",
       "      <td>0.96</td>\n",
       "      <td>0</td>\n",
       "      <td>10.945</td>\n",
       "      <td>Possible drizzle in the morning.</td>\n",
       "      <td>1568008740</td>\n",
       "      <td>1568055900</td>\n",
       "      <td>16.6</td>\n",
       "      <td>7.01</td>\n",
       "      <td>Bad</td>\n",
       "      <td>Low</td>\n",
       "    </tr>\n",
       "  </tbody>\n",
       "</table>\n",
       "</div>"
      ],
      "text/plain": [
       "        date  hour  obs_count  n_month  n_week_in_month  day_of_week day_of_week_name  is_weekend_day          ts                  dt         cur__summary  cur__precipIntensity  cur__precipProbability cur__precipType  cur__temperature  cur__apparentTemperature  cur__humidity  cur__windSpeed  cur__windGust  cur__windBearing  cur__cloudCover  cur__uvIndex  cur__visibility                    daily__summary  daily__sunriseTime  daily__sunsetTime  daily__temperatureHigh  daily__temperatureLow cur_weather_type gust_strength\n",
       "0 2019-09-09     0          0        9                2            0           Monday               0  1567985400 2019-09-09 00:30:00  Possible Light Rain                0.7929                    0.47            rain             14.06                     14.08           0.96           21.30          35.13               241             0.99             0           10.796  Possible drizzle in the morning.          1568008740         1568055900                    16.6                   7.01              Bad           Low\n",
       "1 2019-09-09     1          0        9                2            0           Monday               0  1567989000 2019-09-09 01:30:00  Possible Light Rain                0.8310                    0.45            rain             13.99                     13.99           0.93           22.49          35.87               215             0.96             0           10.945  Possible drizzle in the morning.          1568008740         1568055900                    16.6                   7.01              Bad           Low"
      ]
     },
     "execution_count": 140,
     "metadata": {},
     "output_type": "execute_result"
    }
   ],
   "source": [
    "merged.head(2)"
   ]
  },
  {
   "cell_type": "code",
   "execution_count": 141,
   "metadata": {},
   "outputs": [],
   "source": [
    "# select most promising features and save as csv\n",
    "keep_cols = ['date', 'hour', 'obs_count', 'n_month', 'n_week_in_month', \n",
    "             'is_weekend_day', 'cur__precipIntensity', 'cur_weather_type',\n",
    "             'cur__windSpeed', 'cur__windGust', 'gust_strength',\n",
    "             'daily__sunriseTime', 'daily__sunsetTime']\n",
    "filename = 'Person_no_outliers_feature_eng__2019-09-09_2020-03-02.csv'\n",
    "merged[keep_cols].to_csv(f'../Datasets/{filename}', index=False)"
   ]
  },
  {
   "cell_type": "code",
   "execution_count": null,
   "metadata": {},
   "outputs": [],
   "source": []
  }
 ],
 "metadata": {
  "kernelspec": {
   "display_name": "Python 3",
   "language": "python",
   "name": "python3"
  },
  "language_info": {
   "codemirror_mode": {
    "name": "ipython",
    "version": 3
   },
   "file_extension": ".py",
   "mimetype": "text/x-python",
   "name": "python",
   "nbconvert_exporter": "python",
   "pygments_lexer": "ipython3",
   "version": "3.7.0"
  }
 },
 "nbformat": 4,
 "nbformat_minor": 4
}
