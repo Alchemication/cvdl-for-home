{
 "cells": [
  {
   "cell_type": "markdown",
   "metadata": {},
   "source": [
    "# Extra Notebook 2. Count objects\n",
    "\n",
    "This Notebook is responsible for:\n",
    "- reading in a whole dataset with object detections from a parquet file\n",
    "- splitting the dataset by object (person, cat, dog, car etc.)\n",
    "- compressing multiple observations of the same object into a single image\n",
    "- saving an output for Person and Vehicle classes as individual parquet datasets\n",
    "\n",
    "Counting events using data can get very complicated, as it is determined by humans and what do they thing a single count should be.\n",
    "\n",
    "This is a serious challenge in the analytics space. As an example lets take counting calls in the Call Center.\n",
    "\n",
    "What contributes to a single call? Is it a unique person calling with a unique issue? What if the same person calls twice within  minutes? Or what if the call gets disconnected and the same person reaches another agent? Or what if there is a glitch in the system and calls are merged?\n",
    "\n",
    "It is very easy to get bogged down with many questions and details, however very often the most simple solution is the best solution.\n",
    "\n",
    "With this in mind, we can proceed to counting objects in the dataset imported below."
   ]
  },
  {
   "cell_type": "code",
   "execution_count": 2,
   "metadata": {},
   "outputs": [
    {
     "name": "stdout",
     "output_type": "stream",
     "text": [
      "TF -> Using GPU ->  PhysicalDevice(name='/physical_device:GPU:0', device_type='GPU')\n"
     ]
    }
   ],
   "source": [
    "# import ConfigImports Notebook to import and configure libs\n",
    "%run ../Config/ConfigImports.ipynb"
   ]
  },
  {
   "cell_type": "markdown",
   "metadata": {},
   "source": [
    "## Load dataset\n",
    "\n",
    "Raw images with the detections were preprocessed in the [ExtractRawImageData Notebook](./ExtractRawImageData.ipynb).\n",
    "\n",
    "Each detection was saved as individual record and then all this data was saves in a compressed .parquet file (very efficient and modern way of data storage for large datasets).\n",
    "\n",
    "It contains over 600K+ records:"
   ]
  },
  {
   "cell_type": "code",
   "execution_count": 3,
   "metadata": {},
   "outputs": [
    {
     "data": {
      "text/html": [
       "<div>\n",
       "<style scoped>\n",
       "    .dataframe tbody tr th:only-of-type {\n",
       "        vertical-align: middle;\n",
       "    }\n",
       "\n",
       "    .dataframe tbody tr th {\n",
       "        vertical-align: top;\n",
       "    }\n",
       "\n",
       "    .dataframe thead th {\n",
       "        text-align: right;\n",
       "    }\n",
       "</style>\n",
       "<table border=\"1\" class=\"dataframe\">\n",
       "  <thead>\n",
       "    <tr style=\"text-align: right;\">\n",
       "      <th></th>\n",
       "      <th>img_idx</th>\n",
       "      <th>label</th>\n",
       "      <th>confidence</th>\n",
       "      <th>x1</th>\n",
       "      <th>y1</th>\n",
       "      <th>x2</th>\n",
       "      <th>y2</th>\n",
       "      <th>date</th>\n",
       "      <th>time</th>\n",
       "      <th>filename</th>\n",
       "      <th>img_n_boxes</th>\n",
       "      <th>time_ms</th>\n",
       "      <th>date_time</th>\n",
       "      <th>week_day</th>\n",
       "      <th>is_weekend</th>\n",
       "      <th>month</th>\n",
       "      <th>hour</th>\n",
       "      <th>min</th>\n",
       "    </tr>\n",
       "  </thead>\n",
       "  <tbody>\n",
       "    <tr>\n",
       "      <th>0</th>\n",
       "      <td>72846</td>\n",
       "      <td>car</td>\n",
       "      <td>0.523175</td>\n",
       "      <td>298</td>\n",
       "      <td>7</td>\n",
       "      <td>426</td>\n",
       "      <td>71</td>\n",
       "      <td>2019-09-09</td>\n",
       "      <td>07.02.40</td>\n",
       "      <td>07.02.40.270_34c99836_car-car-car.jpg</td>\n",
       "      <td>1</td>\n",
       "      <td>270</td>\n",
       "      <td>2019-09-09 07:02:40.270</td>\n",
       "      <td>Monday</td>\n",
       "      <td>False</td>\n",
       "      <td>9</td>\n",
       "      <td>7</td>\n",
       "      <td>2</td>\n",
       "    </tr>\n",
       "    <tr>\n",
       "      <th>1</th>\n",
       "      <td>72847</td>\n",
       "      <td>person</td>\n",
       "      <td>0.759682</td>\n",
       "      <td>489</td>\n",
       "      <td>31</td>\n",
       "      <td>518</td>\n",
       "      <td>106</td>\n",
       "      <td>2019-09-09</td>\n",
       "      <td>12.02.42</td>\n",
       "      <td>12.02.42.921_ea6c9143_person-bicycle.jpg</td>\n",
       "      <td>2</td>\n",
       "      <td>921</td>\n",
       "      <td>2019-09-09 12:02:42.921</td>\n",
       "      <td>Monday</td>\n",
       "      <td>False</td>\n",
       "      <td>9</td>\n",
       "      <td>12</td>\n",
       "      <td>2</td>\n",
       "    </tr>\n",
       "  </tbody>\n",
       "</table>\n",
       "</div>"
      ],
      "text/plain": [
       "   img_idx   label  confidence   x1  y1   x2   y2        date      time                                  filename  img_n_boxes time_ms               date_time week_day  is_weekend  month  hour  min\n",
       "0    72846     car    0.523175  298   7  426   71  2019-09-09  07.02.40     07.02.40.270_34c99836_car-car-car.jpg            1     270 2019-09-09 07:02:40.270   Monday       False      9     7    2\n",
       "1    72847  person    0.759682  489  31  518  106  2019-09-09  12.02.42  12.02.42.921_ea6c9143_person-bicycle.jpg            2     921 2019-09-09 12:02:42.921   Monday       False      9    12    2"
      ]
     },
     "execution_count": 3,
     "metadata": {},
     "output_type": "execute_result"
    }
   ],
   "source": [
    "df = pd.read_parquet('../Datasets/AllObjectDetections_2019-09-09_2020-03-02.parquet.gzip')\n",
    "df = df.drop(labels=['index'], axis=1)\n",
    "df.head(2)"
   ]
  },
  {
   "cell_type": "markdown",
   "metadata": {},
   "source": [
    "**Data definition:**\n",
    "- img_idx - index of image\n",
    "- label - detected object type\n",
    "- confidence - metric returned by the object detector, the lower it is, the more probability the detection is incorrect\n",
    "- x1,y1,x2,y2 - x,y coordinates of object detected in the image\n",
    "- date, time - date and time of the detection\n",
    "- filename - original image filename\n",
    "- img_n_boxes - how many objects were detected in this particular image\n",
    "- date_time - more precise date time (with mili seconds)\n",
    "- week_day ... min - calendar information related to date_time column"
   ]
  },
  {
   "cell_type": "markdown",
   "metadata": {},
   "source": [
    "## Remove erroneous data\n",
    "\n",
    "During the data collection, a three days of data were lost due to loss of power:\n",
    "\n",
    "Power outages:\n",
    "- 2020-01-13\n",
    "- 2020-01-14\n",
    "\n",
    "Contractors onsite:\n",
    "- 2020-02-28\n",
    "\n",
    "There might have been some random images captured during that time, so this data is considered bad and it should be removed from the dataset."
   ]
  },
  {
   "cell_type": "code",
   "execution_count": 4,
   "metadata": {},
   "outputs": [],
   "source": [
    "idx = df['date'].isin(CONFIG['DOWNTIME_DATES'])\n",
    "df = df.loc[~idx]"
   ]
  },
  {
   "cell_type": "markdown",
   "metadata": {},
   "source": [
    "## Verify class distribution\n",
    "\n",
    "The dataset represents the environment, so it must be skewed towards certain classes."
   ]
  },
  {
   "cell_type": "code",
   "execution_count": 5,
   "metadata": {},
   "outputs": [
    {
     "data": {
      "application/vnd.plotly.v1+json": {
       "config": {
        "plotlyServerURL": "https://plot.ly"
       },
       "data": [
        {
         "alignmentgroup": "True",
         "hovertemplate": "index=%{x}<br>label=%{y}<extra></extra>",
         "legendgroup": "",
         "marker": {
          "color": "#636efa"
         },
         "name": "",
         "offsetgroup": "",
         "orientation": "v",
         "showlegend": false,
         "textposition": "auto",
         "type": "bar",
         "x": [
          "person",
          "car",
          "truck",
          "dog",
          "bicycle",
          "cat",
          "bird",
          "motorbike"
         ],
         "xaxis": "x",
         "y": [
          325498,
          237322,
          49430,
          14659,
          7234,
          5021,
          2345,
          1962
         ],
         "yaxis": "y"
        }
       ],
       "layout": {
        "barmode": "relative",
        "height": 300,
        "legend": {
         "tracegroupgap": 0
        },
        "margin": {
         "t": 60
        },
        "template": {
         "data": {
          "bar": [
           {
            "error_x": {
             "color": "#2a3f5f"
            },
            "error_y": {
             "color": "#2a3f5f"
            },
            "marker": {
             "line": {
              "color": "white",
              "width": 0.5
             }
            },
            "type": "bar"
           }
          ],
          "barpolar": [
           {
            "marker": {
             "line": {
              "color": "white",
              "width": 0.5
             }
            },
            "type": "barpolar"
           }
          ],
          "carpet": [
           {
            "aaxis": {
             "endlinecolor": "#2a3f5f",
             "gridcolor": "#C8D4E3",
             "linecolor": "#C8D4E3",
             "minorgridcolor": "#C8D4E3",
             "startlinecolor": "#2a3f5f"
            },
            "baxis": {
             "endlinecolor": "#2a3f5f",
             "gridcolor": "#C8D4E3",
             "linecolor": "#C8D4E3",
             "minorgridcolor": "#C8D4E3",
             "startlinecolor": "#2a3f5f"
            },
            "type": "carpet"
           }
          ],
          "choropleth": [
           {
            "colorbar": {
             "outlinewidth": 0,
             "ticks": ""
            },
            "type": "choropleth"
           }
          ],
          "contour": [
           {
            "colorbar": {
             "outlinewidth": 0,
             "ticks": ""
            },
            "colorscale": [
             [
              0,
              "#0d0887"
             ],
             [
              0.1111111111111111,
              "#46039f"
             ],
             [
              0.2222222222222222,
              "#7201a8"
             ],
             [
              0.3333333333333333,
              "#9c179e"
             ],
             [
              0.4444444444444444,
              "#bd3786"
             ],
             [
              0.5555555555555556,
              "#d8576b"
             ],
             [
              0.6666666666666666,
              "#ed7953"
             ],
             [
              0.7777777777777778,
              "#fb9f3a"
             ],
             [
              0.8888888888888888,
              "#fdca26"
             ],
             [
              1,
              "#f0f921"
             ]
            ],
            "type": "contour"
           }
          ],
          "contourcarpet": [
           {
            "colorbar": {
             "outlinewidth": 0,
             "ticks": ""
            },
            "type": "contourcarpet"
           }
          ],
          "heatmap": [
           {
            "colorbar": {
             "outlinewidth": 0,
             "ticks": ""
            },
            "colorscale": [
             [
              0,
              "#0d0887"
             ],
             [
              0.1111111111111111,
              "#46039f"
             ],
             [
              0.2222222222222222,
              "#7201a8"
             ],
             [
              0.3333333333333333,
              "#9c179e"
             ],
             [
              0.4444444444444444,
              "#bd3786"
             ],
             [
              0.5555555555555556,
              "#d8576b"
             ],
             [
              0.6666666666666666,
              "#ed7953"
             ],
             [
              0.7777777777777778,
              "#fb9f3a"
             ],
             [
              0.8888888888888888,
              "#fdca26"
             ],
             [
              1,
              "#f0f921"
             ]
            ],
            "type": "heatmap"
           }
          ],
          "heatmapgl": [
           {
            "colorbar": {
             "outlinewidth": 0,
             "ticks": ""
            },
            "colorscale": [
             [
              0,
              "#0d0887"
             ],
             [
              0.1111111111111111,
              "#46039f"
             ],
             [
              0.2222222222222222,
              "#7201a8"
             ],
             [
              0.3333333333333333,
              "#9c179e"
             ],
             [
              0.4444444444444444,
              "#bd3786"
             ],
             [
              0.5555555555555556,
              "#d8576b"
             ],
             [
              0.6666666666666666,
              "#ed7953"
             ],
             [
              0.7777777777777778,
              "#fb9f3a"
             ],
             [
              0.8888888888888888,
              "#fdca26"
             ],
             [
              1,
              "#f0f921"
             ]
            ],
            "type": "heatmapgl"
           }
          ],
          "histogram": [
           {
            "marker": {
             "colorbar": {
              "outlinewidth": 0,
              "ticks": ""
             }
            },
            "type": "histogram"
           }
          ],
          "histogram2d": [
           {
            "colorbar": {
             "outlinewidth": 0,
             "ticks": ""
            },
            "colorscale": [
             [
              0,
              "#0d0887"
             ],
             [
              0.1111111111111111,
              "#46039f"
             ],
             [
              0.2222222222222222,
              "#7201a8"
             ],
             [
              0.3333333333333333,
              "#9c179e"
             ],
             [
              0.4444444444444444,
              "#bd3786"
             ],
             [
              0.5555555555555556,
              "#d8576b"
             ],
             [
              0.6666666666666666,
              "#ed7953"
             ],
             [
              0.7777777777777778,
              "#fb9f3a"
             ],
             [
              0.8888888888888888,
              "#fdca26"
             ],
             [
              1,
              "#f0f921"
             ]
            ],
            "type": "histogram2d"
           }
          ],
          "histogram2dcontour": [
           {
            "colorbar": {
             "outlinewidth": 0,
             "ticks": ""
            },
            "colorscale": [
             [
              0,
              "#0d0887"
             ],
             [
              0.1111111111111111,
              "#46039f"
             ],
             [
              0.2222222222222222,
              "#7201a8"
             ],
             [
              0.3333333333333333,
              "#9c179e"
             ],
             [
              0.4444444444444444,
              "#bd3786"
             ],
             [
              0.5555555555555556,
              "#d8576b"
             ],
             [
              0.6666666666666666,
              "#ed7953"
             ],
             [
              0.7777777777777778,
              "#fb9f3a"
             ],
             [
              0.8888888888888888,
              "#fdca26"
             ],
             [
              1,
              "#f0f921"
             ]
            ],
            "type": "histogram2dcontour"
           }
          ],
          "mesh3d": [
           {
            "colorbar": {
             "outlinewidth": 0,
             "ticks": ""
            },
            "type": "mesh3d"
           }
          ],
          "parcoords": [
           {
            "line": {
             "colorbar": {
              "outlinewidth": 0,
              "ticks": ""
             }
            },
            "type": "parcoords"
           }
          ],
          "pie": [
           {
            "automargin": true,
            "type": "pie"
           }
          ],
          "scatter": [
           {
            "marker": {
             "colorbar": {
              "outlinewidth": 0,
              "ticks": ""
             }
            },
            "type": "scatter"
           }
          ],
          "scatter3d": [
           {
            "line": {
             "colorbar": {
              "outlinewidth": 0,
              "ticks": ""
             }
            },
            "marker": {
             "colorbar": {
              "outlinewidth": 0,
              "ticks": ""
             }
            },
            "type": "scatter3d"
           }
          ],
          "scattercarpet": [
           {
            "marker": {
             "colorbar": {
              "outlinewidth": 0,
              "ticks": ""
             }
            },
            "type": "scattercarpet"
           }
          ],
          "scattergeo": [
           {
            "marker": {
             "colorbar": {
              "outlinewidth": 0,
              "ticks": ""
             }
            },
            "type": "scattergeo"
           }
          ],
          "scattergl": [
           {
            "marker": {
             "colorbar": {
              "outlinewidth": 0,
              "ticks": ""
             }
            },
            "type": "scattergl"
           }
          ],
          "scattermapbox": [
           {
            "marker": {
             "colorbar": {
              "outlinewidth": 0,
              "ticks": ""
             }
            },
            "type": "scattermapbox"
           }
          ],
          "scatterpolar": [
           {
            "marker": {
             "colorbar": {
              "outlinewidth": 0,
              "ticks": ""
             }
            },
            "type": "scatterpolar"
           }
          ],
          "scatterpolargl": [
           {
            "marker": {
             "colorbar": {
              "outlinewidth": 0,
              "ticks": ""
             }
            },
            "type": "scatterpolargl"
           }
          ],
          "scatterternary": [
           {
            "marker": {
             "colorbar": {
              "outlinewidth": 0,
              "ticks": ""
             }
            },
            "type": "scatterternary"
           }
          ],
          "surface": [
           {
            "colorbar": {
             "outlinewidth": 0,
             "ticks": ""
            },
            "colorscale": [
             [
              0,
              "#0d0887"
             ],
             [
              0.1111111111111111,
              "#46039f"
             ],
             [
              0.2222222222222222,
              "#7201a8"
             ],
             [
              0.3333333333333333,
              "#9c179e"
             ],
             [
              0.4444444444444444,
              "#bd3786"
             ],
             [
              0.5555555555555556,
              "#d8576b"
             ],
             [
              0.6666666666666666,
              "#ed7953"
             ],
             [
              0.7777777777777778,
              "#fb9f3a"
             ],
             [
              0.8888888888888888,
              "#fdca26"
             ],
             [
              1,
              "#f0f921"
             ]
            ],
            "type": "surface"
           }
          ],
          "table": [
           {
            "cells": {
             "fill": {
              "color": "#EBF0F8"
             },
             "line": {
              "color": "white"
             }
            },
            "header": {
             "fill": {
              "color": "#C8D4E3"
             },
             "line": {
              "color": "white"
             }
            },
            "type": "table"
           }
          ]
         },
         "layout": {
          "annotationdefaults": {
           "arrowcolor": "#2a3f5f",
           "arrowhead": 0,
           "arrowwidth": 1
          },
          "coloraxis": {
           "colorbar": {
            "outlinewidth": 0,
            "ticks": ""
           }
          },
          "colorscale": {
           "diverging": [
            [
             0,
             "#8e0152"
            ],
            [
             0.1,
             "#c51b7d"
            ],
            [
             0.2,
             "#de77ae"
            ],
            [
             0.3,
             "#f1b6da"
            ],
            [
             0.4,
             "#fde0ef"
            ],
            [
             0.5,
             "#f7f7f7"
            ],
            [
             0.6,
             "#e6f5d0"
            ],
            [
             0.7,
             "#b8e186"
            ],
            [
             0.8,
             "#7fbc41"
            ],
            [
             0.9,
             "#4d9221"
            ],
            [
             1,
             "#276419"
            ]
           ],
           "sequential": [
            [
             0,
             "#0d0887"
            ],
            [
             0.1111111111111111,
             "#46039f"
            ],
            [
             0.2222222222222222,
             "#7201a8"
            ],
            [
             0.3333333333333333,
             "#9c179e"
            ],
            [
             0.4444444444444444,
             "#bd3786"
            ],
            [
             0.5555555555555556,
             "#d8576b"
            ],
            [
             0.6666666666666666,
             "#ed7953"
            ],
            [
             0.7777777777777778,
             "#fb9f3a"
            ],
            [
             0.8888888888888888,
             "#fdca26"
            ],
            [
             1,
             "#f0f921"
            ]
           ],
           "sequentialminus": [
            [
             0,
             "#0d0887"
            ],
            [
             0.1111111111111111,
             "#46039f"
            ],
            [
             0.2222222222222222,
             "#7201a8"
            ],
            [
             0.3333333333333333,
             "#9c179e"
            ],
            [
             0.4444444444444444,
             "#bd3786"
            ],
            [
             0.5555555555555556,
             "#d8576b"
            ],
            [
             0.6666666666666666,
             "#ed7953"
            ],
            [
             0.7777777777777778,
             "#fb9f3a"
            ],
            [
             0.8888888888888888,
             "#fdca26"
            ],
            [
             1,
             "#f0f921"
            ]
           ]
          },
          "colorway": [
           "#636efa",
           "#EF553B",
           "#00cc96",
           "#ab63fa",
           "#FFA15A",
           "#19d3f3",
           "#FF6692",
           "#B6E880",
           "#FF97FF",
           "#FECB52"
          ],
          "font": {
           "color": "#2a3f5f"
          },
          "geo": {
           "bgcolor": "white",
           "lakecolor": "white",
           "landcolor": "white",
           "showlakes": true,
           "showland": true,
           "subunitcolor": "#C8D4E3"
          },
          "hoverlabel": {
           "align": "left"
          },
          "hovermode": "closest",
          "mapbox": {
           "style": "light"
          },
          "paper_bgcolor": "white",
          "plot_bgcolor": "white",
          "polar": {
           "angularaxis": {
            "gridcolor": "#EBF0F8",
            "linecolor": "#EBF0F8",
            "ticks": ""
           },
           "bgcolor": "white",
           "radialaxis": {
            "gridcolor": "#EBF0F8",
            "linecolor": "#EBF0F8",
            "ticks": ""
           }
          },
          "scene": {
           "xaxis": {
            "backgroundcolor": "white",
            "gridcolor": "#DFE8F3",
            "gridwidth": 2,
            "linecolor": "#EBF0F8",
            "showbackground": true,
            "ticks": "",
            "zerolinecolor": "#EBF0F8"
           },
           "yaxis": {
            "backgroundcolor": "white",
            "gridcolor": "#DFE8F3",
            "gridwidth": 2,
            "linecolor": "#EBF0F8",
            "showbackground": true,
            "ticks": "",
            "zerolinecolor": "#EBF0F8"
           },
           "zaxis": {
            "backgroundcolor": "white",
            "gridcolor": "#DFE8F3",
            "gridwidth": 2,
            "linecolor": "#EBF0F8",
            "showbackground": true,
            "ticks": "",
            "zerolinecolor": "#EBF0F8"
           }
          },
          "shapedefaults": {
           "line": {
            "color": "#2a3f5f"
           }
          },
          "ternary": {
           "aaxis": {
            "gridcolor": "#DFE8F3",
            "linecolor": "#A2B1C6",
            "ticks": ""
           },
           "baxis": {
            "gridcolor": "#DFE8F3",
            "linecolor": "#A2B1C6",
            "ticks": ""
           },
           "bgcolor": "white",
           "caxis": {
            "gridcolor": "#DFE8F3",
            "linecolor": "#A2B1C6",
            "ticks": ""
           }
          },
          "title": {
           "x": 0.05
          },
          "xaxis": {
           "automargin": true,
           "gridcolor": "#EBF0F8",
           "linecolor": "#EBF0F8",
           "ticks": "",
           "title": {
            "standoff": 15
           },
           "zerolinecolor": "#EBF0F8",
           "zerolinewidth": 2
          },
          "yaxis": {
           "automargin": true,
           "gridcolor": "#EBF0F8",
           "linecolor": "#EBF0F8",
           "ticks": "",
           "title": {
            "standoff": 15
           },
           "zerolinecolor": "#EBF0F8",
           "zerolinewidth": 2
          }
         }
        },
        "width": 500,
        "xaxis": {
         "anchor": "y",
         "autorange": true,
         "domain": [
          0,
          1
         ],
         "range": [
          -0.5,
          7.5
         ],
         "title": {
          "text": "index"
         },
         "type": "category"
        },
        "yaxis": {
         "anchor": "x",
         "autorange": true,
         "domain": [
          0,
          1
         ],
         "range": [
          0,
          342629.4736842105
         ],
         "title": {
          "text": "label"
         },
         "type": "linear"
        }
       }
      },
      "image/png": "[encoded data removed]"
     },
     "metadata": {},
     "output_type": "display_data"
    }
   ],
   "source": [
    "v_counts = df['label'].value_counts().reset_index()\n",
    "px.bar(v_counts, y='label', x='index', height=300, width=500)"
   ]
  },
  {
   "cell_type": "markdown",
   "metadata": {},
   "source": [
    "People and vehicles represent the vast majority of the dataset and they will be the focus of this research. The other classes are very sporadic and too random to predict with any certainty.\n",
    "\n",
    "Instead of treating cars and trucks as two separate classes, they can be joined into a single class: *vehicle*:"
   ]
  },
  {
   "cell_type": "code",
   "execution_count": 6,
   "metadata": {},
   "outputs": [],
   "source": [
    "idx = df['label'].isin(['car', 'truck'])\n",
    "df.loc[idx, 'label'] = 'vehicle'"
   ]
  },
  {
   "cell_type": "markdown",
   "metadata": {},
   "source": [
    "Now the vehicle class contains both object types: car and truck."
   ]
  },
  {
   "cell_type": "markdown",
   "metadata": {},
   "source": [
    "## Object counting\n",
    "\n",
    "The main objective of this Notebook is to search for sequences of frames representing single events and pick only a single frame from each sequence:\n",
    "<p style=\"text-align: center; margin-bottom: 0;\">Fig. Ext. 2.1 Sequence of frames</p>\n",
    "<img src=\"../Resources/img/moving-object.png\" style=\"width: 90%;\"/>\n",
    "\n",
    "<p style=\"text-align: center; margin-bottom: 0;\">Fig. Ext. 2.2 Single frame</p>\n",
    "<img src=\"../Resources/img/single-frame-from-seq.png\" style=\"width: 60%;\"/>\n",
    "\n",
    "The approach taken below is simple and works well for a dataset with a low number of objects:\n",
    "- sort data by time\n",
    "- divide dataset by object type (label) and perform following tasks:\n",
    "    - iterate through all frames containing one class (like Person or Car)\n",
    "    - calculate difference in time between consecutive object observations\n",
    "    - use $x,y$ coordinates to calculate **euclidean distance** between object centroids in consecutive frames, if it's the same observation in a sequence, then the center will be close to the previous center\n",
    "    - keep only objects where the difference in time and distance are greater than the predefined thresholds (these have been set using heuristics and might change depending on the camera and its location)\n",
    "    \n",
    "Eucledian distance is a good distance metric as it is the most common and simple measure of measuring the distance between $N$ points in $N$-dimensional space.\n",
    "\n",
    "As defined in [iq.opengenus.org](https://iq.opengenus.org/euclidean-distance/):\n",
    "Euclidean distance is the shortest distance between two points in an $N$ dimensional space also known as Euclidean space. It is used as a common metric to measure the similarity between two data points and used in various fields such as geometry, data mining, deep learning and others.\n",
    "\n",
    "It is also, known as Euclidean norm, Euclidean metric, L2 norm, L2 metric and Pythagorean metric.\n",
    "\n",
    "$$\n",
    "d= \\sqrt{(x1-x2)^2+(y1-y2)^2}\n",
    "$$\n",
    "\n",
    "The algorithm above works well with the following threshold parameters:\n",
    "- `THRESH_NEW_EVENT_SECS=10` - time after which we treat another observation as unique count\n",
    "- `THRESH_NEW_EVENT_MIN_DISTANCE=30` - distance in pixels between centroids"
   ]
  },
  {
   "cell_type": "code",
   "execution_count": 11,
   "metadata": {},
   "outputs": [],
   "source": [
    "# dictionary to hold a dataframe per detected object class\n",
    "dfs = {}"
   ]
  },
  {
   "cell_type": "code",
   "execution_count": 12,
   "metadata": {},
   "outputs": [],
   "source": [
    "# these values seem to reject duplicates the best\n",
    "THRESH_NEW_EVENT_SECS = 10  # how many seconds needs to elapse until we treat detection as a new observation\n",
    "THRESH_NEW_EVENT_MIN_DISTANCE = 30  # min distance between 2 detections until we treat it as a new observation"
   ]
  },
  {
   "cell_type": "code",
   "execution_count": 13,
   "metadata": {},
   "outputs": [],
   "source": [
    "# use this function to calculate euclidean distance between coordinates\n",
    "def calc_distance(x):\n",
    "    x_cur, y_cur, x_prev, y_prev = x\n",
    "    return dist.cdist([[x_cur, y_cur]], [[x_prev, y_prev]], metric='euclidean')[0][0]"
   ]
  },
  {
   "cell_type": "code",
   "execution_count": 14,
   "metadata": {},
   "outputs": [
    {
     "name": "stdout",
     "output_type": "stream",
     "text": [
      "Processing label: vehicle\n",
      "Processing label: person\n"
     ]
    }
   ],
   "source": [
    "# sort observations chronologically\n",
    "df = df.sort_values('date_time', ascending=True)\n",
    "\n",
    "# create a separate DataFrame for each label of interest and save as a csv file\n",
    "for l in ['vehicle', 'person']:\n",
    "    \n",
    "    print('Processing label: {}'.format(l))\n",
    "    \n",
    "    # filter out other objects from the data frame\n",
    "    analysed_label_df = df.loc[df['label'].isin([l])].reset_index(drop=True).copy()\n",
    "    \n",
    "    # add a dummy variable, which we can use to count objects, there are most likely\n",
    "    # better ways of doing this, but this one is simple and it works\n",
    "    analysed_label_df['dummy_var'] = 1\n",
    "    \n",
    "    # calculate time difference between consecutive rows\n",
    "    analysed_label_df['time_diff'] = analysed_label_df['date_time'].diff().fillna(pd.Timedelta(seconds=0))\n",
    "    analysed_label_df['sec_diff'] = analysed_label_df['time_diff'].dt.total_seconds().fillna(0)\n",
    "    analysed_label_df['x_center'] = analysed_label_df[['x1', 'x2']].mean(axis=1)\n",
    "    analysed_label_df['y_center'] = analysed_label_df[['y1', 'y2']].mean(axis=1)\n",
    "\n",
    "    # calculate euclidian distance between consecutive centroids (using x,y coordinates centroids)\n",
    "    analysed_label_df['prev_x_center'] = analysed_label_df['x_center'].shift(1).fillna(0)\n",
    "    analysed_label_df['prev_y_center'] = analysed_label_df['y_center'].shift(1).fillna(0)\n",
    "    analysed_label_df['euc_distance'] = analysed_label_df[['x_center', 'y_center', \n",
    "        'prev_x_center', 'prev_y_center']].apply(calc_distance, axis=1)\n",
    "\n",
    "    # keep only records within the rejection threshold\n",
    "    idx = ((analysed_label_df['sec_diff'] > THRESH_NEW_EVENT_SECS) & \n",
    "           (analysed_label_df['euc_distance'] > THRESH_NEW_EVENT_MIN_DISTANCE))\n",
    "    dfs[l] = analysed_label_df.loc[idx].reset_index(drop=True).copy()\n",
    "    dfs[l].to_csv(f'../Datasets/UniqueObjectDetections__{l}__2019-09-09_2020-03-02.csv', index=False)"
   ]
  }
 ],
 "metadata": {
  "kernelspec": {
   "display_name": "Python 3",
   "language": "python",
   "name": "python3"
  },
  "language_info": {
   "codemirror_mode": {
    "name": "ipython",
    "version": 3
   },
   "file_extension": ".py",
   "mimetype": "text/x-python",
   "name": "python",
   "nbconvert_exporter": "python",
   "pygments_lexer": "ipython3",
   "version": "3.7.0"
  }
 },
 "nbformat": 4,
 "nbformat_minor": 4
}
