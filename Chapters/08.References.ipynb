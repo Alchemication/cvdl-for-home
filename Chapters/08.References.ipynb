{
 "cells": [
  {
   "cell_type": "markdown",
   "metadata": {},
   "source": [
    "# 8. References\n",
    "\n",
    "[index](../Index.ipynb) | [prev](./07.Conclusions.ipynb) | [next](./09.Acknowledgements.ipynb)"
   ]
  },
  {
   "cell_type": "markdown",
   "metadata": {},
   "source": [
    "<a id=\"roberts-1963\"></a>\n",
    "Roberts 1963\n",
    "\n",
    "https://dspace.mit.edu/bitstream/handle/1721.1/11589/33959125-MIT.pdf?sequence=2&isAllowed=y"
   ]
  },
  {
   "cell_type": "markdown",
   "metadata": {},
   "source": [
    "<a id=\"alexnet-2012\"></a>\n",
    "Alexnet 2012\n",
    "\n",
    "https://papers.nips.cc/paper/4824-imagenet-classification-with-deep-convolutional-neural-networks.pdf"
   ]
  },
  {
   "cell_type": "markdown",
   "metadata": {},
   "source": [
    "<a id=\"burglary-2020\"></a>\n",
    "Burglary reports\n",
    "\n",
    "- 28 May 2020\n",
    "- 12 Telltale Signs Burglars are Casing Your Home\n",
    "- https://www.alarmnewengland.com/blog/how-to-tell-if-burglars-are-casing-your-home"
   ]
  },
  {
   "cell_type": "markdown",
   "metadata": {},
   "source": [
    "Zivkivoc 2004\n",
    "\n",
    "Improved Adaptive Gaussian Mixture Model for Background Subtraction"
   ]
  },
  {
   "cell_type": "markdown",
   "metadata": {},
   "source": [
    "Yolo v1 (Redmon et.al. 2015)\n",
    "\n",
    "https://arxiv.org/pdf/1506.02640.pdf"
   ]
  },
  {
   "cell_type": "markdown",
   "metadata": {},
   "source": [
    "Yolo v2 (Redmon et.al. 2016)\n",
    "\n",
    "https://arxiv.org/abs/1612.08242"
   ]
  },
  {
   "cell_type": "markdown",
   "metadata": {},
   "source": [
    "R-CNN (Girshick et al. 2013)\n",
    "\n",
    "https://arxiv.org/abs/1311.2524"
   ]
  },
  {
   "cell_type": "markdown",
   "metadata": {},
   "source": [
    "Fast R-CNN (Girshick 2015)\n",
    "\n",
    "https://arxiv.org/abs/1504.08083"
   ]
  },
  {
   "cell_type": "markdown",
   "metadata": {},
   "source": [
    "Faster R-CNN (Ren et al., 2015)\n",
    "\n",
    "https://arxiv.org/pdf/1506.01497.pdf"
   ]
  },
  {
   "cell_type": "markdown",
   "metadata": {},
   "source": [
    "VGG-16 (Simonyan et al. 2014)\n",
    "\n",
    "https://arxiv.org/abs/1409.1556"
   ]
  },
  {
   "cell_type": "markdown",
   "metadata": {},
   "source": [
    "Googlenet (Shegedy et al. 2014)\n",
    "\n",
    "https://arxiv.org/abs/1409.4842"
   ]
  },
  {
   "cell_type": "markdown",
   "metadata": {},
   "source": [
    "Yolo V3 (Redmon et al. 2018)\n",
    "\n",
    "https://pjreddie.com/media/files/papers/YOLOv3.pdf"
   ]
  },
  {
   "cell_type": "markdown",
   "metadata": {},
   "source": [
    "Yolo V4 (Bochkovskiy et al. 2020)\n",
    "\n",
    "https://arxiv.org/abs/2004.10934"
   ]
  },
  {
   "cell_type": "markdown",
   "metadata": {},
   "source": [
    "Regression Trees (Morgan et al., 1963, p. 430)\n",
    "\n",
    "http://cda.psych.uiuc.edu/statistical_learning_course/morgan_sonquist.pdf"
   ]
  },
  {
   "cell_type": "markdown",
   "metadata": {},
   "source": [
    "Modern Bias-Variance Tradeoff (Neal et al., 2018)\n",
    "\n",
    "https://arxiv.org/abs/1810.08591"
   ]
  },
  {
   "cell_type": "markdown",
   "metadata": {},
   "source": [
    "LightGBM (Ke et al., 2017)\n",
    "\n",
    "https://papers.nips.cc/paper/6907-lightgbm-a-highly-efficient-gradient-boosting-decision-tree"
   ]
  },
  {
   "cell_type": "markdown",
   "metadata": {},
   "source": [
    "Greedy Function Approximation: A Gradient Boosting Machine (Friedman 1999)\n",
    "\n",
    "https://statweb.stanford.edu/~jhf/ftp/trebst.pdf"
   ]
  },
  {
   "cell_type": "markdown",
   "metadata": {},
   "source": [
    "Stat-Quest Gradient Boosting Tree tutorial (Starmen 2019)\n",
    "\n",
    "https://statquest.org/video-index/"
   ]
  },
  {
   "cell_type": "markdown",
   "metadata": {},
   "source": [
    "Central Limit Theorem (Laplace 1810, Fischer 2011)\n",
    "\n",
    "http://www.medicine.mcgill.ca/epidemiology/hanley/bios601/GaussianModel/HistoryCentralLimitTheorem.pdf"
   ]
  },
  {
   "cell_type": "markdown",
   "metadata": {},
   "source": [
    "On the numerical resolution of systems of linear equations - Cholesky decomposition (Cholesky 1910)\n",
    "\n",
    "http://bibnum.education.fr/mathematiques/algebre/sur-la-resolution-numerique-des-systemes-d-equations-lineaires"
   ]
  },
  {
   "cell_type": "markdown",
   "metadata": {},
   "source": [
    "Gaussian Distributions (peterroelants.github.io Blog)\n",
    "\n",
    "https://peterroelants.github.io/posts/multivariate-normal-primer/"
   ]
  },
  {
   "cell_type": "markdown",
   "metadata": {},
   "source": [
    "Gaussian Process (Wikipedia, 2020)\n",
    "\n",
    "https://en.wikipedia.org/wiki/Gaussian_process"
   ]
  },
  {
   "cell_type": "code",
   "execution_count": null,
   "metadata": {},
   "outputs": [],
   "source": []
  }
 ],
 "metadata": {
  "kernelspec": {
   "display_name": "Python 3",
   "language": "python",
   "name": "python3"
  },
  "language_info": {
   "codemirror_mode": {
    "name": "ipython",
    "version": 3
   },
   "file_extension": ".py",
   "mimetype": "text/x-python",
   "name": "python",
   "nbconvert_exporter": "python",
   "pygments_lexer": "ipython3",
   "version": "3.7.0"
  }
 },
 "nbformat": 4,
 "nbformat_minor": 4
}
