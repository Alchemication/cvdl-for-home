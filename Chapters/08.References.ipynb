{
 "cells": [
  {
   "cell_type": "markdown",
   "metadata": {},
   "source": [
    "# 8. References\n",
    "\n",
    "[index](../Index.ipynb) | [prev](./07.Conclusions.ipynb) | [next](./09.Acknowledgements.ipynb)"
   ]
  },
  {
   "cell_type": "markdown",
   "metadata": {},
   "source": [
    "<a id=\"roberts-1963\"></a>\n",
    "Machine Perception (Roberts 1963)\n",
    "\n",
    "https://dspace.mit.edu/bitstream/handle/1721.1/11589/33959125-MIT.pdf?sequence=2&isAllowed=y"
   ]
  },
  {
   "cell_type": "markdown",
   "metadata": {},
   "source": [
    "<a id=\"alexnet-2012\"></a>\n",
    "Alexnet 2012 (Krizhevsky 2012)\n",
    "\n",
    "https://papers.nips.cc/paper/4824-imagenet-classification-with-deep-convolutional-neural-networks.pdf"
   ]
  },
  {
   "cell_type": "markdown",
   "metadata": {},
   "source": [
    "Distinctive Image Features from Scale-Invariant Keypoints (Lowe 2004)\n",
    "\n",
    "https://www.cs.ubc.ca/~lowe/papers/ijcv04.pdf"
   ]
  },
  {
   "cell_type": "markdown",
   "metadata": {},
   "source": [
    "Support Vector Machines (Vapnik et al., 1995)\n",
    "\n",
    "http://image.diku.dk/imagecanon/material/cortes_vapnik95.pdf"
   ]
  },
  {
   "cell_type": "markdown",
   "metadata": {},
   "source": [
    "<a id=\"burglary-2020\"></a>\n",
    "Burglary report (alarmnewengland 2020)\n",
    "\n",
    "https://www.alarmnewengland.com/blog/how-to-tell-if-burglars-are-casing-your-home"
   ]
  },
  {
   "cell_type": "markdown",
   "metadata": {},
   "source": [
    "Improved Adaptive Gaussian Mixture Model for Background Subtraction (Zivkivoc 2004)\n",
    "\n",
    "https://ieeexplore.ieee.org/document/1333992"
   ]
  },
  {
   "cell_type": "markdown",
   "metadata": {},
   "source": [
    "Yolo v1 (Redmon et.al. 2015)\n",
    "\n",
    "https://arxiv.org/pdf/1506.02640.pdf"
   ]
  },
  {
   "cell_type": "markdown",
   "metadata": {},
   "source": [
    "Yolo v2 (Redmon et.al. 2016)\n",
    "\n",
    "https://arxiv.org/abs/1612.08242"
   ]
  },
  {
   "cell_type": "markdown",
   "metadata": {},
   "source": [
    "R-CNN (Girshick et al. 2013)\n",
    "\n",
    "https://arxiv.org/abs/1311.2524"
   ]
  },
  {
   "cell_type": "markdown",
   "metadata": {},
   "source": [
    "Fast R-CNN (Girshick 2015)\n",
    "\n",
    "https://arxiv.org/abs/1504.08083"
   ]
  },
  {
   "cell_type": "markdown",
   "metadata": {},
   "source": [
    "Faster R-CNN (Ren et al., 2015)\n",
    "\n",
    "https://arxiv.org/pdf/1506.01497.pdf"
   ]
  },
  {
   "cell_type": "markdown",
   "metadata": {},
   "source": [
    "VGG-16 (Simonyan et al. 2014)\n",
    "\n",
    "https://arxiv.org/abs/1409.1556"
   ]
  },
  {
   "cell_type": "markdown",
   "metadata": {},
   "source": [
    "Learning non-maximum suppression (Hosang et al., 2017)\n",
    "\n",
    "https://arxiv.org/abs/1705.02950"
   ]
  },
  {
   "cell_type": "markdown",
   "metadata": {},
   "source": [
    "Googlenet (Shegedy et al. 2014)\n",
    "\n",
    "https://arxiv.org/abs/1409.4842"
   ]
  },
  {
   "cell_type": "markdown",
   "metadata": {},
   "source": [
    "Yolo V3 (Redmon et al. 2018)\n",
    "\n",
    "https://pjreddie.com/media/files/papers/YOLOv3.pdf"
   ]
  },
  {
   "cell_type": "markdown",
   "metadata": {},
   "source": [
    "Yolo V4 (Bochkovskiy et al. 2020)\n",
    "\n",
    "https://arxiv.org/abs/2004.10934"
   ]
  },
  {
   "cell_type": "markdown",
   "metadata": {},
   "source": [
    "Regression Trees (Morgan et al., 1963, p. 430)\n",
    "\n",
    "http://cda.psych.uiuc.edu/statistical_learning_course/morgan_sonquist.pdf"
   ]
  },
  {
   "cell_type": "markdown",
   "metadata": {},
   "source": [
    "Modern Bias-Variance Tradeoff (Neal et al., 2018)\n",
    "\n",
    "https://arxiv.org/abs/1810.08591"
   ]
  },
  {
   "cell_type": "markdown",
   "metadata": {},
   "source": [
    "LightGBM (Ke et al., 2017)\n",
    "\n",
    "https://papers.nips.cc/paper/6907-lightgbm-a-highly-efficient-gradient-boosting-decision-tree"
   ]
  },
  {
   "cell_type": "markdown",
   "metadata": {},
   "source": [
    "Greedy Function Approximation: A Gradient Boosting Machine (Friedman 1999)\n",
    "\n",
    "https://statweb.stanford.edu/~jhf/ftp/trebst.pdf"
   ]
  },
  {
   "cell_type": "markdown",
   "metadata": {},
   "source": [
    "Stat-Quest Gradient Boosting Tree tutorial (Starmen 2019)\n",
    "\n",
    "https://statquest.org/video-index/"
   ]
  },
  {
   "cell_type": "markdown",
   "metadata": {},
   "source": [
    "Central Limit Theorem (Laplace 1810, Fischer 2011)\n",
    "\n",
    "http://www.medicine.mcgill.ca/epidemiology/hanley/bios601/GaussianModel/HistoryCentralLimitTheorem.pdf"
   ]
  },
  {
   "cell_type": "markdown",
   "metadata": {},
   "source": [
    "On the numerical resolution of systems of linear equations - Cholesky decomposition (Cholesky 1910)\n",
    "\n",
    "http://bibnum.education.fr/mathematiques/algebre/sur-la-resolution-numerique-des-systemes-d-equations-lineaires"
   ]
  },
  {
   "cell_type": "markdown",
   "metadata": {},
   "source": [
    "Gaussian Distributions (peterroelants.github.io Blog)\n",
    "\n",
    "https://peterroelants.github.io/posts/multivariate-normal-primer/"
   ]
  },
  {
   "cell_type": "markdown",
   "metadata": {},
   "source": [
    "Gaussian Process (Wikipedia, 2020)\n",
    "\n",
    "https://en.wikipedia.org/wiki/Gaussian_process"
   ]
  },
  {
   "cell_type": "markdown",
   "metadata": {},
   "source": [
    "AutoEncoders (towardsdatascience 2017)\n",
    "\n",
    "https://towardsdatascience.com/applied-deep-learning-part-3-autoencoders-1c083af4d798"
   ]
  },
  {
   "cell_type": "markdown",
   "metadata": {},
   "source": [
    "Deep Learning Book, AutoEncoders (Goodfellow-et-al-2016)\n",
    "\n",
    "http://www.deeplearningbook.org/\n",
    "\n",
    "@book{Goodfellow-et-al-2016,\n",
    "    title={Deep Learning},\n",
    "    author={Ian Goodfellow and Yoshua Bengio and Aaron Courville},\n",
    "    publisher={MIT Press},\n",
    "    note={\\url{http://www.deeplearningbook.org}},\n",
    "    year={2016}\n",
    "}"
   ]
  },
  {
   "cell_type": "markdown",
   "metadata": {},
   "source": [
    "Mahalonobis Distance (machinelearningplus 2019)\n",
    "\n",
    "https://www.machinelearningplus.com/statistics/mahalanobis-distance/"
   ]
  },
  {
   "cell_type": "markdown",
   "metadata": {},
   "source": [
    "All models are wrong (Box 1976)\n",
    "\n",
    "https://en.wikipedia.org/wiki/Journal_of_the_American_Statistical_Association"
   ]
  },
  {
   "cell_type": "markdown",
   "metadata": {},
   "source": [
    "Adjusted boxplot (Hubert et al., 2008)\n",
    "\n",
    "https://wis.kuleuven.be/stat/robust/papers/2008/adjboxplot-revision.pdf"
   ]
  },
  {
   "cell_type": "markdown",
   "metadata": {},
   "source": [
    "Exploratory data analysis (Tukey 1977)\n",
    "\n",
    "https://archive.org/details/exploratorydataa00tuke_0"
   ]
  },
  {
   "cell_type": "markdown",
   "metadata": {},
   "source": [
    "BFGS (Fletcher, Roger, 1987)\n",
    "\n",
    "https://archive.org/details/practicalmethods0000flet"
   ]
  },
  {
   "cell_type": "markdown",
   "metadata": {},
   "source": [
    "Deep Learning for Anomaly Detection: A Survey (Chalapathy 2019)\n",
    "\n",
    "https://arxiv.org/abs/1901.03407"
   ]
  },
  {
   "cell_type": "markdown",
   "metadata": {},
   "source": [
    "PyImageSearch - OCR Blog-post (PyImageSearch 2017)\n",
    "\n",
    "https://www.pyimagesearch.com/2017/07/10/using-tesseract-ocr-python"
   ]
  },
  {
   "cell_type": "markdown",
   "metadata": {},
   "source": [
    "PyImageSearch - Anomaly detection (PyImageSearch 2020)\n",
    "\n",
    "https://www.pyimagesearch.com/2020/03/02/anomaly-detection-with-keras-tensorflow-and-deep-learning/"
   ]
  },
  {
   "cell_type": "markdown",
   "metadata": {},
   "source": [
    "Classification metrics (Stackabuse, 2020)\n",
    "\n",
    "https://stackabuse.com/understanding-roc-curves-with-python/"
   ]
  }
 ],
 "metadata": {
  "kernelspec": {
   "display_name": "Python 3",
   "language": "python",
   "name": "python3"
  },
  "language_info": {
   "codemirror_mode": {
    "name": "ipython",
    "version": 3
   },
   "file_extension": ".py",
   "mimetype": "text/x-python",
   "name": "python",
   "nbconvert_exporter": "python",
   "pygments_lexer": "ipython3",
   "version": "3.7.0"
  }
 },
 "nbformat": 4,
 "nbformat_minor": 4
}
