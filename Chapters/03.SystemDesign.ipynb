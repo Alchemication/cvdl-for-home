{
 "cells": [
  {
   "cell_type": "markdown",
   "metadata": {},
   "source": [
    "# 3. High Level System Design\n",
    "\n",
    "[index](../Index.ipynb) | [prev](./02.LiteratureReview.ipynb) | [next](./04.DataCollection.ipynb)"
   ]
  },
  {
   "cell_type": "markdown",
   "metadata": {},
   "source": [
    "The overall system can be described as a two high level components:\n",
    "- Real time frames processing used for object detection and anomaly detection\n",
    "- Batch processing used for forecasting and anomaly detection"
   ]
  },
  {
   "cell_type": "markdown",
   "metadata": {},
   "source": [
    "## 3.1. Real time frames processing\n",
    "\n",
    "<a id=\"fig3.1\"></a>\n",
    "<p style=\"text-align: center; margin-bottom: 0;\">Fig. 3.1. System Design - Real Time Processing</p>\n",
    "<img src=\"../Resources/img/system-diagram-1.png\" style=\"width: 70%;\"/>\n",
    "\n",
    "**Diagram description:**\n",
    "\n",
    "- First step is to generating frames from the Raspberry Pi camera (box 1)\n",
    "- Then frames (as numpy arrays) are collected on a Desktop PC using a high performance message queue - ZMQ (box 2), this machine then:\n",
    "    - detects motion\n",
    "    - detects objects and their locations in an image\n",
    "    - sends every frame to a Web Server running NodeJS (box 3)\n",
    "        - web server forwards frames to all connected clients through their browsers (box 5)\n",
    "    - saves images on an SSD Drive (box 4) for further analysis and batch processing\n",
    "\n",
    "The data flow and the steps in data processing will be described in more detail in the [next chapter - DataCollection](./DataCollection.ipyng)."
   ]
  },
  {
   "cell_type": "markdown",
   "metadata": {},
   "source": [
    "## 3.2 Batch processing\n",
    "\n",
    "<p style=\"text-align: center; margin-bottom: 0;\">Fig. 3.2. System Design - Batch Processing</p>\n",
    "<img src=\"../Resources/img/system-diagram-2.png\" style=\"width: 80%;\"/>\n",
    "\n",
    "**Diagram description:**\n",
    "\n",
    "The aim of batch processes is to periodically use the image data for several purposes:\n",
    "- The starting point is the raw images collected on the hard drive (box 1)\n",
    "- Every might a scheduled task is executed, where images from the whole day are converted into a tabular dataset (box 2)\n",
    "- Next step is in the box 3, where another scheduled task runs once every week and counts unique observations into the hourly buckets\n",
    "- The dataset from previous script is used by additional two processes: \n",
    "    - Weekly forecast training (box 4) of a probabilistic model capable of predicting the count of objects to show in a given hour, predictions are updated every hour (box 4.1)\n",
    "    - Weekly anomaly detection training script (box 6) which uses a probabilitic approach to set up hourly thresholds, above which objects are treated as outliers (this runs in real time, box 5.1)\n",
    "- Tabular dataset with images is used in box 6 to train an autoencoder model capable of classifying frames as annomalous vs non-annomalous (the classification happens in real time, box 6.1)\n",
    "\n",
    "Details for each process will be covered in chapters [5 - Forecasting](05.Forecasting.ipynb) and [6 - Anomaly Detection](./06.AnomalyDetection.ipynb)."
   ]
  },
  {
   "cell_type": "markdown",
   "metadata": {},
   "source": [
    "## 3.3. Conclusion\n",
    "\n",
    "This chapter is only a high level picture of the system's capabilities. The next Chapter - [Data Collection](04.DataCollection.ipynb) - dives into much more detail detail of the Fig. 3.1 seen above."
   ]
  },
  {
   "cell_type": "markdown",
   "metadata": {},
   "source": [
    "[index](../Index.ipynb) | [prev](./02.LiteratureReview.ipynb) | [next](./04.DataCollection.ipynb)"
   ]
  }
 ],
 "metadata": {
  "kernelspec": {
   "display_name": "Python 3",
   "language": "python",
   "name": "python3"
  },
  "language_info": {
   "codemirror_mode": {
    "name": "ipython",
    "version": 3
   },
   "file_extension": ".py",
   "mimetype": "text/x-python",
   "name": "python",
   "nbconvert_exporter": "python",
   "pygments_lexer": "ipython3",
   "version": "3.7.0"
  }
 },
 "nbformat": 4,
 "nbformat_minor": 4
}
