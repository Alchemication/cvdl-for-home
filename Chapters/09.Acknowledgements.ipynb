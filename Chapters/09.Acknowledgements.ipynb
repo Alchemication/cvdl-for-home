{
 "cells": [
  {
   "cell_type": "markdown",
   "metadata": {},
   "source": [
    "# Acknowledgements\n",
    "\n",
    "[index](../Index.ipynb) | [prev](./LiteratureReview.ipynb) | [next](./LiteratureReview.ipynb)\n",
    "\n",
    "- Acknowledges all help received in writing the dissertation\n",
    "- Gives an assurance that the dissertation is your own work\n",
    "- A declaration that the work is your own and complies with University regulations on plagiarism"
   ]
  },
  {
   "cell_type": "code",
   "execution_count": null,
   "metadata": {},
   "outputs": [],
   "source": []
  }
 ],
 "metadata": {
  "kernelspec": {
   "display_name": "Python 3",
   "language": "python",
   "name": "python3"
  },
  "language_info": {
   "codemirror_mode": {
    "name": "ipython",
    "version": 3
   },
   "file_extension": ".py",
   "mimetype": "text/x-python",
   "name": "python",
   "nbconvert_exporter": "python",
   "pygments_lexer": "ipython3",
   "version": "3.7.0"
  }
 },
 "nbformat": 4,
 "nbformat_minor": 4
}
