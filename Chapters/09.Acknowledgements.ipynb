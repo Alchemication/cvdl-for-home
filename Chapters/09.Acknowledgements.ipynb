{
 "cells": [
  {
   "cell_type": "markdown",
   "metadata": {},
   "source": [
    "# 9. Acknowledgements\n",
    "\n",
    "[index](../Index.ipynb) | [prev](./08.References.ipynb) | [next](./10.Appendices.ipynb)\n",
    "\n",
    "I would like to thank all the people involved in this work. This research is a compilation of my own work and experiments, indispensable feedback from my university supervisor and my peers. It stands on the shoulders of Machine Learning and Computer Vision giants, which made it all possible.\n",
    "\n",
    "I would like to thank Alessio Benavoli for all his guidance, my friends from work (especially Phil O'Mahony) for priceless tips in Data Analysis, Forecasting and Anomaly Detection, and my closest family for understanding when I was locked in the study room for weeks."
   ]
  }
 ],
 "metadata": {
  "kernelspec": {
   "display_name": "Python 3",
   "language": "python",
   "name": "python3"
  },
  "language_info": {
   "codemirror_mode": {
    "name": "ipython",
    "version": 3
   },
   "file_extension": ".py",
   "mimetype": "text/x-python",
   "name": "python",
   "nbconvert_exporter": "python",
   "pygments_lexer": "ipython3",
   "version": "3.7.0"
  }
 },
 "nbformat": 4,
 "nbformat_minor": 4
}
