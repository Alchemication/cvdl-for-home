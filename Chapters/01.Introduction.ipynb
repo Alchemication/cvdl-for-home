{
 "cells": [
  {
   "cell_type": "markdown",
   "metadata": {},
   "source": [
    "# 1. Introduction\n",
    "\n",
    "[index](../Index.ipynb) | [next](./02.LiteratureReview.ipynb)"
   ]
  },
  {
   "cell_type": "markdown",
   "metadata": {},
   "source": [
    "- Introduction\n",
    "- Background of the Problem\n",
    "- Statement of the Problem\n",
    "- Purpose of the Study\n",
    "- Research Questions\n",
    "- Significance of the Study\n",
    "- Definition of Terms\n",
    "- Assumptions, Limitations, and Delimitations\n",
    "- Conclusion"
   ]
  },
  {
   "cell_type": "code",
   "execution_count": null,
   "metadata": {},
   "outputs": [],
   "source": []
  },
  {
   "cell_type": "code",
   "execution_count": null,
   "metadata": {},
   "outputs": [],
   "source": []
  },
  {
   "cell_type": "code",
   "execution_count": null,
   "metadata": {},
   "outputs": [],
   "source": []
  },
  {
   "cell_type": "code",
   "execution_count": null,
   "metadata": {},
   "outputs": [],
   "source": []
  },
  {
   "cell_type": "code",
   "execution_count": null,
   "metadata": {},
   "outputs": [],
   "source": []
  },
  {
   "cell_type": "code",
   "execution_count": null,
   "metadata": {},
   "outputs": [],
   "source": []
  },
  {
   "cell_type": "code",
   "execution_count": null,
   "metadata": {},
   "outputs": [],
   "source": []
  },
  {
   "cell_type": "code",
   "execution_count": null,
   "metadata": {},
   "outputs": [],
   "source": []
  },
  {
   "cell_type": "code",
   "execution_count": null,
   "metadata": {},
   "outputs": [],
   "source": []
  },
  {
   "cell_type": "code",
   "execution_count": null,
   "metadata": {},
   "outputs": [],
   "source": []
  },
  {
   "cell_type": "code",
   "execution_count": null,
   "metadata": {},
   "outputs": [],
   "source": []
  },
  {
   "cell_type": "code",
   "execution_count": null,
   "metadata": {},
   "outputs": [],
   "source": []
  },
  {
   "cell_type": "code",
   "execution_count": null,
   "metadata": {},
   "outputs": [],
   "source": []
  },
  {
   "cell_type": "code",
   "execution_count": null,
   "metadata": {},
   "outputs": [],
   "source": []
  },
  {
   "cell_type": "code",
   "execution_count": null,
   "metadata": {},
   "outputs": [],
   "source": []
  },
  {
   "cell_type": "code",
   "execution_count": null,
   "metadata": {},
   "outputs": [],
   "source": []
  },
  {
   "cell_type": "code",
   "execution_count": null,
   "metadata": {},
   "outputs": [],
   "source": []
  },
  {
   "cell_type": "code",
   "execution_count": null,
   "metadata": {},
   "outputs": [],
   "source": []
  },
  {
   "cell_type": "code",
   "execution_count": null,
   "metadata": {},
   "outputs": [],
   "source": []
  },
  {
   "cell_type": "code",
   "execution_count": null,
   "metadata": {},
   "outputs": [],
   "source": []
  },
  {
   "cell_type": "code",
   "execution_count": null,
   "metadata": {},
   "outputs": [],
   "source": []
  },
  {
   "cell_type": "code",
   "execution_count": null,
   "metadata": {},
   "outputs": [],
   "source": []
  },
  {
   "cell_type": "code",
   "execution_count": null,
   "metadata": {},
   "outputs": [],
   "source": []
  },
  {
   "cell_type": "code",
   "execution_count": null,
   "metadata": {},
   "outputs": [],
   "source": []
  },
  {
   "cell_type": "code",
   "execution_count": null,
   "metadata": {},
   "outputs": [],
   "source": []
  },
  {
   "cell_type": "markdown",
   "metadata": {},
   "source": [
    "- Introduce the topic and context. Clearly state the objectives of the project.\n",
    "- Include an outline of the rest of report: e.g. a few lines describing each Chapter."
   ]
  },
  {
   "cell_type": "markdown",
   "metadata": {},
   "source": [
    "<a id=\"intro_1.A\"></a>\n",
    "## Motivation\n",
    "\n",
    "Home Monitoring systems are used to keep our households safe. Some so-called **\"Smart\"** solutions, provide modern features, like motion sensing, alerts, and even object detection and recognition.\n",
    "\n",
    "After several interviews with the owners of such systems, I have learned that they were dissatisfied with the amount of False Positive alerts when motion sensors are triggered for unexplainable reasons. They would also like their system to provide real time object detection and recognition while minimising the costs.\n",
    "\n",
    "My idea is to explore this area in a great detail and propose a new, Machine Learning driven system.\n",
    "\n",
    "It will collect and use object detections captured from camera, combined with additional data sources (like weather data), to generate a forecast of objects expected to see in a given time interval.\n",
    "\n",
    "The system will then use Machine Learning to exploit irregularites in the data and classify observations as anomalies if they don't follow the normal trend."
   ]
  },
  {
   "cell_type": "markdown",
   "metadata": {},
   "source": [
    "## Thesis overview\n",
    "\n",
    "This project required to engineer a 5 discrete components, which are briefly mentioned below, and will be fully explored in the next sections of this document:\n",
    "\n",
    "### Hardware:\n",
    "- Raspberry Pi 3 with PyCam camera module\n",
    "- PC1 and PC2 (with NVidia GTX 1080 Ti GPUs)\n",
    "- Router and switches\n",
    "- Real life challenges in setting up this kind of system\n",
    "- Not in scope, but mentioning as next step/potential improvements:\n",
    "    - Upgrade R-Pi 3 to R-Pi4 for improved performance\n",
    "    - Experiment with on-device Machine Learning to bring the cost down and eliminate a need for external PC\n",
    "\n",
    "\n",
    "### Application Back-end / Object Detection Pipeline:\n",
    "- **Framing the problem in ML context: How can we detect interesting objects in real time video stream?**\n",
    "- Input: frames coming from R-Pi\n",
    "- image preprocessing (resizing)\n",
    "- Computer Vision - motion detection (background subtraction and finding contours)\n",
    "- Yolo V2 object detection\n",
    "- Output: images stored on SSD and frames streamed through Socket server\n",
    "- Not in scope, but mention as a next step:\n",
    "    - Ethical approach would be to blur people in the images\n",
    "    - Bring Yolo to newest version (V3)\n",
    "    - Break script apart into separate modules for easier maintenance\n",
    "    \n",
    "\n",
    "### Forecasting:\n",
    "- **Framing the problem in ML context: How can we create a forecast for the count of objects to expect during the day? The role of forecast is to explain why an observation was called an anomaly / alert was triggerred?**\n",
    "- Input: images stored during Object Detection with outliers removed, Dark Sky weather data\n",
    "- Data preprocessing: how do we actually calculate object counts? What constitutes to a legit object count?\n",
    "- Models to be tested:\n",
    "    - Linear Regressor\n",
    "    - Random Forest Regressor\n",
    "    - Neural Networks with probabilistic loss functions:\n",
    "        - Poisson\n",
    "        - Negative Binomial\n",
    "        - Zero-inflated Negative Binomial\n",
    "- Best model selected and reasons\n",
    "- Output: daily forecast (separate forecast for each object, generated during the night)\n",
    "- Not in scope, but mentioning as next step/potential improvements:\n",
    "    - Scan local network for devices on wi-fi add owner-at-home binary feature to the dataset to potentially improve forecast accuracy (analysis required here)\n",
    "\n",
    "\n",
    "### Anomaly Detection:\n",
    "- **Framing the problem in ML context: How can we detect that the number of objects is outside of the reasonable norm?**\n",
    "- Input: images stored during Object Detection with outliers kept, Dark Sky weather data\n",
    "- Data preprocessing: how do we actually calculate object counts? What constitutes to a legit object count?\n",
    "- Models to be tested:\n",
    "    - Z-score\n",
    "    - IQR\n",
    "    - Auto-Encoder Neural Network\n",
    "    - Variational Auto-Encoder Neural Network\n",
    "- Best method selected and reason\n",
    "- Output: Anomaly detection model, capable of real time prediction if observation is an anomaly\n",
    "- Not in scope, but mentioning as next step/potential improvements:\n",
    "    - Scan local network for devices on wi-fi and add owner-at-home binary feature to the dataset to prevent alerts (unless instructed otherwise)\n",
    "\n",
    "### Application UI:\n",
    "- Inputs:\n",
    "    - Real time frames and detections\n",
    "    - Object count forecast for each object type\n",
    "- Outputs:\n",
    "    - Allow users to see the camera output with detected objects in bounding boxes\n",
    "    - Allow users to see the current forecast\n",
    "- Not in scope, but mentioning as next step/potential improvements:\n",
    "    - Allow user to adjust settings about alerts\n",
    "    \n",
    "Each of these components bursts with a potential for improvements as new research, technologies and capabilities become available in the open source Machine Learning, Big Data processing, and UX world."
   ]
  },
  {
   "cell_type": "markdown",
   "metadata": {},
   "source": [
    "<a id=\"test\"></a>"
   ]
  },
  {
   "cell_type": "markdown",
   "metadata": {},
   "source": [
    "## Note to the Dear Reader\n",
    "\n",
    "Before going any deeper, I would like to stress to the Reader, that this work has gone through a number of iterations:\n",
    "- At first it was just a toy project of using a camera with Raspberry Pi for real time object detection in video streams\n",
    "- Then, a break through idea emerged to collect and use these object detections to produce a forecast of objects expected to show up in a given time interval\n",
    "- And finally, to make the system really useful, a concept for alerts triggered by anomaly detection models completed the scope\n",
    "\n",
    "The learning here is that diving into one area often results in the brand new further ideas. I found it also priceless to discuss ideas with other people and take their feedback onboard with an open minded approach."
   ]
  },
  {
   "cell_type": "markdown",
   "metadata": {},
   "source": [
    "## TODO: State of the art"
   ]
  },
  {
   "cell_type": "markdown",
   "metadata": {},
   "source": [
    "## Literature Review\n",
    "- ...\n",
    "\n",
    "## Arguments\n",
    "- ...\n",
    "\n",
    "## Conclusion\n",
    "- ..."
   ]
  },
  {
   "cell_type": "markdown",
   "metadata": {},
   "source": [
    "## Useful links:\n",
    "\n",
    "### Forecasting Count Data:\n",
    "\n",
    "This is ideal for predicting count data using Neural Networks. This notebook has a few interesting links with theory as well. Great resource and potentially the best found so far:\n",
    "- https://github.com/gokceneraslan/neuralnet_countmodels/blob/master/Count%20models%20with%20neuralnets.ipynb. This is a NN with models:\n",
    "    - Poisson loss\n",
    "    - Negative binomial\n",
    "    - Zero-inflated Negative binomial models\n",
    "\n",
    "Another interesting post about Negative binomial function as a loss function in a NN\n",
    "- https://stackoverflow.com/questions/55782674/how-should-i-write-the-loss-function-with-keras-and-tensorflow-for-negative-bi\n",
    "\n",
    "### Anomaly detection:\n",
    "\n",
    "Z-score and IQR (tried and tested, works well):\n",
    "- https://towardsdatascience.com/ways-to-detect-and-remove-the-outliers-404d16608dba\n",
    "\n",
    "Autoencoders:\n",
    "- https://towardsdatascience.com/a-keras-based-autoencoder-for-anomaly-detection-in-sequences-75337eaed0e5\n",
    "\n",
    "## Books owned:\n",
    "- Bayes' Rule\n",
    "- The Signal and the Noise\n",
    "- A Student's guide to Bayesian Statistics\n",
    "- Learning From Data\n",
    "- Make Your Own Neural Network\n",
    "- Deep Learning for Computer Vision with Python (Vol 1,2,3)\n",
    "\n",
    "## Papers to cover:\n",
    "- Yolo v2\n",
    "- Background subtraction\n",
    "- Auto-Encoders\n",
    "- Find something for anomaly detection through Computer Vision"
   ]
  },
  {
   "cell_type": "code",
   "execution_count": null,
   "metadata": {},
   "outputs": [],
   "source": []
  }
 ],
 "metadata": {
  "kernelspec": {
   "display_name": "Python 3",
   "language": "python",
   "name": "python3"
  },
  "language_info": {
   "codemirror_mode": {
    "name": "ipython",
    "version": 3
   },
   "file_extension": ".py",
   "mimetype": "text/x-python",
   "name": "python",
   "nbconvert_exporter": "python",
   "pygments_lexer": "ipython3",
   "version": "3.7.0"
  },
  "toc-autonumbering": false,
  "toc-showmarkdowntxt": false,
  "toc-showtags": false
 },
 "nbformat": 4,
 "nbformat_minor": 4
}
