{
 "cells": [
  {
   "cell_type": "markdown",
   "metadata": {},
   "source": [
    "# 1. Introduction\n",
    "\n",
    "[index](../Index.ipynb) | [next](./02.LiteratureReview.ipynb)"
   ]
  },
  {
   "cell_type": "markdown",
   "metadata": {},
   "source": [
    "Write something as an introduction including a guidance through the format (Notebooks, plotly, etc.)"
   ]
  },
  {
   "cell_type": "markdown",
   "metadata": {},
   "source": [
    "## 1.1. Background\n",
    "\n",
    "Computers and Vision have been linked together already since the sixties.\n",
    "\n",
    "In 1963 Larry Roberts in his Ph.D. (Roberts 1963) mentions that the \"pictorial data\" understanding by the machines has been a challenge for quite a while.\n",
    "\n",
    "Since then there has been a universe of research in the area with some ups and downs, but the major breakthrough, and what is currently seen as the beginning of modern era can be associated with the 2012 paper by Alex Krizhevsky: ImageNet Classification with Deep Convolutional Neural Networks (Krizhevsky 2012).\n",
    "\n",
    "From 2012 onwards we have observed an exponential progress, with vast research in the area of Object Detection and Recognition.\n",
    "\n",
    "The methods derived in the last few years by Computer Vision researchers from around the globe are easy to utilise these days in the form of library packages, online articles or tutorials.\n",
    "\n",
    "These ground-breaking \"software\" ideas have been accompanied by the substantial innovation in the hardware space and data availability.\n",
    "\n",
    "Starting from using GPUs to accelerate computations, doubling CPU power every year and spike in highly affordable small form factor IOT devices (like Raspberry Pi), both, the software and the hardware disciplines alongside with the large volumes of image data have converged into some incredible opportunities."
   ]
  },
  {
   "cell_type": "markdown",
   "metadata": {},
   "source": [
    "## 1.2. This Research\n",
    "\n",
    "My research uses modern Computer Vision, Machine Learning and both: low and high resource computers to create a Home Monitoring System, capable of showing a live video stream with real time object detection and recognition.\n",
    "\n",
    "Even though the spotlight will be on Machine Learning an it's application in Camera Monitoring, I have quickly understood how important seeing a big picture is. Firstly, how to show an output of the camera to the user and to the developer? How to choose the right hardware, how to organise the network topology and wire the house, how and where to mount the camera and how to deal with downtimes. Each of these questions tought me a lesson, which I will also briefly share in my dissertation.\n",
    "\n",
    "The questions I will try to answer are: Can we use object detections to provide a forecast of objects of different class (Person, Car, Dog, Cat, etc.) to show up in some time interval? And can an alering system be developed based on the anomaly detection from recognised objects and image data collected in the process.\n",
    "\n",
    "If the research is successful, it means that anyone can affort such a system and learn about their surrounding. Also, that kind of a system can be installed anywhere and predict traffic, tourist conjestion, animal behaviour and detect anomalous events in the surrounding area.\n",
    "\n",
    "The key element of the system is that it is all open source, which allows for great extensibility and modifications without having to break priopriary software, like in the majority of smart camera systems.\n",
    "\n",
    "A great benefit of such a system is that it does not require to stream the data outside of the location, which means that the internet connection is not required and no data breach is possible, which is a big worry these days."
   ]
  },
  {
   "cell_type": "markdown",
   "metadata": {},
   "source": [
    "## 1.3. Limitations\n",
    "\n",
    "Like any system, the system I am proposing here has it's limitations. These are usually associated with the type of the camera used in the process of video capture. The default Raspberry Pi camera does not have a night vision capability, which somewhat limits the usage as a security device. Not everything is lost however. Contradicting to the common theory about the night crimes, according to FBI, as reported by many home alarm companies in the online sources (alarmnewengland 2020), most of burgalies occur between 10AM and 3PM, when most of adults are at work or school.\n",
    "\n",
    "The next limitation is the forecast accuracy. Due to the stochastic nature of the world around us, we will never be able to predict a count of expected cars in a given hour perfectly. But the question is: can we do better than just using averages by implementing a Machine Learning based solution?"
   ]
  },
  {
   "cell_type": "markdown",
   "metadata": {},
   "source": [
    "## 1.4. Conclusion\n",
    "\n",
    "This dissertation will explore all the areas above and more in a great detail and hopefully will motivate a reader that such a system has already great capabilities and at the same time has a great potential for improvements and new creative ideas and ways to use the data to inform us better about the world around us.\n",
    "\n",
    "Next Chapter contains a **Literature Review**, where I will study the theoretical framework related to my work in this research."
   ]
  },
  {
   "cell_type": "markdown",
   "metadata": {},
   "source": [
    "[index](../Index.ipynb) | [next](./02.LiteratureReview.ipynb)"
   ]
  },
  {
   "cell_type": "code",
   "execution_count": null,
   "metadata": {},
   "outputs": [],
   "source": []
  }
 ],
 "metadata": {
  "kernelspec": {
   "display_name": "Python 3",
   "language": "python",
   "name": "python3"
  },
  "language_info": {
   "codemirror_mode": {
    "name": "ipython",
    "version": 3
   },
   "file_extension": ".py",
   "mimetype": "text/x-python",
   "name": "python",
   "nbconvert_exporter": "python",
   "pygments_lexer": "ipython3",
   "version": "3.7.0"
  },
  "toc-autonumbering": false,
  "toc-showmarkdowntxt": false,
  "toc-showtags": false
 },
 "nbformat": 4,
 "nbformat_minor": 4
}
