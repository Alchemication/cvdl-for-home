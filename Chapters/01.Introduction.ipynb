{
 "cells": [
  {
   "cell_type": "markdown",
   "metadata": {},
   "source": [
    "# 1. Introduction\n",
    "\n",
    "[index](../Index.ipynb) | [next](./02.LiteratureReview.ipynb)"
   ]
  },
  {
   "cell_type": "markdown",
   "metadata": {},
   "source": [
    "This research uses modern Computer Vision, Machine Learning and hardware components, to create a Camera Monitoring System, capable of showing a live video stream with real time object detection and alerts.\n",
    "\n",
    "The questions I will try to answer are:\n",
    "\n",
    "- What is the level of complexity, required to build a fast, and reliable object detection pipeline, using *IOT* devices and *Computer Vision*?\n",
    "- Given the dataset of collected images, can the future object counts be accurately predicted using *Machine Learning*?\n",
    "- Can *Anomaly Detection* algorithms help in recognizing anomalous patterns in the object detection data?\n",
    "\n",
    "If the research goals are achieved, then the final product should be generic enough to apply it in other households and to other use cases. For instance: predicting traffic or tourist congestion; animal behaviour; or security threats in the video streams.\n",
    "\n",
    "From data protection and security perspective, the aim is to keep the data local, which means that the internet connection should not be required and data breach is much less probable.\n",
    "\n",
    "Lastly, this thesis will be distributed as an open source project on GitHub, being a starting point for those, who want to build their own datasets and algorithms, or contribute and make improvements to this project."
   ]
  },
  {
   "cell_type": "markdown",
   "metadata": {},
   "source": [
    "**Limitations**\n",
    "\n",
    "Like any software in the real world, the proposed system has its limitations.\n",
    "\n",
    "The type of the camera used in the process of video capture is very basic. The default Raspberry Pi camera ([PiCam](https://picamera.readthedocs.io/en/release-1.13/)), does not have the Night Vision capability, which somewhat limits its usage as a security device. However, according to FBI, and as reported by many home alarm companies in the online sources <cite data-cite=\"crippin:2016:burglars\">(Crippin, 2020)</cite>, most of burglaries occur between 10AM and 3PM, when most of adults are at work or school.\n",
    "\n",
    "The next limitation is the limited prediction accuracy, which should be expected, given the heavily stochastic nature of the *Person* and *Vehicle* counts datasets."
   ]
  },
  {
   "cell_type": "markdown",
   "metadata": {},
   "source": [
    "**Guidelines for reader**\n",
    "\n",
    "Even though this dissertation has been exported to a pdf file, it has been written in Jupyter Notebooks.\n",
    "\n",
    "This means that the project can be cloned from [GitHub](https://github.com/Alchemication/cvdl-for-home), code samples can be executed and plots reproduced.\n",
    "\n",
    "Below are the guidelines to make reading a more enjoyable experience:\n",
    "\n",
    "- Chapters contain links to the previous and next chapters on top and in the bottom of each Notebook for easy navigation\n",
    "- Citations, important concepts, areas or terminology will be written as *italic*\n",
    "- Some chapters provide a reference to an in-depth study Notebooks (called the *Extras*), which contain well documented code samples, additional commentary and plots\n",
    "- Chapters are structured as a hierarchy with maximum two levels of depth (example: $6.$ -> $6.1.$ -> $6.1.1.$)\n",
    "- There are often clickable [links](https://en.wikipedia.org/wiki/Artificial_intelligence) to create a better flow\n",
    "- All mathematical notations are written in [LaTex](https://en.wikibooks.org/wiki/LaTeX/Mathematics)\n",
    "- Each reference to a code or function will be formated like `this_function`\n",
    "- Some paragraphs will be divided by a title in **bold font** to improve readability"
   ]
  },
  {
   "cell_type": "markdown",
   "metadata": {},
   "source": [
    "Next Chapter contains a Literature Review, which is a study of theoretical framework related to this research."
   ]
  },
  {
   "cell_type": "markdown",
   "metadata": {},
   "source": [
    "[index](../Index.ipynb) | [next](./02.LiteratureReview.ipynb)"
   ]
  }
 ],
 "metadata": {
  "kernelspec": {
   "display_name": "Python 3",
   "language": "python",
   "name": "python3"
  },
  "language_info": {
   "codemirror_mode": {
    "name": "ipython",
    "version": 3
   },
   "file_extension": ".py",
   "mimetype": "text/x-python",
   "name": "python",
   "nbconvert_exporter": "python",
   "pygments_lexer": "ipython3",
   "version": "3.7.0"
  },
  "toc-autonumbering": false,
  "toc-showmarkdowntxt": false,
  "toc-showtags": false
 },
 "nbformat": 4,
 "nbformat_minor": 4
}
