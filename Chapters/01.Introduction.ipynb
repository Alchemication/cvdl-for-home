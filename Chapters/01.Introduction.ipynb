{
 "cells": [
  {
   "cell_type": "markdown",
   "metadata": {},
   "source": [
    "# 1. Introduction\n",
    "\n",
    "[index](../Index.ipynb) | [next](./02.LiteratureReview.ipynb)"
   ]
  },
  {
   "cell_type": "markdown",
   "metadata": {},
   "source": [
    "**Scope of the research**\n",
    "\n",
    "This research uses modern Computer Vision, Machine Learning, and Hardware, to study a Camera Monitoring System.\n",
    "\n",
    "Three core features are explored: ability to detect objects in a video stream; prediction of a number of objects in a time interval; and anomaly detection.\n",
    "\n",
    "Most of the publicly available research papers, target the areas listed above individually. This study however, shows how the three components can be connected, and how they can interact with one another. For example: a collection of images with detected objects, can be used as a valuable data source, to predict future object counts, or to trigger alerts.\n",
    "\n",
    "**Research questions**\n",
    "\n",
    "Below are the key questions posed in this study:\n",
    "\n",
    "- What is the level of complexity, required to build a fast, and reliable object detection pipeline, using *IOT devices* and *Computer Vision*?\n",
    "- Given the dataset with collected images, can the future object counts be accurately predicted using *Machine Learning*?\n",
    "- Can *Anomaly Detection* algorithms help in recognizing anomalous patterns in the object detection data?\n",
    "\n",
    "If the research goals are achieved, then the final product should be generic enough to apply it to other use cases, such as predicting traffic or tourist congestion, or animal behaviour.\n",
    "\n",
    "**Research importance**\n",
    "\n",
    "Based on the findings and experiments of this study, anyone with some Computer Science skills, should be able to build their own monitoring system, and potentially enhance the security of their monitored objects.\n",
    "\n",
    "In the world of open source, it is important to share information with others, who can use it to their own advantage, but can also provide useful feedback, and contribute to the product. The source code for this research is therefore publicly available on [Github](https://github.com/Alchemication/cvdl-for-home)."
   ]
  },
  {
   "cell_type": "markdown",
   "metadata": {},
   "source": [
    "**Known Limitations**\n",
    "\n",
    "The list below covers the main limitations discovered in the study:\n",
    "\n",
    "- It was not yet possible, to test the system in another location, which would test the true generalization characteristics of the proposed models\n",
    "- The type of the camera used in the process is rather basic. The default Raspberry Pi camera, does not have the night vision capability, or waterproof casing, which somewhat limits its usage as a security device. However, according to FBI, and as reported by many home alarm companies in the online sources <cite data-cite=\"crippin:2016:burglars\">(Crippin, 2020)</cite>, most of the burglaries occur during the day, when most of adults are at work or at school\n",
    "- Forecast and anomaly detection accuracy is somewhat limited. Based on the stochasticity of the measured process, it might be difficult to improve. However, adding extra features, or collecting more data, could have a positive impact\n",
    "- Loss of power translates into the loss in data, as at this point, an alternative source of power is not available"
   ]
  },
  {
   "cell_type": "markdown",
   "metadata": {},
   "source": [
    "**Reader's guide**\n",
    "\n",
    "Despite the fact, that this dissertation has been exported to a pdf file, it has been fully written in Jupyter Notebooks. Please, forgive the poor formatting, image alignment, and lack of page breaks in the pdf file.\n",
    "\n",
    "Full project can be cloned from [GitHub](https://github.com/Alchemication/cvdl-for-home), code samples can be executed, and plots reproduced.\n",
    "\n",
    "Below are some guidelines, to make the reading a better experience:\n",
    "\n",
    "- Chapters contain links to the previous, and next chapters, on the top and in the bottom of each Notebook\n",
    "- Citations, important concepts and terms are written in *italic*\n",
    "- Some chapters provide a reference to an in-depth study Notebooks (called the *Extras*), which contain well documented code samples, additional commentary and plots\n",
    "- Chapters are structured as a hierarchy, with a maximum of two levels of depth (example: $6.$ -> $6.1.$ -> $6.1.1.$)\n",
    "- There are often clickable [links](https://en.wikipedia.org/wiki/Artificial_intelligence) to create a better flow\n",
    "- All mathematical notations are written in [LaTex](https://en.wikibooks.org/wiki/LaTeX/Mathematics)\n",
    "- Each reference to a code or function is formated like `this_function`\n",
    "- Some paragraphs are divided by a title in a **bold font** to improve readability"
   ]
  },
  {
   "cell_type": "markdown",
   "metadata": {},
   "source": [
    "Next Chapter contains a Literature Review, which is a study of theoretical framework related to this research."
   ]
  },
  {
   "cell_type": "markdown",
   "metadata": {},
   "source": [
    "[index](../Index.ipynb) | [next](./02.LiteratureReview.ipynb)"
   ]
  }
 ],
 "metadata": {
  "kernelspec": {
   "display_name": "Python 3",
   "language": "python",
   "name": "python3"
  },
  "language_info": {
   "codemirror_mode": {
    "name": "ipython",
    "version": 3
   },
   "file_extension": ".py",
   "mimetype": "text/x-python",
   "name": "python",
   "nbconvert_exporter": "python",
   "pygments_lexer": "ipython3",
   "version": "3.7.0"
  },
  "toc-autonumbering": false,
  "toc-showmarkdowntxt": false,
  "toc-showtags": false
 },
 "nbformat": 4,
 "nbformat_minor": 4
}
