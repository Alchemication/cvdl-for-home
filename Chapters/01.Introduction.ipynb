{
 "cells": [
  {
   "cell_type": "markdown",
   "metadata": {},
   "source": [
    "# 1. Introduction\n",
    "\n",
    "[index](../Index.ipynb) | [next](./02.LiteratureReview.ipynb)"
   ]
  },
  {
   "cell_type": "markdown",
   "metadata": {},
   "source": [
    "**Scope of the research**\n",
    "\n",
    "This research uses modern: Computer Vision; Machine Learning; and Hardware, to study a Smart Camera Monitoring System.\n",
    "\n",
    "A three core features are explored: ability to detect objects in a video stream; prediction of a number of objects expected to appear in a time interval; and anomaly detection, which allows to send alerts to home owners.\n",
    "\n",
    "Most of the current research papers target the areas listed above individually in great detail. This study however, shows how the three components can be connected, and how they can interact with each other. For example: a collection of raw image pixels with detected objects can be used as a valuable data source, which makes anomaly detection possible.\n",
    "\n",
    "**Research questions**\n",
    "\n",
    "The key questions posed in this study are:\n",
    "\n",
    "- What is the level of complexity, required to build a fast, and reliable object detection pipeline, using *IOT devices* and *Computer Vision*?\n",
    "- Given the dataset with collected images, can the future object counts be accurately predicted using *Machine Learning*?\n",
    "- Can *Anomaly Detection* algorithms help in recognizing anomalous patterns in the object detection data?\n",
    "\n",
    "If the research goals are achieved, then the final product should be generic enough to apply it in other households and to other use cases. For instance: predicting traffic or tourist congestion; animal behaviour; or security threats in the video streams.\n",
    "\n",
    "**Research importance**\n",
    "\n",
    "Based on the findings inside this study, anyone with some Computer Science skills, can use this work as a guideline to build their own monitoring system. This has the potential to improve the security of many households.\n",
    "\n",
    "In the world of open source, it is important that we share information with others, who can use it to their own advantage, but can also provide useful feedback, and contribute back, to the success of the product. The source code for this research is therefore publicly available on [Github](https://github.com/Alchemication/cvdl-for-home)."
   ]
  },
  {
   "cell_type": "markdown",
   "metadata": {},
   "source": [
    "**Known Limitations**\n",
    "\n",
    "Like any software in the real world, the proposed system has its limitations.\n",
    "\n",
    "Certain gaps only relate to the limited time, which was allocated to the actual software implementation; some relate to the utilized hardware; and other require more experiments, and higher volume of more diverse data:\n",
    "\n",
    "- Ethical approach to Computer Vision is not yet implemented, and images with people are not obfuscated. To make object detections module truly ethical, it should not be possible to recognize individuals in the stored pictures\n",
    "- It was not possible yet, to test the system in another household, which would test the true generality of the proposed models\n",
    "- The type of the camera used in the process is rather basic. The default Raspberry Pi camera, does not have the night vision capability, or waterproof casing, which somewhat limits its usage as a security device. However, according to FBI, and as reported by many home alarm companies in the online sources <cite data-cite=\"crippin:2016:burglars\">(Crippin, 2020)</cite>, most of the burglaries occur during the day, when most of adults are at work or at school\n",
    "- Forecast and anomaly detection accuracy is somewhat limited. Based on the stochasticity of the measured process, it might be difficult to improve, however adding extra features, or collecting more data could have a positive impact"
   ]
  },
  {
   "cell_type": "markdown",
   "metadata": {},
   "source": [
    "**Overview of structure**\n",
    "\n",
    "Even though this dissertation has been exported to a pdf file, it has been fully written in Jupyter Notebooks. Full project can be cloned from [GitHub](https://github.com/Alchemication/cvdl-for-home), code samples can be executed and plots reproduced.\n",
    "\n",
    "Below are some guidelines to make reading a better experience:\n",
    "\n",
    "- Chapters contain links to the previous, and next chapters, on the top and in the bottom of each Notebook, for easy navigation\n",
    "- Citations, important concepts and terms are written as *italic*\n",
    "- Some chapters provide a reference to an in-depth study Notebooks (called the *Extras*), which contain well documented code samples, additional commentary and plots\n",
    "- Chapters are structured as a hierarchy, with a maximum of two levels of depth (example: $6.$ -> $6.1.$ -> $6.1.1.$)\n",
    "- There are often clickable [links](https://en.wikipedia.org/wiki/Artificial_intelligence) to create a better flow\n",
    "- All mathematical notations are written in [LaTex](https://en.wikibooks.org/wiki/LaTeX/Mathematics)\n",
    "- Each reference to a code or function is formated like `this_function`\n",
    "- Some paragraphs are divided by a title in a **bold font** to improve readability"
   ]
  },
  {
   "cell_type": "markdown",
   "metadata": {},
   "source": [
    "Next Chapter contains a Literature Review, which is a study of theoretical framework related to this research."
   ]
  },
  {
   "cell_type": "markdown",
   "metadata": {},
   "source": [
    "[index](../Index.ipynb) | [next](./02.LiteratureReview.ipynb)"
   ]
  }
 ],
 "metadata": {
  "kernelspec": {
   "display_name": "Python 3",
   "language": "python",
   "name": "python3"
  },
  "language_info": {
   "codemirror_mode": {
    "name": "ipython",
    "version": 3
   },
   "file_extension": ".py",
   "mimetype": "text/x-python",
   "name": "python",
   "nbconvert_exporter": "python",
   "pygments_lexer": "ipython3",
   "version": "3.7.0"
  },
  "toc-autonumbering": false,
  "toc-showmarkdowntxt": false,
  "toc-showtags": false
 },
 "nbformat": 4,
 "nbformat_minor": 4
}
