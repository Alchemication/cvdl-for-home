{
 "cells": [
  {
   "cell_type": "markdown",
   "metadata": {},
   "source": [
    "# 1. Introduction\n",
    "\n",
    "[index](../Index.ipynb) | [next](./02.LiteratureReview.ipynb)"
   ]
  },
  {
   "cell_type": "markdown",
   "metadata": {},
   "source": [
    "### Background\n",
    "\n",
    "Computers and Vision have been linked together already since the sixties.\n",
    "\n",
    "In 1963 Larry Roberts in his Ph.D. (Roberts 1963) mentions that the \"pictorial data\" understanding by the machines has been a challenge for quite a while.\n",
    "\n",
    "Since then there has been a universe of research in the area with some ups and downs, but the major breakthrough, and what is currently seen as the beginning of modern era can be associated with the 2012 paper by Alex Krizhevsky: ImageNet Classification with Deep Convolutional Neural Networks (Krizhevsky 2012).\n",
    "\n",
    "From 2012 onwards we have observed an exponential progress, with vast research in the area of Object Detection and Recognition.\n",
    "\n",
    "The methods derived in the last few years by Computer Vision researchers from around the globe are easy to utilise these days in the form of library packages, online articles or tutorials.\n",
    "\n",
    "These ground-breaking \"software\" ideas have been accompanied by the substantial innovation in the hardware space and data availability.\n",
    "\n",
    "Starting from using GPUs to accelerate computations, doubling CPU power every year and spike in highly affordable small form factor IOT devices (like Raspberry Pi), both, the software and the hardware disciplines alongside with the large volumes of image data have converged into some incredible opportunities.\n",
    "\n",
    "### This Research\n",
    "\n",
    "My research uses modern Computer Vision, Machine Learning and both: low and high resource computers to create a Home Monitoring System, capable of showing a live video stream with real time object detection and recognition.\n",
    "\n",
    "Even though the spotlight will be on Machine Learning an it's application in Camera Monitoring, I have quickly understood how important seeing a big picture is. Firstly, how to show an output of the camera to the user and to the developer? How to choose the right hardware, how to organise the network topology and wire the house, how and where to mount the camera and how to deal with downtimes. Each of these questions tought me a lesson, which I will also briefly share in my dissertation.\n",
    "\n",
    "The questions I will try to answer are: Can we use object detections to provide a forecast of objects of different class (Person, Car, Dog, Cat, etc.) to show up in some time interval? And can an alering system be developed based on the anomaly detection from recognised objects and image data collected in the process.\n",
    "\n",
    "If the research is successful, it means that anyone can affort such a system and learn about their surrounding. Also, that kind of a system can be installed anywhere and predict traffic, tourist conjestion, animal behaviour and detect anomalous events in the surrounding area.\n",
    "\n",
    "The key element of the system is that it is all open source, which allows for great extensibility and modifications without having to break priopriary software, like in the majority of smart camera systems.\n",
    "\n",
    "A great benefit of such a system is that it does not require to stream the data outside of the location, which means that the internet connection is not required and no data breach is possible, which is a big worry these days.\n",
    "\n",
    "### Limitations\n",
    "\n",
    "Like any system, the system I am proposing here has it's limitations. These are usually associated with the type of the camera used in the process of video capture. The default Raspberry Pi camera does not have a night vision capability, which somewhat limits the usage as a security device. Not everything is lost however. Contradicting to the common theory about the night crimes, according to FBI, as reported by many home alarm companies in the online sources (alarmnewengland 2020), most of burgalies occur between 10AM and 3PM, when most of adults are at work or school.\n",
    "\n",
    "The next limitation is the forecast accuracy. Due to the stochastic nature of the world around us, we will never be able to predict a count of expected cars in a given hour perfectly. But the question is: can we do better than just using averages by implementing a Machine Learning based solution?\n",
    "\n",
    "### Conclusion\n",
    "\n",
    "This dissertation will explore all the areas above and more in a great detail and hopefully will motivate a reader that such a system has already great capabilities and at the same time has a great potential for improvements and new creative ideas and ways to use the data to inform us better about the world around us."
   ]
  },
  {
   "cell_type": "code",
   "execution_count": null,
   "metadata": {},
   "outputs": [],
   "source": []
  },
  {
   "cell_type": "code",
   "execution_count": null,
   "metadata": {},
   "outputs": [],
   "source": []
  },
  {
   "cell_type": "code",
   "execution_count": null,
   "metadata": {},
   "outputs": [],
   "source": []
  },
  {
   "cell_type": "code",
   "execution_count": null,
   "metadata": {},
   "outputs": [],
   "source": []
  },
  {
   "cell_type": "code",
   "execution_count": null,
   "metadata": {},
   "outputs": [],
   "source": []
  },
  {
   "cell_type": "code",
   "execution_count": null,
   "metadata": {},
   "outputs": [],
   "source": []
  },
  {
   "cell_type": "markdown",
   "metadata": {},
   "source": [
    "- Introduce the topic and context. Clearly state the objectives of the project.\n",
    "- Include an outline of the rest of report: e.g. a few lines describing each Chapter."
   ]
  },
  {
   "cell_type": "markdown",
   "metadata": {},
   "source": [
    "<a id=\"intro_1.A\"></a>\n",
    "## Motivation\n",
    "\n",
    "Home Monitoring systems are used to keep our households safe. Some so-called **\"Smart\"** solutions, provide modern features, like motion sensing, alerts, and even object detection and recognition.\n",
    "\n",
    "After several interviews with the owners of such systems, I have learned that they were dissatisfied with the amount of False Positive alerts when motion sensors are triggered for unexplainable reasons. They would also like their system to provide real time object detection and recognition while minimising the costs.\n",
    "\n",
    "My idea is to explore this area in a great detail and propose a new, Machine Learning driven system.\n",
    "\n",
    "It will collect and use object detections captured from camera, combined with additional data sources (like weather data), to generate a forecast of objects expected to see in a given time interval.\n",
    "\n",
    "The system will then use Machine Learning to exploit irregularites in the data and classify observations as anomalies if they don't follow the normal trend."
   ]
  },
  {
   "cell_type": "markdown",
   "metadata": {},
   "source": [
    "## Thesis overview\n",
    "\n",
    "This project required to engineer a 5 discrete components, which are briefly mentioned below, and will be fully explored in the next sections of this document:\n",
    "\n",
    "### Hardware:\n",
    "- Raspberry Pi 3 with PyCam camera module\n",
    "- PC1 and PC2 (with NVidia GTX 1080 Ti GPUs)\n",
    "- Router and switches\n",
    "- Real life challenges in setting up this kind of system\n",
    "- Not in scope, but mentioning as next step/potential improvements:\n",
    "    - Upgrade R-Pi 3 to R-Pi4 for improved performance\n",
    "    - Experiment with on-device Machine Learning to bring the cost down and eliminate a need for external PC\n",
    "\n",
    "\n",
    "### Application Back-end / Object Detection Pipeline:\n",
    "- **Framing the problem in ML context: How can we detect interesting objects in real time video stream?**\n",
    "- Input: frames coming from R-Pi\n",
    "- image preprocessing (resizing)\n",
    "- Computer Vision - motion detection (background subtraction and finding contours)\n",
    "- Yolo V2 object detection\n",
    "- Output: images stored on SSD and frames streamed through Socket server\n",
    "- Not in scope, but mention as a next step:\n",
    "    - Ethical approach would be to blur people in the images\n",
    "    - Bring Yolo to newest version (V3)\n",
    "    - Break script apart into separate modules for easier maintenance\n",
    "    \n",
    "\n",
    "### Forecasting:\n",
    "- **Framing the problem in ML context: How can we create a forecast for the count of objects to expect during the day? The role of forecast is to explain why an observation was called an anomaly / alert was triggerred?**\n",
    "- Input: images stored during Object Detection with outliers removed, Dark Sky weather data\n",
    "- Data preprocessing: how do we actually calculate object counts? What constitutes to a legit object count?\n",
    "- Models to be tested:\n",
    "    - Linear Regressor\n",
    "    - Random Forest Regressor\n",
    "    - Neural Networks with probabilistic loss functions:\n",
    "        - Poisson\n",
    "        - Negative Binomial\n",
    "        - Zero-inflated Negative Binomial\n",
    "- Best model selected and reasons\n",
    "- Output: daily forecast (separate forecast for each object, generated during the night)\n",
    "- Not in scope, but mentioning as next step/potential improvements:\n",
    "    - Scan local network for devices on wi-fi add owner-at-home binary feature to the dataset to potentially improve forecast accuracy (analysis required here)\n",
    "\n",
    "\n",
    "### Anomaly Detection:\n",
    "- **Framing the problem in ML context: How can we detect that the number of objects is outside of the reasonable norm?**\n",
    "- Input: images stored during Object Detection with outliers kept, Dark Sky weather data\n",
    "- Data preprocessing: how do we actually calculate object counts? What constitutes to a legit object count?\n",
    "- Models to be tested:\n",
    "    - Z-score\n",
    "    - IQR\n",
    "    - Auto-Encoder Neural Network\n",
    "    - Variational Auto-Encoder Neural Network\n",
    "- Best method selected and reason\n",
    "- Output: Anomaly detection model, capable of real time prediction if observation is an anomaly\n",
    "- Not in scope, but mentioning as next step/potential improvements:\n",
    "    - Scan local network for devices on wi-fi and add owner-at-home binary feature to the dataset to prevent alerts (unless instructed otherwise)\n",
    "\n",
    "### Application UI:\n",
    "- Inputs:\n",
    "    - Real time frames and detections\n",
    "    - Object count forecast for each object type\n",
    "- Outputs:\n",
    "    - Allow users to see the camera output with detected objects in bounding boxes\n",
    "    - Allow users to see the current forecast\n",
    "- Not in scope, but mentioning as next step/potential improvements:\n",
    "    - Allow user to adjust settings about alerts\n",
    "    \n",
    "Each of these components bursts with a potential for improvements as new research, technologies and capabilities become available in the open source Machine Learning, Big Data processing, and UX world."
   ]
  },
  {
   "cell_type": "markdown",
   "metadata": {},
   "source": [
    "<a id=\"test\"></a>"
   ]
  },
  {
   "cell_type": "markdown",
   "metadata": {},
   "source": [
    "## Note to the Dear Reader\n",
    "\n",
    "Before going any deeper, I would like to stress to the Reader, that this work has gone through a number of iterations:\n",
    "- At first it was just a toy project of using a camera with Raspberry Pi for real time object detection in video streams\n",
    "- Then, a break through idea emerged to collect and use these object detections to produce a forecast of objects expected to show up in a given time interval\n",
    "- And finally, to make the system really useful, a concept for alerts triggered by anomaly detection models completed the scope\n",
    "\n",
    "The learning here is that diving into one area often results in the brand new further ideas. I found it also priceless to discuss ideas with other people and take their feedback onboard with an open minded approach."
   ]
  },
  {
   "cell_type": "markdown",
   "metadata": {},
   "source": [
    "## TODO: State of the art"
   ]
  },
  {
   "cell_type": "markdown",
   "metadata": {},
   "source": [
    "## Literature Review\n",
    "- ...\n",
    "\n",
    "## Arguments\n",
    "- ...\n",
    "\n",
    "## Conclusion\n",
    "- ..."
   ]
  },
  {
   "cell_type": "markdown",
   "metadata": {},
   "source": [
    "## Useful links:\n",
    "\n",
    "### Forecasting Count Data:\n",
    "\n",
    "This is ideal for predicting count data using Neural Networks. This notebook has a few interesting links with theory as well. Great resource and potentially the best found so far:\n",
    "- https://github.com/gokceneraslan/neuralnet_countmodels/blob/master/Count%20models%20with%20neuralnets.ipynb. This is a NN with models:\n",
    "    - Poisson loss\n",
    "    - Negative binomial\n",
    "    - Zero-inflated Negative binomial models\n",
    "\n",
    "Another interesting post about Negative binomial function as a loss function in a NN\n",
    "- https://stackoverflow.com/questions/55782674/how-should-i-write-the-loss-function-with-keras-and-tensorflow-for-negative-bi\n",
    "\n",
    "### Anomaly detection:\n",
    "\n",
    "Z-score and IQR (tried and tested, works well):\n",
    "- https://towardsdatascience.com/ways-to-detect-and-remove-the-outliers-404d16608dba\n",
    "\n",
    "Autoencoders:\n",
    "- https://towardsdatascience.com/a-keras-based-autoencoder-for-anomaly-detection-in-sequences-75337eaed0e5\n",
    "\n",
    "## Books owned:\n",
    "- Bayes' Rule\n",
    "- The Signal and the Noise\n",
    "- A Student's guide to Bayesian Statistics\n",
    "- Learning From Data\n",
    "- Make Your Own Neural Network\n",
    "- Deep Learning for Computer Vision with Python (Vol 1,2,3)\n",
    "\n",
    "## Papers to cover:\n",
    "- Yolo v2\n",
    "- Background subtraction\n",
    "- Auto-Encoders\n",
    "- Find something for anomaly detection through Computer Vision"
   ]
  },
  {
   "cell_type": "code",
   "execution_count": null,
   "metadata": {},
   "outputs": [],
   "source": []
  }
 ],
 "metadata": {
  "kernelspec": {
   "display_name": "Python 3",
   "language": "python",
   "name": "python3"
  },
  "language_info": {
   "codemirror_mode": {
    "name": "ipython",
    "version": 3
   },
   "file_extension": ".py",
   "mimetype": "text/x-python",
   "name": "python",
   "nbconvert_exporter": "python",
   "pygments_lexer": "ipython3",
   "version": "3.7.0"
  },
  "toc-autonumbering": false,
  "toc-showmarkdowntxt": false,
  "toc-showtags": false
 },
 "nbformat": 4,
 "nbformat_minor": 4
}
