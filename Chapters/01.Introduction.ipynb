{
 "cells": [
  {
   "cell_type": "markdown",
   "metadata": {},
   "source": [
    "# 1. Introduction\n",
    "\n",
    "[index](../Index.ipynb) | [next](./02.LiteratureReview.ipynb)"
   ]
  },
  {
   "cell_type": "markdown",
   "metadata": {},
   "source": [
    "Write something as an introduction including a guidance through the format (Notebooks, plotly, etc.)"
   ]
  },
  {
   "cell_type": "markdown",
   "metadata": {},
   "source": [
    "## 1.1. Background\n",
    "\n",
    "Computers and Vision have been linked together already since the sixties.\n",
    "\n",
    "In 1963 Larry Roberts in his Ph.D. (Roberts 1963) mentions that the \"pictorial data\" understanding by the machines has been a challenge for quite a while.\n",
    "\n",
    "Since then there has been a universe of research in the area with some ups and downs, but the major breakthrough, and what is currently seen as the beginning of modern era can be associated with the 2012 paper by Alex Krizhevsky: ImageNet Classification with Deep Convolutional Neural Networks (Krizhevsky 2012).\n",
    "\n",
    "From 2012 onwards we have observed an exponential progress, with vast research in the area of Object Detection and Recognition.\n",
    "\n",
    "The methods derived in the last few years by Computer Vision researchers from around the globe are easy to utilise these days in the form of library packages, online articles or tutorials.\n",
    "\n",
    "These ground-breaking \"software\" ideas have been accompanied by the substantial innovation in the hardware space and data availability.\n",
    "\n",
    "Starting from using GPUs to accelerate computations, doubling CPU power every year and spike in highly affordable small form factor IOT devices (like Raspberry Pi), both, the software and the hardware disciplines alongside with the large volumes of image data have converged into some incredible opportunities."
   ]
  },
  {
   "cell_type": "markdown",
   "metadata": {},
   "source": [
    "## 1.2. This Research\n",
    "\n",
    "My research uses modern Computer Vision, Machine Learning and both: low and high resource computers to create a Home Monitoring System, capable of showing a live video stream with real time object detection and recognition.\n",
    "\n",
    "The questions I will try to answer are:\n",
    "- Can we use object detections to provide a forecast of objects of different class (Person, Car, Dog, Cat, etc.) to show up in some time interval?\n",
    "- Can an alering system be developed based on the anomaly detection from recognised objects and image data collected in the process?\n",
    "\n",
    "Even though this is a thesis about Artifficial Intelligence and Machine Learning, I have quickly understood how important seeing a big picture is:\n",
    "- How to show an output of the forecast and anomaly detection in the UI?\n",
    "- How to choose the right hardware?\n",
    "- How to organise the network topology and wire the house?\n",
    "- How and where to mount the camera and how to deal with downtimes?\n",
    "\n",
    "Each of these sub-questions tought me valuable lessons, which I will share throughout this dissertation.\n",
    "\n",
    "If the research is successful, it means that anyone can afford such a system and use it to learn about their surroundings. Also, it be installed anywhere, and for example predict traffic, tourist conjestion, animal behaviour or detect anomalous events.\n",
    "\n",
    "In the days of daily security breaches, it would be interesting to find a solution, which does not require to stream the data outside of the location, which means that the internet connection is not required and so data breach is less probable.\n",
    "\n",
    "And lastly, I would like to keep this thesis distributed as an open source project, so anyone can see how all these pieces are glued together. Obviously, the data itself will not be published, as image data is very large and readers are encouraged to collect their own datasets."
   ]
  },
  {
   "cell_type": "markdown",
   "metadata": {},
   "source": [
    "## 1.3. Limitations\n",
    "\n",
    "Like any software in the real world, the system I am proposing here has its limitations.\n",
    "\n",
    "The type of the camera used in the process of video capture is very basic. The default Raspberry Pi camera ([PiCam](https://picamera.readthedocs.io/en/release-1.13/)), does not have the Night Vision capability, which somewhat limits its usage as a security device. However, according to FBI, and as reported by many home alarm companies in the online sources (alarmnewengland 2020), most of burgalies occur between 10AM and 3PM, when most of adults are at work or school.\n",
    "\n",
    "The next limitation is the forecast accuracy. Due to heavily stochastic nature of the world around us, it is not flawless. But the <span style=\"background-color: yellow;\">main aspect of my work in this research is not necessarily accuracy and metrics, but usefulness.</span>"
   ]
  },
  {
   "cell_type": "markdown",
   "metadata": {},
   "source": [
    "## 1.4. Guidelines for reading this thesis\n",
    "\n",
    "The whole dissertation has been written in Jupyter Notebooks. It means that code samples can be easily copied, and project can be cloned and code executed on another machine.\n",
    "\n",
    "In general, I have tried to keep the text flow similar to the data flow in the project, starting from an overall system design and hardware requirements, then moving to forecasting, and ending with anomaly detection.\n",
    "\n",
    "I have tried to keep the code away from the main chapters, as it makes them difficult to follow.\n",
    "\n",
    "I have extensively used two Jupyter extensions:\n",
    "- [Diagram design](https://blog.jupyter.org/a-diagram-editor-for-jupyterlab-a254121ff919)\n",
    "- [Table of contents](https://github.com/jupyterlab/jupyterlab-toc)\n",
    "\n",
    "**Guidelines to be aware of:**\n",
    "- Chapters contain links to the previous and next chapters on top and in the bottom\n",
    "- <span style=\"background-color: yellow;\">Key highlights</span> will be highlighted with a yellow background\n",
    "- Important concepts or areas will be written in *italic*\n",
    "- Some chapters provide a reference to an in-depth study (called *Extras*) with code samples and commentary\n",
    "- Chapters are structured as a hierarchy with maximum two levels of depth (for example $6.$ -> $6.1.$ -> $6.1.1.$)\n",
    "- There are often clickable [links](https://en.wikipedia.org/wiki/Artificial_intelligence) to create a better flow\n",
    "- There are quite a lot of mathematical notations written in [LaTex](https://en.wikibooks.org/wiki/LaTeX/Mathematics)\n",
    "- Each reference to a code or function will be formated like `this_function`\n",
    "- Some paragraphs will be divided by a title in **bold font** to improve text spacing"
   ]
  },
  {
   "cell_type": "markdown",
   "metadata": {},
   "source": [
    "## 1.5. Conclusion\n",
    "\n",
    "This dissertation will explore all the areas above and more in a great detail and hopefully will motivate a reader that such a system has already great capabilities and at the same time has a great potential for improvements and new creative ideas and ways to use the data to inform us better about the world around us.\n",
    "\n",
    "Next Chapter contains a **Literature Review**, where I will study the theoretical framework related to my work in this research."
   ]
  },
  {
   "cell_type": "markdown",
   "metadata": {},
   "source": [
    "[index](../Index.ipynb) | [next](./02.LiteratureReview.ipynb)"
   ]
  },
  {
   "cell_type": "code",
   "execution_count": null,
   "metadata": {},
   "outputs": [],
   "source": []
  }
 ],
 "metadata": {
  "kernelspec": {
   "display_name": "Python 3",
   "language": "python",
   "name": "python3"
  },
  "language_info": {
   "codemirror_mode": {
    "name": "ipython",
    "version": 3
   },
   "file_extension": ".py",
   "mimetype": "text/x-python",
   "name": "python",
   "nbconvert_exporter": "python",
   "pygments_lexer": "ipython3",
   "version": "3.7.0"
  },
  "toc-autonumbering": false,
  "toc-showmarkdowntxt": false,
  "toc-showtags": false
 },
 "nbformat": 4,
 "nbformat_minor": 4
}
