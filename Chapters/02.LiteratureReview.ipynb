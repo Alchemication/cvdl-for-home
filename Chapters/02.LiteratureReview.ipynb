{
 "cells": [
  {
   "cell_type": "markdown",
   "metadata": {},
   "source": [
    "# 2. Literature Review\n",
    "\n",
    "[index](../Index.ipynb) | [prev](./01.Introduction.ipynb) | [next](./03.SystemDesign.ipynb)"
   ]
  },
  {
   "cell_type": "markdown",
   "metadata": {},
   "source": [
    "**Motivation**\n",
    "\n",
    "It is important to appreciate and highlight the work of other researchers. Without their contributions, a project of this magnitude could never be approached by a single individual.\n",
    "\n",
    "The Literature Review below is focused around the individual components (as companies delivering such systems usually keep their source code locked).\n",
    "\n",
    "To make it easy to follow, the sections below go hand in hand with the data flow in the system:\n",
    "- Data Collection\n",
    "- Forecasting\n",
    "- Anomaly Detection\n",
    "\n",
    "Each of these items is quite complex and has been studied by scientists for decades.\n",
    "\n",
    "After two years of my own research and experiments, I have narrowed down the list to a handful of useful tools, for which I will provide the theoretical background below.\n",
    "\n",
    "**State of the art**\n",
    "\n",
    "In terms of the overall system like that, it is very challenging to find any literature, as companies, who produce similar software tend to keep the source code closed.\n",
    "\n",
    "Also, while there are many examples in the Internet about all the individual low level components used in this system, <span style=\"background-color: yellow\">I have not yet seen a research, which would show all these blocks connected into a coherent end to end product. This is also makes this research unique</span>.\n",
    "\n",
    "**Foundamental idea in Machine Learning**\n",
    "\n",
    "Before any discussions about Machine Learning models, I would like to point out a fundamental concept: **Bias and Variance tradeoff**.\n",
    "\n",
    "We say that a model is good if it fits the training and testing data well. Models like Linear Regression create a straight line through the data points, and often do not represent the relationships very well. This is called **High Bias**. On the other hand, Learners like Decision Trees model relationships in the training data very well, but tend to perform poorly on the testing sets. We call this behaviour **High Variance**. Ideally we always look for a model with relatively low bias and low variance. In practice, it is a matter of finding a good tradeoff.\n",
    "\n",
    "Note that the above tradeoff tends to hold for non-Neural Network models, but not necessarily for Neural Networks, which can generalise well, even with their complexity and High Variance (Neal et al., 2018)."
   ]
  },
  {
   "cell_type": "markdown",
   "metadata": {},
   "source": [
    "## 2.1. Data Collection\n",
    "\n",
    "The first aspect of my project is the Data Collection phase.\n",
    "\n",
    "It involves a mini-computer (Raspberry Pi) which streams the data to the central unit (a Ubuntu-based Desktop PC with a GPU), which runs an infinite loop with the two key algorithms:\n",
    "- Backgroud subtraction\n",
    "- Yolo Object Recognition\n",
    "\n",
    "Both of these algorithms are extremelly useful in the image processing applications, and the are the foundation of how data is collected in the system.\n",
    "\n",
    "They have both significantly reduced the data size, which otherwise would be required to store a six months of video footage."
   ]
  },
  {
   "cell_type": "markdown",
   "metadata": {},
   "source": [
    "### 2.1.1. Motion Detection\n",
    "\n",
    "Let’s consider how can we detect objects of our interest in the video streams.\n",
    "\n",
    "The naive approach would be to send all 30 frames per second to an object detector script.\n",
    "\n",
    "This could work, but it would be extremely inefficient from the compute resource utilisation (CPU/GPU/RAM) and speed perspective. Why would we waste the resources to detect objects if there is actually nothing changing in the scene most of the time? Can we somehow detect a significant change in the images (i.e. detect motion) and only if motion is detected use the object detector?\n",
    "\n",
    "Here is an example of a static background:\n",
    "\n",
    "<p style=\"text-align: center; margin-bottom: 0;\">Fig. 2.1</p>\n",
    "<img src=\"../Resources/img/no-motion.png\" style=\"width: 40%;\"/><br>\n",
    "\n",
    "And here is a moving object (a person running) in a 7 consecutive frames:\n",
    "\n",
    "<p style=\"text-align: center; margin-bottom: 0;\">Fig. 2.2</p>\n",
    "<img src=\"../Resources/img/moving-object.png\" style=\"width: 90%;\"/>\n",
    "\n",
    "It turns out that there is already a set well established algorithms in the Computer Vision domain for that purpose. They are not 100% bulletproof, but they do not need to be. If they can help to reject the 90% of non-interesting frames, we can dedicate the expensive GPU resource to other tasks or simply extend its lifespan. The bonus of not using GPU all the time is that the machine will be much quieter and won’t generate so much heat.\n",
    "\n",
    "One of the most popular and successful methods for motion detection in images is the **Background Subtraction**.\n",
    "\n",
    "At a very high level the concept is very simple: we would like to start with a static image without any moving objects. We will call it the **background ($BG$)**. Then, every consecutive frame will be compared against the background to detect any changes in the **foreground ($FG$)**.\n",
    "\n",
    "Unfortunately, there are many challenges in this optimistic approach. What if:\n",
    "- the initial background already contains moving objects?\n",
    "- the next frames actually don’t contain any moving objects, but only light illumination has changed over time?\n",
    "- shadows started to appear?\n",
    "- the camera is in-door and we turn the light on and off?\n",
    "- there are moving tree branches in the background?\n",
    "- the weather has changed into rain or snow?\n",
    "- we are not interested in small objects, but only objects of a certain size?\n",
    "\n",
    "These common anomalies demand a more sophisticated approach than just a simple subtraction of foreground from the background.\n",
    "\n",
    "One very popular improvement over the vanilla algorithm has been proposed in the *Improved Adaptive Gaussian Mixture Model for Background Subtraction* paper (Zivkivoc 2004). The aim of Zivkivoc’s work was to overcome all the challenges above and achieve efficiency by reducing the processing time.\n",
    "\n",
    "In the MOG2 model, the background is constantly updated and not static. As author describes it, it uses recursive equations to constantly update parameters and also select appropriate number of components per each pixel. At a high level author describes a metric R (using a Bayesian decision), which follows the formula:\n",
    "\n",
    "$$\n",
    "R=\\frac{p(BG|\\overrightarrow{x}^{(t)})}{p(FG|\\overrightarrow{x}^{(t)})}=\\frac{p(\\overrightarrow{x}^{(t)}|BG)p(BG)}{p(\\overrightarrow{x}^{(t)}|FG)p(FG)}\n",
    "$$\n",
    "\n",
    "Where the aim is to determine the ratio between the probability of new pixel at time $t$ being a foreground ($FG$) or a background ($BG$).\n",
    "\n",
    "Since, in general, we don't have any prior information about $FG$, so we set it as a uniform distribution. Then, we decide that object is a $BG$ if the probability of $x$ at time $t$, given $BG$ is greater than some threshold value ($c_{thr}$):\n",
    "\n",
    "$$\n",
    "p(\\overrightarrow{x}^{(t)}|BG) > (=Rc_{FG})\n",
    "$$\n",
    "\n",
    "The left side of the equation is referred to as a background model. It depends on the training set denoted as $X$.\n",
    "\n",
    "In order to eliminate the problem of suddenly changing lighting factor, authors proposed to keep updating the training set by dropping old values, appending new ones and re-estimating the background model. When we incorporate the fact that within new frames we can have also foreground objects and if we use the Gaussian mixture model with M components, we can update the equation to the following one:\n",
    "\n",
    "$$\n",
    "\\hat{p}(\\overrightarrow{x}|X_T,BG+FG)=\\sum^{M}_{m=1}\\hat{\\pi}_m \\mathcal{N}(\\overrightarrow{x};\\hat{\\overrightarrow{\\mu}}_m,\\hat{\\sigma}^2_mI)\n",
    "$$\n",
    "\n",
    "Where we are adding means and variances, which describe the Gaussian components. Covariance matrices are\n",
    "diagonal and identity matrix has proper dimensions. The weights are non-negative and add up to 1.\n",
    "\n",
    "For each new data samples, equations are updated recursively, as follows:\n",
    "\n",
    "$$\n",
    "\\hat{\\pi}_m \\leftarrow \\hat{\\pi}_m + \\alpha(o^{(t)}_m-\\hat{\\pi}_m)\n",
    "$$\n",
    "\n",
    "$$\n",
    "\\hat{\\overrightarrow{\\mu}}_m \\leftarrow \\hat{\\overrightarrow{\\mu}}_m + o^{(t)}_m (\\alpha/\\hat{\\pi}_m)\\overrightarrow{\\delta}_m\n",
    "$$\n",
    "\n",
    "$$\n",
    "\\hat{\\sigma}^2_m \\leftarrow \\hat{\\sigma}^2_m + o^{(t)}_m(\\alpha/\\hat{\\pi}_m)(\\overrightarrow{\\delta}^T_m \\overrightarrow{\\delta}_m  - \\hat{\\sigma}^2_m)\n",
    "$$\n",
    "\n",
    "We can see an introduction of alpha parameter here, which is exponentially decaying, meaning that the older\n",
    "data samples will be given less importance:\n",
    "\n",
    "$$\n",
    "\\alpha=1/T\n",
    "$$\n",
    "\n",
    "In the new sample the $o_m^{(t)}$ value is set to $1$ for the component with a largest weight and $0$ in other\n",
    "components.\n",
    "\n",
    "The following formula denotes the squared distance from m-th component:\n",
    "\n",
    "$$\n",
    "\\overrightarrow{\\delta}_m^T \\overrightarrow{\\delta}_m / \\hat{\\sigma}^2_m\n",
    "$$\n",
    "\n",
    "If the maximum number of components is reached, the component with the lowest weight is removed. Hence\n",
    "the algorithm has been defined by the author to be an \"online clustering algorithm\".\n",
    "\n",
    "Author also describes how model deals with foreground objects, which remain static for a longer duration of\n",
    "time: for the FG object to be considered a BG, it needs to be static for approx. following number of frames:\n",
    "\n",
    "$$\n",
    "log(1-c_f)/log(1-\\alpha)\n",
    "$$\n",
    "\n",
    "$c_f$ stands for the maximum portion of data, which belongs to $FG$ objects without influencing the $BG$ model.\n",
    "For sample values for $c_f$ and $\\alpha$, author has calculated that we would get $105$ frames for the $FG$ object to be\n",
    "considered a $BG$.\n",
    "\n",
    "Weights define the underlying multinomial distribution. After additional derivations, author rewrites the first\n",
    "equation to the following form (this is after including the *Dirichlet* prior for multinomial distribution):\n",
    "\n",
    "$$\n",
    "\\hat{\\pi}_m \\leftarrow \\hat{\\pi}_m + \\alpha(o^{(t)}_m-\\hat{\\pi}_m) - \\alpha c_T\n",
    "$$\n",
    "\n",
    "Then researcher presented a 3 great examples, where the new algorithm works well with improved performance.\n",
    "\n",
    "There are pre-requisites for this model to work:\n",
    "- stationary frame\n",
    "- image resized (in theory, this is not a strong requirement, but this model is very slow when used with the 1080p or even 720p image resolution)\n",
    "\n",
    "The OpenCV implementation for Python can be found under `cv2.createBackgroundSubtractorMOG2` function, which I have used to detect motion between consecutive image frames.\n",
    "\n",
    "The parameters will be explained in the later Chapter: [Data Collection](./04.DataCollection.ipynb)."
   ]
  },
  {
   "cell_type": "markdown",
   "metadata": {},
   "source": [
    "### 2.1.2. Object Detection\n",
    "\n",
    "Once motion is detected, resized frames can be sent to an Object Detector to analyse the content of an image.\n",
    "\n",
    "Object detection comes from two fundamental ideas in Computer Vision:\n",
    "- Image Classification (look at an image and classify a single class: Car, Person, Dog etc.)\n",
    "- Object Localization (where an object is located inside an image)\n",
    "\n",
    "Object Detection's task is to classify multiple objects in an image and tell their locations as well.\n",
    "\n",
    "Here is an example from a web application, which I have built for my research, which detects motion and object in a real time camera stream:\n",
    "\n",
    "<p style=\"text-align: center; margin-bottom: 0;\">Fig. 2.3. Real time detection in Web App</p>\n",
    "<img src=\"../Resources/img/person-detected.png\" style=\"width: 50%;\"/>\n",
    "\n",
    "In *Fig. 2.3* there is a person walking by in front of the parking area. There is a box around the person, called the *bounding box*. If there was more people in the frame, they would be all highlighted as well.\n",
    "\n",
    "This is an evolving field with new algorithms and applications been developed at high frequency. This is an advantage, as it creates new opportunities, but it's also a challenge for practicioners to keep up with the fast pace of change.\n",
    "\n",
    "Out of two arguably most popular options for object detection in Python: **Yolo** and **SSD**, I have decided to use Yolo (You Only Look Once) due to the fact that it can be run in real time on a GPU at 30+ frames per second with good documentation and wide-spread adoption rate. I have not found a GPU implementation for the SSD (Single Shot Detector) algorithm."
   ]
  },
  {
   "cell_type": "markdown",
   "metadata": {},
   "source": [
    "#### Yolo V1:\n",
    "\n",
    "Even though in my research I have used Yolo Version 2, the section below is dedicated to Yolo version 1, as it is the foundation for object detection, which utilises multiple Computer Vision and Deep Learning paradims.\n",
    "\n",
    "Yolo v1 (Redmon et al., 2015) has been released in 2015 as a new approach to object detection, which promised extreme speed and making real time object detection a reality. This was a significant achievement in comparison to previous object detectors, like R-CNN (Girshick et al. 2013) where a single image could take 20 seconds to get processed or even in comparison to more modern Fast R-CNN (Girshick 2015), which still took 2 seconds to process a single image and Faster R-CNN (Ren et al., 2015) with 0.14 second per frame.\n",
    "\n",
    "The processing time can be extremely important for certain applications, like self driving car or camera monitoring system and, according to the authors, Yolo can run at 45 frames per second with a slight decrease in accuracy for smaller objects.\n",
    "\n",
    "To visualize this progress, I have put in into a table below:\n",
    "\n",
    "| Detector      | FPS |\n",
    "| ------------- | --- |\n",
    "| R-CNN | 0.05 |\n",
    "| Fast R-CNN  | 0.5 |\n",
    "| Faster R-CNN | 7 |\n",
    "| Yolo v1 | 45 |\n",
    "\n",
    "Yolo owes this gain in speed to a complete re-think of how the object detectors can operate. Instead of using a traditional approach, like:\n",
    "- sliding window with HOG (Histogram of Oriented Gradients) and SVM (Support Vertor Machine)\n",
    "- region proposals (seen in R-CNN's)\n",
    "\n",
    ", Yolo uses a single pass through the entire image to generate predictions (with sliding window it might be hundreds or thousands passes through an image of a different size),\n",
    "\n",
    "Then to get rid of overlapping bounding boxes, the boxes with very low propability are discarded, and Non-max supression algorithm is applied.\n",
    "\n",
    "This approach then leaves us with an output of 1470 feaures, containing all the data we need to understand the content of an image. Assuming that we are trying to predict any of 20 object classes, the calculation is as follows:\n",
    "\n",
    "$$\n",
    "7x7x(2x5+20) = 7x7x30tensor = 1470features\n",
    "$$\n",
    "\n",
    ", where $7x7$ is related to a grid size, which image is divided by, $2x5$ means we will have 2 bounding boxes inside each grid cell, and $20$ is a number of predicted classes in a One Hot Encoded notation.\n",
    "\n",
    "Each grid cell predicts two boxes and can only have a single class.\n",
    "\n",
    "Below is the name and description for each of the 5 nodes found in each bounding box:\n",
    "- Conf - confidence\n",
    "- x - x coordinate of center of the box (relative to grid cell)\n",
    "- y - y coordinate\n",
    "- w - width of the box (relative to whole image)\n",
    "- h - height\n",
    "\n",
    "The confidence if object is present is calculated as:\n",
    "$Pr(Object)*IOU^{truth}_{pred}$\n",
    "\n",
    ", where $IOU$ represents an Intersection Over Union, an evaluation metric for bounding boxes:\n",
    "\n",
    "$$\n",
    "IOU=\\frac{areaOfOverlap}{areaOfUnion}\n",
    "$$\n",
    "\n",
    "If there is no object present in the cell, then the confidence will be Zero, but if there is an object, it will equal to the $IOU$ metric.\n",
    "\n",
    "For training, a following Convolutional Neural network is used:\n",
    "\n",
    "<p style=\"text-align: center; margin-bottom: 0;\">Fig. 2.4. Yolo v1 architecture</p>\n",
    "<img src=\"../Resources/img/yolo-v1-architecture.png\" style=\"width: 75%;\"/>\n",
    "\n",
    ", with 24 convolutional layers followed by 2 fully connected layers. Convolutional layers are pretrained on ImageNet classification (with 1000 classes), and final output is, as expected, a $7x7x30$ tensor.\n",
    "\n",
    "This type of a complex network was trained for a week using the *Darknet* framework, which I have used for the real time inference in my research.\n",
    "\n",
    "The network is trained with $224x244$ image resolution and then extended to $444x448$ at detection stage.\n",
    "\n",
    "As activation function, authors have used a leaky rectified linear activation:\n",
    "\n",
    "$$\n",
    "\\begin{equation}\n",
    "  f(x)=\\begin{cases}\n",
    "    x, & \\text{if $x>0$}\\\\\n",
    "    0.1x, & \\text{otherwise}\n",
    "  \\end{cases}\n",
    "\\end{equation}\n",
    "$$\n",
    "\n",
    "The loss function to optimise is the highly customised $SumSquared Error$ with the specific characteristics:\n",
    "- to avoid issues with gradients for cells without any objects\n",
    "- to distinguish errors in large boxes versus small boxes (errors in large boxes matter less)\n",
    "\n",
    "Here are other significant training parameters:\n",
    "- epochs: $135$\n",
    "- batch size: $64$\n",
    "- momentum: $0.9$\n",
    "- decay: $0.0005$\n",
    "- custom learning rate schedule\n",
    "\n",
    "To prevent the overfit, dropout layers are introduced, and to increase image variability data augmentation is used.\n",
    "\n",
    "Overall, Yolo is a good tradeoff between speed and accuracy and at present is one of the most useful frameworks, which can be used free of cost with high level of available documentation and examples."
   ]
  },
  {
   "cell_type": "markdown",
   "metadata": {},
   "source": [
    "#### Yolo V2:\n",
    "\n",
    "An upgraded version of Yolo (V2) was released in 2016 as a state of the art real time object detector capable of detecting over 9000 object categories.\n",
    "\n",
    "Capable of achieving a 76.8 mAP (mean average precision) on VOC 2007 (The PASCAL Visual Object Classes Challenge 2007) while maintaining 40 FPS (frames per second), which, as authors conclude, outperforms the other two most populate object detectors: *SSD* and *Faster RCNN with ResNet*.\n",
    "\n",
    "The main improvements in Yolo v2 have been achieved throgh a number of core ideas:\n",
    "- Batch Normalization: Added to all convolutional layers to stabilize training, speed up convergence and add regularisation\n",
    "- High Resolution Clasifier: End to end fully trained on $448x448$ image resolution, so more details can be detected\n",
    "- Convolutional With Anchor Boxes: Diving an image into N-overlapping boxes of WxH size - helpful to detect smaller objects, like multiple people faces\n",
    "- Dimension Clusters: Instead of hand picked anchor box dimensions, Yolo V2 uses k-means clustering with a custom distance metric $d(box,centroid)=1-IOU(box,centroid)$\n",
    "- Direct location prediction: Increase model stablity during early training iterations by introducing logistic activation to constrain network predictions or coordinates relative to the location of the cell grid\n",
    "- Multi-Scale Training: Aim is to make the model robust to varied image resolutions, which is achieved by randomly choosing a new image dimension every 10 batches during the training (size must be divisible by 32, from $320x320$ to $608x608$. When Yolo is run at $288x288$ it achieves much better performance, which might be useful for multiple video streams (for example one camera inside and two outside the house)\n",
    "\n",
    "The architecture is composed of 19 convolutional layers and 5 maxpolling layers. To process an image 5.58 billion operations is required. This might seem very high, but it is much lower in comparison to a very popular choice for feature extractor VGG-16 (Simonyan et al. 2014), which require 30.69 billion floating point operations. Yolo V1 required 8.52 billion, as it was based on the Googlenet architecture (Shegedy et al. 2014).\n",
    "\n",
    "Yolo V2 uses its own classification model called **Darknet-19**, which is trained for classification and for detection using slightly different architecture and hyper-parameters and similar data augmentation techniques.\n",
    "\n",
    "The *classification model* uses ImageNet dataset with 1000 very fine-grained classes (like \"Norfolk terrier\") and *detection model* uses COCO dataset with 80 high-level class names (like \"dog\").\n",
    "\n",
    "Since authors wanted to jointly train on classification and detection data, a **hierarchical classification** was used, where the final softmax layer with the flat encoding of mutually exclusive labels is not assumed. This has been achieved using an approach borrowed from Natural Language Processing called WordTree, where for each detail class a probability is calculated if this class belongs to a broader category, example:\n",
    "\n",
    "$$\n",
    "Pr(Norfolk terrier|terrier)\n",
    "$$\n",
    "\n",
    "This model has been visualized as follows:\n",
    "\n",
    "<p style=\"text-align: center; margin-bottom: 5px;\">Fig. 2.5. Yolo V2 WordTree</p>\n",
    "<img src=\"../Resources/img/word-tree.png\" style=\"width: 45%;\"/>"
   ]
  },
  {
   "cell_type": "markdown",
   "metadata": {},
   "source": [
    "#### Yolo V3, V4:\n",
    "\n",
    "Since 2016 and now, there have been already two new papers produced for the Yolo object detector:\n",
    "\n",
    "version 3 (Redmon et al. 2018)\n",
    "version 4 (Bochkovskiy et al. 2020)\n",
    "They both look very promising in terms of further accuracy increase with many tweaks and modern improvements, but I leave this work for the future increments of this project."
   ]
  },
  {
   "cell_type": "markdown",
   "metadata": {},
   "source": [
    "### 2.1.3. Conclusion\n",
    "\n",
    "Yolo V2 represents a good trade off between accuracy and performance, and has proven to work well in case of detecting people and vehicles from the Raspberry Pi camera frames, which I discuss further in the [Data Collection](./04.DataCollection.ipynb) chapter."
   ]
  },
  {
   "cell_type": "markdown",
   "metadata": {},
   "source": [
    "## 2.2. Forecasting\n",
    "\n",
    "The next theme of this project is Forecasting. \n",
    "\n",
    "One of the research questions is if Machine Learning can improve the performance of the naive baseline, which predicts Object Counts based on the hourly averages calculated from the historical data.\n",
    "\n",
    "In my work I have utilised one naive and two Machine Learning algorithms, which are described below:\n",
    "- Gradient Boosting Decision Tree\n",
    "- Gaussian Process\n",
    "\n",
    "I have also tried many other algorithms, like:\n",
    "- Linear Regression\n",
    "- Feed Forward Neural Network\n",
    "- Long Short Term Memory Recurrent Neural Network\n",
    "\n",
    "The additional algorithms were not beneficial to my results due to the following reasons:\n",
    "- they are not designed to model non-linear relationships (Linear Regression)\n",
    "- they are more relevant for much larger datasets (Neural Networks overfitted very quickly and added computational overhead)\n",
    "- they either don't have a good implementation for the Count Data"
   ]
  },
  {
   "cell_type": "markdown",
   "metadata": {},
   "source": [
    "### 2.2.1. Gradient Boosting Decison Tree"
   ]
  },
  {
   "cell_type": "markdown",
   "metadata": {},
   "source": [
    "#### Decision Tree Regressor\n",
    "\n",
    "**Decision Trees** are a building block for many more sophisticated Machine Learning algorithms. Their simplicity and interpretability make them a very popular choice, when decisions must be clearly understood and explained.\n",
    "\n",
    "The history of Decision Trees used for regression problems is not very easy to track, and goes back to a research by J.N. Morgan (Morgan et al., 1963, p. 430) titled *Problems in the Analysis of Survey Data, and a Proposal*, where arguably first decision tree for regression is drawn. What has been a challenge back then (computational overhead) is actually not an issue in 2020, which makes Decision Trees one of the fastest Machine Learners available for relatively condensed datasets.\n",
    "\n",
    "The problem with decision trees is their low accuracy on an out-of-sample datasets and low robustness (small changes in training data may easily lead to a very different tree). It is however important to discuss their inner workings before moving on to the more advanced algorithms.\n",
    "\n",
    "Here is an example output from a Tree Regressor algorithm run on a small subset of $100$ observations (for ilustrative purpose) from the dataset with people detections:\n",
    "\n",
    "<p style=\"text-align: center; margin-bottom: 5px;\">Fig. 2.6. Decision Tree</p>\n",
    "<img src=\"../Resources/img/tree.png\" style=\"width: 55%;\"/>"
   ]
  },
  {
   "cell_type": "markdown",
   "metadata": {},
   "source": [
    "This tree can be interpreted as a series of sub-decisions to reach a goal. Following the **right hand side path**, the model predicts a value of $2.875$ by making the following decisions:\n",
    "- `uvIndex` is greater than $0.5$\n",
    "- `temperature` is greater than $2.99$\n",
    "- `hour` is greater than $10$\n",
    "\n",
    "It intuitively makes sense, as during the day, when temperature is not very low and after 10AM, we can expect approximately $3$ objects.\n",
    "\n",
    "Basic terminology related to the hierarchy above:\n",
    "- the single box on top of the diagram is called a **root node**\n",
    "- nodes in the middle are called the **decision nodes** and are connected by arrows creating a section called a **branch**\n",
    "- the eight boxes in the bottom are **leaf nodes**\n",
    "\n",
    "The best split for Regression Trees is usually calculated using a **mean squared error**, however other metrics (like a mean absolute error) can be utilised as well.\n",
    "\n",
    "The top-down procedure to generate a tree is the same for each node:\n",
    "- iterate through candidate features\n",
    "- for each feature:\n",
    "    - sort values\n",
    "    - find average between each pair of values and use as a candidate split value\n",
    "    - calculate average for values the left and right nodes\n",
    "    - calculate squared residuals for each node\n",
    "    - sum all residucals or average those\n",
    "- split the data by the feature and value, which produces the lowest squared error\n",
    "- keep doing this until:\n",
    "    - reached maximum depth of a tree allowed\n",
    "    - there is not enough samples to create a split\n",
    "    - all samples contain the same value\n",
    "- leaf nodes will eventually contain an average value for the target variable\n",
    "\n",
    "Hyperparameters `max_depth` and `min_samples_split` are used as a regularization term to avoid creating a model with too high variance."
   ]
  },
  {
   "cell_type": "markdown",
   "metadata": {},
   "source": [
    "#### Gradient Boosting Regressor Tree\n",
    "\n",
    "There are many extensions to the base Decision Tree algorithm. I have found the Gradient Boosting Regressor to work the best with the object detections dataset and below is a brief description of the inner workings of this algorithm.\n",
    "\n",
    "The **Histogram Based Gradient Boosting Regressor** is a relatively new estimator added in 2019 into the Sci-Kit Learn library, developed in `Cython` to optimise speed, and it is promoted as being very efficient and capable of handling large datasets and missing values.\n",
    "\n",
    "The implementation in sklearn was inspired by the 2017 paper by Guolin Ke et al. (Ke et al., 2017): LightGBM: A Highly Efficient Gradient Boosting Decision Tree and it is a modern take on the original Gradient Boosting Machine algorithm by Jerome Friedman (Friedman, 1999).\n",
    "\n",
    "The original algorithm developed by Friedman puts robustness as one of the most favorable characteristics. The paper also mentions that the TreeBoost removes the need for feature transformations, and chooses only important features, while ignoring irrelevant input variables. It handles missing data, and enhances stabilty through the use of many small trees (instead of a single large one). Author admits that single Decision Tree is easier to interpret than many (even hundreds) small trees, however when one tree grows to a very large scale, this conclusion does not hold any more.\n",
    "\n",
    "Below is the high level algorithm, which is a workhorse for the Gradient Boost:\n",
    "\n",
    "- Firstly we need to have a dataset consisting of input features and a target variable $\\{(x_j, y_i)\\}^n_{i=1}$ and a Loss Function, which is differentiable $L(y,F(x))$ (like least squares)\n",
    "- Then we initialize a model with a constant value: $F_0(x)=argmin_{\\gamma} \\sum^n_{i=1}L(y_i,\\gamma)$, we can easily solve this equation and find the initial predictions by taking the derivatives for the losses for each target, summing them up and setting the sum to $0$. In the Decision Tree terminology, this step creates a leaf, which predicts the initial values\n",
    "- Next section is an iteration for $m=1$ to $M$ which produces $M$ small trees (where $M$ is a hyperparameter to tune), and contains following steps\n",
    "    - Compute $r_{im} = -[\\frac{\\partial L(y_i,F(x_i))}{\\partial F(x_i)}]_{F(x}=F_{m-1}(x)$ for $i=1,...,n$\n",
    "    - Fit regression tree to the $r_{im}$ values and create terminal regions $R_{jm}$ for $j=1...J_m$\n",
    "    - For $j=1,...,J_m$ compute $\\gamma_{jm}=argmin_{\\gamma} \\sum_{x_i \\in R_{ij}} L(y_j,F_{m-1}(x_i)+\\gamma)$\n",
    "    - Update $F_m(x)=F_{m-1}(x)+\\nu \\sum^{J_m}_{j=1}\\gamma_m I(x \\in R_{jm})$, where $\\nu$ is another hyperparameter to tune, the learning rate\n",
    "- The iteration stops when either all steps were exhausted or when there is no significant change in the errors\n",
    "\n",
    "The key idea in the *Histogram Based Gradient Boosting* is related to the way Decision Trees find the best value to split the data. As discussed previously, a Decision Tree normally sorts the values and then for each pair of values they run a test if the split is optimal.\n",
    "\n",
    "This obviously creates a computational problem for larger datasets, so the authors had an idea to bin the values into (typically) 256 bins and use integer-based data structures (histograms). This way they avoided expensive sorting and then testing for all continous, floating point values.\n",
    "\n",
    "One of the most recent improvements in this algorithm in `sklearn` is a **Poisson** loss function, which is more suitable for the count data and when data is believed to come from a Poisson distribution.\n",
    "\n",
    "$$\n",
    "L(y,\\hat{y})=\\frac{1}{N}\\sum^N_{i=0}(\\hat{y}_i-y_ilog\\hat{y}_i)\n",
    "$$\n",
    "\n",
    "where $\\hat{y}$ is the predicted expected value and $y$ is the ground truth value.\n",
    "\n",
    "Poisson is a discrete probability distribution that expresses the probability of a given number of events occurring in a fixed interval of time or space if these events occur with a known constant mean rate and independently of the time since the last event [wiki-link](https://en.wikipedia.org/wiki/Poisson_distribution).\n",
    "\n",
    "Minimising the Poisson loss is equivalent of maximizing the likelihood of the data under the assumption that the target comes from a Poisson distribution, conditioned on the input ([peltarion.com, Poisson loss](https://peltarion.com/knowledge-center/documentation/modeling-view/build-an-ai-model/loss-functions/poisson)).\n",
    "\n",
    "This is a loss function, which is used in the [Forecasting Notebook](./05.Forecasting.ipynb)."
   ]
  },
  {
   "cell_type": "markdown",
   "metadata": {},
   "source": [
    "### 2.2.2. Gaussian Process\n",
    "\n",
    "Gaussian Distribution, also known as Normal Distribution is the cornerstone of statistical learning.\n",
    "\n",
    "Whether we associate the origins of the theory with Abrhama de Moivre (1667-1754) or Carl Friedrich Gauss (1777-1855), it is a fundemendal concept used to model real-valued, random and continuous variables, which can be observed vastly in the nature, social studies, mathematics and engineering.\n",
    "\n",
    "The Central Limit Theorem (Laplace 1810) and unique analytical properties make Gaussian distributions a very useful tool, which can be also applied to Machine Learning.\n",
    "\n",
    "The literature review below takes a gradual approach in order to understand the Gaussian Processes ([peterroelants blog](peterroelants.github.io)):\n",
    "- Univariate Gaussian Distribution\n",
    "- Multivariate Gaussian Distribution\n",
    "- Gaussian Process"
   ]
  },
  {
   "cell_type": "markdown",
   "metadata": {},
   "source": [
    "#### Univariate Gaussian\n",
    "\n",
    "Gaussian distribution is given by:$\\mathcal{N}(\\mu, \\sigma^2)$, where $\\mu$ is the expected value of a distribution, and $\\sigma$ corresponds to a standard deviation from $\\mu$. Sigma squared ($\\sigma^2$) is also known as a variance.\n",
    "\n",
    "The $pdf$ (probability density function) for a normal distribution is given by:\n",
    "\n",
    "$$\n",
    "p(x|\\mu,\\sigma)=\\frac{1}{\\sqrt{2\\pi \\sigma^2}}exp(-\\frac{(x-\\mu)^2}{2\\sigma^2})\n",
    "$$\n",
    "\n",
    "The word \"univariate\" relates to a single random variable ($x$) in the equation above. Using it, we can plot several values for $\\mu$ and $\\sigma$ and observe a familiar, \"bell curve\" shaped plots:"
   ]
  },
  {
   "cell_type": "code",
   "execution_count": 55,
   "metadata": {},
   "outputs": [
    {
     "name": "stdout",
     "output_type": "stream",
     "text": [
      "TF -> Using GPU ->  PhysicalDevice(name='/physical_device:GPU:0', device_type='GPU')\n"
     ]
    }
   ],
   "source": [
    "%run ../Notebooks-Generic/ConfigImports.ipynb\n",
    "\n",
    "def uni_normal(x, mean, sigma):\n",
    "    \"\"\"Use equation above to generate probability for points above\"\"\"\n",
    "    return 1/np.sqrt(2*np.pi*sigma**2) * np.exp(-(x-mean)**2/(2*sigma**2))"
   ]
  },
  {
   "cell_type": "code",
   "execution_count": 57,
   "metadata": {},
   "outputs": [
    {
     "data": {
      "application/vnd.plotly.v1+json": {
       "config": {
        "plotlyServerURL": "https://plot.ly"
       },
       "data": [
        {
         "mode": "lines",
         "name": "mean=0, sigma=1",
         "opacity": 0.8,
         "type": "scatter",
         "x": [
          -3,
          -2.919191919191919,
          -2.8383838383838382,
          -2.757575757575758,
          -2.676767676767677,
          -2.595959595959596,
          -2.515151515151515,
          -2.4343434343434343,
          -2.3535353535353534,
          -2.2727272727272725,
          -2.191919191919192,
          -2.111111111111111,
          -2.0303030303030303,
          -1.9494949494949494,
          -1.8686868686868685,
          -1.7878787878787878,
          -1.707070707070707,
          -1.626262626262626,
          -1.5454545454545454,
          -1.4646464646464645,
          -1.3838383838383836,
          -1.303030303030303,
          -1.222222222222222,
          -1.1414141414141412,
          -1.0606060606060606,
          -0.9797979797979797,
          -0.8989898989898988,
          -0.8181818181818179,
          -0.737373737373737,
          -0.6565656565656566,
          -0.5757575757575757,
          -0.4949494949494948,
          -0.4141414141414139,
          -0.33333333333333304,
          -0.25252525252525215,
          -0.17171717171717127,
          -0.09090909090909083,
          -0.010101010101009944,
          0.07070707070707094,
          0.15151515151515182,
          0.2323232323232327,
          0.3131313131313136,
          0.39393939393939403,
          0.4747474747474749,
          0.5555555555555558,
          0.6363636363636367,
          0.7171717171717176,
          0.7979797979797985,
          0.8787878787878789,
          0.9595959595959598,
          1.0404040404040407,
          1.121212121212122,
          1.2020202020202024,
          1.2828282828282829,
          1.3636363636363642,
          1.4444444444444446,
          1.525252525252526,
          1.6060606060606064,
          1.6868686868686869,
          1.7676767676767682,
          1.8484848484848486,
          1.92929292929293,
          2.0101010101010104,
          2.0909090909090917,
          2.171717171717172,
          2.2525252525252526,
          2.333333333333334,
          2.4141414141414144,
          2.4949494949494957,
          2.575757575757576,
          2.6565656565656575,
          2.737373737373738,
          2.8181818181818183,
          2.8989898989898997,
          2.97979797979798,
          3.0606060606060614,
          3.141414141414142,
          3.2222222222222223,
          3.3030303030303036,
          3.383838383838384,
          3.4646464646464654,
          3.545454545454546,
          3.626262626262627,
          3.7070707070707076,
          3.787878787878788,
          3.8686868686868694,
          3.94949494949495,
          4.030303030303031,
          4.111111111111112,
          4.191919191919193,
          4.272727272727273,
          4.353535353535354,
          4.434343434343435,
          4.515151515151516,
          4.595959595959597,
          4.676767676767677,
          4.757575757575758,
          4.838383838383839,
          4.91919191919192,
          5
         ],
         "y": [
          0.0044318484119380075,
          0.0056292488565988594,
          0.007103625864111731,
          0.008905817513416034,
          0.011092554839374866,
          0.013726299084064109,
          0.016874830186622246,
          0.020610543548712324,
          0.02500941654145169,
          0.030149613916800676,
          0.03610971251268862,
          0.042966540463957203,
          0.050792644375804046,
          0.05965341912744792,
          0.0696039583923258,
          0.08068570852316366,
          0.09292303281016102,
          0.10631981570328211,
          0.12085625567149892,
          0.13648600918747045,
          0.1531338551970583,
          0.17069404790904805,
          0.18902951474331228,
          0.2079720352329836,
          0.22732350563136094,
          0.24685835366000475,
          0.266327119699036,
          0.2854611668984051,
          0.3039784259120084,
          0.3215900234094101,
          0.33800759064361624,
          0.35295100261258394,
          0.3661562629822569,
          0.3773832276929932,
          0.38642285308956875,
          0.39310366363767635,
          0.39729715993174175,
          0.3989219287993251,
          0.3979462718633275,
          0.3943892340049188,
          0.38831998511205057,
          0.3798555831509956,
          0.3691572196196974,
          0.3564251156057146,
          0.34189229416612915,
          0.32581749943769,
          0.3084775625239906,
          0.29015952756502883,
          0.2711528483204781,
          0.2517419469842392,
          0.23219939462500505,
          0.21277992921081898,
          0.1937154757629305,
          0.17521127722710306,
          0.15744318761884354,
          0.14055612416139449,
          0.12466362535277388,
          0.10984841946507007,
          0.09616387452038047,
          0.08363617721451712,
          0.0722670747823327,
          0.06203700998968758,
          0.052908484333112564,
          0.04482949675859266,
          0.037736923140639894,
          0.03155972363558626,
          0.026221889093709462,
          0.021645062362520257,
          0.017750794129363624,
          0.014462414797634179,
          0.01170652293141696,
          0.00941410650840298,
          0.00752132534870932,
          0.005969991648872652,
          0.004707790763123331,
          0.0036882866092077192,
          0.0028707558051358347,
          0.0022198923885565,
          0.001705421261496603,
          0.001301653841648913,
          0.000987014235438329,
          0.0007435589558778007,
          0.0005565080897487319,
          0.0004138010948489235,
          0.0003056862254780555,
          0.0002243490237122514,
          0.00016358240127546585,
          0.00011849855503752774,
          8.528126048109789e-05,
          6.097590395298948e-05,
          4.3313867581542595e-05,
          3.056748882703958e-05,
          2.1431700932777388e-05,
          1.4928549036067491e-05,
          1.0331006581321667e-05,
          7.102835521387584e-06,
          4.851599673830535e-06,
          3.2923215064199654e-06,
          2.219645405419829e-06,
          1.4867195147342977e-06
         ]
        },
        {
         "mode": "lines",
         "name": "mean=0, sigma=0.5",
         "opacity": 0.8,
         "type": "scatter",
         "x": [
          -3,
          -2.919191919191919,
          -2.8383838383838382,
          -2.757575757575758,
          -2.676767676767677,
          -2.595959595959596,
          -2.515151515151515,
          -2.4343434343434343,
          -2.3535353535353534,
          -2.2727272727272725,
          -2.191919191919192,
          -2.111111111111111,
          -2.0303030303030303,
          -1.9494949494949494,
          -1.8686868686868685,
          -1.7878787878787878,
          -1.707070707070707,
          -1.626262626262626,
          -1.5454545454545454,
          -1.4646464646464645,
          -1.3838383838383836,
          -1.303030303030303,
          -1.222222222222222,
          -1.1414141414141412,
          -1.0606060606060606,
          -0.9797979797979797,
          -0.8989898989898988,
          -0.8181818181818179,
          -0.737373737373737,
          -0.6565656565656566,
          -0.5757575757575757,
          -0.4949494949494948,
          -0.4141414141414139,
          -0.33333333333333304,
          -0.25252525252525215,
          -0.17171717171717127,
          -0.09090909090909083,
          -0.010101010101009944,
          0.07070707070707094,
          0.15151515151515182,
          0.2323232323232327,
          0.3131313131313136,
          0.39393939393939403,
          0.4747474747474749,
          0.5555555555555558,
          0.6363636363636367,
          0.7171717171717176,
          0.7979797979797985,
          0.8787878787878789,
          0.9595959595959598,
          1.0404040404040407,
          1.121212121212122,
          1.2020202020202024,
          1.2828282828282829,
          1.3636363636363642,
          1.4444444444444446,
          1.525252525252526,
          1.6060606060606064,
          1.6868686868686869,
          1.7676767676767682,
          1.8484848484848486,
          1.92929292929293,
          2.0101010101010104,
          2.0909090909090917,
          2.171717171717172,
          2.2525252525252526,
          2.333333333333334,
          2.4141414141414144,
          2.4949494949494957,
          2.575757575757576,
          2.6565656565656575,
          2.737373737373738,
          2.8181818181818183,
          2.8989898989898997,
          2.97979797979798,
          3.0606060606060614,
          3.141414141414142,
          3.2222222222222223,
          3.3030303030303036,
          3.383838383838384,
          3.4646464646464654,
          3.545454545454546,
          3.626262626262627,
          3.7070707070707076,
          3.787878787878788,
          3.8686868686868694,
          3.94949494949495,
          4.030303030303031,
          4.111111111111112,
          4.191919191919193,
          4.272727272727273,
          4.353535353535354,
          4.434343434343435,
          4.515151515151516,
          4.595959595959597,
          4.676767676767677,
          4.757575757575758,
          4.838383838383839,
          4.91919191919192,
          5
         ],
         "y": [
          1.2151765699646572e-08,
          3.163017475096089e-08,
          8.020844882785023e-08,
          1.981504056384737e-07,
          4.768986972163989e-07,
          1.118184913347063e-06,
          2.554214952079223e-06,
          5.684045940676396e-06,
          1.232293160362108e-05,
          2.6027162205743015e-05,
          5.3554494137689224e-05,
          0.00010735477010459105,
          0.00020965397122527806,
          0.00039887899056829327,
          0.0007393252744013298,
          0.0013350153715339474,
          0.0023485148002342885,
          0.004024914495054588,
          0.0067201093196323945,
          0.010930809848414842,
          0.017321466685650565,
          0.02674073304524939,
          0.0402177968491749,
          0.05892771020426053,
          0.08411572209485038,
          0.11697447678986019,
          0.15847522142070244,
          0.2091644848172425,
          0.26894956443075324,
          0.33690702550350227,
          0.41115503367284445,
          0.4888295798343917,
          0.5661945259173901,
          0.6388960110447047,
          0.7023458313787215,
          0.752191053518855,
          0.784804781382213,
          0.7977217604441561,
          0.7899462827588857,
          0.7620790146369436,
          0.716240323351835,
          0.6558036878362073,
          0.5849857185171925,
          0.5083619006422969,
          0.43038492200606193,
          0.35497471832925487,
          0.2852292898256481,
          0.22327862038875487,
          0.17027719271357827,
          0.12650921039852858,
          0.0915680848004826,
          0.06456875885985451,
          0.04435647936307474,
          0.02968574962002576,
          0.019355094410919947,
          0.012294160827222811,
          0.007607795115635842,
          0.004586432944439804,
          0.0026936899785078004,
          0.0015412620847923008,
          0.0008591355722181789,
          0.0004665554099586049,
          0.0002468317828945073,
          0.00012721995943925797,
          6.388012355108347e-05,
          3.1248743856785456e-05,
          1.4892091741259926e-05,
          6.914092156453829e-06,
          3.1273100954062632e-06,
          1.3780438963145054e-06,
          5.915772700860558e-07,
          2.474094182559956e-07,
          1.0080389176185438e-07,
          4.001240837607197e-08,
          1.5472782048515098e-08,
          5.829058924499814e-09,
          2.1393645989100416e-09,
          7.64940202816449e-10,
          2.664566051290653e-10,
          9.042360471410728e-11,
          2.989464936289728e-11,
          9.628562056627875e-12,
          3.021243477098119e-12,
          9.235626045091134e-13,
          2.750446969826961e-13,
          7.979883188894865e-14,
          2.2555170499152996e-14,
          6.21086395915698e-15,
          1.6661505510915738e-15,
          4.3544447807110573e-16,
          1.1086836836581722e-16,
          2.7500389612067192e-17,
          6.645480063259978e-18,
          1.564480643454946e-18,
          3.588148024771229e-19,
          8.01727591186709e-20,
          1.7451776036845664e-20,
          3.700911960764796e-21,
          7.6459983351899185e-22,
          1.538919725341284e-22
         ]
        },
        {
         "mode": "lines",
         "name": "mean=2, sigma=2",
         "opacity": 0.8,
         "type": "scatter",
         "x": [
          -3,
          -2.919191919191919,
          -2.8383838383838382,
          -2.757575757575758,
          -2.676767676767677,
          -2.595959595959596,
          -2.515151515151515,
          -2.4343434343434343,
          -2.3535353535353534,
          -2.2727272727272725,
          -2.191919191919192,
          -2.111111111111111,
          -2.0303030303030303,
          -1.9494949494949494,
          -1.8686868686868685,
          -1.7878787878787878,
          -1.707070707070707,
          -1.626262626262626,
          -1.5454545454545454,
          -1.4646464646464645,
          -1.3838383838383836,
          -1.303030303030303,
          -1.222222222222222,
          -1.1414141414141412,
          -1.0606060606060606,
          -0.9797979797979797,
          -0.8989898989898988,
          -0.8181818181818179,
          -0.737373737373737,
          -0.6565656565656566,
          -0.5757575757575757,
          -0.4949494949494948,
          -0.4141414141414139,
          -0.33333333333333304,
          -0.25252525252525215,
          -0.17171717171717127,
          -0.09090909090909083,
          -0.010101010101009944,
          0.07070707070707094,
          0.15151515151515182,
          0.2323232323232327,
          0.3131313131313136,
          0.39393939393939403,
          0.4747474747474749,
          0.5555555555555558,
          0.6363636363636367,
          0.7171717171717176,
          0.7979797979797985,
          0.8787878787878789,
          0.9595959595959598,
          1.0404040404040407,
          1.121212121212122,
          1.2020202020202024,
          1.2828282828282829,
          1.3636363636363642,
          1.4444444444444446,
          1.525252525252526,
          1.6060606060606064,
          1.6868686868686869,
          1.7676767676767682,
          1.8484848484848486,
          1.92929292929293,
          2.0101010101010104,
          2.0909090909090917,
          2.171717171717172,
          2.2525252525252526,
          2.333333333333334,
          2.4141414141414144,
          2.4949494949494957,
          2.575757575757576,
          2.6565656565656575,
          2.737373737373738,
          2.8181818181818183,
          2.8989898989898997,
          2.97979797979798,
          3.0606060606060614,
          3.141414141414142,
          3.2222222222222223,
          3.3030303030303036,
          3.383838383838384,
          3.4646464646464654,
          3.545454545454546,
          3.626262626262627,
          3.7070707070707076,
          3.787878787878788,
          3.8686868686868694,
          3.94949494949495,
          4.030303030303031,
          4.111111111111112,
          4.191919191919193,
          4.272727272727273,
          4.353535353535354,
          4.434343434343435,
          4.515151515151516,
          4.595959595959597,
          4.676767676767677,
          4.757575757575758,
          4.838383838383839,
          4.91919191919192,
          5
         ],
         "y": [
          0.00876415024678427,
          0.009687761840269087,
          0.010691240852174029,
          0.011779416914562154,
          0.012957180035701175,
          0.014229453253406995,
          0.015601162248989775,
          0.017077201929876565,
          0.018662400026037917,
          0.02036147778541648,
          0.0221790078963218,
          0.024119369809818363,
          0.026186702682017893,
          0.028384856204340426,
          0.03071733963860873,
          0.03318726942260016,
          0.03579731575964736,
          0.0385496486522574,
          0.04144588388366832,
          0.04448702949191335,
          0.04767343331743936,
          0.05100473223674403,
          0.05447980371999604,
          0.05809672036935883,
          0.061852708105975936,
          0.06574410867659501,
          0.06976634714499458,
          0.07391390501822832,
          0.0781802996328339,
          0.08255807039132369,
          0.08703877239439237,
          0.09161297795941281,
          0.09627028645119078,
          0.10099934277702946,
          0.10578786481551922,
          0.11062267995789087,
          0.11548977084320672,
          0.12037433026522719,
          0.1252608251207496,
          0.13013306915798126,
          0.13497430417059472,
          0.13976728917014852,
          0.14449439695821806,
          0.1491377174116054,
          0.1536791666911184,
          0.1581006014883519,
          0.16238393733733153,
          0.1665112699403815,
          0.1704649983916174,
          0.17422794912836484,
          0.17778349940171603,
          0.18111569903330263,
          0.18420938921691188,
          0.1870503171312893,
          0.1896252451545792,
          0.1919220535113242,
          0.1939298352394656,
          0.1956389824367863,
          0.19704126283287848,
          0.19812988583291288,
          0.19889955729190795,
          0.19934652240131134,
          0.19946859620178514,
          0.19926518137524388,
          0.19873727311342487,
          0.1978874510074651,
          0.19671985805096995,
          0.19524016699571412,
          0.19345553444227015,
          0.19137454318543307,
          0.1890071334643174,
          0.18636452388760075,
          0.18345912291388608,
          0.18030443186407955,
          0.17691494052575044,
          0.1733060164776404,
          0.16949378931504006,
          0.16549503099314714,
          0.161327033525526,
          0.15700748527842856,
          0.1525543470893109,
          0.14798572940993074,
          0.1433197716317204,
          0.1385745246947026,
          0.13376783801223835,
          0.12891725166373777,
          0.12403989471761923,
          0.11915239044887775,
          0.11427076911131247,
          0.10941038881547833,
          0.10458586495152607,
          0.09981100848298194,
          0.09509877332487993,
          0.09046121290908202,
          0.08590944593260547,
          0.08145363118269633,
          0.07710295123647005,
          0.07286560474426816,
          0.06874880692535572,
          0.06475879783294587
         ]
        }
       ],
       "layout": {
        "autosize": false,
        "height": 400,
        "template": {
         "data": {
          "bar": [
           {
            "error_x": {
             "color": "#2a3f5f"
            },
            "error_y": {
             "color": "#2a3f5f"
            },
            "marker": {
             "line": {
              "color": "white",
              "width": 0.5
             }
            },
            "type": "bar"
           }
          ],
          "barpolar": [
           {
            "marker": {
             "line": {
              "color": "white",
              "width": 0.5
             }
            },
            "type": "barpolar"
           }
          ],
          "carpet": [
           {
            "aaxis": {
             "endlinecolor": "#2a3f5f",
             "gridcolor": "#C8D4E3",
             "linecolor": "#C8D4E3",
             "minorgridcolor": "#C8D4E3",
             "startlinecolor": "#2a3f5f"
            },
            "baxis": {
             "endlinecolor": "#2a3f5f",
             "gridcolor": "#C8D4E3",
             "linecolor": "#C8D4E3",
             "minorgridcolor": "#C8D4E3",
             "startlinecolor": "#2a3f5f"
            },
            "type": "carpet"
           }
          ],
          "choropleth": [
           {
            "colorbar": {
             "outlinewidth": 0,
             "ticks": ""
            },
            "type": "choropleth"
           }
          ],
          "contour": [
           {
            "colorbar": {
             "outlinewidth": 0,
             "ticks": ""
            },
            "colorscale": [
             [
              0,
              "#0d0887"
             ],
             [
              0.1111111111111111,
              "#46039f"
             ],
             [
              0.2222222222222222,
              "#7201a8"
             ],
             [
              0.3333333333333333,
              "#9c179e"
             ],
             [
              0.4444444444444444,
              "#bd3786"
             ],
             [
              0.5555555555555556,
              "#d8576b"
             ],
             [
              0.6666666666666666,
              "#ed7953"
             ],
             [
              0.7777777777777778,
              "#fb9f3a"
             ],
             [
              0.8888888888888888,
              "#fdca26"
             ],
             [
              1,
              "#f0f921"
             ]
            ],
            "type": "contour"
           }
          ],
          "contourcarpet": [
           {
            "colorbar": {
             "outlinewidth": 0,
             "ticks": ""
            },
            "type": "contourcarpet"
           }
          ],
          "heatmap": [
           {
            "colorbar": {
             "outlinewidth": 0,
             "ticks": ""
            },
            "colorscale": [
             [
              0,
              "#0d0887"
             ],
             [
              0.1111111111111111,
              "#46039f"
             ],
             [
              0.2222222222222222,
              "#7201a8"
             ],
             [
              0.3333333333333333,
              "#9c179e"
             ],
             [
              0.4444444444444444,
              "#bd3786"
             ],
             [
              0.5555555555555556,
              "#d8576b"
             ],
             [
              0.6666666666666666,
              "#ed7953"
             ],
             [
              0.7777777777777778,
              "#fb9f3a"
             ],
             [
              0.8888888888888888,
              "#fdca26"
             ],
             [
              1,
              "#f0f921"
             ]
            ],
            "type": "heatmap"
           }
          ],
          "heatmapgl": [
           {
            "colorbar": {
             "outlinewidth": 0,
             "ticks": ""
            },
            "colorscale": [
             [
              0,
              "#0d0887"
             ],
             [
              0.1111111111111111,
              "#46039f"
             ],
             [
              0.2222222222222222,
              "#7201a8"
             ],
             [
              0.3333333333333333,
              "#9c179e"
             ],
             [
              0.4444444444444444,
              "#bd3786"
             ],
             [
              0.5555555555555556,
              "#d8576b"
             ],
             [
              0.6666666666666666,
              "#ed7953"
             ],
             [
              0.7777777777777778,
              "#fb9f3a"
             ],
             [
              0.8888888888888888,
              "#fdca26"
             ],
             [
              1,
              "#f0f921"
             ]
            ],
            "type": "heatmapgl"
           }
          ],
          "histogram": [
           {
            "marker": {
             "colorbar": {
              "outlinewidth": 0,
              "ticks": ""
             }
            },
            "type": "histogram"
           }
          ],
          "histogram2d": [
           {
            "colorbar": {
             "outlinewidth": 0,
             "ticks": ""
            },
            "colorscale": [
             [
              0,
              "#0d0887"
             ],
             [
              0.1111111111111111,
              "#46039f"
             ],
             [
              0.2222222222222222,
              "#7201a8"
             ],
             [
              0.3333333333333333,
              "#9c179e"
             ],
             [
              0.4444444444444444,
              "#bd3786"
             ],
             [
              0.5555555555555556,
              "#d8576b"
             ],
             [
              0.6666666666666666,
              "#ed7953"
             ],
             [
              0.7777777777777778,
              "#fb9f3a"
             ],
             [
              0.8888888888888888,
              "#fdca26"
             ],
             [
              1,
              "#f0f921"
             ]
            ],
            "type": "histogram2d"
           }
          ],
          "histogram2dcontour": [
           {
            "colorbar": {
             "outlinewidth": 0,
             "ticks": ""
            },
            "colorscale": [
             [
              0,
              "#0d0887"
             ],
             [
              0.1111111111111111,
              "#46039f"
             ],
             [
              0.2222222222222222,
              "#7201a8"
             ],
             [
              0.3333333333333333,
              "#9c179e"
             ],
             [
              0.4444444444444444,
              "#bd3786"
             ],
             [
              0.5555555555555556,
              "#d8576b"
             ],
             [
              0.6666666666666666,
              "#ed7953"
             ],
             [
              0.7777777777777778,
              "#fb9f3a"
             ],
             [
              0.8888888888888888,
              "#fdca26"
             ],
             [
              1,
              "#f0f921"
             ]
            ],
            "type": "histogram2dcontour"
           }
          ],
          "mesh3d": [
           {
            "colorbar": {
             "outlinewidth": 0,
             "ticks": ""
            },
            "type": "mesh3d"
           }
          ],
          "parcoords": [
           {
            "line": {
             "colorbar": {
              "outlinewidth": 0,
              "ticks": ""
             }
            },
            "type": "parcoords"
           }
          ],
          "pie": [
           {
            "automargin": true,
            "type": "pie"
           }
          ],
          "scatter": [
           {
            "marker": {
             "colorbar": {
              "outlinewidth": 0,
              "ticks": ""
             }
            },
            "type": "scatter"
           }
          ],
          "scatter3d": [
           {
            "line": {
             "colorbar": {
              "outlinewidth": 0,
              "ticks": ""
             }
            },
            "marker": {
             "colorbar": {
              "outlinewidth": 0,
              "ticks": ""
             }
            },
            "type": "scatter3d"
           }
          ],
          "scattercarpet": [
           {
            "marker": {
             "colorbar": {
              "outlinewidth": 0,
              "ticks": ""
             }
            },
            "type": "scattercarpet"
           }
          ],
          "scattergeo": [
           {
            "marker": {
             "colorbar": {
              "outlinewidth": 0,
              "ticks": ""
             }
            },
            "type": "scattergeo"
           }
          ],
          "scattergl": [
           {
            "marker": {
             "colorbar": {
              "outlinewidth": 0,
              "ticks": ""
             }
            },
            "type": "scattergl"
           }
          ],
          "scattermapbox": [
           {
            "marker": {
             "colorbar": {
              "outlinewidth": 0,
              "ticks": ""
             }
            },
            "type": "scattermapbox"
           }
          ],
          "scatterpolar": [
           {
            "marker": {
             "colorbar": {
              "outlinewidth": 0,
              "ticks": ""
             }
            },
            "type": "scatterpolar"
           }
          ],
          "scatterpolargl": [
           {
            "marker": {
             "colorbar": {
              "outlinewidth": 0,
              "ticks": ""
             }
            },
            "type": "scatterpolargl"
           }
          ],
          "scatterternary": [
           {
            "marker": {
             "colorbar": {
              "outlinewidth": 0,
              "ticks": ""
             }
            },
            "type": "scatterternary"
           }
          ],
          "surface": [
           {
            "colorbar": {
             "outlinewidth": 0,
             "ticks": ""
            },
            "colorscale": [
             [
              0,
              "#0d0887"
             ],
             [
              0.1111111111111111,
              "#46039f"
             ],
             [
              0.2222222222222222,
              "#7201a8"
             ],
             [
              0.3333333333333333,
              "#9c179e"
             ],
             [
              0.4444444444444444,
              "#bd3786"
             ],
             [
              0.5555555555555556,
              "#d8576b"
             ],
             [
              0.6666666666666666,
              "#ed7953"
             ],
             [
              0.7777777777777778,
              "#fb9f3a"
             ],
             [
              0.8888888888888888,
              "#fdca26"
             ],
             [
              1,
              "#f0f921"
             ]
            ],
            "type": "surface"
           }
          ],
          "table": [
           {
            "cells": {
             "fill": {
              "color": "#EBF0F8"
             },
             "line": {
              "color": "white"
             }
            },
            "header": {
             "fill": {
              "color": "#C8D4E3"
             },
             "line": {
              "color": "white"
             }
            },
            "type": "table"
           }
          ]
         },
         "layout": {
          "annotationdefaults": {
           "arrowcolor": "#2a3f5f",
           "arrowhead": 0,
           "arrowwidth": 1
          },
          "coloraxis": {
           "colorbar": {
            "outlinewidth": 0,
            "ticks": ""
           }
          },
          "colorscale": {
           "diverging": [
            [
             0,
             "#8e0152"
            ],
            [
             0.1,
             "#c51b7d"
            ],
            [
             0.2,
             "#de77ae"
            ],
            [
             0.3,
             "#f1b6da"
            ],
            [
             0.4,
             "#fde0ef"
            ],
            [
             0.5,
             "#f7f7f7"
            ],
            [
             0.6,
             "#e6f5d0"
            ],
            [
             0.7,
             "#b8e186"
            ],
            [
             0.8,
             "#7fbc41"
            ],
            [
             0.9,
             "#4d9221"
            ],
            [
             1,
             "#276419"
            ]
           ],
           "sequential": [
            [
             0,
             "#0d0887"
            ],
            [
             0.1111111111111111,
             "#46039f"
            ],
            [
             0.2222222222222222,
             "#7201a8"
            ],
            [
             0.3333333333333333,
             "#9c179e"
            ],
            [
             0.4444444444444444,
             "#bd3786"
            ],
            [
             0.5555555555555556,
             "#d8576b"
            ],
            [
             0.6666666666666666,
             "#ed7953"
            ],
            [
             0.7777777777777778,
             "#fb9f3a"
            ],
            [
             0.8888888888888888,
             "#fdca26"
            ],
            [
             1,
             "#f0f921"
            ]
           ],
           "sequentialminus": [
            [
             0,
             "#0d0887"
            ],
            [
             0.1111111111111111,
             "#46039f"
            ],
            [
             0.2222222222222222,
             "#7201a8"
            ],
            [
             0.3333333333333333,
             "#9c179e"
            ],
            [
             0.4444444444444444,
             "#bd3786"
            ],
            [
             0.5555555555555556,
             "#d8576b"
            ],
            [
             0.6666666666666666,
             "#ed7953"
            ],
            [
             0.7777777777777778,
             "#fb9f3a"
            ],
            [
             0.8888888888888888,
             "#fdca26"
            ],
            [
             1,
             "#f0f921"
            ]
           ]
          },
          "colorway": [
           "#636efa",
           "#EF553B",
           "#00cc96",
           "#ab63fa",
           "#FFA15A",
           "#19d3f3",
           "#FF6692",
           "#B6E880",
           "#FF97FF",
           "#FECB52"
          ],
          "font": {
           "color": "#2a3f5f"
          },
          "geo": {
           "bgcolor": "white",
           "lakecolor": "white",
           "landcolor": "white",
           "showlakes": true,
           "showland": true,
           "subunitcolor": "#C8D4E3"
          },
          "hoverlabel": {
           "align": "left"
          },
          "hovermode": "closest",
          "mapbox": {
           "style": "light"
          },
          "paper_bgcolor": "white",
          "plot_bgcolor": "white",
          "polar": {
           "angularaxis": {
            "gridcolor": "#EBF0F8",
            "linecolor": "#EBF0F8",
            "ticks": ""
           },
           "bgcolor": "white",
           "radialaxis": {
            "gridcolor": "#EBF0F8",
            "linecolor": "#EBF0F8",
            "ticks": ""
           }
          },
          "scene": {
           "xaxis": {
            "backgroundcolor": "white",
            "gridcolor": "#DFE8F3",
            "gridwidth": 2,
            "linecolor": "#EBF0F8",
            "showbackground": true,
            "ticks": "",
            "zerolinecolor": "#EBF0F8"
           },
           "yaxis": {
            "backgroundcolor": "white",
            "gridcolor": "#DFE8F3",
            "gridwidth": 2,
            "linecolor": "#EBF0F8",
            "showbackground": true,
            "ticks": "",
            "zerolinecolor": "#EBF0F8"
           },
           "zaxis": {
            "backgroundcolor": "white",
            "gridcolor": "#DFE8F3",
            "gridwidth": 2,
            "linecolor": "#EBF0F8",
            "showbackground": true,
            "ticks": "",
            "zerolinecolor": "#EBF0F8"
           }
          },
          "shapedefaults": {
           "line": {
            "color": "#2a3f5f"
           }
          },
          "ternary": {
           "aaxis": {
            "gridcolor": "#DFE8F3",
            "linecolor": "#A2B1C6",
            "ticks": ""
           },
           "baxis": {
            "gridcolor": "#DFE8F3",
            "linecolor": "#A2B1C6",
            "ticks": ""
           },
           "bgcolor": "white",
           "caxis": {
            "gridcolor": "#DFE8F3",
            "linecolor": "#A2B1C6",
            "ticks": ""
           }
          },
          "title": {
           "x": 0.05
          },
          "xaxis": {
           "automargin": true,
           "gridcolor": "#EBF0F8",
           "linecolor": "#EBF0F8",
           "ticks": "",
           "title": {
            "standoff": 15
           },
           "zerolinecolor": "#EBF0F8",
           "zerolinewidth": 2
          },
          "yaxis": {
           "automargin": true,
           "gridcolor": "#EBF0F8",
           "linecolor": "#EBF0F8",
           "ticks": "",
           "title": {
            "standoff": 15
           },
           "zerolinecolor": "#EBF0F8",
           "zerolinewidth": 2
          }
         }
        },
        "title": {
         "text": "Univariate Normal Distribution (with different means and sigmas)"
        },
        "width": 650,
        "xaxis": {
         "autorange": true,
         "range": [
          -3,
          5
         ],
         "title": {
          "text": "x"
         },
         "type": "linear"
        },
        "yaxis": {
         "autorange": true,
         "range": [
          -0.0443178755802309,
          0.842039636024387
         ],
         "title": {
          "text": "density p(x)"
         },
         "type": "linear"
        }
       }
      },
      "image/png": "[encoded data removed]"
     },
     "metadata": {},
     "output_type": "display_data"
    }
   ],
   "source": [
    "# use Gaussian to generate probabilities for a set of points\n",
    "x = np.linspace(-3, 5, 100)\n",
    "y1 = uni_normal(x, 0, 1)\n",
    "y2 = uni_normal(x, 0, 0.5)\n",
    "y3 = uni_normal(x, 2, 2)\n",
    "\n",
    "fig = go.Figure()\n",
    "fig.add_trace(go.Scatter(x=x, y=y1, mode='lines', name='mean=0, sigma=1', opacity=0.8))\n",
    "fig.add_trace(go.Scatter(x=x, y=y2, mode='lines', name='mean=0, sigma=0.5', opacity=0.8))\n",
    "fig.add_trace(go.Scatter(x=x, y=y3, mode='lines', name='mean=2, sigma=2', opacity=0.8))\n",
    "fig.update_layout(autosize=False, width=650, height=400,\n",
    "    xaxis_title=\"x\", yaxis_title=\"density p(x)\",\n",
    "    title='Univariate Normal Distribution (with different means and sigmas)')\n",
    "fig.show()"
   ]
  },
  {
   "cell_type": "markdown",
   "metadata": {},
   "source": [
    "#### Multivariate Gaussian\n",
    "\n",
    "Multivariate normal distribution is used for analysis of mutliple random variables (for example $x_1$ and $x_2$). Similarly to the univariate case, it is defined by a two parameters:\n",
    "- mean vector $\\mu$\n",
    "- covariance matrix $\\Sigma$, which measures how correlated each pair of variables is\n",
    "\n",
    "The quation below describes a join probability for the multivariate normal with $d$ variables (i.e. the dimension of the dataset):\n",
    "\n",
    "$$\n",
    "p(x|\\mu,\\Sigma)=\\frac{1}{\\sqrt{(2\\pi)^2|\\Sigma|}}exp(-\\frac{1}{2}(x-\\mu)^T \\Sigma^{-1} (x-\\mu))\n",
    "$$\n",
    "\n",
    ", where $x$ is this time a vector of values (of size $d$), $\\Sigma$ is the symmetric and positive definite covariance matrix (of size $dxd$), and $|\\Sigma|$ is its determinant.\n",
    "\n",
    "As a shorthand, we use $\\mathcal{N}(\\mu, \\Sigma)$ to denote this distribution.\n",
    "\n",
    "Below are a two examples of multivariate Gaussian distribution:\n",
    "- first example shows 2 uncorrelated variables. Change in $x_1$ does not mean a change in $x_2$ ($0, 0$ diagonals in $\\Sigma$):\n",
    "\n",
    "$$\n",
    "\\mathcal{N}\\left(\\begin{bmatrix} 0 \\\\ 0 \\end{bmatrix}, \\begin{bmatrix} 1 & 0 \\\\ 0 & 1 \\end{bmatrix}\\right)\n",
    "$$\n",
    "\n",
    "- second example shows 2 highly correlated variables. When $x_1$ increases, $x_2$ will increase also ($0.9, 0.9$ diagonals in $\\Sigma$):\n",
    "\n",
    "$$\n",
    "\\mathcal{N}\\left(\\begin{bmatrix} 1 \\\\ 2 \\end{bmatrix}, \\begin{bmatrix} 1 & 0.9 \\\\ 0.9 & 1 \\end{bmatrix}\\right)\n",
    "$$"
   ]
  },
  {
   "cell_type": "code",
   "execution_count": 58,
   "metadata": {},
   "outputs": [],
   "source": [
    "def multi_normal(x, d, mean, covariance):\n",
    "    \"\"\"pdf of the multivariate normal distribution.\"\"\"\n",
    "    x_m = x - mean\n",
    "    return (1. / (np.sqrt((2 * np.pi)**d * np.linalg.det(covariance))) * \n",
    "            np.exp(-(np.linalg.solve(covariance, x_m).T.dot(x_m)) / 2))"
   ]
  },
  {
   "cell_type": "code",
   "execution_count": 78,
   "metadata": {},
   "outputs": [
    {
     "data": {
      "image/png": "[encoded data removed]",
      "text/plain": [
       "<Figure size 576x288 with 3 Axes>"
      ]
     },
     "metadata": {},
     "output_type": "display_data"
    }
   ],
   "source": [
    "# Plot bivariate distribution\n",
    "def generate_surface(mean, covariance, d):\n",
    "    \"\"\"Helper function to generate density surface.\"\"\"\n",
    "    nb_of_x = 100 # grid size\n",
    "    x1s = np.linspace(-5, 5, num=nb_of_x)\n",
    "    x2s = np.linspace(-5, 5, num=nb_of_x)\n",
    "    x1, x2 = np.meshgrid(x1s, x2s) # Generate grid\n",
    "    pdf = np.zeros((nb_of_x, nb_of_x))\n",
    "    # Fill the cost matrix for each combination of weights\n",
    "    for i in range(nb_of_x):\n",
    "        for j in range(nb_of_x):\n",
    "            pdf[i,j] = multi_normal(np.matrix([[x1[i,j]], [x2[i,j]]]), d, mean, covariance)\n",
    "    return x1, x2, pdf\n",
    "\n",
    "# Import colormaps\n",
    "from matplotlib import cm\n",
    "\n",
    "# subplot\n",
    "fig, (ax1, ax2) = plt.subplots(nrows=1, ncols=2, figsize=(8,4))\n",
    "d = 2  # number of dimensions\n",
    "\n",
    "# Plot of independent Normals\n",
    "bivariate_mean = np.matrix([[0.], [0.]])  # Mean\n",
    "bivariate_covariance = np.matrix([\n",
    "    [1., 0.], \n",
    "    [0., 1.]])  # Covariance\n",
    "x1, x2, p = generate_surface(\n",
    "    bivariate_mean, bivariate_covariance, d)\n",
    "# Plot bivariate distribution\n",
    "con = ax1.contourf(x1, x2, p, 100, cmap=cm.YlGnBu)\n",
    "ax1.set_xlabel('$x_1$', fontsize=13)\n",
    "ax1.set_ylabel('$x_2$', fontsize=13)\n",
    "ax1.axis([-2.5, 2.5, -2.5, 2.5])\n",
    "ax1.set_aspect('equal')\n",
    "ax1.set_title('Independent variables', fontsize=12)\n",
    "\n",
    "# Plot of correlated Normals\n",
    "bivariate_mean = np.matrix([[1.], [2.]])  # Mean\n",
    "bivariate_covariance = np.matrix([\n",
    "    [1., 0.9], \n",
    "    [0.9, 1.]])  # Covariance\n",
    "x1, x2, p = generate_surface(\n",
    "    bivariate_mean, bivariate_covariance, d)\n",
    "# Plot bivariate distribution\n",
    "con = ax2.contourf(x1, x2, p, 100, cmap=cm.YlGnBu)\n",
    "ax2.set_xlabel('$x_1$', fontsize=13)\n",
    "ax2.set_ylabel('$x_2$', fontsize=13)\n",
    "ax2.axis([-1.5, 3.5, -0.5, 4.5])\n",
    "ax2.set_aspect('equal')\n",
    "ax2.set_title('Correlated variables', fontsize=12)\n",
    "\n",
    "# Add colorbar and title\n",
    "fig.subplots_adjust(right=0.8)\n",
    "cbar_ax = fig.add_axes([0.85, 0.15, 0.02, 0.7])\n",
    "cbar = fig.colorbar(con, cax=cbar_ax)\n",
    "cbar.ax.set_ylabel('$p(x_1, x_2)$', fontsize=13)\n",
    "plt.suptitle('Bivariate normal distributions', fontsize=13, y=0.95)\n",
    "plt.show()"
   ]
  },
  {
   "cell_type": "markdown",
   "metadata": {},
   "source": [
    "Sampling from a multivariate distribution can be done by sampling from the standard normal $X~\\mathcal{N}(0, I_d)$, where $\\mu=0$ and covariance is the identity matrix $I_d$.\n",
    "\n",
    "Then we apply an *affine transformation* to $X$, where $Y=LX+\\mu$ and covariance $\\Sigma_y=LL^T$ (we can ommit the $\\Sigma$ from the affine transform, as it is an identity matrix.\n",
    "\n",
    "The next step is to find $L$ and this is done using a technique called the **Cholesky decomposition** (Cholesky 1910)  used for efficient numerical solutions.\n",
    "\n",
    "A pseudo-code below can be used to sample from the Correlated examples above:\n",
    "\n",
    "```python\n",
    "mean, covariance = np.matrix([[1.], [2.]]), np.matrix([[1, 0.8], [0.8, 1]]) # Define mean and covariance\n",
    "L = np.linalg.cholesky(covariance) # Apply Cholesky to find L\n",
    "X = np.random.normal(size=(50, 2)) # Sample X from standard normal\n",
    "Y = L.dot(X) + mean # Apply the transformation\n",
    "```\n",
    "\n",
    "The conditional distribution for $x$ given $y$ is defined as $p(x|y)=\\mathcal{N}(\\mu_{x|y}, \\Sigma_{x|y})$, with:\n",
    "\n",
    "$$\n",
    "\\mu_{x|y}=\\mu_x+CB^{-1}(y-\\mu_y)\n",
    "$$\n",
    "\n",
    "$$\n",
    "\\Sigma_{x|y}=A-CB^{-1}C^T=\\tilde{A}^{-1}\n",
    "$$\n",
    "\n",
    ", with the symbols explained below:\n",
    "\n",
    "$$\n",
    "\\begin{bmatrix} x \\\\ y \\end{bmatrix} \\sim \\mathcal{N}\\left(\\begin{bmatrix} \\mu_x \\\\ \\mu_y \\end{bmatrix}, \\begin{bmatrix} A & C \\\\ C^T & B\\end{bmatrix}\\right) = \\mathcal{N}(\\mu, \\Sigma)\n",
    "$$\n",
    "\n",
    "Pseudo-code to find means and covariances is now simple and can be found below:\n",
    "\n",
    "- Calculate $x|y$:\n",
    "\n",
    "```python\n",
    "y_condition = 1.  # To condition on y\n",
    "mean_xgiveny = mean_x + (C * (1/B) * (y_condition - mean_y))\n",
    "cov_xgiveny = A - C * (1/B) * C\n",
    "```\n",
    "\n",
    "- Calculate $y|x$\n",
    "\n",
    "```python\n",
    "x_condition = -1.  # To condition on x\n",
    "mean_ygivenx = mean_y + (C * (1/A) * (x_condition - mean_x))\n",
    "cov_ygivenx = B - (C * (1/A) * C)\n",
    "```"
   ]
  },
  {
   "cell_type": "markdown",
   "metadata": {},
   "source": [
    "#### Gaussian Process\n",
    "\n",
    "Gaussian process is a stochastic process ([Wikipedia, 2020](https://en.wikipedia.org/wiki/Gaussian_process)) involving random variables, represented by a miltivariate normal distribution. It is a joint distribution over inifitely many random variables, and as such, it is a distribution over functions $f(x)$ with a continous domain.\n",
    "\n",
    "When used in the Machine Learning context, a concept of kernel function (measuring similarity between points) is used to predict values for unseen data points.\n",
    "\n",
    "A practical benefit from such an approach is that the result is not only a point estimate, but also a range of standard deviations, which can be interpreted as an uncertainty.\n",
    "\n",
    "The difference between the multivariate Gaussian and Gaussian process is that Gaussian processes operate on $mu$ and $\\Sigma$ defined as a function, which removes the limitation of the finite number of jointly distributed Gaussians.\n",
    "\n",
    "Gaussian process is defined as:\n",
    "\n",
    "$$\n",
    "f(x) \\sim \\mathcal{GP}(m(x), k(x,x'))\n",
    "$$\n",
    "\n",
    ", where $m(x)$ is a mean function and $k(x,x')$ is a covariance function.\n",
    "\n",
    "In the Bayesian language, selecting the specification for the covariance function (called the kernel function), is setting a prior information. Kernel again needs to be positive-definite to be a valid function.\n",
    "\n",
    "The most popular kernel function is the exponential quadratic (RBF kernel), which produces a smooth function, and this is in fact the function used in this research. It is given by:\n",
    "\n",
    "$$\n",
    "k(x_a, x_b)=exp(-\\frac{1}{2\\sigma^2}\\|x_a-x_b\\|^2)\n",
    "$$\n",
    "\n",
    "We can sample from prior using a finite number of points. This results in a marginal distibution that is Gaussian."
   ]
  },
  {
   "cell_type": "code",
   "execution_count": 84,
   "metadata": {},
   "outputs": [],
   "source": [
    "from scipy.spatial.distance import cdist\n",
    "# Define the exponentiated quadratic \n",
    "def exponentiated_quadratic(xa, xb):\n",
    "    \"\"\"Exponentiated quadratic  with σ=1\"\"\"\n",
    "    # L2 distance (Squared Euclidian)\n",
    "    sq_norm = -0.5 * cdist(xa, xb, 'sqeuclidean')\n",
    "    return np.exp(sq_norm)"
   ]
  },
  {
   "cell_type": "code",
   "execution_count": 95,
   "metadata": {},
   "outputs": [],
   "source": [
    "# Sample from the Gaussian process distribution\n",
    "nb_of_samples = 150  # Number of points in each function\n",
    "number_of_functions = 5  # Number of functions to sample\n",
    "# Independent variable samples\n",
    "X = np.expand_dims(np.linspace(-4, 4, nb_of_samples), 1)\n",
    "kernel = exponentiated_quadratic(X, X)  # Kernel of data points\n",
    "\n",
    "# Draw samples from the prior at our data points.\n",
    "# Assume a mean of 0 for simplicity\n",
    "ys = np.random.multivariate_normal(\n",
    "    mean=np.zeros(nb_of_samples), cov=kernel, \n",
    "    size=number_of_functions)"
   ]
  },
  {
   "cell_type": "code",
   "execution_count": 96,
   "metadata": {},
   "outputs": [
    {
     "data": {
      "application/vnd.plotly.v1+json": {
       "config": {
        "plotlyServerURL": "https://plot.ly"
       },
       "data": [
        {
         "mode": "lines",
         "name": "realization 1",
         "opacity": 0.8,
         "type": "scatter",
         "y": [
          -0.34753495550518404,
          -0.3456536837651446,
          -0.34255433886452796,
          -0.33772294875389747,
          -0.330665477685343,
          -0.32092102662184596,
          -0.30807110629466133,
          -0.2917485268314644,
          -0.27164332272940067,
          -0.24750953398296266,
          -0.2191665916760145,
          -0.18650379632167952,
          -0.14947961465742346,
          -0.10812278360445415,
          -0.06253028720274742,
          -0.012866024901324376,
          0.04064176641786666,
          0.09770393418042592,
          0.15797407571430538,
          0.221052609423702,
          0.28649196675609595,
          0.3538021331448544,
          0.422455720405592,
          0.4918956319281422,
          0.5615416713830458,
          0.6307979727932287,
          0.6990619069890056,
          0.7657326138117102,
          0.830219512966362,
          0.8919521741320237,
          0.9503889574991826,
          1.0050267146048104,
          1.0554081016016126,
          1.1011300695880895,
          1.1418504838516057,
          1.1772930987779076,
          1.2072523802534967,
          1.2315953616828341,
          1.2502629705062511,
          1.2632690594226703,
          1.2706982869796144,
          1.2727017698019925,
          1.2694925266188102,
          1.2613384443455067,
          1.2485558787297286,
          1.2315014270208697,
          1.2105640790473375,
          1.1861576282060988,
          1.158712155062155,
          1.1286678284392153,
          1.096467797078074,
          1.0625531352206694,
          1.0273569924270667,
          0.9913021637902901,
          0.9547969873094004,
          0.9182333883251422,
          0.8819845968602906,
          0.8464054162264291,
          0.8118300529945732,
          0.7785719702802173,
          0.7469237669488097,
          0.7171559643379452,
          0.6895169653899117,
          0.6642320827577985,
          0.6415019781039526,
          0.6215019458798188,
          0.6043799253025378,
          0.590254975253623,
          0.579214538061659,
          0.5713131157661846,
          0.5665689868811629,
          0.5649621847560126,
          0.5664321951301291,
          0.5708754471851849,
          0.5781433687460651,
          0.5880410135273986,
          0.6003260057838535,
          0.614708786046396,
          0.63085285974273,
          0.6483780507820676,
          0.6668626734123048,
          0.6858500220238857,
          0.7048544088574269,
          0.7233695608355966,
          0.7408794789264865,
          0.7568698101991472,
          0.7708408955336316,
          0.7823226487925441,
          0.7908885408799088,
          0.7961715382645527,
          0.7978778063204612,
          0.7958016657592306,
          0.7898358174909583,
          0.7799831439081323,
          0.7663618787153823,
          0.7492108661239724,
          0.728887774213875,
          0.7058671091376832,
          0.6807299131036343,
          0.6541541594051123,
          0.6268959791727501,
          0.5997726225369687,
          0.5736384099289513,
          0.5493611988324402,
          0.5277956435351433,
          0.5097572223346832,
          0.495995256956217,
          0.4871678823464176,
          0.4838193787072652,
          0.4863601959907724,
          0.4950499042747936,
          0.5099860320247495,
          0.5310958106244132,
          0.5581341963480175,
          0.5906865297152837,
          0.628175855238557,
          0.6698757101366158,
          0.7149259509779237,
          0.7623540479243297,
          0.8110979662177769,
          0.8600319045791113,
          0.9079944289516648,
          0.9538154438093724,
          0.9963450539977166,
          1.0344803106609182,
          1.0671908723627013,
          1.0935420500676785,
          1.1127152792165067,
          1.1240263277763973,
          1.1269376725585842,
          1.1210699880702655,
          1.1062081919558178,
          1.0823039902933047,
          1.0494747683353858,
          1.0079995448102608,
          0.9583117656871898,
          0.9009888115779456,
          0.8367388969531377,
          0.7663867664668442,
          0.6908564086817813,
          0.6111539771106838,
          0.5283481413285983,
          0.44355031460841515,
          0.357894817208123,
          0.27251892006562234,
          0.1885423752701917,
          0.10704892425252756,
          0.029067125294968046,
          -0.04444699762040843,
          -0.11262626982320625
         ]
        },
        {
         "mode": "lines",
         "name": "realization 2",
         "opacity": 0.8,
         "type": "scatter",
         "y": [
          0.8021829524074658,
          0.7383532928142418,
          0.6715178635818388,
          0.602099802367314,
          0.5304929000718902,
          0.4570462326962812,
          0.3820496634088251,
          0.3057233996689358,
          0.22820853688241827,
          0.14956454997758747,
          0.06976751928209454,
          -0.011286036313207869,
          -0.0937692983365328,
          -0.17791452353172316,
          -0.26399633199077127,
          -0.3523115655861783,
          -0.4431584302061375,
          -0.5368126832565909,
          -0.633502947278425,
          -0.7333866153725983,
          -0.8365283116737987,
          -0.9428784971981167,
          -1.0522573490932532,
          -1.1643422187127919,
          -1.2786594158164317,
          -1.3945828233304458,
          -1.511337079713538,
          -1.628006353152498,
          -1.743550464936685,
          -1.8568238781275315,
          -1.9666009582291364,
          -2.0716045675713426,
          -2.170536746101314,
          -2.262112418913494,
          -2.345092989647896,
          -2.4183184331500884,
          -2.4807407401097437,
          -2.5314509358816393,
          -2.569705577218641,
          -2.5949476156117597,
          -2.6068220750353666,
          -2.605187819486249,
          -2.5901223472485406,
          -2.561922160538574,
          -2.521097693595319,
          -2.468361993458399,
          -2.4046170083046827,
          -2.330933694852918,
          -2.2485304649039235,
          -2.1587475847693676,
          -2.063020053046749,
          -1.9628492250411484,
          -1.859774053093079,
          -1.7553406233927593,
          -1.6510750853307101,
          -1.5484541830571954,
          -1.4488811465404987,
          -1.3536598486581308,
          -1.2639742993754308,
          -1.180869279130505,
          -1.1052347627452808,
          -1.037792835670519,
          -0.9790885159967045,
          -0.9294842714391784,
          -0.8891577606424127,
          -0.8581028870952258,
          -0.8361352741228246,
          -0.822899814586086,
          -0.8178827640207538,
          -0.8204253409808299,
          -0.829740658200497,
          -0.8449333786558241,
          -0.8650186522952713,
          -0.8889456751272329,
          -0.9156192280337982,
          -0.9439227752414772,
          -0.9727412465448928,
          -1.0009827166066987,
          -1.0275996137866035,
          -1.0516072010475663,
          -1.0721015465107997,
          -1.0882752495485053,
          -1.0994294437204901,
          -1.1049844239282405,
          -1.1044879102144631,
          -1.0976191973101967,
          -1.0841923360917778,
          -1.0641543903659394,
          -1.0375835832665088,
          -1.0046824416371578,
          -0.9657706631920961,
          -0.9212735816578554,
          -0.8717108992724486,
          -0.8176822550190963,
          -0.7598509014541738,
          -0.6989278538841234,
          -0.6356546259477575,
          -0.5707848082408146,
          -0.5050672244447288,
          -0.43922879592604436,
          -0.3739590375836325,
          -0.3098954646012663,
          -0.24761160778151095,
          -0.1876077459208452,
          -0.1303028076732706,
          -0.07603107446347718,
          -0.02504093947863504,
          0.022503785490615564,
          0.06651759633957967,
          0.10698765371919822,
          0.1439616712165941,
          0.17753723416172065,
          0.2078486030590162,
          0.23505182217499715,
          0.2593111645320047,
          0.2807859568494668,
          0.2996171310997234,
          0.31591730733251755,
          0.32976206194913565,
          0.3411840389312169,
          0.3501702332030795,
          0.3566614283890868,
          0.360555187187126,
          0.36171167190796205,
          0.3599617501231876,
          0.35511612404469733,
          0.3469777988033239,
          0.33535395380025496,
          0.32006877523202976,
          0.3009755278811025,
          0.2779683938120527,
          0.2509928177501931,
          0.22005278642488107,
          0.18521815205832143,
          0.14662769393058286,
          0.10449044695871777,
          0.059084599656503776,
          0.010754614233128646,
          -0.04009515096625611,
          -0.09300739759702119,
          -0.14747998265368595,
          -0.2029763416689561,
          -0.25893542165563616,
          -0.3147818529567801,
          -0.36993651273039097,
          -0.4238261638812658,
          -0.47589222676674386,
          -0.5255997018709544,
          -0.5724430214211982,
          -0.6159535964756477
         ]
        },
        {
         "mode": "lines",
         "name": "realization 3",
         "opacity": 0.8,
         "type": "scatter",
         "y": [
          0.29180111339530335,
          0.31511335677075836,
          0.34169156193906364,
          0.3722482633411865,
          0.4073505858401929,
          0.4473981529306815,
          0.4926036202718848,
          0.5429809481695144,
          0.5983366383261796,
          0.6582682555680448,
          0.7221673428064962,
          0.7892293595562555,
          0.8584661704030478,
          0.9287264205507892,
          0.9987190310715572,
          1.0670402609889327,
          1.1322047188953757,
          1.1926786793105146,
          1.2469159695815921,
          1.2933943473762028,
          1.3306515174004632,
          1.357322544530924,
          1.3721742159487587,
          1.3741379995831202,
          1.3623400449962733,
          1.336128345982379,
          1.2950935179408012,
          1.239087249541087,
          1.1682344428734908,
          1.0829387817402578,
          0.9838832165036038,
          0.8720246044271559,
          0.7485808421815237,
          0.6150125567902044,
          0.4729993964485206,
          0.3244095535375049,
          0.17126529636402116,
          0.015703965697181032,
          -0.1400650541394763,
          -0.2938049421478002,
          -0.44329907613986086,
          -0.5863971689280632,
          -0.7210625326702957,
          -0.8454159374029763,
          -0.95777781400328,
          -1.056704009238091,
          -1.1410191072336677,
          -1.209841199698161,
          -1.2626000136257374,
          -1.2990486832739685,
          -1.3192652668034666,
          -1.3236488864161007,
          -1.3129035075336675,
          -1.28801945306537,
          -1.2502420137829497,
          -1.2010373936932395,
          -1.1420514836391296,
          -1.0750644842400814,
          -1.0019430796495774,
          -0.9245902011847779,
          -0.8448960793614547,
          -0.7646885774699156,
          -0.685688800504366,
          -0.6094687145823233,
          -0.5374160229937234,
          -0.4707042925638999,
          -0.41027059338579125,
          -0.3568001073455293,
          -0.3107213405184444,
          -0.2722062707911528,
          -0.24118034199261776,
          -0.2173387055022807,
          -0.2001704954092149,
          -0.18898765498218803,
          -0.18295837275436802,
          -0.18114501822219473,
          -0.18254279170510515,
          -0.18612064183981436,
          -0.19086028378566683,
          -0.19579403743434212,
          -0.2000397162695539,
          -0.2028309242483064,
          -0.20354229497185547,
          -0.20170979365690456,
          -0.19704317040725947,
          -0.18943355160525013,
          -0.1789522712112732,
          -0.16584538871655088,
          -0.1505207035088743,
          -0.13352893953551012,
          -0.11554080667505509,
          -0.09732023743716685,
          -0.0796940166876642,
          -0.06352025253305535,
          -0.049655724862557704,
          -0.03892433680389102,
          -0.032087093679192276,
          -0.029814028342972816,
          -0.03266113459459299,
          -0.04104979508657306,
          -0.05525347601120938,
          -0.07538761365945379,
          -0.10140585070199919,
          -0.13310241093832553,
          -0.1701187914202428,
          -0.21195538525180996,
          -0.25798775883841735,
          -0.3074869645277393,
          -0.3596407983690619,
          -0.4135785996068388,
          -0.46839659723788235,
          -0.5231825766432366,
          -0.5770396009811478,
          -0.6291098311088221,
          -0.6785924938537257,
          -0.724762486437787,
          -0.766982846716065,
          -0.804714612984441,
          -0.8375219227882693,
          -0.8650747114354659,
          -0.887145338248009,
          -0.903604034924552,
          -0.9144092431993133,
          -0.9195971254787031,
          -0.919268089031447,
          -0.9135717445222601,
          -0.90269325361441,
          -0.886837147342087,
          -0.8662149575492376,
          -0.8410315963419445,
          -0.8114763070963029,
          -0.7777145895992459,
          -0.7398851456872462,
          -0.6980976282962894,
          -0.6524361681721749,
          -0.6029655681183257,
          -0.5497398519979328,
          -0.49281496276293635,
          -0.4322629529901272,
          -0.3681884234448682,
          -0.3007448265799588,
          -0.23015171967552822,
          -0.15671089049685302,
          -0.08082014371150431,
          -0.00298488015852247,
          0.07617434446775005,
          0.15591738985748574,
          0.23538766362813257,
          0.3136166742503615,
          0.3895374964486646
         ]
        },
        {
         "mode": "lines",
         "name": "realization 4",
         "opacity": 0.8,
         "type": "scatter",
         "y": [
          -1.954589144769745,
          -2.0645483659312966,
          -2.1703815621786764,
          -2.271353120945099,
          -2.366767570093533,
          -2.4559760783774096,
          -2.538385250458894,
          -2.6134615535800525,
          -2.6807347487402384,
          -2.739801359966451,
          -2.7903236646733496,
          -2.8320308535034457,
          -2.86471678198617,
          -2.8882375371832816,
          -2.902508539278616,
          -2.907501199300394,
          -2.9032386643928567,
          -2.8897937551066533,
          -2.867285195720613,
          -2.8358746740775813,
          -2.7957650810046357,
          -2.747199057584875,
          -2.690458066437333,
          -2.6258618183336115,
          -2.553768547922489,
          -2.4745751581693045,
          -2.3887183309733335,
          -2.296675389802949,
          -2.198964273200998,
          -2.096144832384868,
          -1.9888183569587388,
          -1.8776276999349895,
          -1.763256010290069,
          -1.6464252372636183,
          -1.5278929667782515,
          -1.4084501541736623,
          -1.2889160109066915,
          -1.1701332459708207,
          -1.0529615225298137,
          -0.9382704974668414,
          -0.8269320651753537,
          -0.7198108398555368,
          -0.617753912476472,
          -0.5215814555598417,
          -0.43207395108633506,
          -0.3499606789176888,
          -0.2759080776828663,
          -0.21050625245195054,
          -0.15425744130161664,
          -0.10756409971958962,
          -0.07071703771117943,
          -0.043887287421412645,
          -0.027116345584753097,
          -0.02031079876708277,
          -0.023238482513429106,
          -0.03552681906741348,
          -0.056665601669446106,
          -0.08601109651100441,
          -0.12279544050689799,
          -0.16613670781577763,
          -0.21505563093487903,
          -0.26849120305859514,
          -0.32532152699912625,
          -0.3843853605793298,
          -0.44450549138487877,
          -0.5045122005562702,
          -0.5632665034428245,
          -0.6196838440674977,
          -0.6727547320022472,
          -0.7215642564678735,
          -0.7653082060201525,
          -0.8033065930371954,
          -0.8350140519226299,
          -0.8600256078001023,
          -0.8780791184431279,
          -0.8890556371066262,
          -0.8929752045979551,
          -0.8899894010796999,
          -0.8803731572996092,
          -0.8645130171487401,
          -0.842895646878394,
          -0.8160932072772628,
          -0.7847507137469762,
          -0.7495717611864995,
          -0.7113053612013229,
          -0.6707326875505747,
          -0.6286553598221674,
          -0.5858838986050711,
          -0.5432273118555264,
          -0.5014836926068817,
          -0.46143019352815423,
          -0.42381641666655373,
          -0.38935471503997676,
          -0.3587136580348856,
          -0.3325104723727518,
          -0.31130443762854676,
          -0.29558969046986505,
          -0.28578918015487154,
          -0.28224902730354456,
          -0.28523304922722637,
          -0.2949191571906789,
          -0.31139492701428223,
          -0.3346570484533988,
          -0.36460949633739764,
          -0.40106622094445826,
          -0.44375265194765723,
          -0.4923111061320279,
          -0.5463083954158697,
          -0.6052431613876208,
          -0.6685576866638813,
          -0.735649442922412,
          -0.8058844439859688,
          -0.8786134080588475,
          -0.9531858155119471,
          -1.0289670168494331,
          -1.1053540074562775,
          -1.1817908955346679,
          -1.2577835471641527,
          -1.3329128744102186,
          -1.406846167517484,
          -1.4793458476054548,
          -1.5502755603070493,
          -1.6196034631564513,
          -1.6874008845033175,
          -1.7538396806700138,
          -1.8191828830194399,
          -1.8837749145936655,
          -1.9480250470121796,
          -2.012391541875128,
          -2.077359077959194,
          -2.1434174369604317,
          -2.2110370089001536,
          -2.280644343318607,
          -2.3525985906393823,
          -2.427168110012968,
          -2.5045104512972,
          -2.584655229118629,
          -2.6674907134196357,
          -2.7527557584508218,
          -2.8400367941483458,
          -2.9287702541045944,
          -3.0182513503801225,
          -3.107648493078961,
          -3.196023364460577,
          -3.282354892261961,
          -3.3655687317913285,
          -3.44456892358082,
          -3.518271882519771,
          -3.585639982986567,
          -3.64571691727535
         ]
        },
        {
         "mode": "lines",
         "name": "realization 5",
         "opacity": 0.8,
         "type": "scatter",
         "y": [
          -1.4820267981751147,
          -1.4669716665362356,
          -1.4466124347202747,
          -1.421088559235212,
          -1.3905887270047494,
          -1.3553423363672588,
          -1.3156099376693973,
          -1.2716714737503012,
          -1.2238166325336886,
          -1.1723331401725505,
          -1.117498328897068,
          -1.0595701709356913,
          -0.9987820540031044,
          -0.9353377960239725,
          -0.8694111304026774,
          -0.8011473079913141,
          -0.7306664351270191,
          -0.6580718797128455,
          -0.5834582453792996,
          -0.5069235223697993,
          -0.42858313916309004,
          -0.34858246579542956,
          -0.2671121072469693,
          -0.18442205685600446,
          -0.1008340421926808,
          -0.01675182289558699,
          0.06732956988230622,
          0.15082044092563437,
          0.23303524389086672,
          0.3131962304925428,
          0.39044156172588074,
          0.4638382961050602,
          0.5323993541096064,
          0.5951056094444855,
          0.6509301871741415,
          0.6988672935820128,
          0.737961640736901,
          0.7673403308740835,
          0.7862438658636782,
          0.7940566552208508,
          0.7903340149725149,
          0.7748278995818019,
          0.7475059346125074,
          0.7085664316107015,
          0.6584469467032951,
          0.5978259347297588,
          0.5276173621081593,
          0.4489580901214081,
          0.36318843829998043,
          0.27182620441077554,
          0.17653401790131165,
          0.07908263723456431,
          -0.01869014627917456,
          -0.11492390278727611,
          -0.20778025224480534,
          -0.2954879888005256,
          -0.37638778919308846,
          -0.4489718424217853,
          -0.5119214650601956,
          -0.5641383734867766,
          -0.6047701106418782,
          -0.6332280759723131,
          -0.6491992719479647,
          -0.6526488484115093,
          -0.6438167961587468,
          -0.6232054481575995,
          -0.5915622626770368,
          -0.549854364469143,
          -0.4992403767311272,
          -0.4410361279708947,
          -0.3766788996021369,
          -0.3076887102319466,
          -0.23563064804694842,
          -0.16207641713649926,
          -0.08856825556010356,
          -0.016585503886935204,
          0.052485508917239396,
          0.11737725727956659,
          0.17696303073045486,
          0.23027315409534382,
          0.2765066065306661,
          0.31503878922489886,
          0.34542304720995054,
          0.36738978726083915,
          0.38084032165255466,
          0.38583830635864474,
          0.3825989724187889,
          0.37147495797992636,
          0.3529413931168895,
          0.32758108529746743,
          0.29606731608821996,
          0.259148147218512,
          0.217629778849468,
          0.1723621365095737,
          0.12422382993439375,
          0.07410865755920924,
          0.022912895470057308,
          -0.028475699519909622,
          -0.07918938559087801,
          -0.1283893817600621,
          -0.17527507102921505,
          -0.21909109439004235,
          -0.25913576320207726,
          -0.2947668835945518,
          -0.3254075206709071,
          -0.3505511576364408,
          -0.36976677727492324,
          -0.38270150796937463,
          -0.38908429694404295,
          -0.38872796435474705,
          -0.3815299398945856,
          -0.3674730271993518,
          -0.34662457586894857,
          -0.3191342916561769,
          -0.28523237144019264,
          -0.24522484400886482,
          -0.19948951071019932,
          -0.14847039540834092,
          -0.09267166243369256,
          -0.03265039224031714,
          0.030990651263970485,
          0.09760939050203597,
          0.1665344376963322,
          0.23707035487411451,
          0.3085074239814505,
          0.38012750753994917,
          0.45121270962914445,
          0.5210510662445201,
          0.5889436310856736,
          0.6542105290019069,
          0.7161967345545431,
          0.7742776171948177,
          0.8278636386795599,
          0.8764053679781374,
          0.9193982673417537,
          0.9563867313666808,
          0.9869679064252613,
          1.0107955933273975,
          1.0275836455977883,
          1.0371084186004864,
          1.0392113565173462,
          1.0338013322208992,
          1.02085491639856,
          1.0004173994355217,
          0.9726026026167999,
          0.9375914083835024,
          0.8956301082925495,
          0.8470281679301135,
          0.7921541591922674,
          0.7314324744513835
         ]
        }
       ],
       "layout": {
        "autosize": false,
        "height": 400,
        "template": {
         "data": {
          "bar": [
           {
            "error_x": {
             "color": "#2a3f5f"
            },
            "error_y": {
             "color": "#2a3f5f"
            },
            "marker": {
             "line": {
              "color": "white",
              "width": 0.5
             }
            },
            "type": "bar"
           }
          ],
          "barpolar": [
           {
            "marker": {
             "line": {
              "color": "white",
              "width": 0.5
             }
            },
            "type": "barpolar"
           }
          ],
          "carpet": [
           {
            "aaxis": {
             "endlinecolor": "#2a3f5f",
             "gridcolor": "#C8D4E3",
             "linecolor": "#C8D4E3",
             "minorgridcolor": "#C8D4E3",
             "startlinecolor": "#2a3f5f"
            },
            "baxis": {
             "endlinecolor": "#2a3f5f",
             "gridcolor": "#C8D4E3",
             "linecolor": "#C8D4E3",
             "minorgridcolor": "#C8D4E3",
             "startlinecolor": "#2a3f5f"
            },
            "type": "carpet"
           }
          ],
          "choropleth": [
           {
            "colorbar": {
             "outlinewidth": 0,
             "ticks": ""
            },
            "type": "choropleth"
           }
          ],
          "contour": [
           {
            "colorbar": {
             "outlinewidth": 0,
             "ticks": ""
            },
            "colorscale": [
             [
              0,
              "#0d0887"
             ],
             [
              0.1111111111111111,
              "#46039f"
             ],
             [
              0.2222222222222222,
              "#7201a8"
             ],
             [
              0.3333333333333333,
              "#9c179e"
             ],
             [
              0.4444444444444444,
              "#bd3786"
             ],
             [
              0.5555555555555556,
              "#d8576b"
             ],
             [
              0.6666666666666666,
              "#ed7953"
             ],
             [
              0.7777777777777778,
              "#fb9f3a"
             ],
             [
              0.8888888888888888,
              "#fdca26"
             ],
             [
              1,
              "#f0f921"
             ]
            ],
            "type": "contour"
           }
          ],
          "contourcarpet": [
           {
            "colorbar": {
             "outlinewidth": 0,
             "ticks": ""
            },
            "type": "contourcarpet"
           }
          ],
          "heatmap": [
           {
            "colorbar": {
             "outlinewidth": 0,
             "ticks": ""
            },
            "colorscale": [
             [
              0,
              "#0d0887"
             ],
             [
              0.1111111111111111,
              "#46039f"
             ],
             [
              0.2222222222222222,
              "#7201a8"
             ],
             [
              0.3333333333333333,
              "#9c179e"
             ],
             [
              0.4444444444444444,
              "#bd3786"
             ],
             [
              0.5555555555555556,
              "#d8576b"
             ],
             [
              0.6666666666666666,
              "#ed7953"
             ],
             [
              0.7777777777777778,
              "#fb9f3a"
             ],
             [
              0.8888888888888888,
              "#fdca26"
             ],
             [
              1,
              "#f0f921"
             ]
            ],
            "type": "heatmap"
           }
          ],
          "heatmapgl": [
           {
            "colorbar": {
             "outlinewidth": 0,
             "ticks": ""
            },
            "colorscale": [
             [
              0,
              "#0d0887"
             ],
             [
              0.1111111111111111,
              "#46039f"
             ],
             [
              0.2222222222222222,
              "#7201a8"
             ],
             [
              0.3333333333333333,
              "#9c179e"
             ],
             [
              0.4444444444444444,
              "#bd3786"
             ],
             [
              0.5555555555555556,
              "#d8576b"
             ],
             [
              0.6666666666666666,
              "#ed7953"
             ],
             [
              0.7777777777777778,
              "#fb9f3a"
             ],
             [
              0.8888888888888888,
              "#fdca26"
             ],
             [
              1,
              "#f0f921"
             ]
            ],
            "type": "heatmapgl"
           }
          ],
          "histogram": [
           {
            "marker": {
             "colorbar": {
              "outlinewidth": 0,
              "ticks": ""
             }
            },
            "type": "histogram"
           }
          ],
          "histogram2d": [
           {
            "colorbar": {
             "outlinewidth": 0,
             "ticks": ""
            },
            "colorscale": [
             [
              0,
              "#0d0887"
             ],
             [
              0.1111111111111111,
              "#46039f"
             ],
             [
              0.2222222222222222,
              "#7201a8"
             ],
             [
              0.3333333333333333,
              "#9c179e"
             ],
             [
              0.4444444444444444,
              "#bd3786"
             ],
             [
              0.5555555555555556,
              "#d8576b"
             ],
             [
              0.6666666666666666,
              "#ed7953"
             ],
             [
              0.7777777777777778,
              "#fb9f3a"
             ],
             [
              0.8888888888888888,
              "#fdca26"
             ],
             [
              1,
              "#f0f921"
             ]
            ],
            "type": "histogram2d"
           }
          ],
          "histogram2dcontour": [
           {
            "colorbar": {
             "outlinewidth": 0,
             "ticks": ""
            },
            "colorscale": [
             [
              0,
              "#0d0887"
             ],
             [
              0.1111111111111111,
              "#46039f"
             ],
             [
              0.2222222222222222,
              "#7201a8"
             ],
             [
              0.3333333333333333,
              "#9c179e"
             ],
             [
              0.4444444444444444,
              "#bd3786"
             ],
             [
              0.5555555555555556,
              "#d8576b"
             ],
             [
              0.6666666666666666,
              "#ed7953"
             ],
             [
              0.7777777777777778,
              "#fb9f3a"
             ],
             [
              0.8888888888888888,
              "#fdca26"
             ],
             [
              1,
              "#f0f921"
             ]
            ],
            "type": "histogram2dcontour"
           }
          ],
          "mesh3d": [
           {
            "colorbar": {
             "outlinewidth": 0,
             "ticks": ""
            },
            "type": "mesh3d"
           }
          ],
          "parcoords": [
           {
            "line": {
             "colorbar": {
              "outlinewidth": 0,
              "ticks": ""
             }
            },
            "type": "parcoords"
           }
          ],
          "pie": [
           {
            "automargin": true,
            "type": "pie"
           }
          ],
          "scatter": [
           {
            "marker": {
             "colorbar": {
              "outlinewidth": 0,
              "ticks": ""
             }
            },
            "type": "scatter"
           }
          ],
          "scatter3d": [
           {
            "line": {
             "colorbar": {
              "outlinewidth": 0,
              "ticks": ""
             }
            },
            "marker": {
             "colorbar": {
              "outlinewidth": 0,
              "ticks": ""
             }
            },
            "type": "scatter3d"
           }
          ],
          "scattercarpet": [
           {
            "marker": {
             "colorbar": {
              "outlinewidth": 0,
              "ticks": ""
             }
            },
            "type": "scattercarpet"
           }
          ],
          "scattergeo": [
           {
            "marker": {
             "colorbar": {
              "outlinewidth": 0,
              "ticks": ""
             }
            },
            "type": "scattergeo"
           }
          ],
          "scattergl": [
           {
            "marker": {
             "colorbar": {
              "outlinewidth": 0,
              "ticks": ""
             }
            },
            "type": "scattergl"
           }
          ],
          "scattermapbox": [
           {
            "marker": {
             "colorbar": {
              "outlinewidth": 0,
              "ticks": ""
             }
            },
            "type": "scattermapbox"
           }
          ],
          "scatterpolar": [
           {
            "marker": {
             "colorbar": {
              "outlinewidth": 0,
              "ticks": ""
             }
            },
            "type": "scatterpolar"
           }
          ],
          "scatterpolargl": [
           {
            "marker": {
             "colorbar": {
              "outlinewidth": 0,
              "ticks": ""
             }
            },
            "type": "scatterpolargl"
           }
          ],
          "scatterternary": [
           {
            "marker": {
             "colorbar": {
              "outlinewidth": 0,
              "ticks": ""
             }
            },
            "type": "scatterternary"
           }
          ],
          "surface": [
           {
            "colorbar": {
             "outlinewidth": 0,
             "ticks": ""
            },
            "colorscale": [
             [
              0,
              "#0d0887"
             ],
             [
              0.1111111111111111,
              "#46039f"
             ],
             [
              0.2222222222222222,
              "#7201a8"
             ],
             [
              0.3333333333333333,
              "#9c179e"
             ],
             [
              0.4444444444444444,
              "#bd3786"
             ],
             [
              0.5555555555555556,
              "#d8576b"
             ],
             [
              0.6666666666666666,
              "#ed7953"
             ],
             [
              0.7777777777777778,
              "#fb9f3a"
             ],
             [
              0.8888888888888888,
              "#fdca26"
             ],
             [
              1,
              "#f0f921"
             ]
            ],
            "type": "surface"
           }
          ],
          "table": [
           {
            "cells": {
             "fill": {
              "color": "#EBF0F8"
             },
             "line": {
              "color": "white"
             }
            },
            "header": {
             "fill": {
              "color": "#C8D4E3"
             },
             "line": {
              "color": "white"
             }
            },
            "type": "table"
           }
          ]
         },
         "layout": {
          "annotationdefaults": {
           "arrowcolor": "#2a3f5f",
           "arrowhead": 0,
           "arrowwidth": 1
          },
          "coloraxis": {
           "colorbar": {
            "outlinewidth": 0,
            "ticks": ""
           }
          },
          "colorscale": {
           "diverging": [
            [
             0,
             "#8e0152"
            ],
            [
             0.1,
             "#c51b7d"
            ],
            [
             0.2,
             "#de77ae"
            ],
            [
             0.3,
             "#f1b6da"
            ],
            [
             0.4,
             "#fde0ef"
            ],
            [
             0.5,
             "#f7f7f7"
            ],
            [
             0.6,
             "#e6f5d0"
            ],
            [
             0.7,
             "#b8e186"
            ],
            [
             0.8,
             "#7fbc41"
            ],
            [
             0.9,
             "#4d9221"
            ],
            [
             1,
             "#276419"
            ]
           ],
           "sequential": [
            [
             0,
             "#0d0887"
            ],
            [
             0.1111111111111111,
             "#46039f"
            ],
            [
             0.2222222222222222,
             "#7201a8"
            ],
            [
             0.3333333333333333,
             "#9c179e"
            ],
            [
             0.4444444444444444,
             "#bd3786"
            ],
            [
             0.5555555555555556,
             "#d8576b"
            ],
            [
             0.6666666666666666,
             "#ed7953"
            ],
            [
             0.7777777777777778,
             "#fb9f3a"
            ],
            [
             0.8888888888888888,
             "#fdca26"
            ],
            [
             1,
             "#f0f921"
            ]
           ],
           "sequentialminus": [
            [
             0,
             "#0d0887"
            ],
            [
             0.1111111111111111,
             "#46039f"
            ],
            [
             0.2222222222222222,
             "#7201a8"
            ],
            [
             0.3333333333333333,
             "#9c179e"
            ],
            [
             0.4444444444444444,
             "#bd3786"
            ],
            [
             0.5555555555555556,
             "#d8576b"
            ],
            [
             0.6666666666666666,
             "#ed7953"
            ],
            [
             0.7777777777777778,
             "#fb9f3a"
            ],
            [
             0.8888888888888888,
             "#fdca26"
            ],
            [
             1,
             "#f0f921"
            ]
           ]
          },
          "colorway": [
           "#636efa",
           "#EF553B",
           "#00cc96",
           "#ab63fa",
           "#FFA15A",
           "#19d3f3",
           "#FF6692",
           "#B6E880",
           "#FF97FF",
           "#FECB52"
          ],
          "font": {
           "color": "#2a3f5f"
          },
          "geo": {
           "bgcolor": "white",
           "lakecolor": "white",
           "landcolor": "white",
           "showlakes": true,
           "showland": true,
           "subunitcolor": "#C8D4E3"
          },
          "hoverlabel": {
           "align": "left"
          },
          "hovermode": "closest",
          "mapbox": {
           "style": "light"
          },
          "paper_bgcolor": "white",
          "plot_bgcolor": "white",
          "polar": {
           "angularaxis": {
            "gridcolor": "#EBF0F8",
            "linecolor": "#EBF0F8",
            "ticks": ""
           },
           "bgcolor": "white",
           "radialaxis": {
            "gridcolor": "#EBF0F8",
            "linecolor": "#EBF0F8",
            "ticks": ""
           }
          },
          "scene": {
           "xaxis": {
            "backgroundcolor": "white",
            "gridcolor": "#DFE8F3",
            "gridwidth": 2,
            "linecolor": "#EBF0F8",
            "showbackground": true,
            "ticks": "",
            "zerolinecolor": "#EBF0F8"
           },
           "yaxis": {
            "backgroundcolor": "white",
            "gridcolor": "#DFE8F3",
            "gridwidth": 2,
            "linecolor": "#EBF0F8",
            "showbackground": true,
            "ticks": "",
            "zerolinecolor": "#EBF0F8"
           },
           "zaxis": {
            "backgroundcolor": "white",
            "gridcolor": "#DFE8F3",
            "gridwidth": 2,
            "linecolor": "#EBF0F8",
            "showbackground": true,
            "ticks": "",
            "zerolinecolor": "#EBF0F8"
           }
          },
          "shapedefaults": {
           "line": {
            "color": "#2a3f5f"
           }
          },
          "ternary": {
           "aaxis": {
            "gridcolor": "#DFE8F3",
            "linecolor": "#A2B1C6",
            "ticks": ""
           },
           "baxis": {
            "gridcolor": "#DFE8F3",
            "linecolor": "#A2B1C6",
            "ticks": ""
           },
           "bgcolor": "white",
           "caxis": {
            "gridcolor": "#DFE8F3",
            "linecolor": "#A2B1C6",
            "ticks": ""
           }
          },
          "title": {
           "x": 0.05
          },
          "xaxis": {
           "automargin": true,
           "gridcolor": "#EBF0F8",
           "linecolor": "#EBF0F8",
           "ticks": "",
           "title": {
            "standoff": 15
           },
           "zerolinecolor": "#EBF0F8",
           "zerolinewidth": 2
          },
          "yaxis": {
           "automargin": true,
           "gridcolor": "#EBF0F8",
           "linecolor": "#EBF0F8",
           "ticks": "",
           "title": {
            "standoff": 15
           },
           "zerolinecolor": "#EBF0F8",
           "zerolinewidth": 2
          }
         }
        },
        "title": {
         "text": "Sampling from RBF Prior"
        },
        "width": 650,
        "xaxis": {
         "autorange": true,
         "range": [
          0,
          149
         ],
         "title": {
          "text": "x"
         }
        },
        "yaxis": {
         "autorange": true,
         "range": [
          -3.9245977459897095,
          1.6530188282974796
         ],
         "title": {
          "text": "y=f(x)"
         },
         "type": "linear"
        }
       }
      },
      "image/png": "[encoded data removed]"
     },
     "metadata": {},
     "output_type": "display_data"
    }
   ],
   "source": [
    "fig = go.Figure()\n",
    "for i,y in enumerate(ys):\n",
    "    fig.add_trace(go.Scatter(y=y, mode='lines', name=f'realization {i+1}', opacity=0.8))\n",
    "fig.update_layout(autosize=False, width=650, height=400,\n",
    "    xaxis_title=\"x\", yaxis_title=\"y=f(x)\", title='Sampling from RBF Prior')\n",
    "fig.show()"
   ]
  },
  {
   "cell_type": "markdown",
   "metadata": {},
   "source": [
    "**Using Gaussian Process for regression** is a three step process:\n",
    "\n",
    "1. Define a prior kernel function\n",
    "2. Create posterior distribution, given some data\n",
    "3. Generate predictions ($y$) for the input variables ($X$)\n",
    "\n",
    "To make predictions $y_2=f(X_2)$, we can draw samples from the posterior distribution $p(y_2|y_1,X_1,X_2)$:\n",
    "\n",
    "$$\n",
    "\\begin{bmatrix} y_1 \\\\ y_2 \\end{bmatrix} \\sim \\mathcal{N}\\left(\\begin{bmatrix} \\mu_1 \\\\ \\mu_2 \\end{bmatrix}, \\begin{bmatrix} \\Sigma_{11} & \\Sigma_{12} \\\\ \\Sigma_{21} & \\Sigma_{22} \\end{bmatrix}\\right)\n",
    "$$\n",
    "\n",
    "and we can use the conditional distribution:\n",
    "\n",
    "$$\n",
    "\\mu_{2|1}=(\\Sigma^{-1}_{11} \\Sigma_{12})^T y_1\n",
    "$$\n",
    "\n",
    "$$\n",
    "\\Sigma_{2|1}=\\Sigma_{22}-(\\Sigma^{-1}_{12} \\Sigma_{12})^T \\Sigma_{12}\n",
    "$$\n",
    "\n",
    "And so $y_2$ can be predicted by using mean $\\mu_{2|1}$.\n",
    "\n",
    "The visualization for predictions for a noiseless distribution shows that uncertainty (a salmon-color fill around the sine wave) in the points with data (black dots below) is minimal, but it grows in the sections without any data points:\n",
    "\n",
    "<p style=\"text-align: center; margin-bottom: 0;\">Fig. 2.4. Gaussian Process predictions and uncertainty</p>\n",
    "<img src=\"../Resources/img/gp.png\" style=\"width: 60%;\"/>"
   ]
  },
  {
   "cell_type": "markdown",
   "metadata": {},
   "source": [
    "### 2.2.3. Conclusion\n",
    "\n",
    "Gaussian processes are a very elegant, robust and informed approach to Machine Learning. One not only generates predictions for unseen data, but also the uncertainty. This can be a very useful tool in the decision making.\n",
    "\n",
    "However it is important to keep in mind that working with larger datasets can be a **challenge** due to $\\mathcal{O}(n^3)$ complexity. In my eyes, certainly Gaussian process algorithms were very slow to train (given that I have only used them with $< 4000$ records) and they have consumed a lot of memory (GPy was much more efficient than pymc3).\n",
    "\n",
    "There are tricks used to decrease the complexity to $\\mathcal{O}(n^2)$ and new frameworks continously work on the improvements (pymc3 library is currently switching backend to TensorFlow), but training Gaussian Process-based models can be a challenging and time consuming task."
   ]
  },
  {
   "cell_type": "markdown",
   "metadata": {},
   "source": [
    "## 2.3. Autoencoders for Anomaly Detection\n",
    "\n",
    "The core idea of the system in my research is Anomaly Detection. It could very useful to alert home owners when something out of the ordrinary is happening around their property.\n",
    "\n",
    "Below is a Literature Review on **Autoencoders**, which are a very useful Neural Network models often used for anomaly detection in large datasets (like image or text data)."
   ]
  },
  {
   "cell_type": "markdown",
   "metadata": {},
   "source": [
    "Autoencoder is a type of a Neural Network used to learn to predict (reconstruct) its own inputs. Based on this aspect it is loosely classified as an unsupervised learning algorithm.\n",
    "\n",
    "There seems to be no definitive evidence of the origins for this Neural Network architecture, but it is described in detail in an online [DeepLearning book](http://www.deeplearningbook.org/contents/autoencoders.html) (Goodfellow-et-al-2016), where author dates the method back all the way to 80's, even though the terminology and use cases have changed drastically over the years.\n",
    "\n",
    "In the modern are, autoencoders are used to achieve several goals, like:\n",
    "- data compression (dimensionality reduction)\n",
    "- image de-noising\n",
    "- anomaly detection\n",
    "- machine translation\n",
    "\n",
    "While there are several variants of this type of Neural Network, at a high level it can be represented in a following diagram from [towardsdatascience 2017](https://towardsdatascience.com/applied-deep-learning-part-3-autoencoders-1c083af4d798) article:\n",
    "\n",
    "<p style=\"text-align: center; margin-bottom: 0;\">Fig. 2.5. Autoencoder diagram</p>\n",
    "<img src=\"../Resources/img/ae.png\" style=\"width: 50%;\"/>"
   ]
  },
  {
   "cell_type": "markdown",
   "metadata": {},
   "source": [
    "If the Encoder part is $h=f(x)$, then the Decoder is $r=g(h)$.\n",
    "\n",
    "The main idea behind this design is to use a Feed-Forward Network to learn to copy the Input, but due to the size-constrained bottleneck layer in the middle, only the most salient characteristics of the data are learned (an autoencoder, which can learn to reproduce the inputs perfectly would not be very useful).\n",
    "\n",
    "The learning process is fairly standard and aims to minimize a loss function:\n",
    "\n",
    "$$\n",
    "\\mathcal{L}(x, g(f(x)))\n",
    "$$\n",
    "\n",
    ", where $\\mathcal{L}$ can be any differentiable function like *mean squared error*, penalising $g(f(x))$ from being dissimar from $x$.\n",
    "\n",
    "When MSE is used, autoencoder can be compared to PCA, but with a non-linear choice for functions $f$ and $g$, it becomes a more powerful non-linear generalization of PCA.\n",
    "\n",
    "There are tradeoffs to such a powerful model. As authors of the DeepLearning book conclude, when this model is given too much capacity, it fails to learn anything useful.\n",
    "\n",
    "Given this challenge, a whole family of autoencoder type of models have been developed, with **Variational Autoencoders** being the most popular one.\n",
    "\n",
    "#### TODO: Consider including a section about Variational Autoencoders (if time permits)"
   ]
  },
  {
   "cell_type": "markdown",
   "metadata": {},
   "source": [
    "## 2.4. Conclusions\n",
    "\n",
    "Autoencoders conclude the Literature Review in this research. The knowledge base in the area of object detection, forecasting and anomaly detection is vast with new research papers and articles landing every day, but I hope that the overview above sets the tone on what is to come in the next chapters.\n",
    "\n",
    "And the next Chapter focuses on the overall **System Design**."
   ]
  },
  {
   "cell_type": "markdown",
   "metadata": {},
   "source": [
    "[index](../Index.ipynb) | [prev](./01.Introduction.ipynb) | [next](./03.SystemDesign.ipynb)"
   ]
  }
 ],
 "metadata": {
  "kernelspec": {
   "display_name": "Python 3",
   "language": "python",
   "name": "python3"
  },
  "language_info": {
   "codemirror_mode": {
    "name": "ipython",
    "version": 3
   },
   "file_extension": ".py",
   "mimetype": "text/x-python",
   "name": "python",
   "nbconvert_exporter": "python",
   "pygments_lexer": "ipython3",
   "version": "3.7.0"
  },
  "toc-autonumbering": false
 },
 "nbformat": 4,
 "nbformat_minor": 4
}
