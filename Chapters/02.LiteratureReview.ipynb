{
 "cells": [
  {
   "cell_type": "markdown",
   "metadata": {},
   "source": [
    "# 2. Literature Review\n",
    "\n",
    "[index](../Index.ipynb) | [prev](./01.Introduction.ipynb) | [next](./03.SystemDesign.ipynb)"
   ]
  },
  {
   "cell_type": "markdown",
   "metadata": {},
   "source": [
    "It is important to appreciate and highlight the work of other researchers, without which my concept would never be possible and a project like this could not be delivered by a single person.\n",
    "\n",
    "This Literature Review will follow the data flow in the process. There are a three main building blocks in this research:\n",
    "- Data Collection\n",
    "- Forecasting\n",
    "- Anomaly Detection\n",
    "\n",
    "Each of them is very complex and has been studied by scientists for decades.\n",
    "\n",
    "After two years of my own research and testing, I have narrowed down the list to a handful of useful tools, for which I will provide the theoretical background below."
   ]
  },
  {
   "cell_type": "markdown",
   "metadata": {},
   "source": [
    "## 2.1 Data Collection\n",
    "\n",
    "The first aspect of my project is the Data Collection phase.\n",
    "\n",
    "It involves a mini-computer (Raspberry Pi) which streams the data to the central unit (a Ubuntu-based Desktop PC with a GPU), which runs an infinite loop with the two key algorithms:\n",
    "- Backgroud subtraction\n",
    "- Yolo Object Recognition\n",
    "\n",
    "Both of these algorithms are extremelly useful in the image processing applications, and the are the foundation of how data is collected in the system.\n",
    "\n",
    "They have both significantly reduced the data size, which otherwise would be required to store a six months of video footage."
   ]
  },
  {
   "cell_type": "markdown",
   "metadata": {},
   "source": [
    "### 2.1.1. Background subtraction\n",
    "\n",
    "TODO: provide theoretical background here"
   ]
  },
  {
   "cell_type": "markdown",
   "metadata": {},
   "source": [
    "### 2.1.2. Yolo - Object Recognition\n",
    "\n",
    "TODO: provide theoretical background here"
   ]
  },
  {
   "cell_type": "markdown",
   "metadata": {},
   "source": [
    "## 2.2. Forecasting\n",
    "\n",
    "The next theme in this project is Forecasting. One of the research questions is if we can predict an accurate expected number of objects in the hourly intervals with the use of Machine Learning.\n",
    "\n",
    "In my work I have utilised only two Machine Learning algorithms, which will be described in detail below:\n",
    "- Linear Regression\n",
    "- Random Forest\n",
    "\n",
    "I have also tried many other algorithms, like:\n",
    "- Support Vector Machines (TODO: provide a very brief theory and reference here)\n",
    "- Poission Gaussian Process (TODO: provide a very brief theory and reference here)\n",
    "- Feed Forward Neural Network (TODO: provide a very brief theory and reference here)\n",
    "- Long Short Term Memory Recurrent Neural Network (TODO: provide a very brief theory and reference here)\n",
    "\n",
    "None of the additional algorithms was beneficial to my results and they only introduced computational overhead and complexity, therefore I have decided to remove them from the theoretical analysis and the code samples from methodology section."
   ]
  },
  {
   "cell_type": "markdown",
   "metadata": {},
   "source": [
    "### 2.2.1. Linear Regression\n",
    "TODO: provide theoretical background here"
   ]
  },
  {
   "cell_type": "markdown",
   "metadata": {},
   "source": [
    "### 2.2.2. Random Forest\n",
    "TODO: provide theoretical background here"
   ]
  },
  {
   "cell_type": "markdown",
   "metadata": {},
   "source": [
    "## 2.3. Anomaly Detection\n",
    "\n",
    "The core idea of this system is anomaly detection. It makes it very useful as owners are often un-aware of the events in the observed area, and it is impractical to continuously monitor the enviornment.\n",
    "\n",
    "An anomaly detection solution described below, which uses **Probabilistic Programming** helps to identify a threshold of observations in a given hour, above which system can send an alert to the owners.\n",
    "\n",
    "But what if there is only a single unusual event in an hour? It turns out that we do not need to limit the system to a single anomaly detection algorithm. Below I will describe an **Auto-Encoder** - a Neural Network based method, which can detect an anomaly only from a single raw image frame."
   ]
  },
  {
   "cell_type": "markdown",
   "metadata": {},
   "source": [
    "### 2.3.1. Probabilistic Programming\n",
    "TODO: provide theoretical background here"
   ]
  },
  {
   "cell_type": "markdown",
   "metadata": {},
   "source": [
    "### 2.3.2. Auto Encoders\n",
    "TODO: provide theoretical background here"
   ]
  },
  {
   "cell_type": "markdown",
   "metadata": {},
   "source": [
    "## 2.4. Conclusion\n",
    "\n",
    "TODO: Here provide a high level conclusion and describe the next Chapter."
   ]
  },
  {
   "cell_type": "markdown",
   "metadata": {},
   "source": [
    "[index](../Index.ipynb) | [prev](./01.Introduction.ipynb) | [next](./03.SystemDesign.ipynb)"
   ]
  },
  {
   "cell_type": "code",
   "execution_count": null,
   "metadata": {},
   "outputs": [],
   "source": []
  }
 ],
 "metadata": {
  "kernelspec": {
   "display_name": "Python 3",
   "language": "python",
   "name": "python3"
  },
  "language_info": {
   "codemirror_mode": {
    "name": "ipython",
    "version": 3
   },
   "file_extension": ".py",
   "mimetype": "text/x-python",
   "name": "python",
   "nbconvert_exporter": "python",
   "pygments_lexer": "ipython3",
   "version": "3.7.0"
  },
  "toc-autonumbering": false
 },
 "nbformat": 4,
 "nbformat_minor": 4
}
