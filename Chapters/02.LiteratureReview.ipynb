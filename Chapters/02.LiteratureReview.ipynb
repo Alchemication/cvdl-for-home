{
 "cells": [
  {
   "cell_type": "markdown",
   "metadata": {},
   "source": [
    "# 2. Literature Review\n",
    "\n",
    "[index](../Index.ipynb) | [prev](./01.Introduction.ipynb) | [next](./03.SystemDesign.ipynb)"
   ]
  },
  {
   "cell_type": "markdown",
   "metadata": {},
   "source": [
    "It is important to appreciate and highlight the work of other researchers, without which my concept would never be possible and a project like this could not be delivered by a single person.\n",
    "\n",
    "This Literature Review will follow the data flow in the process. There are a three main components in this research:\n",
    "- Data Collection\n",
    "- Forecasting\n",
    "- Anomaly Detection"
   ]
  },
  {
   "cell_type": "markdown",
   "metadata": {},
   "source": [
    "## 2.1 Data Collection\n",
    "\n",
    "The first aspect of my project was the Data Collection phase.\n",
    "\n",
    "It involves a mini-computer (Raspberry Pi) which streams the data to the central server (Desktop PC with a GPU), which runs an infinite loop with the two key algorithms:\n",
    "- Backgroud subtraction\n",
    "- Yolo Object Recognition"
   ]
  },
  {
   "cell_type": "markdown",
   "metadata": {},
   "source": [
    "### 2.1.1. Background subtraction\n",
    "\n",
    "TODO: provide theoretical background here"
   ]
  },
  {
   "cell_type": "markdown",
   "metadata": {},
   "source": [
    "### 2.1.2. Yolo - Object Recognition\n",
    "\n",
    "TODO: provide theoretical background here"
   ]
  },
  {
   "cell_type": "markdown",
   "metadata": {},
   "source": [
    "## 2.2. Forecasting\n",
    "\n",
    "The next theme in this project is Forecasting. One of the research questions is if we can predict an expected number of objects in the hourly intervals.\n",
    "\n",
    "Due to insignificant data volumes when aggregated to the hourly rollup, I have utilised a two algorithms, which will be described in detail below:\n",
    "- Linear Regression\n",
    "- Random Forest\n",
    "\n",
    "I have also tried many other algorithms:\n",
    "- Support Vector Machines (TODO: provide a very brief theory and reference here)\n",
    "- Poission Gaussian Process (TODO: provide a very brief theory and reference here)\n",
    "- Feed Forward Neural Network (TODO: provide a very brief theory and reference here)\n",
    "- Long Short Term Memory Recurrent Neural Network (TODO: provide a very brief theory and reference here)\n",
    "\n",
    "None of the additional algorithms was beneficial to my results and they only introduced computational overhead and complexity, therefore I have decided to remove them from the detail analysis and code samples, which are already extensive."
   ]
  },
  {
   "cell_type": "markdown",
   "metadata": {},
   "source": [
    "### 2.2.1. Linear Regression\n",
    "TODO: provide theoretical background here"
   ]
  },
  {
   "cell_type": "markdown",
   "metadata": {},
   "source": [
    "### 2.2.2. Random Forest\n",
    "TODO: provide theoretical background here"
   ]
  },
  {
   "cell_type": "markdown",
   "metadata": {},
   "source": [
    "## 2.3. Anomaly Detection"
   ]
  },
  {
   "cell_type": "markdown",
   "metadata": {},
   "source": [
    "### 2.3.1. Probabilistic Programming\n",
    "TODO: provide theoretical background here"
   ]
  },
  {
   "cell_type": "markdown",
   "metadata": {},
   "source": [
    "### 2.3.2. Auto Encoders\n",
    "TODO: provide theoretical background here"
   ]
  },
  {
   "cell_type": "code",
   "execution_count": null,
   "metadata": {},
   "outputs": [],
   "source": []
  }
 ],
 "metadata": {
  "kernelspec": {
   "display_name": "Python 3",
   "language": "python",
   "name": "python3"
  },
  "language_info": {
   "codemirror_mode": {
    "name": "ipython",
    "version": 3
   },
   "file_extension": ".py",
   "mimetype": "text/x-python",
   "name": "python",
   "nbconvert_exporter": "python",
   "pygments_lexer": "ipython3",
   "version": "3.7.0"
  },
  "toc-autonumbering": false
 },
 "nbformat": 4,
 "nbformat_minor": 4
}
