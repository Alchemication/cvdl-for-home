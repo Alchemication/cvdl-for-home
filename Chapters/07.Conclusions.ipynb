{
 "cells": [
  {
   "cell_type": "markdown",
   "metadata": {},
   "source": [
    "# 7. Conclusion and Future Considerations\n",
    "\n",
    "[index](../Index.ipynb) | [prev](./06.AnomalyDetection.ipynb) | [next](./08.References.ipynb)"
   ]
  },
  {
   "cell_type": "markdown",
   "metadata": {},
   "source": [
    "# This is the final conclusion section for this project.\n",
    "\n",
    "I believe that all three research questions from the Introduction have been answered:\n",
    "\n",
    "**How complex is it to build a fast and reliable object detection pipeline using Computer Vision?**\n",
    "\n",
    "A reliable data collection stage manifested itself with a high complexity. Collecting images $24/7$ for $6$ months has challenged my problem solving skills and thought me many valuable lessons:\n",
    "\n",
    "- Placing the camera in the right location was crucial and required wiring the house\n",
    "- Producing a smooth experience in terms of frames per second, while performing multiple tasks on each frame was possible due to smart motion detection approach (*Background Subtraction*) connected with the fast and accurate object detection algorithm (*Yolo v2*)\n",
    "- Streaming frames in real time to connected users was solved through socket data transmission\n",
    "- Keeping the services up at all times was possible by utilizing *Supervisor* and a proper network setup\n",
    "\n",
    "**Given collected data with object detections, can future object counts be predicted using Machine Learning?**\n",
    "\n",
    "Future object counts can be predicted using Machine Learning with relatively low error rates and should be done for each object (like *Person* or *Vehicle*) individually. It required a significant amount of data cleaning and pre-processing, and thousands of models of different complexity have been tested in the process (ranging from Linear Regression through Bi-Directional LTSM Neural Networks). Ultimately, given the evidence collected in Chapter 5, my recommendation would be to use a probabilistic model (like Gaussian Process), which not only generates the predictions, but also their uncertainty. Incorporating uncertainty in the results gives more insight into the confidence and the potential range of future events (if confidence is high, the range is small and vice versa).\n",
    "\n",
    "**Does object detections data contain anomalous signals, which can be recognized with Anomaly Detection algorithms and used for alerts to the users?**\n",
    "\n",
    "It is possible to apply anomaly detection algorithms to the collected data to obtain useful results.\n",
    "\n",
    "Measuring a maximum threshold of expected objects in a given hour, results in the ability to flag events as anomalous if a count in an hour is above the threshold. Out of four tested methods, the *probabilistic approach*, which utilized *gamma* distribution and *Poisson* likelihood produced optimal results and $61$ anomalous observations out of $4140$ were detected.\n",
    "\n",
    "The second approach to anomaly detection applied an Auto Encoder type of Neural Network directly to raw image data through an *Unsupervised Machine Learning*. The aim is to search for images which differ the most from the others. This method has multiple usages:\n",
    "\n",
    "- If an incoming image differs from the normal images by a specified threshold (calculated using *mean squared error*), then it can be flagged as an anomaly and an alert can be triggered. As an example, model flagged many people gathered outside the house as an anomalous event\n",
    "- Thousands of images, collected throughout a single day, can be sorted from the most anomalous one, which quickly highlights the most unusual events in a given day\n",
    "\n",
    "Using a hand-labeled dataset with $30$ images, the best model was able to classify correctly $9$ out of $15$ anomalies. It generated a *Recall score* of $0.6$ while not sacrificing the *F1 score* of $0.72$.\n",
    "\n",
    "**Recommendations for future iterations**\n",
    "\n",
    "- Putting all the components into a fully working system could lead to other ideas and opportunities and could expose potential gaps to tweak\n",
    "- Using a professional camera with a wider field of view would result in an improvement in security. Night vision capability and a waterproof case would make it possible to mount it in a more inaccessible point\n",
    "- Exploring Object Detection on-device instead of streaming frames to a central PC could significantly reduce the cost of the setup. While Raspberry Pi itself is not powerful enough for this task, there are advances in the area, which are worth exploring (for example *NVidia Jetson Nano* or *Google Coral*)\n",
    "- Testing the system in another house. It is an interesting research question, which would assess if the models developed in this research are truly generalizable\n",
    "- Privacy mode should be incorporated. People in the detected images should be blurred to hide their identity. This is an easy Computer Vision task and an important subject in terms of ethics and how modern AI systems should work\n",
    "- Collecting data for a year or two years would create new possibilities to use more suitable forecasting models with periodicity component and ability to observe spikes in observations over the full year\n",
    "- Anomaly detection can be also improved. Using forecast predictions to find hourly anomalies, and employing a more advanced versions of the Convolutional auto encoder would be worth to study more. An investigation into using separate auto encoder models depending on the time of the day has the potential to further increase the *Recall*\n",
    "- Upgrade libraries to more accurate and faster versions (*Yolo v4* for object detection, *pymc4* for *TensorFlow-based* probabilistic programming)\n",
    "- Using *RTSP* (Real Time Streaming Protocol) instead of *Message Queue* for streaming could increase the frame rate and make the system more portable\n",
    "\n",
    "**Final remark**\n",
    "\n",
    "All the findings and recommendations above, combined high velocity in the release of new research papers and libraries, show plethora of opportunities for future research in this area. This means that the system can evolve in capabilities and always become <span style=\"background-color: yellow;\">more useful</span>."
   ]
  }
 ],
 "metadata": {
  "kernelspec": {
   "display_name": "Python 3",
   "language": "python",
   "name": "python3"
  },
  "language_info": {
   "codemirror_mode": {
    "name": "ipython",
    "version": 3
   },
   "file_extension": ".py",
   "mimetype": "text/x-python",
   "name": "python",
   "nbconvert_exporter": "python",
   "pygments_lexer": "ipython3",
   "version": "3.7.4"
  }
 },
 "nbformat": 4,
 "nbformat_minor": 4
}
