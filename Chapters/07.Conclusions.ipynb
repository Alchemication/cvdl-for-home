{
 "cells": [
  {
   "cell_type": "markdown",
   "metadata": {},
   "source": [
    "# 7. Conclusion and Future Considerations\n",
    "\n",
    "[index](../Index.ipynb) | [prev](./06.AnomalyDetection.ipynb) | [next](./08.References.ipynb)"
   ]
  },
  {
   "cell_type": "markdown",
   "metadata": {},
   "source": [
    "This is it. This is the final conclusion section for this project.\n",
    "\n",
    "What has been (hopefully) a short enough reading for you, was actually almost two years of continous iterations and interesting challenges for me. But it was a great experience, which thought me many valuable lessons.\n",
    "\n",
    "First of all, I think that all three research goals from the Introduction have been achieved:\n",
    "\n",
    "1. <span style=\"background-color: yellow\">Yes</span> - a reliable data collection stage was very complex. Collecting images $24/7$ for $6$ months straight with the loss of only $3$ days due to power outages has challenged my problem solving skills *a little more* than initially anticipated. Placing the camera in a right spot alone required wiring the whole house to provide ethernet access.\n",
    "\n",
    "2. <span style=\"background-color: yellow\">Yes</span> - future object counts can be predicted using Machine Learning, but it required an incredible amount of data cleaning and processing, and thousands of models have been tested in the process. The benefit for me is the wide area of expertise about different type of models (for example Bi-Directional Long-Short Term Memort Recurrent Neural Networks), but ultimately I have chosen the most useful model, which not only gives the predictions but also their uncertainty.\n",
    "\n",
    "3. <span style=\"background-color: yellow\">Yes</span> again - it is possible to apply anomaly detection algorithms to the collected data and find out how many objects of certain type within an hour is too many, and which frames are too different from others and should be flagged as anomalies.\n",
    "\n",
    "Now it is the right time for confessions.\n",
    "\n",
    "It would be a good idea to invest in a better camera. Having a wider field of view, night vision capability or waterproof case would make it possible to mount it in a more inaccessible location without sacrificing the quality of image.\n",
    "\n",
    "The data collection pipeline could benefit significantly from being able to detect objects on-device, instead of streaming frames to a central PC, which can get very expensive. This is currently very challenging due to the nature of resource constrained devices, like Raspberry Pi, but there are some promising advances in the area (for example Nvidia Jetson Nano or Google Coral). On the flip side, a lot of people have their powerful Desktop PC's doing nothing while they are at work. Why not running an object recognition during that time?\n",
    "\n",
    "And the object recognition itself should get a very important improvement. People in the detected images should be blurred to protect privacy. I believe that we need to start treating this area more seriously in the AI community and this is a very easy task to achieve using simple Computer Vision techniques.\n",
    "\n",
    "Better camera and perhaps slightly better approach to data collection means better data. Better data and more data means more capabilities for the Machine Learning models to predict future observations more accurately. Having collected a year or two years of data gives new opportunity to use proper forecasting models with periodicity and ability to bserve spikes and dips over time.\n",
    "\n",
    "And anomaly detection can be also improved. Using forecast predictions to find hourly anomalies would be a good idea, and employing a more advanced versions of the Convolutional auto encoder would be worth to try too. Also, perhaps there should be an alternative method for dealing with the nightly observations.\n",
    "\n",
    "All the notes above show plethora of opportunities for future research. That with constant releases of new libraries, like Yolo v4 for object detection or pymc4 (in beta as of July 2020 andfinally using TensorFlow instead of abandoned child Theano) for probabilistic programming, the system could be made more accurate, fast and modern."
   ]
  }
 ],
 "metadata": {
  "kernelspec": {
   "display_name": "Python 3",
   "language": "python",
   "name": "python3"
  },
  "language_info": {
   "codemirror_mode": {
    "name": "ipython",
    "version": 3
   },
   "file_extension": ".py",
   "mimetype": "text/x-python",
   "name": "python",
   "nbconvert_exporter": "python",
   "pygments_lexer": "ipython3",
   "version": "3.7.0"
  }
 },
 "nbformat": 4,
 "nbformat_minor": 4
}
