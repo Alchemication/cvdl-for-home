{
 "cells": [
  {
   "cell_type": "markdown",
   "metadata": {},
   "source": [
    "# 7. Conclusion and Future Considerations\n",
    "\n",
    "[index](../Index.ipynb) | [prev](./06.AnomalyDetection.ipynb) | [next](./08.References.ipynb)"
   ]
  },
  {
   "cell_type": "markdown",
   "metadata": {},
   "source": [
    "This is the final conclusion section for this project.\n",
    "\n",
    "I believe that all three research questions from the Introduction have been answered:\n",
    "\n",
    "- How complex is it to build a fast and reliable object detection pipeline using Computer Vision?\n",
    "\n",
    "A reliable data collection stage was very complex. Collecting images $24/7$ for $6$ months straight has challenged my problem solving skills *a little more* than initially anticipated. Placing the camera in a right location alone required wiring the house and getting a smooth experience with over $30$ FPS, while performing so many tasks on each frame demanded many iterations to get it right.\n",
    "\n",
    "- Given collected data with object detections, can future object counts be predicted using Machine Learning?\n",
    "\n",
    "Future object counts can be predicted using Machine Learning, but not without a significant amount of data cleaning and processing, and thousands of models have been tested in the process. The benefit for me is the expertise in training various types of models (for example Bi-Directional Long-Short Term Memory Recurrent Neural Networks), but ultimately I have chosen the most useful model, which not only gives the predictions but also their uncertainty.\n",
    "\n",
    "- Does object detections data contain anomalous signals, which can be recognized with Anomaly Detection algorithms and used for alerts to the users?\n",
    "\n",
    "It is possible to apply anomaly detection algorithms to the collected data and find out how many objects of certain type within an hour is too many, and which frames are too different from others and should be flagged as anomalies.\n",
    "\n",
    "Below are some recommendations for future improvements:\n",
    "\n",
    "- Using a professional camera with a wider field of view, night vision capability or waterproof case would make it possible to mount it in a more inaccessible location while improving object detections.\n",
    "\n",
    "- Exploring Objects detection on-device instead of streaming frames to a central PC, which can get very expensive. This is currently very challenging due to the nature of resource constrained devices, like Raspberry Pi, but there are some notable advances in the area (for example Nvidia Jetson Nano or Google Coral). Often people leave their powerful Desktop PC's in idle state while they are at work, which creates an opportunity to use them for object detection during that time.\n",
    "\n",
    "- Testing the system in another house. It is an interesting research question to assess if the models developed in this research are truly generalizable.\n",
    "\n",
    "- Privacy mode should be incorporated. People in the detected images should be blurred to hide their identity. I believe that we need to start treating this area more seriously in the AI community, and this is a very easy task to achieve using simple Computer Vision techniques.\n",
    "\n",
    "- More data. Collecting data for a year or two years of data gives new opportunities to use proper forecasting models with periodicity and ability to observe spikes and dips over time.\n",
    "\n",
    "- Anomaly detection can be also improved. Using forecast predictions to find hourly anomalies, and employing a more advanced versions of the Convolutional auto encoder would be worth to try too. Also, perhaps there should be an alternative method for dealing with the nightly observations.\n",
    "\n",
    "All the notes above show plethora of opportunities for future research. That, with constant releases of new libraries, like Yolo v4 for object detection or pymc4 (in beta as of July 2020 finally using TensorFlow) for probabilistic programming, the system could be made more accurate, fast, modern and ultimately <span style=\"background-color: yellow;\">useful</span>."
   ]
  }
 ],
 "metadata": {
  "kernelspec": {
   "display_name": "Python 3",
   "language": "python",
   "name": "python3"
  },
  "language_info": {
   "codemirror_mode": {
    "name": "ipython",
    "version": 3
   },
   "file_extension": ".py",
   "mimetype": "text/x-python",
   "name": "python",
   "nbconvert_exporter": "python",
   "pygments_lexer": "ipython3",
   "version": "3.7.0"
  }
 },
 "nbformat": 4,
 "nbformat_minor": 4
}
