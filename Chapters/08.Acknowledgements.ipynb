{
 "cells": [
  {
   "cell_type": "markdown",
   "metadata": {},
   "source": [
    "# 8. Acknowledgements\n",
    "\n",
    "[index](../Index.ipynb) | [prev](./07.Conclusions.ipynb) | [next](./09.Appendices.ipynb)\n",
    "\n",
    "I would like to thank all the people involved in this work.\n",
    "\n",
    "This research is a compilation of my own work and experiments, indispensable feedback from my university supervisor, and my peers. It stands on the shoulders of Machine Learning and Computer Vision giants, who made it all possible.\n",
    "\n",
    "I would like to thank my supervisor, Dr. Alessio Benavoli, for all his guidance, his very accurate feedback, and his availability.\n",
    "\n",
    "Additionally, a credit to be given to my friends from work, who have read the thesis (or even parts of it!), and pointed out the corrections and improvements (Phil O'Mahony, Brian Condon, Deepak Mehta, Shamsul Hassan).\n",
    "\n",
    "Especially, a big thank you to Phil O'Mahony, for all our Jitsi calls, and numerous tips in Data Analysis, Forecasting and Anomaly Detection.\n",
    "\n",
    "I would like to also thank my closest family, for understanding, when I was locked in the study room for weeks (or maybe it was two years actually?).\n",
    "\n",
    "And finally a very special, warm thank you, to my wife, Anna, for all her support during the writing of this thesis, and for her help to transform my thousands of thoughts, into understandable English."
   ]
  }
 ],
 "metadata": {
  "kernelspec": {
   "display_name": "Python 3",
   "language": "python",
   "name": "python3"
  },
  "language_info": {
   "codemirror_mode": {
    "name": "ipython",
    "version": 3
   },
   "file_extension": ".py",
   "mimetype": "text/x-python",
   "name": "python",
   "nbconvert_exporter": "python",
   "pygments_lexer": "ipython3",
   "version": "3.7.0"
  }
 },
 "nbformat": 4,
 "nbformat_minor": 4
}
