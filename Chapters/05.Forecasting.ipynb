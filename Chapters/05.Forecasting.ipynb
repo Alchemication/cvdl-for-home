{
 "cells": [
  {
   "cell_type": "markdown",
   "metadata": {},
   "source": [
    "# 5. Forecasting\n",
    "\n",
    "[index](../Index.ipynb) | [prev](./04.DataCollection.ipynb) | [next](./06.AnomalyDetection.ipynb)"
   ]
  },
  {
   "cell_type": "markdown",
   "metadata": {},
   "source": [
    "The idea to generate a forecast for the detected objects did not exist in this project from the beginning, when the idea was to build a toy-project to use a Raspberry Pi for real time object detection.\n",
    "\n",
    "The step above was accomplished within six months and an idea occurred to me during a student meetup in the university: Can detected objects be used as a dataset to predict object counts?\n",
    "\n",
    "This tought has changed my perspective about the project, and since then I began to look at images as a valuable data source.\n",
    "\n",
    "Forecasting expected object counts can be very beneficial not only for our own curiosity, but also for anomaly detection. For example, if the predicted number of people at 3PM on a weekend-day is 5 and we have already observed 15 people, then something unusual must be happening and perhaps we would like to be notified about it.\n",
    "\n",
    "This Notebook dives into the detail of the steps taken to generate such a forecast:\n",
    "- data extraction and clean up of raw images\n",
    "- approach to counting objects\n",
    "- exploratory data analysis\n",
    "- forecasting"
   ]
  },
  {
   "cell_type": "code",
   "execution_count": null,
   "metadata": {},
   "outputs": [],
   "source": []
  }
 ],
 "metadata": {
  "kernelspec": {
   "display_name": "Python 3",
   "language": "python",
   "name": "python3"
  },
  "language_info": {
   "codemirror_mode": {
    "name": "ipython",
    "version": 3
   },
   "file_extension": ".py",
   "mimetype": "text/x-python",
   "name": "python",
   "nbconvert_exporter": "python",
   "pygments_lexer": "ipython3",
   "version": "3.7.0"
  }
 },
 "nbformat": 4,
 "nbformat_minor": 4
}
