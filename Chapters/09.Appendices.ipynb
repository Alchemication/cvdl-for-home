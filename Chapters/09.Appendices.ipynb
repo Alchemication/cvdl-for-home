{
 "cells": [
  {
   "cell_type": "markdown",
   "metadata": {},
   "source": [
    "# 10. Appendices\n",
    "\n",
    "[index](../Index.ipynb) | [prev](./09.Acknowledgements.ipynb)"
   ]
  },
  {
   "cell_type": "markdown",
   "metadata": {},
   "source": [
    "Below are the links to all Extra Notebooks and Scripts referenced in this research:\n",
    "\n",
    "- [LiteratureReview](../Notebooks/Extra.01.LiteratureReview.ipynb)\n",
    "- [ExtractRawImageData](../Notebooks/Extra.02.ExtractRawImageData.ipynb)\n",
    "- [ObjectCount](../Notebooks/Extra.03.ObjectCount.ipynb)\n",
    "- [FetchWeatherData](../Notebooks/Extra.04.FetchWeatherData.ipynb)\n",
    "- [Person-EDA-Forecast](../Notebooks/Extra.05.Person-EDA-Forecast.ipynb)\n",
    "- [Person-AnomalyDetectionForHourlyCounts](../Notebooks/Extra.06.Person-AnomalyDetectionForHourlyCounts.ipynb)\n",
    "- [RawImagesAnomalyDetectionTraining](../Notebooks/Extra.07.RawImagesAnomalyDetectionTraining.ipynb)\n",
    "- [app.py](../Scripts/app.py)"
   ]
  }
 ],
 "metadata": {
  "kernelspec": {
   "display_name": "Python 3",
   "language": "python",
   "name": "python3"
  },
  "language_info": {
   "codemirror_mode": {
    "name": "ipython",
    "version": 3
   },
   "file_extension": ".py",
   "mimetype": "text/x-python",
   "name": "python",
   "nbconvert_exporter": "python",
   "pygments_lexer": "ipython3",
   "version": "3.7.0"
  }
 },
 "nbformat": 4,
 "nbformat_minor": 4
}
