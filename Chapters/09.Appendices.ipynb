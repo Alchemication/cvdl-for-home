{
 "cells": [
  {
   "cell_type": "markdown",
   "metadata": {},
   "source": [
    "# 9. Appendices\n",
    "\n",
    "[index](../Index.ipynb) | [prev](./09.Acknowledgements.ipynb)"
   ]
  },
  {
   "cell_type": "markdown",
   "metadata": {},
   "source": [
    "All Core Chapters were written in Jupyter, and are listed below:\n",
    "\n",
    "- [Index.ipynb](../Index.ipynb) - Abstract and table of contents\n",
    "- [Chapters/01.Introduction.ipynb](../Chapters/01.Introduction.ipynb) - Introduction and Outline\n",
    "- [Chapters/02.LiteratureReview.ipynb](../Chapters/02.LiteratureReview.ipynb) - Literature Review\n",
    "- [Chapters/03.SystemDesign.ipynb](../Chapters/03.SystemDesign.ipynb) - High level System Design\n",
    "- [Chapters/04.DataCollection.ipynb](../Chapters/04.DataCollection.ipynb) - Data Collection and Pre-Processing\n",
    "- [Chapters/05.Forecasting.ipynb](../Chapters/05.Forecasting.ipynb) - Forecasting\n",
    "- [Chapters/06.AnomalyDetection.ipynb](../Chapters/06.AnomalyDetection.ipynb) - Anomaly Detection\n",
    "- [Chapters/07.Conclusions.ipynb](../Chapters/07.Conclusions.ipynb) - Conclusions and future considerations\n",
    "- [Chapters/08.Acknowledgements.ipynb](../Chapters/08.Acknowledgements.ipynb) - Acknowledgements\n",
    "- [Chapters/09.Appendices.ipynb](../Chapters/09.Appendices.ipynb) - Appendices\n",
    "\n",
    "Below are the links to all Extra Notebooks and Scripts referenced in this research:\n",
    "\n",
    "- [Notebooks/Extra.01.LiteratureReview.ipynb](../Notebooks/Extra.01.LiteratureReview.ipynb) - Literature Review code\n",
    "- [Notebooks/Extra.02.ExtractRawImageData.ipynb](../Notebooks/Extra.02.ExtractRawImageData.ipynb) - Extract Raw Image Data\n",
    "- [Notebooks/Extra.03.ObjectCount.ipynb](../Notebooks/Extra.03.ObjectCount.ipynb) - Counting Objects\n",
    "- [Notebooks/Extra.04.FetchWeatherData.ipynb](../Notebooks/Extra.04.FetchWeatherData.ipynb) - Fetch Weather Data\n",
    "- [Notebooks/Extra.05.Person-EDA-Forecast.ipynb](../Notebooks/Extra.05.Person-EDA-Forecast.ipynb) - Person, EDA, Forecast\n",
    "- [Notebooks/Extra.06.Person-AnomalyDetectionForHourlyCounts.ipynb](../Notebooks/Extra.06.Person-AnomalyDetectionForHourlyCounts.ipynb) - Person, Anomaly Detection For Hourly Counts\n",
    "- [Notebooks/Extra.07.RawImagesAnomalyDetectionTraining.ipynb](../Notebooks/Extra.07.RawImagesAnomalyDetectionTraining.ipynb) - Raw Image Anomaly Detection Training\n",
    "- [Scripts/app.py](../Scripts/app.py) - Data Collection Pipeline script\n",
    "- [Scripts/train.py](../Scripts/train.py) - Forecast Training Script\n",
    "- [Scripts/predict.py](../Scripts/predict.py) - Generate Predictions Script"
   ]
  }
 ],
 "metadata": {
  "kernelspec": {
   "display_name": "Python 3",
   "language": "python",
   "name": "python3"
  },
  "language_info": {
   "codemirror_mode": {
    "name": "ipython",
    "version": 3
   },
   "file_extension": ".py",
   "mimetype": "text/x-python",
   "name": "python",
   "nbconvert_exporter": "python",
   "pygments_lexer": "ipython3",
   "version": "3.7.0"
  }
 },
 "nbformat": 4,
 "nbformat_minor": 4
}
