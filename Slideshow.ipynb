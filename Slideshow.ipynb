{
 "cells": [
  {
   "cell_type": "markdown",
   "metadata": {
    "hideCode": false,
    "hideOutput": false,
    "hidePrompt": false,
    "slideshow": {
     "slide_type": "slide"
    }
   },
   "source": [
    "<h1>Enriched Camera Monitoring System</h1>\n",
    "<h3 style=\"margin-top: 15px; margin-bottom: 10px;\">with Computer Vision and Machine Learning</h3>\n",
    "\n",
    "- **Student:** Adam Napora (18197892)\n",
    "- **Supervisor:** Alessio Benavoli\n",
    "- **Date:** 3rd September 2020"
   ]
  },
  {
   "cell_type": "markdown",
   "metadata": {
    "hideCode": false,
    "hidePrompt": false,
    "slideshow": {
     "slide_type": "slide"
    }
   },
   "source": [
    "## Introduction\n",
    "\n",
    "This research is a study of a Smart Camera Monitoring System.\n",
    "\n",
    "- **Initial goal:** Build a toy object detection project\n",
    "- **Key milestone:** (2019, in Limerick)\n",
    ">Can object detections be used to predict future events?\n",
    "- **Ultimate idea:** What are the opportunities to find anomalous signals, given the object detections, and the predictions?"
   ]
  },
  {
   "cell_type": "markdown",
   "metadata": {
    "hideCode": false,
    "hidePrompt": false,
    "slideshow": {
     "slide_type": "slide"
    }
   },
   "source": [
    "## Research Questions\n",
    "\n",
    "1. What is the level of complexity, required to build a fast, and reliable object detection pipeline, with the use of IOT devices and Computer Vision?\n",
    "2. Given the dataset with collected images, can the future object counts be accurately predicted via Machine Learning?\n",
    "3. Can Anomaly Detection algorithms help to recognize anomalous patterns in the object detection data?\n",
    "\n",
    "If goals are achieved, the final product should be generic, and applicable to other use cases (examples: predict traffic, tourist conjestion, or animal behaviour)."
   ]
  },
  {
   "cell_type": "markdown",
   "metadata": {
    "hideCode": false,
    "hidePrompt": false,
    "slideshow": {
     "slide_type": "slide"
    }
   },
   "source": [
    "## Methodology\n",
    "\n",
    "- Data Collection\n",
    "- Prediction of Future Events\n",
    "- Anomaly Detection\n",
    "- Tools/Technology used"
   ]
  },
  {
   "cell_type": "markdown",
   "metadata": {
    "slideshow": {
     "slide_type": "subslide"
    }
   },
   "source": [
    "## Data Collection - System Diagram\n",
    "\n",
    "<center style=\"margin-top: 40px;\">\n",
    "    <img src=\"./Resources/img/zmq.png\"/>\n",
    "</center>"
   ]
  },
  {
   "cell_type": "markdown",
   "metadata": {
    "slideshow": {
     "slide_type": "subslide"
    }
   },
   "source": [
    "## Data Collection - Hardware\n",
    "\n",
    "<div class=\"row\">\n",
    "  <div class=\"col-md-6\" style=\"padding-top: 40px;\">\n",
    "    <ol>\n",
    "      <li>Set up Networking:\n",
    "      <ul>\n",
    "          <li><strong>Ethernet</strong></li>\n",
    "          <li>Switches</li>\n",
    "          <li>Static IP Addresses</li>\n",
    "      </ul>\n",
    "      <li>Configure Hardware:</li>\n",
    "      <ul>\n",
    "        <li>Desktop PC (<strong>GPU</strong>)</li>\n",
    "        <li>Raspberry PI (+ Pi Camera)</li>\n",
    "      </ul>\n",
    "    </ol>\n",
    "  </div>\n",
    "  <div class=\"col-md-6 center-block\" style=\"position: relative;\">\n",
    "    <img src=\"Resources/img/rpi-cam.png\"\n",
    "         style=\"position: absolute; bottom: 25%;\n",
    "                right: 10%; width: 45%;\"/>\n",
    "    <img class=\"\"\n",
    "         src=\"./Resources/img/rpi-cam2.png\"\n",
    "         style=\"width: 70%;\"/>\n",
    "  </div>\n",
    "</div>"
   ]
  },
  {
   "cell_type": "markdown",
   "metadata": {
    "slideshow": {
     "slide_type": "subslide"
    }
   },
   "source": [
    "## Data Collection - Frame Processing\n",
    "\n",
    "Data pipeline for each frame received by the Desktop PC:\n",
    "\n",
    "<center style=\"margin-top: 40px;\">\n",
    "    <img src=\"./Resources/img/obj-detection-simple.png\"/>\n",
    "</center>"
   ]
  },
  {
   "cell_type": "markdown",
   "metadata": {
    "slideshow": {
     "slide_type": "subslide"
    }
   },
   "source": [
    "## Prediction of Future Events\n",
    "\n",
    "- Prepare data\n",
    "    - Clean up\n",
    "    - Extract detections from saved images (Yolo, OpenCV)\n",
    "    - Count objects in a time interval (Euclidean Distance)\n",
    "    - Fetch Weather data\n",
    "- Train supervised Machine Learning algorithm (**Poisson** loss)\n",
    "- Use model to generate predictions:\n",
    "    - How many `people` will show between `7AM and 8AM`, on `Saturday`, given a `sunny` and `warm` day?\n",
    "    - Predictions are the probabilities for each count: $\\{0,1,2, ... ,10\\}$"
   ]
  },
  {
   "cell_type": "markdown",
   "metadata": {
    "slideshow": {
     "slide_type": "subslide"
    }
   },
   "source": [
    "## Anomaly Detection\n",
    "\n",
    "- Hourly threshold estimation\n",
    "    - **Problem:** What is count of objects of specific type (Person, Vehicle), allowed to show in a single hour\n",
    "    - **Solution:** Estimate a maximum threshold via probabilistic programming (pymc3)\n",
    "- Raw image classification\n",
    "    - **Problem:** How to determine, if frames from camera contain anomalous content\n",
    "    - **Solution:** Unsupervised Machine Leaning problem, Convolutional Auto-Encoder (trained via Deep Learning library Keras)"
   ]
  },
  {
   "cell_type": "markdown",
   "metadata": {
    "slideshow": {
     "slide_type": "subslide"
    }
   },
   "source": [
    "## Tools / Software used\n",
    "\n",
    "- **Python3** - primary programming language\n",
    "- **Jupyter Notebooks** - experiments and dissertation\n",
    "- **Python libraries**:\n",
    "    - **Pandas, Numpy** - data processing and manipulation\n",
    "    - **OpenCV** - Computer Vision\n",
    "    - **Plotly** - Data visualization\n",
    "    - **Pymc3** - Bayesian programming\n",
    "    - **GPy** - Gaussian Process\n",
    "    - **Sklearn** - Machine Learning\n",
    "    - **Keras** - Deep Learning\n",
    "    - **ImageZMQ** - Message Queue\n",
    "- **VueJS** - JavaScript framework for scalable UI's"
   ]
  },
  {
   "cell_type": "markdown",
   "metadata": {
    "hideCode": false,
    "hidePrompt": false,
    "slideshow": {
     "slide_type": "slide"
    }
   },
   "source": [
    "## Contributions\n",
    "\n",
    "There seems to be a gap in the literature, where Object Detection, Forecasting and Anomaly Detection techniques are combined in a coherent study (with practical application for Camera Monitoring).\n",
    "\n",
    "- Object detections, are a valuable data asset, and can be utilized for various purposes\n",
    "- Two proposed methods to handle anomaly detection, have the potential to detect anomalies from the image data\n",
    "- Any person, with some Computer Science skills, should be able to set up their own system, and boost security (source code from this research is on [Github](https://github.com/Alchemication/cvdl-for-home))"
   ]
  },
  {
   "cell_type": "markdown",
   "metadata": {
    "hideCode": false,
    "hidePrompt": false,
    "slideshow": {
     "slide_type": "slide"
    }
   },
   "source": [
    "## Results\n",
    "\n",
    "#### TODO:\n",
    "\n",
    "- Reliable Object Detection pipeline is a highly complex task (challenges)\n",
    "\n",
    "- Forecasting results (methods & stats)\n",
    "\n",
    "- Anomaly detection results (methods & stats)"
   ]
  },
  {
   "cell_type": "markdown",
   "metadata": {
    "hideCode": false,
    "hidePrompt": false,
    "slideshow": {
     "slide_type": "slide"
    }
   },
   "source": [
    "## Limitations\n",
    "\n",
    "- System not tested yet in another location (generalization)\n",
    "- Utilized camera type is basic (lack of night vision capability, or waterproof case)\n",
    "- Limited forecast accuracy is somewhat limited (stochastic process)\n",
    "- An alternative source of power is not available (loss in power means loss in data)"
   ]
  },
  {
   "cell_type": "markdown",
   "metadata": {
    "hideCode": false,
    "hidePrompt": false,
    "slideshow": {
     "slide_type": "slide"
    }
   },
   "source": [
    "## Suggested Improvements\n",
    "\n",
    "- Develop a Minimum Viable Product, to identify incorrect assumptions, and potential weaknesses\n",
    "- Incorporate **ethics** and privacy protection\n",
    "- Deploy in another household\n",
    "- Improve objects counting technique\n",
    "- Try another camera (night vision, waterproof)\n",
    "\n",
    "- And many other ..."
   ]
  },
  {
   "cell_type": "markdown",
   "metadata": {
    "slideshow": {
     "slide_type": "slide"
    }
   },
   "source": [
    "## Demo\n",
    "\n",
    "- data collection\n",
    "    - set up message queue on the server\n",
    "    - start streaming from R-Pi\n",
    "    - show UI and command line in the backgroung\n",
    "- forecast:\n",
    "    - training\n",
    "    - generate predictions\n",
    "    - show how predictions have updated in UI\n",
    "    - toggle forecast mode and explain sections\n",
    "- todo:\n",
    "    - anomaly detection (code exists in the Notebooks)"
   ]
  }
 ],
 "metadata": {
  "celltoolbar": "Slideshow",
  "hide_code_all_hidden": false,
  "kernelspec": {
   "display_name": "Python 3",
   "language": "python",
   "name": "python3"
  },
  "language_info": {
   "codemirror_mode": {
    "name": "ipython",
    "version": 3
   },
   "file_extension": ".py",
   "mimetype": "text/x-python",
   "name": "python",
   "nbconvert_exporter": "python",
   "pygments_lexer": "ipython3",
   "version": "3.7.0"
  },
  "rise": {
   "enable_chalkboard": true,
   "theme": "simple"
  }
 },
 "nbformat": 4,
 "nbformat_minor": 4
}
