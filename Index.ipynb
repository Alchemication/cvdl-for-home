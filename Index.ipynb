{
 "cells": [
  {
   "cell_type": "markdown",
   "metadata": {},
   "source": [
    "<a id='home'></a>\n",
    "<div style=\"text-align: center;\">\n",
    "    <br>\n",
    "    <br>\n",
    "    <h1 style=\"text-align: center;\">Enriched Camera Monitoring System</h1>\n",
    "    <h3 style=\"text-align: center;\">with Computer Vision and Machine Learning</h3>\n",
    "    <br>\n",
    "</div>"
   ]
  },
  {
   "cell_type": "markdown",
   "metadata": {},
   "source": [
    "<img src=\"Resources/img/logo-1000-ul.png\" style=\"width: 40%;\"/>"
   ]
  },
  {
   "cell_type": "markdown",
   "metadata": {},
   "source": [
    "<div style=\"text-align: center;\">\n",
    "    <br>\n",
    "    <h3 style=\"text-align: center;\">Adam Napora (Student 18197892)</h3>\n",
    "    <h3 style=\"text-align: center;\">14 June 2020</h3>\n",
    "    <br>\n",
    "    <br>\n",
    "    <br>\n",
    "    <br>\n",
    "</div>"
   ]
  },
  {
   "cell_type": "markdown",
   "metadata": {},
   "source": [
    "# Abstract\n",
    "\n",
    "TBD. This section will be written as one of the last pieces. Include:\n",
    "\n",
    "- Aim and objectives: What are the main themes, ideas or areas of theory being investigated?\n",
    "- Boundaries: What is the context and background to this dissertation? In what areas of theory or business practice should the reader concentrate their attention?\n",
    "- Methodology: What was/were the main method(s) employed to generate the results?\n",
    "- Results: What were your main findings?\n",
    "- Conclusions: What are the main conclusions that you arrive at when viewing the entire dissertation?\n",
    "- Recommendations: (if appropriate) What solutions do you offer in answer to the problems posed in the research objectives?"
   ]
  },
  {
   "cell_type": "markdown",
   "metadata": {
    "toc-hr-collapsed": true,
    "toc-nb-collapsed": true
   },
   "source": [
    "# Table of Contents\n",
    "\n",
    "1. [Introduction and Outline](./Chapters/01.Introduction.ipynb)\n",
    "2. [Literature Review (of Similar Work)](./Chapters/02.LiteratureReview.ipynb)\n",
    "3. [High level System Design](./Chapters/03.SystemDesign.ipynb)\n",
    "4. [Data Collection and Pre-Processing](./Chapters/04.DataCollection.ipynb)\n",
    "    - 4.1. Summary\n",
    "    - 4.2. Hardware setup/Networking\n",
    "    - 4.3. Video Frame capture\n",
    "    - 4.4. Object Counting\n",
    "5. [Forecasting](./Chapters/05.Forecasting.ipynb)\n",
    "    - 5.1. Summary and Results\n",
    "    - 5.2. Methodology\n",
    "    - 5.3. Conclusion\n",
    "6. [Anomaly Detection](./Chapters/06.AnomalyDetection.ipynb)\n",
    "    - 6.1. Summary and Results\n",
    "    - 6.2. Methodology\n",
    "        - 6.2.1. Hourly Counts\n",
    "        - 6.2.2. Raw Image Data\n",
    "    - 6.3. Conclusion\n",
    "7. [Conclusions and future considerations](./Chapters/07.Conclusions.ipynb)\n",
    "8. [References](./Chapters/08.References.ipynb)\n",
    "9. [Acknowledgements](./Chapters/09.Acknowledgements.ipynb)\n",
    "10. [Appendices](./Chapters/10.Appendices.ipynb)"
   ]
  }
 ],
 "metadata": {
  "kernelspec": {
   "display_name": "Python 3",
   "language": "python",
   "name": "python3"
  },
  "language_info": {
   "codemirror_mode": {
    "name": "ipython",
    "version": 3
   },
   "file_extension": ".py",
   "mimetype": "text/x-python",
   "name": "python",
   "nbconvert_exporter": "python",
   "pygments_lexer": "ipython3",
   "version": "3.7.0"
  },
  "toc-autonumbering": false
 },
 "nbformat": 4,
 "nbformat_minor": 4
}
