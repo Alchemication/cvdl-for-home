{
 "cells": [
  {
   "cell_type": "markdown",
   "metadata": {},
   "source": [
    "<a id='home'></a>\n",
    "<div style=\"text-align: center;\">\n",
    "    <br>\n",
    "    <br>\n",
    "    <h1>Computer Vision and Machine Learning</h1>\n",
    "    <h2>for Anomaly Detection in Home Monitoring System</h2>\n",
    "    <br>\n",
    "</div>"
   ]
  },
  {
   "cell_type": "markdown",
   "metadata": {},
   "source": [
    "<img src=\"Resources/img/logo-1000-ul.png\" style=\"width: 40%;\"/>"
   ]
  },
  {
   "cell_type": "markdown",
   "metadata": {},
   "source": [
    "<div style=\"text-align: center;\">\n",
    "    <br>\n",
    "    <h3>Adam Napora (Student 18197892)</h3>\n",
    "    <h3>14 June 2020</h3>\n",
    "    <br>\n",
    "</div>"
   ]
  },
  {
   "cell_type": "markdown",
   "metadata": {},
   "source": [
    "# Abstract\n",
    "\n",
    "TBD, Include:\n",
    "\n",
    "- Aim and objectives: What are the main themes, ideas or areas of theory being investigated?\n",
    "- Boundaries: What is the context and background to this dissertation? In what areas of theory or business practice should the reader concentrate their attention?\n",
    "- Methodology: What was/were the main method(s) employed to generate the results?\n",
    "- Results: What were your main findings?\n",
    "- Conclusions: What are the main conclusions that you arrive at when viewing the entire dissertation?\n",
    "- Recommendations: (if appropriate) What solutions do you offer in answer to the problems posed in the research objectives?"
   ]
  },
  {
   "cell_type": "markdown",
   "metadata": {
    "toc-hr-collapsed": true,
    "toc-nb-collapsed": true
   },
   "source": [
    "# Table of Contents\n",
    "\n",
    "1. [Introduction and Outline](./Chapters/Introduction.ipynb#intro_1)\n",
    "2. [Literature Review (of Similar Work)](./Chapters/LiteratureReview.ipynb)\n",
    "3. Analytical Background/Requirements Analysis\n",
    "4. High level System Design\n",
    "5. Data Collection/Pre-Processing\n",
    "6. Forecasting\n",
    "7. Anomaly Detection\n",
    "8. [Conclusions and future considerations](./Chapters/Conclusions.ipynb)\n",
    "9. References\n",
    "10. Acknowledgements\n",
    "11. Appendices"
   ]
  },
  {
   "cell_type": "code",
   "execution_count": null,
   "metadata": {},
   "outputs": [],
   "source": []
  }
 ],
 "metadata": {
  "kernelspec": {
   "display_name": "Python 3",
   "language": "python",
   "name": "python3"
  },
  "language_info": {
   "codemirror_mode": {
    "name": "ipython",
    "version": 3
   },
   "file_extension": ".py",
   "mimetype": "text/x-python",
   "name": "python",
   "nbconvert_exporter": "python",
   "pygments_lexer": "ipython3",
   "version": "3.7.0"
  },
  "toc-autonumbering": false
 },
 "nbformat": 4,
 "nbformat_minor": 4
}
