{
 "cells": [
  {
   "cell_type": "markdown",
   "metadata": {
    "slideshow": {
     "slide_type": "slide"
    }
   },
   "source": [
    "<a id='home'></a>\n",
    "<div style=\"text-align: center;\">\n",
    "    <br>\n",
    "    <br>\n",
    "    <h1 style=\"text-align: center;\">Enriched Camera Monitoring System</h1>\n",
    "    <h3 style=\"text-align: center;\">with Computer Vision and Machine Learning</h3>\n",
    "    <br>\n",
    "</div>"
   ]
  },
  {
   "cell_type": "markdown",
   "metadata": {},
   "source": [
    "<img src=\"Resources/img/logo-1000-ul.png\" style=\"width: 40%;\"/>"
   ]
  },
  {
   "cell_type": "markdown",
   "metadata": {},
   "source": [
    "<div style=\"text-align: center;\">\n",
    "    <br>\n",
    "    <h3 style=\"text-align: center;\">Adam Napora (Student 18197892)</h3>\n",
    "    <h3 style=\"text-align: center;\">15 July 2020</h3>\n",
    "    <br>\n",
    "    <br>\n",
    "    <br>\n",
    "    <br>\n",
    "</div>"
   ]
  },
  {
   "cell_type": "markdown",
   "metadata": {},
   "source": [
    "# Abstract\n",
    "\n",
    "The objective of this research is to find the most useful algorithms in a Camera Monitoring System, which facilitate robust data collection pipeline, ability to make predictions for future events, and identification of anomalous situations.\n",
    "\n",
    "There are countless papers and articles about the low level components, like Computer Vision, Machine Learning and Anomaly Detection algorithms, however it is very challenging to find a coherent study about a reliable, scalable and generalizable end-to-end process to link all these techniques in a Real Time Video Stream scenario.\n",
    "\n",
    "Following the data flow, this study is composed of three main domains:\n",
    "- data collection\n",
    "- predictions for future events\n",
    "- anomaly detection\n",
    "\n",
    "Even though the final results gathered as part of this study are not perfect, they show that low cost IOT ([Internet Of Things](https://en.wikipedia.org/wiki/Internet_of_things)) devices, like Raspberry Pi, can be utilized for reliable data collection, probabilistic Machine Learning models can be developed to predict future events, and Deep Learning and probabilistic methods can be deployed to find anomalous signals in the image data.\n",
    "\n",
    "The recommendation for the reader is to review a Table of Contents below, an [Introduction](./01.Introduction.ipynb) and the [Conclusion](07.Conclusions.ipynb) Chapters, and then dive into the methodology chapters (3,4,5,6).\n",
    "\n",
    "Often code snippets are easier to relate to than mathematical, statistical, or computer science terminology, and therefore there is a suite of accompanying *Extra Notebooks* with well documented Python source code, which are referenced through out the text."
   ]
  },
  {
   "cell_type": "markdown",
   "metadata": {},
   "source": [
    "# Table of Contents\n",
    "\n",
    "1. [Introduction and Outline](./Chapters/01.Introduction.ipynb)\n",
    "    - 1.1. Background\n",
    "    - 1.2. This Research\n",
    "    - 1.3. Limitations\n",
    "    - 1.4. Guidelines for reader\n",
    "2. [Literature Review](./Chapters/02.LiteratureReview.ipynb)\n",
    "    - 2.1. Data Collection\n",
    "        - 2.1.1. Motion Detection\n",
    "        - 2.1.2. Object Detection\n",
    "        - 2.1.3. Conclusion\n",
    "    - 2.2. Forecasting\n",
    "        - 2.2.1. Decision Tree Regressor\n",
    "        - 2.2.2. Gradient Boosting Regressor Tree\n",
    "        - 2.2.3. Gaussian Process\n",
    "        - 2.2.4. Conclusion\n",
    "    - 2.3. Auto-encoders for Anomaly Detection\n",
    "    - 2.4. Conclusion\n",
    "3. [High level System Design](./Chapters/03.SystemDesign.ipynb)\n",
    "    - 3.1. Real time frames processing\n",
    "    - 3.2. Batch processing\n",
    "    - 3.3. Conclusion\n",
    "4. [Data Collection and Pre-Processing](./Chapters/04.DataCollection.ipynb)\n",
    "    - 4.1. Physical layer (hardware)\n",
    "        - 4.1.1. Choosing hardware\n",
    "        - 4.1.2. Connectivity\n",
    "        - 4.1.3. Camera location\n",
    "        - 4.1.4. Redundancy\n",
    "    - 4.2. Logical layer (software)\n",
    "        - 4.2.1. Video streams\n",
    "        - 4.2.2. Frame life-cycle (+ object detection)\n",
    "    - 4.3. Results\n",
    "    - 4.4. Conclusion\n",
    "5. [Forecasting](./Chapters/05.Forecasting.ipynb)\n",
    "    - 5.1. Extract raw image data\n",
    "    - 5.2. Count objects in frame sequences\n",
    "    - 5.3. Further data preparation\n",
    "    - 5.4. Weather data\n",
    "    - 5.5. EDA\n",
    "    - 5.6. Predicting counts\n",
    "        - 5.6.1. Naive model\n",
    "        - 5.6.2. Machine Learning\n",
    "        - 5.6.3. Feature Selection\n",
    "        - 5.6.4. Decision Tree\n",
    "        - 5.6.5. Gradient Boosting Regressor Tree\n",
    "        - 5.6.6. Gaussian Process\n",
    "    - 5.7. Conclusion\n",
    "6. [Anomaly Detection](./Chapters/06.AnomalyDetection.ipynb)\n",
    "    - 6.1. Anomalies estimated from event counts\n",
    "        - 6.1.1. IQR\n",
    "        - 6.1.2. Adjusted box-plot for skewed distributions\n",
    "        - 6.1.2. Z-Score\n",
    "        - 6.1.3. Probabilistic method\n",
    "        - 6.1.4. Summary\n",
    "    - 6.2. Anomalies estimated from camera frames content\n",
    "        - 6.2.1. Computer Vision for image pre-processing\n",
    "        - 6.2.2. Training with auto encoder\n",
    "        - 6.2.3. Model evaluation on test-set\n",
    "        - 6.2.4. Model evaluation on hand-labeled data\n",
    "        - 6.2.5. Summary\n",
    "    - 6.3. Conclusion\n",
    "7. [Conclusion and future considerations](./Chapters/07.Conclusions.ipynb)\n",
    "8. [References](./Chapters/08.References.ipynb)\n",
    "9. [Acknowledgements](./Chapters/09.Acknowledgements.ipynb)\n",
    "10. [Appendices](./Chapters/10.Appendices.ipynb)"
   ]
  },
  {
   "cell_type": "markdown",
   "metadata": {},
   "source": [
    "# Keywords\n",
    "\n",
    "Computer Vision, Deep Learning, Supervised Machine Learning, Video Streaming, Unsupervised Machine Learning, Internet of Things (IOT), Neural Networks, Probabilistic Programming, Anomaly Detection, Forecasting, Data Processing, Message Queues, Jupyter Notebooks, Poisson Distributions, Python, Exploratory Data Analysis, Feature Selection."
   ]
  }
 ],
 "metadata": {
  "kernelspec": {
   "display_name": "Python 3",
   "language": "python",
   "name": "python3"
  },
  "language_info": {
   "codemirror_mode": {
    "name": "ipython",
    "version": 3
   },
   "file_extension": ".py",
   "mimetype": "text/x-python",
   "name": "python",
   "nbconvert_exporter": "python",
   "pygments_lexer": "ipython3",
   "version": "3.7.0"
  },
  "toc-autonumbering": false
 },
 "nbformat": 4,
 "nbformat_minor": 4
}
