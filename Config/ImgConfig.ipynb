{
 "cells": [
  {
   "cell_type": "code",
   "execution_count": 1,
   "metadata": {},
   "outputs": [
    {
     "data": {
      "text/html": [
       "<style>\n",
       ".jp-OutputArea-output {display: table-cell;text-align: center !important;vertical-align: middle !important;}\n",
       ".jp-OutputArea-output img {width: 70% !important;}\n",
       ".pagebreak {page-break-after: always;}\n",
       "</style>"
      ],
      "text/plain": [
       "<IPython.core.display.HTML object>"
      ]
     },
     "execution_count": 1,
     "metadata": {},
     "output_type": "execute_result"
    }
   ],
   "source": [
    "# import drawing images\n",
    "from IPython.display import Image\n",
    "\n",
    "# make sure images are centered and not full screen\n",
    "from IPython.core.display import HTML\n",
    "HTML(\"\"\"<style>\n",
    ".jp-OutputArea-output {display: table-cell;text-align: center !important;vertical-align: middle !important;}\n",
    ".jp-OutputArea-output img {width: 70% !important;}\n",
    ".pagebreak {page-break-after: always;}\n",
    "</style>\"\"\")"
   ]
  },
  {
   "cell_type": "code",
   "execution_count": null,
   "metadata": {},
   "outputs": [],
   "source": []
  }
 ],
 "metadata": {
  "kernelspec": {
   "display_name": "Python 3",
   "language": "python",
   "name": "python3"
  },
  "language_info": {
   "codemirror_mode": {
    "name": "ipython",
    "version": 3
   },
   "file_extension": ".py",
   "mimetype": "text/x-python",
   "name": "python",
   "nbconvert_exporter": "python",
   "pygments_lexer": "ipython3",
   "version": "3.7.0"
  }
 },
 "nbformat": 4,
 "nbformat_minor": 4
}
