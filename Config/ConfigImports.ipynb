{
 "cells": [
  {
   "cell_type": "markdown",
   "metadata": {},
   "source": [
    "# Libraries and Configuration"
   ]
  },
  {
   "cell_type": "code",
   "execution_count": 2,
   "metadata": {},
   "outputs": [],
   "source": [
    "import os\n",
    "import numpy as np\n",
    "from sklearn.model_selection import train_test_split\n",
    "from sklearn.metrics import (mean_squared_error, r2_score,\n",
    "                             mean_poisson_deviance,\n",
    "                             mean_absolute_error, accuracy_score)\n",
    "from sklearn.preprocessing import MinMaxScaler, StandardScaler\n",
    "from sklearn.model_selection import KFold\n",
    "import requests\n",
    "from datetime import datetime\n",
    "from tqdm.notebook import tqdm\n",
    "import nmap\n",
    "from scipy.spatial import distance as dist\n",
    "from imutils import build_montages\n",
    "import cv2\n",
    "import pickle\n",
    "import time\n",
    "from datetime import datetime as dt\n",
    "import tensorflow as tf\n",
    "\n",
    "import pandas as pd\n",
    "pd.set_option('display.max_rows', 500)\n",
    "pd.set_option('display.max_columns', 500)\n",
    "pd.set_option('display.width', 1000)\n",
    "pd.set_option('max_colwidth', 80)\n",
    "\n",
    "# import drawing images\n",
    "from IPython.display import Image\n",
    "\n",
    "# make sure images are centered and not full screen\n",
    "from IPython.core.display import HTML\n",
    "HTML(\"\"\"\n",
    "<style>\n",
    ".jp-OutputArea-output {\n",
    "    display: table-cell;\n",
    "    text-align: center !important;\n",
    "    vertical-align: middle !important;\n",
    "}\n",
    ".jp-OutputArea-output img {\n",
    "    width: 70% !important;\n",
    "}\n",
    "</style>\n",
    "\"\"\")\n",
    "\n",
    "import matplotlib.pyplot as plt\n",
    "from pylab import rcParams\n",
    "import seaborn as sns\n",
    "%matplotlib inline\n",
    "sns.set_style('whitegrid')\n",
    "\n",
    "import plotly.graph_objects as go\n",
    "import plotly.express as px\n",
    "import plotly.io as pio\n",
    "from plotly.subplots import make_subplots\n",
    "pio.templates.default = 'plotly_white'  # 'plotly' | 'plotly_dark'\n",
    "pio.renderers.default = \"jupyterlab\"  # 'svg' | 'jupyterlab'"
   ]
  },
  {
   "cell_type": "code",
   "execution_count": 6,
   "metadata": {},
   "outputs": [],
   "source": [
    "CONFIG = {\n",
    "    'IMG_BASE_DIR': '/data/security_cam_detections_v2/Front-Parking',\n",
    "    'DOWNTIME_DATES': ['2020-01-13', '2020-01-14', '2020-02-28'],\n",
    "    'RANDOM_STATE': 42\n",
    "}"
   ]
  },
  {
   "cell_type": "code",
   "execution_count": 2,
   "metadata": {},
   "outputs": [],
   "source": [
    "# GPU code only, skip if no GPU is available!\n",
    "# make sure we don't run out of memory by running multiple Notebooks together\n",
    "# https://www.tensorflow.org/api_docs/python/tf/config/experimental/set_memory_growth\n",
    "physical_devices = tf.config.list_physical_devices('GPU') \n",
    "try:\n",
    "    # print('TF -> Using GPU -> ', physical_devices[0])\n",
    "    tf.config.experimental.set_memory_growth(physical_devices[0], True) \n",
    "except Exception as e: \n",
    "    # Invalid device or cannot modify virtual devices once initialized. \n",
    "    print('GPU Error, if you have no GPU it is not a problem', e)\n",
    "    pass"
   ]
  },
  {
   "cell_type": "code",
   "execution_count": 3,
   "metadata": {},
   "outputs": [],
   "source": [
    "# define reusable functions here\n",
    "def plt_loss(train_loss, val_loss):\n",
    "    \"\"\"\n",
    "    Construct the multi scatter plot to show training and validation loss curves\n",
    "    Parameters\n",
    "    ----------\n",
    "    train_loss : list, numpy array or similar\n",
    "    val_loss : list, numpy array or similar\n",
    "    \"\"\"\n",
    "    fig = go.Figure()\n",
    "    fig.add_trace(go.Scatter(y=train_loss, name='Training Loss', mode='lines'))\n",
    "    fig.add_trace(go.Scatter(y=val_loss, name='Validation Loss', mode='lines'))\n",
    "    fig.update_layout(title='Training Loss', height=375, width=600, xaxis_title=\"Epoch\",\n",
    "                      yaxis_title=\"Loss\")\n",
    "    fig.show()"
   ]
  },
  {
   "cell_type": "code",
   "execution_count": null,
   "metadata": {},
   "outputs": [],
   "source": []
  }
 ],
 "metadata": {
  "kernelspec": {
   "display_name": "Python 3",
   "language": "python",
   "name": "python3"
  },
  "language_info": {
   "codemirror_mode": {
    "name": "ipython",
    "version": 3
   },
   "file_extension": ".py",
   "mimetype": "text/x-python",
   "name": "python",
   "nbconvert_exporter": "python",
   "pygments_lexer": "ipython3",
   "version": "3.7.0"
  }
 },
 "nbformat": 4,
 "nbformat_minor": 4
}
